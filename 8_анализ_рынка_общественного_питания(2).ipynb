{
 "cells": [
  {
   "cell_type": "markdown",
   "metadata": {
    "toc": true
   },
   "source": [
    "<h1>План исследования<span class=\"tocSkip\"></span></h1>\n",
    "<div class=\"toc\"><ul class=\"toc-item\"><li><span><a href=\"#Шаг-1.-Подготовка-данных\" data-toc-modified-id=\"Шаг-1.-Подготовка-данных-1\">Шаг 1. Подготовка данных</a></span></li><li><span><a href=\"#Шаг-2.-Анализ-данных\" data-toc-modified-id=\"Шаг-2.-Анализ-данных-2\">Шаг 2. Анализ данных</a></span><ul class=\"toc-item\"><li><span><a href=\"#2.1.-Исследуем-соотношение-видов-объектов-общественного-питания-по-количеству.\" data-toc-modified-id=\"2.1.-Исследуем-соотношение-видов-объектов-общественного-питания-по-количеству.-2.1\">2.1. Исследуем соотношение видов объектов общественного питания по количеству.</a></span></li><li><span><a href=\"#2.2.-Исследуем-соотношение-сетевых-и-несетевых-заведений-по-количеству.\" data-toc-modified-id=\"2.2.-Исследуем-соотношение-сетевых-и-несетевых-заведений-по-количеству.-2.2\">2.2. Исследуем соотношение сетевых и несетевых заведений по количеству.</a></span></li><li><span><a href=\"#2.3.-Для-какого-вида-объекта-общественного-питания-характерно-сетевое-распространение?\" data-toc-modified-id=\"2.3.-Для-какого-вида-объекта-общественного-питания-характерно-сетевое-распространение?-2.3\">2.3. Для какого вида объекта общественного питания характерно сетевое распространение?</a></span></li><li><span><a href=\"#2.4.-Что-характерно-для-сетевых-заведений:-много-заведений-с-небольшим-числом-посадочных-мест-в-каждом-или-мало-заведений-с-большим-количеством-посадочных-мест?\" data-toc-modified-id=\"2.4.-Что-характерно-для-сетевых-заведений:-много-заведений-с-небольшим-числом-посадочных-мест-в-каждом-или-мало-заведений-с-большим-количеством-посадочных-мест?-2.4\">2.4. Что характерно для сетевых заведений: много заведений с небольшим числом посадочных мест в каждом или мало заведений с большим количеством посадочных мест?</a></span></li><li><span><a href=\"#2.5.-Какой-вид-предоставляет-в-среднем-самое-большое-количество-посадочных-мест?\" data-toc-modified-id=\"2.5.-Какой-вид-предоставляет-в-среднем-самое-большое-количество-посадочных-мест?-2.5\">2.5. Какой вид предоставляет в среднем самое большое количество посадочных мест?</a></span></li><li><span><a href=\"#2.6.-Выделим-в-отдельный-столбец-информацию-об-улице.\" data-toc-modified-id=\"2.6.-Выделим-в-отдельный-столбец-информацию-об-улице.-2.6\">2.6. Выделим в отдельный столбец информацию об улице.</a></span></li><li><span><a href=\"#2.7.-Построим-график-топ-10-улиц-по-количеству-объектов-общественного-питания.-Выясним,-в-каких-районах-Москвы-находятся-эти-улицы.\" data-toc-modified-id=\"2.7.-Построим-график-топ-10-улиц-по-количеству-объектов-общественного-питания.-Выясним,-в-каких-районах-Москвы-находятся-эти-улицы.-2.7\">2.7. Построим график топ-10 улиц по количеству объектов общественного питания. Выясним, в каких районах Москвы находятся эти улицы.</a></span></li><li><span><a href=\"#2.8.-Найдем-число-улиц-с-одним-объектом-общественного-питания.-Выясним,-в-каких-районах-Москвы-находятся-эти-улицы.\" data-toc-modified-id=\"2.8.-Найдем-число-улиц-с-одним-объектом-общественного-питания.-Выясним,-в-каких-районах-Москвы-находятся-эти-улицы.-2.8\">2.8. Найдем число улиц с одним объектом общественного питания. Выясним, в каких районах Москвы находятся эти улицы.</a></span></li><li><span><a href=\"#2.9.-Рассмотрим-распределение-количества-посадочных-мест-для-улиц-с-большим-количеством-объектов-общественного-питания-и-выявить-закономерности.\" data-toc-modified-id=\"2.9.-Рассмотрим-распределение-количества-посадочных-мест-для-улиц-с-большим-количеством-объектов-общественного-питания-и-выявить-закономерности.-2.9\">2.9. Рассмотрим распределение количества посадочных мест для улиц с большим количеством объектов общественного питания и выявить закономерности.</a></span></li></ul></li><li><span><a href=\"#Шаг-3.Общий-вывод\" data-toc-modified-id=\"Шаг-3.Общий-вывод-3\">Шаг 3.Общий вывод</a></span><ul class=\"toc-item\"><li><span><a href=\"#3.1.Рекомендации\" data-toc-modified-id=\"3.1.Рекомендации-3.1\">3.1.Рекомендации</a></span></li></ul></li></ul></div>"
   ]
  },
  {
   "cell_type": "markdown",
   "metadata": {},
   "source": [
    "# Анализ рынка общественного питания"
   ]
  },
  {
   "cell_type": "markdown",
   "metadata": {},
   "source": [
    "Нам необходимо проанализировать рынок общественного питания в Москве, чтобы понять какого типа заведение можно открыть, где территориально и сколько людей оно сможет вместить. У нас есть открытые данные о заведениях общественного питания в Москве, с помощью которых мы проведем наше исследование."
   ]
  },
  {
   "cell_type": "markdown",
   "metadata": {},
   "source": [
    "[Презентация](https://drive.google.com/file/d/1Jd8U1SLUlS1a7FeIurEDAbtG_rNjj85i/view?usp=sharing)\n"
   ]
  },
  {
   "cell_type": "markdown",
   "metadata": {},
   "source": [
    "## Шаг 1. Подготовка данных "
   ]
  },
  {
   "cell_type": "markdown",
   "metadata": {},
   "source": [
    "Импортируем все необходимые нам библиотеки. Затем выгрузим таблицу, с данными которой мы будем работать, дадим ей название **rest_data**."
   ]
  },
  {
   "cell_type": "code",
   "execution_count": 1,
   "metadata": {},
   "outputs": [],
   "source": [
    "import pandas as pd\n",
    "import numpy as np\n",
    "import matplotlib.pyplot as plt\n",
    "import seaborn as sns\n",
    "import plotly.express as px \n",
    "from plotly import graph_objects as go\n",
    "import requests\n",
    "import re"
   ]
  },
  {
   "cell_type": "code",
   "execution_count": 2,
   "metadata": {},
   "outputs": [
    {
     "data": {
      "text/html": [
       "<div>\n",
       "<style scoped>\n",
       "    .dataframe tbody tr th:only-of-type {\n",
       "        vertical-align: middle;\n",
       "    }\n",
       "\n",
       "    .dataframe tbody tr th {\n",
       "        vertical-align: top;\n",
       "    }\n",
       "\n",
       "    .dataframe thead th {\n",
       "        text-align: right;\n",
       "    }\n",
       "</style>\n",
       "<table border=\"1\" class=\"dataframe\">\n",
       "  <thead>\n",
       "    <tr style=\"text-align: right;\">\n",
       "      <th></th>\n",
       "      <th>id</th>\n",
       "      <th>object_name</th>\n",
       "      <th>chain</th>\n",
       "      <th>object_type</th>\n",
       "      <th>address</th>\n",
       "      <th>number</th>\n",
       "    </tr>\n",
       "  </thead>\n",
       "  <tbody>\n",
       "    <tr>\n",
       "      <th>0</th>\n",
       "      <td>151635</td>\n",
       "      <td>СМЕТАНА</td>\n",
       "      <td>нет</td>\n",
       "      <td>кафе</td>\n",
       "      <td>город Москва, улица Егора Абакумова, дом 9</td>\n",
       "      <td>48</td>\n",
       "    </tr>\n",
       "    <tr>\n",
       "      <th>1</th>\n",
       "      <td>77874</td>\n",
       "      <td>Родник</td>\n",
       "      <td>нет</td>\n",
       "      <td>кафе</td>\n",
       "      <td>город Москва, улица Талалихина, дом 2/1, корпус 1</td>\n",
       "      <td>35</td>\n",
       "    </tr>\n",
       "    <tr>\n",
       "      <th>2</th>\n",
       "      <td>24309</td>\n",
       "      <td>Кафе «Академия»</td>\n",
       "      <td>нет</td>\n",
       "      <td>кафе</td>\n",
       "      <td>город Москва, Абельмановская улица, дом 6</td>\n",
       "      <td>95</td>\n",
       "    </tr>\n",
       "    <tr>\n",
       "      <th>3</th>\n",
       "      <td>21894</td>\n",
       "      <td>ПИЦЦЕТОРИЯ</td>\n",
       "      <td>да</td>\n",
       "      <td>кафе</td>\n",
       "      <td>город Москва, Абрамцевская улица, дом 1</td>\n",
       "      <td>40</td>\n",
       "    </tr>\n",
       "    <tr>\n",
       "      <th>4</th>\n",
       "      <td>119365</td>\n",
       "      <td>Кафе «Вишневая метель»</td>\n",
       "      <td>нет</td>\n",
       "      <td>кафе</td>\n",
       "      <td>город Москва, Абрамцевская улица, дом 9, корпус 1</td>\n",
       "      <td>50</td>\n",
       "    </tr>\n",
       "    <tr>\n",
       "      <th>...</th>\n",
       "      <td>...</td>\n",
       "      <td>...</td>\n",
       "      <td>...</td>\n",
       "      <td>...</td>\n",
       "      <td>...</td>\n",
       "      <td>...</td>\n",
       "    </tr>\n",
       "    <tr>\n",
       "      <th>15361</th>\n",
       "      <td>208537</td>\n",
       "      <td>Шоколадница</td>\n",
       "      <td>да</td>\n",
       "      <td>кафе</td>\n",
       "      <td>город Москва, 3-й Крутицкий переулок, дом 18</td>\n",
       "      <td>50</td>\n",
       "    </tr>\n",
       "    <tr>\n",
       "      <th>15362</th>\n",
       "      <td>209264</td>\n",
       "      <td>Шоколадница</td>\n",
       "      <td>да</td>\n",
       "      <td>кафе</td>\n",
       "      <td>город Москва, улица Земляной Вал, дом 33</td>\n",
       "      <td>10</td>\n",
       "    </tr>\n",
       "    <tr>\n",
       "      <th>15363</th>\n",
       "      <td>209186</td>\n",
       "      <td>Шоколадница</td>\n",
       "      <td>да</td>\n",
       "      <td>кафе</td>\n",
       "      <td>город Москва, улица Земляной Вал, дом 33</td>\n",
       "      <td>20</td>\n",
       "    </tr>\n",
       "    <tr>\n",
       "      <th>15364</th>\n",
       "      <td>221900</td>\n",
       "      <td>Шоколадница</td>\n",
       "      <td>да</td>\n",
       "      <td>кафе</td>\n",
       "      <td>город Москва, поселение Московский, Киевское ш...</td>\n",
       "      <td>36</td>\n",
       "    </tr>\n",
       "    <tr>\n",
       "      <th>15365</th>\n",
       "      <td>222535</td>\n",
       "      <td>Шоколадница</td>\n",
       "      <td>да</td>\n",
       "      <td>кафе</td>\n",
       "      <td>город Москва, Ходынский бульвар, дом 4</td>\n",
       "      <td>10</td>\n",
       "    </tr>\n",
       "  </tbody>\n",
       "</table>\n",
       "<p>15366 rows × 6 columns</p>\n",
       "</div>"
      ],
      "text/plain": [
       "           id             object_name chain object_type  \\\n",
       "0      151635                 СМЕТАНА   нет        кафе   \n",
       "1       77874                  Родник   нет        кафе   \n",
       "2       24309         Кафе «Академия»   нет        кафе   \n",
       "3       21894              ПИЦЦЕТОРИЯ    да        кафе   \n",
       "4      119365  Кафе «Вишневая метель»   нет        кафе   \n",
       "...       ...                     ...   ...         ...   \n",
       "15361  208537             Шоколадница    да        кафе   \n",
       "15362  209264             Шоколадница    да        кафе   \n",
       "15363  209186             Шоколадница    да        кафе   \n",
       "15364  221900             Шоколадница    да        кафе   \n",
       "15365  222535             Шоколадница    да        кафе   \n",
       "\n",
       "                                                 address  number  \n",
       "0             город Москва, улица Егора Абакумова, дом 9      48  \n",
       "1      город Москва, улица Талалихина, дом 2/1, корпус 1      35  \n",
       "2              город Москва, Абельмановская улица, дом 6      95  \n",
       "3                город Москва, Абрамцевская улица, дом 1      40  \n",
       "4      город Москва, Абрамцевская улица, дом 9, корпус 1      50  \n",
       "...                                                  ...     ...  \n",
       "15361       город Москва, 3-й Крутицкий переулок, дом 18      50  \n",
       "15362           город Москва, улица Земляной Вал, дом 33      10  \n",
       "15363           город Москва, улица Земляной Вал, дом 33      20  \n",
       "15364  город Москва, поселение Московский, Киевское ш...      36  \n",
       "15365             город Москва, Ходынский бульвар, дом 4      10  \n",
       "\n",
       "[15366 rows x 6 columns]"
      ]
     },
     "execution_count": 2,
     "metadata": {},
     "output_type": "execute_result"
    }
   ],
   "source": [
    "rest_data = pd.read_csv('/home/kseniya/Downloads/rest_data.csv')\n",
    "rest_data"
   ]
  },
  {
   "cell_type": "markdown",
   "metadata": {},
   "source": [
    "Посмотрим общую информацию о таблице с помощью метода **info()**:"
   ]
  },
  {
   "cell_type": "code",
   "execution_count": 3,
   "metadata": {},
   "outputs": [
    {
     "name": "stdout",
     "output_type": "stream",
     "text": [
      "<class 'pandas.core.frame.DataFrame'>\n",
      "RangeIndex: 15366 entries, 0 to 15365\n",
      "Data columns (total 6 columns):\n",
      " #   Column       Non-Null Count  Dtype \n",
      "---  ------       --------------  ----- \n",
      " 0   id           15366 non-null  int64 \n",
      " 1   object_name  15366 non-null  object\n",
      " 2   chain        15366 non-null  object\n",
      " 3   object_type  15366 non-null  object\n",
      " 4   address      15366 non-null  object\n",
      " 5   number       15366 non-null  int64 \n",
      "dtypes: int64(2), object(4)\n",
      "memory usage: 720.4+ KB\n"
     ]
    }
   ],
   "source": [
    "rest_data.info()"
   ]
  },
  {
   "cell_type": "markdown",
   "metadata": {},
   "source": [
    "Наша таблица состоит из *6 столбцов* и *15366 строк*. Данные не содержат пропусков. Столбцы содержат следующую информацию:\n",
    "\n",
    "*    *'id'* — идентификатор объекта;\n",
    "*    *'object_name'* — название объекта общественного питания;\n",
    "*    *'chain'* — сетевой ресторан;\n",
    "*    *'object_type'* — тип объекта общественного питания;\n",
    "*    *'address'* — адрес;\n",
    "*    *'number'* — количество посадочных мест.\n",
    "\n"
   ]
  },
  {
   "cell_type": "markdown",
   "metadata": {},
   "source": [
    "Типы данных столбцов менять не будем - для нашего исследования нам подходят все имеющиеся у нас типы данных."
   ]
  },
  {
   "cell_type": "markdown",
   "metadata": {},
   "source": [
    "Проверим таблицу на наличие дубликатов с помощью методов **duplicated()** и **sum()**: "
   ]
  },
  {
   "cell_type": "code",
   "execution_count": 4,
   "metadata": {},
   "outputs": [
    {
     "data": {
      "text/plain": [
       "0"
      ]
     },
     "execution_count": 4,
     "metadata": {},
     "output_type": "execute_result"
    }
   ],
   "source": [
    "rest_data.duplicated().sum()"
   ]
  },
  {
   "cell_type": "markdown",
   "metadata": {},
   "source": [
    "Сделаем небольшую предобработку столбца *'object_name'*. Приведем все названия к нижнему регистру и уберем служебные символы (**«»**)."
   ]
  },
  {
   "cell_type": "code",
   "execution_count": 5,
   "metadata": {},
   "outputs": [
    {
     "data": {
      "text/plain": [
       "0                       сметана\n",
       "1                        родник\n",
       "2               кафе «академия»\n",
       "3                    пиццетория\n",
       "4        кафе «вишневая метель»\n",
       "                  ...          \n",
       "15361               шоколадница\n",
       "15362               шоколадница\n",
       "15363               шоколадница\n",
       "15364               шоколадница\n",
       "15365               шоколадница\n",
       "Name: object_name, Length: 15366, dtype: object"
      ]
     },
     "execution_count": 5,
     "metadata": {},
     "output_type": "execute_result"
    }
   ],
   "source": [
    "rest_data['object_name'] = rest_data['object_name'].str.lower()\n",
    "rest_data['object_name']"
   ]
  },
  {
   "cell_type": "code",
   "execution_count": 6,
   "metadata": {},
   "outputs": [
    {
     "data": {
      "text/plain": [
       "0                     сметана\n",
       "1                      родник\n",
       "2               кафе академия\n",
       "3                  пиццетория\n",
       "4        кафе вишневая метель\n",
       "                 ...         \n",
       "15361             шоколадница\n",
       "15362             шоколадница\n",
       "15363             шоколадница\n",
       "15364             шоколадница\n",
       "15365             шоколадница\n",
       "Name: object_name, Length: 15366, dtype: object"
      ]
     },
     "execution_count": 6,
     "metadata": {},
     "output_type": "execute_result"
    }
   ],
   "source": [
    "rest_data['object_name'].replace(to_replace=['«','»'], value=\"\",regex=True, inplace=True)\n",
    "rest_data['object_name']"
   ]
  },
  {
   "cell_type": "markdown",
   "metadata": {},
   "source": [
    "**Вывод**: мы выгрузили таблицу с необходимыми нам данными (дали таблице название **rest_data**). С помощью метода **info()** мы получили общую информацию о таблице. "
   ]
  },
  {
   "cell_type": "markdown",
   "metadata": {},
   "source": [
    "Данные чистые: в таблице отсутствуют пропуски и дубликаты. Типы данных столбцов менять не будем - для нашего исследования нам подходят все имеющиеся у нас типы данных.\n"
   ]
  },
  {
   "cell_type": "markdown",
   "metadata": {},
   "source": [
    "Можно приступать к основной части исследования. "
   ]
  },
  {
   "cell_type": "markdown",
   "metadata": {},
   "source": [
    "<a id=\"analyst_2\"></a> \n",
    "\n",
    "## Шаг 2. Анализ данных"
   ]
  },
  {
   "cell_type": "markdown",
   "metadata": {},
   "source": [
    "### 2.1. Исследуем соотношение видов объектов общественного питания по количеству."
   ]
  },
  {
   "cell_type": "markdown",
   "metadata": {},
   "source": [
    "В переменную ***object_names*** поместим список уникальных названий видов объектов общественного питания:"
   ]
  },
  {
   "cell_type": "code",
   "execution_count": 7,
   "metadata": {},
   "outputs": [
    {
     "data": {
      "text/plain": [
       "array(['кафе', 'столовая', 'закусочная',\n",
       "       'предприятие быстрого обслуживания', 'ресторан', 'кафетерий',\n",
       "       'буфет', 'бар', 'магазин (отдел кулинарии)'], dtype=object)"
      ]
     },
     "execution_count": 7,
     "metadata": {},
     "output_type": "execute_result"
    }
   ],
   "source": [
    "object_names = rest_data['object_type'].unique()\n",
    "object_names"
   ]
  },
  {
   "cell_type": "markdown",
   "metadata": {},
   "source": [
    "Построим столбчатый график, узнаем какого вида объектов больше всего:"
   ]
  },
  {
   "cell_type": "code",
   "execution_count": 8,
   "metadata": {},
   "outputs": [
    {
     "data": {
      "image/png": "[encoded data removed]",
      "text/plain": [
       "<Figure size 1152x576 with 1 Axes>"
      ]
     },
     "metadata": {
      "needs_background": "light"
     },
     "output_type": "display_data"
    }
   ],
   "source": [
    "fig, test = plt.subplots()\n",
    "test.bar(object_names, rest_data['object_type'].value_counts())\n",
    "test.set_title('Cоотношение видов объектов общественного питания по количеству',fontsize=20) \n",
    "test.set_xlabel('виды объектов')\n",
    "test.set_ylabel('количество объектов') \n",
    "\n",
    "fig.set_figheight(8)\n",
    "fig.set_figwidth(16)\n",
    "plt.xticks(rotation=45)\n",
    "plt.show()"
   ]
  },
  {
   "cell_type": "markdown",
   "metadata": {},
   "source": [
    "**Вывод**: по графику видно,что в Москве превалируют *кафе* (с большим отрывом - их по нашим данным **6000**). На втором месте - *столовые* (больше **2000**), на третьем - *закусочные* (разрыв между 2ым и 3им местом небольшой, закусочных в Москве около **2000**). Из этого распределения можно сделать вывод, что пользуются спросом места, где люди не будут сидеть очень долго (Москва - город с высоким темпом жизни, у многих просто нет времени на длительное посещение ресторанов). "
   ]
  },
  {
   "cell_type": "markdown",
   "metadata": {},
   "source": [
    "Меньше всего *буфетов*, *баров* и *отделов кулинарии в магазинах*. "
   ]
  },
  {
   "cell_type": "markdown",
   "metadata": {},
   "source": [
    "### 2.2. Исследуем соотношение сетевых и несетевых заведений по количеству. "
   ]
  },
  {
   "cell_type": "markdown",
   "metadata": {},
   "source": [
    "Мы будем строить данный график по тому же принципу, по которому мы строили предыдущий. В переменную ***chains_or_not*** поместим уникальные значения столбца *chain* (их там всего два - *\"нет\"*(не сеть) и *\"да\"*(сеть), но переменная нужна нам для построения графика):"
   ]
  },
  {
   "cell_type": "code",
   "execution_count": 9,
   "metadata": {},
   "outputs": [
    {
     "data": {
      "text/plain": [
       "array(['нет', 'да'], dtype=object)"
      ]
     },
     "execution_count": 9,
     "metadata": {},
     "output_type": "execute_result"
    }
   ],
   "source": [
    "chains_or_not = rest_data['chain'].unique()\n",
    "chains_or_not"
   ]
  },
  {
   "cell_type": "markdown",
   "metadata": {},
   "source": [
    "Строим график:"
   ]
  },
  {
   "cell_type": "code",
   "execution_count": 10,
   "metadata": {},
   "outputs": [
    {
     "data": {
      "image/png": "[encoded data removed]",
      "text/plain": [
       "<Figure size 1008x576 with 1 Axes>"
      ]
     },
     "metadata": {
      "needs_background": "light"
     },
     "output_type": "display_data"
    }
   ],
   "source": [
    "fig, test = plt.subplots()\n",
    "test.bar(chains_or_not, rest_data['chain'].value_counts())\n",
    "test.set_title('Cоотношение сетевых и несетевых заведений по количеству',fontsize=20) \n",
    "test.set_xlabel('сеть\\не сеть')\n",
    "test.set_ylabel('количество объектов') \n",
    "\n",
    "fig.set_figheight(8)\n",
    "fig.set_figwidth(14)\n",
    "plt.show()"
   ]
  },
  {
   "cell_type": "markdown",
   "metadata": {},
   "source": [
    "**Вывод**: подавляющее большинство заведений - **не сетевые**. Это хороший признак - значит посетители доверяют оригинальным заведениям даже больше, чем сетевым. В сетевых точках общественного питания все поставлено на поток. Заведения, работающие \"на себя\", больше вкладыют сил и средств в качество и оригинальность блюд, которые они предлагают посетителям. Их задача - понравится и ***запомниться***, чтобы сработало так называемое *\"сарафанное радио*\". "
   ]
  },
  {
   "cell_type": "markdown",
   "metadata": {},
   "source": [
    "Для нашего проекта такой результат одновременно и хорош, и плох:\n",
    "\n",
    "*   хорош, потому что мы видим, что мы можем не быть \"задавлены\" сетевыми заведениями;\n",
    "\n",
    "*   плох, потому что большая конкуренция, придется постоянно придумывать, чем еще по-хорошему удивить старых посетителей и привлечь новых."
   ]
  },
  {
   "cell_type": "markdown",
   "metadata": {},
   "source": [
    "\n",
    "### 2.3. Для какого вида объекта общественного питания характерно сетевое распространение?"
   ]
  },
  {
   "cell_type": "markdown",
   "metadata": {},
   "source": [
    "Расчитаем процент сетевых заведений от общего количества каждого типа, резутаты поместим  в таблицу **perc_types**:  "
   ]
  },
  {
   "cell_type": "code",
   "execution_count": 11,
   "metadata": {},
   "outputs": [
    {
     "data": {
      "text/plain": [
       "бар                                   4.322430\n",
       "буфет                                 1.880342\n",
       "закусочная                           15.555556\n",
       "кафе                                 22.888998\n",
       "кафетерий                            13.065327\n",
       "магазин (отдел кулинарии)            28.571429\n",
       "предприятие быстрого обслуживания    41.133645\n",
       "ресторан                             23.807440\n",
       "столовая                              0.115964\n",
       "Name: object_type, dtype: float64"
      ]
     },
     "execution_count": 11,
     "metadata": {},
     "output_type": "execute_result"
    }
   ],
   "source": [
    "perc_types = rest_data.query('chain == \"да\"')['object_type'].value_counts() \\\n",
    "/ rest_data['object_type'].value_counts()\n",
    "perc_types *= 100\n",
    "perc_types"
   ]
  },
  {
   "cell_type": "markdown",
   "metadata": {},
   "source": [
    "Построим график:"
   ]
  },
  {
   "cell_type": "code",
   "execution_count": 12,
   "metadata": {},
   "outputs": [
    {
     "data": {
      "image/png": "[encoded data removed]",
      "text/plain": [
       "<Figure size 1008x576 with 1 Axes>"
      ]
     },
     "metadata": {
      "needs_background": "light"
     },
     "output_type": "display_data"
    }
   ],
   "source": [
    "perc_types.plot(kind='bar', figsize=(14,8))\n",
    "plt.title('Характерные типы объектов общественного питания для сетевого распространения (в процентах)', fontsize=20)\n",
    "plt.gca().set(xlabel='типы объектов', ylabel='процент от общего количества')\n",
    "plt.xticks(rotation=45)\n",
    "plt.show()"
   ]
  },
  {
   "cell_type": "markdown",
   "metadata": {},
   "source": [
    "**Вывод**: по нашим расчетам для сетевого распротранения характерны:\n",
    "\n",
    "1) *предприятие быстрого обслуживания*(**40,5%**)\n",
    "\n",
    "2) *отдел кулинарии в магазинах*(**30,6%**)\n",
    "\n",
    "3) *кафе, ресторан* (у них по **23%**)"
   ]
  },
  {
   "cell_type": "markdown",
   "metadata": {},
   "source": [
    "Такие результаты ожидаемы: сетевое распространение(особенно широкое) больше характерно для тех типов заведений, где главная цель - как можно быстрее обслужить большое количество клиентов. Это заведения, не расчитанные на долгое в них пребывание, как правило. люди берут оттуда еду на вынос. Поэтому полученные нами результаты логичны."
   ]
  },
  {
   "cell_type": "markdown",
   "metadata": {},
   "source": [
    "Что касается ресторанов, то, например, \"MacDonalds\" , \"Il Patio\" и \"Якитория\" тоже являются сетью ресторанов. Поэтому то, что такой тип, как ресторан, находится в топ-3 характерных для сетевого распространения заведений - тоже вполне логично."
   ]
  },
  {
   "cell_type": "markdown",
   "metadata": {},
   "source": [
    "\n",
    "### 2.4. Что характерно для сетевых заведений: много заведений с небольшим числом посадочных мест в каждом или мало заведений с большим количеством посадочных мест?"
   ]
  },
  {
   "cell_type": "markdown",
   "metadata": {},
   "source": [
    "Чтобы построить график, создадим сгруппированную по столбцам *'object_type'* и *'chain'* таблицу **chains**:"
   ]
  },
  {
   "cell_type": "code",
   "execution_count": 13,
   "metadata": {},
   "outputs": [
    {
     "data": {
      "text/html": [
       "<div>\n",
       "<style scoped>\n",
       "    .dataframe tbody tr th:only-of-type {\n",
       "        vertical-align: middle;\n",
       "    }\n",
       "\n",
       "    .dataframe tbody tr th {\n",
       "        vertical-align: top;\n",
       "    }\n",
       "\n",
       "    .dataframe thead th {\n",
       "        text-align: right;\n",
       "    }\n",
       "</style>\n",
       "<table border=\"1\" class=\"dataframe\">\n",
       "  <thead>\n",
       "    <tr style=\"text-align: right;\">\n",
       "      <th></th>\n",
       "      <th>object_type</th>\n",
       "      <th>chain</th>\n",
       "      <th>number</th>\n",
       "    </tr>\n",
       "  </thead>\n",
       "  <tbody>\n",
       "    <tr>\n",
       "      <th>0</th>\n",
       "      <td>бар</td>\n",
       "      <td>да</td>\n",
       "      <td>37</td>\n",
       "    </tr>\n",
       "    <tr>\n",
       "      <th>1</th>\n",
       "      <td>бар</td>\n",
       "      <td>нет</td>\n",
       "      <td>819</td>\n",
       "    </tr>\n",
       "    <tr>\n",
       "      <th>2</th>\n",
       "      <td>буфет</td>\n",
       "      <td>да</td>\n",
       "      <td>11</td>\n",
       "    </tr>\n",
       "    <tr>\n",
       "      <th>3</th>\n",
       "      <td>буфет</td>\n",
       "      <td>нет</td>\n",
       "      <td>574</td>\n",
       "    </tr>\n",
       "    <tr>\n",
       "      <th>4</th>\n",
       "      <td>закусочная</td>\n",
       "      <td>да</td>\n",
       "      <td>56</td>\n",
       "    </tr>\n",
       "    <tr>\n",
       "      <th>5</th>\n",
       "      <td>закусочная</td>\n",
       "      <td>нет</td>\n",
       "      <td>304</td>\n",
       "    </tr>\n",
       "    <tr>\n",
       "      <th>6</th>\n",
       "      <td>кафе</td>\n",
       "      <td>да</td>\n",
       "      <td>1396</td>\n",
       "    </tr>\n",
       "    <tr>\n",
       "      <th>7</th>\n",
       "      <td>кафе</td>\n",
       "      <td>нет</td>\n",
       "      <td>4703</td>\n",
       "    </tr>\n",
       "    <tr>\n",
       "      <th>8</th>\n",
       "      <td>кафетерий</td>\n",
       "      <td>да</td>\n",
       "      <td>52</td>\n",
       "    </tr>\n",
       "    <tr>\n",
       "      <th>9</th>\n",
       "      <td>кафетерий</td>\n",
       "      <td>нет</td>\n",
       "      <td>346</td>\n",
       "    </tr>\n",
       "    <tr>\n",
       "      <th>10</th>\n",
       "      <td>магазин (отдел кулинарии)</td>\n",
       "      <td>да</td>\n",
       "      <td>78</td>\n",
       "    </tr>\n",
       "    <tr>\n",
       "      <th>11</th>\n",
       "      <td>магазин (отдел кулинарии)</td>\n",
       "      <td>нет</td>\n",
       "      <td>195</td>\n",
       "    </tr>\n",
       "    <tr>\n",
       "      <th>12</th>\n",
       "      <td>предприятие быстрого обслуживания</td>\n",
       "      <td>да</td>\n",
       "      <td>791</td>\n",
       "    </tr>\n",
       "    <tr>\n",
       "      <th>13</th>\n",
       "      <td>предприятие быстрого обслуживания</td>\n",
       "      <td>нет</td>\n",
       "      <td>1132</td>\n",
       "    </tr>\n",
       "    <tr>\n",
       "      <th>14</th>\n",
       "      <td>ресторан</td>\n",
       "      <td>да</td>\n",
       "      <td>544</td>\n",
       "    </tr>\n",
       "    <tr>\n",
       "      <th>15</th>\n",
       "      <td>ресторан</td>\n",
       "      <td>нет</td>\n",
       "      <td>1741</td>\n",
       "    </tr>\n",
       "    <tr>\n",
       "      <th>16</th>\n",
       "      <td>столовая</td>\n",
       "      <td>да</td>\n",
       "      <td>3</td>\n",
       "    </tr>\n",
       "    <tr>\n",
       "      <th>17</th>\n",
       "      <td>столовая</td>\n",
       "      <td>нет</td>\n",
       "      <td>2584</td>\n",
       "    </tr>\n",
       "  </tbody>\n",
       "</table>\n",
       "</div>"
      ],
      "text/plain": [
       "                          object_type chain  number\n",
       "0                                 бар    да      37\n",
       "1                                 бар   нет     819\n",
       "2                               буфет    да      11\n",
       "3                               буфет   нет     574\n",
       "4                          закусочная    да      56\n",
       "5                          закусочная   нет     304\n",
       "6                                кафе    да    1396\n",
       "7                                кафе   нет    4703\n",
       "8                           кафетерий    да      52\n",
       "9                           кафетерий   нет     346\n",
       "10          магазин (отдел кулинарии)    да      78\n",
       "11          магазин (отдел кулинарии)   нет     195\n",
       "12  предприятие быстрого обслуживания    да     791\n",
       "13  предприятие быстрого обслуживания   нет    1132\n",
       "14                           ресторан    да     544\n",
       "15                           ресторан   нет    1741\n",
       "16                           столовая    да       3\n",
       "17                           столовая   нет    2584"
      ]
     },
     "execution_count": 13,
     "metadata": {},
     "output_type": "execute_result"
    }
   ],
   "source": [
    "chains = rest_data.groupby(['object_type', 'chain'], as_index = False).agg({'number' : 'count'})\n",
    "chains"
   ]
  },
  {
   "cell_type": "markdown",
   "metadata": {},
   "source": [
    "Строим сравнительный график:"
   ]
  },
  {
   "cell_type": "code",
   "execution_count": 14,
   "metadata": {},
   "outputs": [
    {
     "data": {
      "image/png": "[encoded data removed]",
      "text/plain": [
       "<Figure size 1152x576 with 1 Axes>"
      ]
     },
     "metadata": {
      "needs_background": "light"
     },
     "output_type": "display_data"
    }
   ],
   "source": [
    "fig, ax = plt.subplots()\n",
    "ax = sns.barplot(x=\"object_type\", y=\"number\",hue='chain', data=chains)\n",
    "ax.set_title('Характерный вид объекта общественного питания для сетевого распространения',fontsize=20) \n",
    "ax.set_xlabel('виды объектов')\n",
    "ax.set_ylabel('количество посадочных мест') \n",
    "\n",
    "fig.set_figheight(8)\n",
    "fig.set_figwidth(16)\n",
    "plt.xticks(rotation=45)\n",
    "plt.show()"
   ]
  },
  {
   "cell_type": "markdown",
   "metadata": {},
   "source": [
    "**Вывод**:для сетевых заведений характерно большое количество заведений с небольшим количеством посадочных мест, так как их задача состоит в том, чтобы покрыть как можно большую территорию (к примеру, это могут быть ларьки на фудкортах, не подразумевающие отдельно выделенных посадочных мест)."
   ]
  },
  {
   "cell_type": "markdown",
   "metadata": {},
   "source": [
    "\n",
    "### 2.5. Какой вид предоставляет в среднем самое большое количество посадочных мест? "
   ]
  },
  {
   "cell_type": "markdown",
   "metadata": {},
   "source": [
    "Нам необходимо посчитать среднее количество посадочных мест для каждого вида объекта общественного питания. Для этого сгруппируем таблицу **rest_data** по столбцу *'object_type'* и для каждого объекта посчитаем среднее количество посадочных мест. Затем мы отсортируем таблицу по убыванию - так будет будущий график станет нагляднее: "
   ]
  },
  {
   "cell_type": "code",
   "execution_count": 15,
   "metadata": {},
   "outputs": [
    {
     "data": {
      "text/html": [
       "<div>\n",
       "<style scoped>\n",
       "    .dataframe tbody tr th:only-of-type {\n",
       "        vertical-align: middle;\n",
       "    }\n",
       "\n",
       "    .dataframe tbody tr th {\n",
       "        vertical-align: top;\n",
       "    }\n",
       "\n",
       "    .dataframe thead th {\n",
       "        text-align: right;\n",
       "    }\n",
       "</style>\n",
       "<table border=\"1\" class=\"dataframe\">\n",
       "  <thead>\n",
       "    <tr style=\"text-align: right;\">\n",
       "      <th></th>\n",
       "      <th>object_type</th>\n",
       "      <th>number</th>\n",
       "    </tr>\n",
       "  </thead>\n",
       "  <tbody>\n",
       "    <tr>\n",
       "      <th>0</th>\n",
       "      <td>бар</td>\n",
       "      <td>43.494159</td>\n",
       "    </tr>\n",
       "    <tr>\n",
       "      <th>1</th>\n",
       "      <td>буфет</td>\n",
       "      <td>51.129915</td>\n",
       "    </tr>\n",
       "    <tr>\n",
       "      <th>2</th>\n",
       "      <td>закусочная</td>\n",
       "      <td>7.608333</td>\n",
       "    </tr>\n",
       "    <tr>\n",
       "      <th>3</th>\n",
       "      <td>кафе</td>\n",
       "      <td>39.716019</td>\n",
       "    </tr>\n",
       "    <tr>\n",
       "      <th>4</th>\n",
       "      <td>кафетерий</td>\n",
       "      <td>9.123116</td>\n",
       "    </tr>\n",
       "    <tr>\n",
       "      <th>5</th>\n",
       "      <td>магазин (отдел кулинарии)</td>\n",
       "      <td>5.589744</td>\n",
       "    </tr>\n",
       "    <tr>\n",
       "      <th>6</th>\n",
       "      <td>предприятие быстрого обслуживания</td>\n",
       "      <td>20.552262</td>\n",
       "    </tr>\n",
       "    <tr>\n",
       "      <th>7</th>\n",
       "      <td>ресторан</td>\n",
       "      <td>96.834136</td>\n",
       "    </tr>\n",
       "    <tr>\n",
       "      <th>8</th>\n",
       "      <td>столовая</td>\n",
       "      <td>130.246618</td>\n",
       "    </tr>\n",
       "  </tbody>\n",
       "</table>\n",
       "</div>"
      ],
      "text/plain": [
       "                         object_type      number\n",
       "0                                бар   43.494159\n",
       "1                              буфет   51.129915\n",
       "2                         закусочная    7.608333\n",
       "3                               кафе   39.716019\n",
       "4                          кафетерий    9.123116\n",
       "5          магазин (отдел кулинарии)    5.589744\n",
       "6  предприятие быстрого обслуживания   20.552262\n",
       "7                           ресторан   96.834136\n",
       "8                           столовая  130.246618"
      ]
     },
     "execution_count": 15,
     "metadata": {},
     "output_type": "execute_result"
    }
   ],
   "source": [
    "avg_number = rest_data.groupby('object_type', as_index=False).agg({'number':'mean'})\n",
    "avg_number"
   ]
  },
  {
   "cell_type": "code",
   "execution_count": 16,
   "metadata": {},
   "outputs": [
    {
     "data": {
      "text/html": [
       "<div>\n",
       "<style scoped>\n",
       "    .dataframe tbody tr th:only-of-type {\n",
       "        vertical-align: middle;\n",
       "    }\n",
       "\n",
       "    .dataframe tbody tr th {\n",
       "        vertical-align: top;\n",
       "    }\n",
       "\n",
       "    .dataframe thead th {\n",
       "        text-align: right;\n",
       "    }\n",
       "</style>\n",
       "<table border=\"1\" class=\"dataframe\">\n",
       "  <thead>\n",
       "    <tr style=\"text-align: right;\">\n",
       "      <th></th>\n",
       "      <th>object_type</th>\n",
       "      <th>number</th>\n",
       "    </tr>\n",
       "  </thead>\n",
       "  <tbody>\n",
       "    <tr>\n",
       "      <th>8</th>\n",
       "      <td>столовая</td>\n",
       "      <td>130.246618</td>\n",
       "    </tr>\n",
       "    <tr>\n",
       "      <th>7</th>\n",
       "      <td>ресторан</td>\n",
       "      <td>96.834136</td>\n",
       "    </tr>\n",
       "    <tr>\n",
       "      <th>1</th>\n",
       "      <td>буфет</td>\n",
       "      <td>51.129915</td>\n",
       "    </tr>\n",
       "    <tr>\n",
       "      <th>0</th>\n",
       "      <td>бар</td>\n",
       "      <td>43.494159</td>\n",
       "    </tr>\n",
       "    <tr>\n",
       "      <th>3</th>\n",
       "      <td>кафе</td>\n",
       "      <td>39.716019</td>\n",
       "    </tr>\n",
       "    <tr>\n",
       "      <th>6</th>\n",
       "      <td>предприятие быстрого обслуживания</td>\n",
       "      <td>20.552262</td>\n",
       "    </tr>\n",
       "    <tr>\n",
       "      <th>4</th>\n",
       "      <td>кафетерий</td>\n",
       "      <td>9.123116</td>\n",
       "    </tr>\n",
       "    <tr>\n",
       "      <th>2</th>\n",
       "      <td>закусочная</td>\n",
       "      <td>7.608333</td>\n",
       "    </tr>\n",
       "    <tr>\n",
       "      <th>5</th>\n",
       "      <td>магазин (отдел кулинарии)</td>\n",
       "      <td>5.589744</td>\n",
       "    </tr>\n",
       "  </tbody>\n",
       "</table>\n",
       "</div>"
      ],
      "text/plain": [
       "                         object_type      number\n",
       "8                           столовая  130.246618\n",
       "7                           ресторан   96.834136\n",
       "1                              буфет   51.129915\n",
       "0                                бар   43.494159\n",
       "3                               кафе   39.716019\n",
       "6  предприятие быстрого обслуживания   20.552262\n",
       "4                          кафетерий    9.123116\n",
       "2                         закусочная    7.608333\n",
       "5          магазин (отдел кулинарии)    5.589744"
      ]
     },
     "execution_count": 16,
     "metadata": {},
     "output_type": "execute_result"
    }
   ],
   "source": [
    "avg_number_sorted = avg_number.sort_values(by='number', ascending=False)\n",
    "avg_number_sorted"
   ]
  },
  {
   "cell_type": "markdown",
   "metadata": {},
   "source": [
    "Строим график:"
   ]
  },
  {
   "cell_type": "code",
   "execution_count": 17,
   "metadata": {},
   "outputs": [
    {
     "data": {
      "image/png": "[encoded data removed]",
      "text/plain": [
       "<Figure size 1152x576 with 1 Axes>"
      ]
     },
     "metadata": {
      "needs_background": "light"
     },
     "output_type": "display_data"
    }
   ],
   "source": [
    "fig, test = plt.subplots()\n",
    "test.bar(avg_number_sorted['object_type'], avg_number_sorted['number'])\n",
    "test.set_title('Cреднее количество посадочных мест для каждого вида объекта общественного питания',fontsize=20) \n",
    "test.set_xlabel('виды объектов')\n",
    "test.set_ylabel('среднее количество мест') \n",
    "\n",
    "fig.set_figheight(8)\n",
    "fig.set_figwidth(16)\n",
    "plt.xticks(rotation=45)\n",
    "plt.show()"
   ]
  },
  {
   "cell_type": "markdown",
   "metadata": {},
   "source": [
    "**Вывод**: по графику видим, что самое большое среднее количество посадочных мест у *столовых*(больше **120**) и *ресторанов*(около **100**). Это логично: в столовых обычно большие, вместительные залы, чтобы в часы обеденных перерыров могло сесть как можно больше людей. А в ресторанах часто проводят банкеты для большого количества человек."
   ]
  },
  {
   "cell_type": "markdown",
   "metadata": {},
   "source": [
    "Меньше всего посадочных мест у *кафетерия*, *закусочных* и *отделов кулинарии в магазинах*(в среднем меньше 20 человек). Это может быть связано с тем, что из таких заведений люди в основном берут еду с собой.\n"
   ]
  },
  {
   "cell_type": "markdown",
   "metadata": {},
   "source": [
    "\n",
    "### 2.6. Выделим в отдельный столбец информацию об улице."
   ]
  },
  {
   "cell_type": "markdown",
   "metadata": {},
   "source": [
    "Чтобы выделить названия улиц в отдельный столбец, нам нужно создать словать с типами улиц, а также с символами, возможно встречающимися в столбце *'address'*:"
   ]
  },
  {
   "cell_type": "code",
   "execution_count": 18,
   "metadata": {},
   "outputs": [
    {
     "data": {
      "text/plain": [
       "0         улица Егора Абакумова\n",
       "1              улица Талалихина\n",
       "2          Абельмановская улица\n",
       "3            Абрамцевская улица\n",
       "4            Абрамцевская улица\n",
       "                  ...          \n",
       "15361    3-й Крутицкий переулок\n",
       "15362        улица Земляной Вал\n",
       "15363        улица Земляной Вал\n",
       "15364            Киевское шоссе\n",
       "15365         Ходынский бульвар\n",
       "Name: street, Length: 15366, dtype: object"
      ]
     },
     "execution_count": 18,
     "metadata": {},
     "output_type": "execute_result"
    }
   ],
   "source": [
    "words = ['улица','ул','переулок','шоссе','проспект','площадь','проезд',\n",
    "         'село','аллея','бульвар','набережная','тупик','линия','просек','территория']\n",
    "\n",
    "str_pat = r\".*,\\s*\\b([^,]*?(?:{})\\b[^,]*)[,$]+\".format(\"|\".join(words))\n",
    "\n",
    "rest_data['street'] = rest_data['address'].str.extract(str_pat)\n",
    "rest_data['street']"
   ]
  },
  {
   "cell_type": "markdown",
   "metadata": {},
   "source": [
    "Проверим столбец на наличие пропусков:"
   ]
  },
  {
   "cell_type": "code",
   "execution_count": 19,
   "metadata": {},
   "outputs": [
    {
     "data": {
      "text/plain": [
       "419"
      ]
     },
     "execution_count": 19,
     "metadata": {},
     "output_type": "execute_result"
    }
   ],
   "source": [
    "rest_data['street'].isna().sum()"
   ]
  },
  {
   "cell_type": "markdown",
   "metadata": {},
   "source": [
    "Наличие пропусков говорит о том, что адрес заведения написан некорректно, и в нем не указана улица. 419 пропусков - не такое большое количество от 15 366, так что пропуски мы заменим на *no info* :"
   ]
  },
  {
   "cell_type": "code",
   "execution_count": 20,
   "metadata": {},
   "outputs": [],
   "source": [
    "rest_data['street'].dropna(inplace=True)"
   ]
  },
  {
   "cell_type": "markdown",
   "metadata": {},
   "source": [
    "Проверим, удалась ли замена:"
   ]
  },
  {
   "cell_type": "code",
   "execution_count": 21,
   "metadata": {},
   "outputs": [
    {
     "data": {
      "text/plain": [
       "419"
      ]
     },
     "execution_count": 21,
     "metadata": {},
     "output_type": "execute_result"
    }
   ],
   "source": [
    "rest_data['street'].isna().sum()"
   ]
  },
  {
   "cell_type": "markdown",
   "metadata": {},
   "source": [
    "\n",
    "### 2.7. Построим график топ-10 улиц по количеству объектов общественного питания. Выясним, в каких районах Москвы находятся эти улицы."
   ]
  },
  {
   "cell_type": "markdown",
   "metadata": {},
   "source": [
    "Чтобы ответить на этот вопрос, нам необходимо прибегнуть к помощи внешнего источника."
   ]
  },
  {
   "cell_type": "markdown",
   "metadata": {},
   "source": [
    "Нам необходимо выяснить, в каких районах располагается больше всего объектов общественного питания. Для этого мы скачали ***адресный реестр объектов недвижимости города Москвы*** (источник:https://data.mos.ru/opendata/7705031674-adresniy-reestr-zdaniy-i-soorujeniy-v-gorode-moskve/passport?versionNumber=3&releaseNumber=450), сократили его до нужных нам двух столбцов с адресами и названиями районов:"
   ]
  },
  {
   "cell_type": "code",
   "execution_count": 22,
   "metadata": {},
   "outputs": [],
   "source": [
    "from io import BytesIO\n",
    "import requests\n",
    "\n",
    "spreadsheet_id_district = '1bHlRKbABUipugQD7B9FdMSoo5d97I-NK'\n",
    "\n",
    "# https://drive.google.com/file/d/1bHlRKbABUipugQD7B9FdMSoo5d97I-NK/view?usp=sharing\n",
    "file_name = 'https://docs.google.com/spreadsheets/d/{}/export?format=csv'.format(spreadsheet_id_district)\n",
    "\n",
    "r = requests.get(file_name)\n",
    "\n",
    "df_district = pd.read_csv(BytesIO(r.content))"
   ]
  },
  {
   "cell_type": "code",
   "execution_count": 23,
   "metadata": {},
   "outputs": [
    {
     "data": {
      "text/html": [
       "<div>\n",
       "<style scoped>\n",
       "    .dataframe tbody tr th:only-of-type {\n",
       "        vertical-align: middle;\n",
       "    }\n",
       "\n",
       "    .dataframe tbody tr th {\n",
       "        vertical-align: top;\n",
       "    }\n",
       "\n",
       "    .dataframe thead th {\n",
       "        text-align: right;\n",
       "    }\n",
       "</style>\n",
       "<table border=\"1\" class=\"dataframe\">\n",
       "  <thead>\n",
       "    <tr style=\"text-align: right;\">\n",
       "      <th></th>\n",
       "      <th>Unnamed: 0</th>\n",
       "      <th>ADDRESS</th>\n",
       "      <th>P5</th>\n",
       "    </tr>\n",
       "  </thead>\n",
       "  <tbody>\n",
       "    <tr>\n",
       "      <th>0</th>\n",
       "      <td>0</td>\n",
       "      <td>город Москва, Варшавское шоссе, дом 150, строе...</td>\n",
       "      <td>муниципальный округ Чертаново Южное</td>\n",
       "    </tr>\n",
       "    <tr>\n",
       "      <th>1</th>\n",
       "      <td>1</td>\n",
       "      <td>город Москва, Косинская улица, дом 26А</td>\n",
       "      <td>муниципальный округ Вешняки</td>\n",
       "    </tr>\n",
       "    <tr>\n",
       "      <th>2</th>\n",
       "      <td>2</td>\n",
       "      <td>город Москва, Гороховский переулок, дом 21</td>\n",
       "      <td>муниципальный округ Басманный</td>\n",
       "    </tr>\n",
       "    <tr>\n",
       "      <th>3</th>\n",
       "      <td>3</td>\n",
       "      <td>город Москва, Тагильская улица, дом 4, строени...</td>\n",
       "      <td>муниципальный округ Метрогородок</td>\n",
       "    </tr>\n",
       "    <tr>\n",
       "      <th>4</th>\n",
       "      <td>4</td>\n",
       "      <td>город Москва, Ленинградский проспект, дом 73А,...</td>\n",
       "      <td>муниципальный округ Сокол</td>\n",
       "    </tr>\n",
       "    <tr>\n",
       "      <th>...</th>\n",
       "      <td>...</td>\n",
       "      <td>...</td>\n",
       "      <td>...</td>\n",
       "    </tr>\n",
       "    <tr>\n",
       "      <th>413016</th>\n",
       "      <td>413016</td>\n",
       "      <td>Российская Федерация, город Москва, внутригоро...</td>\n",
       "      <td>NaN</td>\n",
       "    </tr>\n",
       "    <tr>\n",
       "      <th>413017</th>\n",
       "      <td>413017</td>\n",
       "      <td>Российская Федерация, город Москва, внутригоро...</td>\n",
       "      <td>NaN</td>\n",
       "    </tr>\n",
       "    <tr>\n",
       "      <th>413018</th>\n",
       "      <td>413018</td>\n",
       "      <td>город Москва, внутригородская территория посел...</td>\n",
       "      <td>NaN</td>\n",
       "    </tr>\n",
       "    <tr>\n",
       "      <th>413019</th>\n",
       "      <td>413019</td>\n",
       "      <td>город Москва, внутригородская территория посел...</td>\n",
       "      <td>NaN</td>\n",
       "    </tr>\n",
       "    <tr>\n",
       "      <th>413020</th>\n",
       "      <td>413020</td>\n",
       "      <td>Российская Федерация, город Москва, внутригоро...</td>\n",
       "      <td>NaN</td>\n",
       "    </tr>\n",
       "  </tbody>\n",
       "</table>\n",
       "<p>413021 rows × 3 columns</p>\n",
       "</div>"
      ],
      "text/plain": [
       "        Unnamed: 0                                            ADDRESS  \\\n",
       "0                0  город Москва, Варшавское шоссе, дом 150, строе...   \n",
       "1                1             город Москва, Косинская улица, дом 26А   \n",
       "2                2         город Москва, Гороховский переулок, дом 21   \n",
       "3                3  город Москва, Тагильская улица, дом 4, строени...   \n",
       "4                4  город Москва, Ленинградский проспект, дом 73А,...   \n",
       "...            ...                                                ...   \n",
       "413016      413016  Российская Федерация, город Москва, внутригоро...   \n",
       "413017      413017  Российская Федерация, город Москва, внутригоро...   \n",
       "413018      413018  город Москва, внутригородская территория посел...   \n",
       "413019      413019  город Москва, внутригородская территория посел...   \n",
       "413020      413020  Российская Федерация, город Москва, внутригоро...   \n",
       "\n",
       "                                         P5  \n",
       "0       муниципальный округ Чертаново Южное  \n",
       "1               муниципальный округ Вешняки  \n",
       "2             муниципальный округ Басманный  \n",
       "3          муниципальный округ Метрогородок  \n",
       "4                 муниципальный округ Сокол  \n",
       "...                                     ...  \n",
       "413016                                  NaN  \n",
       "413017                                  NaN  \n",
       "413018                                  NaN  \n",
       "413019                                  NaN  \n",
       "413020                                  NaN  \n",
       "\n",
       "[413021 rows x 3 columns]"
      ]
     },
     "execution_count": 23,
     "metadata": {},
     "output_type": "execute_result"
    }
   ],
   "source": [
    "df_district"
   ]
  },
  {
   "cell_type": "markdown",
   "metadata": {},
   "source": [
    "Сделаем небольшую предобработку данных: "
   ]
  },
  {
   "cell_type": "markdown",
   "metadata": {},
   "source": [
    "*    удалим ненужный нам столбец *'Unnamed: 0'*, дублирующий индексы"
   ]
  },
  {
   "cell_type": "code",
   "execution_count": 24,
   "metadata": {},
   "outputs": [
    {
     "data": {
      "text/html": [
       "<div>\n",
       "<style scoped>\n",
       "    .dataframe tbody tr th:only-of-type {\n",
       "        vertical-align: middle;\n",
       "    }\n",
       "\n",
       "    .dataframe tbody tr th {\n",
       "        vertical-align: top;\n",
       "    }\n",
       "\n",
       "    .dataframe thead th {\n",
       "        text-align: right;\n",
       "    }\n",
       "</style>\n",
       "<table border=\"1\" class=\"dataframe\">\n",
       "  <thead>\n",
       "    <tr style=\"text-align: right;\">\n",
       "      <th></th>\n",
       "      <th>ADDRESS</th>\n",
       "      <th>P5</th>\n",
       "    </tr>\n",
       "  </thead>\n",
       "  <tbody>\n",
       "    <tr>\n",
       "      <th>0</th>\n",
       "      <td>город Москва, Варшавское шоссе, дом 150, строе...</td>\n",
       "      <td>муниципальный округ Чертаново Южное</td>\n",
       "    </tr>\n",
       "    <tr>\n",
       "      <th>1</th>\n",
       "      <td>город Москва, Косинская улица, дом 26А</td>\n",
       "      <td>муниципальный округ Вешняки</td>\n",
       "    </tr>\n",
       "    <tr>\n",
       "      <th>2</th>\n",
       "      <td>город Москва, Гороховский переулок, дом 21</td>\n",
       "      <td>муниципальный округ Басманный</td>\n",
       "    </tr>\n",
       "    <tr>\n",
       "      <th>3</th>\n",
       "      <td>город Москва, Тагильская улица, дом 4, строени...</td>\n",
       "      <td>муниципальный округ Метрогородок</td>\n",
       "    </tr>\n",
       "    <tr>\n",
       "      <th>4</th>\n",
       "      <td>город Москва, Ленинградский проспект, дом 73А,...</td>\n",
       "      <td>муниципальный округ Сокол</td>\n",
       "    </tr>\n",
       "    <tr>\n",
       "      <th>...</th>\n",
       "      <td>...</td>\n",
       "      <td>...</td>\n",
       "    </tr>\n",
       "    <tr>\n",
       "      <th>413016</th>\n",
       "      <td>Российская Федерация, город Москва, внутригоро...</td>\n",
       "      <td>NaN</td>\n",
       "    </tr>\n",
       "    <tr>\n",
       "      <th>413017</th>\n",
       "      <td>Российская Федерация, город Москва, внутригоро...</td>\n",
       "      <td>NaN</td>\n",
       "    </tr>\n",
       "    <tr>\n",
       "      <th>413018</th>\n",
       "      <td>город Москва, внутригородская территория посел...</td>\n",
       "      <td>NaN</td>\n",
       "    </tr>\n",
       "    <tr>\n",
       "      <th>413019</th>\n",
       "      <td>город Москва, внутригородская территория посел...</td>\n",
       "      <td>NaN</td>\n",
       "    </tr>\n",
       "    <tr>\n",
       "      <th>413020</th>\n",
       "      <td>Российская Федерация, город Москва, внутригоро...</td>\n",
       "      <td>NaN</td>\n",
       "    </tr>\n",
       "  </tbody>\n",
       "</table>\n",
       "<p>413021 rows × 2 columns</p>\n",
       "</div>"
      ],
      "text/plain": [
       "                                                  ADDRESS  \\\n",
       "0       город Москва, Варшавское шоссе, дом 150, строе...   \n",
       "1                  город Москва, Косинская улица, дом 26А   \n",
       "2              город Москва, Гороховский переулок, дом 21   \n",
       "3       город Москва, Тагильская улица, дом 4, строени...   \n",
       "4       город Москва, Ленинградский проспект, дом 73А,...   \n",
       "...                                                   ...   \n",
       "413016  Российская Федерация, город Москва, внутригоро...   \n",
       "413017  Российская Федерация, город Москва, внутригоро...   \n",
       "413018  город Москва, внутригородская территория посел...   \n",
       "413019  город Москва, внутригородская территория посел...   \n",
       "413020  Российская Федерация, город Москва, внутригоро...   \n",
       "\n",
       "                                         P5  \n",
       "0       муниципальный округ Чертаново Южное  \n",
       "1               муниципальный округ Вешняки  \n",
       "2             муниципальный округ Басманный  \n",
       "3          муниципальный округ Метрогородок  \n",
       "4                 муниципальный округ Сокол  \n",
       "...                                     ...  \n",
       "413016                                  NaN  \n",
       "413017                                  NaN  \n",
       "413018                                  NaN  \n",
       "413019                                  NaN  \n",
       "413020                                  NaN  \n",
       "\n",
       "[413021 rows x 2 columns]"
      ]
     },
     "execution_count": 24,
     "metadata": {},
     "output_type": "execute_result"
    }
   ],
   "source": [
    "df_district.drop('Unnamed: 0', axis=1, inplace=True)\n",
    "df_district"
   ]
  },
  {
   "cell_type": "markdown",
   "metadata": {},
   "source": [
    "*   почистим таблицу от пропусков (NaNы в столбце с районами нам не нужны, ведь именно ради этой информации мы исльзуем таблицу **df_district**)"
   ]
  },
  {
   "cell_type": "code",
   "execution_count": 25,
   "metadata": {},
   "outputs": [
    {
     "data": {
      "text/plain": [
       "ADDRESS         0\n",
       "P5         253813\n",
       "dtype: int64"
      ]
     },
     "execution_count": 25,
     "metadata": {},
     "output_type": "execute_result"
    }
   ],
   "source": [
    "df_district.isna().sum()"
   ]
  },
  {
   "cell_type": "code",
   "execution_count": 26,
   "metadata": {},
   "outputs": [],
   "source": [
    "df_district.dropna(inplace=True)"
   ]
  },
  {
   "cell_type": "code",
   "execution_count": 27,
   "metadata": {},
   "outputs": [
    {
     "data": {
      "text/plain": [
       "ADDRESS    0\n",
       "P5         0\n",
       "dtype: int64"
      ]
     },
     "execution_count": 27,
     "metadata": {},
     "output_type": "execute_result"
    }
   ],
   "source": [
    "df_district.isna().sum()"
   ]
  },
  {
   "cell_type": "code",
   "execution_count": 28,
   "metadata": {},
   "outputs": [
    {
     "name": "stdout",
     "output_type": "stream",
     "text": [
      "<class 'pandas.core.frame.DataFrame'>\n",
      "Int64Index: 159208 entries, 0 to 412998\n",
      "Data columns (total 2 columns):\n",
      " #   Column   Non-Null Count   Dtype \n",
      "---  ------   --------------   ----- \n",
      " 0   ADDRESS  159208 non-null  object\n",
      " 1   P5       159208 non-null  object\n",
      "dtypes: object(2)\n",
      "memory usage: 3.6+ MB\n"
     ]
    }
   ],
   "source": [
    "df_district.info()"
   ]
  },
  {
   "cell_type": "markdown",
   "metadata": {},
   "source": [
    "*   переименуем столбцы (*'ADDRESS'* -> *'address'*, *'P5'* -> *'district'*), чтобы было проще приклеплять **df_district** к **rest_data**"
   ]
  },
  {
   "cell_type": "code",
   "execution_count": 29,
   "metadata": {},
   "outputs": [
    {
     "data": {
      "text/html": [
       "<div>\n",
       "<style scoped>\n",
       "    .dataframe tbody tr th:only-of-type {\n",
       "        vertical-align: middle;\n",
       "    }\n",
       "\n",
       "    .dataframe tbody tr th {\n",
       "        vertical-align: top;\n",
       "    }\n",
       "\n",
       "    .dataframe thead th {\n",
       "        text-align: right;\n",
       "    }\n",
       "</style>\n",
       "<table border=\"1\" class=\"dataframe\">\n",
       "  <thead>\n",
       "    <tr style=\"text-align: right;\">\n",
       "      <th></th>\n",
       "      <th>address</th>\n",
       "      <th>district</th>\n",
       "    </tr>\n",
       "  </thead>\n",
       "  <tbody>\n",
       "    <tr>\n",
       "      <th>0</th>\n",
       "      <td>город Москва, Варшавское шоссе, дом 150, строе...</td>\n",
       "      <td>муниципальный округ Чертаново Южное</td>\n",
       "    </tr>\n",
       "    <tr>\n",
       "      <th>1</th>\n",
       "      <td>город Москва, Косинская улица, дом 26А</td>\n",
       "      <td>муниципальный округ Вешняки</td>\n",
       "    </tr>\n",
       "    <tr>\n",
       "      <th>2</th>\n",
       "      <td>город Москва, Гороховский переулок, дом 21</td>\n",
       "      <td>муниципальный округ Басманный</td>\n",
       "    </tr>\n",
       "    <tr>\n",
       "      <th>3</th>\n",
       "      <td>город Москва, Тагильская улица, дом 4, строени...</td>\n",
       "      <td>муниципальный округ Метрогородок</td>\n",
       "    </tr>\n",
       "    <tr>\n",
       "      <th>4</th>\n",
       "      <td>город Москва, Ленинградский проспект, дом 73А,...</td>\n",
       "      <td>муниципальный округ Сокол</td>\n",
       "    </tr>\n",
       "  </tbody>\n",
       "</table>\n",
       "</div>"
      ],
      "text/plain": [
       "                                             address  \\\n",
       "0  город Москва, Варшавское шоссе, дом 150, строе...   \n",
       "1             город Москва, Косинская улица, дом 26А   \n",
       "2         город Москва, Гороховский переулок, дом 21   \n",
       "3  город Москва, Тагильская улица, дом 4, строени...   \n",
       "4  город Москва, Ленинградский проспект, дом 73А,...   \n",
       "\n",
       "                              district  \n",
       "0  муниципальный округ Чертаново Южное  \n",
       "1          муниципальный округ Вешняки  \n",
       "2        муниципальный округ Басманный  \n",
       "3     муниципальный округ Метрогородок  \n",
       "4            муниципальный округ Сокол  "
      ]
     },
     "execution_count": 29,
     "metadata": {},
     "output_type": "execute_result"
    }
   ],
   "source": [
    "df_district.rename(columns={'ADDRESS': 'address', 'P5': 'district'}, inplace=True)\n",
    "df_district.head()"
   ]
  },
  {
   "cell_type": "markdown",
   "metadata": {},
   "source": [
    "*     удалим из столбца *'district'* словосочетание *муниципальный округ* , это облегчит нам дальнейшую работу с информацией о районах"
   ]
  },
  {
   "cell_type": "code",
   "execution_count": 30,
   "metadata": {},
   "outputs": [
    {
     "data": {
      "text/html": [
       "<div>\n",
       "<style scoped>\n",
       "    .dataframe tbody tr th:only-of-type {\n",
       "        vertical-align: middle;\n",
       "    }\n",
       "\n",
       "    .dataframe tbody tr th {\n",
       "        vertical-align: top;\n",
       "    }\n",
       "\n",
       "    .dataframe thead th {\n",
       "        text-align: right;\n",
       "    }\n",
       "</style>\n",
       "<table border=\"1\" class=\"dataframe\">\n",
       "  <thead>\n",
       "    <tr style=\"text-align: right;\">\n",
       "      <th></th>\n",
       "      <th>address</th>\n",
       "      <th>district</th>\n",
       "    </tr>\n",
       "  </thead>\n",
       "  <tbody>\n",
       "    <tr>\n",
       "      <th>0</th>\n",
       "      <td>город Москва, Варшавское шоссе, дом 150, строе...</td>\n",
       "      <td>Чертаново Южное</td>\n",
       "    </tr>\n",
       "    <tr>\n",
       "      <th>1</th>\n",
       "      <td>город Москва, Косинская улица, дом 26А</td>\n",
       "      <td>Вешняки</td>\n",
       "    </tr>\n",
       "    <tr>\n",
       "      <th>2</th>\n",
       "      <td>город Москва, Гороховский переулок, дом 21</td>\n",
       "      <td>Басманный</td>\n",
       "    </tr>\n",
       "    <tr>\n",
       "      <th>3</th>\n",
       "      <td>город Москва, Тагильская улица, дом 4, строени...</td>\n",
       "      <td>Метрогородок</td>\n",
       "    </tr>\n",
       "    <tr>\n",
       "      <th>4</th>\n",
       "      <td>город Москва, Ленинградский проспект, дом 73А,...</td>\n",
       "      <td>Сокол</td>\n",
       "    </tr>\n",
       "    <tr>\n",
       "      <th>...</th>\n",
       "      <td>...</td>\n",
       "      <td>...</td>\n",
       "    </tr>\n",
       "    <tr>\n",
       "      <th>412962</th>\n",
       "      <td>Российская Федерация, город Москва, внутригоро...</td>\n",
       "      <td>Войковский</td>\n",
       "    </tr>\n",
       "    <tr>\n",
       "      <th>412967</th>\n",
       "      <td>город Москва, внутригородская территория муниц...</td>\n",
       "      <td>Северный</td>\n",
       "    </tr>\n",
       "    <tr>\n",
       "      <th>412968</th>\n",
       "      <td>Российская Федерация, город Москва, внутригоро...</td>\n",
       "      <td>Даниловский</td>\n",
       "    </tr>\n",
       "    <tr>\n",
       "      <th>412983</th>\n",
       "      <td>Российская Федерация, город Москва, внутригоро...</td>\n",
       "      <td>Даниловский</td>\n",
       "    </tr>\n",
       "    <tr>\n",
       "      <th>412998</th>\n",
       "      <td>Российская Федерация, город Москва, внутригоро...</td>\n",
       "      <td>Хамовники</td>\n",
       "    </tr>\n",
       "  </tbody>\n",
       "</table>\n",
       "<p>159208 rows × 2 columns</p>\n",
       "</div>"
      ],
      "text/plain": [
       "                                                  address          district\n",
       "0       город Москва, Варшавское шоссе, дом 150, строе...   Чертаново Южное\n",
       "1                  город Москва, Косинская улица, дом 26А           Вешняки\n",
       "2              город Москва, Гороховский переулок, дом 21         Басманный\n",
       "3       город Москва, Тагильская улица, дом 4, строени...      Метрогородок\n",
       "4       город Москва, Ленинградский проспект, дом 73А,...             Сокол\n",
       "...                                                   ...               ...\n",
       "412962  Российская Федерация, город Москва, внутригоро...        Войковский\n",
       "412967  город Москва, внутригородская территория муниц...          Северный\n",
       "412968  Российская Федерация, город Москва, внутригоро...       Даниловский\n",
       "412983  Российская Федерация, город Москва, внутригоро...       Даниловский\n",
       "412998  Российская Федерация, город Москва, внутригоро...         Хамовники\n",
       "\n",
       "[159208 rows x 2 columns]"
      ]
     },
     "execution_count": 30,
     "metadata": {},
     "output_type": "execute_result"
    }
   ],
   "source": [
    "df_district['district'].replace(to_replace='муниципальный округ', value=\"\",regex=True, inplace=True)\n",
    "df_district"
   ]
  },
  {
   "cell_type": "markdown",
   "metadata": {},
   "source": [
    "Теперь можно объединять таблицы:"
   ]
  },
  {
   "cell_type": "code",
   "execution_count": 31,
   "metadata": {},
   "outputs": [
    {
     "data": {
      "text/html": [
       "<div>\n",
       "<style scoped>\n",
       "    .dataframe tbody tr th:only-of-type {\n",
       "        vertical-align: middle;\n",
       "    }\n",
       "\n",
       "    .dataframe tbody tr th {\n",
       "        vertical-align: top;\n",
       "    }\n",
       "\n",
       "    .dataframe thead th {\n",
       "        text-align: right;\n",
       "    }\n",
       "</style>\n",
       "<table border=\"1\" class=\"dataframe\">\n",
       "  <thead>\n",
       "    <tr style=\"text-align: right;\">\n",
       "      <th></th>\n",
       "      <th>id</th>\n",
       "      <th>object_name</th>\n",
       "      <th>chain</th>\n",
       "      <th>object_type</th>\n",
       "      <th>address</th>\n",
       "      <th>number</th>\n",
       "      <th>street</th>\n",
       "      <th>district</th>\n",
       "    </tr>\n",
       "  </thead>\n",
       "  <tbody>\n",
       "    <tr>\n",
       "      <th>0</th>\n",
       "      <td>151635</td>\n",
       "      <td>сметана</td>\n",
       "      <td>нет</td>\n",
       "      <td>кафе</td>\n",
       "      <td>город Москва, улица Егора Абакумова, дом 9</td>\n",
       "      <td>48</td>\n",
       "      <td>улица Егора Абакумова</td>\n",
       "      <td>Ярославский</td>\n",
       "    </tr>\n",
       "    <tr>\n",
       "      <th>1</th>\n",
       "      <td>77874</td>\n",
       "      <td>родник</td>\n",
       "      <td>нет</td>\n",
       "      <td>кафе</td>\n",
       "      <td>город Москва, улица Талалихина, дом 2/1, корпус 1</td>\n",
       "      <td>35</td>\n",
       "      <td>улица Талалихина</td>\n",
       "      <td>Таганский</td>\n",
       "    </tr>\n",
       "    <tr>\n",
       "      <th>2</th>\n",
       "      <td>24309</td>\n",
       "      <td>кафе академия</td>\n",
       "      <td>нет</td>\n",
       "      <td>кафе</td>\n",
       "      <td>город Москва, Абельмановская улица, дом 6</td>\n",
       "      <td>95</td>\n",
       "      <td>Абельмановская улица</td>\n",
       "      <td>Таганский</td>\n",
       "    </tr>\n",
       "    <tr>\n",
       "      <th>3</th>\n",
       "      <td>21894</td>\n",
       "      <td>пиццетория</td>\n",
       "      <td>да</td>\n",
       "      <td>кафе</td>\n",
       "      <td>город Москва, Абрамцевская улица, дом 1</td>\n",
       "      <td>40</td>\n",
       "      <td>Абрамцевская улица</td>\n",
       "      <td>Лианозово</td>\n",
       "    </tr>\n",
       "    <tr>\n",
       "      <th>4</th>\n",
       "      <td>119365</td>\n",
       "      <td>кафе вишневая метель</td>\n",
       "      <td>нет</td>\n",
       "      <td>кафе</td>\n",
       "      <td>город Москва, Абрамцевская улица, дом 9, корпус 1</td>\n",
       "      <td>50</td>\n",
       "      <td>Абрамцевская улица</td>\n",
       "      <td>Лианозово</td>\n",
       "    </tr>\n",
       "    <tr>\n",
       "      <th>...</th>\n",
       "      <td>...</td>\n",
       "      <td>...</td>\n",
       "      <td>...</td>\n",
       "      <td>...</td>\n",
       "      <td>...</td>\n",
       "      <td>...</td>\n",
       "      <td>...</td>\n",
       "      <td>...</td>\n",
       "    </tr>\n",
       "    <tr>\n",
       "      <th>14590</th>\n",
       "      <td>222491</td>\n",
       "      <td>кальянная мята lounge</td>\n",
       "      <td>да</td>\n",
       "      <td>кафе</td>\n",
       "      <td>город Москва, Профсоюзная улица, дом 142, корп...</td>\n",
       "      <td>40</td>\n",
       "      <td>Профсоюзная улица</td>\n",
       "      <td>Теплый Стан</td>\n",
       "    </tr>\n",
       "    <tr>\n",
       "      <th>14591</th>\n",
       "      <td>212216</td>\n",
       "      <td>мята lounge</td>\n",
       "      <td>да</td>\n",
       "      <td>кафе</td>\n",
       "      <td>город Москва, Привольная улица, дом 11</td>\n",
       "      <td>56</td>\n",
       "      <td>Привольная улица</td>\n",
       "      <td>Выхино-Жулебино</td>\n",
       "    </tr>\n",
       "    <tr>\n",
       "      <th>14592</th>\n",
       "      <td>206341</td>\n",
       "      <td>мята lounge</td>\n",
       "      <td>да</td>\n",
       "      <td>кафе</td>\n",
       "      <td>город Москва, Салтыковская улица, дом 7Г</td>\n",
       "      <td>100</td>\n",
       "      <td>Салтыковская улица</td>\n",
       "      <td>Новокосино</td>\n",
       "    </tr>\n",
       "    <tr>\n",
       "      <th>14593</th>\n",
       "      <td>213772</td>\n",
       "      <td>тануки</td>\n",
       "      <td>да</td>\n",
       "      <td>ресторан</td>\n",
       "      <td>город Москва, Осенний бульвар, дом 9</td>\n",
       "      <td>98</td>\n",
       "      <td>Осенний бульвар</td>\n",
       "      <td>Крылатское</td>\n",
       "    </tr>\n",
       "    <tr>\n",
       "      <th>14594</th>\n",
       "      <td>74972</td>\n",
       "      <td>шоколадница</td>\n",
       "      <td>да</td>\n",
       "      <td>кафе</td>\n",
       "      <td>город Москва, улица Новый Арбат, дом 13</td>\n",
       "      <td>30</td>\n",
       "      <td>улица Новый Арбат</td>\n",
       "      <td>Арбат</td>\n",
       "    </tr>\n",
       "  </tbody>\n",
       "</table>\n",
       "<p>14595 rows × 8 columns</p>\n",
       "</div>"
      ],
      "text/plain": [
       "           id            object_name chain object_type  \\\n",
       "0      151635                сметана   нет        кафе   \n",
       "1       77874                 родник   нет        кафе   \n",
       "2       24309          кафе академия   нет        кафе   \n",
       "3       21894             пиццетория    да        кафе   \n",
       "4      119365   кафе вишневая метель   нет        кафе   \n",
       "...       ...                    ...   ...         ...   \n",
       "14590  222491  кальянная мята lounge    да        кафе   \n",
       "14591  212216            мята lounge    да        кафе   \n",
       "14592  206341            мята lounge    да        кафе   \n",
       "14593  213772                 тануки    да    ресторан   \n",
       "14594   74972            шоколадница    да        кафе   \n",
       "\n",
       "                                                 address  number  \\\n",
       "0             город Москва, улица Егора Абакумова, дом 9      48   \n",
       "1      город Москва, улица Талалихина, дом 2/1, корпус 1      35   \n",
       "2              город Москва, Абельмановская улица, дом 6      95   \n",
       "3                город Москва, Абрамцевская улица, дом 1      40   \n",
       "4      город Москва, Абрамцевская улица, дом 9, корпус 1      50   \n",
       "...                                                  ...     ...   \n",
       "14590  город Москва, Профсоюзная улица, дом 142, корп...      40   \n",
       "14591             город Москва, Привольная улица, дом 11      56   \n",
       "14592           город Москва, Салтыковская улица, дом 7Г     100   \n",
       "14593               город Москва, Осенний бульвар, дом 9      98   \n",
       "14594            город Москва, улица Новый Арбат, дом 13      30   \n",
       "\n",
       "                      street          district  \n",
       "0      улица Егора Абакумова       Ярославский  \n",
       "1           улица Талалихина         Таганский  \n",
       "2       Абельмановская улица         Таганский  \n",
       "3         Абрамцевская улица         Лианозово  \n",
       "4         Абрамцевская улица         Лианозово  \n",
       "...                      ...               ...  \n",
       "14590      Профсоюзная улица       Теплый Стан  \n",
       "14591       Привольная улица   Выхино-Жулебино  \n",
       "14592     Салтыковская улица        Новокосино  \n",
       "14593        Осенний бульвар        Крылатское  \n",
       "14594      улица Новый Арбат             Арбат  \n",
       "\n",
       "[14595 rows x 8 columns]"
      ]
     },
     "execution_count": 31,
     "metadata": {},
     "output_type": "execute_result"
    }
   ],
   "source": [
    "rest_data = rest_data.merge(df_district, on='address')\n",
    "rest_data"
   ]
  },
  {
   "cell_type": "markdown",
   "metadata": {},
   "source": [
    "Чтобы выявить 10 улиц, на которых расположено больше всего объектов общественного питания, создадим таблицу **streets_data**, в которой сгруппируем данные по столбцу *'street'* и посчитаем по улицам количество *id* (находящихся на улице заведений):"
   ]
  },
  {
   "cell_type": "code",
   "execution_count": 32,
   "metadata": {},
   "outputs": [
    {
     "data": {
      "text/html": [
       "<div>\n",
       "<style scoped>\n",
       "    .dataframe tbody tr th:only-of-type {\n",
       "        vertical-align: middle;\n",
       "    }\n",
       "\n",
       "    .dataframe tbody tr th {\n",
       "        vertical-align: top;\n",
       "    }\n",
       "\n",
       "    .dataframe thead th {\n",
       "        text-align: right;\n",
       "    }\n",
       "</style>\n",
       "<table border=\"1\" class=\"dataframe\">\n",
       "  <thead>\n",
       "    <tr style=\"text-align: right;\">\n",
       "      <th></th>\n",
       "      <th>street</th>\n",
       "      <th>id</th>\n",
       "    </tr>\n",
       "  </thead>\n",
       "  <tbody>\n",
       "    <tr>\n",
       "      <th>0</th>\n",
       "      <td>1-й Автозаводский проезд</td>\n",
       "      <td>3</td>\n",
       "    </tr>\n",
       "    <tr>\n",
       "      <th>1</th>\n",
       "      <td>1-й Амбулаторный проезд</td>\n",
       "      <td>2</td>\n",
       "    </tr>\n",
       "    <tr>\n",
       "      <th>2</th>\n",
       "      <td>1-й Балтийский переулок</td>\n",
       "      <td>1</td>\n",
       "    </tr>\n",
       "    <tr>\n",
       "      <th>3</th>\n",
       "      <td>1-й Басманный переулок</td>\n",
       "      <td>1</td>\n",
       "    </tr>\n",
       "    <tr>\n",
       "      <th>4</th>\n",
       "      <td>1-й Ботанический проезд</td>\n",
       "      <td>1</td>\n",
       "    </tr>\n",
       "    <tr>\n",
       "      <th>...</th>\n",
       "      <td>...</td>\n",
       "      <td>...</td>\n",
       "    </tr>\n",
       "    <tr>\n",
       "      <th>1809</th>\n",
       "      <td>улица Юности</td>\n",
       "      <td>8</td>\n",
       "    </tr>\n",
       "    <tr>\n",
       "      <th>1810</th>\n",
       "      <td>улица Юных Ленинцев</td>\n",
       "      <td>21</td>\n",
       "    </tr>\n",
       "    <tr>\n",
       "      <th>1811</th>\n",
       "      <td>улица Яблочкова</td>\n",
       "      <td>7</td>\n",
       "    </tr>\n",
       "    <tr>\n",
       "      <th>1812</th>\n",
       "      <td>шоссе Фрезер</td>\n",
       "      <td>1</td>\n",
       "    </tr>\n",
       "    <tr>\n",
       "      <th>1813</th>\n",
       "      <td>шоссе Энтузиастов</td>\n",
       "      <td>47</td>\n",
       "    </tr>\n",
       "  </tbody>\n",
       "</table>\n",
       "<p>1814 rows × 2 columns</p>\n",
       "</div>"
      ],
      "text/plain": [
       "                        street  id\n",
       "0     1-й Автозаводский проезд   3\n",
       "1      1-й Амбулаторный проезд   2\n",
       "2      1-й Балтийский переулок   1\n",
       "3       1-й Басманный переулок   1\n",
       "4      1-й Ботанический проезд   1\n",
       "...                        ...  ..\n",
       "1809              улица Юности   8\n",
       "1810       улица Юных Ленинцев  21\n",
       "1811           улица Яблочкова   7\n",
       "1812              шоссе Фрезер   1\n",
       "1813         шоссе Энтузиастов  47\n",
       "\n",
       "[1814 rows x 2 columns]"
      ]
     },
     "execution_count": 32,
     "metadata": {},
     "output_type": "execute_result"
    }
   ],
   "source": [
    "streets_district_data = rest_data.groupby('street',as_index=False).agg({'id' : 'count'})\n",
    "streets_district_data"
   ]
  },
  {
   "cell_type": "markdown",
   "metadata": {},
   "source": [
    "Создадим отсортиванную по количеству заведений таблицу **top_10_streets** и по ней построим график:"
   ]
  },
  {
   "cell_type": "code",
   "execution_count": 33,
   "metadata": {},
   "outputs": [
    {
     "data": {
      "text/html": [
       "<div>\n",
       "<style scoped>\n",
       "    .dataframe tbody tr th:only-of-type {\n",
       "        vertical-align: middle;\n",
       "    }\n",
       "\n",
       "    .dataframe tbody tr th {\n",
       "        vertical-align: top;\n",
       "    }\n",
       "\n",
       "    .dataframe thead th {\n",
       "        text-align: right;\n",
       "    }\n",
       "</style>\n",
       "<table border=\"1\" class=\"dataframe\">\n",
       "  <thead>\n",
       "    <tr style=\"text-align: right;\">\n",
       "      <th></th>\n",
       "      <th>street</th>\n",
       "      <th>id</th>\n",
       "    </tr>\n",
       "  </thead>\n",
       "  <tbody>\n",
       "    <tr>\n",
       "      <th>1366</th>\n",
       "      <td>проспект Мира</td>\n",
       "      <td>203</td>\n",
       "    </tr>\n",
       "    <tr>\n",
       "      <th>978</th>\n",
       "      <td>Профсоюзная улица</td>\n",
       "      <td>182</td>\n",
       "    </tr>\n",
       "    <tr>\n",
       "      <th>664</th>\n",
       "      <td>Ленинградский проспект</td>\n",
       "      <td>171</td>\n",
       "    </tr>\n",
       "    <tr>\n",
       "      <th>963</th>\n",
       "      <td>Пресненская набережная</td>\n",
       "      <td>164</td>\n",
       "    </tr>\n",
       "    <tr>\n",
       "      <th>386</th>\n",
       "      <td>Варшавское шоссе</td>\n",
       "      <td>158</td>\n",
       "    </tr>\n",
       "    <tr>\n",
       "      <th>667</th>\n",
       "      <td>Ленинский проспект</td>\n",
       "      <td>149</td>\n",
       "    </tr>\n",
       "    <tr>\n",
       "      <th>1362</th>\n",
       "      <td>проспект Вернадского</td>\n",
       "      <td>132</td>\n",
       "    </tr>\n",
       "    <tr>\n",
       "      <th>655</th>\n",
       "      <td>Кутузовский проспект</td>\n",
       "      <td>114</td>\n",
       "    </tr>\n",
       "    <tr>\n",
       "      <th>580</th>\n",
       "      <td>Каширское шоссе</td>\n",
       "      <td>110</td>\n",
       "    </tr>\n",
       "    <tr>\n",
       "      <th>586</th>\n",
       "      <td>Кировоградская улица</td>\n",
       "      <td>107</td>\n",
       "    </tr>\n",
       "  </tbody>\n",
       "</table>\n",
       "</div>"
      ],
      "text/plain": [
       "                      street   id\n",
       "1366           проспект Мира  203\n",
       "978        Профсоюзная улица  182\n",
       "664   Ленинградский проспект  171\n",
       "963   Пресненская набережная  164\n",
       "386         Варшавское шоссе  158\n",
       "667       Ленинский проспект  149\n",
       "1362    проспект Вернадского  132\n",
       "655     Кутузовский проспект  114\n",
       "580          Каширское шоссе  110\n",
       "586     Кировоградская улица  107"
      ]
     },
     "execution_count": 33,
     "metadata": {},
     "output_type": "execute_result"
    }
   ],
   "source": [
    "top_streets = streets_district_data.sort_values(by='id',ascending=False)\n",
    "top_10_streets = top_streets.head(10)\n",
    "top_10_streets"
   ]
  },
  {
   "cell_type": "markdown",
   "metadata": {},
   "source": [
    "Строим график:"
   ]
  },
  {
   "cell_type": "code",
   "execution_count": 34,
   "metadata": {},
   "outputs": [
    {
     "data": {
      "image/png": "[encoded data removed]",
      "text/plain": [
       "<Figure size 1152x576 with 1 Axes>"
      ]
     },
     "metadata": {
      "needs_background": "light"
     },
     "output_type": "display_data"
    }
   ],
   "source": [
    "fig, test = plt.subplots()\n",
    "test.bar(top_10_streets['street'], top_10_streets['id'])\n",
    "test.set_title('Топ-10 улиц с самым большим количеством объектов общественного питания',fontsize=20) \n",
    "test.set_xlabel('улицы')\n",
    "test.set_ylabel('количество объектов') \n",
    "\n",
    "fig.set_figheight(8)\n",
    "fig.set_figwidth(16)\n",
    "plt.xticks(rotation=45)\n",
    "plt.show()"
   ]
  },
  {
   "cell_type": "markdown",
   "metadata": {},
   "source": [
    "**Вывод**: на графике мы видим, что все улицы, вошедшие в топ-10 достаточно длинные (например, длина Варшавского шоссе составляет **22,5 км**, Ленинский проспект - **16 км** (информация взята с сайта: https://news.rambler.ru/other/44622141-po-samym-dlinnym-ulitsam-moskvy-fotoreportazh/)). Однако, на первом месте Проспект мира. И хотя его протяженность - **9 км** (информация фзята с сайта: https://progulkipomoskve.ru/publ/ulicy_moskvy/prospekt_mira_istorija_i_proiskhozhdenie_nazvanija/32-1-0-635), тот факт, что часть улицы находится в Центральном округе Москвы, играет ключевую роль. Мы можем сделать вывод, что расположение большого количества объектов общественного питания зависит не только от длины улицы (это, скорее, второстенный фактор), а скорее от близости к центру ."
   ]
  },
  {
   "cell_type": "markdown",
   "metadata": {},
   "source": [
    "Теперь нам нужно определить, к каким районам Москвы принадлежат топ-10 улиц, на которых находится самое большое число объектов общественного питания. Для этого  мы создадим переменную ***top_10_streets_list***, в которую поместим названия улиц из *топ-10*:"
   ]
  },
  {
   "cell_type": "code",
   "execution_count": 35,
   "metadata": {},
   "outputs": [
    {
     "data": {
      "text/plain": [
       "['проспект Мира',\n",
       " 'Профсоюзная улица',\n",
       " 'Ленинградский проспект',\n",
       " 'Пресненская набережная',\n",
       " 'Варшавское шоссе',\n",
       " 'Ленинский проспект',\n",
       " 'проспект Вернадского',\n",
       " 'Кутузовский проспект',\n",
       " 'Каширское шоссе',\n",
       " 'Кировоградская улица']"
      ]
     },
     "execution_count": 35,
     "metadata": {},
     "output_type": "execute_result"
    }
   ],
   "source": [
    "top_10_streets_list = top_10_streets['street'].tolist()\n",
    "top_10_streets_list"
   ]
  },
  {
   "cell_type": "markdown",
   "metadata": {},
   "source": [
    "По этой переменной отфильтруем основную таблицу **rest_data**:"
   ]
  },
  {
   "cell_type": "code",
   "execution_count": 36,
   "metadata": {},
   "outputs": [
    {
     "data": {
      "text/html": [
       "<div>\n",
       "<style scoped>\n",
       "    .dataframe tbody tr th:only-of-type {\n",
       "        vertical-align: middle;\n",
       "    }\n",
       "\n",
       "    .dataframe tbody tr th {\n",
       "        vertical-align: top;\n",
       "    }\n",
       "\n",
       "    .dataframe thead th {\n",
       "        text-align: right;\n",
       "    }\n",
       "</style>\n",
       "<table border=\"1\" class=\"dataframe\">\n",
       "  <thead>\n",
       "    <tr style=\"text-align: right;\">\n",
       "      <th></th>\n",
       "      <th>id</th>\n",
       "      <th>object_name</th>\n",
       "      <th>chain</th>\n",
       "      <th>object_type</th>\n",
       "      <th>address</th>\n",
       "      <th>number</th>\n",
       "      <th>street</th>\n",
       "      <th>district</th>\n",
       "    </tr>\n",
       "  </thead>\n",
       "  <tbody>\n",
       "    <tr>\n",
       "      <th>175</th>\n",
       "      <td>155973</td>\n",
       "      <td>кафе андерсон</td>\n",
       "      <td>да</td>\n",
       "      <td>кафе</td>\n",
       "      <td>город Москва, Варшавское шоссе, дом 2</td>\n",
       "      <td>150</td>\n",
       "      <td>Варшавское шоссе</td>\n",
       "      <td>Донской</td>\n",
       "    </tr>\n",
       "    <tr>\n",
       "      <th>176</th>\n",
       "      <td>204776</td>\n",
       "      <td>кальян бар</td>\n",
       "      <td>нет</td>\n",
       "      <td>бар</td>\n",
       "      <td>город Москва, Варшавское шоссе, дом 2</td>\n",
       "      <td>24</td>\n",
       "      <td>Варшавское шоссе</td>\n",
       "      <td>Донской</td>\n",
       "    </tr>\n",
       "    <tr>\n",
       "      <th>177</th>\n",
       "      <td>23618</td>\n",
       "      <td>кафе subway</td>\n",
       "      <td>да</td>\n",
       "      <td>кафе</td>\n",
       "      <td>город Москва, Варшавское шоссе, дом 7, корпус 1</td>\n",
       "      <td>36</td>\n",
       "      <td>Варшавское шоссе</td>\n",
       "      <td>Донской</td>\n",
       "    </tr>\n",
       "    <tr>\n",
       "      <th>178</th>\n",
       "      <td>166556</td>\n",
       "      <td>кафе суши wok</td>\n",
       "      <td>да</td>\n",
       "      <td>предприятие быстрого обслуживания</td>\n",
       "      <td>город Москва, Варшавское шоссе, дом 7, корпус 1</td>\n",
       "      <td>8</td>\n",
       "      <td>Варшавское шоссе</td>\n",
       "      <td>Донской</td>\n",
       "    </tr>\n",
       "    <tr>\n",
       "      <th>179</th>\n",
       "      <td>181111</td>\n",
       "      <td>кафе doner city</td>\n",
       "      <td>нет</td>\n",
       "      <td>предприятие быстрого обслуживания</td>\n",
       "      <td>город Москва, Варшавское шоссе, дом 7, корпус 1</td>\n",
       "      <td>1</td>\n",
       "      <td>Варшавское шоссе</td>\n",
       "      <td>Донской</td>\n",
       "    </tr>\n",
       "    <tr>\n",
       "      <th>...</th>\n",
       "      <td>...</td>\n",
       "      <td>...</td>\n",
       "      <td>...</td>\n",
       "      <td>...</td>\n",
       "      <td>...</td>\n",
       "      <td>...</td>\n",
       "      <td>...</td>\n",
       "      <td>...</td>\n",
       "    </tr>\n",
       "    <tr>\n",
       "      <th>14555</th>\n",
       "      <td>221859</td>\n",
       "      <td>штолле</td>\n",
       "      <td>да</td>\n",
       "      <td>магазин (отдел кулинарии)</td>\n",
       "      <td>город Москва, Кутузовский проспект, дом 43</td>\n",
       "      <td>10</td>\n",
       "      <td>Кутузовский проспект</td>\n",
       "      <td>Дорогомилово</td>\n",
       "    </tr>\n",
       "    <tr>\n",
       "      <th>14559</th>\n",
       "      <td>222301</td>\n",
       "      <td>стардогs</td>\n",
       "      <td>да</td>\n",
       "      <td>предприятие быстрого обслуживания</td>\n",
       "      <td>город Москва, Ленинградский проспект, дом 33, ...</td>\n",
       "      <td>0</td>\n",
       "      <td>Ленинградский проспект</td>\n",
       "      <td>Беговой</td>\n",
       "    </tr>\n",
       "    <tr>\n",
       "      <th>14566</th>\n",
       "      <td>214666</td>\n",
       "      <td>хинкальная №1</td>\n",
       "      <td>да</td>\n",
       "      <td>ресторан</td>\n",
       "      <td>город Москва, Ленинский проспект, дом 60/2</td>\n",
       "      <td>34</td>\n",
       "      <td>Ленинский проспект</td>\n",
       "      <td>Гагаринский</td>\n",
       "    </tr>\n",
       "    <tr>\n",
       "      <th>14579</th>\n",
       "      <td>218390</td>\n",
       "      <td>милти</td>\n",
       "      <td>да</td>\n",
       "      <td>закусочная</td>\n",
       "      <td>город Москва, Кутузовский проспект, дом 36, ст...</td>\n",
       "      <td>0</td>\n",
       "      <td>Кутузовский проспект</td>\n",
       "      <td>Дорогомилово</td>\n",
       "    </tr>\n",
       "    <tr>\n",
       "      <th>14590</th>\n",
       "      <td>222491</td>\n",
       "      <td>кальянная мята lounge</td>\n",
       "      <td>да</td>\n",
       "      <td>кафе</td>\n",
       "      <td>город Москва, Профсоюзная улица, дом 142, корп...</td>\n",
       "      <td>40</td>\n",
       "      <td>Профсоюзная улица</td>\n",
       "      <td>Теплый Стан</td>\n",
       "    </tr>\n",
       "  </tbody>\n",
       "</table>\n",
       "<p>1490 rows × 8 columns</p>\n",
       "</div>"
      ],
      "text/plain": [
       "           id            object_name chain                        object_type  \\\n",
       "175    155973          кафе андерсон    да                               кафе   \n",
       "176    204776             кальян бар   нет                                бар   \n",
       "177     23618            кафе subway    да                               кафе   \n",
       "178    166556          кафе суши wok    да  предприятие быстрого обслуживания   \n",
       "179    181111        кафе doner city   нет  предприятие быстрого обслуживания   \n",
       "...       ...                    ...   ...                                ...   \n",
       "14555  221859                 штолле    да          магазин (отдел кулинарии)   \n",
       "14559  222301               стардогs    да  предприятие быстрого обслуживания   \n",
       "14566  214666          хинкальная №1    да                           ресторан   \n",
       "14579  218390                  милти    да                         закусочная   \n",
       "14590  222491  кальянная мята lounge    да                               кафе   \n",
       "\n",
       "                                                 address  number  \\\n",
       "175                город Москва, Варшавское шоссе, дом 2     150   \n",
       "176                город Москва, Варшавское шоссе, дом 2      24   \n",
       "177      город Москва, Варшавское шоссе, дом 7, корпус 1      36   \n",
       "178      город Москва, Варшавское шоссе, дом 7, корпус 1       8   \n",
       "179      город Москва, Варшавское шоссе, дом 7, корпус 1       1   \n",
       "...                                                  ...     ...   \n",
       "14555         город Москва, Кутузовский проспект, дом 43      10   \n",
       "14559  город Москва, Ленинградский проспект, дом 33, ...       0   \n",
       "14566         город Москва, Ленинский проспект, дом 60/2      34   \n",
       "14579  город Москва, Кутузовский проспект, дом 36, ст...       0   \n",
       "14590  город Москва, Профсоюзная улица, дом 142, корп...      40   \n",
       "\n",
       "                       street       district  \n",
       "175          Варшавское шоссе        Донской  \n",
       "176          Варшавское шоссе        Донской  \n",
       "177          Варшавское шоссе        Донской  \n",
       "178          Варшавское шоссе        Донской  \n",
       "179          Варшавское шоссе        Донской  \n",
       "...                       ...            ...  \n",
       "14555    Кутузовский проспект   Дорогомилово  \n",
       "14559  Ленинградский проспект        Беговой  \n",
       "14566      Ленинский проспект    Гагаринский  \n",
       "14579    Кутузовский проспект   Дорогомилово  \n",
       "14590       Профсоюзная улица    Теплый Стан  \n",
       "\n",
       "[1490 rows x 8 columns]"
      ]
     },
     "execution_count": 36,
     "metadata": {},
     "output_type": "execute_result"
    }
   ],
   "source": [
    "rest_data_filtered = rest_data.query('street == @top_10_streets_list')\n",
    "rest_data_filtered"
   ]
  },
  {
   "cell_type": "markdown",
   "metadata": {},
   "source": [
    "Сгруппируем таблицу по столбцу *'street'* и ответим на вопрос, к каким районам принажлежат улицы из списка *топ-10*:"
   ]
  },
  {
   "cell_type": "code",
   "execution_count": 37,
   "metadata": {},
   "outputs": [
    {
     "name": "stderr",
     "output_type": "stream",
     "text": [
      "<ipython-input-37-490277e1ad82>:1: FutureWarning: Passing a negative integer is deprecated in version 1.0 and will not be supported in future version. Instead, use None to not limit the column width.\n",
      "  pd.set_option('display.max_colwidth', -1)\n"
     ]
    },
    {
     "data": {
      "text/plain": [
       "street\n",
       "Варшавское шоссе          [ Донской,  Нагорный,  Чертаново Южное,  Чертаново Северное,  Чертаново Центральное,  Нагатино-Садовники,  Южное Бутово]   \n",
       "Каширское шоссе           [ Нагатино-Садовники,  Москворечье-Сабурово,  Орехово-Борисово Южное,  Орехово-Борисово Северное]                          \n",
       "Кировоградская улица      [ Чертаново Центральное,  Чертаново Южное,  Чертаново Северное]                                                            \n",
       "Кутузовский проспект      [ Фили-Давыдково,  Дорогомилово]                                                                                           \n",
       "Ленинградский проспект    [ Беговой,  Аэропорт,  Сокол,  Хорошевский]                                                                                \n",
       "Ленинский проспект        [ Якиманка,  Донской,  Гагаринский,  Ломоносовский,  Обручевский,  Тропарево-Никулино,  Теплый Стан,  Проспект Вернадского]\n",
       "Пресненская набережная    [ Пресненский]                                                                                                             \n",
       "Профсоюзная улица         [ Академический,  Черемушки,  Обручевский,  Коньково,  Теплый Стан,  Ясенево]                                              \n",
       "проспект Вернадского      [ Гагаринский,  Ломоносовский,  Проспект Вернадского,  Тропарево-Никулино,  Раменки]                                       \n",
       "проспект Мира             [ Мещанский,  Останкинский,  Алексеевский,  Ростокино,  Свиблово,  Ярославский]                                            \n",
       "Name: district, dtype: object"
      ]
     },
     "execution_count": 37,
     "metadata": {},
     "output_type": "execute_result"
    }
   ],
   "source": [
    "pd.set_option('display.max_colwidth', -1)\n",
    "grouped_top = rest_data_filtered.groupby('street')['district'].unique()\n",
    "grouped_top"
   ]
  },
  {
   "cell_type": "markdown",
   "metadata": {},
   "source": [
    "**Вывод**: если посмотреть на карту Москвы с обозначенными на ней районами (источник: https://yandex.ru/images/search?pos=2&img_url=https%3A%2F%2Fbe-t.ru%2Fimages%2Ffoto%2Findoor%2Fkarta_moskva.png&text=%D0%BA%D0%B0%D1%80%D1%82%D0%B0%20%D0%BC%D0%BE%D1%81%D0%BA%D0%B2%D1%8B%20%D0%BF%D0%BE%20%D1%80%D0%B0%D0%B9%D0%BE%D0%BD%D0%B0%D0%BC&lr=213&rpt=simage&source=wiz), можно убедиться в том, что в  все выявленные нами районы находятся в **Южном, Юго-Западном** и **Западном округах** Москвы (за исключением районов, в которых находится проспект Мира и Ленинградский проспект, то есть только 2 улицы). Из этого мы можем сделать вывод, что в этих округах большая концентрация заведений, а значит *большая конкуренция*. В то же время этот факт может говорить о том,что:\n",
    "\n",
    "1)   в этих районах не очень высокие цены за аренду помещений;\n",
    "\n",
    "2)   высокая проходимость (именно в этих округах находится МГУ (большое количество студентов), Большой Московский цирк, Воробьевы горы (туристическое место))."
   ]
  },
  {
   "cell_type": "markdown",
   "metadata": {},
   "source": [
    "### 2.8. Найдем число улиц с одним объектом общественного питания. Выясним, в каких районах Москвы находятся эти улицы."
   ]
  },
  {
   "cell_type": "markdown",
   "metadata": {},
   "source": [
    "Совершим несколько манипуляций с таблицами:"
   ]
  },
  {
   "cell_type": "markdown",
   "metadata": {},
   "source": [
    "*   сгруппируем основную таблицу **rest_data** по столбцам *'street'* и *'district'* и посчитаем количество заведений на каждой улице"
   ]
  },
  {
   "cell_type": "code",
   "execution_count": 38,
   "metadata": {},
   "outputs": [
    {
     "data": {
      "text/html": [
       "<div>\n",
       "<style scoped>\n",
       "    .dataframe tbody tr th:only-of-type {\n",
       "        vertical-align: middle;\n",
       "    }\n",
       "\n",
       "    .dataframe tbody tr th {\n",
       "        vertical-align: top;\n",
       "    }\n",
       "\n",
       "    .dataframe thead th {\n",
       "        text-align: right;\n",
       "    }\n",
       "</style>\n",
       "<table border=\"1\" class=\"dataframe\">\n",
       "  <thead>\n",
       "    <tr style=\"text-align: right;\">\n",
       "      <th></th>\n",
       "      <th>street</th>\n",
       "      <th>district</th>\n",
       "      <th>id</th>\n",
       "    </tr>\n",
       "  </thead>\n",
       "  <tbody>\n",
       "    <tr>\n",
       "      <th>0</th>\n",
       "      <td>1-й Автозаводский проезд</td>\n",
       "      <td>Даниловский</td>\n",
       "      <td>3</td>\n",
       "    </tr>\n",
       "    <tr>\n",
       "      <th>1</th>\n",
       "      <td>1-й Амбулаторный проезд</td>\n",
       "      <td>Аэропорт</td>\n",
       "      <td>2</td>\n",
       "    </tr>\n",
       "    <tr>\n",
       "      <th>2</th>\n",
       "      <td>1-й Балтийский переулок</td>\n",
       "      <td>Аэропорт</td>\n",
       "      <td>1</td>\n",
       "    </tr>\n",
       "    <tr>\n",
       "      <th>3</th>\n",
       "      <td>1-й Басманный переулок</td>\n",
       "      <td>Красносельский</td>\n",
       "      <td>1</td>\n",
       "    </tr>\n",
       "    <tr>\n",
       "      <th>4</th>\n",
       "      <td>1-й Ботанический проезд</td>\n",
       "      <td>Свиблово</td>\n",
       "      <td>1</td>\n",
       "    </tr>\n",
       "    <tr>\n",
       "      <th>...</th>\n",
       "      <td>...</td>\n",
       "      <td>...</td>\n",
       "      <td>...</td>\n",
       "    </tr>\n",
       "    <tr>\n",
       "      <th>2112</th>\n",
       "      <td>шоссе Энтузиастов</td>\n",
       "      <td>Ивановское</td>\n",
       "      <td>8</td>\n",
       "    </tr>\n",
       "    <tr>\n",
       "      <th>2113</th>\n",
       "      <td>шоссе Энтузиастов</td>\n",
       "      <td>Измайлово</td>\n",
       "      <td>1</td>\n",
       "    </tr>\n",
       "    <tr>\n",
       "      <th>2114</th>\n",
       "      <td>шоссе Энтузиастов</td>\n",
       "      <td>Лефортово</td>\n",
       "      <td>24</td>\n",
       "    </tr>\n",
       "    <tr>\n",
       "      <th>2115</th>\n",
       "      <td>шоссе Энтузиастов</td>\n",
       "      <td>Перово</td>\n",
       "      <td>7</td>\n",
       "    </tr>\n",
       "    <tr>\n",
       "      <th>2116</th>\n",
       "      <td>шоссе Энтузиастов</td>\n",
       "      <td>Соколиная Гора</td>\n",
       "      <td>7</td>\n",
       "    </tr>\n",
       "  </tbody>\n",
       "</table>\n",
       "<p>2117 rows × 3 columns</p>\n",
       "</div>"
      ],
      "text/plain": [
       "                        street         district  id\n",
       "0     1-й Автозаводский проезд   Даниловский     3 \n",
       "1     1-й Амбулаторный проезд    Аэропорт        2 \n",
       "2     1-й Балтийский переулок    Аэропорт        1 \n",
       "3     1-й Басманный переулок     Красносельский  1 \n",
       "4     1-й Ботанический проезд    Свиблово        1 \n",
       "...                       ...         ...       .. \n",
       "2112  шоссе Энтузиастов          Ивановское      8 \n",
       "2113  шоссе Энтузиастов          Измайлово       1 \n",
       "2114  шоссе Энтузиастов          Лефортово       24\n",
       "2115  шоссе Энтузиастов          Перово          7 \n",
       "2116  шоссе Энтузиастов          Соколиная Гора  7 \n",
       "\n",
       "[2117 rows x 3 columns]"
      ]
     },
     "execution_count": 38,
     "metadata": {},
     "output_type": "execute_result"
    }
   ],
   "source": [
    "streets_district_data_new = rest_data.groupby(['street','district'], as_index=False).agg({'id' : 'count'})\n",
    "streets_district_data_new"
   ]
  },
  {
   "cell_type": "markdown",
   "metadata": {},
   "source": [
    "*   отфильтруем таблицу: оставим только те улицы и районы, где количество заведений соответствует **1**"
   ]
  },
  {
   "cell_type": "code",
   "execution_count": 39,
   "metadata": {},
   "outputs": [
    {
     "data": {
      "text/html": [
       "<div>\n",
       "<style scoped>\n",
       "    .dataframe tbody tr th:only-of-type {\n",
       "        vertical-align: middle;\n",
       "    }\n",
       "\n",
       "    .dataframe tbody tr th {\n",
       "        vertical-align: top;\n",
       "    }\n",
       "\n",
       "    .dataframe thead th {\n",
       "        text-align: right;\n",
       "    }\n",
       "</style>\n",
       "<table border=\"1\" class=\"dataframe\">\n",
       "  <thead>\n",
       "    <tr style=\"text-align: right;\">\n",
       "      <th></th>\n",
       "      <th>street</th>\n",
       "      <th>district</th>\n",
       "      <th>id</th>\n",
       "    </tr>\n",
       "  </thead>\n",
       "  <tbody>\n",
       "    <tr>\n",
       "      <th>2</th>\n",
       "      <td>1-й Балтийский переулок</td>\n",
       "      <td>Аэропорт</td>\n",
       "      <td>1</td>\n",
       "    </tr>\n",
       "    <tr>\n",
       "      <th>3</th>\n",
       "      <td>1-й Басманный переулок</td>\n",
       "      <td>Красносельский</td>\n",
       "      <td>1</td>\n",
       "    </tr>\n",
       "    <tr>\n",
       "      <th>4</th>\n",
       "      <td>1-й Ботанический проезд</td>\n",
       "      <td>Свиблово</td>\n",
       "      <td>1</td>\n",
       "    </tr>\n",
       "    <tr>\n",
       "      <th>7</th>\n",
       "      <td>1-й Вешняковский проезд</td>\n",
       "      <td>Рязанский</td>\n",
       "      <td>1</td>\n",
       "    </tr>\n",
       "    <tr>\n",
       "      <th>9</th>\n",
       "      <td>1-й Голутвинский переулок</td>\n",
       "      <td>Якиманка</td>\n",
       "      <td>1</td>\n",
       "    </tr>\n",
       "    <tr>\n",
       "      <th>...</th>\n",
       "      <td>...</td>\n",
       "      <td>...</td>\n",
       "      <td>...</td>\n",
       "    </tr>\n",
       "    <tr>\n",
       "      <th>2099</th>\n",
       "      <td>улица Шумкина</td>\n",
       "      <td>Сокольники</td>\n",
       "      <td>1</td>\n",
       "    </tr>\n",
       "    <tr>\n",
       "      <th>2101</th>\n",
       "      <td>улица Шухова</td>\n",
       "      <td>Донской</td>\n",
       "      <td>1</td>\n",
       "    </tr>\n",
       "    <tr>\n",
       "      <th>2104</th>\n",
       "      <td>улица Щорса</td>\n",
       "      <td>Солнцево</td>\n",
       "      <td>1</td>\n",
       "    </tr>\n",
       "    <tr>\n",
       "      <th>2111</th>\n",
       "      <td>шоссе Фрезер</td>\n",
       "      <td>Нижегородский</td>\n",
       "      <td>1</td>\n",
       "    </tr>\n",
       "    <tr>\n",
       "      <th>2113</th>\n",
       "      <td>шоссе Энтузиастов</td>\n",
       "      <td>Измайлово</td>\n",
       "      <td>1</td>\n",
       "    </tr>\n",
       "  </tbody>\n",
       "</table>\n",
       "<p>619 rows × 3 columns</p>\n",
       "</div>"
      ],
      "text/plain": [
       "                         street         district  id\n",
       "2     1-й Балтийский переулок     Аэропорт        1 \n",
       "3     1-й Басманный переулок      Красносельский  1 \n",
       "4     1-й Ботанический проезд     Свиблово        1 \n",
       "7     1-й Вешняковский проезд     Рязанский       1 \n",
       "9     1-й Голутвинский переулок   Якиманка        1 \n",
       "...                         ...        ...       .. \n",
       "2099  улица Шумкина               Сокольники      1 \n",
       "2101  улица Шухова                Донской         1 \n",
       "2104  улица Щорса                 Солнцево        1 \n",
       "2111  шоссе Фрезер                Нижегородский   1 \n",
       "2113  шоссе Энтузиастов           Измайлово       1 \n",
       "\n",
       "[619 rows x 3 columns]"
      ]
     },
     "execution_count": 39,
     "metadata": {},
     "output_type": "execute_result"
    }
   ],
   "source": [
    "streets_district_filtered = streets_district_data_new.query('id == \"1\"')\n",
    "streets_district_filtered"
   ]
  },
  {
   "cell_type": "markdown",
   "metadata": {},
   "source": [
    "*   сгруппируем отфильтрованную таблицу **streets_district_filtered** по районам и посчитаем количество принажлежащим к ним улиц (с единичными заведениями), затем выведем топ-10 районов с подобными улицами"
   ]
  },
  {
   "cell_type": "code",
   "execution_count": 40,
   "metadata": {},
   "outputs": [
    {
     "data": {
      "text/html": [
       "<div>\n",
       "<style scoped>\n",
       "    .dataframe tbody tr th:only-of-type {\n",
       "        vertical-align: middle;\n",
       "    }\n",
       "\n",
       "    .dataframe tbody tr th {\n",
       "        vertical-align: top;\n",
       "    }\n",
       "\n",
       "    .dataframe thead th {\n",
       "        text-align: right;\n",
       "    }\n",
       "</style>\n",
       "<table border=\"1\" class=\"dataframe\">\n",
       "  <thead>\n",
       "    <tr style=\"text-align: right;\">\n",
       "      <th></th>\n",
       "      <th>street</th>\n",
       "    </tr>\n",
       "    <tr>\n",
       "      <th>district</th>\n",
       "      <th></th>\n",
       "    </tr>\n",
       "  </thead>\n",
       "  <tbody>\n",
       "    <tr>\n",
       "      <th>Таганский</th>\n",
       "      <td>29</td>\n",
       "    </tr>\n",
       "    <tr>\n",
       "      <th>Басманный</th>\n",
       "      <td>27</td>\n",
       "    </tr>\n",
       "    <tr>\n",
       "      <th>Хамовники</th>\n",
       "      <td>27</td>\n",
       "    </tr>\n",
       "    <tr>\n",
       "      <th>Тверской</th>\n",
       "      <td>23</td>\n",
       "    </tr>\n",
       "    <tr>\n",
       "      <th>Пресненский</th>\n",
       "      <td>21</td>\n",
       "    </tr>\n",
       "    <tr>\n",
       "      <th>Марьина Роща</th>\n",
       "      <td>18</td>\n",
       "    </tr>\n",
       "    <tr>\n",
       "      <th>Арбат</th>\n",
       "      <td>14</td>\n",
       "    </tr>\n",
       "    <tr>\n",
       "      <th>Сокольники</th>\n",
       "      <td>14</td>\n",
       "    </tr>\n",
       "    <tr>\n",
       "      <th>Даниловский</th>\n",
       "      <td>13</td>\n",
       "    </tr>\n",
       "    <tr>\n",
       "      <th>Мещанский</th>\n",
       "      <td>13</td>\n",
       "    </tr>\n",
       "  </tbody>\n",
       "</table>\n",
       "</div>"
      ],
      "text/plain": [
       "               street\n",
       "district             \n",
       " Таганский     29    \n",
       " Басманный     27    \n",
       " Хамовники     27    \n",
       " Тверской      23    \n",
       " Пресненский   21    \n",
       " Марьина Роща  18    \n",
       " Арбат         14    \n",
       " Сокольники    14    \n",
       " Даниловский   13    \n",
       " Мещанский     13    "
      ]
     },
     "execution_count": 40,
     "metadata": {},
     "output_type": "execute_result"
    }
   ],
   "source": [
    "streets_district_grouped = streets_district_filtered.groupby('district').agg({'street':'count'})\n",
    "streets_district_grouped.sort_values(by='street', ascending=False).head(10)"
   ]
  },
  {
   "cell_type": "markdown",
   "metadata": {},
   "source": [
    "**Вывод**: если мы опять же посмотрим на карту Москвы, то увидим, что почти все районы, указанные в нашем топ-10 принадлежат к Центральному административному округу (либо рядом с ним, как в случае с Марьиной Рощей, Сокольниками). Возможные причины такого распределения:\n",
    "\n",
    "1.   Короткие улицы в центре (есть улицы, длина которых не достигает даже 100 метров (источник: https://zen.yandex.ru/media/112/6-samyh-korotkih-ulic-moskvy-ih-dlina-menee-100-metrov-5ee2a058627408402c7147dd))\n",
    "\n",
    "2.   Высокая аренда\n",
    "\n",
    "3.   Небольшие помещения"
   ]
  },
  {
   "cell_type": "markdown",
   "metadata": {},
   "source": [
    "\n",
    "### 2.9. Рассмотрим распределение количества посадочных мест для улиц с большим количеством объектов общественного питания и выявить закономерности."
   ]
  },
  {
   "cell_type": "markdown",
   "metadata": {},
   "source": [
    "Для того,чтобы построить график распределения, нам понадобится ***top_10_streets_list*** со списком улиц из *топ-10*. "
   ]
  },
  {
   "cell_type": "markdown",
   "metadata": {},
   "source": [
    "Строим график:"
   ]
  },
  {
   "cell_type": "code",
   "execution_count": 41,
   "metadata": {},
   "outputs": [
    {
     "name": "stderr",
     "output_type": "stream",
     "text": [
      "/home/kseniya/anaconda3/lib/python3.8/site-packages/seaborn/_decorators.py:36: FutureWarning: Pass the following variable as a keyword arg: x. From version 0.12, the only valid positional argument will be `data`, and passing other arguments without an explicit keyword will result in an error or misinterpretation.\n",
      "  warnings.warn(\n",
      "/home/kseniya/anaconda3/lib/python3.8/site-packages/seaborn/distributions.py:2551: FutureWarning: `distplot` is a deprecated function and will be removed in a future version. Please adapt your code to use either `displot` (a figure-level function with similar flexibility) or `histplot` (an axes-level function for histograms).\n",
      "  warnings.warn(msg, FutureWarning)\n"
     ]
    },
    {
     "data": {
      "image/png": "[encoded data removed]",
      "text/plain": [
       "<Figure size 1008x576 with 2 Axes>"
      ]
     },
     "metadata": {
      "needs_background": "light"
     },
     "output_type": "display_data"
    }
   ],
   "source": [
    "figure, (ax_box, ax_hist) = plt.subplots(2, sharex=True, gridspec_kw={\"height_ratios\":(.15,.85)}, figsize=(14,8))\n",
    "sns.boxplot(rest_data[rest_data['street'].isin(top_10_streets_list)]['number'], ax=ax_box)\n",
    "sns.distplot(rest_data[rest_data['street'].isin(top_10_streets_list)]['number'], ax=ax_hist)\n",
    "plt.title('Распределение количества посадочных мест на улицах из списка топ_10', fontsize=20)\n",
    "plt.xlabel('количество посадочных мест')\n",
    "plt.ylabel('плотность')\n",
    "ax_box.set(xlabel=None)\n",
    "plt.show()"
   ]
  },
  {
   "cell_type": "markdown",
   "metadata": {},
   "source": [
    "**Вывод**: по этому графику видим, что в основном в заведениях на улицах из нашего списка количество посадочных мест составляет **100** (об этом говорит и значение медианы на \"ящике с усами\", и самая высокая планка на гистограмме). Заведений же, где количество посадочных мест превышает **250**, совсем немного - на гистограмме их плотность фактически равна 0, а на \"ящике с усами\" за этой границей обозначаются аномальные значения."
   ]
  },
  {
   "cell_type": "markdown",
   "metadata": {},
   "source": [
    "Из этого мы делаем вывод, что на этих улицах расположено много заведений, но небольших по вместимости."
   ]
  },
  {
   "cell_type": "markdown",
   "metadata": {},
   "source": [
    "\n",
    "##  Шаг 3.Общий вывод"
   ]
  },
  {
   "cell_type": "markdown",
   "metadata": {},
   "source": [
    "Нам было необходимо проанализировать рынок общественного питания Москвы, чтобы сделать для себя некоторые выводы о том, какого типа заведение нам можно было бы открыть, в каком районе Москвы и какова может быть его вместимость,  а также подумать о возможности сетевого развития."
   ]
  },
  {
   "cell_type": "markdown",
   "metadata": {},
   "source": [
    "В Москве превалируют *кафе* (с большим отрывом - их по нашим данным **6000**). На втором месте - *столовые* (больше **2000**), на третьем - *закусочные* (разрыв между 2ым и 3им местом небольшой, закусочных в Москве около **2000**). Из этого распределения можно сделать вывод, что пользуются спросом места, где люди не будут сидеть очень долго (Москва - город с высоким темпом жизни, у многих просто нет времени на длительное посещение ресторанов). Меньше всего *буфетов*, *баров* и *отделов кулинарии в магазинах*. "
   ]
  },
  {
   "cell_type": "markdown",
   "metadata": {},
   "source": [
    "Подавляющее большинство заведений - **не сетевые**. Это хороший признак - значит посетители доверяют оригинальным заведениям даже больше, чем сетевым. В сетевых точках общественного питания все поставлено на поток. Заведения, работающие \"на себя\", больше вкладыют сил и средств в качество и оригинальность блюд, которые они предлагают посетителям. Их задача - понравится и ***запомниться***, чтобы сработало так называемое  *\"сарафанное радио*\". "
   ]
  },
  {
   "cell_type": "markdown",
   "metadata": {},
   "source": [
    "Нам также необходимо было выяснить характерные признаки сетевых заведений. Самые распространенные типы объектов:\n",
    "\n",
    "\n",
    "1) *предприятие быстрого обслуживания*(**40,5%**)\n",
    "\n",
    "2) *отдел кулинарии в магазинах*(**30,6%**)\n",
    "\n",
    "3) *кафе, ресторан* (у них по **23%**)\n",
    "\n",
    "Для сетевых заведений характерно большое количество заведений с небольшим количеством посадочных мест, так как их задача состоит в том, чтобы покрыть как можно большую территорию (к примеру, это могут быть ларьки на фудкортах, не подразумевающие отдельно выделенных посадочных мест). "
   ]
  },
  {
   "cell_type": "markdown",
   "metadata": {},
   "source": [
    "Мы расчитали среднее количество посадочных мест для каждого типа обьъекта общественного питания. Самое большое среднее количество посадочных мест у *столовых*(больше **120**) и *ресторанов*(около **100**). Это логично: в столовых обычно большие, вместительные залы, чтобы в часы обеденных перерыров могло сесть как можно больше людей. А в ресторанах часто проводят банкеты для большого количества человек."
   ]
  },
  {
   "cell_type": "markdown",
   "metadata": {},
   "source": [
    "Нам нужно было расчитать **топ-10** улиц с самым большим количеством заведений. "
   ]
  },
  {
   "cell_type": "code",
   "execution_count": 42,
   "metadata": {},
   "outputs": [
    {
     "data": {
      "text/html": [
       "<div>\n",
       "<style scoped>\n",
       "    .dataframe tbody tr th:only-of-type {\n",
       "        vertical-align: middle;\n",
       "    }\n",
       "\n",
       "    .dataframe tbody tr th {\n",
       "        vertical-align: top;\n",
       "    }\n",
       "\n",
       "    .dataframe thead th {\n",
       "        text-align: right;\n",
       "    }\n",
       "</style>\n",
       "<table border=\"1\" class=\"dataframe\">\n",
       "  <thead>\n",
       "    <tr style=\"text-align: right;\">\n",
       "      <th></th>\n",
       "      <th>street</th>\n",
       "      <th>id</th>\n",
       "    </tr>\n",
       "  </thead>\n",
       "  <tbody>\n",
       "    <tr>\n",
       "      <th>1366</th>\n",
       "      <td>проспект Мира</td>\n",
       "      <td>203</td>\n",
       "    </tr>\n",
       "    <tr>\n",
       "      <th>978</th>\n",
       "      <td>Профсоюзная улица</td>\n",
       "      <td>182</td>\n",
       "    </tr>\n",
       "    <tr>\n",
       "      <th>664</th>\n",
       "      <td>Ленинградский проспект</td>\n",
       "      <td>171</td>\n",
       "    </tr>\n",
       "    <tr>\n",
       "      <th>963</th>\n",
       "      <td>Пресненская набережная</td>\n",
       "      <td>164</td>\n",
       "    </tr>\n",
       "    <tr>\n",
       "      <th>386</th>\n",
       "      <td>Варшавское шоссе</td>\n",
       "      <td>158</td>\n",
       "    </tr>\n",
       "    <tr>\n",
       "      <th>667</th>\n",
       "      <td>Ленинский проспект</td>\n",
       "      <td>149</td>\n",
       "    </tr>\n",
       "    <tr>\n",
       "      <th>1362</th>\n",
       "      <td>проспект Вернадского</td>\n",
       "      <td>132</td>\n",
       "    </tr>\n",
       "    <tr>\n",
       "      <th>655</th>\n",
       "      <td>Кутузовский проспект</td>\n",
       "      <td>114</td>\n",
       "    </tr>\n",
       "    <tr>\n",
       "      <th>580</th>\n",
       "      <td>Каширское шоссе</td>\n",
       "      <td>110</td>\n",
       "    </tr>\n",
       "    <tr>\n",
       "      <th>586</th>\n",
       "      <td>Кировоградская улица</td>\n",
       "      <td>107</td>\n",
       "    </tr>\n",
       "  </tbody>\n",
       "</table>\n",
       "</div>"
      ],
      "text/plain": [
       "                      street   id\n",
       "1366  проспект Мира           203\n",
       "978   Профсоюзная улица       182\n",
       "664   Ленинградский проспект  171\n",
       "963   Пресненская набережная  164\n",
       "386   Варшавское шоссе        158\n",
       "667   Ленинский проспект      149\n",
       "1362  проспект Вернадского    132\n",
       "655   Кутузовский проспект    114\n",
       "580   Каширское шоссе         110\n",
       "586   Кировоградская улица    107"
      ]
     },
     "execution_count": 42,
     "metadata": {},
     "output_type": "execute_result"
    }
   ],
   "source": [
    "top_10_streets"
   ]
  },
  {
   "cell_type": "markdown",
   "metadata": {},
   "source": [
    "Все улицы, вошедшие в топ-10 достаточно длинные, поэтому на них расположено так много заведений. Однако, на первом месте Проспект мира. И хотя его протяженность - 9 км , тот факт, что часть улицы находится в Центральном округе Москвы, играет ключевую роль. "
   ]
  },
  {
   "cell_type": "markdown",
   "metadata": {},
   "source": [
    "Далее мы выявили для нашего списка улиц с самым большим количеством заведений районы, к которым они принадлежат. Если посмотреть на карту Москвы с обозначенными на ней районами (источник: https://yandex.ru/images/search?pos=2&img_url=https%3A%2F%2Fbe-t.ru%2Fimages%2Ffoto%2Findoor%2Fkarta_moskva.png&text=%D0%BA%D0%B0%D1%80%D1%82%D0%B0%20%D0%BC%D0%BE%D1%81%D0%BA%D0%B2%D1%8B%20%D0%BF%D0%BE%20%D1%80%D0%B0%D0%B9%D0%BE%D0%BD%D0%B0%D0%BC&lr=213&rpt=simage&source=wiz), можно убедиться в том, что в  все выявленные нами районы находятся в **Южном, Юго-Западном** и **Западном округах** Москвы (за исключением районов, в которых находится проспект Мира и Ленинградский проспект, то есть только 2 улицы). Из этого мы можем сделать вывод, что в этих округах большая концентрация заведений, а значит *большая конкуренция*. В то же время этот факт может говорить о том,что:\n",
    "\n",
    "1)   в этих районах не очень высокие цены за аренду помещений;\n",
    "\n",
    "2)   высокая проходимость (именно в этих округах находится МГУ (большое количество студентов), Большой Московский цирк, Воробьевы горы (туристическое место))."
   ]
  },
  {
   "cell_type": "markdown",
   "metadata": {},
   "source": [
    "Мы также построили график распределения количества посадочных мест в заведениях на улицах из *топ-10*. В основном в заведениях на улицах из нашего списка количество посадочных мест составляет **100** (об этом говорит и значение медианы на \"ящике с усами\", и самая высокая планка на гистограмме). Заведений же, где количество посадочных мест превышает **250**, совсем немного - на гистограмме их плотность фактически равна 0, а на \"ящике с усами\" за этой границей обозначаются аномальные значения. Из этого мы делаем вывод, что на этих улицах расположено много заведений, но небольших по вместимости."
   ]
  },
  {
   "cell_type": "markdown",
   "metadata": {},
   "source": [
    "А вот улицы с *одним объектом общественного питания* расположены, наоборот, в Центральном округе или близко к нему:"
   ]
  },
  {
   "cell_type": "code",
   "execution_count": 43,
   "metadata": {},
   "outputs": [
    {
     "data": {
      "text/html": [
       "<div>\n",
       "<style scoped>\n",
       "    .dataframe tbody tr th:only-of-type {\n",
       "        vertical-align: middle;\n",
       "    }\n",
       "\n",
       "    .dataframe tbody tr th {\n",
       "        vertical-align: top;\n",
       "    }\n",
       "\n",
       "    .dataframe thead th {\n",
       "        text-align: right;\n",
       "    }\n",
       "</style>\n",
       "<table border=\"1\" class=\"dataframe\">\n",
       "  <thead>\n",
       "    <tr style=\"text-align: right;\">\n",
       "      <th></th>\n",
       "      <th>street</th>\n",
       "    </tr>\n",
       "    <tr>\n",
       "      <th>district</th>\n",
       "      <th></th>\n",
       "    </tr>\n",
       "  </thead>\n",
       "  <tbody>\n",
       "    <tr>\n",
       "      <th>Таганский</th>\n",
       "      <td>29</td>\n",
       "    </tr>\n",
       "    <tr>\n",
       "      <th>Басманный</th>\n",
       "      <td>27</td>\n",
       "    </tr>\n",
       "    <tr>\n",
       "      <th>Хамовники</th>\n",
       "      <td>27</td>\n",
       "    </tr>\n",
       "    <tr>\n",
       "      <th>Тверской</th>\n",
       "      <td>23</td>\n",
       "    </tr>\n",
       "    <tr>\n",
       "      <th>Пресненский</th>\n",
       "      <td>21</td>\n",
       "    </tr>\n",
       "    <tr>\n",
       "      <th>Марьина Роща</th>\n",
       "      <td>18</td>\n",
       "    </tr>\n",
       "    <tr>\n",
       "      <th>Арбат</th>\n",
       "      <td>14</td>\n",
       "    </tr>\n",
       "    <tr>\n",
       "      <th>Сокольники</th>\n",
       "      <td>14</td>\n",
       "    </tr>\n",
       "    <tr>\n",
       "      <th>Даниловский</th>\n",
       "      <td>13</td>\n",
       "    </tr>\n",
       "    <tr>\n",
       "      <th>Мещанский</th>\n",
       "      <td>13</td>\n",
       "    </tr>\n",
       "  </tbody>\n",
       "</table>\n",
       "</div>"
      ],
      "text/plain": [
       "               street\n",
       "district             \n",
       " Таганский     29    \n",
       " Басманный     27    \n",
       " Хамовники     27    \n",
       " Тверской      23    \n",
       " Пресненский   21    \n",
       " Марьина Роща  18    \n",
       " Арбат         14    \n",
       " Сокольники    14    \n",
       " Даниловский   13    \n",
       " Мещанский     13    "
      ]
     },
     "execution_count": 43,
     "metadata": {},
     "output_type": "execute_result"
    }
   ],
   "source": [
    "streets_district_grouped.sort_values(by='street', ascending=False).head(10)"
   ]
  },
  {
   "cell_type": "markdown",
   "metadata": {},
   "source": [
    "Возможные причины такого распределения:\n",
    "\n",
    "1.   Короткие улицы в центре Москвы\n",
    "\n",
    "2.   Высокая аренда\n",
    "\n",
    "3.   Небольшие помещения"
   ]
  },
  {
   "cell_type": "markdown",
   "metadata": {},
   "source": [
    "### 3.1.Рекомендации"
   ]
  },
  {
   "cell_type": "markdown",
   "metadata": {},
   "source": [
    "\n",
    "\n",
    "1.   Заведение, которое планируется открыть, не стоит располагать в центре. Оно может затеряться среди сетевых заведений и уже укоренившихся там ресторанов, имеющих уже наработанную клиентуру. Возможно, что хорошим вариантом расположения являются *Раменки*, *Ломоносовский*, *Проспект Вернадского*, потому что:\n",
    "   -  эти районы расположены не слишком далеко от центра;\n",
    "        \n",
    "   -  в Раменках расположен МГУ, наше заведение может привлечь много молодежи, которая открыта всему новому и оригинальному;\n",
    "        \n",
    "   -  в этих районах есть туристические места.\n",
    "   \n",
    "   Есть **второй вариант**: можно расположить заведение недалеко от центра , но в другой стороне Москвы. Например, в районах *Сокол* или *Хорошевский* (там сейчас строится много новых домов).\n",
    "   \n",
    "   **Третий вариант**: расположить заведение в районах, близких к центру, но не входящих в топ-10. Например, Восточный округ(районы Измайлово, Севереное Измайлово - тоже туристический центр). Там не такая большая конкуренция."
   ]
  },
  {
   "cell_type": "markdown",
   "metadata": {},
   "source": [
    "2. Рекомендуемый тип заведения - **кафе**. Мы исключаем все заведения самообслуживания(столовые, закусочные, предприятия быстрого обслуживания), так как мы делаем ставку на оригинальный \"персонал\". \n",
    "\n",
    "В ресторан же люди ходят не только за едой, но и за сервисом, соответственно, в ресторане персонал все-таки должен быть \"живой\".\n",
    "\n",
    "Кафе для нашего заведения будет оптимальным типом. Люди будут заходить туда отчасти как на аттракцион, посещая наше заведение, чтобы оценить нововведения. Мы, в свою очередь, можем предложить им помимо \"аттракциона\" еще и качественные, вкусные блюда. Тогда, вероятно, кленты будут возвращться в наше кафе и рекомендовть нас. "
   ]
  },
  {
   "cell_type": "markdown",
   "metadata": {},
   "source": [
    "3. Количество посадочных мест на *начальном этапе* не должно превышать **50-70**, чтобы опробовать и наладить алгоритм работы с роботами. Когда заведение \"встанет на ноги\", можно будет расшириться до **100-120**, возможно даже предлагать услугу организации банкетов на большое количество человек."
   ]
  },
  {
   "cell_type": "markdown",
   "metadata": {},
   "source": [
    "4. Возможность сетевого распространений не стоит рассматривать, по крайней мере в ближайшее время по причине того, что наше заведение весьма дорогое в обслуживании. И особенно первое время не обойдется без ошибок со стороны \"персонала\",то есть роботов. К такому формату нужно будет приспосабливаться и сотрудникам, и посетителям. Поэтому , скорее всего, нам понадобиться некоторое время, чтобы уверенно работать на одном месте, привлечь, заинтересовать клиентов бесперебойной, качественной работой.\n",
    "\n",
    "Возможно,через какое-то время, когда алгоритм работы будет отлажен, можно задуматься о создании сети, но первое время нужно сосредоточиться на одном заведении."
   ]
  }
 ],
 "metadata": {
  "kernelspec": {
   "display_name": "Python 3",
   "language": "python",
   "name": "python3"
  },
  "language_info": {
   "codemirror_mode": {
    "name": "ipython",
    "version": 3
   },
   "file_extension": ".py",
   "mimetype": "text/x-python",
   "name": "python",
   "nbconvert_exporter": "python",
   "pygments_lexer": "ipython3",
   "version": "3.8.5"
  },
  "toc": {
   "base_numbering": 1,
   "nav_menu": {},
   "number_sections": false,
   "sideBar": true,
   "skip_h1_title": true,
   "title_cell": "План исследования",
   "title_sidebar": "Contents",
   "toc_cell": true,
   "toc_position": {},
   "toc_section_display": true,
   "toc_window_display": true
  }
 },
 "nbformat": 4,
 "nbformat_minor": 2
}
