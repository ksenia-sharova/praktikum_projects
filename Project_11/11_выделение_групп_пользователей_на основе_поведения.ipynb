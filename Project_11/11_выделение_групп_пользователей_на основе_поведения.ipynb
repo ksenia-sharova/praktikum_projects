{
 "cells": [
  {
   "cell_type": "markdown",
   "metadata": {
    "toc": true
   },
   "source": [
    "<h1>План исследования<span class=\"tocSkip\"></span></h1>\n",
    "<div class=\"toc\"><ul class=\"toc-item\"><li><span><a href=\"#Выделение-групп-пользователей-на-основе-поведения\" data-toc-modified-id=\"Выделение-групп-пользователей-на-основе-поведения-1\">Выделение групп пользователей на основе поведения</a></span><ul class=\"toc-item\"><li><span><a href=\"#Материалы\" data-toc-modified-id=\"Материалы-1.1\">Материалы</a></span></li><li><span><a href=\"#Шаг-1.-Предобработка-данных\" data-toc-modified-id=\"Шаг-1.-Предобработка-данных-1.2\">Шаг 1. Предобработка данных</a></span><ul class=\"toc-item\"><li><span><a href=\"#1.1.-Выгружаем-данные\" data-toc-modified-id=\"1.1.-Выгружаем-данные-1.2.1\">1.1. Выгружаем данные</a></span></li><li><span><a href=\"#1.2.-Исследуем-общую-информацию-о-таблицах\" data-toc-modified-id=\"1.2.-Исследуем-общую-информацию-о-таблицах-1.2.2\">1.2. Исследуем общую информацию о таблицах</a></span></li><li><span><a href=\"#1.3.-Замена-названий-столбцов\" data-toc-modified-id=\"1.3.-Замена-названий-столбцов-1.2.3\">1.3. Замена названий столбцов</a></span></li><li><span><a href=\"#1.4.-Замена-названий-одинаковых-по-смыслу-значений\" data-toc-modified-id=\"1.4.-Замена-названий-одинаковых-по-смыслу-значений-1.2.4\">1.4. Замена названий одинаковых по смыслу значений</a></span></li><li><span><a href=\"#1.5.-Замена-типа-данных\" data-toc-modified-id=\"1.5.-Замена-типа-данных-1.2.5\">1.5. Замена типа данных</a></span></li><li><span><a href=\"#1.6.-Проверка-таблиц-на-дубликаты\" data-toc-modified-id=\"1.6.-Проверка-таблиц-на-дубликаты-1.2.6\">1.6. Проверка таблиц на дубликаты</a></span></li><li><span><a href=\"#1.7.-Объединение-таблиц\" data-toc-modified-id=\"1.7.-Объединение-таблиц-1.2.7\">1.7. Объединение таблиц</a></span></li><li><span><a href=\"#1.8.-Определим-за-какой-период-мы-обладаем-данными-на-самом-деле\" data-toc-modified-id=\"1.8.-Определим-за-какой-период-мы-обладаем-данными-на-самом-деле-1.2.8\">1.8. Определим за какой период мы обладаем данными на самом деле</a></span></li><li><span><a href=\"#1.9.-Проверим-данные-на-аномальные-значения\" data-toc-modified-id=\"1.9.-Проверим-данные-на-аномальные-значения-1.2.9\">1.9. Проверим данные на аномальные значения</a></span></li><li><span><a href=\"#1.10-Вывод\" data-toc-modified-id=\"1.10-Вывод-1.2.10\">1.10 Вывод</a></span></li></ul></li><li><span><a href=\"#Шаг-2.-Расчет-метрик\" data-toc-modified-id=\"Шаг-2.-Расчет-метрик-1.3\">Шаг 2. Расчет метрик</a></span><ul class=\"toc-item\"><li><span><a href=\"#2.1.-Retantion-Rate-(«коэффициент-удержания»)\" data-toc-modified-id=\"2.1.-Retantion-Rate-(«коэффициент-удержания»)-1.3.1\">2.1. Retantion Rate («коэффициент удержания»)</a></span></li><li><span><a href=\"#2.2.-Время,-проведенное-в-приложении\" data-toc-modified-id=\"2.2.-Время,-проведенное-в-приложении-1.3.2\">2.2. Время, проведенное в приложении</a></span></li><li><span><a href=\"#2.3.-Частота-действий\" data-toc-modified-id=\"2.3.-Частота-действий-1.3.3\">2.3. Частота действий</a></span></li><li><span><a href=\"#2.4.-Конверсия-в-целевое-действие-—-просмотр-контактов\" data-toc-modified-id=\"2.4.-Конверсия-в-целевое-действие-—-просмотр-контактов-1.3.4\">2.4. Конверсия в целевое действие — просмотр контактов</a></span></li><li><span><a href=\"#2.5.-Вывод\" data-toc-modified-id=\"2.5.-Вывод-1.3.5\">2.5. Вывод</a></span></li></ul></li><li><span><a href=\"#Шаг-3.-Сегментация-пользователей-по-действиям\" data-toc-modified-id=\"Шаг-3.-Сегментация-пользователей-по-действиям-1.4\">Шаг 3. Сегментация пользователей по действиям</a></span><ul class=\"toc-item\"><li><span><a href=\"#3.1.-По-источнику,-с-которого-пользователь-установил-приложение\" data-toc-modified-id=\"3.1.-По-источнику,-с-которого-пользователь-установил-приложение-1.4.1\">3.1. По источнику, с которого пользователь установил приложение</a></span></li><li><span><a href=\"#3.2.-По-пользователям,-позвонившим-по-номеру-телефона-на-карточке-объявления\" data-toc-modified-id=\"3.2.-По-пользователям,-позвонившим-по-номеру-телефона-на-карточке-объявления-1.4.2\">3.2. По пользователям, позвонившим по номеру телефона на карточке объявления</a></span></li><li><span><a href=\"#3.3.-По-пользователям,-которые-пользовались-поиском\" data-toc-modified-id=\"3.3.-По-пользователям,-которые-пользовались-поиском-1.4.3\">3.3. По пользователям, которые пользовались поиском</a></span></li><li><span><a href=\"#3.4.-По-пользователям,-кликнувшим-по-рекомендованным-объявлениям\" data-toc-modified-id=\"3.4.-По-пользователям,-кликнувшим-по-рекомендованным-объявлениям-1.4.4\">3.4. По пользователям, кликнувшим по рекомендованным объявлениям</a></span></li><li><span><a href=\"#3.5.--По-пользователям,-открывшим-карточки-объявления\" data-toc-modified-id=\"3.5.--По-пользователям,-открывшим-карточки-объявления-1.4.5\">3.5.  По пользователям, открывшим карточки объявления</a></span></li><li><span><a href=\"#3.6.-По-пользователям,-просмотревшим-рекомендации\" data-toc-modified-id=\"3.6.-По-пользователям,-просмотревшим-рекомендации-1.4.6\">3.6. По пользователям, просмотревшим рекомендации</a></span></li><li><span><a href=\"#3.7.-По-пользователям,-открывшим-карту-размещенных-объявлений\" data-toc-modified-id=\"3.7.-По-пользователям,-открывшим-карту-размещенных-объявлений-1.4.7\">3.7. По пользователям, открывшим карту размещенных объявлений</a></span></li><li><span><a href=\"#3.8.-Вывод\" data-toc-modified-id=\"3.8.-Вывод-1.4.8\">3.8. Вывод</a></span></li></ul></li><li><span><a href=\"#Шаг-4.-Проверка-статистических-гипотез\" data-toc-modified-id=\"Шаг-4.-Проверка-статистических-гипотез-1.5\">Шаг 4. Проверка статистических гипотез</a></span><ul class=\"toc-item\"><li><span><a href=\"#4.1.--Группы-yandex_df--и-google_df--демонстрируют-разную-конверсию-в-просмотры-контактов\" data-toc-modified-id=\"4.1.--Группы-yandex_df--и-google_df--демонстрируют-разную-конверсию-в-просмотры-контактов-1.5.1\">4.1.  Группы <em>yandex_df</em>  и <em>google_df</em>  демонстрируют разную конверсию в просмотры контактов</a></span></li><li><span><a href=\"#4.2.-Среднее-время,--проведенное-в-приложении,-у-групп-пользователей-,совершивших-целевое-действие(просмотр-контактов)-и-не-совершивших-его,-различается\" data-toc-modified-id=\"4.2.-Среднее-время,--проведенное-в-приложении,-у-групп-пользователей-,совершивших-целевое-действие(просмотр-контактов)-и-не-совершивших-его,-различается-1.5.2\">4.2. Среднее время,  проведенное в приложении, у групп пользователей ,совершивших целевое действие(просмотр контактов) и не совершивших его, различается</a></span></li><li><span><a href=\"#4.3.-Вывод\" data-toc-modified-id=\"4.3.-Вывод-1.5.3\">4.3. Вывод</a></span></li></ul></li><li><span><a href=\"#Шаг-5.-Общие-выводы-и-рекомендации\" data-toc-modified-id=\"Шаг-5.-Общие-выводы-и-рекомендации-1.6\">Шаг 5. Общие выводы и рекомендации</a></span><ul class=\"toc-item\"><li><span><a href=\"#5.1.-Выводы\" data-toc-modified-id=\"5.1.-Выводы-1.6.1\">5.1. Выводы</a></span></li><li><span><a href=\"#5.2.-Рекомендации\" data-toc-modified-id=\"5.2.-Рекомендации-1.6.2\">5.2. Рекомендации</a></span></li></ul></li></ul></li></ul></div>"
   ]
  },
  {
   "cell_type": "markdown",
   "metadata": {},
   "source": [
    "# Выделение групп пользователей на основе поведения"
   ]
  },
  {
   "cell_type": "markdown",
   "metadata": {},
   "source": [
    "Наша задача - выявить сильные и слабые стороны нашего мобильного приложения (*\"Ненужные вещи\"*) с помощью выделения групп пользователей на основе их дейтсвий в приложении."
   ]
  },
  {
   "cell_type": "markdown",
   "metadata": {},
   "source": [
    "## Материалы"
   ]
  },
  {
   "cell_type": "markdown",
   "metadata": {},
   "source": [
    "* [Презентация](https://drive.google.com/file/d/1sUicg31iJn9JpvfTN1V7zqezYKKeZRxn/view?usp=sharing)\n",
    "\n",
    "* [Дашборд](https://public.tableau.com/profile/ksenia.sharova#!/vizhome/Book3_16139308610790/sheet2_1?publish=yes)"
   ]
  },
  {
   "cell_type": "markdown",
   "metadata": {},
   "source": [
    "## Шаг 1. Предобработка данных"
   ]
  },
  {
   "cell_type": "markdown",
   "metadata": {},
   "source": [
    "### 1.1. Выгружаем данные"
   ]
  },
  {
   "cell_type": "markdown",
   "metadata": {},
   "source": [
    "Импортируем необходимые нам библиотеки:"
   ]
  },
  {
   "cell_type": "code",
   "execution_count": 1,
   "metadata": {},
   "outputs": [],
   "source": [
    "import numpy as np\n",
    "import pandas as pd\n",
    "from datetime import datetime\n",
    "import datetime as dt\n",
    "import matplotlib.pyplot as plt\n",
    "import seaborn as sns\n",
    "import plotly.express as px\n",
    "from plotly import graph_objects as go\n",
    "import scipy.stats as stats\n",
    "from scipy import stats as st\n",
    "import math as mth"
   ]
  },
  {
   "cell_type": "markdown",
   "metadata": {},
   "source": [
    "Выгружаем первый датасет, дадим ему название **mobile_df**:"
   ]
  },
  {
   "cell_type": "code",
   "execution_count": 2,
   "metadata": {},
   "outputs": [
    {
     "data": {
      "text/html": [
       "<div>\n",
       "<style scoped>\n",
       "    .dataframe tbody tr th:only-of-type {\n",
       "        vertical-align: middle;\n",
       "    }\n",
       "\n",
       "    .dataframe tbody tr th {\n",
       "        vertical-align: top;\n",
       "    }\n",
       "\n",
       "    .dataframe thead th {\n",
       "        text-align: right;\n",
       "    }\n",
       "</style>\n",
       "<table border=\"1\" class=\"dataframe\">\n",
       "  <thead>\n",
       "    <tr style=\"text-align: right;\">\n",
       "      <th></th>\n",
       "      <th>event.time</th>\n",
       "      <th>event.name</th>\n",
       "      <th>user.id</th>\n",
       "    </tr>\n",
       "  </thead>\n",
       "  <tbody>\n",
       "    <tr>\n",
       "      <td>0</td>\n",
       "      <td>2019-10-07 00:00:00.431357</td>\n",
       "      <td>advert_open</td>\n",
       "      <td>020292ab-89bc-4156-9acf-68bc2783f894</td>\n",
       "    </tr>\n",
       "    <tr>\n",
       "      <td>1</td>\n",
       "      <td>2019-10-07 00:00:01.236320</td>\n",
       "      <td>tips_show</td>\n",
       "      <td>020292ab-89bc-4156-9acf-68bc2783f894</td>\n",
       "    </tr>\n",
       "    <tr>\n",
       "      <td>2</td>\n",
       "      <td>2019-10-07 00:00:02.245341</td>\n",
       "      <td>tips_show</td>\n",
       "      <td>cf7eda61-9349-469f-ac27-e5b6f5ec475c</td>\n",
       "    </tr>\n",
       "    <tr>\n",
       "      <td>3</td>\n",
       "      <td>2019-10-07 00:00:07.039334</td>\n",
       "      <td>tips_show</td>\n",
       "      <td>020292ab-89bc-4156-9acf-68bc2783f894</td>\n",
       "    </tr>\n",
       "    <tr>\n",
       "      <td>4</td>\n",
       "      <td>2019-10-07 00:00:56.319813</td>\n",
       "      <td>advert_open</td>\n",
       "      <td>cf7eda61-9349-469f-ac27-e5b6f5ec475c</td>\n",
       "    </tr>\n",
       "    <tr>\n",
       "      <td>...</td>\n",
       "      <td>...</td>\n",
       "      <td>...</td>\n",
       "      <td>...</td>\n",
       "    </tr>\n",
       "    <tr>\n",
       "      <td>74192</td>\n",
       "      <td>2019-11-03 23:53:29.534986</td>\n",
       "      <td>tips_show</td>\n",
       "      <td>28fccdf4-7b9e-42f5-bc73-439a265f20e9</td>\n",
       "    </tr>\n",
       "    <tr>\n",
       "      <td>74193</td>\n",
       "      <td>2019-11-03 23:54:00.407086</td>\n",
       "      <td>tips_show</td>\n",
       "      <td>28fccdf4-7b9e-42f5-bc73-439a265f20e9</td>\n",
       "    </tr>\n",
       "    <tr>\n",
       "      <td>74194</td>\n",
       "      <td>2019-11-03 23:56:57.041825</td>\n",
       "      <td>search_1</td>\n",
       "      <td>20850c8f-4135-4059-b13b-198d3ac59902</td>\n",
       "    </tr>\n",
       "    <tr>\n",
       "      <td>74195</td>\n",
       "      <td>2019-11-03 23:57:06.232189</td>\n",
       "      <td>tips_show</td>\n",
       "      <td>28fccdf4-7b9e-42f5-bc73-439a265f20e9</td>\n",
       "    </tr>\n",
       "    <tr>\n",
       "      <td>74196</td>\n",
       "      <td>2019-11-03 23:58:12.532487</td>\n",
       "      <td>tips_show</td>\n",
       "      <td>28fccdf4-7b9e-42f5-bc73-439a265f20e9</td>\n",
       "    </tr>\n",
       "  </tbody>\n",
       "</table>\n",
       "<p>74197 rows × 3 columns</p>\n",
       "</div>"
      ],
      "text/plain": [
       "                       event.time   event.name  \\\n",
       "0      2019-10-07 00:00:00.431357  advert_open   \n",
       "1      2019-10-07 00:00:01.236320    tips_show   \n",
       "2      2019-10-07 00:00:02.245341    tips_show   \n",
       "3      2019-10-07 00:00:07.039334    tips_show   \n",
       "4      2019-10-07 00:00:56.319813  advert_open   \n",
       "...                           ...          ...   \n",
       "74192  2019-11-03 23:53:29.534986    tips_show   \n",
       "74193  2019-11-03 23:54:00.407086    tips_show   \n",
       "74194  2019-11-03 23:56:57.041825     search_1   \n",
       "74195  2019-11-03 23:57:06.232189    tips_show   \n",
       "74196  2019-11-03 23:58:12.532487    tips_show   \n",
       "\n",
       "                                    user.id  \n",
       "0      020292ab-89bc-4156-9acf-68bc2783f894  \n",
       "1      020292ab-89bc-4156-9acf-68bc2783f894  \n",
       "2      cf7eda61-9349-469f-ac27-e5b6f5ec475c  \n",
       "3      020292ab-89bc-4156-9acf-68bc2783f894  \n",
       "4      cf7eda61-9349-469f-ac27-e5b6f5ec475c  \n",
       "...                                     ...  \n",
       "74192  28fccdf4-7b9e-42f5-bc73-439a265f20e9  \n",
       "74193  28fccdf4-7b9e-42f5-bc73-439a265f20e9  \n",
       "74194  20850c8f-4135-4059-b13b-198d3ac59902  \n",
       "74195  28fccdf4-7b9e-42f5-bc73-439a265f20e9  \n",
       "74196  28fccdf4-7b9e-42f5-bc73-439a265f20e9  \n",
       "\n",
       "[74197 rows x 3 columns]"
      ]
     },
     "execution_count": 2,
     "metadata": {},
     "output_type": "execute_result"
    }
   ],
   "source": [
    "mobile_df = pd.read_csv('/datasets/mobile_dataset.csv')\n",
    "mobile_df"
   ]
  },
  {
   "cell_type": "markdown",
   "metadata": {},
   "source": [
    "Выгрузим второй датасет, дадим ему название **source_df**:"
   ]
  },
  {
   "cell_type": "code",
   "execution_count": 3,
   "metadata": {},
   "outputs": [
    {
     "data": {
      "text/html": [
       "<div>\n",
       "<style scoped>\n",
       "    .dataframe tbody tr th:only-of-type {\n",
       "        vertical-align: middle;\n",
       "    }\n",
       "\n",
       "    .dataframe tbody tr th {\n",
       "        vertical-align: top;\n",
       "    }\n",
       "\n",
       "    .dataframe thead th {\n",
       "        text-align: right;\n",
       "    }\n",
       "</style>\n",
       "<table border=\"1\" class=\"dataframe\">\n",
       "  <thead>\n",
       "    <tr style=\"text-align: right;\">\n",
       "      <th></th>\n",
       "      <th>userId</th>\n",
       "      <th>source</th>\n",
       "    </tr>\n",
       "  </thead>\n",
       "  <tbody>\n",
       "    <tr>\n",
       "      <td>0</td>\n",
       "      <td>020292ab-89bc-4156-9acf-68bc2783f894</td>\n",
       "      <td>other</td>\n",
       "    </tr>\n",
       "    <tr>\n",
       "      <td>1</td>\n",
       "      <td>cf7eda61-9349-469f-ac27-e5b6f5ec475c</td>\n",
       "      <td>yandex</td>\n",
       "    </tr>\n",
       "    <tr>\n",
       "      <td>2</td>\n",
       "      <td>8c356c42-3ba9-4cb6-80b8-3f868d0192c3</td>\n",
       "      <td>yandex</td>\n",
       "    </tr>\n",
       "    <tr>\n",
       "      <td>3</td>\n",
       "      <td>d9b06b47-0f36-419b-bbb0-3533e582a6cb</td>\n",
       "      <td>other</td>\n",
       "    </tr>\n",
       "    <tr>\n",
       "      <td>4</td>\n",
       "      <td>f32e1e2a-3027-4693-b793-b7b3ff274439</td>\n",
       "      <td>google</td>\n",
       "    </tr>\n",
       "    <tr>\n",
       "      <td>...</td>\n",
       "      <td>...</td>\n",
       "      <td>...</td>\n",
       "    </tr>\n",
       "    <tr>\n",
       "      <td>4288</td>\n",
       "      <td>b86fe56e-f2de-4f8a-b192-cd89a37ecd41</td>\n",
       "      <td>yandex</td>\n",
       "    </tr>\n",
       "    <tr>\n",
       "      <td>4289</td>\n",
       "      <td>424c0ae1-3ea3-4f1e-a814-6bac73e48ab1</td>\n",
       "      <td>yandex</td>\n",
       "    </tr>\n",
       "    <tr>\n",
       "      <td>4290</td>\n",
       "      <td>437a4cd4-9ba9-457f-8614-d142bc48fbeb</td>\n",
       "      <td>yandex</td>\n",
       "    </tr>\n",
       "    <tr>\n",
       "      <td>4291</td>\n",
       "      <td>c10055f0-0b47-477a-869e-d391b31fdf8f</td>\n",
       "      <td>yandex</td>\n",
       "    </tr>\n",
       "    <tr>\n",
       "      <td>4292</td>\n",
       "      <td>d157bffc-264d-4464-8220-1cc0c42f43a9</td>\n",
       "      <td>google</td>\n",
       "    </tr>\n",
       "  </tbody>\n",
       "</table>\n",
       "<p>4293 rows × 2 columns</p>\n",
       "</div>"
      ],
      "text/plain": [
       "                                    userId  source\n",
       "0     020292ab-89bc-4156-9acf-68bc2783f894   other\n",
       "1     cf7eda61-9349-469f-ac27-e5b6f5ec475c  yandex\n",
       "2     8c356c42-3ba9-4cb6-80b8-3f868d0192c3  yandex\n",
       "3     d9b06b47-0f36-419b-bbb0-3533e582a6cb   other\n",
       "4     f32e1e2a-3027-4693-b793-b7b3ff274439  google\n",
       "...                                    ...     ...\n",
       "4288  b86fe56e-f2de-4f8a-b192-cd89a37ecd41  yandex\n",
       "4289  424c0ae1-3ea3-4f1e-a814-6bac73e48ab1  yandex\n",
       "4290  437a4cd4-9ba9-457f-8614-d142bc48fbeb  yandex\n",
       "4291  c10055f0-0b47-477a-869e-d391b31fdf8f  yandex\n",
       "4292  d157bffc-264d-4464-8220-1cc0c42f43a9  google\n",
       "\n",
       "[4293 rows x 2 columns]"
      ]
     },
     "execution_count": 3,
     "metadata": {},
     "output_type": "execute_result"
    }
   ],
   "source": [
    "source_df = pd.read_csv('/datasets/mobile_soures.csv')\n",
    "source_df"
   ]
  },
  {
   "cell_type": "markdown",
   "metadata": {},
   "source": [
    "### 1.2. Исследуем общую информацию о таблицах"
   ]
  },
  {
   "cell_type": "code",
   "execution_count": 4,
   "metadata": {},
   "outputs": [
    {
     "name": "stdout",
     "output_type": "stream",
     "text": [
      "<class 'pandas.core.frame.DataFrame'>\n",
      "RangeIndex: 74197 entries, 0 to 74196\n",
      "Data columns (total 3 columns):\n",
      "event.time    74197 non-null object\n",
      "event.name    74197 non-null object\n",
      "user.id       74197 non-null object\n",
      "dtypes: object(3)\n",
      "memory usage: 1.7+ MB\n"
     ]
    }
   ],
   "source": [
    "mobile_df.info()"
   ]
  },
  {
   "cell_type": "markdown",
   "metadata": {},
   "source": [
    "Таблица **mobile_df** состоит из 74197 строк. Пропуски отсутствуют. Таблица содержит столбцы со следующей информацией:\n",
    "\n",
    "*  **event.time** - время совершения события;\n",
    "\n",
    "*  **event.name** - название события;\n",
    "\n",
    "   1) *advert_open* - открытие карточки объявления;\n",
    "   \n",
    "   2) *photos_show* - просмотр фотографий в объявлении;\n",
    "   \n",
    "   3) *tips_show* — пользователь увидел рекомендованные объявления;\n",
    "   \n",
    "   4) *tips_click* — пользователь кликнул по рекомендованному объявлению;\n",
    "   \n",
    "   5) *contacts_show* и *show_contacts* — пользователь нажал на кнопку \"посмотреть номер телефона\" на карточке объявления;\n",
    "   \n",
    "   6) *contacts_call* — пользователь позвонил по номеру телефона на карточке объявления;\n",
    "   \n",
    "   7) *map* — пользователь открыл карту размещенных объявлений;\n",
    "   \n",
    "   8) *search_1 — search_7* — разные события, связанные с поиском по сайту;\n",
    "   \n",
    "   9) *favorites_add* — добавление объявления в избранное;\n",
    "   \n",
    "\n",
    "*  **user.id** - идентификатор пользователя."
   ]
  },
  {
   "cell_type": "markdown",
   "metadata": {},
   "source": [
    "Все столбцы имеют тип данных **object**. Нам необходимо привести столбец *event.time* к нужному нам типу **datetime**. "
   ]
  },
  {
   "cell_type": "markdown",
   "metadata": {},
   "source": [
    "Также мы переименуем столбцы(для лучшего вида и будущего объединения таблиц) и в столбце *event.name* заменим значение \"*show_contacts*\" на \"*contacts_show*\" - это объединит одинаковые по смыслу значения, мы будем видеть более четкую картину распределения событий."
   ]
  },
  {
   "cell_type": "markdown",
   "metadata": {},
   "source": [
    "Посмотрим общую информацию о таблице **source_df**:"
   ]
  },
  {
   "cell_type": "code",
   "execution_count": 5,
   "metadata": {},
   "outputs": [
    {
     "name": "stdout",
     "output_type": "stream",
     "text": [
      "<class 'pandas.core.frame.DataFrame'>\n",
      "RangeIndex: 4293 entries, 0 to 4292\n",
      "Data columns (total 2 columns):\n",
      "userId    4293 non-null object\n",
      "source    4293 non-null object\n",
      "dtypes: object(2)\n",
      "memory usage: 67.2+ KB\n"
     ]
    }
   ],
   "source": [
    "source_df.info()"
   ]
  },
  {
   "cell_type": "markdown",
   "metadata": {},
   "source": [
    "Таблица состоит из 4293 строк. Пропуски также отсутствуют. Таблица содержит информацию о:\n",
    "\n",
    "*  **userId** - идентификатор пользователя;\n",
    "\n",
    "*  **source** - источник, с которого пользователь установил приложение."
   ]
  },
  {
   "cell_type": "markdown",
   "metadata": {},
   "source": [
    "Все столбцы имеют тип данных **object** - в этой таблице мы ничего менять не будем, такой тип данных нам подходит. Здесь также нужно поменять названия столбца *userId*."
   ]
  },
  {
   "cell_type": "markdown",
   "metadata": {},
   "source": [
    "### 1.3. Замена названий столбцов"
   ]
  },
  {
   "cell_type": "markdown",
   "metadata": {},
   "source": [
    "Заменим названия столбцов в датафрейме **mobile_df** на *event_time*, *event_name* и *user_id*:"
   ]
  },
  {
   "cell_type": "code",
   "execution_count": 6,
   "metadata": {},
   "outputs": [
    {
     "data": {
      "text/html": [
       "<div>\n",
       "<style scoped>\n",
       "    .dataframe tbody tr th:only-of-type {\n",
       "        vertical-align: middle;\n",
       "    }\n",
       "\n",
       "    .dataframe tbody tr th {\n",
       "        vertical-align: top;\n",
       "    }\n",
       "\n",
       "    .dataframe thead th {\n",
       "        text-align: right;\n",
       "    }\n",
       "</style>\n",
       "<table border=\"1\" class=\"dataframe\">\n",
       "  <thead>\n",
       "    <tr style=\"text-align: right;\">\n",
       "      <th></th>\n",
       "      <th>event_time</th>\n",
       "      <th>event_name</th>\n",
       "      <th>user_id</th>\n",
       "    </tr>\n",
       "  </thead>\n",
       "  <tbody>\n",
       "    <tr>\n",
       "      <td>0</td>\n",
       "      <td>2019-10-07 00:00:00.431357</td>\n",
       "      <td>advert_open</td>\n",
       "      <td>020292ab-89bc-4156-9acf-68bc2783f894</td>\n",
       "    </tr>\n",
       "    <tr>\n",
       "      <td>1</td>\n",
       "      <td>2019-10-07 00:00:01.236320</td>\n",
       "      <td>tips_show</td>\n",
       "      <td>020292ab-89bc-4156-9acf-68bc2783f894</td>\n",
       "    </tr>\n",
       "    <tr>\n",
       "      <td>2</td>\n",
       "      <td>2019-10-07 00:00:02.245341</td>\n",
       "      <td>tips_show</td>\n",
       "      <td>cf7eda61-9349-469f-ac27-e5b6f5ec475c</td>\n",
       "    </tr>\n",
       "    <tr>\n",
       "      <td>3</td>\n",
       "      <td>2019-10-07 00:00:07.039334</td>\n",
       "      <td>tips_show</td>\n",
       "      <td>020292ab-89bc-4156-9acf-68bc2783f894</td>\n",
       "    </tr>\n",
       "    <tr>\n",
       "      <td>4</td>\n",
       "      <td>2019-10-07 00:00:56.319813</td>\n",
       "      <td>advert_open</td>\n",
       "      <td>cf7eda61-9349-469f-ac27-e5b6f5ec475c</td>\n",
       "    </tr>\n",
       "    <tr>\n",
       "      <td>...</td>\n",
       "      <td>...</td>\n",
       "      <td>...</td>\n",
       "      <td>...</td>\n",
       "    </tr>\n",
       "    <tr>\n",
       "      <td>74192</td>\n",
       "      <td>2019-11-03 23:53:29.534986</td>\n",
       "      <td>tips_show</td>\n",
       "      <td>28fccdf4-7b9e-42f5-bc73-439a265f20e9</td>\n",
       "    </tr>\n",
       "    <tr>\n",
       "      <td>74193</td>\n",
       "      <td>2019-11-03 23:54:00.407086</td>\n",
       "      <td>tips_show</td>\n",
       "      <td>28fccdf4-7b9e-42f5-bc73-439a265f20e9</td>\n",
       "    </tr>\n",
       "    <tr>\n",
       "      <td>74194</td>\n",
       "      <td>2019-11-03 23:56:57.041825</td>\n",
       "      <td>search_1</td>\n",
       "      <td>20850c8f-4135-4059-b13b-198d3ac59902</td>\n",
       "    </tr>\n",
       "    <tr>\n",
       "      <td>74195</td>\n",
       "      <td>2019-11-03 23:57:06.232189</td>\n",
       "      <td>tips_show</td>\n",
       "      <td>28fccdf4-7b9e-42f5-bc73-439a265f20e9</td>\n",
       "    </tr>\n",
       "    <tr>\n",
       "      <td>74196</td>\n",
       "      <td>2019-11-03 23:58:12.532487</td>\n",
       "      <td>tips_show</td>\n",
       "      <td>28fccdf4-7b9e-42f5-bc73-439a265f20e9</td>\n",
       "    </tr>\n",
       "  </tbody>\n",
       "</table>\n",
       "<p>74197 rows × 3 columns</p>\n",
       "</div>"
      ],
      "text/plain": [
       "                       event_time   event_name  \\\n",
       "0      2019-10-07 00:00:00.431357  advert_open   \n",
       "1      2019-10-07 00:00:01.236320    tips_show   \n",
       "2      2019-10-07 00:00:02.245341    tips_show   \n",
       "3      2019-10-07 00:00:07.039334    tips_show   \n",
       "4      2019-10-07 00:00:56.319813  advert_open   \n",
       "...                           ...          ...   \n",
       "74192  2019-11-03 23:53:29.534986    tips_show   \n",
       "74193  2019-11-03 23:54:00.407086    tips_show   \n",
       "74194  2019-11-03 23:56:57.041825     search_1   \n",
       "74195  2019-11-03 23:57:06.232189    tips_show   \n",
       "74196  2019-11-03 23:58:12.532487    tips_show   \n",
       "\n",
       "                                    user_id  \n",
       "0      020292ab-89bc-4156-9acf-68bc2783f894  \n",
       "1      020292ab-89bc-4156-9acf-68bc2783f894  \n",
       "2      cf7eda61-9349-469f-ac27-e5b6f5ec475c  \n",
       "3      020292ab-89bc-4156-9acf-68bc2783f894  \n",
       "4      cf7eda61-9349-469f-ac27-e5b6f5ec475c  \n",
       "...                                     ...  \n",
       "74192  28fccdf4-7b9e-42f5-bc73-439a265f20e9  \n",
       "74193  28fccdf4-7b9e-42f5-bc73-439a265f20e9  \n",
       "74194  20850c8f-4135-4059-b13b-198d3ac59902  \n",
       "74195  28fccdf4-7b9e-42f5-bc73-439a265f20e9  \n",
       "74196  28fccdf4-7b9e-42f5-bc73-439a265f20e9  \n",
       "\n",
       "[74197 rows x 3 columns]"
      ]
     },
     "execution_count": 6,
     "metadata": {},
     "output_type": "execute_result"
    }
   ],
   "source": [
    "mobile_df.columns = ['event_time', 'event_name', 'user_id']\n",
    "mobile_df"
   ]
  },
  {
   "cell_type": "markdown",
   "metadata": {},
   "source": [
    "В таблице **source_df** нам нужно заменить название только одного столбца, меняем его на *user_id*:"
   ]
  },
  {
   "cell_type": "code",
   "execution_count": 7,
   "metadata": {},
   "outputs": [
    {
     "data": {
      "text/html": [
       "<div>\n",
       "<style scoped>\n",
       "    .dataframe tbody tr th:only-of-type {\n",
       "        vertical-align: middle;\n",
       "    }\n",
       "\n",
       "    .dataframe tbody tr th {\n",
       "        vertical-align: top;\n",
       "    }\n",
       "\n",
       "    .dataframe thead th {\n",
       "        text-align: right;\n",
       "    }\n",
       "</style>\n",
       "<table border=\"1\" class=\"dataframe\">\n",
       "  <thead>\n",
       "    <tr style=\"text-align: right;\">\n",
       "      <th></th>\n",
       "      <th>user_id</th>\n",
       "      <th>source</th>\n",
       "    </tr>\n",
       "  </thead>\n",
       "  <tbody>\n",
       "    <tr>\n",
       "      <td>0</td>\n",
       "      <td>020292ab-89bc-4156-9acf-68bc2783f894</td>\n",
       "      <td>other</td>\n",
       "    </tr>\n",
       "    <tr>\n",
       "      <td>1</td>\n",
       "      <td>cf7eda61-9349-469f-ac27-e5b6f5ec475c</td>\n",
       "      <td>yandex</td>\n",
       "    </tr>\n",
       "    <tr>\n",
       "      <td>2</td>\n",
       "      <td>8c356c42-3ba9-4cb6-80b8-3f868d0192c3</td>\n",
       "      <td>yandex</td>\n",
       "    </tr>\n",
       "    <tr>\n",
       "      <td>3</td>\n",
       "      <td>d9b06b47-0f36-419b-bbb0-3533e582a6cb</td>\n",
       "      <td>other</td>\n",
       "    </tr>\n",
       "    <tr>\n",
       "      <td>4</td>\n",
       "      <td>f32e1e2a-3027-4693-b793-b7b3ff274439</td>\n",
       "      <td>google</td>\n",
       "    </tr>\n",
       "    <tr>\n",
       "      <td>...</td>\n",
       "      <td>...</td>\n",
       "      <td>...</td>\n",
       "    </tr>\n",
       "    <tr>\n",
       "      <td>4288</td>\n",
       "      <td>b86fe56e-f2de-4f8a-b192-cd89a37ecd41</td>\n",
       "      <td>yandex</td>\n",
       "    </tr>\n",
       "    <tr>\n",
       "      <td>4289</td>\n",
       "      <td>424c0ae1-3ea3-4f1e-a814-6bac73e48ab1</td>\n",
       "      <td>yandex</td>\n",
       "    </tr>\n",
       "    <tr>\n",
       "      <td>4290</td>\n",
       "      <td>437a4cd4-9ba9-457f-8614-d142bc48fbeb</td>\n",
       "      <td>yandex</td>\n",
       "    </tr>\n",
       "    <tr>\n",
       "      <td>4291</td>\n",
       "      <td>c10055f0-0b47-477a-869e-d391b31fdf8f</td>\n",
       "      <td>yandex</td>\n",
       "    </tr>\n",
       "    <tr>\n",
       "      <td>4292</td>\n",
       "      <td>d157bffc-264d-4464-8220-1cc0c42f43a9</td>\n",
       "      <td>google</td>\n",
       "    </tr>\n",
       "  </tbody>\n",
       "</table>\n",
       "<p>4293 rows × 2 columns</p>\n",
       "</div>"
      ],
      "text/plain": [
       "                                   user_id  source\n",
       "0     020292ab-89bc-4156-9acf-68bc2783f894   other\n",
       "1     cf7eda61-9349-469f-ac27-e5b6f5ec475c  yandex\n",
       "2     8c356c42-3ba9-4cb6-80b8-3f868d0192c3  yandex\n",
       "3     d9b06b47-0f36-419b-bbb0-3533e582a6cb   other\n",
       "4     f32e1e2a-3027-4693-b793-b7b3ff274439  google\n",
       "...                                    ...     ...\n",
       "4288  b86fe56e-f2de-4f8a-b192-cd89a37ecd41  yandex\n",
       "4289  424c0ae1-3ea3-4f1e-a814-6bac73e48ab1  yandex\n",
       "4290  437a4cd4-9ba9-457f-8614-d142bc48fbeb  yandex\n",
       "4291  c10055f0-0b47-477a-869e-d391b31fdf8f  yandex\n",
       "4292  d157bffc-264d-4464-8220-1cc0c42f43a9  google\n",
       "\n",
       "[4293 rows x 2 columns]"
      ]
     },
     "execution_count": 7,
     "metadata": {},
     "output_type": "execute_result"
    }
   ],
   "source": [
    "source_df.rename(columns={'userId':'user_id'}, inplace=True)\n",
    "source_df"
   ]
  },
  {
   "cell_type": "markdown",
   "metadata": {},
   "source": [
    "### 1.4. Замена названий одинаковых по смыслу значений"
   ]
  },
  {
   "cell_type": "markdown",
   "metadata": {},
   "source": [
    "Как мы описывали выше - нам необходимо поменять значение \"*show_contacts*\" на \"*contacts_show*\" в столбце *event_name*. Воспользуемся для этого меодом ***replace***:"
   ]
  },
  {
   "cell_type": "code",
   "execution_count": 8,
   "metadata": {},
   "outputs": [],
   "source": [
    "mobile_df['event_name'] = mobile_df['event_name'].replace('show_contacts','contacts_show')"
   ]
  },
  {
   "cell_type": "markdown",
   "metadata": {},
   "source": [
    "Проверим список уникальных значений столбца *event_name*:"
   ]
  },
  {
   "cell_type": "code",
   "execution_count": 9,
   "metadata": {},
   "outputs": [
    {
     "data": {
      "text/plain": [
       "array(['advert_open', 'tips_show', 'map', 'contacts_show', 'search_4',\n",
       "       'search_5', 'tips_click', 'photos_show', 'search_1', 'search_2',\n",
       "       'search_3', 'favorites_add', 'contacts_call', 'search_6',\n",
       "       'search_7'], dtype=object)"
      ]
     },
     "execution_count": 9,
     "metadata": {},
     "output_type": "execute_result"
    }
   ],
   "source": [
    "mobile_df['event_name'].unique()"
   ]
  },
  {
   "cell_type": "markdown",
   "metadata": {},
   "source": [
    "Видим, что значение \"*show_contacts*\" в списке отсутствует - значит, замена прошла успешна."
   ]
  },
  {
   "cell_type": "markdown",
   "metadata": {},
   "source": [
    "### 1.5. Замена типа данных"
   ]
  },
  {
   "cell_type": "code",
   "execution_count": 10,
   "metadata": {},
   "outputs": [
    {
     "data": {
      "text/html": [
       "<div>\n",
       "<style scoped>\n",
       "    .dataframe tbody tr th:only-of-type {\n",
       "        vertical-align: middle;\n",
       "    }\n",
       "\n",
       "    .dataframe tbody tr th {\n",
       "        vertical-align: top;\n",
       "    }\n",
       "\n",
       "    .dataframe thead th {\n",
       "        text-align: right;\n",
       "    }\n",
       "</style>\n",
       "<table border=\"1\" class=\"dataframe\">\n",
       "  <thead>\n",
       "    <tr style=\"text-align: right;\">\n",
       "      <th></th>\n",
       "      <th>event_time</th>\n",
       "      <th>event_name</th>\n",
       "      <th>user_id</th>\n",
       "    </tr>\n",
       "  </thead>\n",
       "  <tbody>\n",
       "    <tr>\n",
       "      <td>0</td>\n",
       "      <td>2019-10-07 00:00:00.431357</td>\n",
       "      <td>advert_open</td>\n",
       "      <td>020292ab-89bc-4156-9acf-68bc2783f894</td>\n",
       "    </tr>\n",
       "    <tr>\n",
       "      <td>1</td>\n",
       "      <td>2019-10-07 00:00:01.236320</td>\n",
       "      <td>tips_show</td>\n",
       "      <td>020292ab-89bc-4156-9acf-68bc2783f894</td>\n",
       "    </tr>\n",
       "    <tr>\n",
       "      <td>2</td>\n",
       "      <td>2019-10-07 00:00:02.245341</td>\n",
       "      <td>tips_show</td>\n",
       "      <td>cf7eda61-9349-469f-ac27-e5b6f5ec475c</td>\n",
       "    </tr>\n",
       "    <tr>\n",
       "      <td>3</td>\n",
       "      <td>2019-10-07 00:00:07.039334</td>\n",
       "      <td>tips_show</td>\n",
       "      <td>020292ab-89bc-4156-9acf-68bc2783f894</td>\n",
       "    </tr>\n",
       "    <tr>\n",
       "      <td>4</td>\n",
       "      <td>2019-10-07 00:00:56.319813</td>\n",
       "      <td>advert_open</td>\n",
       "      <td>cf7eda61-9349-469f-ac27-e5b6f5ec475c</td>\n",
       "    </tr>\n",
       "    <tr>\n",
       "      <td>...</td>\n",
       "      <td>...</td>\n",
       "      <td>...</td>\n",
       "      <td>...</td>\n",
       "    </tr>\n",
       "    <tr>\n",
       "      <td>74192</td>\n",
       "      <td>2019-11-03 23:53:29.534986</td>\n",
       "      <td>tips_show</td>\n",
       "      <td>28fccdf4-7b9e-42f5-bc73-439a265f20e9</td>\n",
       "    </tr>\n",
       "    <tr>\n",
       "      <td>74193</td>\n",
       "      <td>2019-11-03 23:54:00.407086</td>\n",
       "      <td>tips_show</td>\n",
       "      <td>28fccdf4-7b9e-42f5-bc73-439a265f20e9</td>\n",
       "    </tr>\n",
       "    <tr>\n",
       "      <td>74194</td>\n",
       "      <td>2019-11-03 23:56:57.041825</td>\n",
       "      <td>search_1</td>\n",
       "      <td>20850c8f-4135-4059-b13b-198d3ac59902</td>\n",
       "    </tr>\n",
       "    <tr>\n",
       "      <td>74195</td>\n",
       "      <td>2019-11-03 23:57:06.232189</td>\n",
       "      <td>tips_show</td>\n",
       "      <td>28fccdf4-7b9e-42f5-bc73-439a265f20e9</td>\n",
       "    </tr>\n",
       "    <tr>\n",
       "      <td>74196</td>\n",
       "      <td>2019-11-03 23:58:12.532487</td>\n",
       "      <td>tips_show</td>\n",
       "      <td>28fccdf4-7b9e-42f5-bc73-439a265f20e9</td>\n",
       "    </tr>\n",
       "  </tbody>\n",
       "</table>\n",
       "<p>74197 rows × 3 columns</p>\n",
       "</div>"
      ],
      "text/plain": [
       "                      event_time   event_name  \\\n",
       "0     2019-10-07 00:00:00.431357  advert_open   \n",
       "1     2019-10-07 00:00:01.236320    tips_show   \n",
       "2     2019-10-07 00:00:02.245341    tips_show   \n",
       "3     2019-10-07 00:00:07.039334    tips_show   \n",
       "4     2019-10-07 00:00:56.319813  advert_open   \n",
       "...                          ...          ...   \n",
       "74192 2019-11-03 23:53:29.534986    tips_show   \n",
       "74193 2019-11-03 23:54:00.407086    tips_show   \n",
       "74194 2019-11-03 23:56:57.041825     search_1   \n",
       "74195 2019-11-03 23:57:06.232189    tips_show   \n",
       "74196 2019-11-03 23:58:12.532487    tips_show   \n",
       "\n",
       "                                    user_id  \n",
       "0      020292ab-89bc-4156-9acf-68bc2783f894  \n",
       "1      020292ab-89bc-4156-9acf-68bc2783f894  \n",
       "2      cf7eda61-9349-469f-ac27-e5b6f5ec475c  \n",
       "3      020292ab-89bc-4156-9acf-68bc2783f894  \n",
       "4      cf7eda61-9349-469f-ac27-e5b6f5ec475c  \n",
       "...                                     ...  \n",
       "74192  28fccdf4-7b9e-42f5-bc73-439a265f20e9  \n",
       "74193  28fccdf4-7b9e-42f5-bc73-439a265f20e9  \n",
       "74194  20850c8f-4135-4059-b13b-198d3ac59902  \n",
       "74195  28fccdf4-7b9e-42f5-bc73-439a265f20e9  \n",
       "74196  28fccdf4-7b9e-42f5-bc73-439a265f20e9  \n",
       "\n",
       "[74197 rows x 3 columns]"
      ]
     },
     "execution_count": 10,
     "metadata": {},
     "output_type": "execute_result"
    }
   ],
   "source": [
    "mobile_df['event_time'] = pd.to_datetime(mobile_df['event_time'])\n",
    "mobile_df"
   ]
  },
  {
   "cell_type": "code",
   "execution_count": 11,
   "metadata": {},
   "outputs": [
    {
     "name": "stdout",
     "output_type": "stream",
     "text": [
      "<class 'pandas.core.frame.DataFrame'>\n",
      "RangeIndex: 74197 entries, 0 to 74196\n",
      "Data columns (total 3 columns):\n",
      "event_time    74197 non-null datetime64[ns]\n",
      "event_name    74197 non-null object\n",
      "user_id       74197 non-null object\n",
      "dtypes: datetime64[ns](1), object(2)\n",
      "memory usage: 1.7+ MB\n"
     ]
    }
   ],
   "source": [
    "mobile_df.info()"
   ]
  },
  {
   "cell_type": "markdown",
   "metadata": {},
   "source": [
    "Видим, что тип данных изменился, однако нам нужно сократить вид даты - обрезать наносекунды. Для этого воспользуемся методом ***astype*** и добавим еще один столбец - *event_time_sec*:"
   ]
  },
  {
   "cell_type": "code",
   "execution_count": 12,
   "metadata": {},
   "outputs": [
    {
     "data": {
      "text/html": [
       "<div>\n",
       "<style scoped>\n",
       "    .dataframe tbody tr th:only-of-type {\n",
       "        vertical-align: middle;\n",
       "    }\n",
       "\n",
       "    .dataframe tbody tr th {\n",
       "        vertical-align: top;\n",
       "    }\n",
       "\n",
       "    .dataframe thead th {\n",
       "        text-align: right;\n",
       "    }\n",
       "</style>\n",
       "<table border=\"1\" class=\"dataframe\">\n",
       "  <thead>\n",
       "    <tr style=\"text-align: right;\">\n",
       "      <th></th>\n",
       "      <th>event_time</th>\n",
       "      <th>event_name</th>\n",
       "      <th>user_id</th>\n",
       "      <th>event_time_sec</th>\n",
       "    </tr>\n",
       "  </thead>\n",
       "  <tbody>\n",
       "    <tr>\n",
       "      <td>0</td>\n",
       "      <td>2019-10-07 00:00:00.431357</td>\n",
       "      <td>advert_open</td>\n",
       "      <td>020292ab-89bc-4156-9acf-68bc2783f894</td>\n",
       "      <td>2019-10-07 00:00:00</td>\n",
       "    </tr>\n",
       "    <tr>\n",
       "      <td>1</td>\n",
       "      <td>2019-10-07 00:00:01.236320</td>\n",
       "      <td>tips_show</td>\n",
       "      <td>020292ab-89bc-4156-9acf-68bc2783f894</td>\n",
       "      <td>2019-10-07 00:00:01</td>\n",
       "    </tr>\n",
       "    <tr>\n",
       "      <td>2</td>\n",
       "      <td>2019-10-07 00:00:02.245341</td>\n",
       "      <td>tips_show</td>\n",
       "      <td>cf7eda61-9349-469f-ac27-e5b6f5ec475c</td>\n",
       "      <td>2019-10-07 00:00:02</td>\n",
       "    </tr>\n",
       "    <tr>\n",
       "      <td>3</td>\n",
       "      <td>2019-10-07 00:00:07.039334</td>\n",
       "      <td>tips_show</td>\n",
       "      <td>020292ab-89bc-4156-9acf-68bc2783f894</td>\n",
       "      <td>2019-10-07 00:00:07</td>\n",
       "    </tr>\n",
       "    <tr>\n",
       "      <td>4</td>\n",
       "      <td>2019-10-07 00:00:56.319813</td>\n",
       "      <td>advert_open</td>\n",
       "      <td>cf7eda61-9349-469f-ac27-e5b6f5ec475c</td>\n",
       "      <td>2019-10-07 00:00:56</td>\n",
       "    </tr>\n",
       "    <tr>\n",
       "      <td>...</td>\n",
       "      <td>...</td>\n",
       "      <td>...</td>\n",
       "      <td>...</td>\n",
       "      <td>...</td>\n",
       "    </tr>\n",
       "    <tr>\n",
       "      <td>74192</td>\n",
       "      <td>2019-11-03 23:53:29.534986</td>\n",
       "      <td>tips_show</td>\n",
       "      <td>28fccdf4-7b9e-42f5-bc73-439a265f20e9</td>\n",
       "      <td>2019-11-03 23:53:29</td>\n",
       "    </tr>\n",
       "    <tr>\n",
       "      <td>74193</td>\n",
       "      <td>2019-11-03 23:54:00.407086</td>\n",
       "      <td>tips_show</td>\n",
       "      <td>28fccdf4-7b9e-42f5-bc73-439a265f20e9</td>\n",
       "      <td>2019-11-03 23:54:00</td>\n",
       "    </tr>\n",
       "    <tr>\n",
       "      <td>74194</td>\n",
       "      <td>2019-11-03 23:56:57.041825</td>\n",
       "      <td>search_1</td>\n",
       "      <td>20850c8f-4135-4059-b13b-198d3ac59902</td>\n",
       "      <td>2019-11-03 23:56:57</td>\n",
       "    </tr>\n",
       "    <tr>\n",
       "      <td>74195</td>\n",
       "      <td>2019-11-03 23:57:06.232189</td>\n",
       "      <td>tips_show</td>\n",
       "      <td>28fccdf4-7b9e-42f5-bc73-439a265f20e9</td>\n",
       "      <td>2019-11-03 23:57:06</td>\n",
       "    </tr>\n",
       "    <tr>\n",
       "      <td>74196</td>\n",
       "      <td>2019-11-03 23:58:12.532487</td>\n",
       "      <td>tips_show</td>\n",
       "      <td>28fccdf4-7b9e-42f5-bc73-439a265f20e9</td>\n",
       "      <td>2019-11-03 23:58:12</td>\n",
       "    </tr>\n",
       "  </tbody>\n",
       "</table>\n",
       "<p>74197 rows × 4 columns</p>\n",
       "</div>"
      ],
      "text/plain": [
       "                      event_time   event_name  \\\n",
       "0     2019-10-07 00:00:00.431357  advert_open   \n",
       "1     2019-10-07 00:00:01.236320    tips_show   \n",
       "2     2019-10-07 00:00:02.245341    tips_show   \n",
       "3     2019-10-07 00:00:07.039334    tips_show   \n",
       "4     2019-10-07 00:00:56.319813  advert_open   \n",
       "...                          ...          ...   \n",
       "74192 2019-11-03 23:53:29.534986    tips_show   \n",
       "74193 2019-11-03 23:54:00.407086    tips_show   \n",
       "74194 2019-11-03 23:56:57.041825     search_1   \n",
       "74195 2019-11-03 23:57:06.232189    tips_show   \n",
       "74196 2019-11-03 23:58:12.532487    tips_show   \n",
       "\n",
       "                                    user_id      event_time_sec  \n",
       "0      020292ab-89bc-4156-9acf-68bc2783f894 2019-10-07 00:00:00  \n",
       "1      020292ab-89bc-4156-9acf-68bc2783f894 2019-10-07 00:00:01  \n",
       "2      cf7eda61-9349-469f-ac27-e5b6f5ec475c 2019-10-07 00:00:02  \n",
       "3      020292ab-89bc-4156-9acf-68bc2783f894 2019-10-07 00:00:07  \n",
       "4      cf7eda61-9349-469f-ac27-e5b6f5ec475c 2019-10-07 00:00:56  \n",
       "...                                     ...                 ...  \n",
       "74192  28fccdf4-7b9e-42f5-bc73-439a265f20e9 2019-11-03 23:53:29  \n",
       "74193  28fccdf4-7b9e-42f5-bc73-439a265f20e9 2019-11-03 23:54:00  \n",
       "74194  20850c8f-4135-4059-b13b-198d3ac59902 2019-11-03 23:56:57  \n",
       "74195  28fccdf4-7b9e-42f5-bc73-439a265f20e9 2019-11-03 23:57:06  \n",
       "74196  28fccdf4-7b9e-42f5-bc73-439a265f20e9 2019-11-03 23:58:12  \n",
       "\n",
       "[74197 rows x 4 columns]"
      ]
     },
     "execution_count": 12,
     "metadata": {},
     "output_type": "execute_result"
    }
   ],
   "source": [
    "mobile_df['event_time_sec'] = mobile_df['event_time'].astype('datetime64[s]')\n",
    "mobile_df"
   ]
  },
  {
   "cell_type": "markdown",
   "metadata": {},
   "source": [
    "### 1.6. Проверка таблиц на дубликаты"
   ]
  },
  {
   "cell_type": "markdown",
   "metadata": {},
   "source": [
    "К двум датафреймам применим методы ***duplicated()*** и ***sum()***:"
   ]
  },
  {
   "cell_type": "code",
   "execution_count": 13,
   "metadata": {},
   "outputs": [
    {
     "data": {
      "text/plain": [
       "0"
      ]
     },
     "execution_count": 13,
     "metadata": {},
     "output_type": "execute_result"
    }
   ],
   "source": [
    "mobile_df.duplicated().sum()"
   ]
  },
  {
   "cell_type": "code",
   "execution_count": 14,
   "metadata": {},
   "outputs": [
    {
     "data": {
      "text/plain": [
       "0"
      ]
     },
     "execution_count": 14,
     "metadata": {},
     "output_type": "execute_result"
    }
   ],
   "source": [
    "source_df.duplicated().sum()"
   ]
  },
  {
   "cell_type": "markdown",
   "metadata": {},
   "source": [
    "Дубликаты отсутствуют."
   ]
  },
  {
   "cell_type": "markdown",
   "metadata": {},
   "source": [
    "### 1.7. Объединение таблиц"
   ]
  },
  {
   "cell_type": "markdown",
   "metadata": {},
   "source": [
    "Для дальнейшего исследования нам следует объединить две таблицы в одну - дадим ей название **full_mobile_df**. Воспользуемся методом ***merge***:"
   ]
  },
  {
   "cell_type": "code",
   "execution_count": 15,
   "metadata": {},
   "outputs": [
    {
     "data": {
      "text/html": [
       "<div>\n",
       "<style scoped>\n",
       "    .dataframe tbody tr th:only-of-type {\n",
       "        vertical-align: middle;\n",
       "    }\n",
       "\n",
       "    .dataframe tbody tr th {\n",
       "        vertical-align: top;\n",
       "    }\n",
       "\n",
       "    .dataframe thead th {\n",
       "        text-align: right;\n",
       "    }\n",
       "</style>\n",
       "<table border=\"1\" class=\"dataframe\">\n",
       "  <thead>\n",
       "    <tr style=\"text-align: right;\">\n",
       "      <th></th>\n",
       "      <th>event_time</th>\n",
       "      <th>event_name</th>\n",
       "      <th>user_id</th>\n",
       "      <th>event_time_sec</th>\n",
       "      <th>source</th>\n",
       "    </tr>\n",
       "  </thead>\n",
       "  <tbody>\n",
       "    <tr>\n",
       "      <td>0</td>\n",
       "      <td>2019-10-07 00:00:00.431357</td>\n",
       "      <td>advert_open</td>\n",
       "      <td>020292ab-89bc-4156-9acf-68bc2783f894</td>\n",
       "      <td>2019-10-07 00:00:00</td>\n",
       "      <td>other</td>\n",
       "    </tr>\n",
       "    <tr>\n",
       "      <td>1</td>\n",
       "      <td>2019-10-07 00:00:01.236320</td>\n",
       "      <td>tips_show</td>\n",
       "      <td>020292ab-89bc-4156-9acf-68bc2783f894</td>\n",
       "      <td>2019-10-07 00:00:01</td>\n",
       "      <td>other</td>\n",
       "    </tr>\n",
       "    <tr>\n",
       "      <td>2</td>\n",
       "      <td>2019-10-07 00:00:07.039334</td>\n",
       "      <td>tips_show</td>\n",
       "      <td>020292ab-89bc-4156-9acf-68bc2783f894</td>\n",
       "      <td>2019-10-07 00:00:07</td>\n",
       "      <td>other</td>\n",
       "    </tr>\n",
       "    <tr>\n",
       "      <td>3</td>\n",
       "      <td>2019-10-07 00:01:27.770232</td>\n",
       "      <td>advert_open</td>\n",
       "      <td>020292ab-89bc-4156-9acf-68bc2783f894</td>\n",
       "      <td>2019-10-07 00:01:27</td>\n",
       "      <td>other</td>\n",
       "    </tr>\n",
       "    <tr>\n",
       "      <td>4</td>\n",
       "      <td>2019-10-07 00:01:34.804591</td>\n",
       "      <td>tips_show</td>\n",
       "      <td>020292ab-89bc-4156-9acf-68bc2783f894</td>\n",
       "      <td>2019-10-07 00:01:34</td>\n",
       "      <td>other</td>\n",
       "    </tr>\n",
       "    <tr>\n",
       "      <td>...</td>\n",
       "      <td>...</td>\n",
       "      <td>...</td>\n",
       "      <td>...</td>\n",
       "      <td>...</td>\n",
       "      <td>...</td>\n",
       "    </tr>\n",
       "    <tr>\n",
       "      <td>74192</td>\n",
       "      <td>2019-11-03 23:46:47.068179</td>\n",
       "      <td>map</td>\n",
       "      <td>d157bffc-264d-4464-8220-1cc0c42f43a9</td>\n",
       "      <td>2019-11-03 23:46:47</td>\n",
       "      <td>google</td>\n",
       "    </tr>\n",
       "    <tr>\n",
       "      <td>74193</td>\n",
       "      <td>2019-11-03 23:46:58.914787</td>\n",
       "      <td>advert_open</td>\n",
       "      <td>d157bffc-264d-4464-8220-1cc0c42f43a9</td>\n",
       "      <td>2019-11-03 23:46:58</td>\n",
       "      <td>google</td>\n",
       "    </tr>\n",
       "    <tr>\n",
       "      <td>74194</td>\n",
       "      <td>2019-11-03 23:47:01.232230</td>\n",
       "      <td>tips_show</td>\n",
       "      <td>d157bffc-264d-4464-8220-1cc0c42f43a9</td>\n",
       "      <td>2019-11-03 23:47:01</td>\n",
       "      <td>google</td>\n",
       "    </tr>\n",
       "    <tr>\n",
       "      <td>74195</td>\n",
       "      <td>2019-11-03 23:47:47.475102</td>\n",
       "      <td>advert_open</td>\n",
       "      <td>d157bffc-264d-4464-8220-1cc0c42f43a9</td>\n",
       "      <td>2019-11-03 23:47:47</td>\n",
       "      <td>google</td>\n",
       "    </tr>\n",
       "    <tr>\n",
       "      <td>74196</td>\n",
       "      <td>2019-11-03 23:47:50.087645</td>\n",
       "      <td>tips_show</td>\n",
       "      <td>d157bffc-264d-4464-8220-1cc0c42f43a9</td>\n",
       "      <td>2019-11-03 23:47:50</td>\n",
       "      <td>google</td>\n",
       "    </tr>\n",
       "  </tbody>\n",
       "</table>\n",
       "<p>74197 rows × 5 columns</p>\n",
       "</div>"
      ],
      "text/plain": [
       "                      event_time   event_name  \\\n",
       "0     2019-10-07 00:00:00.431357  advert_open   \n",
       "1     2019-10-07 00:00:01.236320    tips_show   \n",
       "2     2019-10-07 00:00:07.039334    tips_show   \n",
       "3     2019-10-07 00:01:27.770232  advert_open   \n",
       "4     2019-10-07 00:01:34.804591    tips_show   \n",
       "...                          ...          ...   \n",
       "74192 2019-11-03 23:46:47.068179          map   \n",
       "74193 2019-11-03 23:46:58.914787  advert_open   \n",
       "74194 2019-11-03 23:47:01.232230    tips_show   \n",
       "74195 2019-11-03 23:47:47.475102  advert_open   \n",
       "74196 2019-11-03 23:47:50.087645    tips_show   \n",
       "\n",
       "                                    user_id      event_time_sec  source  \n",
       "0      020292ab-89bc-4156-9acf-68bc2783f894 2019-10-07 00:00:00   other  \n",
       "1      020292ab-89bc-4156-9acf-68bc2783f894 2019-10-07 00:00:01   other  \n",
       "2      020292ab-89bc-4156-9acf-68bc2783f894 2019-10-07 00:00:07   other  \n",
       "3      020292ab-89bc-4156-9acf-68bc2783f894 2019-10-07 00:01:27   other  \n",
       "4      020292ab-89bc-4156-9acf-68bc2783f894 2019-10-07 00:01:34   other  \n",
       "...                                     ...                 ...     ...  \n",
       "74192  d157bffc-264d-4464-8220-1cc0c42f43a9 2019-11-03 23:46:47  google  \n",
       "74193  d157bffc-264d-4464-8220-1cc0c42f43a9 2019-11-03 23:46:58  google  \n",
       "74194  d157bffc-264d-4464-8220-1cc0c42f43a9 2019-11-03 23:47:01  google  \n",
       "74195  d157bffc-264d-4464-8220-1cc0c42f43a9 2019-11-03 23:47:47  google  \n",
       "74196  d157bffc-264d-4464-8220-1cc0c42f43a9 2019-11-03 23:47:50  google  \n",
       "\n",
       "[74197 rows x 5 columns]"
      ]
     },
     "execution_count": 15,
     "metadata": {},
     "output_type": "execute_result"
    }
   ],
   "source": [
    "full_mobile_df = mobile_df.merge(source_df, on='user_id')\n",
    "full_mobile_df"
   ]
  },
  {
   "cell_type": "markdown",
   "metadata": {},
   "source": [
    "Проверим объединенный датафрейм на дубликаты:"
   ]
  },
  {
   "cell_type": "code",
   "execution_count": 16,
   "metadata": {},
   "outputs": [
    {
     "data": {
      "text/plain": [
       "0"
      ]
     },
     "execution_count": 16,
     "metadata": {},
     "output_type": "execute_result"
    }
   ],
   "source": [
    "full_mobile_df.duplicated().sum()"
   ]
  },
  {
   "cell_type": "markdown",
   "metadata": {},
   "source": [
    "Дубликаты отсутствуют - объединение таблиц прошло успешно."
   ]
  },
  {
   "cell_type": "markdown",
   "metadata": {},
   "source": [
    "### 1.8. Определим за какой период мы обладаем данными на самом деле"
   ]
  },
  {
   "cell_type": "markdown",
   "metadata": {},
   "source": [
    "Найдем минимальное и максимальное значения стобца *event_time_sec*:"
   ]
  },
  {
   "cell_type": "code",
   "execution_count": 17,
   "metadata": {},
   "outputs": [
    {
     "data": {
      "text/plain": [
       "Timestamp('2019-10-07 00:00:00')"
      ]
     },
     "execution_count": 17,
     "metadata": {},
     "output_type": "execute_result"
    }
   ],
   "source": [
    "full_mobile_df['event_time_sec'].min()"
   ]
  },
  {
   "cell_type": "code",
   "execution_count": 18,
   "metadata": {},
   "outputs": [
    {
     "data": {
      "text/plain": [
       "Timestamp('2019-11-03 23:58:12')"
      ]
     },
     "execution_count": 18,
     "metadata": {},
     "output_type": "execute_result"
    }
   ],
   "source": [
    "full_mobile_df['event_time_sec'].max()"
   ]
  },
  {
   "cell_type": "markdown",
   "metadata": {},
   "source": [
    "По этим расчетам мы имеем данные с **7 октября** по **3 ноября 2019 года**, то есть чуть меньше месяца."
   ]
  },
  {
   "cell_type": "markdown",
   "metadata": {},
   "source": [
    "Посмотрим на распределение пользовательской активности на гистограмме:"
   ]
  },
  {
   "cell_type": "code",
   "execution_count": 19,
   "metadata": {},
   "outputs": [
    {
     "name": "stderr",
     "output_type": "stream",
     "text": [
      "/opt/conda/lib/python3.7/site-packages/pandas/plotting/_matplotlib/converter.py:103: FutureWarning:\n",
      "\n",
      "Using an implicitly registered datetime converter for a matplotlib plotting method. The converter was registered by pandas on import. Future versions of pandas will require you to explicitly register matplotlib converters.\n",
      "\n",
      "To register the converters:\n",
      "\t>>> from pandas.plotting import register_matplotlib_converters\n",
      "\t>>> register_matplotlib_converters()\n",
      "\n"
     ]
    },
    {
     "data": {
      "image/png": "[encoded data removed]",
      "text/plain": [
       "<Figure size 1008x576 with 1 Axes>"
      ]
     },
     "metadata": {
      "needs_background": "light"
     },
     "output_type": "display_data"
    }
   ],
   "source": [
    "full_mobile_df['event_time'].hist(grid=False, bins=170, figsize=(14,8))\n",
    "plt.title('Активность пользователей по датам', fontsize=20)\n",
    "plt.gca().set(xlabel='дата', ylabel='активность')\n",
    "plt.xticks(rotation=45)\n",
    "plt.show()"
   ]
  },
  {
   "cell_type": "markdown",
   "metadata": {},
   "source": [
    "Активность распределена равномерно, нет причин избавляться от каких-либо данных."
   ]
  },
  {
   "cell_type": "markdown",
   "metadata": {},
   "source": [
    "### 1.9. Проверим данные на аномальные значения"
   ]
  },
  {
   "cell_type": "markdown",
   "metadata": {},
   "source": [
    "Чтобы проверить данные на выбросы, посмотрим, как распределились события по пользователям. Для этого сгруппируем таблицу по уникальным пользователям и посмотрим, сколько на каждого из них приходится событий:"
   ]
  },
  {
   "cell_type": "code",
   "execution_count": 20,
   "metadata": {},
   "outputs": [
    {
     "data": {
      "text/html": [
       "<div>\n",
       "<style scoped>\n",
       "    .dataframe tbody tr th:only-of-type {\n",
       "        vertical-align: middle;\n",
       "    }\n",
       "\n",
       "    .dataframe tbody tr th {\n",
       "        vertical-align: top;\n",
       "    }\n",
       "\n",
       "    .dataframe thead th {\n",
       "        text-align: right;\n",
       "    }\n",
       "</style>\n",
       "<table border=\"1\" class=\"dataframe\">\n",
       "  <thead>\n",
       "    <tr style=\"text-align: right;\">\n",
       "      <th></th>\n",
       "      <th>event_name</th>\n",
       "    </tr>\n",
       "    <tr>\n",
       "      <th>user_id</th>\n",
       "      <th></th>\n",
       "    </tr>\n",
       "  </thead>\n",
       "  <tbody>\n",
       "    <tr>\n",
       "      <td>0001b1d5-b74a-4cbf-aeb0-7df5947bf349</td>\n",
       "      <td>35</td>\n",
       "    </tr>\n",
       "    <tr>\n",
       "      <td>00157779-810c-4498-9e05-a1e9e3cedf93</td>\n",
       "      <td>71</td>\n",
       "    </tr>\n",
       "    <tr>\n",
       "      <td>00463033-5717-4bf1-91b4-09183923b9df</td>\n",
       "      <td>10</td>\n",
       "    </tr>\n",
       "    <tr>\n",
       "      <td>004690c3-5a84-4bb7-a8af-e0c8f8fca64e</td>\n",
       "      <td>32</td>\n",
       "    </tr>\n",
       "    <tr>\n",
       "      <td>00551e79-152e-4441-9cf7-565d7eb04090</td>\n",
       "      <td>8</td>\n",
       "    </tr>\n",
       "    <tr>\n",
       "      <td>...</td>\n",
       "      <td>...</td>\n",
       "    </tr>\n",
       "    <tr>\n",
       "      <td>ffab8d8a-30bb-424a-a3ab-0b63ebbf7b07</td>\n",
       "      <td>17</td>\n",
       "    </tr>\n",
       "    <tr>\n",
       "      <td>ffc01466-fdb1-4460-ae94-e800f52eb136</td>\n",
       "      <td>7</td>\n",
       "    </tr>\n",
       "    <tr>\n",
       "      <td>ffcf50d9-293c-4254-8243-4890b030b238</td>\n",
       "      <td>2</td>\n",
       "    </tr>\n",
       "    <tr>\n",
       "      <td>ffe68f10-e48e-470e-be9b-eeb93128ff1a</td>\n",
       "      <td>13</td>\n",
       "    </tr>\n",
       "    <tr>\n",
       "      <td>fffb9e79-b927-4dbb-9b48-7fd09b23a62b</td>\n",
       "      <td>303</td>\n",
       "    </tr>\n",
       "  </tbody>\n",
       "</table>\n",
       "<p>4293 rows × 1 columns</p>\n",
       "</div>"
      ],
      "text/plain": [
       "                                      event_name\n",
       "user_id                                         \n",
       "0001b1d5-b74a-4cbf-aeb0-7df5947bf349          35\n",
       "00157779-810c-4498-9e05-a1e9e3cedf93          71\n",
       "00463033-5717-4bf1-91b4-09183923b9df          10\n",
       "004690c3-5a84-4bb7-a8af-e0c8f8fca64e          32\n",
       "00551e79-152e-4441-9cf7-565d7eb04090           8\n",
       "...                                          ...\n",
       "ffab8d8a-30bb-424a-a3ab-0b63ebbf7b07          17\n",
       "ffc01466-fdb1-4460-ae94-e800f52eb136           7\n",
       "ffcf50d9-293c-4254-8243-4890b030b238           2\n",
       "ffe68f10-e48e-470e-be9b-eeb93128ff1a          13\n",
       "fffb9e79-b927-4dbb-9b48-7fd09b23a62b         303\n",
       "\n",
       "[4293 rows x 1 columns]"
      ]
     },
     "execution_count": 20,
     "metadata": {},
     "output_type": "execute_result"
    }
   ],
   "source": [
    "user_event_df = full_mobile_df.pivot_table(index='user_id', values='event_name',aggfunc='count')\n",
    "user_event_df"
   ]
  },
  {
   "cell_type": "markdown",
   "metadata": {},
   "source": [
    "Применим метод ***describe*** (чтобы узнать, сколько в среднем событий приходится на пользователя), а затем построим диаграмму размаха:"
   ]
  },
  {
   "cell_type": "code",
   "execution_count": 21,
   "metadata": {},
   "outputs": [
    {
     "data": {
      "text/html": [
       "<div>\n",
       "<style scoped>\n",
       "    .dataframe tbody tr th:only-of-type {\n",
       "        vertical-align: middle;\n",
       "    }\n",
       "\n",
       "    .dataframe tbody tr th {\n",
       "        vertical-align: top;\n",
       "    }\n",
       "\n",
       "    .dataframe thead th {\n",
       "        text-align: right;\n",
       "    }\n",
       "</style>\n",
       "<table border=\"1\" class=\"dataframe\">\n",
       "  <thead>\n",
       "    <tr style=\"text-align: right;\">\n",
       "      <th></th>\n",
       "      <th>event_name</th>\n",
       "    </tr>\n",
       "  </thead>\n",
       "  <tbody>\n",
       "    <tr>\n",
       "      <td>count</td>\n",
       "      <td>4293.000000</td>\n",
       "    </tr>\n",
       "    <tr>\n",
       "      <td>mean</td>\n",
       "      <td>17.283252</td>\n",
       "    </tr>\n",
       "    <tr>\n",
       "      <td>std</td>\n",
       "      <td>29.130677</td>\n",
       "    </tr>\n",
       "    <tr>\n",
       "      <td>min</td>\n",
       "      <td>1.000000</td>\n",
       "    </tr>\n",
       "    <tr>\n",
       "      <td>25%</td>\n",
       "      <td>5.000000</td>\n",
       "    </tr>\n",
       "    <tr>\n",
       "      <td>50%</td>\n",
       "      <td>9.000000</td>\n",
       "    </tr>\n",
       "    <tr>\n",
       "      <td>75%</td>\n",
       "      <td>17.000000</td>\n",
       "    </tr>\n",
       "    <tr>\n",
       "      <td>max</td>\n",
       "      <td>478.000000</td>\n",
       "    </tr>\n",
       "  </tbody>\n",
       "</table>\n",
       "</div>"
      ],
      "text/plain": [
       "        event_name\n",
       "count  4293.000000\n",
       "mean     17.283252\n",
       "std      29.130677\n",
       "min       1.000000\n",
       "25%       5.000000\n",
       "50%       9.000000\n",
       "75%      17.000000\n",
       "max     478.000000"
      ]
     },
     "execution_count": 21,
     "metadata": {},
     "output_type": "execute_result"
    }
   ],
   "source": [
    "user_event_df.describe()"
   ]
  },
  {
   "cell_type": "markdown",
   "metadata": {},
   "source": [
    "С помощью метода ***describe*** мы выяснили, что у нас есть данные о действиях *4293 пользователей* нашего приложения, и в среднем на пользователя приходится *17 событий*. Однако, мы видим, что максимальное значение составляет *478(!) событий*.  "
   ]
  },
  {
   "cell_type": "markdown",
   "metadata": {},
   "source": [
    "Посмотрим на диаграмму размаха:"
   ]
  },
  {
   "cell_type": "code",
   "execution_count": 22,
   "metadata": {},
   "outputs": [
    {
     "data": {
      "text/plain": [
       "[Text(0, 0.5, 'количество событий')]"
      ]
     },
     "execution_count": 22,
     "metadata": {},
     "output_type": "execute_result"
    },
    {
     "data": {
      "image/png": "[encoded data removed]",
      "text/plain": [
       "<Figure size 720x504 with 1 Axes>"
      ]
     },
     "metadata": {
      "needs_background": "light"
     },
     "output_type": "display_data"
    }
   ],
   "source": [
    "plt.subplots(figsize = (10,7))\n",
    "sns.boxplot(data=user_event_df)\n",
    "plt.title('Количество событий на пользователя(диаграмма размаха)')\n",
    "plt.gca().set(ylabel='количество событий')"
   ]
  },
  {
   "cell_type": "markdown",
   "metadata": {},
   "source": [
    "Данная диаграмма не очень наглядна, однако по ней мы можем точно сказать, что выбросов много и они доходят почти до 500 (если точнее, то до 478, как мы выяснили ранее). Изменим масштаб графика, чтобы лучше разглядеть сам \"ящик\":"
   ]
  },
  {
   "cell_type": "code",
   "execution_count": 23,
   "metadata": {},
   "outputs": [
    {
     "data": {
      "text/plain": [
       "[Text(0, 0.5, 'количество событий')]"
      ]
     },
     "execution_count": 23,
     "metadata": {},
     "output_type": "execute_result"
    },
    {
     "data": {
      "image/png": "[encoded data removed]",
      "text/plain": [
       "<Figure size 720x504 with 1 Axes>"
      ]
     },
     "metadata": {
      "needs_background": "light"
     },
     "output_type": "display_data"
    }
   ],
   "source": [
    "plt.subplots(figsize = (10,7))\n",
    "sns.boxplot(data=user_event_df)\n",
    "plt.ylim(0, 50)\n",
    "plt.title('Количество событий на пользователя(диаграмма размаха)')\n",
    "plt.gca().set(ylabel='количество событий')\n"
   ]
  },
  {
   "cell_type": "markdown",
   "metadata": {},
   "source": [
    "Видим, что медиана даже меньше среднего - *~10 событий* приходится в основном на пользователя в месяц. Однако, выбросов очень много, их удаление приведет к большой потере данных. "
   ]
  },
  {
   "cell_type": "markdown",
   "metadata": {},
   "source": [
    "К тому же показатели нельзя назвать нереалистичными, можно только радоваться такой пользовательской активности - значит, наше приложение удобно для использования."
   ]
  },
  {
   "cell_type": "markdown",
   "metadata": {},
   "source": [
    "### 1.10 Вывод"
   ]
  },
  {
   "cell_type": "markdown",
   "metadata": {},
   "source": [
    "Мы выгрузили два датафрейма. Первый - **mobile_df** - содержит данные о идентификаторах пользователей, времени совершения событий и типе событий. Второй - **source_df** - также содержит данные об идентификаторах пользователей и об источниках, с которых пользователи устанавливают приложение."
   ]
  },
  {
   "cell_type": "markdown",
   "metadata": {},
   "source": [
    "Обе таблицы не содержат пропусков. Нам подошли все типы данных столбцов, кроме *event_time* - мы привели его к нужному нам ***datetime***."
   ]
  },
  {
   "cell_type": "markdown",
   "metadata": {},
   "source": [
    "Мы заменили названия столбцов для лучшего вида и будущего объединения таблиц и в столбце *event.name* заменили значение \"*show_contacts*\" на \"*contacts_show*\" - для более четкой картины распределения событий."
   ]
  },
  {
   "cell_type": "markdown",
   "metadata": {},
   "source": [
    "Мы проверили оба датафрейма на дубликаты и не обинаружили их."
   ]
  },
  {
   "cell_type": "markdown",
   "metadata": {},
   "source": [
    "Мы объединили две таблицы в одну - **full_mobile_df** - и также проверили ее на дубликаты (не обнаружили)."
   ]
  },
  {
   "cell_type": "markdown",
   "metadata": {},
   "source": [
    "С помощью гистограммы мы удостоверились, что обладаем данными за период с **7 октября** по **3 ноября 2019 года**."
   ]
  },
  {
   "cell_type": "markdown",
   "metadata": {},
   "source": [
    "Мы проверили данные на аномальные значения (с помощью сводной таблицы и метода ***describe***) и выяснили, что у нас есть данные о действиях *4293 пользователей* нашего приложения, и в среднем на пользователя приходится *17 событий*. Для наглядности мы построили диаграмму размаха и по ней увидели, что выбросов много и они доходят почти до 500 (если точнее, то до 478). Медиана даже меньше среднего - *~10 событий* приходится в основном на пользователя в месяц. Однако, повторимся, что выбросов очень много, их удаление приведет к большой потере данных. "
   ]
  },
  {
   "cell_type": "markdown",
   "metadata": {},
   "source": [
    "Мы не посчитали показатели нереалистичными, такой пользовательской активности можно только порадоваться - значит, наше приложение удобно для использования."
   ]
  },
  {
   "cell_type": "markdown",
   "metadata": {},
   "source": [
    "Присутпаем к расчету метрик."
   ]
  },
  {
   "cell_type": "markdown",
   "metadata": {},
   "source": [
    "## Шаг 2. Расчет метрик"
   ]
  },
  {
   "cell_type": "markdown",
   "metadata": {},
   "source": [
    "### 2.1. Retantion Rate («коэффициент удержания»)"
   ]
  },
  {
   "cell_type": "markdown",
   "metadata": {},
   "source": [
    "Определим событие и период — на их основе сформируем когорту. Возьмём дату, когда пользователь впервые проявил активность в мобильном приложении.Эти данные запишем в объект Series **first_activity_date**. Объединим его с исходным датафреймом **full_mobile_df**:"
   ]
  },
  {
   "cell_type": "code",
   "execution_count": 24,
   "metadata": {},
   "outputs": [
    {
     "data": {
      "text/html": [
       "<div>\n",
       "<style scoped>\n",
       "    .dataframe tbody tr th:only-of-type {\n",
       "        vertical-align: middle;\n",
       "    }\n",
       "\n",
       "    .dataframe tbody tr th {\n",
       "        vertical-align: top;\n",
       "    }\n",
       "\n",
       "    .dataframe thead th {\n",
       "        text-align: right;\n",
       "    }\n",
       "</style>\n",
       "<table border=\"1\" class=\"dataframe\">\n",
       "  <thead>\n",
       "    <tr style=\"text-align: right;\">\n",
       "      <th></th>\n",
       "      <th>event_time</th>\n",
       "      <th>event_name</th>\n",
       "      <th>user_id</th>\n",
       "      <th>event_time_sec</th>\n",
       "      <th>source</th>\n",
       "      <th>first_activity_date</th>\n",
       "    </tr>\n",
       "  </thead>\n",
       "  <tbody>\n",
       "    <tr>\n",
       "      <td>0</td>\n",
       "      <td>2019-10-07 00:00:00.431357</td>\n",
       "      <td>advert_open</td>\n",
       "      <td>020292ab-89bc-4156-9acf-68bc2783f894</td>\n",
       "      <td>2019-10-07 00:00:00</td>\n",
       "      <td>other</td>\n",
       "      <td>2019-10-07 00:00:00</td>\n",
       "    </tr>\n",
       "    <tr>\n",
       "      <td>1</td>\n",
       "      <td>2019-10-07 00:00:01.236320</td>\n",
       "      <td>tips_show</td>\n",
       "      <td>020292ab-89bc-4156-9acf-68bc2783f894</td>\n",
       "      <td>2019-10-07 00:00:01</td>\n",
       "      <td>other</td>\n",
       "      <td>2019-10-07 00:00:00</td>\n",
       "    </tr>\n",
       "    <tr>\n",
       "      <td>2</td>\n",
       "      <td>2019-10-07 00:00:07.039334</td>\n",
       "      <td>tips_show</td>\n",
       "      <td>020292ab-89bc-4156-9acf-68bc2783f894</td>\n",
       "      <td>2019-10-07 00:00:07</td>\n",
       "      <td>other</td>\n",
       "      <td>2019-10-07 00:00:00</td>\n",
       "    </tr>\n",
       "    <tr>\n",
       "      <td>3</td>\n",
       "      <td>2019-10-07 00:01:27.770232</td>\n",
       "      <td>advert_open</td>\n",
       "      <td>020292ab-89bc-4156-9acf-68bc2783f894</td>\n",
       "      <td>2019-10-07 00:01:27</td>\n",
       "      <td>other</td>\n",
       "      <td>2019-10-07 00:00:00</td>\n",
       "    </tr>\n",
       "    <tr>\n",
       "      <td>4</td>\n",
       "      <td>2019-10-07 00:01:34.804591</td>\n",
       "      <td>tips_show</td>\n",
       "      <td>020292ab-89bc-4156-9acf-68bc2783f894</td>\n",
       "      <td>2019-10-07 00:01:34</td>\n",
       "      <td>other</td>\n",
       "      <td>2019-10-07 00:00:00</td>\n",
       "    </tr>\n",
       "    <tr>\n",
       "      <td>...</td>\n",
       "      <td>...</td>\n",
       "      <td>...</td>\n",
       "      <td>...</td>\n",
       "      <td>...</td>\n",
       "      <td>...</td>\n",
       "      <td>...</td>\n",
       "    </tr>\n",
       "    <tr>\n",
       "      <td>74192</td>\n",
       "      <td>2019-11-03 23:46:47.068179</td>\n",
       "      <td>map</td>\n",
       "      <td>d157bffc-264d-4464-8220-1cc0c42f43a9</td>\n",
       "      <td>2019-11-03 23:46:47</td>\n",
       "      <td>google</td>\n",
       "      <td>2019-11-03 23:46:47</td>\n",
       "    </tr>\n",
       "    <tr>\n",
       "      <td>74193</td>\n",
       "      <td>2019-11-03 23:46:58.914787</td>\n",
       "      <td>advert_open</td>\n",
       "      <td>d157bffc-264d-4464-8220-1cc0c42f43a9</td>\n",
       "      <td>2019-11-03 23:46:58</td>\n",
       "      <td>google</td>\n",
       "      <td>2019-11-03 23:46:47</td>\n",
       "    </tr>\n",
       "    <tr>\n",
       "      <td>74194</td>\n",
       "      <td>2019-11-03 23:47:01.232230</td>\n",
       "      <td>tips_show</td>\n",
       "      <td>d157bffc-264d-4464-8220-1cc0c42f43a9</td>\n",
       "      <td>2019-11-03 23:47:01</td>\n",
       "      <td>google</td>\n",
       "      <td>2019-11-03 23:46:47</td>\n",
       "    </tr>\n",
       "    <tr>\n",
       "      <td>74195</td>\n",
       "      <td>2019-11-03 23:47:47.475102</td>\n",
       "      <td>advert_open</td>\n",
       "      <td>d157bffc-264d-4464-8220-1cc0c42f43a9</td>\n",
       "      <td>2019-11-03 23:47:47</td>\n",
       "      <td>google</td>\n",
       "      <td>2019-11-03 23:46:47</td>\n",
       "    </tr>\n",
       "    <tr>\n",
       "      <td>74196</td>\n",
       "      <td>2019-11-03 23:47:50.087645</td>\n",
       "      <td>tips_show</td>\n",
       "      <td>d157bffc-264d-4464-8220-1cc0c42f43a9</td>\n",
       "      <td>2019-11-03 23:47:50</td>\n",
       "      <td>google</td>\n",
       "      <td>2019-11-03 23:46:47</td>\n",
       "    </tr>\n",
       "  </tbody>\n",
       "</table>\n",
       "<p>74197 rows × 6 columns</p>\n",
       "</div>"
      ],
      "text/plain": [
       "                      event_time   event_name  \\\n",
       "0     2019-10-07 00:00:00.431357  advert_open   \n",
       "1     2019-10-07 00:00:01.236320    tips_show   \n",
       "2     2019-10-07 00:00:07.039334    tips_show   \n",
       "3     2019-10-07 00:01:27.770232  advert_open   \n",
       "4     2019-10-07 00:01:34.804591    tips_show   \n",
       "...                          ...          ...   \n",
       "74192 2019-11-03 23:46:47.068179          map   \n",
       "74193 2019-11-03 23:46:58.914787  advert_open   \n",
       "74194 2019-11-03 23:47:01.232230    tips_show   \n",
       "74195 2019-11-03 23:47:47.475102  advert_open   \n",
       "74196 2019-11-03 23:47:50.087645    tips_show   \n",
       "\n",
       "                                    user_id      event_time_sec  source  \\\n",
       "0      020292ab-89bc-4156-9acf-68bc2783f894 2019-10-07 00:00:00   other   \n",
       "1      020292ab-89bc-4156-9acf-68bc2783f894 2019-10-07 00:00:01   other   \n",
       "2      020292ab-89bc-4156-9acf-68bc2783f894 2019-10-07 00:00:07   other   \n",
       "3      020292ab-89bc-4156-9acf-68bc2783f894 2019-10-07 00:01:27   other   \n",
       "4      020292ab-89bc-4156-9acf-68bc2783f894 2019-10-07 00:01:34   other   \n",
       "...                                     ...                 ...     ...   \n",
       "74192  d157bffc-264d-4464-8220-1cc0c42f43a9 2019-11-03 23:46:47  google   \n",
       "74193  d157bffc-264d-4464-8220-1cc0c42f43a9 2019-11-03 23:46:58  google   \n",
       "74194  d157bffc-264d-4464-8220-1cc0c42f43a9 2019-11-03 23:47:01  google   \n",
       "74195  d157bffc-264d-4464-8220-1cc0c42f43a9 2019-11-03 23:47:47  google   \n",
       "74196  d157bffc-264d-4464-8220-1cc0c42f43a9 2019-11-03 23:47:50  google   \n",
       "\n",
       "      first_activity_date  \n",
       "0     2019-10-07 00:00:00  \n",
       "1     2019-10-07 00:00:00  \n",
       "2     2019-10-07 00:00:00  \n",
       "3     2019-10-07 00:00:00  \n",
       "4     2019-10-07 00:00:00  \n",
       "...                   ...  \n",
       "74192 2019-11-03 23:46:47  \n",
       "74193 2019-11-03 23:46:47  \n",
       "74194 2019-11-03 23:46:47  \n",
       "74195 2019-11-03 23:46:47  \n",
       "74196 2019-11-03 23:46:47  \n",
       "\n",
       "[74197 rows x 6 columns]"
      ]
     },
     "execution_count": 24,
     "metadata": {},
     "output_type": "execute_result"
    }
   ],
   "source": [
    "first_activity_date = full_mobile_df.groupby(['user_id'])['event_time_sec'].min()\n",
    "first_activity_date.name = 'first_activity_date'\n",
    "full_mobile_df = full_mobile_df.join(first_activity_date, on='user_id', how='outer') \n",
    "full_mobile_df"
   ]
  },
  {
   "cell_type": "markdown",
   "metadata": {},
   "source": [
    "Формировать когорты будем по данным за неделю:"
   ]
  },
  {
   "cell_type": "code",
   "execution_count": 25,
   "metadata": {},
   "outputs": [
    {
     "data": {
      "text/html": [
       "<div>\n",
       "<style scoped>\n",
       "    .dataframe tbody tr th:only-of-type {\n",
       "        vertical-align: middle;\n",
       "    }\n",
       "\n",
       "    .dataframe tbody tr th {\n",
       "        vertical-align: top;\n",
       "    }\n",
       "\n",
       "    .dataframe thead th {\n",
       "        text-align: right;\n",
       "    }\n",
       "</style>\n",
       "<table border=\"1\" class=\"dataframe\">\n",
       "  <thead>\n",
       "    <tr style=\"text-align: right;\">\n",
       "      <th></th>\n",
       "      <th>event_time</th>\n",
       "      <th>event_name</th>\n",
       "      <th>user_id</th>\n",
       "      <th>event_time_sec</th>\n",
       "      <th>source</th>\n",
       "      <th>first_activity_date</th>\n",
       "      <th>activity_week</th>\n",
       "      <th>first_activity_week</th>\n",
       "    </tr>\n",
       "  </thead>\n",
       "  <tbody>\n",
       "    <tr>\n",
       "      <td>0</td>\n",
       "      <td>2019-10-07 00:00:00.431357</td>\n",
       "      <td>advert_open</td>\n",
       "      <td>020292ab-89bc-4156-9acf-68bc2783f894</td>\n",
       "      <td>2019-10-07 00:00:00</td>\n",
       "      <td>other</td>\n",
       "      <td>2019-10-07</td>\n",
       "      <td>2019-10-03</td>\n",
       "      <td>2019-10-03</td>\n",
       "    </tr>\n",
       "    <tr>\n",
       "      <td>1</td>\n",
       "      <td>2019-10-07 00:00:01.236320</td>\n",
       "      <td>tips_show</td>\n",
       "      <td>020292ab-89bc-4156-9acf-68bc2783f894</td>\n",
       "      <td>2019-10-07 00:00:01</td>\n",
       "      <td>other</td>\n",
       "      <td>2019-10-07</td>\n",
       "      <td>2019-10-03</td>\n",
       "      <td>2019-10-03</td>\n",
       "    </tr>\n",
       "    <tr>\n",
       "      <td>2</td>\n",
       "      <td>2019-10-07 00:00:07.039334</td>\n",
       "      <td>tips_show</td>\n",
       "      <td>020292ab-89bc-4156-9acf-68bc2783f894</td>\n",
       "      <td>2019-10-07 00:00:07</td>\n",
       "      <td>other</td>\n",
       "      <td>2019-10-07</td>\n",
       "      <td>2019-10-03</td>\n",
       "      <td>2019-10-03</td>\n",
       "    </tr>\n",
       "    <tr>\n",
       "      <td>3</td>\n",
       "      <td>2019-10-07 00:01:27.770232</td>\n",
       "      <td>advert_open</td>\n",
       "      <td>020292ab-89bc-4156-9acf-68bc2783f894</td>\n",
       "      <td>2019-10-07 00:01:27</td>\n",
       "      <td>other</td>\n",
       "      <td>2019-10-07</td>\n",
       "      <td>2019-10-03</td>\n",
       "      <td>2019-10-03</td>\n",
       "    </tr>\n",
       "    <tr>\n",
       "      <td>4</td>\n",
       "      <td>2019-10-07 00:01:34.804591</td>\n",
       "      <td>tips_show</td>\n",
       "      <td>020292ab-89bc-4156-9acf-68bc2783f894</td>\n",
       "      <td>2019-10-07 00:01:34</td>\n",
       "      <td>other</td>\n",
       "      <td>2019-10-07</td>\n",
       "      <td>2019-10-03</td>\n",
       "      <td>2019-10-03</td>\n",
       "    </tr>\n",
       "  </tbody>\n",
       "</table>\n",
       "</div>"
      ],
      "text/plain": [
       "                  event_time   event_name  \\\n",
       "0 2019-10-07 00:00:00.431357  advert_open   \n",
       "1 2019-10-07 00:00:01.236320    tips_show   \n",
       "2 2019-10-07 00:00:07.039334    tips_show   \n",
       "3 2019-10-07 00:01:27.770232  advert_open   \n",
       "4 2019-10-07 00:01:34.804591    tips_show   \n",
       "\n",
       "                                user_id      event_time_sec source  \\\n",
       "0  020292ab-89bc-4156-9acf-68bc2783f894 2019-10-07 00:00:00  other   \n",
       "1  020292ab-89bc-4156-9acf-68bc2783f894 2019-10-07 00:00:01  other   \n",
       "2  020292ab-89bc-4156-9acf-68bc2783f894 2019-10-07 00:00:07  other   \n",
       "3  020292ab-89bc-4156-9acf-68bc2783f894 2019-10-07 00:01:27  other   \n",
       "4  020292ab-89bc-4156-9acf-68bc2783f894 2019-10-07 00:01:34  other   \n",
       "\n",
       "  first_activity_date activity_week first_activity_week  \n",
       "0          2019-10-07    2019-10-03          2019-10-03  \n",
       "1          2019-10-07    2019-10-03          2019-10-03  \n",
       "2          2019-10-07    2019-10-03          2019-10-03  \n",
       "3          2019-10-07    2019-10-03          2019-10-03  \n",
       "4          2019-10-07    2019-10-03          2019-10-03  "
      ]
     },
     "execution_count": 25,
     "metadata": {},
     "output_type": "execute_result"
    }
   ],
   "source": [
    "full_mobile_df['activity_week'] = full_mobile_df['event_time_sec'].astype('datetime64[W]')\n",
    "full_mobile_df['first_activity_week'] = full_mobile_df['first_activity_date'].astype('datetime64[W]')\n",
    "full_mobile_df.head()"
   ]
  },
  {
   "cell_type": "markdown",
   "metadata": {},
   "source": [
    "Теперь для каждой строки датафрейма можно рассчитать **lifetime** пользователя в рамках когорты. В качестве делителя обратимся к константе **np.timedelta64(1,'W')**:"
   ]
  },
  {
   "cell_type": "code",
   "execution_count": 26,
   "metadata": {},
   "outputs": [],
   "source": [
    "full_mobile_df['cohort_lifetime'] = full_mobile_df['activity_week'] - full_mobile_df['first_activity_week']\n",
    "full_mobile_df['cohort_lifetime'] = full_mobile_df['cohort_lifetime'] / np.timedelta64(1,'W')\n",
    "full_mobile_df['cohort_lifetime'] = full_mobile_df['cohort_lifetime'].astype('int') "
   ]
  },
  {
   "cell_type": "markdown",
   "metadata": {},
   "source": [
    "Сгруппируем данные по **когорте** и **lifetime**. Посчитаем для каждой когорты количество активных пользователей на определённую «неделю жизни»:"
   ]
  },
  {
   "cell_type": "code",
   "execution_count": 27,
   "metadata": {},
   "outputs": [
    {
     "data": {
      "text/html": [
       "<div>\n",
       "<style scoped>\n",
       "    .dataframe tbody tr th:only-of-type {\n",
       "        vertical-align: middle;\n",
       "    }\n",
       "\n",
       "    .dataframe tbody tr th {\n",
       "        vertical-align: top;\n",
       "    }\n",
       "\n",
       "    .dataframe thead th {\n",
       "        text-align: right;\n",
       "    }\n",
       "</style>\n",
       "<table border=\"1\" class=\"dataframe\">\n",
       "  <thead>\n",
       "    <tr style=\"text-align: right;\">\n",
       "      <th></th>\n",
       "      <th>first_activity_week</th>\n",
       "      <th>cohort_lifetime</th>\n",
       "      <th>user_id</th>\n",
       "    </tr>\n",
       "  </thead>\n",
       "  <tbody>\n",
       "    <tr>\n",
       "      <td>0</td>\n",
       "      <td>2019-10-03</td>\n",
       "      <td>0</td>\n",
       "      <td>547</td>\n",
       "    </tr>\n",
       "    <tr>\n",
       "      <td>1</td>\n",
       "      <td>2019-10-03</td>\n",
       "      <td>1</td>\n",
       "      <td>148</td>\n",
       "    </tr>\n",
       "    <tr>\n",
       "      <td>2</td>\n",
       "      <td>2019-10-03</td>\n",
       "      <td>2</td>\n",
       "      <td>92</td>\n",
       "    </tr>\n",
       "    <tr>\n",
       "      <td>3</td>\n",
       "      <td>2019-10-03</td>\n",
       "      <td>3</td>\n",
       "      <td>60</td>\n",
       "    </tr>\n",
       "    <tr>\n",
       "      <td>4</td>\n",
       "      <td>2019-10-03</td>\n",
       "      <td>4</td>\n",
       "      <td>39</td>\n",
       "    </tr>\n",
       "    <tr>\n",
       "      <td>5</td>\n",
       "      <td>2019-10-10</td>\n",
       "      <td>0</td>\n",
       "      <td>1120</td>\n",
       "    </tr>\n",
       "    <tr>\n",
       "      <td>6</td>\n",
       "      <td>2019-10-10</td>\n",
       "      <td>1</td>\n",
       "      <td>262</td>\n",
       "    </tr>\n",
       "    <tr>\n",
       "      <td>7</td>\n",
       "      <td>2019-10-10</td>\n",
       "      <td>2</td>\n",
       "      <td>173</td>\n",
       "    </tr>\n",
       "    <tr>\n",
       "      <td>8</td>\n",
       "      <td>2019-10-10</td>\n",
       "      <td>3</td>\n",
       "      <td>79</td>\n",
       "    </tr>\n",
       "    <tr>\n",
       "      <td>9</td>\n",
       "      <td>2019-10-17</td>\n",
       "      <td>0</td>\n",
       "      <td>1136</td>\n",
       "    </tr>\n",
       "    <tr>\n",
       "      <td>10</td>\n",
       "      <td>2019-10-17</td>\n",
       "      <td>1</td>\n",
       "      <td>273</td>\n",
       "    </tr>\n",
       "    <tr>\n",
       "      <td>11</td>\n",
       "      <td>2019-10-17</td>\n",
       "      <td>2</td>\n",
       "      <td>101</td>\n",
       "    </tr>\n",
       "    <tr>\n",
       "      <td>12</td>\n",
       "      <td>2019-10-24</td>\n",
       "      <td>0</td>\n",
       "      <td>1014</td>\n",
       "    </tr>\n",
       "    <tr>\n",
       "      <td>13</td>\n",
       "      <td>2019-10-24</td>\n",
       "      <td>1</td>\n",
       "      <td>176</td>\n",
       "    </tr>\n",
       "    <tr>\n",
       "      <td>14</td>\n",
       "      <td>2019-10-31</td>\n",
       "      <td>0</td>\n",
       "      <td>476</td>\n",
       "    </tr>\n",
       "  </tbody>\n",
       "</table>\n",
       "</div>"
      ],
      "text/plain": [
       "   first_activity_week  cohort_lifetime  user_id\n",
       "0           2019-10-03                0      547\n",
       "1           2019-10-03                1      148\n",
       "2           2019-10-03                2       92\n",
       "3           2019-10-03                3       60\n",
       "4           2019-10-03                4       39\n",
       "5           2019-10-10                0     1120\n",
       "6           2019-10-10                1      262\n",
       "7           2019-10-10                2      173\n",
       "8           2019-10-10                3       79\n",
       "9           2019-10-17                0     1136\n",
       "10          2019-10-17                1      273\n",
       "11          2019-10-17                2      101\n",
       "12          2019-10-24                0     1014\n",
       "13          2019-10-24                1      176\n",
       "14          2019-10-31                0      476"
      ]
     },
     "execution_count": 27,
     "metadata": {},
     "output_type": "execute_result"
    }
   ],
   "source": [
    "cohorts = full_mobile_df.groupby(['first_activity_week','cohort_lifetime']).agg({'user_id':'nunique'}).reset_index() \n",
    "cohorts"
   ]
  },
  {
   "cell_type": "markdown",
   "metadata": {},
   "source": [
    "Чтобы найти ***Retention Rate***, нужно сперва получить число пользователей, изначально бывших в когорте, и на него разделить число пользователей в каждую следующую неделю.Найдём исходное количество пользователей в когорте. Возьмём их число на нулевую неделю:"
   ]
  },
  {
   "cell_type": "code",
   "execution_count": 28,
   "metadata": {},
   "outputs": [
    {
     "data": {
      "text/html": [
       "<div>\n",
       "<style scoped>\n",
       "    .dataframe tbody tr th:only-of-type {\n",
       "        vertical-align: middle;\n",
       "    }\n",
       "\n",
       "    .dataframe tbody tr th {\n",
       "        vertical-align: top;\n",
       "    }\n",
       "\n",
       "    .dataframe thead th {\n",
       "        text-align: right;\n",
       "    }\n",
       "</style>\n",
       "<table border=\"1\" class=\"dataframe\">\n",
       "  <thead>\n",
       "    <tr style=\"text-align: right;\">\n",
       "      <th></th>\n",
       "      <th>first_activity_week</th>\n",
       "      <th>user_id</th>\n",
       "    </tr>\n",
       "  </thead>\n",
       "  <tbody>\n",
       "    <tr>\n",
       "      <td>0</td>\n",
       "      <td>2019-10-03</td>\n",
       "      <td>547</td>\n",
       "    </tr>\n",
       "    <tr>\n",
       "      <td>5</td>\n",
       "      <td>2019-10-10</td>\n",
       "      <td>1120</td>\n",
       "    </tr>\n",
       "    <tr>\n",
       "      <td>9</td>\n",
       "      <td>2019-10-17</td>\n",
       "      <td>1136</td>\n",
       "    </tr>\n",
       "    <tr>\n",
       "      <td>12</td>\n",
       "      <td>2019-10-24</td>\n",
       "      <td>1014</td>\n",
       "    </tr>\n",
       "    <tr>\n",
       "      <td>14</td>\n",
       "      <td>2019-10-31</td>\n",
       "      <td>476</td>\n",
       "    </tr>\n",
       "  </tbody>\n",
       "</table>\n",
       "</div>"
      ],
      "text/plain": [
       "   first_activity_week  user_id\n",
       "0           2019-10-03      547\n",
       "5           2019-10-10     1120\n",
       "9           2019-10-17     1136\n",
       "12          2019-10-24     1014\n",
       "14          2019-10-31      476"
      ]
     },
     "execution_count": 28,
     "metadata": {},
     "output_type": "execute_result"
    }
   ],
   "source": [
    "initial_users_count = cohorts[cohorts['cohort_lifetime'] == 0][['first_activity_week','user_id']]\n",
    "initial_users_count"
   ]
  },
  {
   "cell_type": "markdown",
   "metadata": {},
   "source": [
    "Переименуем столбец *user_id* в *cohort_users*:"
   ]
  },
  {
   "cell_type": "code",
   "execution_count": 29,
   "metadata": {},
   "outputs": [
    {
     "data": {
      "text/html": [
       "<div>\n",
       "<style scoped>\n",
       "    .dataframe tbody tr th:only-of-type {\n",
       "        vertical-align: middle;\n",
       "    }\n",
       "\n",
       "    .dataframe tbody tr th {\n",
       "        vertical-align: top;\n",
       "    }\n",
       "\n",
       "    .dataframe thead th {\n",
       "        text-align: right;\n",
       "    }\n",
       "</style>\n",
       "<table border=\"1\" class=\"dataframe\">\n",
       "  <thead>\n",
       "    <tr style=\"text-align: right;\">\n",
       "      <th></th>\n",
       "      <th>first_activity_week</th>\n",
       "      <th>cohort_users</th>\n",
       "    </tr>\n",
       "  </thead>\n",
       "  <tbody>\n",
       "    <tr>\n",
       "      <td>0</td>\n",
       "      <td>2019-10-03</td>\n",
       "      <td>547</td>\n",
       "    </tr>\n",
       "    <tr>\n",
       "      <td>5</td>\n",
       "      <td>2019-10-10</td>\n",
       "      <td>1120</td>\n",
       "    </tr>\n",
       "    <tr>\n",
       "      <td>9</td>\n",
       "      <td>2019-10-17</td>\n",
       "      <td>1136</td>\n",
       "    </tr>\n",
       "    <tr>\n",
       "      <td>12</td>\n",
       "      <td>2019-10-24</td>\n",
       "      <td>1014</td>\n",
       "    </tr>\n",
       "    <tr>\n",
       "      <td>14</td>\n",
       "      <td>2019-10-31</td>\n",
       "      <td>476</td>\n",
       "    </tr>\n",
       "  </tbody>\n",
       "</table>\n",
       "</div>"
      ],
      "text/plain": [
       "   first_activity_week  cohort_users\n",
       "0           2019-10-03           547\n",
       "5           2019-10-10          1120\n",
       "9           2019-10-17          1136\n",
       "12          2019-10-24          1014\n",
       "14          2019-10-31           476"
      ]
     },
     "execution_count": 29,
     "metadata": {},
     "output_type": "execute_result"
    }
   ],
   "source": [
    "initial_users_count = initial_users_count.rename(columns={'user_id':'cohort_users'}) \n",
    "initial_users_count"
   ]
  },
  {
   "cell_type": "markdown",
   "metadata": {},
   "source": [
    "Объединим данные по когортам с исходным количеством пользователей в когорте:"
   ]
  },
  {
   "cell_type": "code",
   "execution_count": 30,
   "metadata": {},
   "outputs": [
    {
     "data": {
      "text/html": [
       "<div>\n",
       "<style scoped>\n",
       "    .dataframe tbody tr th:only-of-type {\n",
       "        vertical-align: middle;\n",
       "    }\n",
       "\n",
       "    .dataframe tbody tr th {\n",
       "        vertical-align: top;\n",
       "    }\n",
       "\n",
       "    .dataframe thead th {\n",
       "        text-align: right;\n",
       "    }\n",
       "</style>\n",
       "<table border=\"1\" class=\"dataframe\">\n",
       "  <thead>\n",
       "    <tr style=\"text-align: right;\">\n",
       "      <th></th>\n",
       "      <th>first_activity_week</th>\n",
       "      <th>cohort_lifetime</th>\n",
       "      <th>user_id</th>\n",
       "      <th>cohort_users</th>\n",
       "    </tr>\n",
       "  </thead>\n",
       "  <tbody>\n",
       "    <tr>\n",
       "      <td>0</td>\n",
       "      <td>2019-10-03</td>\n",
       "      <td>0</td>\n",
       "      <td>547</td>\n",
       "      <td>547</td>\n",
       "    </tr>\n",
       "    <tr>\n",
       "      <td>1</td>\n",
       "      <td>2019-10-03</td>\n",
       "      <td>1</td>\n",
       "      <td>148</td>\n",
       "      <td>547</td>\n",
       "    </tr>\n",
       "    <tr>\n",
       "      <td>2</td>\n",
       "      <td>2019-10-03</td>\n",
       "      <td>2</td>\n",
       "      <td>92</td>\n",
       "      <td>547</td>\n",
       "    </tr>\n",
       "    <tr>\n",
       "      <td>3</td>\n",
       "      <td>2019-10-03</td>\n",
       "      <td>3</td>\n",
       "      <td>60</td>\n",
       "      <td>547</td>\n",
       "    </tr>\n",
       "    <tr>\n",
       "      <td>4</td>\n",
       "      <td>2019-10-03</td>\n",
       "      <td>4</td>\n",
       "      <td>39</td>\n",
       "      <td>547</td>\n",
       "    </tr>\n",
       "    <tr>\n",
       "      <td>5</td>\n",
       "      <td>2019-10-10</td>\n",
       "      <td>0</td>\n",
       "      <td>1120</td>\n",
       "      <td>1120</td>\n",
       "    </tr>\n",
       "    <tr>\n",
       "      <td>6</td>\n",
       "      <td>2019-10-10</td>\n",
       "      <td>1</td>\n",
       "      <td>262</td>\n",
       "      <td>1120</td>\n",
       "    </tr>\n",
       "    <tr>\n",
       "      <td>7</td>\n",
       "      <td>2019-10-10</td>\n",
       "      <td>2</td>\n",
       "      <td>173</td>\n",
       "      <td>1120</td>\n",
       "    </tr>\n",
       "    <tr>\n",
       "      <td>8</td>\n",
       "      <td>2019-10-10</td>\n",
       "      <td>3</td>\n",
       "      <td>79</td>\n",
       "      <td>1120</td>\n",
       "    </tr>\n",
       "    <tr>\n",
       "      <td>9</td>\n",
       "      <td>2019-10-17</td>\n",
       "      <td>0</td>\n",
       "      <td>1136</td>\n",
       "      <td>1136</td>\n",
       "    </tr>\n",
       "    <tr>\n",
       "      <td>10</td>\n",
       "      <td>2019-10-17</td>\n",
       "      <td>1</td>\n",
       "      <td>273</td>\n",
       "      <td>1136</td>\n",
       "    </tr>\n",
       "    <tr>\n",
       "      <td>11</td>\n",
       "      <td>2019-10-17</td>\n",
       "      <td>2</td>\n",
       "      <td>101</td>\n",
       "      <td>1136</td>\n",
       "    </tr>\n",
       "    <tr>\n",
       "      <td>12</td>\n",
       "      <td>2019-10-24</td>\n",
       "      <td>0</td>\n",
       "      <td>1014</td>\n",
       "      <td>1014</td>\n",
       "    </tr>\n",
       "    <tr>\n",
       "      <td>13</td>\n",
       "      <td>2019-10-24</td>\n",
       "      <td>1</td>\n",
       "      <td>176</td>\n",
       "      <td>1014</td>\n",
       "    </tr>\n",
       "    <tr>\n",
       "      <td>14</td>\n",
       "      <td>2019-10-31</td>\n",
       "      <td>0</td>\n",
       "      <td>476</td>\n",
       "      <td>476</td>\n",
       "    </tr>\n",
       "  </tbody>\n",
       "</table>\n",
       "</div>"
      ],
      "text/plain": [
       "   first_activity_week  cohort_lifetime  user_id  cohort_users\n",
       "0           2019-10-03                0      547           547\n",
       "1           2019-10-03                1      148           547\n",
       "2           2019-10-03                2       92           547\n",
       "3           2019-10-03                3       60           547\n",
       "4           2019-10-03                4       39           547\n",
       "5           2019-10-10                0     1120          1120\n",
       "6           2019-10-10                1      262          1120\n",
       "7           2019-10-10                2      173          1120\n",
       "8           2019-10-10                3       79          1120\n",
       "9           2019-10-17                0     1136          1136\n",
       "10          2019-10-17                1      273          1136\n",
       "11          2019-10-17                2      101          1136\n",
       "12          2019-10-24                0     1014          1014\n",
       "13          2019-10-24                1      176          1014\n",
       "14          2019-10-31                0      476           476"
      ]
     },
     "execution_count": 30,
     "metadata": {},
     "output_type": "execute_result"
    }
   ],
   "source": [
    "cohorts = cohorts.merge(initial_users_count,on='first_activity_week') \n",
    "cohorts"
   ]
  },
  {
   "cell_type": "markdown",
   "metadata": {},
   "source": [
    "Рассчитаем ***Retention Rate***. Разделим количество активных пользователей в каждую из недель на исходное число пользователей в когорте:"
   ]
  },
  {
   "cell_type": "code",
   "execution_count": 31,
   "metadata": {},
   "outputs": [
    {
     "data": {
      "text/html": [
       "<div>\n",
       "<style scoped>\n",
       "    .dataframe tbody tr th:only-of-type {\n",
       "        vertical-align: middle;\n",
       "    }\n",
       "\n",
       "    .dataframe tbody tr th {\n",
       "        vertical-align: top;\n",
       "    }\n",
       "\n",
       "    .dataframe thead th {\n",
       "        text-align: right;\n",
       "    }\n",
       "</style>\n",
       "<table border=\"1\" class=\"dataframe\">\n",
       "  <thead>\n",
       "    <tr style=\"text-align: right;\">\n",
       "      <th></th>\n",
       "      <th>first_activity_week</th>\n",
       "      <th>cohort_lifetime</th>\n",
       "      <th>user_id</th>\n",
       "      <th>cohort_users</th>\n",
       "      <th>retention</th>\n",
       "    </tr>\n",
       "  </thead>\n",
       "  <tbody>\n",
       "    <tr>\n",
       "      <td>0</td>\n",
       "      <td>2019-10-03</td>\n",
       "      <td>0</td>\n",
       "      <td>547</td>\n",
       "      <td>547</td>\n",
       "      <td>1.000000</td>\n",
       "    </tr>\n",
       "    <tr>\n",
       "      <td>1</td>\n",
       "      <td>2019-10-03</td>\n",
       "      <td>1</td>\n",
       "      <td>148</td>\n",
       "      <td>547</td>\n",
       "      <td>0.270567</td>\n",
       "    </tr>\n",
       "    <tr>\n",
       "      <td>2</td>\n",
       "      <td>2019-10-03</td>\n",
       "      <td>2</td>\n",
       "      <td>92</td>\n",
       "      <td>547</td>\n",
       "      <td>0.168190</td>\n",
       "    </tr>\n",
       "    <tr>\n",
       "      <td>3</td>\n",
       "      <td>2019-10-03</td>\n",
       "      <td>3</td>\n",
       "      <td>60</td>\n",
       "      <td>547</td>\n",
       "      <td>0.109689</td>\n",
       "    </tr>\n",
       "    <tr>\n",
       "      <td>4</td>\n",
       "      <td>2019-10-03</td>\n",
       "      <td>4</td>\n",
       "      <td>39</td>\n",
       "      <td>547</td>\n",
       "      <td>0.071298</td>\n",
       "    </tr>\n",
       "    <tr>\n",
       "      <td>5</td>\n",
       "      <td>2019-10-10</td>\n",
       "      <td>0</td>\n",
       "      <td>1120</td>\n",
       "      <td>1120</td>\n",
       "      <td>1.000000</td>\n",
       "    </tr>\n",
       "    <tr>\n",
       "      <td>6</td>\n",
       "      <td>2019-10-10</td>\n",
       "      <td>1</td>\n",
       "      <td>262</td>\n",
       "      <td>1120</td>\n",
       "      <td>0.233929</td>\n",
       "    </tr>\n",
       "    <tr>\n",
       "      <td>7</td>\n",
       "      <td>2019-10-10</td>\n",
       "      <td>2</td>\n",
       "      <td>173</td>\n",
       "      <td>1120</td>\n",
       "      <td>0.154464</td>\n",
       "    </tr>\n",
       "    <tr>\n",
       "      <td>8</td>\n",
       "      <td>2019-10-10</td>\n",
       "      <td>3</td>\n",
       "      <td>79</td>\n",
       "      <td>1120</td>\n",
       "      <td>0.070536</td>\n",
       "    </tr>\n",
       "    <tr>\n",
       "      <td>9</td>\n",
       "      <td>2019-10-17</td>\n",
       "      <td>0</td>\n",
       "      <td>1136</td>\n",
       "      <td>1136</td>\n",
       "      <td>1.000000</td>\n",
       "    </tr>\n",
       "    <tr>\n",
       "      <td>10</td>\n",
       "      <td>2019-10-17</td>\n",
       "      <td>1</td>\n",
       "      <td>273</td>\n",
       "      <td>1136</td>\n",
       "      <td>0.240317</td>\n",
       "    </tr>\n",
       "    <tr>\n",
       "      <td>11</td>\n",
       "      <td>2019-10-17</td>\n",
       "      <td>2</td>\n",
       "      <td>101</td>\n",
       "      <td>1136</td>\n",
       "      <td>0.088908</td>\n",
       "    </tr>\n",
       "    <tr>\n",
       "      <td>12</td>\n",
       "      <td>2019-10-24</td>\n",
       "      <td>0</td>\n",
       "      <td>1014</td>\n",
       "      <td>1014</td>\n",
       "      <td>1.000000</td>\n",
       "    </tr>\n",
       "    <tr>\n",
       "      <td>13</td>\n",
       "      <td>2019-10-24</td>\n",
       "      <td>1</td>\n",
       "      <td>176</td>\n",
       "      <td>1014</td>\n",
       "      <td>0.173570</td>\n",
       "    </tr>\n",
       "    <tr>\n",
       "      <td>14</td>\n",
       "      <td>2019-10-31</td>\n",
       "      <td>0</td>\n",
       "      <td>476</td>\n",
       "      <td>476</td>\n",
       "      <td>1.000000</td>\n",
       "    </tr>\n",
       "  </tbody>\n",
       "</table>\n",
       "</div>"
      ],
      "text/plain": [
       "   first_activity_week  cohort_lifetime  user_id  cohort_users  retention\n",
       "0           2019-10-03                0      547           547   1.000000\n",
       "1           2019-10-03                1      148           547   0.270567\n",
       "2           2019-10-03                2       92           547   0.168190\n",
       "3           2019-10-03                3       60           547   0.109689\n",
       "4           2019-10-03                4       39           547   0.071298\n",
       "5           2019-10-10                0     1120          1120   1.000000\n",
       "6           2019-10-10                1      262          1120   0.233929\n",
       "7           2019-10-10                2      173          1120   0.154464\n",
       "8           2019-10-10                3       79          1120   0.070536\n",
       "9           2019-10-17                0     1136          1136   1.000000\n",
       "10          2019-10-17                1      273          1136   0.240317\n",
       "11          2019-10-17                2      101          1136   0.088908\n",
       "12          2019-10-24                0     1014          1014   1.000000\n",
       "13          2019-10-24                1      176          1014   0.173570\n",
       "14          2019-10-31                0      476           476   1.000000"
      ]
     },
     "execution_count": 31,
     "metadata": {},
     "output_type": "execute_result"
    }
   ],
   "source": [
    "cohorts['retention'] = cohorts['user_id']/cohorts['cohort_users'] \n",
    "cohorts"
   ]
  },
  {
   "cell_type": "markdown",
   "metadata": {},
   "source": [
    "Построим сводную таблицу и создадим тепловую карту:"
   ]
  },
  {
   "cell_type": "code",
   "execution_count": 32,
   "metadata": {},
   "outputs": [],
   "source": [
    "retention_pivot = cohorts.pivot_table(index='first_activity_week',columns='cohort_lifetime',values='retention',aggfunc='sum') "
   ]
  },
  {
   "cell_type": "code",
   "execution_count": 33,
   "metadata": {},
   "outputs": [
    {
     "data": {
      "image/png": "[encoded data removed]",
      "text/plain": [
       "<Figure size 1080x720 with 2 Axes>"
      ]
     },
     "metadata": {},
     "output_type": "display_data"
    }
   ],
   "source": [
    "retention_pivot.index = retention_pivot.index.strftime(\"%w\")\n",
    "sns.set(style='white')\n",
    "plt.figure(figsize=(15, 10))\n",
    "plt.title('Retention Rate(по когортам)')\n",
    "sns.heatmap(retention_pivot, annot=True, fmt='.2f', linewidths=1, linecolor='grey')\n",
    "plt.gca().set(xlabel='lifetime', ylabel='первая неделя активности')\n",
    "plt.show()\n"
   ]
  },
  {
   "cell_type": "markdown",
   "metadata": {},
   "source": [
    "Мы расчитали ***Retention Rate*** для посетителей приложения, по тепловой карте видим, что за месяц показатель упал с *1 до 0.07*. С каждой новой когортой поведение пользователей меняется. Нам нужно впоследствии выяснить, какие именно факторы влияют на отток пользователей.  "
   ]
  },
  {
   "cell_type": "markdown",
   "metadata": {},
   "source": [
    "### 2.2. Время, проведенное в приложении"
   ]
  },
  {
   "cell_type": "markdown",
   "metadata": {},
   "source": [
    "Что определить эту метрику, нам нужно выделить для каждого пользователя *сессии*. Для этого нам нужно для каждого пользователя расчитать время между действиями. Сначала создадим столбец с отметкой времени предыдущего действия для каждого пользователя (*pre_action_time*):"
   ]
  },
  {
   "cell_type": "code",
   "execution_count": 34,
   "metadata": {},
   "outputs": [
    {
     "data": {
      "text/html": [
       "<div>\n",
       "<style scoped>\n",
       "    .dataframe tbody tr th:only-of-type {\n",
       "        vertical-align: middle;\n",
       "    }\n",
       "\n",
       "    .dataframe tbody tr th {\n",
       "        vertical-align: top;\n",
       "    }\n",
       "\n",
       "    .dataframe thead th {\n",
       "        text-align: right;\n",
       "    }\n",
       "</style>\n",
       "<table border=\"1\" class=\"dataframe\">\n",
       "  <thead>\n",
       "    <tr style=\"text-align: right;\">\n",
       "      <th></th>\n",
       "      <th>event_time</th>\n",
       "      <th>event_name</th>\n",
       "      <th>user_id</th>\n",
       "      <th>event_time_sec</th>\n",
       "      <th>source</th>\n",
       "      <th>first_activity_date</th>\n",
       "      <th>activity_week</th>\n",
       "      <th>first_activity_week</th>\n",
       "      <th>cohort_lifetime</th>\n",
       "      <th>pre_action_time</th>\n",
       "    </tr>\n",
       "  </thead>\n",
       "  <tbody>\n",
       "    <tr>\n",
       "      <td>0</td>\n",
       "      <td>2019-10-07 00:00:00.431357</td>\n",
       "      <td>advert_open</td>\n",
       "      <td>020292ab-89bc-4156-9acf-68bc2783f894</td>\n",
       "      <td>2019-10-07 00:00:00</td>\n",
       "      <td>other</td>\n",
       "      <td>2019-10-07 00:00:00</td>\n",
       "      <td>2019-10-03</td>\n",
       "      <td>2019-10-03</td>\n",
       "      <td>0</td>\n",
       "      <td>NaT</td>\n",
       "    </tr>\n",
       "    <tr>\n",
       "      <td>1</td>\n",
       "      <td>2019-10-07 00:00:01.236320</td>\n",
       "      <td>tips_show</td>\n",
       "      <td>020292ab-89bc-4156-9acf-68bc2783f894</td>\n",
       "      <td>2019-10-07 00:00:01</td>\n",
       "      <td>other</td>\n",
       "      <td>2019-10-07 00:00:00</td>\n",
       "      <td>2019-10-03</td>\n",
       "      <td>2019-10-03</td>\n",
       "      <td>0</td>\n",
       "      <td>2019-10-07 00:00:00</td>\n",
       "    </tr>\n",
       "    <tr>\n",
       "      <td>2</td>\n",
       "      <td>2019-10-07 00:00:07.039334</td>\n",
       "      <td>tips_show</td>\n",
       "      <td>020292ab-89bc-4156-9acf-68bc2783f894</td>\n",
       "      <td>2019-10-07 00:00:07</td>\n",
       "      <td>other</td>\n",
       "      <td>2019-10-07 00:00:00</td>\n",
       "      <td>2019-10-03</td>\n",
       "      <td>2019-10-03</td>\n",
       "      <td>0</td>\n",
       "      <td>2019-10-07 00:00:01</td>\n",
       "    </tr>\n",
       "    <tr>\n",
       "      <td>3</td>\n",
       "      <td>2019-10-07 00:01:27.770232</td>\n",
       "      <td>advert_open</td>\n",
       "      <td>020292ab-89bc-4156-9acf-68bc2783f894</td>\n",
       "      <td>2019-10-07 00:01:27</td>\n",
       "      <td>other</td>\n",
       "      <td>2019-10-07 00:00:00</td>\n",
       "      <td>2019-10-03</td>\n",
       "      <td>2019-10-03</td>\n",
       "      <td>0</td>\n",
       "      <td>2019-10-07 00:00:07</td>\n",
       "    </tr>\n",
       "    <tr>\n",
       "      <td>4</td>\n",
       "      <td>2019-10-07 00:01:34.804591</td>\n",
       "      <td>tips_show</td>\n",
       "      <td>020292ab-89bc-4156-9acf-68bc2783f894</td>\n",
       "      <td>2019-10-07 00:01:34</td>\n",
       "      <td>other</td>\n",
       "      <td>2019-10-07 00:00:00</td>\n",
       "      <td>2019-10-03</td>\n",
       "      <td>2019-10-03</td>\n",
       "      <td>0</td>\n",
       "      <td>2019-10-07 00:01:27</td>\n",
       "    </tr>\n",
       "    <tr>\n",
       "      <td>...</td>\n",
       "      <td>...</td>\n",
       "      <td>...</td>\n",
       "      <td>...</td>\n",
       "      <td>...</td>\n",
       "      <td>...</td>\n",
       "      <td>...</td>\n",
       "      <td>...</td>\n",
       "      <td>...</td>\n",
       "      <td>...</td>\n",
       "      <td>...</td>\n",
       "    </tr>\n",
       "    <tr>\n",
       "      <td>74192</td>\n",
       "      <td>2019-11-03 23:46:47.068179</td>\n",
       "      <td>map</td>\n",
       "      <td>d157bffc-264d-4464-8220-1cc0c42f43a9</td>\n",
       "      <td>2019-11-03 23:46:47</td>\n",
       "      <td>google</td>\n",
       "      <td>2019-11-03 23:46:47</td>\n",
       "      <td>2019-10-31</td>\n",
       "      <td>2019-10-31</td>\n",
       "      <td>0</td>\n",
       "      <td>NaT</td>\n",
       "    </tr>\n",
       "    <tr>\n",
       "      <td>74193</td>\n",
       "      <td>2019-11-03 23:46:58.914787</td>\n",
       "      <td>advert_open</td>\n",
       "      <td>d157bffc-264d-4464-8220-1cc0c42f43a9</td>\n",
       "      <td>2019-11-03 23:46:58</td>\n",
       "      <td>google</td>\n",
       "      <td>2019-11-03 23:46:47</td>\n",
       "      <td>2019-10-31</td>\n",
       "      <td>2019-10-31</td>\n",
       "      <td>0</td>\n",
       "      <td>2019-11-03 23:46:47</td>\n",
       "    </tr>\n",
       "    <tr>\n",
       "      <td>74194</td>\n",
       "      <td>2019-11-03 23:47:01.232230</td>\n",
       "      <td>tips_show</td>\n",
       "      <td>d157bffc-264d-4464-8220-1cc0c42f43a9</td>\n",
       "      <td>2019-11-03 23:47:01</td>\n",
       "      <td>google</td>\n",
       "      <td>2019-11-03 23:46:47</td>\n",
       "      <td>2019-10-31</td>\n",
       "      <td>2019-10-31</td>\n",
       "      <td>0</td>\n",
       "      <td>2019-11-03 23:46:58</td>\n",
       "    </tr>\n",
       "    <tr>\n",
       "      <td>74195</td>\n",
       "      <td>2019-11-03 23:47:47.475102</td>\n",
       "      <td>advert_open</td>\n",
       "      <td>d157bffc-264d-4464-8220-1cc0c42f43a9</td>\n",
       "      <td>2019-11-03 23:47:47</td>\n",
       "      <td>google</td>\n",
       "      <td>2019-11-03 23:46:47</td>\n",
       "      <td>2019-10-31</td>\n",
       "      <td>2019-10-31</td>\n",
       "      <td>0</td>\n",
       "      <td>2019-11-03 23:47:01</td>\n",
       "    </tr>\n",
       "    <tr>\n",
       "      <td>74196</td>\n",
       "      <td>2019-11-03 23:47:50.087645</td>\n",
       "      <td>tips_show</td>\n",
       "      <td>d157bffc-264d-4464-8220-1cc0c42f43a9</td>\n",
       "      <td>2019-11-03 23:47:50</td>\n",
       "      <td>google</td>\n",
       "      <td>2019-11-03 23:46:47</td>\n",
       "      <td>2019-10-31</td>\n",
       "      <td>2019-10-31</td>\n",
       "      <td>0</td>\n",
       "      <td>2019-11-03 23:47:47</td>\n",
       "    </tr>\n",
       "  </tbody>\n",
       "</table>\n",
       "<p>74197 rows × 10 columns</p>\n",
       "</div>"
      ],
      "text/plain": [
       "                      event_time   event_name  \\\n",
       "0     2019-10-07 00:00:00.431357  advert_open   \n",
       "1     2019-10-07 00:00:01.236320    tips_show   \n",
       "2     2019-10-07 00:00:07.039334    tips_show   \n",
       "3     2019-10-07 00:01:27.770232  advert_open   \n",
       "4     2019-10-07 00:01:34.804591    tips_show   \n",
       "...                          ...          ...   \n",
       "74192 2019-11-03 23:46:47.068179          map   \n",
       "74193 2019-11-03 23:46:58.914787  advert_open   \n",
       "74194 2019-11-03 23:47:01.232230    tips_show   \n",
       "74195 2019-11-03 23:47:47.475102  advert_open   \n",
       "74196 2019-11-03 23:47:50.087645    tips_show   \n",
       "\n",
       "                                    user_id      event_time_sec  source  \\\n",
       "0      020292ab-89bc-4156-9acf-68bc2783f894 2019-10-07 00:00:00   other   \n",
       "1      020292ab-89bc-4156-9acf-68bc2783f894 2019-10-07 00:00:01   other   \n",
       "2      020292ab-89bc-4156-9acf-68bc2783f894 2019-10-07 00:00:07   other   \n",
       "3      020292ab-89bc-4156-9acf-68bc2783f894 2019-10-07 00:01:27   other   \n",
       "4      020292ab-89bc-4156-9acf-68bc2783f894 2019-10-07 00:01:34   other   \n",
       "...                                     ...                 ...     ...   \n",
       "74192  d157bffc-264d-4464-8220-1cc0c42f43a9 2019-11-03 23:46:47  google   \n",
       "74193  d157bffc-264d-4464-8220-1cc0c42f43a9 2019-11-03 23:46:58  google   \n",
       "74194  d157bffc-264d-4464-8220-1cc0c42f43a9 2019-11-03 23:47:01  google   \n",
       "74195  d157bffc-264d-4464-8220-1cc0c42f43a9 2019-11-03 23:47:47  google   \n",
       "74196  d157bffc-264d-4464-8220-1cc0c42f43a9 2019-11-03 23:47:50  google   \n",
       "\n",
       "      first_activity_date activity_week first_activity_week  cohort_lifetime  \\\n",
       "0     2019-10-07 00:00:00    2019-10-03          2019-10-03                0   \n",
       "1     2019-10-07 00:00:00    2019-10-03          2019-10-03                0   \n",
       "2     2019-10-07 00:00:00    2019-10-03          2019-10-03                0   \n",
       "3     2019-10-07 00:00:00    2019-10-03          2019-10-03                0   \n",
       "4     2019-10-07 00:00:00    2019-10-03          2019-10-03                0   \n",
       "...                   ...           ...                 ...              ...   \n",
       "74192 2019-11-03 23:46:47    2019-10-31          2019-10-31                0   \n",
       "74193 2019-11-03 23:46:47    2019-10-31          2019-10-31                0   \n",
       "74194 2019-11-03 23:46:47    2019-10-31          2019-10-31                0   \n",
       "74195 2019-11-03 23:46:47    2019-10-31          2019-10-31                0   \n",
       "74196 2019-11-03 23:46:47    2019-10-31          2019-10-31                0   \n",
       "\n",
       "          pre_action_time  \n",
       "0                     NaT  \n",
       "1     2019-10-07 00:00:00  \n",
       "2     2019-10-07 00:00:01  \n",
       "3     2019-10-07 00:00:07  \n",
       "4     2019-10-07 00:01:27  \n",
       "...                   ...  \n",
       "74192                 NaT  \n",
       "74193 2019-11-03 23:46:47  \n",
       "74194 2019-11-03 23:46:58  \n",
       "74195 2019-11-03 23:47:01  \n",
       "74196 2019-11-03 23:47:47  \n",
       "\n",
       "[74197 rows x 10 columns]"
      ]
     },
     "execution_count": 34,
     "metadata": {},
     "output_type": "execute_result"
    }
   ],
   "source": [
    "full_mobile_df['pre_action_time'] = full_mobile_df.groupby('user_id')['event_time_sec'].shift()\n",
    "full_mobile_df"
   ]
  },
  {
   "cell_type": "markdown",
   "metadata": {},
   "source": [
    "Теперь создадим столбец *active_session*, в котором будет содержаться количество времени, проведенное в приложении между действиями:"
   ]
  },
  {
   "cell_type": "code",
   "execution_count": 35,
   "metadata": {},
   "outputs": [
    {
     "data": {
      "text/html": [
       "<div>\n",
       "<style scoped>\n",
       "    .dataframe tbody tr th:only-of-type {\n",
       "        vertical-align: middle;\n",
       "    }\n",
       "\n",
       "    .dataframe tbody tr th {\n",
       "        vertical-align: top;\n",
       "    }\n",
       "\n",
       "    .dataframe thead th {\n",
       "        text-align: right;\n",
       "    }\n",
       "</style>\n",
       "<table border=\"1\" class=\"dataframe\">\n",
       "  <thead>\n",
       "    <tr style=\"text-align: right;\">\n",
       "      <th></th>\n",
       "      <th>event_time</th>\n",
       "      <th>event_name</th>\n",
       "      <th>user_id</th>\n",
       "      <th>event_time_sec</th>\n",
       "      <th>source</th>\n",
       "      <th>first_activity_date</th>\n",
       "      <th>activity_week</th>\n",
       "      <th>first_activity_week</th>\n",
       "      <th>cohort_lifetime</th>\n",
       "      <th>pre_action_time</th>\n",
       "      <th>active_session</th>\n",
       "    </tr>\n",
       "  </thead>\n",
       "  <tbody>\n",
       "    <tr>\n",
       "      <td>0</td>\n",
       "      <td>2019-10-07 00:00:00.431357</td>\n",
       "      <td>advert_open</td>\n",
       "      <td>020292ab-89bc-4156-9acf-68bc2783f894</td>\n",
       "      <td>2019-10-07 00:00:00</td>\n",
       "      <td>other</td>\n",
       "      <td>2019-10-07 00:00:00</td>\n",
       "      <td>2019-10-03</td>\n",
       "      <td>2019-10-03</td>\n",
       "      <td>0</td>\n",
       "      <td>NaT</td>\n",
       "      <td>NaT</td>\n",
       "    </tr>\n",
       "    <tr>\n",
       "      <td>1</td>\n",
       "      <td>2019-10-07 00:00:01.236320</td>\n",
       "      <td>tips_show</td>\n",
       "      <td>020292ab-89bc-4156-9acf-68bc2783f894</td>\n",
       "      <td>2019-10-07 00:00:01</td>\n",
       "      <td>other</td>\n",
       "      <td>2019-10-07 00:00:00</td>\n",
       "      <td>2019-10-03</td>\n",
       "      <td>2019-10-03</td>\n",
       "      <td>0</td>\n",
       "      <td>2019-10-07 00:00:00</td>\n",
       "      <td>00:00:01</td>\n",
       "    </tr>\n",
       "    <tr>\n",
       "      <td>2</td>\n",
       "      <td>2019-10-07 00:00:07.039334</td>\n",
       "      <td>tips_show</td>\n",
       "      <td>020292ab-89bc-4156-9acf-68bc2783f894</td>\n",
       "      <td>2019-10-07 00:00:07</td>\n",
       "      <td>other</td>\n",
       "      <td>2019-10-07 00:00:00</td>\n",
       "      <td>2019-10-03</td>\n",
       "      <td>2019-10-03</td>\n",
       "      <td>0</td>\n",
       "      <td>2019-10-07 00:00:01</td>\n",
       "      <td>00:00:06</td>\n",
       "    </tr>\n",
       "    <tr>\n",
       "      <td>3</td>\n",
       "      <td>2019-10-07 00:01:27.770232</td>\n",
       "      <td>advert_open</td>\n",
       "      <td>020292ab-89bc-4156-9acf-68bc2783f894</td>\n",
       "      <td>2019-10-07 00:01:27</td>\n",
       "      <td>other</td>\n",
       "      <td>2019-10-07 00:00:00</td>\n",
       "      <td>2019-10-03</td>\n",
       "      <td>2019-10-03</td>\n",
       "      <td>0</td>\n",
       "      <td>2019-10-07 00:00:07</td>\n",
       "      <td>00:01:20</td>\n",
       "    </tr>\n",
       "    <tr>\n",
       "      <td>4</td>\n",
       "      <td>2019-10-07 00:01:34.804591</td>\n",
       "      <td>tips_show</td>\n",
       "      <td>020292ab-89bc-4156-9acf-68bc2783f894</td>\n",
       "      <td>2019-10-07 00:01:34</td>\n",
       "      <td>other</td>\n",
       "      <td>2019-10-07 00:00:00</td>\n",
       "      <td>2019-10-03</td>\n",
       "      <td>2019-10-03</td>\n",
       "      <td>0</td>\n",
       "      <td>2019-10-07 00:01:27</td>\n",
       "      <td>00:00:07</td>\n",
       "    </tr>\n",
       "    <tr>\n",
       "      <td>...</td>\n",
       "      <td>...</td>\n",
       "      <td>...</td>\n",
       "      <td>...</td>\n",
       "      <td>...</td>\n",
       "      <td>...</td>\n",
       "      <td>...</td>\n",
       "      <td>...</td>\n",
       "      <td>...</td>\n",
       "      <td>...</td>\n",
       "      <td>...</td>\n",
       "      <td>...</td>\n",
       "    </tr>\n",
       "    <tr>\n",
       "      <td>74192</td>\n",
       "      <td>2019-11-03 23:46:47.068179</td>\n",
       "      <td>map</td>\n",
       "      <td>d157bffc-264d-4464-8220-1cc0c42f43a9</td>\n",
       "      <td>2019-11-03 23:46:47</td>\n",
       "      <td>google</td>\n",
       "      <td>2019-11-03 23:46:47</td>\n",
       "      <td>2019-10-31</td>\n",
       "      <td>2019-10-31</td>\n",
       "      <td>0</td>\n",
       "      <td>NaT</td>\n",
       "      <td>NaT</td>\n",
       "    </tr>\n",
       "    <tr>\n",
       "      <td>74193</td>\n",
       "      <td>2019-11-03 23:46:58.914787</td>\n",
       "      <td>advert_open</td>\n",
       "      <td>d157bffc-264d-4464-8220-1cc0c42f43a9</td>\n",
       "      <td>2019-11-03 23:46:58</td>\n",
       "      <td>google</td>\n",
       "      <td>2019-11-03 23:46:47</td>\n",
       "      <td>2019-10-31</td>\n",
       "      <td>2019-10-31</td>\n",
       "      <td>0</td>\n",
       "      <td>2019-11-03 23:46:47</td>\n",
       "      <td>00:00:11</td>\n",
       "    </tr>\n",
       "    <tr>\n",
       "      <td>74194</td>\n",
       "      <td>2019-11-03 23:47:01.232230</td>\n",
       "      <td>tips_show</td>\n",
       "      <td>d157bffc-264d-4464-8220-1cc0c42f43a9</td>\n",
       "      <td>2019-11-03 23:47:01</td>\n",
       "      <td>google</td>\n",
       "      <td>2019-11-03 23:46:47</td>\n",
       "      <td>2019-10-31</td>\n",
       "      <td>2019-10-31</td>\n",
       "      <td>0</td>\n",
       "      <td>2019-11-03 23:46:58</td>\n",
       "      <td>00:00:03</td>\n",
       "    </tr>\n",
       "    <tr>\n",
       "      <td>74195</td>\n",
       "      <td>2019-11-03 23:47:47.475102</td>\n",
       "      <td>advert_open</td>\n",
       "      <td>d157bffc-264d-4464-8220-1cc0c42f43a9</td>\n",
       "      <td>2019-11-03 23:47:47</td>\n",
       "      <td>google</td>\n",
       "      <td>2019-11-03 23:46:47</td>\n",
       "      <td>2019-10-31</td>\n",
       "      <td>2019-10-31</td>\n",
       "      <td>0</td>\n",
       "      <td>2019-11-03 23:47:01</td>\n",
       "      <td>00:00:46</td>\n",
       "    </tr>\n",
       "    <tr>\n",
       "      <td>74196</td>\n",
       "      <td>2019-11-03 23:47:50.087645</td>\n",
       "      <td>tips_show</td>\n",
       "      <td>d157bffc-264d-4464-8220-1cc0c42f43a9</td>\n",
       "      <td>2019-11-03 23:47:50</td>\n",
       "      <td>google</td>\n",
       "      <td>2019-11-03 23:46:47</td>\n",
       "      <td>2019-10-31</td>\n",
       "      <td>2019-10-31</td>\n",
       "      <td>0</td>\n",
       "      <td>2019-11-03 23:47:47</td>\n",
       "      <td>00:00:03</td>\n",
       "    </tr>\n",
       "  </tbody>\n",
       "</table>\n",
       "<p>74197 rows × 11 columns</p>\n",
       "</div>"
      ],
      "text/plain": [
       "                      event_time   event_name  \\\n",
       "0     2019-10-07 00:00:00.431357  advert_open   \n",
       "1     2019-10-07 00:00:01.236320    tips_show   \n",
       "2     2019-10-07 00:00:07.039334    tips_show   \n",
       "3     2019-10-07 00:01:27.770232  advert_open   \n",
       "4     2019-10-07 00:01:34.804591    tips_show   \n",
       "...                          ...          ...   \n",
       "74192 2019-11-03 23:46:47.068179          map   \n",
       "74193 2019-11-03 23:46:58.914787  advert_open   \n",
       "74194 2019-11-03 23:47:01.232230    tips_show   \n",
       "74195 2019-11-03 23:47:47.475102  advert_open   \n",
       "74196 2019-11-03 23:47:50.087645    tips_show   \n",
       "\n",
       "                                    user_id      event_time_sec  source  \\\n",
       "0      020292ab-89bc-4156-9acf-68bc2783f894 2019-10-07 00:00:00   other   \n",
       "1      020292ab-89bc-4156-9acf-68bc2783f894 2019-10-07 00:00:01   other   \n",
       "2      020292ab-89bc-4156-9acf-68bc2783f894 2019-10-07 00:00:07   other   \n",
       "3      020292ab-89bc-4156-9acf-68bc2783f894 2019-10-07 00:01:27   other   \n",
       "4      020292ab-89bc-4156-9acf-68bc2783f894 2019-10-07 00:01:34   other   \n",
       "...                                     ...                 ...     ...   \n",
       "74192  d157bffc-264d-4464-8220-1cc0c42f43a9 2019-11-03 23:46:47  google   \n",
       "74193  d157bffc-264d-4464-8220-1cc0c42f43a9 2019-11-03 23:46:58  google   \n",
       "74194  d157bffc-264d-4464-8220-1cc0c42f43a9 2019-11-03 23:47:01  google   \n",
       "74195  d157bffc-264d-4464-8220-1cc0c42f43a9 2019-11-03 23:47:47  google   \n",
       "74196  d157bffc-264d-4464-8220-1cc0c42f43a9 2019-11-03 23:47:50  google   \n",
       "\n",
       "      first_activity_date activity_week first_activity_week  cohort_lifetime  \\\n",
       "0     2019-10-07 00:00:00    2019-10-03          2019-10-03                0   \n",
       "1     2019-10-07 00:00:00    2019-10-03          2019-10-03                0   \n",
       "2     2019-10-07 00:00:00    2019-10-03          2019-10-03                0   \n",
       "3     2019-10-07 00:00:00    2019-10-03          2019-10-03                0   \n",
       "4     2019-10-07 00:00:00    2019-10-03          2019-10-03                0   \n",
       "...                   ...           ...                 ...              ...   \n",
       "74192 2019-11-03 23:46:47    2019-10-31          2019-10-31                0   \n",
       "74193 2019-11-03 23:46:47    2019-10-31          2019-10-31                0   \n",
       "74194 2019-11-03 23:46:47    2019-10-31          2019-10-31                0   \n",
       "74195 2019-11-03 23:46:47    2019-10-31          2019-10-31                0   \n",
       "74196 2019-11-03 23:46:47    2019-10-31          2019-10-31                0   \n",
       "\n",
       "          pre_action_time active_session  \n",
       "0                     NaT            NaT  \n",
       "1     2019-10-07 00:00:00       00:00:01  \n",
       "2     2019-10-07 00:00:01       00:00:06  \n",
       "3     2019-10-07 00:00:07       00:01:20  \n",
       "4     2019-10-07 00:01:27       00:00:07  \n",
       "...                   ...            ...  \n",
       "74192                 NaT            NaT  \n",
       "74193 2019-11-03 23:46:47       00:00:11  \n",
       "74194 2019-11-03 23:46:58       00:00:03  \n",
       "74195 2019-11-03 23:47:01       00:00:46  \n",
       "74196 2019-11-03 23:47:47       00:00:03  \n",
       "\n",
       "[74197 rows x 11 columns]"
      ]
     },
     "execution_count": 35,
     "metadata": {},
     "output_type": "execute_result"
    }
   ],
   "source": [
    "full_mobile_df['active_session'] = full_mobile_df['event_time_sec'] - full_mobile_df['pre_action_time']\n",
    "full_mobile_df"
   ]
  },
  {
   "cell_type": "markdown",
   "metadata": {},
   "source": [
    "С помощью цикла пронумеруем сессии: сравним временной интервал между двумя действиями (*active_session*) с *30 минутами* (именно это число мы возьмем за максимальную продолжительность единоразовой сессии). Если интервал будет превышать 30 минут, то сессии будет присваиваться следующий номер: "
   ]
  },
  {
   "cell_type": "code",
   "execution_count": 36,
   "metadata": {},
   "outputs": [],
   "source": [
    "for user in full_mobile_df['user_id'].unique():\n",
    "    session_num = 0\n",
    "    for index, row in full_mobile_df[full_mobile_df['user_id'] == user].iterrows():\n",
    "        if row['active_session'] <= pd.Timedelta(30, 'm'):\n",
    "            full_mobile_df.loc[index,'session_num'] = session_num\n",
    "        else:\n",
    "            session_num += 1\n",
    "            full_mobile_df.loc[index,'session_num'] = session_num"
   ]
  },
  {
   "cell_type": "code",
   "execution_count": 37,
   "metadata": {},
   "outputs": [
    {
     "data": {
      "text/html": [
       "<div>\n",
       "<style scoped>\n",
       "    .dataframe tbody tr th:only-of-type {\n",
       "        vertical-align: middle;\n",
       "    }\n",
       "\n",
       "    .dataframe tbody tr th {\n",
       "        vertical-align: top;\n",
       "    }\n",
       "\n",
       "    .dataframe thead th {\n",
       "        text-align: right;\n",
       "    }\n",
       "</style>\n",
       "<table border=\"1\" class=\"dataframe\">\n",
       "  <thead>\n",
       "    <tr style=\"text-align: right;\">\n",
       "      <th></th>\n",
       "      <th>event_time</th>\n",
       "      <th>event_name</th>\n",
       "      <th>user_id</th>\n",
       "      <th>event_time_sec</th>\n",
       "      <th>source</th>\n",
       "      <th>first_activity_date</th>\n",
       "      <th>activity_week</th>\n",
       "      <th>first_activity_week</th>\n",
       "      <th>cohort_lifetime</th>\n",
       "      <th>pre_action_time</th>\n",
       "      <th>active_session</th>\n",
       "      <th>session_num</th>\n",
       "    </tr>\n",
       "  </thead>\n",
       "  <tbody>\n",
       "    <tr>\n",
       "      <td>0</td>\n",
       "      <td>2019-10-07 00:00:00.431357</td>\n",
       "      <td>advert_open</td>\n",
       "      <td>020292ab-89bc-4156-9acf-68bc2783f894</td>\n",
       "      <td>2019-10-07 00:00:00</td>\n",
       "      <td>other</td>\n",
       "      <td>2019-10-07 00:00:00</td>\n",
       "      <td>2019-10-03</td>\n",
       "      <td>2019-10-03</td>\n",
       "      <td>0</td>\n",
       "      <td>NaT</td>\n",
       "      <td>NaT</td>\n",
       "      <td>1.0</td>\n",
       "    </tr>\n",
       "    <tr>\n",
       "      <td>1</td>\n",
       "      <td>2019-10-07 00:00:01.236320</td>\n",
       "      <td>tips_show</td>\n",
       "      <td>020292ab-89bc-4156-9acf-68bc2783f894</td>\n",
       "      <td>2019-10-07 00:00:01</td>\n",
       "      <td>other</td>\n",
       "      <td>2019-10-07 00:00:00</td>\n",
       "      <td>2019-10-03</td>\n",
       "      <td>2019-10-03</td>\n",
       "      <td>0</td>\n",
       "      <td>2019-10-07 00:00:00</td>\n",
       "      <td>00:00:01</td>\n",
       "      <td>1.0</td>\n",
       "    </tr>\n",
       "    <tr>\n",
       "      <td>2</td>\n",
       "      <td>2019-10-07 00:00:07.039334</td>\n",
       "      <td>tips_show</td>\n",
       "      <td>020292ab-89bc-4156-9acf-68bc2783f894</td>\n",
       "      <td>2019-10-07 00:00:07</td>\n",
       "      <td>other</td>\n",
       "      <td>2019-10-07 00:00:00</td>\n",
       "      <td>2019-10-03</td>\n",
       "      <td>2019-10-03</td>\n",
       "      <td>0</td>\n",
       "      <td>2019-10-07 00:00:01</td>\n",
       "      <td>00:00:06</td>\n",
       "      <td>1.0</td>\n",
       "    </tr>\n",
       "    <tr>\n",
       "      <td>3</td>\n",
       "      <td>2019-10-07 00:01:27.770232</td>\n",
       "      <td>advert_open</td>\n",
       "      <td>020292ab-89bc-4156-9acf-68bc2783f894</td>\n",
       "      <td>2019-10-07 00:01:27</td>\n",
       "      <td>other</td>\n",
       "      <td>2019-10-07 00:00:00</td>\n",
       "      <td>2019-10-03</td>\n",
       "      <td>2019-10-03</td>\n",
       "      <td>0</td>\n",
       "      <td>2019-10-07 00:00:07</td>\n",
       "      <td>00:01:20</td>\n",
       "      <td>1.0</td>\n",
       "    </tr>\n",
       "    <tr>\n",
       "      <td>4</td>\n",
       "      <td>2019-10-07 00:01:34.804591</td>\n",
       "      <td>tips_show</td>\n",
       "      <td>020292ab-89bc-4156-9acf-68bc2783f894</td>\n",
       "      <td>2019-10-07 00:01:34</td>\n",
       "      <td>other</td>\n",
       "      <td>2019-10-07 00:00:00</td>\n",
       "      <td>2019-10-03</td>\n",
       "      <td>2019-10-03</td>\n",
       "      <td>0</td>\n",
       "      <td>2019-10-07 00:01:27</td>\n",
       "      <td>00:00:07</td>\n",
       "      <td>1.0</td>\n",
       "    </tr>\n",
       "    <tr>\n",
       "      <td>...</td>\n",
       "      <td>...</td>\n",
       "      <td>...</td>\n",
       "      <td>...</td>\n",
       "      <td>...</td>\n",
       "      <td>...</td>\n",
       "      <td>...</td>\n",
       "      <td>...</td>\n",
       "      <td>...</td>\n",
       "      <td>...</td>\n",
       "      <td>...</td>\n",
       "      <td>...</td>\n",
       "      <td>...</td>\n",
       "    </tr>\n",
       "    <tr>\n",
       "      <td>74192</td>\n",
       "      <td>2019-11-03 23:46:47.068179</td>\n",
       "      <td>map</td>\n",
       "      <td>d157bffc-264d-4464-8220-1cc0c42f43a9</td>\n",
       "      <td>2019-11-03 23:46:47</td>\n",
       "      <td>google</td>\n",
       "      <td>2019-11-03 23:46:47</td>\n",
       "      <td>2019-10-31</td>\n",
       "      <td>2019-10-31</td>\n",
       "      <td>0</td>\n",
       "      <td>NaT</td>\n",
       "      <td>NaT</td>\n",
       "      <td>1.0</td>\n",
       "    </tr>\n",
       "    <tr>\n",
       "      <td>74193</td>\n",
       "      <td>2019-11-03 23:46:58.914787</td>\n",
       "      <td>advert_open</td>\n",
       "      <td>d157bffc-264d-4464-8220-1cc0c42f43a9</td>\n",
       "      <td>2019-11-03 23:46:58</td>\n",
       "      <td>google</td>\n",
       "      <td>2019-11-03 23:46:47</td>\n",
       "      <td>2019-10-31</td>\n",
       "      <td>2019-10-31</td>\n",
       "      <td>0</td>\n",
       "      <td>2019-11-03 23:46:47</td>\n",
       "      <td>00:00:11</td>\n",
       "      <td>1.0</td>\n",
       "    </tr>\n",
       "    <tr>\n",
       "      <td>74194</td>\n",
       "      <td>2019-11-03 23:47:01.232230</td>\n",
       "      <td>tips_show</td>\n",
       "      <td>d157bffc-264d-4464-8220-1cc0c42f43a9</td>\n",
       "      <td>2019-11-03 23:47:01</td>\n",
       "      <td>google</td>\n",
       "      <td>2019-11-03 23:46:47</td>\n",
       "      <td>2019-10-31</td>\n",
       "      <td>2019-10-31</td>\n",
       "      <td>0</td>\n",
       "      <td>2019-11-03 23:46:58</td>\n",
       "      <td>00:00:03</td>\n",
       "      <td>1.0</td>\n",
       "    </tr>\n",
       "    <tr>\n",
       "      <td>74195</td>\n",
       "      <td>2019-11-03 23:47:47.475102</td>\n",
       "      <td>advert_open</td>\n",
       "      <td>d157bffc-264d-4464-8220-1cc0c42f43a9</td>\n",
       "      <td>2019-11-03 23:47:47</td>\n",
       "      <td>google</td>\n",
       "      <td>2019-11-03 23:46:47</td>\n",
       "      <td>2019-10-31</td>\n",
       "      <td>2019-10-31</td>\n",
       "      <td>0</td>\n",
       "      <td>2019-11-03 23:47:01</td>\n",
       "      <td>00:00:46</td>\n",
       "      <td>1.0</td>\n",
       "    </tr>\n",
       "    <tr>\n",
       "      <td>74196</td>\n",
       "      <td>2019-11-03 23:47:50.087645</td>\n",
       "      <td>tips_show</td>\n",
       "      <td>d157bffc-264d-4464-8220-1cc0c42f43a9</td>\n",
       "      <td>2019-11-03 23:47:50</td>\n",
       "      <td>google</td>\n",
       "      <td>2019-11-03 23:46:47</td>\n",
       "      <td>2019-10-31</td>\n",
       "      <td>2019-10-31</td>\n",
       "      <td>0</td>\n",
       "      <td>2019-11-03 23:47:47</td>\n",
       "      <td>00:00:03</td>\n",
       "      <td>1.0</td>\n",
       "    </tr>\n",
       "  </tbody>\n",
       "</table>\n",
       "<p>74197 rows × 12 columns</p>\n",
       "</div>"
      ],
      "text/plain": [
       "                      event_time   event_name  \\\n",
       "0     2019-10-07 00:00:00.431357  advert_open   \n",
       "1     2019-10-07 00:00:01.236320    tips_show   \n",
       "2     2019-10-07 00:00:07.039334    tips_show   \n",
       "3     2019-10-07 00:01:27.770232  advert_open   \n",
       "4     2019-10-07 00:01:34.804591    tips_show   \n",
       "...                          ...          ...   \n",
       "74192 2019-11-03 23:46:47.068179          map   \n",
       "74193 2019-11-03 23:46:58.914787  advert_open   \n",
       "74194 2019-11-03 23:47:01.232230    tips_show   \n",
       "74195 2019-11-03 23:47:47.475102  advert_open   \n",
       "74196 2019-11-03 23:47:50.087645    tips_show   \n",
       "\n",
       "                                    user_id      event_time_sec  source  \\\n",
       "0      020292ab-89bc-4156-9acf-68bc2783f894 2019-10-07 00:00:00   other   \n",
       "1      020292ab-89bc-4156-9acf-68bc2783f894 2019-10-07 00:00:01   other   \n",
       "2      020292ab-89bc-4156-9acf-68bc2783f894 2019-10-07 00:00:07   other   \n",
       "3      020292ab-89bc-4156-9acf-68bc2783f894 2019-10-07 00:01:27   other   \n",
       "4      020292ab-89bc-4156-9acf-68bc2783f894 2019-10-07 00:01:34   other   \n",
       "...                                     ...                 ...     ...   \n",
       "74192  d157bffc-264d-4464-8220-1cc0c42f43a9 2019-11-03 23:46:47  google   \n",
       "74193  d157bffc-264d-4464-8220-1cc0c42f43a9 2019-11-03 23:46:58  google   \n",
       "74194  d157bffc-264d-4464-8220-1cc0c42f43a9 2019-11-03 23:47:01  google   \n",
       "74195  d157bffc-264d-4464-8220-1cc0c42f43a9 2019-11-03 23:47:47  google   \n",
       "74196  d157bffc-264d-4464-8220-1cc0c42f43a9 2019-11-03 23:47:50  google   \n",
       "\n",
       "      first_activity_date activity_week first_activity_week  cohort_lifetime  \\\n",
       "0     2019-10-07 00:00:00    2019-10-03          2019-10-03                0   \n",
       "1     2019-10-07 00:00:00    2019-10-03          2019-10-03                0   \n",
       "2     2019-10-07 00:00:00    2019-10-03          2019-10-03                0   \n",
       "3     2019-10-07 00:00:00    2019-10-03          2019-10-03                0   \n",
       "4     2019-10-07 00:00:00    2019-10-03          2019-10-03                0   \n",
       "...                   ...           ...                 ...              ...   \n",
       "74192 2019-11-03 23:46:47    2019-10-31          2019-10-31                0   \n",
       "74193 2019-11-03 23:46:47    2019-10-31          2019-10-31                0   \n",
       "74194 2019-11-03 23:46:47    2019-10-31          2019-10-31                0   \n",
       "74195 2019-11-03 23:46:47    2019-10-31          2019-10-31                0   \n",
       "74196 2019-11-03 23:46:47    2019-10-31          2019-10-31                0   \n",
       "\n",
       "          pre_action_time active_session  session_num  \n",
       "0                     NaT            NaT          1.0  \n",
       "1     2019-10-07 00:00:00       00:00:01          1.0  \n",
       "2     2019-10-07 00:00:01       00:00:06          1.0  \n",
       "3     2019-10-07 00:00:07       00:01:20          1.0  \n",
       "4     2019-10-07 00:01:27       00:00:07          1.0  \n",
       "...                   ...            ...          ...  \n",
       "74192                 NaT            NaT          1.0  \n",
       "74193 2019-11-03 23:46:47       00:00:11          1.0  \n",
       "74194 2019-11-03 23:46:58       00:00:03          1.0  \n",
       "74195 2019-11-03 23:47:01       00:00:46          1.0  \n",
       "74196 2019-11-03 23:47:47       00:00:03          1.0  \n",
       "\n",
       "[74197 rows x 12 columns]"
      ]
     },
     "execution_count": 37,
     "metadata": {},
     "output_type": "execute_result"
    }
   ],
   "source": [
    "full_mobile_df"
   ]
  },
  {
   "cell_type": "code",
   "execution_count": 38,
   "metadata": {},
   "outputs": [
    {
     "name": "stderr",
     "output_type": "stream",
     "text": [
      "/opt/conda/lib/python3.7/site-packages/pandas/core/indexing.py:205: SettingWithCopyWarning:\n",
      "\n",
      "\n",
      "A value is trying to be set on a copy of a slice from a DataFrame\n",
      "\n",
      "See the caveats in the documentation: http://pandas.pydata.org/pandas-docs/stable/user_guide/indexing.html#returning-a-view-versus-a-copy\n",
      "\n"
     ]
    },
    {
     "data": {
      "text/html": [
       "<div>\n",
       "<style scoped>\n",
       "    .dataframe tbody tr th:only-of-type {\n",
       "        vertical-align: middle;\n",
       "    }\n",
       "\n",
       "    .dataframe tbody tr th {\n",
       "        vertical-align: top;\n",
       "    }\n",
       "\n",
       "    .dataframe thead th {\n",
       "        text-align: right;\n",
       "    }\n",
       "</style>\n",
       "<table border=\"1\" class=\"dataframe\">\n",
       "  <thead>\n",
       "    <tr style=\"text-align: right;\">\n",
       "      <th></th>\n",
       "      <th>event_time</th>\n",
       "      <th>event_name</th>\n",
       "      <th>user_id</th>\n",
       "      <th>event_time_sec</th>\n",
       "      <th>source</th>\n",
       "      <th>first_activity_date</th>\n",
       "      <th>activity_week</th>\n",
       "      <th>first_activity_week</th>\n",
       "      <th>cohort_lifetime</th>\n",
       "      <th>pre_action_time</th>\n",
       "      <th>active_session</th>\n",
       "      <th>session_num</th>\n",
       "    </tr>\n",
       "  </thead>\n",
       "  <tbody>\n",
       "    <tr>\n",
       "      <td>0</td>\n",
       "      <td>2019-10-07 00:00:00.431357</td>\n",
       "      <td>advert_open</td>\n",
       "      <td>020292ab-89bc-4156-9acf-68bc2783f894</td>\n",
       "      <td>2019-10-07 00:00:00</td>\n",
       "      <td>other</td>\n",
       "      <td>2019-10-07 00:00:00</td>\n",
       "      <td>2019-10-03</td>\n",
       "      <td>2019-10-03</td>\n",
       "      <td>0</td>\n",
       "      <td>NaT</td>\n",
       "      <td>NaT</td>\n",
       "      <td>1.0</td>\n",
       "    </tr>\n",
       "    <tr>\n",
       "      <td>1</td>\n",
       "      <td>2019-10-07 00:00:01.236320</td>\n",
       "      <td>tips_show</td>\n",
       "      <td>020292ab-89bc-4156-9acf-68bc2783f894</td>\n",
       "      <td>2019-10-07 00:00:01</td>\n",
       "      <td>other</td>\n",
       "      <td>2019-10-07 00:00:00</td>\n",
       "      <td>2019-10-03</td>\n",
       "      <td>2019-10-03</td>\n",
       "      <td>0</td>\n",
       "      <td>2019-10-07 00:00:00</td>\n",
       "      <td>00:00:01</td>\n",
       "      <td>1.0</td>\n",
       "    </tr>\n",
       "    <tr>\n",
       "      <td>2</td>\n",
       "      <td>2019-10-07 00:00:07.039334</td>\n",
       "      <td>tips_show</td>\n",
       "      <td>020292ab-89bc-4156-9acf-68bc2783f894</td>\n",
       "      <td>2019-10-07 00:00:07</td>\n",
       "      <td>other</td>\n",
       "      <td>2019-10-07 00:00:00</td>\n",
       "      <td>2019-10-03</td>\n",
       "      <td>2019-10-03</td>\n",
       "      <td>0</td>\n",
       "      <td>2019-10-07 00:00:01</td>\n",
       "      <td>00:00:06</td>\n",
       "      <td>1.0</td>\n",
       "    </tr>\n",
       "    <tr>\n",
       "      <td>3</td>\n",
       "      <td>2019-10-07 00:01:27.770232</td>\n",
       "      <td>advert_open</td>\n",
       "      <td>020292ab-89bc-4156-9acf-68bc2783f894</td>\n",
       "      <td>2019-10-07 00:01:27</td>\n",
       "      <td>other</td>\n",
       "      <td>2019-10-07 00:00:00</td>\n",
       "      <td>2019-10-03</td>\n",
       "      <td>2019-10-03</td>\n",
       "      <td>0</td>\n",
       "      <td>2019-10-07 00:00:07</td>\n",
       "      <td>00:01:20</td>\n",
       "      <td>1.0</td>\n",
       "    </tr>\n",
       "    <tr>\n",
       "      <td>4</td>\n",
       "      <td>2019-10-07 00:01:34.804591</td>\n",
       "      <td>tips_show</td>\n",
       "      <td>020292ab-89bc-4156-9acf-68bc2783f894</td>\n",
       "      <td>2019-10-07 00:01:34</td>\n",
       "      <td>other</td>\n",
       "      <td>2019-10-07 00:00:00</td>\n",
       "      <td>2019-10-03</td>\n",
       "      <td>2019-10-03</td>\n",
       "      <td>0</td>\n",
       "      <td>2019-10-07 00:01:27</td>\n",
       "      <td>00:00:07</td>\n",
       "      <td>1.0</td>\n",
       "    </tr>\n",
       "    <tr>\n",
       "      <td>...</td>\n",
       "      <td>...</td>\n",
       "      <td>...</td>\n",
       "      <td>...</td>\n",
       "      <td>...</td>\n",
       "      <td>...</td>\n",
       "      <td>...</td>\n",
       "      <td>...</td>\n",
       "      <td>...</td>\n",
       "      <td>...</td>\n",
       "      <td>...</td>\n",
       "      <td>...</td>\n",
       "      <td>...</td>\n",
       "    </tr>\n",
       "    <tr>\n",
       "      <td>74192</td>\n",
       "      <td>2019-11-03 23:46:47.068179</td>\n",
       "      <td>map</td>\n",
       "      <td>d157bffc-264d-4464-8220-1cc0c42f43a9</td>\n",
       "      <td>2019-11-03 23:46:47</td>\n",
       "      <td>google</td>\n",
       "      <td>2019-11-03 23:46:47</td>\n",
       "      <td>2019-10-31</td>\n",
       "      <td>2019-10-31</td>\n",
       "      <td>0</td>\n",
       "      <td>NaT</td>\n",
       "      <td>NaT</td>\n",
       "      <td>1.0</td>\n",
       "    </tr>\n",
       "    <tr>\n",
       "      <td>74193</td>\n",
       "      <td>2019-11-03 23:46:58.914787</td>\n",
       "      <td>advert_open</td>\n",
       "      <td>d157bffc-264d-4464-8220-1cc0c42f43a9</td>\n",
       "      <td>2019-11-03 23:46:58</td>\n",
       "      <td>google</td>\n",
       "      <td>2019-11-03 23:46:47</td>\n",
       "      <td>2019-10-31</td>\n",
       "      <td>2019-10-31</td>\n",
       "      <td>0</td>\n",
       "      <td>2019-11-03 23:46:47</td>\n",
       "      <td>00:00:11</td>\n",
       "      <td>1.0</td>\n",
       "    </tr>\n",
       "    <tr>\n",
       "      <td>74194</td>\n",
       "      <td>2019-11-03 23:47:01.232230</td>\n",
       "      <td>tips_show</td>\n",
       "      <td>d157bffc-264d-4464-8220-1cc0c42f43a9</td>\n",
       "      <td>2019-11-03 23:47:01</td>\n",
       "      <td>google</td>\n",
       "      <td>2019-11-03 23:46:47</td>\n",
       "      <td>2019-10-31</td>\n",
       "      <td>2019-10-31</td>\n",
       "      <td>0</td>\n",
       "      <td>2019-11-03 23:46:58</td>\n",
       "      <td>00:00:03</td>\n",
       "      <td>1.0</td>\n",
       "    </tr>\n",
       "    <tr>\n",
       "      <td>74195</td>\n",
       "      <td>2019-11-03 23:47:47.475102</td>\n",
       "      <td>advert_open</td>\n",
       "      <td>d157bffc-264d-4464-8220-1cc0c42f43a9</td>\n",
       "      <td>2019-11-03 23:47:47</td>\n",
       "      <td>google</td>\n",
       "      <td>2019-11-03 23:46:47</td>\n",
       "      <td>2019-10-31</td>\n",
       "      <td>2019-10-31</td>\n",
       "      <td>0</td>\n",
       "      <td>2019-11-03 23:47:01</td>\n",
       "      <td>00:00:46</td>\n",
       "      <td>1.0</td>\n",
       "    </tr>\n",
       "    <tr>\n",
       "      <td>74196</td>\n",
       "      <td>2019-11-03 23:47:50.087645</td>\n",
       "      <td>tips_show</td>\n",
       "      <td>d157bffc-264d-4464-8220-1cc0c42f43a9</td>\n",
       "      <td>2019-11-03 23:47:50</td>\n",
       "      <td>google</td>\n",
       "      <td>2019-11-03 23:46:47</td>\n",
       "      <td>2019-10-31</td>\n",
       "      <td>2019-10-31</td>\n",
       "      <td>0</td>\n",
       "      <td>2019-11-03 23:47:47</td>\n",
       "      <td>00:00:03</td>\n",
       "      <td>1.0</td>\n",
       "    </tr>\n",
       "  </tbody>\n",
       "</table>\n",
       "<p>74197 rows × 12 columns</p>\n",
       "</div>"
      ],
      "text/plain": [
       "                      event_time   event_name  \\\n",
       "0     2019-10-07 00:00:00.431357  advert_open   \n",
       "1     2019-10-07 00:00:01.236320    tips_show   \n",
       "2     2019-10-07 00:00:07.039334    tips_show   \n",
       "3     2019-10-07 00:01:27.770232  advert_open   \n",
       "4     2019-10-07 00:01:34.804591    tips_show   \n",
       "...                          ...          ...   \n",
       "74192 2019-11-03 23:46:47.068179          map   \n",
       "74193 2019-11-03 23:46:58.914787  advert_open   \n",
       "74194 2019-11-03 23:47:01.232230    tips_show   \n",
       "74195 2019-11-03 23:47:47.475102  advert_open   \n",
       "74196 2019-11-03 23:47:50.087645    tips_show   \n",
       "\n",
       "                                    user_id      event_time_sec  source  \\\n",
       "0      020292ab-89bc-4156-9acf-68bc2783f894 2019-10-07 00:00:00   other   \n",
       "1      020292ab-89bc-4156-9acf-68bc2783f894 2019-10-07 00:00:01   other   \n",
       "2      020292ab-89bc-4156-9acf-68bc2783f894 2019-10-07 00:00:07   other   \n",
       "3      020292ab-89bc-4156-9acf-68bc2783f894 2019-10-07 00:01:27   other   \n",
       "4      020292ab-89bc-4156-9acf-68bc2783f894 2019-10-07 00:01:34   other   \n",
       "...                                     ...                 ...     ...   \n",
       "74192  d157bffc-264d-4464-8220-1cc0c42f43a9 2019-11-03 23:46:47  google   \n",
       "74193  d157bffc-264d-4464-8220-1cc0c42f43a9 2019-11-03 23:46:58  google   \n",
       "74194  d157bffc-264d-4464-8220-1cc0c42f43a9 2019-11-03 23:47:01  google   \n",
       "74195  d157bffc-264d-4464-8220-1cc0c42f43a9 2019-11-03 23:47:47  google   \n",
       "74196  d157bffc-264d-4464-8220-1cc0c42f43a9 2019-11-03 23:47:50  google   \n",
       "\n",
       "      first_activity_date activity_week first_activity_week  cohort_lifetime  \\\n",
       "0     2019-10-07 00:00:00    2019-10-03          2019-10-03                0   \n",
       "1     2019-10-07 00:00:00    2019-10-03          2019-10-03                0   \n",
       "2     2019-10-07 00:00:00    2019-10-03          2019-10-03                0   \n",
       "3     2019-10-07 00:00:00    2019-10-03          2019-10-03                0   \n",
       "4     2019-10-07 00:00:00    2019-10-03          2019-10-03                0   \n",
       "...                   ...           ...                 ...              ...   \n",
       "74192 2019-11-03 23:46:47    2019-10-31          2019-10-31                0   \n",
       "74193 2019-11-03 23:46:47    2019-10-31          2019-10-31                0   \n",
       "74194 2019-11-03 23:46:47    2019-10-31          2019-10-31                0   \n",
       "74195 2019-11-03 23:46:47    2019-10-31          2019-10-31                0   \n",
       "74196 2019-11-03 23:46:47    2019-10-31          2019-10-31                0   \n",
       "\n",
       "          pre_action_time active_session  session_num  \n",
       "0                     NaT            NaT          1.0  \n",
       "1     2019-10-07 00:00:00       00:00:01          1.0  \n",
       "2     2019-10-07 00:00:01       00:00:06          1.0  \n",
       "3     2019-10-07 00:00:07       00:01:20          1.0  \n",
       "4     2019-10-07 00:01:27       00:00:07          1.0  \n",
       "...                   ...            ...          ...  \n",
       "74192                 NaT            NaT          1.0  \n",
       "74193 2019-11-03 23:46:47       00:00:11          1.0  \n",
       "74194 2019-11-03 23:46:58       00:00:03          1.0  \n",
       "74195 2019-11-03 23:47:01       00:00:46          1.0  \n",
       "74196 2019-11-03 23:47:47       00:00:03          1.0  \n",
       "\n",
       "[74197 rows x 12 columns]"
      ]
     },
     "execution_count": 38,
     "metadata": {},
     "output_type": "execute_result"
    }
   ],
   "source": [
    "#фильтруем столбец \"active_session\" следующим образом - если промежуток между действиями больше 30 минут - заменяем его на NaN\n",
    "full_mobile_df['active_session'].loc[(full_mobile_df['active_session'] > pd.Timedelta(30,'m'))] = np.nan\n",
    "full_mobile_df"
   ]
  },
  {
   "cell_type": "code",
   "execution_count": 39,
   "metadata": {},
   "outputs": [],
   "source": [
    "#NaNы заменим на 0,чтобы при суммировании не возникло проблем\n",
    "full_mobile_df['active_session'].fillna('0',inplace=True)"
   ]
  },
  {
   "cell_type": "markdown",
   "metadata": {},
   "source": [
    "Построим сводную таблицу **num_session_grouped**, где сгруппируем данные по пользователям и номеру сессии и просуммируем время, проведенное в приложении:"
   ]
  },
  {
   "cell_type": "code",
   "execution_count": 40,
   "metadata": {},
   "outputs": [
    {
     "data": {
      "text/html": [
       "<div>\n",
       "<style scoped>\n",
       "    .dataframe tbody tr th:only-of-type {\n",
       "        vertical-align: middle;\n",
       "    }\n",
       "\n",
       "    .dataframe tbody tr th {\n",
       "        vertical-align: top;\n",
       "    }\n",
       "\n",
       "    .dataframe thead th {\n",
       "        text-align: right;\n",
       "    }\n",
       "</style>\n",
       "<table border=\"1\" class=\"dataframe\">\n",
       "  <thead>\n",
       "    <tr style=\"text-align: right;\">\n",
       "      <th></th>\n",
       "      <th>user_id</th>\n",
       "      <th>session_num</th>\n",
       "      <th>active_session</th>\n",
       "    </tr>\n",
       "  </thead>\n",
       "  <tbody>\n",
       "    <tr>\n",
       "      <td>0</td>\n",
       "      <td>0001b1d5-b74a-4cbf-aeb0-7df5947bf349</td>\n",
       "      <td>1.0</td>\n",
       "      <td>00:09:56</td>\n",
       "    </tr>\n",
       "    <tr>\n",
       "      <td>1</td>\n",
       "      <td>0001b1d5-b74a-4cbf-aeb0-7df5947bf349</td>\n",
       "      <td>2.0</td>\n",
       "      <td>00:08:27</td>\n",
       "    </tr>\n",
       "    <tr>\n",
       "      <td>2</td>\n",
       "      <td>0001b1d5-b74a-4cbf-aeb0-7df5947bf349</td>\n",
       "      <td>3.0</td>\n",
       "      <td>00:15:00</td>\n",
       "    </tr>\n",
       "    <tr>\n",
       "      <td>3</td>\n",
       "      <td>0001b1d5-b74a-4cbf-aeb0-7df5947bf349</td>\n",
       "      <td>4.0</td>\n",
       "      <td>00:12:38</td>\n",
       "    </tr>\n",
       "    <tr>\n",
       "      <td>4</td>\n",
       "      <td>00157779-810c-4498-9e05-a1e9e3cedf93</td>\n",
       "      <td>1.0</td>\n",
       "      <td>00:25:21</td>\n",
       "    </tr>\n",
       "    <tr>\n",
       "      <td>...</td>\n",
       "      <td>...</td>\n",
       "      <td>...</td>\n",
       "      <td>...</td>\n",
       "    </tr>\n",
       "    <tr>\n",
       "      <td>10363</td>\n",
       "      <td>fffb9e79-b927-4dbb-9b48-7fd09b23a62b</td>\n",
       "      <td>26.0</td>\n",
       "      <td>00:00:00</td>\n",
       "    </tr>\n",
       "    <tr>\n",
       "      <td>10364</td>\n",
       "      <td>fffb9e79-b927-4dbb-9b48-7fd09b23a62b</td>\n",
       "      <td>27.0</td>\n",
       "      <td>00:16:14</td>\n",
       "    </tr>\n",
       "    <tr>\n",
       "      <td>10365</td>\n",
       "      <td>fffb9e79-b927-4dbb-9b48-7fd09b23a62b</td>\n",
       "      <td>28.0</td>\n",
       "      <td>00:04:57</td>\n",
       "    </tr>\n",
       "    <tr>\n",
       "      <td>10366</td>\n",
       "      <td>fffb9e79-b927-4dbb-9b48-7fd09b23a62b</td>\n",
       "      <td>29.0</td>\n",
       "      <td>00:15:49</td>\n",
       "    </tr>\n",
       "    <tr>\n",
       "      <td>10367</td>\n",
       "      <td>fffb9e79-b927-4dbb-9b48-7fd09b23a62b</td>\n",
       "      <td>30.0</td>\n",
       "      <td>00:32:24</td>\n",
       "    </tr>\n",
       "  </tbody>\n",
       "</table>\n",
       "<p>10368 rows × 3 columns</p>\n",
       "</div>"
      ],
      "text/plain": [
       "                                    user_id  session_num active_session\n",
       "0      0001b1d5-b74a-4cbf-aeb0-7df5947bf349          1.0       00:09:56\n",
       "1      0001b1d5-b74a-4cbf-aeb0-7df5947bf349          2.0       00:08:27\n",
       "2      0001b1d5-b74a-4cbf-aeb0-7df5947bf349          3.0       00:15:00\n",
       "3      0001b1d5-b74a-4cbf-aeb0-7df5947bf349          4.0       00:12:38\n",
       "4      00157779-810c-4498-9e05-a1e9e3cedf93          1.0       00:25:21\n",
       "...                                     ...          ...            ...\n",
       "10363  fffb9e79-b927-4dbb-9b48-7fd09b23a62b         26.0       00:00:00\n",
       "10364  fffb9e79-b927-4dbb-9b48-7fd09b23a62b         27.0       00:16:14\n",
       "10365  fffb9e79-b927-4dbb-9b48-7fd09b23a62b         28.0       00:04:57\n",
       "10366  fffb9e79-b927-4dbb-9b48-7fd09b23a62b         29.0       00:15:49\n",
       "10367  fffb9e79-b927-4dbb-9b48-7fd09b23a62b         30.0       00:32:24\n",
       "\n",
       "[10368 rows x 3 columns]"
      ]
     },
     "execution_count": 40,
     "metadata": {},
     "output_type": "execute_result"
    }
   ],
   "source": [
    "num_session_grouped = full_mobile_df.pivot_table(index = ['user_id','session_num'], values ='active_session', aggfunc ='sum').reset_index()\n",
    "num_session_grouped\n"
   ]
  },
  {
   "cell_type": "code",
   "execution_count": 41,
   "metadata": {},
   "outputs": [
    {
     "data": {
      "text/plain": [
       "Timedelta('0 days 00:05:35')"
      ]
     },
     "execution_count": 41,
     "metadata": {},
     "output_type": "execute_result"
    }
   ],
   "source": [
    "num_session_grouped['active_session'].median()"
   ]
  },
  {
   "cell_type": "code",
   "execution_count": 42,
   "metadata": {},
   "outputs": [
    {
     "data": {
      "text/plain": [
       "2.4150943396226414"
      ]
     },
     "execution_count": 42,
     "metadata": {},
     "output_type": "execute_result"
    }
   ],
   "source": [
    "num_session_grouped.groupby('user_id')['session_num'].count().mean()"
   ]
  },
  {
   "cell_type": "markdown",
   "metadata": {},
   "source": [
    "Мы не будем расчитывать среднее для столбца *active_session*, так как , даже бросив первый взгляд на сводную таблицу, мы видим, что есть пользователь, у которого сессия длилась *12 дней* (вероятно, пользователь мог скрыть приложение, но не выйти из него). Поэтому среднее значение точно будет завышено. Лучший вариант для нас в этом случае - посчитать медиану.  "
   ]
  },
  {
   "cell_type": "markdown",
   "metadata": {},
   "source": [
    "Расчитаем медиану столбца *active_session*, а также посмотрим на среднее количество сессий на пользователя:"
   ]
  },
  {
   "cell_type": "code",
   "execution_count": 43,
   "metadata": {},
   "outputs": [
    {
     "data": {
      "text/plain": [
       "Timedelta('0 days 00:05:35')"
      ]
     },
     "execution_count": 43,
     "metadata": {},
     "output_type": "execute_result"
    }
   ],
   "source": [
    "num_session_grouped['active_session'].median()"
   ]
  },
  {
   "cell_type": "code",
   "execution_count": 44,
   "metadata": {},
   "outputs": [
    {
     "data": {
      "text/plain": [
       "2.4150943396226414"
      ]
     },
     "execution_count": 44,
     "metadata": {},
     "output_type": "execute_result"
    }
   ],
   "source": [
    "num_session_grouped.groupby('user_id')['session_num'].count().mean()"
   ]
  },
  {
   "cell_type": "markdown",
   "metadata": {},
   "source": [
    "**Вывод**: по нашим расчетам видим, что медиана и среднее количество сессий на пользователя примерно сходятся - в месяц пользователь проводит в приложении примерно *2 сессии* или *1 - 1,5 часа*. Для специфики нашего приложения это нормальный результат - примерно за это время пользователь может найти то,что его интресует, рассмотрть варианты и принять решение о покупке. "
   ]
  },
  {
   "cell_type": "markdown",
   "metadata": {},
   "source": [
    "Возможно, в нашем случае следует работать не над увеличением времени, проведенном в приложении (скорее наоборот - чем быстрее пользователь будет находить то, что ему нужно, тем лучше; простотой использования мы можем увеличить вероятность того, что пользователь вернется к нам), а над количеством привлеченных пользователей."
   ]
  },
  {
   "cell_type": "markdown",
   "metadata": {},
   "source": [
    "### 2.3. Частота действий"
   ]
  },
  {
   "cell_type": "markdown",
   "metadata": {},
   "source": [
    "Чтобы посчитать эту метрику, обратимся к методу ***value_counts***, а затем для наглядности построим столбиковую диаграмму:"
   ]
  },
  {
   "cell_type": "code",
   "execution_count": 45,
   "metadata": {},
   "outputs": [
    {
     "data": {
      "text/plain": [
       "tips_show        40055\n",
       "photos_show      10012\n",
       "advert_open       6164\n",
       "contacts_show     4529\n",
       "map               3881\n",
       "search_1          3506\n",
       "favorites_add     1417\n",
       "search_5          1049\n",
       "tips_click         814\n",
       "search_4           701\n",
       "contacts_call      541\n",
       "search_3           522\n",
       "search_6           460\n",
       "search_2           324\n",
       "search_7           222\n",
       "Name: event_name, dtype: int64"
      ]
     },
     "execution_count": 45,
     "metadata": {},
     "output_type": "execute_result"
    }
   ],
   "source": [
    "full_events = full_mobile_df['event_name'].value_counts()\n",
    "full_events"
   ]
  },
  {
   "cell_type": "code",
   "execution_count": 46,
   "metadata": {},
   "outputs": [
    {
     "data": {
      "image/png": "[encoded data removed]",
      "text/plain": [
       "<Figure size 1008x576 with 1 Axes>"
      ]
     },
     "metadata": {},
     "output_type": "display_data"
    }
   ],
   "source": [
    "full_events.plot(kind='bar', figsize=(14,8))\n",
    "plt.title('Часто совершаемые события в приложении', fontsize=20)\n",
    "plt.gca().set(xlabel='типы событий', ylabel='количество повторений событий')\n",
    "plt.xticks(rotation=45)\n",
    "plt.show()"
   ]
  },
  {
   "cell_type": "code",
   "execution_count": 47,
   "metadata": {},
   "outputs": [],
   "source": [
    "users_events = full_mobile_df.groupby('user_id').agg({'event_name':'count'})"
   ]
  },
  {
   "cell_type": "code",
   "execution_count": 48,
   "metadata": {},
   "outputs": [
    {
     "data": {
      "text/plain": [
       "17.283251805264385"
      ]
     },
     "execution_count": 48,
     "metadata": {},
     "output_type": "execute_result"
    }
   ],
   "source": [
    "users_events['event_name'].mean()"
   ]
  },
  {
   "cell_type": "markdown",
   "metadata": {},
   "source": [
    "По диаграмме мы видим, что самым частоповторяющимся событием является *tips_show* (пользователь увидел рекомендованные объявления) - мы можем сделать предположение, что рекомендации для пользователя находятся на главной странице, и, открыв приложение, пользователь автоматически попадает на них. "
   ]
  },
  {
   "cell_type": "markdown",
   "metadata": {},
   "source": [
    "Далее с огромным отрывом идет *photos_show* (просмотр фотографий в объявлении), хотя, следуя логике, на втором месте должен был бы идти поиск. Однако, мы видим, что *search* совсем не популярное событие. Можем сделать вывод, что кнопка поиска расположена в нашем приложении не совсем очевидно для пользователей (кроме *search_1*). Они гораздо охотнее просто просматривают фото. "
   ]
  },
  {
   "cell_type": "markdown",
   "metadata": {},
   "source": [
    "Затем с примерно одинаковыми показателями идут события *advert_open* (открытие карточки объявления), *contacts_show* (пользователь нажал на кнопку \"посмотреть номер телефона\" на карточке объявления), *map* (пользователь открыл карту размещенных объявлений) и *search_1*. Здесь мы можем отметить, что гораздо чаще пользователи просматривают контакты, а не совершают звонки через приложение(у события *contacts_call* совсем небольшие показатели - очевидно, пользователи либо звонят \"по-старинке\", либо (как больше принято в последнее время) используют мессенджеры).   "
   ]
  },
  {
   "cell_type": "markdown",
   "metadata": {},
   "source": [
    "### 2.4. Конверсия в целевое действие — просмотр контактов"
   ]
  },
  {
   "cell_type": "markdown",
   "metadata": {},
   "source": [
    "Чтобы вычислить конверсию в действие *contacts_show*, отфильтруем основной датафрейм (с помощью метода ***query***) по интересующему нас действию. Затем найдем количество уникальных пользователей в отфильтрованной таблице:"
   ]
  },
  {
   "cell_type": "code",
   "execution_count": 49,
   "metadata": {},
   "outputs": [
    {
     "data": {
      "text/html": [
       "<div>\n",
       "<style scoped>\n",
       "    .dataframe tbody tr th:only-of-type {\n",
       "        vertical-align: middle;\n",
       "    }\n",
       "\n",
       "    .dataframe tbody tr th {\n",
       "        vertical-align: top;\n",
       "    }\n",
       "\n",
       "    .dataframe thead th {\n",
       "        text-align: right;\n",
       "    }\n",
       "</style>\n",
       "<table border=\"1\" class=\"dataframe\">\n",
       "  <thead>\n",
       "    <tr style=\"text-align: right;\">\n",
       "      <th></th>\n",
       "      <th>event_time</th>\n",
       "      <th>event_name</th>\n",
       "      <th>user_id</th>\n",
       "      <th>event_time_sec</th>\n",
       "      <th>source</th>\n",
       "      <th>first_activity_date</th>\n",
       "      <th>activity_week</th>\n",
       "      <th>first_activity_week</th>\n",
       "      <th>cohort_lifetime</th>\n",
       "      <th>pre_action_time</th>\n",
       "      <th>active_session</th>\n",
       "      <th>session_num</th>\n",
       "    </tr>\n",
       "  </thead>\n",
       "  <tbody>\n",
       "    <tr>\n",
       "      <td>122</td>\n",
       "      <td>2019-10-07 00:05:16.003328</td>\n",
       "      <td>contacts_show</td>\n",
       "      <td>8c356c42-3ba9-4cb6-80b8-3f868d0192c3</td>\n",
       "      <td>2019-10-07 00:05:16</td>\n",
       "      <td>yandex</td>\n",
       "      <td>2019-10-07 00:02:07</td>\n",
       "      <td>2019-10-03</td>\n",
       "      <td>2019-10-03</td>\n",
       "      <td>0</td>\n",
       "      <td>2019-10-07 00:02:07</td>\n",
       "      <td>0 days 00:03:09</td>\n",
       "      <td>1.0</td>\n",
       "    </tr>\n",
       "    <tr>\n",
       "      <td>136</td>\n",
       "      <td>2019-10-07 00:18:53.427525</td>\n",
       "      <td>contacts_show</td>\n",
       "      <td>8c356c42-3ba9-4cb6-80b8-3f868d0192c3</td>\n",
       "      <td>2019-10-07 00:18:53</td>\n",
       "      <td>yandex</td>\n",
       "      <td>2019-10-07 00:02:07</td>\n",
       "      <td>2019-10-03</td>\n",
       "      <td>2019-10-03</td>\n",
       "      <td>0</td>\n",
       "      <td>2019-10-07 00:17:43</td>\n",
       "      <td>0 days 00:01:10</td>\n",
       "      <td>1.0</td>\n",
       "    </tr>\n",
       "    <tr>\n",
       "      <td>350</td>\n",
       "      <td>2019-10-20 02:39:00.387073</td>\n",
       "      <td>contacts_show</td>\n",
       "      <td>17f6b2db-2964-4d11-89d8-7e38d2cb4750</td>\n",
       "      <td>2019-10-20 02:39:00</td>\n",
       "      <td>yandex</td>\n",
       "      <td>2019-10-07 01:18:43</td>\n",
       "      <td>2019-10-17</td>\n",
       "      <td>2019-10-03</td>\n",
       "      <td>2</td>\n",
       "      <td>2019-10-20 02:37:52</td>\n",
       "      <td>0 days 00:01:08</td>\n",
       "      <td>9.0</td>\n",
       "    </tr>\n",
       "    <tr>\n",
       "      <td>355</td>\n",
       "      <td>2019-10-20 02:44:58.304184</td>\n",
       "      <td>contacts_show</td>\n",
       "      <td>17f6b2db-2964-4d11-89d8-7e38d2cb4750</td>\n",
       "      <td>2019-10-20 02:44:58</td>\n",
       "      <td>yandex</td>\n",
       "      <td>2019-10-07 01:18:43</td>\n",
       "      <td>2019-10-17</td>\n",
       "      <td>2019-10-03</td>\n",
       "      <td>2</td>\n",
       "      <td>2019-10-20 02:42:00</td>\n",
       "      <td>0 days 00:02:58</td>\n",
       "      <td>9.0</td>\n",
       "    </tr>\n",
       "    <tr>\n",
       "      <td>413</td>\n",
       "      <td>2019-10-07 08:11:07.995945</td>\n",
       "      <td>contacts_show</td>\n",
       "      <td>48e614d6-fe03-40f7-bf9e-4c4f61c19f64</td>\n",
       "      <td>2019-10-07 08:11:07</td>\n",
       "      <td>yandex</td>\n",
       "      <td>2019-10-07 08:02:57</td>\n",
       "      <td>2019-10-03</td>\n",
       "      <td>2019-10-03</td>\n",
       "      <td>0</td>\n",
       "      <td>2019-10-07 08:10:25</td>\n",
       "      <td>0 days 00:00:42</td>\n",
       "      <td>1.0</td>\n",
       "    </tr>\n",
       "    <tr>\n",
       "      <td>...</td>\n",
       "      <td>...</td>\n",
       "      <td>...</td>\n",
       "      <td>...</td>\n",
       "      <td>...</td>\n",
       "      <td>...</td>\n",
       "      <td>...</td>\n",
       "      <td>...</td>\n",
       "      <td>...</td>\n",
       "      <td>...</td>\n",
       "      <td>...</td>\n",
       "      <td>...</td>\n",
       "      <td>...</td>\n",
       "    </tr>\n",
       "    <tr>\n",
       "      <td>74021</td>\n",
       "      <td>2019-11-03 20:56:08.964925</td>\n",
       "      <td>contacts_show</td>\n",
       "      <td>8cb7761d-ea9f-4631-b4b8-90e6bd30848b</td>\n",
       "      <td>2019-11-03 20:56:08</td>\n",
       "      <td>google</td>\n",
       "      <td>2019-11-03 20:53:04</td>\n",
       "      <td>2019-10-31</td>\n",
       "      <td>2019-10-31</td>\n",
       "      <td>0</td>\n",
       "      <td>2019-11-03 20:54:45</td>\n",
       "      <td>0 days 00:01:23</td>\n",
       "      <td>1.0</td>\n",
       "    </tr>\n",
       "    <tr>\n",
       "      <td>74022</td>\n",
       "      <td>2019-11-03 20:57:54.244686</td>\n",
       "      <td>contacts_show</td>\n",
       "      <td>8cb7761d-ea9f-4631-b4b8-90e6bd30848b</td>\n",
       "      <td>2019-11-03 20:57:54</td>\n",
       "      <td>google</td>\n",
       "      <td>2019-11-03 20:53:04</td>\n",
       "      <td>2019-10-31</td>\n",
       "      <td>2019-10-31</td>\n",
       "      <td>0</td>\n",
       "      <td>2019-11-03 20:56:08</td>\n",
       "      <td>0 days 00:01:46</td>\n",
       "      <td>1.0</td>\n",
       "    </tr>\n",
       "    <tr>\n",
       "      <td>74023</td>\n",
       "      <td>2019-11-03 20:58:16.519069</td>\n",
       "      <td>contacts_show</td>\n",
       "      <td>8cb7761d-ea9f-4631-b4b8-90e6bd30848b</td>\n",
       "      <td>2019-11-03 20:58:16</td>\n",
       "      <td>google</td>\n",
       "      <td>2019-11-03 20:53:04</td>\n",
       "      <td>2019-10-31</td>\n",
       "      <td>2019-10-31</td>\n",
       "      <td>0</td>\n",
       "      <td>2019-11-03 20:57:54</td>\n",
       "      <td>0 days 00:00:22</td>\n",
       "      <td>1.0</td>\n",
       "    </tr>\n",
       "    <tr>\n",
       "      <td>74036</td>\n",
       "      <td>2019-11-03 22:13:18.369181</td>\n",
       "      <td>contacts_show</td>\n",
       "      <td>da4b7af3-c603-457a-8506-71d90077417b</td>\n",
       "      <td>2019-11-03 22:13:18</td>\n",
       "      <td>google</td>\n",
       "      <td>2019-11-03 21:04:32</td>\n",
       "      <td>2019-10-31</td>\n",
       "      <td>2019-10-31</td>\n",
       "      <td>0</td>\n",
       "      <td>2019-11-03 22:10:22</td>\n",
       "      <td>0 days 00:02:56</td>\n",
       "      <td>2.0</td>\n",
       "    </tr>\n",
       "    <tr>\n",
       "      <td>74187</td>\n",
       "      <td>2019-11-03 23:46:31.298524</td>\n",
       "      <td>contacts_show</td>\n",
       "      <td>c10055f0-0b47-477a-869e-d391b31fdf8f</td>\n",
       "      <td>2019-11-03 23:46:31</td>\n",
       "      <td>yandex</td>\n",
       "      <td>2019-11-03 23:46:31</td>\n",
       "      <td>2019-10-31</td>\n",
       "      <td>2019-10-31</td>\n",
       "      <td>0</td>\n",
       "      <td>NaT</td>\n",
       "      <td>0</td>\n",
       "      <td>1.0</td>\n",
       "    </tr>\n",
       "  </tbody>\n",
       "</table>\n",
       "<p>4529 rows × 12 columns</p>\n",
       "</div>"
      ],
      "text/plain": [
       "                      event_time     event_name  \\\n",
       "122   2019-10-07 00:05:16.003328  contacts_show   \n",
       "136   2019-10-07 00:18:53.427525  contacts_show   \n",
       "350   2019-10-20 02:39:00.387073  contacts_show   \n",
       "355   2019-10-20 02:44:58.304184  contacts_show   \n",
       "413   2019-10-07 08:11:07.995945  contacts_show   \n",
       "...                          ...            ...   \n",
       "74021 2019-11-03 20:56:08.964925  contacts_show   \n",
       "74022 2019-11-03 20:57:54.244686  contacts_show   \n",
       "74023 2019-11-03 20:58:16.519069  contacts_show   \n",
       "74036 2019-11-03 22:13:18.369181  contacts_show   \n",
       "74187 2019-11-03 23:46:31.298524  contacts_show   \n",
       "\n",
       "                                    user_id      event_time_sec  source  \\\n",
       "122    8c356c42-3ba9-4cb6-80b8-3f868d0192c3 2019-10-07 00:05:16  yandex   \n",
       "136    8c356c42-3ba9-4cb6-80b8-3f868d0192c3 2019-10-07 00:18:53  yandex   \n",
       "350    17f6b2db-2964-4d11-89d8-7e38d2cb4750 2019-10-20 02:39:00  yandex   \n",
       "355    17f6b2db-2964-4d11-89d8-7e38d2cb4750 2019-10-20 02:44:58  yandex   \n",
       "413    48e614d6-fe03-40f7-bf9e-4c4f61c19f64 2019-10-07 08:11:07  yandex   \n",
       "...                                     ...                 ...     ...   \n",
       "74021  8cb7761d-ea9f-4631-b4b8-90e6bd30848b 2019-11-03 20:56:08  google   \n",
       "74022  8cb7761d-ea9f-4631-b4b8-90e6bd30848b 2019-11-03 20:57:54  google   \n",
       "74023  8cb7761d-ea9f-4631-b4b8-90e6bd30848b 2019-11-03 20:58:16  google   \n",
       "74036  da4b7af3-c603-457a-8506-71d90077417b 2019-11-03 22:13:18  google   \n",
       "74187  c10055f0-0b47-477a-869e-d391b31fdf8f 2019-11-03 23:46:31  yandex   \n",
       "\n",
       "      first_activity_date activity_week first_activity_week  cohort_lifetime  \\\n",
       "122   2019-10-07 00:02:07    2019-10-03          2019-10-03                0   \n",
       "136   2019-10-07 00:02:07    2019-10-03          2019-10-03                0   \n",
       "350   2019-10-07 01:18:43    2019-10-17          2019-10-03                2   \n",
       "355   2019-10-07 01:18:43    2019-10-17          2019-10-03                2   \n",
       "413   2019-10-07 08:02:57    2019-10-03          2019-10-03                0   \n",
       "...                   ...           ...                 ...              ...   \n",
       "74021 2019-11-03 20:53:04    2019-10-31          2019-10-31                0   \n",
       "74022 2019-11-03 20:53:04    2019-10-31          2019-10-31                0   \n",
       "74023 2019-11-03 20:53:04    2019-10-31          2019-10-31                0   \n",
       "74036 2019-11-03 21:04:32    2019-10-31          2019-10-31                0   \n",
       "74187 2019-11-03 23:46:31    2019-10-31          2019-10-31                0   \n",
       "\n",
       "          pre_action_time   active_session  session_num  \n",
       "122   2019-10-07 00:02:07  0 days 00:03:09          1.0  \n",
       "136   2019-10-07 00:17:43  0 days 00:01:10          1.0  \n",
       "350   2019-10-20 02:37:52  0 days 00:01:08          9.0  \n",
       "355   2019-10-20 02:42:00  0 days 00:02:58          9.0  \n",
       "413   2019-10-07 08:10:25  0 days 00:00:42          1.0  \n",
       "...                   ...              ...          ...  \n",
       "74021 2019-11-03 20:54:45  0 days 00:01:23          1.0  \n",
       "74022 2019-11-03 20:56:08  0 days 00:01:46          1.0  \n",
       "74023 2019-11-03 20:57:54  0 days 00:00:22          1.0  \n",
       "74036 2019-11-03 22:10:22  0 days 00:02:56          2.0  \n",
       "74187                 NaT                0          1.0  \n",
       "\n",
       "[4529 rows x 12 columns]"
      ]
     },
     "execution_count": 49,
     "metadata": {},
     "output_type": "execute_result"
    }
   ],
   "source": [
    "contacts_show_df = full_mobile_df.query('event_name == \"contacts_show\"')\n",
    "contacts_show_df"
   ]
  },
  {
   "cell_type": "code",
   "execution_count": 50,
   "metadata": {},
   "outputs": [
    {
     "data": {
      "text/plain": [
       "981"
      ]
     },
     "execution_count": 50,
     "metadata": {},
     "output_type": "execute_result"
    }
   ],
   "source": [
    "contacts_show_df['user_id'].nunique()"
   ]
  },
  {
   "cell_type": "markdown",
   "metadata": {},
   "source": [
    "Теперь разделим количество уникальных пользователей из отфильтрованной таблицы **contacts_show_df** на количество уникальных пользователей из основной таблицы и умножим на 100:"
   ]
  },
  {
   "cell_type": "code",
   "execution_count": 51,
   "metadata": {},
   "outputs": [
    {
     "data": {
      "text/plain": [
       "22.851153039832283"
      ]
     },
     "execution_count": 51,
     "metadata": {},
     "output_type": "execute_result"
    }
   ],
   "source": [
    "(contacts_show_df['user_id'].nunique() / full_mobile_df['user_id'].nunique()) * 100"
   ]
  },
  {
   "cell_type": "markdown",
   "metadata": {},
   "source": [
    "**Вывод**: по приблизительной логике действий (зашел в приложение - открыл объявление - посмотрел фото - посмотрел контакты - совершил звонок) событие *contacts_show* можно посчитать одним из финальных шагов пользователя в приложении. По нашим расчетам до этого события доходят *~23%* пользователей."
   ]
  },
  {
   "cell_type": "markdown",
   "metadata": {},
   "source": [
    "77% -  достаточно большой отток от общего количества пришедших к нам пользователей. Этому может быть несколько причин:\n",
    "\n",
    "*  *пользователь \"теряется\" в большом количестве рекомендаций* - в длинной ленте объявлений пользователь может надолго \"зависнуть\" и отложить целенаправленный поиск и, соответственно, отклик на объявление;\n",
    "\n",
    "*  *управление приложением не достаточно интуитивно* - возможно, путь пользователя в приложении более \"тернист\", чем кажется, и стоит подумать над его упрощением."
   ]
  },
  {
   "cell_type": "markdown",
   "metadata": {},
   "source": [
    "### 2.5. Вывод"
   ]
  },
  {
   "cell_type": "markdown",
   "metadata": {},
   "source": [
    "Мы расчитали ***Retention Rate*** для посетителей приложения, по тепловой карте видим, что за месяц показатель упал с *1 до 0.07*. С каждой новой когортой поведение пользователей меняется. Нам нужно впоследствии выяснить, какие именно факторы влияют на отток пользователей. "
   ]
  },
  {
   "cell_type": "markdown",
   "metadata": {},
   "source": [
    "Мы расчитали количество сессий и время,проведенное в приложении для каждого пользователя, затем получили медиану и среднее количество сессий на пользотеля: резутаты примерно сходятся - в месяц пользователь проводит в приложении примерно *2 сессии* или *1 - 1,5 часа*. Для специфики нашего приложения это нормальный результат - примерно за это время пользователь может найти то,что его интресует, рассмотрть варианты и принять решение о покупке. Возможно, в нашем случае следует работать не над увеличением времени, проведенном в приложении (скорее наоборот - чем быстрее пользователь будет находить то, что ему нужно, тем лучше; простотой использования мы можем увеличить вероятность того, что пользователь вернется к нам), а над количеством привлеченных пользователей."
   ]
  },
  {
   "cell_type": "markdown",
   "metadata": {},
   "source": [
    "По столбчатой диаграмме мы увидели, что самым частоповторяющимся событием является *tips_show* (пользователь увидел рекомендованные объявления) - мы предположили, что рекомендации для пользователя находятся на главной странице, и, открыв приложение, пользователь автоматически попадает на них. "
   ]
  },
  {
   "cell_type": "markdown",
   "metadata": {},
   "source": [
    "Далее с огромным отрывом идет *photos_show* (просмотр фотографий в объявлении), хотя, следуя логике, на втором месте должен был бы идти поиск. Однако, видно, что *search* совсем не популярное событие. Мы сделали вывод, что кнопка поиска расположена в нашем приложении не совсем очевидно для пользователей (кроме *search_1*). Они гораздо охотнее просто просматривают фото. "
   ]
  },
  {
   "cell_type": "markdown",
   "metadata": {},
   "source": [
    "Далее с примерно одинаковыми показателями идут события *advert_open* (открытие карточки объявления), *contacts_show* (пользователь нажал на кнопку \"посмотреть номер телефона\" на карточке объявления), *map* (пользователь открыл карту размещенных объявлений) и *search_1*. Здесь мы отметили, что гораздо чаще пользователи просматривают контакты, а не совершают звонки через приложение(у события *contacts_call* совсем небольшие показатели - очевидно, пользователи либо звонят \"по-старинке\", либо (как больше принято в последнее время) используют мессенджеры).  "
   ]
  },
  {
   "cell_type": "markdown",
   "metadata": {},
   "source": [
    "Мы расчитали конверсию в целевое действие(просмотр контактов): по нашим расчетам до этого события доходят *~23%* пользователей. *77%* -  достаточно большой отток от общего количества пришедших к нам пользователей. Этому может быть несколько причин:\n",
    "\n",
    "*  *пользователь \"теряется\" в большом количестве рекомендаций* - в длинной ленте объявлений пользователь может надолго \"зависнуть\" и отложить целенаправленный поиск и, соответственно, отклик на объявление;\n",
    "\n",
    "*  *управление приложением не достаточно интуитивно* - возможно, путь пользователя в приложении более \"тернист\", чем кажется, и стоит подумать над его упрощением."
   ]
  },
  {
   "cell_type": "markdown",
   "metadata": {},
   "source": [
    "## Шаг 3. Сегментация пользователей по действиям"
   ]
  },
  {
   "cell_type": "markdown",
   "metadata": {},
   "source": [
    "Мы предварительно сегментировали пользователей по действиям, совершенным ими в приложении, на *7 групп*:\n",
    "\n",
    "*  **по источнику, с которого пользователь установил приложение;**\n",
    "\n",
    "*  **по пользователям, позвонившим по номеру телефона на карточке объявления;**\n",
    "\n",
    "*  **по пользователям, которые пользовались поиском;**\n",
    "\n",
    "*  **по пользователям, кликнувшим по рекомендованным объявлениям;**\n",
    "\n",
    "*  **по пользователям, открывшим карточки объявления;**\n",
    "\n",
    "*  **по пользователям, просмотревшим рекомендации;**\n",
    "\n",
    "*  **по пользователям, открывшим карту размещенных объявлений.**"
   ]
  },
  {
   "cell_type": "markdown",
   "metadata": {},
   "source": [
    "Мы отфильтруем таблицу по действиям, найдем уникальных пользователей, совершивших эти действия, а затем отфильтруем основную таблицу по этим пользователям и посмотрим, как вели себя пользователи в этих группах, какие еще совершали действия и какая доля пользователей дошла до целевого действия (*просмотр контактов*). "
   ]
  },
  {
   "cell_type": "markdown",
   "metadata": {},
   "source": [
    "Чтобы расчитать необходимые нам метрики, мы создадим две функции: ***segment_func*** и ***retention_func***. "
   ]
  },
  {
   "cell_type": "markdown",
   "metadata": {},
   "source": [
    "***segment_func*** будет расчитывать:\n",
    "\n",
    "*  *количество уникальных пользователей;*\n",
    "\n",
    "*  *доля от общего числа пользователей;*\n",
    "\n",
    "*  *часто совершаемые события в приложении(для группы пользователей,совершивших рассматриваемое действие);*\n",
    "\n",
    "*  *медиана по времени проведенного пользователями в приложении и среднее количество сессий пользователей;*\n",
    "\n",
    "*  *конверсия в целевое действие(просмотр контактов).*"
   ]
  },
  {
   "cell_type": "markdown",
   "metadata": {},
   "source": [
    "***retention_func*** будет расчитывать коэффициент удержания для каждой группы и строить тепловую карту."
   ]
  },
  {
   "cell_type": "code",
   "execution_count": 52,
   "metadata": {},
   "outputs": [],
   "source": [
    "def segment_func(table):\n",
    "    unique_users = table['user_id'].nunique()\n",
    "    print(\"Количество уникальных пользователей:\")\n",
    "    print(unique_users)\n",
    "    print(\"\")\n",
    "    share_users = (table['user_id'].nunique() / full_mobile_df['user_id'].nunique()) * 100\n",
    "    print(\"Доля от общего числа пользователей\")\n",
    "    print('{:.2f}'.format(share_users))\n",
    "    print(\"\")\n",
    "    print(\"Среднее количество действий на пользователя в группе\")\n",
    "    users_events = table.groupby('user_id').agg({'event_name':'count'})\n",
    "    mean_events = users_events['event_name'].mean()\n",
    "    print('{:.2f}'.format(mean_events))\n",
    "    session_grouped = table.pivot_table(index = ['user_id','session_num'], values ='active_session', aggfunc ='sum').reset_index()\n",
    "    m1 = session_grouped['active_session'].median()\n",
    "    print(\"Медиана по времени проведенного пользователями в приложении: \")\n",
    "    print(m1)\n",
    "    print(\"\")\n",
    "    m2 = session_grouped.groupby('user_id')['session_num'].count().mean()\n",
    "    print(\"Среднее количество сессий на пользователя:\")\n",
    "    print('{:.2f}'.format(m2))\n",
    "    \n",
    "    print(\"\")\n",
    "    print(\"Конверсия в целевое действие(просмотр контактов):\")\n",
    "    contacts_show_df = table.query('event_name == \"contacts_show\"')\n",
    "    m3 = (contacts_show_df['user_id'].nunique() / table['user_id'].nunique()) * 100\n",
    "    print('{:.2f}'.format(m3))\n",
    "    \n",
    "    #return unique_users"
   ]
  },
  {
   "cell_type": "code",
   "execution_count": 53,
   "metadata": {},
   "outputs": [],
   "source": [
    "def retention_func(table):\n",
    "    \n",
    "    cohorts = table.groupby(['first_activity_week','cohort_lifetime']).agg({'user_id':'nunique'}).reset_index() \n",
    "\n",
    "    initial_users_count = cohorts[cohorts['cohort_lifetime'] == 0][['first_activity_week','user_id']]\n",
    "\n",
    "    initial_users_count = initial_users_count.rename(columns={'user_id':'cohort_users'}) \n",
    "\n",
    "    cohorts = cohorts.merge(initial_users_count,on='first_activity_week')\n",
    "\n",
    "    cohorts['retention'] = cohorts['user_id']/cohorts['cohort_users'] \n",
    "\n",
    "    retention_pivot = cohorts.pivot_table(index='first_activity_week',columns='cohort_lifetime',values='retention',aggfunc='sum') \n",
    "\n",
    "    retention_pivot.index = retention_pivot.index.strftime(\"%w\")\n",
    "    sns.set(style='white')\n",
    "    plt.figure(figsize=(10, 5))\n",
    "    plt.title('Retention Rate(по когортам)')\n",
    "    sns.heatmap(retention_pivot, annot=True, fmt='.2f', linewidths=1, linecolor='grey')\n",
    "    plt.gca().set(xlabel='lifetime', ylabel='первая неделя активности')\n",
    "    plt.show()"
   ]
  },
  {
   "cell_type": "markdown",
   "metadata": {},
   "source": [
    "### 3.1. По источнику, с которого пользователь установил приложение"
   ]
  },
  {
   "cell_type": "markdown",
   "metadata": {},
   "source": [
    "С помощью метода ***unique*** выясним, какие есть источники в данных:"
   ]
  },
  {
   "cell_type": "code",
   "execution_count": 54,
   "metadata": {},
   "outputs": [
    {
     "data": {
      "text/plain": [
       "array(['other', 'yandex', 'google'], dtype=object)"
      ]
     },
     "execution_count": 54,
     "metadata": {},
     "output_type": "execute_result"
    }
   ],
   "source": [
    "full_mobile_df['source'].unique()"
   ]
  },
  {
   "cell_type": "markdown",
   "metadata": {},
   "source": [
    "Фильтруем таблицы по каждому источнику:"
   ]
  },
  {
   "cell_type": "code",
   "execution_count": 55,
   "metadata": {},
   "outputs": [],
   "source": [
    "yandex_df = full_mobile_df.query('source == \"yandex\"')"
   ]
  },
  {
   "cell_type": "code",
   "execution_count": 56,
   "metadata": {},
   "outputs": [],
   "source": [
    "google_df = full_mobile_df.query('source == \"google\"')"
   ]
  },
  {
   "cell_type": "code",
   "execution_count": 57,
   "metadata": {},
   "outputs": [],
   "source": [
    "other_df = full_mobile_df.query('source == \"other\"')"
   ]
  },
  {
   "cell_type": "markdown",
   "metadata": {},
   "source": [
    "Применяем функции к отфильтрованным таблицам:"
   ]
  },
  {
   "cell_type": "code",
   "execution_count": 58,
   "metadata": {
    "scrolled": false
   },
   "outputs": [
    {
     "name": "stdout",
     "output_type": "stream",
     "text": [
      "Количество уникальных пользователей:\n",
      "1934\n",
      "\n",
      "Доля от общего числа пользователей\n",
      "45.05\n",
      "\n",
      "Среднее количество действий на пользователя в группе\n",
      "17.73\n",
      "Медиана по времени проведенного пользователями в приложении: \n",
      "0 days 00:06:43\n",
      "\n",
      "Среднее количество сессий на пользователя:\n",
      "2.34\n",
      "\n",
      "Конверсия в целевое действие(просмотр контактов):\n",
      "24.72\n"
     ]
    },
    {
     "data": {
      "image/png": "[encoded data removed]",
      "text/plain": [
       "<Figure size 720x360 with 2 Axes>"
      ]
     },
     "metadata": {},
     "output_type": "display_data"
    }
   ],
   "source": [
    "segment_func(yandex_df)\n",
    "retention_func(yandex_df)"
   ]
  },
  {
   "cell_type": "code",
   "execution_count": 59,
   "metadata": {
    "scrolled": false
   },
   "outputs": [
    {
     "name": "stdout",
     "output_type": "stream",
     "text": [
      "Количество уникальных пользователей:\n",
      "1129\n",
      "\n",
      "Доля от общего числа пользователей\n",
      "26.30\n",
      "\n",
      "Среднее количество действий на пользователя в группе\n",
      "18.11\n",
      "Медиана по времени проведенного пользователями в приложении: \n",
      "0 days 00:05:50.500000\n",
      "\n",
      "Среднее количество сессий на пользователя:\n",
      "2.50\n",
      "\n",
      "Конверсия в целевое действие(просмотр контактов):\n",
      "24.36\n"
     ]
    },
    {
     "data": {
      "image/png": "[encoded data removed]",
      "text/plain": [
       "<Figure size 720x360 with 2 Axes>"
      ]
     },
     "metadata": {},
     "output_type": "display_data"
    }
   ],
   "source": [
    "segment_func(google_df)\n",
    "retention_func(google_df)"
   ]
  },
  {
   "cell_type": "code",
   "execution_count": 60,
   "metadata": {},
   "outputs": [],
   "source": [
    "other_df = full_mobile_df.query('source == \"other\"')"
   ]
  },
  {
   "cell_type": "code",
   "execution_count": 61,
   "metadata": {
    "scrolled": false
   },
   "outputs": [
    {
     "name": "stdout",
     "output_type": "stream",
     "text": [
      "Количество уникальных пользователей:\n",
      "1230\n",
      "\n",
      "Доля от общего числа пользователей\n",
      "28.65\n",
      "\n",
      "Среднее количество действий на пользователя в группе\n",
      "15.83\n",
      "Медиана по времени проведенного пользователями в приложении: \n",
      "0 days 00:03:57\n",
      "\n",
      "Среднее количество сессий на пользователя:\n",
      "2.45\n",
      "\n",
      "Конверсия в целевое действие(просмотр контактов):\n",
      "18.54\n"
     ]
    },
    {
     "data": {
      "image/png": "[encoded data removed]",
      "text/plain": [
       "<Figure size 720x360 with 2 Axes>"
      ]
     },
     "metadata": {},
     "output_type": "display_data"
    }
   ],
   "source": [
    "segment_func(other_df)\n",
    "retention_func(other_df)"
   ]
  },
  {
   "cell_type": "markdown",
   "metadata": {},
   "source": [
    "**Вывод**: по показателям отфильтрованных по источникам групп видим, что больше пользователей, установивших приложение через *Яндекс*. Конверсия в целевое действие у этой группы и у группы *Google* почти одинаковые - *~24%*, у группы пользователей, установивших приложение с других источников меньше - *18%*. Коэффициент удержания во всех группах примерно одинаковый - к последней неделе он достаточно низкий у всех, однако в группе *Яндекса* на *2% меньше*, то есть меньше пользователей , установивших наше приложение через *Яндекс* остается с нами."
   ]
  },
  {
   "cell_type": "markdown",
   "metadata": {},
   "source": [
    "### 3.2. По пользователям, позвонившим по номеру телефона на карточке объявления"
   ]
  },
  {
   "cell_type": "markdown",
   "metadata": {},
   "source": [
    "Теперь рассмотрим группы пользователей по совершенным действиям в приложении."
   ]
  },
  {
   "cell_type": "markdown",
   "metadata": {},
   "source": [
    "Отфильтруем общую таблицу **full_mobile_df** по действию *contacts_call*(пользователь позвонил по номеру телефона на карточке объявления через приложение):"
   ]
  },
  {
   "cell_type": "code",
   "execution_count": 62,
   "metadata": {},
   "outputs": [],
   "source": [
    "contacts_call_df = full_mobile_df.query('event_name == \"contacts_call\"')"
   ]
  },
  {
   "cell_type": "markdown",
   "metadata": {},
   "source": [
    "Найдем уникальных пользователей в отфильтрованной таблице и поместим их в переменную **users_contacts_call**:"
   ]
  },
  {
   "cell_type": "code",
   "execution_count": 63,
   "metadata": {},
   "outputs": [],
   "source": [
    "users_contacts_call = contacts_call_df['user_id'].unique()"
   ]
  },
  {
   "cell_type": "markdown",
   "metadata": {},
   "source": [
    "Отфильтруем основую таблицу по установленным нами пользователям и посмотрим их поведение в приложении:"
   ]
  },
  {
   "cell_type": "code",
   "execution_count": 64,
   "metadata": {},
   "outputs": [],
   "source": [
    "full_contacts_call = full_mobile_df[full_mobile_df['user_id'].isin(users_contacts_call)]"
   ]
  },
  {
   "cell_type": "code",
   "execution_count": 65,
   "metadata": {},
   "outputs": [
    {
     "name": "stdout",
     "output_type": "stream",
     "text": [
      "Количество уникальных пользователей:\n",
      "213\n",
      "\n",
      "Доля от общего числа пользователей\n",
      "4.96\n",
      "\n",
      "Среднее количество действий на пользователя в группе\n",
      "19.12\n",
      "Медиана по времени проведенного пользователями в приложении: \n",
      "0 days 00:02:14\n",
      "\n",
      "Среднее количество сессий на пользователя:\n",
      "4.03\n",
      "\n",
      "Конверсия в целевое действие(просмотр контактов):\n",
      "100.00\n"
     ]
    },
    {
     "data": {
      "image/png": "[encoded data removed]",
      "text/plain": [
       "<Figure size 720x360 with 2 Axes>"
      ]
     },
     "metadata": {},
     "output_type": "display_data"
    }
   ],
   "source": [
    "segment_func(full_contacts_call)\n",
    "retention_func(full_contacts_call)"
   ]
  },
  {
   "cell_type": "markdown",
   "metadata": {},
   "source": [
    "**Вывод:** эта группа очень малочислена - всего *213 пользователей*, однако, они проводят достаточно много времени в приложении - в среднем *4 сессии*, т.е. 2 часа, а по медиане  показатель проведенного в приложении маленький - *около 2 минут*. В среднем пользователь совершает 19 действий в приложении. Конверсия в целевое действие, естественно, *100%* . Доля \"оставшихся\" с нашим приложением пользователей в этой группе составляет *9%* - в сравнении в другими группами это не самый низкий показатель. "
   ]
  },
  {
   "cell_type": "markdown",
   "metadata": {},
   "source": [
    "### 3.3. По пользователям, которые пользовались поиском"
   ]
  },
  {
   "cell_type": "code",
   "execution_count": 66,
   "metadata": {},
   "outputs": [],
   "source": [
    "search_df = full_mobile_df.query('event_name == (\"search_1\",\"search_2\", \"search_3\", \"search_4\",\"search_5\",\"search_6\", \"search_7\")')"
   ]
  },
  {
   "cell_type": "code",
   "execution_count": 67,
   "metadata": {},
   "outputs": [],
   "source": [
    "users_search = search_df['user_id'].unique()"
   ]
  },
  {
   "cell_type": "code",
   "execution_count": 68,
   "metadata": {},
   "outputs": [],
   "source": [
    "full_search = full_mobile_df[full_mobile_df['user_id'].isin(users_search)]\n"
   ]
  },
  {
   "cell_type": "code",
   "execution_count": 69,
   "metadata": {},
   "outputs": [
    {
     "name": "stdout",
     "output_type": "stream",
     "text": [
      "Количество уникальных пользователей:\n",
      "1666\n",
      "\n",
      "Доля от общего числа пользователей\n",
      "38.81\n",
      "\n",
      "Среднее количество действий на пользователя в группе\n",
      "20.18\n",
      "Медиана по времени проведенного пользователями в приложении: \n",
      "0 days 00:05:24\n",
      "\n",
      "Среднее количество сессий на пользователя:\n",
      "2.77\n",
      "\n",
      "Конверсия в целевое действие(просмотр контактов):\n",
      "22.63\n"
     ]
    },
    {
     "data": {
      "image/png": "[encoded data removed]",
      "text/plain": [
       "<Figure size 720x360 with 2 Axes>"
      ]
     },
     "metadata": {},
     "output_type": "display_data"
    }
   ],
   "source": [
    "segment_func(full_search)\n",
    "retention_func(full_search)"
   ]
  },
  {
   "cell_type": "markdown",
   "metadata": {},
   "source": [
    "**Вывод:** доля пользователей от общего числа составляет *38%* - не такая маленькая группа. В среднем пользователи проводят в приложении *~5,5 минут*. В среднем пользователи совершают 20 действий - небольшой результат по сравнению с другими группами. В этой группе стоит отметить, что показатель ***Retention Rate*** самый высокий среди групп - *12%*. Можно предположить, что эти пользователи более стабильны, чем в других группах. Это предположение подтверждает то, что конверсия в целевое действие в этой группе не так мала - почти *23%*, то есть люди, пользующиеся поиском, все же достигают цели и переходят в контакты. "
   ]
  },
  {
   "cell_type": "markdown",
   "metadata": {},
   "source": [
    "### 3.4. По пользователям, кликнувшим по рекомендованным объявлениям"
   ]
  },
  {
   "cell_type": "code",
   "execution_count": 70,
   "metadata": {},
   "outputs": [],
   "source": [
    "tips_click_df = full_mobile_df.query('event_name == \"tips_click\"')"
   ]
  },
  {
   "cell_type": "code",
   "execution_count": 71,
   "metadata": {},
   "outputs": [],
   "source": [
    "users_tips_click = tips_click_df['user_id'].unique()"
   ]
  },
  {
   "cell_type": "code",
   "execution_count": 72,
   "metadata": {},
   "outputs": [],
   "source": [
    "full_tips_click = full_mobile_df[full_mobile_df['user_id'].isin(users_tips_click)]\n"
   ]
  },
  {
   "cell_type": "code",
   "execution_count": 73,
   "metadata": {},
   "outputs": [
    {
     "name": "stdout",
     "output_type": "stream",
     "text": [
      "Количество уникальных пользователей:\n",
      "322\n",
      "\n",
      "Доля от общего числа пользователей\n",
      "7.50\n",
      "\n",
      "Среднее количество действий на пользователя в группе\n",
      "39.00\n",
      "Медиана по времени проведенного пользователями в приложении: \n",
      "0 days 00:08:35\n",
      "\n",
      "Среднее количество сессий на пользователя:\n",
      "4.42\n",
      "\n",
      "Конверсия в целевое действие(просмотр контактов):\n",
      "31.06\n"
     ]
    },
    {
     "data": {
      "image/png": "[encoded data removed]",
      "text/plain": [
       "<Figure size 720x360 with 2 Axes>"
      ]
     },
     "metadata": {},
     "output_type": "display_data"
    }
   ],
   "source": [
    "segment_func(full_tips_click)\n",
    "retention_func(full_tips_click)"
   ]
  },
  {
   "cell_type": "markdown",
   "metadata": {},
   "source": [
    "**Вывод:** эта группа несколько похожа на группу пользователей, совершивших звонки через приложение -  небольшая - всего *7,5%* от общего числа пользователей. Однако, здесь пользователи тоже провели довольно много времени в приложении - на пользователя приходится примерно *4 сессии*, количество проведенного времени в приложении - *~8,5 минут*, что довольно много. Также показатель количества действий, совершенных пользователем, в этой группе высок - *в среднем 39 действий*. В этой группе доля пользователей, просмотревших контакты не так мала - *31%* от числа пользователей в группе."
   ]
  },
  {
   "cell_type": "markdown",
   "metadata": {},
   "source": [
    "### 3.5.  По пользователям, открывшим карточки объявления"
   ]
  },
  {
   "cell_type": "code",
   "execution_count": 74,
   "metadata": {},
   "outputs": [],
   "source": [
    "advert_open_df = full_mobile_df.query('event_name == \"advert_open\"')"
   ]
  },
  {
   "cell_type": "code",
   "execution_count": 75,
   "metadata": {},
   "outputs": [],
   "source": [
    "users_advert_open = advert_open_df['user_id'].unique()"
   ]
  },
  {
   "cell_type": "code",
   "execution_count": 76,
   "metadata": {},
   "outputs": [],
   "source": [
    "full_advert_open = full_mobile_df[full_mobile_df['user_id'].isin(users_advert_open)]"
   ]
  },
  {
   "cell_type": "code",
   "execution_count": 77,
   "metadata": {},
   "outputs": [
    {
     "name": "stdout",
     "output_type": "stream",
     "text": [
      "Количество уникальных пользователей:\n",
      "751\n",
      "\n",
      "Доля от общего числа пользователей\n",
      "17.49\n",
      "\n",
      "Среднее количество действий на пользователя в группе\n",
      "31.74\n",
      "Медиана по времени проведенного пользователями в приложении: \n",
      "0 days 00:07:14\n",
      "\n",
      "Среднее количество сессий на пользователя:\n",
      "3.18\n",
      "\n",
      "Конверсия в целевое действие(просмотр контактов):\n",
      "18.38\n"
     ]
    },
    {
     "data": {
      "image/png": "[encoded data removed]",
      "text/plain": [
       "<Figure size 720x360 with 2 Axes>"
      ]
     },
     "metadata": {},
     "output_type": "display_data"
    }
   ],
   "source": [
    "segment_func(full_advert_open)\n",
    "retention_func(full_advert_open)"
   ]
  },
  {
   "cell_type": "markdown",
   "metadata": {},
   "source": [
    "**Вывод:** небольшая группа - *17%* от общего количества пользователей. Здесь конверсия в целевое действие показывает неплохой результат -  *18%*. Показатель времени, проведенного в приложении, в этой группе достаточно велик - *почти 7,5 минут*, *3 сессии на пользователя* в среднем. В этой группе также совершают много действий - в среднем *32 действия на пользователя*. Зато ***Retention Rate*** в сравнении с другими группами показывает самый высокий результат - *14%*."
   ]
  },
  {
   "cell_type": "markdown",
   "metadata": {},
   "source": [
    "### 3.6. По пользователям, просмотревшим рекомендации"
   ]
  },
  {
   "cell_type": "code",
   "execution_count": 78,
   "metadata": {},
   "outputs": [],
   "source": [
    "tips_show_df = full_mobile_df.query('event_name ==\"tips_show\"')"
   ]
  },
  {
   "cell_type": "code",
   "execution_count": 79,
   "metadata": {},
   "outputs": [],
   "source": [
    "users_tips_show = tips_show_df['user_id'].unique()"
   ]
  },
  {
   "cell_type": "code",
   "execution_count": 80,
   "metadata": {},
   "outputs": [],
   "source": [
    "full_tips_show = full_mobile_df[full_mobile_df['user_id'].isin(users_tips_show)]"
   ]
  },
  {
   "cell_type": "code",
   "execution_count": 81,
   "metadata": {},
   "outputs": [
    {
     "name": "stdout",
     "output_type": "stream",
     "text": [
      "Количество уникальных пользователей:\n",
      "2801\n",
      "\n",
      "Доля от общего числа пользователей\n",
      "65.25\n",
      "\n",
      "Среднее количество действий на пользователя в группе\n",
      "20.11\n",
      "Медиана по времени проведенного пользователями в приложении: \n",
      "0 days 00:07:34.500000\n",
      "\n",
      "Среднее количество сессий на пользователя:\n",
      "2.32\n",
      "\n",
      "Конверсия в целевое действие(просмотр контактов):\n",
      "18.42\n"
     ]
    },
    {
     "data": {
      "image/png": "[encoded data removed]",
      "text/plain": [
       "<Figure size 720x360 with 2 Axes>"
      ]
     },
     "metadata": {},
     "output_type": "display_data"
    }
   ],
   "source": [
    "segment_func(full_tips_show)\n",
    "retention_func(full_tips_show)"
   ]
  },
  {
   "cell_type": "markdown",
   "metadata": {},
   "source": [
    "**Вывод**:самая большая по численности группа *65%* от общего числа пользователей. Среднее время, проведенное в приложении - *~7,5 минут*. В этой группе, несмотря на ее большую численность, небольшой показатель среднего количества действий на пользователя - *20*, это может подтвердить нашу догатдку о том, что пользователи \"зависают\" на этом шаге. Конверсия в просмотр контактов также *18%*. Однако. коэффициент удержания совсем низкий - всего *7%*, что говорит о нестабильности этой группы."
   ]
  },
  {
   "cell_type": "markdown",
   "metadata": {},
   "source": [
    "### 3.7. По пользователям, открывшим карту размещенных объявлений"
   ]
  },
  {
   "cell_type": "code",
   "execution_count": 82,
   "metadata": {},
   "outputs": [],
   "source": [
    "maps_df = full_mobile_df.query('event_name ==\"map\"')"
   ]
  },
  {
   "cell_type": "code",
   "execution_count": 83,
   "metadata": {},
   "outputs": [],
   "source": [
    "users_map = maps_df['user_id'].unique()"
   ]
  },
  {
   "cell_type": "code",
   "execution_count": 84,
   "metadata": {},
   "outputs": [],
   "source": [
    "full_maps = full_mobile_df[full_mobile_df['user_id'].isin(users_map)]"
   ]
  },
  {
   "cell_type": "code",
   "execution_count": 85,
   "metadata": {
    "scrolled": false
   },
   "outputs": [
    {
     "name": "stdout",
     "output_type": "stream",
     "text": [
      "Количество уникальных пользователей:\n",
      "1456\n",
      "\n",
      "Доля от общего числа пользователей\n",
      "33.92\n",
      "\n",
      "Среднее количество действий на пользователя в группе\n",
      "25.94\n",
      "Медиана по времени проведенного пользователями в приложении: \n",
      "0 days 00:08:40\n",
      "\n",
      "Среднее количество сессий на пользователя:\n",
      "2.66\n",
      "\n",
      "Конверсия в целевое действие(просмотр контактов):\n",
      "19.85\n"
     ]
    },
    {
     "data": {
      "image/png": "[encoded data removed]",
      "text/plain": [
       "<Figure size 720x360 with 2 Axes>"
      ]
     },
     "metadata": {},
     "output_type": "display_data"
    }
   ],
   "source": [
    "segment_func(full_maps)\n",
    "retention_func(full_maps)"
   ]
  },
  {
   "cell_type": "markdown",
   "metadata": {},
   "source": [
    "**Вывод:** эта группа тоже достаточно большая по размеру - *33%* от общего количества пользователей. В среднем пользователи проводят в приложении примерно *8,5 минут* - один из самых высоких показателей среди групп. Конверсия в целевое действие *20%* от числа пользователей в группе. Здесь, по сравнению с другими группами, достаточно неплохой результат по метрике ***Ratention Rate*** - *10%* пользователей из первой когорты (то есть начавших использовать приложение в начале изучаемого нами периода) продолжают использование и по окончании предложенного нам для исследования временного отрезка."
   ]
  },
  {
   "cell_type": "markdown",
   "metadata": {},
   "source": [
    "### 3.8. Вывод"
   ]
  },
  {
   "cell_type": "markdown",
   "metadata": {},
   "source": [
    "Мы отсортировали пользователей по *7 признакам* и по расчитанным выше метрикам рассмотрели их поведение."
   ]
  },
  {
   "cell_type": "markdown",
   "metadata": {},
   "source": [
    "Анализируя результаты расчетов групп, можно отметить следующее:\n",
    "\n",
    "*  *нужно привлекать больше пользователей с таких источников, как **Яндекс** и **Google** - эти группы показывают неплохую(по сравнению с другими группами) конверсию в просмотр контактов;*\n",
    "\n",
    "*  *группа, используящая поиск по приложению, довольно стабильна, однако следует поработать над   упрощением этой функции - сама по себе группа не очень многочислена*;\n",
    "\n",
    "*  *больше пользователей размещают объявления, нежели просматривают чужие*."
   ]
  },
  {
   "cell_type": "markdown",
   "metadata": {},
   "source": [
    "## Шаг 4. Проверка статистических гипотез"
   ]
  },
  {
   "cell_type": "markdown",
   "metadata": {},
   "source": [
    "### 4.1.  Группы *yandex_df*  и *google_df*  демонстрируют разную конверсию в просмотры контактов"
   ]
  },
  {
   "cell_type": "markdown",
   "metadata": {},
   "source": [
    "Для проверки гипотезы мы проведем **z-test**. С помощью метода ***pivot_table*** создадим таблицу **users_events_per_group**, в которой по действиям и источникам посчитаем уникальных пользователей:"
   ]
  },
  {
   "cell_type": "code",
   "execution_count": 86,
   "metadata": {},
   "outputs": [
    {
     "data": {
      "text/html": [
       "<div>\n",
       "<style scoped>\n",
       "    .dataframe tbody tr th:only-of-type {\n",
       "        vertical-align: middle;\n",
       "    }\n",
       "\n",
       "    .dataframe tbody tr th {\n",
       "        vertical-align: top;\n",
       "    }\n",
       "\n",
       "    .dataframe thead th {\n",
       "        text-align: right;\n",
       "    }\n",
       "</style>\n",
       "<table border=\"1\" class=\"dataframe\">\n",
       "  <thead>\n",
       "    <tr style=\"text-align: right;\">\n",
       "      <th>source</th>\n",
       "      <th>google</th>\n",
       "      <th>other</th>\n",
       "      <th>yandex</th>\n",
       "    </tr>\n",
       "    <tr>\n",
       "      <th>event_name</th>\n",
       "      <th></th>\n",
       "      <th></th>\n",
       "      <th></th>\n",
       "    </tr>\n",
       "  </thead>\n",
       "  <tbody>\n",
       "    <tr>\n",
       "      <td>advert_open</td>\n",
       "      <td>195</td>\n",
       "      <td>259</td>\n",
       "      <td>297</td>\n",
       "    </tr>\n",
       "    <tr>\n",
       "      <td>contacts_call</td>\n",
       "      <td>67</td>\n",
       "      <td>54</td>\n",
       "      <td>92</td>\n",
       "    </tr>\n",
       "    <tr>\n",
       "      <td>contacts_show</td>\n",
       "      <td>275</td>\n",
       "      <td>228</td>\n",
       "      <td>478</td>\n",
       "    </tr>\n",
       "    <tr>\n",
       "      <td>favorites_add</td>\n",
       "      <td>114</td>\n",
       "      <td>77</td>\n",
       "      <td>160</td>\n",
       "    </tr>\n",
       "    <tr>\n",
       "      <td>map</td>\n",
       "      <td>354</td>\n",
       "      <td>415</td>\n",
       "      <td>687</td>\n",
       "    </tr>\n",
       "    <tr>\n",
       "      <td>photos_show</td>\n",
       "      <td>363</td>\n",
       "      <td>289</td>\n",
       "      <td>443</td>\n",
       "    </tr>\n",
       "    <tr>\n",
       "      <td>search_1</td>\n",
       "      <td>305</td>\n",
       "      <td>137</td>\n",
       "      <td>345</td>\n",
       "    </tr>\n",
       "    <tr>\n",
       "      <td>search_2</td>\n",
       "      <td>67</td>\n",
       "      <td>98</td>\n",
       "      <td>77</td>\n",
       "    </tr>\n",
       "    <tr>\n",
       "      <td>search_3</td>\n",
       "      <td>55</td>\n",
       "      <td>92</td>\n",
       "      <td>61</td>\n",
       "    </tr>\n",
       "    <tr>\n",
       "      <td>search_4</td>\n",
       "      <td>108</td>\n",
       "      <td>203</td>\n",
       "      <td>163</td>\n",
       "    </tr>\n",
       "    <tr>\n",
       "      <td>search_5</td>\n",
       "      <td>137</td>\n",
       "      <td>316</td>\n",
       "      <td>210</td>\n",
       "    </tr>\n",
       "    <tr>\n",
       "      <td>search_6</td>\n",
       "      <td>68</td>\n",
       "      <td>157</td>\n",
       "      <td>105</td>\n",
       "    </tr>\n",
       "    <tr>\n",
       "      <td>search_7</td>\n",
       "      <td>18</td>\n",
       "      <td>83</td>\n",
       "      <td>56</td>\n",
       "    </tr>\n",
       "    <tr>\n",
       "      <td>tips_click</td>\n",
       "      <td>71</td>\n",
       "      <td>101</td>\n",
       "      <td>150</td>\n",
       "    </tr>\n",
       "    <tr>\n",
       "      <td>tips_show</td>\n",
       "      <td>651</td>\n",
       "      <td>840</td>\n",
       "      <td>1310</td>\n",
       "    </tr>\n",
       "  </tbody>\n",
       "</table>\n",
       "</div>"
      ],
      "text/plain": [
       "source         google  other  yandex\n",
       "event_name                          \n",
       "advert_open       195    259     297\n",
       "contacts_call      67     54      92\n",
       "contacts_show     275    228     478\n",
       "favorites_add     114     77     160\n",
       "map               354    415     687\n",
       "photos_show       363    289     443\n",
       "search_1          305    137     345\n",
       "search_2           67     98      77\n",
       "search_3           55     92      61\n",
       "search_4          108    203     163\n",
       "search_5          137    316     210\n",
       "search_6           68    157     105\n",
       "search_7           18     83      56\n",
       "tips_click         71    101     150\n",
       "tips_show         651    840    1310"
      ]
     },
     "execution_count": 86,
     "metadata": {},
     "output_type": "execute_result"
    }
   ],
   "source": [
    "users_events_per_group = full_mobile_df.pivot_table(index='event_name', \n",
    "                                                      values='user_id', \n",
    "                                                      columns='source', \n",
    "                                                      aggfunc=lambda x: x.nunique())\n",
    "users_events_per_group"
   ]
  },
  {
   "cell_type": "markdown",
   "metadata": {},
   "source": [
    "Для проверки нам нужны только группы *Google*  и *Яндекс*, поэтому удалим столбец *other* из таблицы:"
   ]
  },
  {
   "cell_type": "code",
   "execution_count": 87,
   "metadata": {},
   "outputs": [
    {
     "data": {
      "text/html": [
       "<div>\n",
       "<style scoped>\n",
       "    .dataframe tbody tr th:only-of-type {\n",
       "        vertical-align: middle;\n",
       "    }\n",
       "\n",
       "    .dataframe tbody tr th {\n",
       "        vertical-align: top;\n",
       "    }\n",
       "\n",
       "    .dataframe thead th {\n",
       "        text-align: right;\n",
       "    }\n",
       "</style>\n",
       "<table border=\"1\" class=\"dataframe\">\n",
       "  <thead>\n",
       "    <tr style=\"text-align: right;\">\n",
       "      <th>source</th>\n",
       "      <th>google</th>\n",
       "      <th>yandex</th>\n",
       "    </tr>\n",
       "    <tr>\n",
       "      <th>event_name</th>\n",
       "      <th></th>\n",
       "      <th></th>\n",
       "    </tr>\n",
       "  </thead>\n",
       "  <tbody>\n",
       "    <tr>\n",
       "      <td>advert_open</td>\n",
       "      <td>195</td>\n",
       "      <td>297</td>\n",
       "    </tr>\n",
       "    <tr>\n",
       "      <td>contacts_call</td>\n",
       "      <td>67</td>\n",
       "      <td>92</td>\n",
       "    </tr>\n",
       "    <tr>\n",
       "      <td>contacts_show</td>\n",
       "      <td>275</td>\n",
       "      <td>478</td>\n",
       "    </tr>\n",
       "    <tr>\n",
       "      <td>favorites_add</td>\n",
       "      <td>114</td>\n",
       "      <td>160</td>\n",
       "    </tr>\n",
       "    <tr>\n",
       "      <td>map</td>\n",
       "      <td>354</td>\n",
       "      <td>687</td>\n",
       "    </tr>\n",
       "    <tr>\n",
       "      <td>photos_show</td>\n",
       "      <td>363</td>\n",
       "      <td>443</td>\n",
       "    </tr>\n",
       "    <tr>\n",
       "      <td>search_1</td>\n",
       "      <td>305</td>\n",
       "      <td>345</td>\n",
       "    </tr>\n",
       "    <tr>\n",
       "      <td>search_2</td>\n",
       "      <td>67</td>\n",
       "      <td>77</td>\n",
       "    </tr>\n",
       "    <tr>\n",
       "      <td>search_3</td>\n",
       "      <td>55</td>\n",
       "      <td>61</td>\n",
       "    </tr>\n",
       "    <tr>\n",
       "      <td>search_4</td>\n",
       "      <td>108</td>\n",
       "      <td>163</td>\n",
       "    </tr>\n",
       "    <tr>\n",
       "      <td>search_5</td>\n",
       "      <td>137</td>\n",
       "      <td>210</td>\n",
       "    </tr>\n",
       "    <tr>\n",
       "      <td>search_6</td>\n",
       "      <td>68</td>\n",
       "      <td>105</td>\n",
       "    </tr>\n",
       "    <tr>\n",
       "      <td>search_7</td>\n",
       "      <td>18</td>\n",
       "      <td>56</td>\n",
       "    </tr>\n",
       "    <tr>\n",
       "      <td>tips_click</td>\n",
       "      <td>71</td>\n",
       "      <td>150</td>\n",
       "    </tr>\n",
       "    <tr>\n",
       "      <td>tips_show</td>\n",
       "      <td>651</td>\n",
       "      <td>1310</td>\n",
       "    </tr>\n",
       "  </tbody>\n",
       "</table>\n",
       "</div>"
      ],
      "text/plain": [
       "source         google  yandex\n",
       "event_name                   \n",
       "advert_open       195     297\n",
       "contacts_call      67      92\n",
       "contacts_show     275     478\n",
       "favorites_add     114     160\n",
       "map               354     687\n",
       "photos_show       363     443\n",
       "search_1          305     345\n",
       "search_2           67      77\n",
       "search_3           55      61\n",
       "search_4          108     163\n",
       "search_5          137     210\n",
       "search_6           68     105\n",
       "search_7           18      56\n",
       "tips_click         71     150\n",
       "tips_show         651    1310"
      ]
     },
     "execution_count": 87,
     "metadata": {},
     "output_type": "execute_result"
    }
   ],
   "source": [
    "users_events_per_group_fin = users_events_per_group.drop('other',1)\n",
    "users_events_per_group_fin"
   ]
  },
  {
   "cell_type": "markdown",
   "metadata": {},
   "source": [
    "Переименуем колонки и отсортируем значения по убыванию:"
   ]
  },
  {
   "cell_type": "code",
   "execution_count": 88,
   "metadata": {},
   "outputs": [
    {
     "data": {
      "text/html": [
       "<div>\n",
       "<style scoped>\n",
       "    .dataframe tbody tr th:only-of-type {\n",
       "        vertical-align: middle;\n",
       "    }\n",
       "\n",
       "    .dataframe tbody tr th {\n",
       "        vertical-align: top;\n",
       "    }\n",
       "\n",
       "    .dataframe thead th {\n",
       "        text-align: right;\n",
       "    }\n",
       "</style>\n",
       "<table border=\"1\" class=\"dataframe\">\n",
       "  <thead>\n",
       "    <tr style=\"text-align: right;\">\n",
       "      <th></th>\n",
       "      <th>google</th>\n",
       "      <th>yandex</th>\n",
       "    </tr>\n",
       "    <tr>\n",
       "      <th>event_name</th>\n",
       "      <th></th>\n",
       "      <th></th>\n",
       "    </tr>\n",
       "  </thead>\n",
       "  <tbody>\n",
       "    <tr>\n",
       "      <td>tips_show</td>\n",
       "      <td>651</td>\n",
       "      <td>1310</td>\n",
       "    </tr>\n",
       "    <tr>\n",
       "      <td>photos_show</td>\n",
       "      <td>363</td>\n",
       "      <td>443</td>\n",
       "    </tr>\n",
       "    <tr>\n",
       "      <td>map</td>\n",
       "      <td>354</td>\n",
       "      <td>687</td>\n",
       "    </tr>\n",
       "    <tr>\n",
       "      <td>search_1</td>\n",
       "      <td>305</td>\n",
       "      <td>345</td>\n",
       "    </tr>\n",
       "    <tr>\n",
       "      <td>contacts_show</td>\n",
       "      <td>275</td>\n",
       "      <td>478</td>\n",
       "    </tr>\n",
       "    <tr>\n",
       "      <td>advert_open</td>\n",
       "      <td>195</td>\n",
       "      <td>297</td>\n",
       "    </tr>\n",
       "    <tr>\n",
       "      <td>search_5</td>\n",
       "      <td>137</td>\n",
       "      <td>210</td>\n",
       "    </tr>\n",
       "    <tr>\n",
       "      <td>favorites_add</td>\n",
       "      <td>114</td>\n",
       "      <td>160</td>\n",
       "    </tr>\n",
       "    <tr>\n",
       "      <td>search_4</td>\n",
       "      <td>108</td>\n",
       "      <td>163</td>\n",
       "    </tr>\n",
       "    <tr>\n",
       "      <td>tips_click</td>\n",
       "      <td>71</td>\n",
       "      <td>150</td>\n",
       "    </tr>\n",
       "    <tr>\n",
       "      <td>search_6</td>\n",
       "      <td>68</td>\n",
       "      <td>105</td>\n",
       "    </tr>\n",
       "    <tr>\n",
       "      <td>contacts_call</td>\n",
       "      <td>67</td>\n",
       "      <td>92</td>\n",
       "    </tr>\n",
       "    <tr>\n",
       "      <td>search_2</td>\n",
       "      <td>67</td>\n",
       "      <td>77</td>\n",
       "    </tr>\n",
       "    <tr>\n",
       "      <td>search_3</td>\n",
       "      <td>55</td>\n",
       "      <td>61</td>\n",
       "    </tr>\n",
       "    <tr>\n",
       "      <td>search_7</td>\n",
       "      <td>18</td>\n",
       "      <td>56</td>\n",
       "    </tr>\n",
       "  </tbody>\n",
       "</table>\n",
       "</div>"
      ],
      "text/plain": [
       "               google  yandex\n",
       "event_name                   \n",
       "tips_show         651    1310\n",
       "photos_show       363     443\n",
       "map               354     687\n",
       "search_1          305     345\n",
       "contacts_show     275     478\n",
       "advert_open       195     297\n",
       "search_5          137     210\n",
       "favorites_add     114     160\n",
       "search_4          108     163\n",
       "tips_click         71     150\n",
       "search_6           68     105\n",
       "contacts_call      67      92\n",
       "search_2           67      77\n",
       "search_3           55      61\n",
       "search_7           18      56"
      ]
     },
     "execution_count": 88,
     "metadata": {},
     "output_type": "execute_result"
    }
   ],
   "source": [
    "users_events_per_group_fin.set_axis(['google', 'yandex'], axis='columns', inplace=True)\n",
    "users_events_per_group_fin.sort_values(by = 'google', ascending = False, inplace=True)\n",
    "users_events_per_group_fin"
   ]
  },
  {
   "cell_type": "markdown",
   "metadata": {},
   "source": [
    "Для проведения **z-test-а** сделаем массивы из столбцов *'users'* для каждой группы:"
   ]
  },
  {
   "cell_type": "markdown",
   "metadata": {},
   "source": [
    "**Нулевую гипотезу** сформулируем так:**\"Конверсии групп Google и Яндекс в просмотр контактов равны с точки зрения равенства долей\".**"
   ]
  },
  {
   "cell_type": "markdown",
   "metadata": {},
   "source": [
    "**Альтернативная гипотеза**: **\"Конверсии групп Google и Яндекс в просмотр контактов  различаются с точки зрения равенства долей\"**."
   ]
  },
  {
   "cell_type": "code",
   "execution_count": 89,
   "metadata": {
    "scrolled": true
   },
   "outputs": [
    {
     "data": {
      "text/plain": [
       "source\n",
       "google    1129\n",
       "other     1230\n",
       "yandex    1934\n",
       "Name: user_id, dtype: int64"
      ]
     },
     "execution_count": 89,
     "metadata": {},
     "output_type": "execute_result"
    }
   ],
   "source": [
    "# все пользователи aka trials\n",
    "full_mobile_df.groupby('source').user_id.nunique()"
   ]
  },
  {
   "cell_type": "code",
   "execution_count": 90,
   "metadata": {},
   "outputs": [
    {
     "data": {
      "text/plain": [
       "source\n",
       "google    275\n",
       "other     228\n",
       "yandex    478\n",
       "Name: user_id, dtype: int64"
      ]
     },
     "execution_count": 90,
     "metadata": {},
     "output_type": "execute_result"
    }
   ],
   "source": [
    "# конверсионные aka success\n",
    "full_mobile_df[full_mobile_df.event_name=='contacts_show'].groupby('source').user_id.nunique()"
   ]
  },
  {
   "cell_type": "code",
   "execution_count": 91,
   "metadata": {
    "scrolled": false
   },
   "outputs": [
    {
     "name": "stdout",
     "output_type": "stream",
     "text": [
      "successes: \n",
      "[275 478]\n",
      "trials:\n",
      "[1129 1934]\n",
      "Не получилось отвергнуть нулевую гипотезу, нет оснований считать доли разными\n"
     ]
    }
   ],
   "source": [
    "alpha = .05 # критический уровень статистической значимости\n",
    "\n",
    "\n",
    "        \n",
    "successes = np.array([275, 478])\n",
    "trials = np.array([1129, 1934]) \n",
    "        \n",
    "print(\"successes: \")\n",
    "print(successes)\n",
    "\n",
    "print(\"trials:\")\n",
    "print(trials)\n",
    "\n",
    "# пропорция успехов в первой группе:\n",
    "p1 = successes[0]/trials[0]\n",
    "\n",
    "# пропорция успехов во второй группе:\n",
    "p2 = successes[1]/trials[1]\n",
    "\n",
    "# пропорция успехов в комбинированном датасете:\n",
    "p_combined = (successes[0] + successes[1]) / (trials[0] + trials[1])\n",
    "\n",
    "# разница пропорций в датасетах\n",
    "difference = p1 - p2 \n",
    "\n",
    "# считаем статистику в ст.отклонениях стандартного нормального распределения\n",
    "z_value = difference / mth.sqrt(p_combined * (1 - p_combined) * (1/trials[0] + 1/trials[1]))\n",
    "\n",
    "# задаем стандартное нормальное распределение (среднее 0, ст.отклонение 1)\n",
    "distr = st.norm(0, 1)  \n",
    "\n",
    "# считаем статистику в ст.отклонениях стандартного нормального распределения\n",
    "z_value = difference / mth.sqrt(p_combined * (1 - p_combined) * (1/trials[0] + 1/trials[1]))\n",
    "\n",
    "# задаем стандартное нормальное распределение (среднее 0, ст.отклонение 1)\n",
    "distr = st.norm(0, 1) \n",
    "\n",
    "p_value = (1 - distr.cdf(abs(z_value))) * 2\n",
    "\n",
    "if (p_value < alpha):\n",
    "    print(\"Отвергаем нулевую гипотезу: между долями есть значимая разница\")\n",
    "else:\n",
    "    print(\"Не получилось отвергнуть нулевую гипотезу, нет оснований считать доли разными\") \n",
    "        \n"
   ]
  },
  {
   "cell_type": "markdown",
   "metadata": {},
   "source": [
    "**Вывод**: с помощью **z-test-a** мы  приняли нулевую гипотезу и сделали вывод, что *конверсии групп Google и Яндекс в просмотр контактов не различаются*."
   ]
  },
  {
   "cell_type": "markdown",
   "metadata": {},
   "source": [
    "### 4.2. Среднее время,  проведенное в приложении, у групп пользователей ,совершивших целевое действие(просмотр контактов) и не совершивших его, различается"
   ]
  },
  {
   "cell_type": "markdown",
   "metadata": {},
   "source": [
    "Подготовим данные для проверки гипотезы."
   ]
  },
  {
   "cell_type": "markdown",
   "metadata": {},
   "source": [
    "Отфильтруем таблицы по поьзователям, которые совершали целевое действие (**full_contacts_show**) и не совершали (**not_contacts_show**). Преобразуем тип данных столбца *active_session* в *integer* - этот тип данных нужен нам для применения **t-test-a**:"
   ]
  },
  {
   "cell_type": "code",
   "execution_count": 92,
   "metadata": {},
   "outputs": [],
   "source": [
    "full_mobile_df['active_session'] = full_mobile_df['active_session'].astype('timedelta64[m]')"
   ]
  },
  {
   "cell_type": "code",
   "execution_count": 93,
   "metadata": {},
   "outputs": [
    {
     "name": "stderr",
     "output_type": "stream",
     "text": [
      "/opt/conda/lib/python3.7/site-packages/ipykernel_launcher.py:5: SettingWithCopyWarning:\n",
      "\n",
      "\n",
      "A value is trying to be set on a copy of a slice from a DataFrame.\n",
      "Try using .loc[row_indexer,col_indexer] = value instead\n",
      "\n",
      "See the caveats in the documentation: http://pandas.pydata.org/pandas-docs/stable/user_guide/indexing.html#returning-a-view-versus-a-copy\n",
      "\n"
     ]
    },
    {
     "data": {
      "text/html": [
       "<div>\n",
       "<style scoped>\n",
       "    .dataframe tbody tr th:only-of-type {\n",
       "        vertical-align: middle;\n",
       "    }\n",
       "\n",
       "    .dataframe tbody tr th {\n",
       "        vertical-align: top;\n",
       "    }\n",
       "\n",
       "    .dataframe thead th {\n",
       "        text-align: right;\n",
       "    }\n",
       "</style>\n",
       "<table border=\"1\" class=\"dataframe\">\n",
       "  <thead>\n",
       "    <tr style=\"text-align: right;\">\n",
       "      <th></th>\n",
       "      <th>event_time</th>\n",
       "      <th>event_name</th>\n",
       "      <th>user_id</th>\n",
       "      <th>event_time_sec</th>\n",
       "      <th>source</th>\n",
       "      <th>first_activity_date</th>\n",
       "      <th>activity_week</th>\n",
       "      <th>first_activity_week</th>\n",
       "      <th>cohort_lifetime</th>\n",
       "      <th>pre_action_time</th>\n",
       "      <th>active_session</th>\n",
       "      <th>session_num</th>\n",
       "    </tr>\n",
       "  </thead>\n",
       "  <tbody>\n",
       "    <tr>\n",
       "      <td>121</td>\n",
       "      <td>2019-10-07 00:02:07.374346</td>\n",
       "      <td>tips_show</td>\n",
       "      <td>8c356c42-3ba9-4cb6-80b8-3f868d0192c3</td>\n",
       "      <td>2019-10-07 00:02:07</td>\n",
       "      <td>yandex</td>\n",
       "      <td>2019-10-07 00:02:07</td>\n",
       "      <td>2019-10-03</td>\n",
       "      <td>2019-10-03</td>\n",
       "      <td>0</td>\n",
       "      <td>NaT</td>\n",
       "      <td>0</td>\n",
       "      <td>1.0</td>\n",
       "    </tr>\n",
       "    <tr>\n",
       "      <td>122</td>\n",
       "      <td>2019-10-07 00:05:16.003328</td>\n",
       "      <td>contacts_show</td>\n",
       "      <td>8c356c42-3ba9-4cb6-80b8-3f868d0192c3</td>\n",
       "      <td>2019-10-07 00:05:16</td>\n",
       "      <td>yandex</td>\n",
       "      <td>2019-10-07 00:02:07</td>\n",
       "      <td>2019-10-03</td>\n",
       "      <td>2019-10-03</td>\n",
       "      <td>0</td>\n",
       "      <td>2019-10-07 00:02:07</td>\n",
       "      <td>180000000000</td>\n",
       "      <td>1.0</td>\n",
       "    </tr>\n",
       "    <tr>\n",
       "      <td>123</td>\n",
       "      <td>2019-10-07 00:06:01.349291</td>\n",
       "      <td>tips_show</td>\n",
       "      <td>8c356c42-3ba9-4cb6-80b8-3f868d0192c3</td>\n",
       "      <td>2019-10-07 00:06:01</td>\n",
       "      <td>yandex</td>\n",
       "      <td>2019-10-07 00:02:07</td>\n",
       "      <td>2019-10-03</td>\n",
       "      <td>2019-10-03</td>\n",
       "      <td>0</td>\n",
       "      <td>2019-10-07 00:05:16</td>\n",
       "      <td>0</td>\n",
       "      <td>1.0</td>\n",
       "    </tr>\n",
       "    <tr>\n",
       "      <td>124</td>\n",
       "      <td>2019-10-07 00:06:56.367054</td>\n",
       "      <td>tips_show</td>\n",
       "      <td>8c356c42-3ba9-4cb6-80b8-3f868d0192c3</td>\n",
       "      <td>2019-10-07 00:06:56</td>\n",
       "      <td>yandex</td>\n",
       "      <td>2019-10-07 00:02:07</td>\n",
       "      <td>2019-10-03</td>\n",
       "      <td>2019-10-03</td>\n",
       "      <td>0</td>\n",
       "      <td>2019-10-07 00:06:01</td>\n",
       "      <td>0</td>\n",
       "      <td>1.0</td>\n",
       "    </tr>\n",
       "    <tr>\n",
       "      <td>125</td>\n",
       "      <td>2019-10-07 00:09:24.585200</td>\n",
       "      <td>tips_show</td>\n",
       "      <td>8c356c42-3ba9-4cb6-80b8-3f868d0192c3</td>\n",
       "      <td>2019-10-07 00:09:24</td>\n",
       "      <td>yandex</td>\n",
       "      <td>2019-10-07 00:02:07</td>\n",
       "      <td>2019-10-03</td>\n",
       "      <td>2019-10-03</td>\n",
       "      <td>0</td>\n",
       "      <td>2019-10-07 00:06:56</td>\n",
       "      <td>120000000000</td>\n",
       "      <td>1.0</td>\n",
       "    </tr>\n",
       "    <tr>\n",
       "      <td>...</td>\n",
       "      <td>...</td>\n",
       "      <td>...</td>\n",
       "      <td>...</td>\n",
       "      <td>...</td>\n",
       "      <td>...</td>\n",
       "      <td>...</td>\n",
       "      <td>...</td>\n",
       "      <td>...</td>\n",
       "      <td>...</td>\n",
       "      <td>...</td>\n",
       "      <td>...</td>\n",
       "      <td>...</td>\n",
       "    </tr>\n",
       "    <tr>\n",
       "      <td>74187</td>\n",
       "      <td>2019-11-03 23:46:31.298524</td>\n",
       "      <td>contacts_show</td>\n",
       "      <td>c10055f0-0b47-477a-869e-d391b31fdf8f</td>\n",
       "      <td>2019-11-03 23:46:31</td>\n",
       "      <td>yandex</td>\n",
       "      <td>2019-11-03 23:46:31</td>\n",
       "      <td>2019-10-31</td>\n",
       "      <td>2019-10-31</td>\n",
       "      <td>0</td>\n",
       "      <td>NaT</td>\n",
       "      <td>0</td>\n",
       "      <td>1.0</td>\n",
       "    </tr>\n",
       "    <tr>\n",
       "      <td>74188</td>\n",
       "      <td>2019-11-03 23:48:47.344430</td>\n",
       "      <td>tips_click</td>\n",
       "      <td>c10055f0-0b47-477a-869e-d391b31fdf8f</td>\n",
       "      <td>2019-11-03 23:48:47</td>\n",
       "      <td>yandex</td>\n",
       "      <td>2019-11-03 23:46:31</td>\n",
       "      <td>2019-10-31</td>\n",
       "      <td>2019-10-31</td>\n",
       "      <td>0</td>\n",
       "      <td>2019-11-03 23:46:31</td>\n",
       "      <td>120000000000</td>\n",
       "      <td>1.0</td>\n",
       "    </tr>\n",
       "    <tr>\n",
       "      <td>74189</td>\n",
       "      <td>2019-11-03 23:50:05.753036</td>\n",
       "      <td>tips_click</td>\n",
       "      <td>c10055f0-0b47-477a-869e-d391b31fdf8f</td>\n",
       "      <td>2019-11-03 23:50:05</td>\n",
       "      <td>yandex</td>\n",
       "      <td>2019-11-03 23:46:31</td>\n",
       "      <td>2019-10-31</td>\n",
       "      <td>2019-10-31</td>\n",
       "      <td>0</td>\n",
       "      <td>2019-11-03 23:48:47</td>\n",
       "      <td>60000000000</td>\n",
       "      <td>1.0</td>\n",
       "    </tr>\n",
       "    <tr>\n",
       "      <td>74190</td>\n",
       "      <td>2019-11-03 23:51:08.879296</td>\n",
       "      <td>tips_click</td>\n",
       "      <td>c10055f0-0b47-477a-869e-d391b31fdf8f</td>\n",
       "      <td>2019-11-03 23:51:08</td>\n",
       "      <td>yandex</td>\n",
       "      <td>2019-11-03 23:46:31</td>\n",
       "      <td>2019-10-31</td>\n",
       "      <td>2019-10-31</td>\n",
       "      <td>0</td>\n",
       "      <td>2019-11-03 23:50:05</td>\n",
       "      <td>60000000000</td>\n",
       "      <td>1.0</td>\n",
       "    </tr>\n",
       "    <tr>\n",
       "      <td>74191</td>\n",
       "      <td>2019-11-03 23:52:01.835490</td>\n",
       "      <td>tips_click</td>\n",
       "      <td>c10055f0-0b47-477a-869e-d391b31fdf8f</td>\n",
       "      <td>2019-11-03 23:52:01</td>\n",
       "      <td>yandex</td>\n",
       "      <td>2019-11-03 23:46:31</td>\n",
       "      <td>2019-10-31</td>\n",
       "      <td>2019-10-31</td>\n",
       "      <td>0</td>\n",
       "      <td>2019-11-03 23:51:08</td>\n",
       "      <td>0</td>\n",
       "      <td>1.0</td>\n",
       "    </tr>\n",
       "  </tbody>\n",
       "</table>\n",
       "<p>27197 rows × 12 columns</p>\n",
       "</div>"
      ],
      "text/plain": [
       "                      event_time     event_name  \\\n",
       "121   2019-10-07 00:02:07.374346      tips_show   \n",
       "122   2019-10-07 00:05:16.003328  contacts_show   \n",
       "123   2019-10-07 00:06:01.349291      tips_show   \n",
       "124   2019-10-07 00:06:56.367054      tips_show   \n",
       "125   2019-10-07 00:09:24.585200      tips_show   \n",
       "...                          ...            ...   \n",
       "74187 2019-11-03 23:46:31.298524  contacts_show   \n",
       "74188 2019-11-03 23:48:47.344430     tips_click   \n",
       "74189 2019-11-03 23:50:05.753036     tips_click   \n",
       "74190 2019-11-03 23:51:08.879296     tips_click   \n",
       "74191 2019-11-03 23:52:01.835490     tips_click   \n",
       "\n",
       "                                    user_id      event_time_sec  source  \\\n",
       "121    8c356c42-3ba9-4cb6-80b8-3f868d0192c3 2019-10-07 00:02:07  yandex   \n",
       "122    8c356c42-3ba9-4cb6-80b8-3f868d0192c3 2019-10-07 00:05:16  yandex   \n",
       "123    8c356c42-3ba9-4cb6-80b8-3f868d0192c3 2019-10-07 00:06:01  yandex   \n",
       "124    8c356c42-3ba9-4cb6-80b8-3f868d0192c3 2019-10-07 00:06:56  yandex   \n",
       "125    8c356c42-3ba9-4cb6-80b8-3f868d0192c3 2019-10-07 00:09:24  yandex   \n",
       "...                                     ...                 ...     ...   \n",
       "74187  c10055f0-0b47-477a-869e-d391b31fdf8f 2019-11-03 23:46:31  yandex   \n",
       "74188  c10055f0-0b47-477a-869e-d391b31fdf8f 2019-11-03 23:48:47  yandex   \n",
       "74189  c10055f0-0b47-477a-869e-d391b31fdf8f 2019-11-03 23:50:05  yandex   \n",
       "74190  c10055f0-0b47-477a-869e-d391b31fdf8f 2019-11-03 23:51:08  yandex   \n",
       "74191  c10055f0-0b47-477a-869e-d391b31fdf8f 2019-11-03 23:52:01  yandex   \n",
       "\n",
       "      first_activity_date activity_week first_activity_week  cohort_lifetime  \\\n",
       "121   2019-10-07 00:02:07    2019-10-03          2019-10-03                0   \n",
       "122   2019-10-07 00:02:07    2019-10-03          2019-10-03                0   \n",
       "123   2019-10-07 00:02:07    2019-10-03          2019-10-03                0   \n",
       "124   2019-10-07 00:02:07    2019-10-03          2019-10-03                0   \n",
       "125   2019-10-07 00:02:07    2019-10-03          2019-10-03                0   \n",
       "...                   ...           ...                 ...              ...   \n",
       "74187 2019-11-03 23:46:31    2019-10-31          2019-10-31                0   \n",
       "74188 2019-11-03 23:46:31    2019-10-31          2019-10-31                0   \n",
       "74189 2019-11-03 23:46:31    2019-10-31          2019-10-31                0   \n",
       "74190 2019-11-03 23:46:31    2019-10-31          2019-10-31                0   \n",
       "74191 2019-11-03 23:46:31    2019-10-31          2019-10-31                0   \n",
       "\n",
       "          pre_action_time  active_session  session_num  \n",
       "121                   NaT               0          1.0  \n",
       "122   2019-10-07 00:02:07    180000000000          1.0  \n",
       "123   2019-10-07 00:05:16               0          1.0  \n",
       "124   2019-10-07 00:06:01               0          1.0  \n",
       "125   2019-10-07 00:06:56    120000000000          1.0  \n",
       "...                   ...             ...          ...  \n",
       "74187                 NaT               0          1.0  \n",
       "74188 2019-11-03 23:46:31    120000000000          1.0  \n",
       "74189 2019-11-03 23:48:47     60000000000          1.0  \n",
       "74190 2019-11-03 23:50:05     60000000000          1.0  \n",
       "74191 2019-11-03 23:51:08               0          1.0  \n",
       "\n",
       "[27197 rows x 12 columns]"
      ]
     },
     "execution_count": 93,
     "metadata": {},
     "output_type": "execute_result"
    }
   ],
   "source": [
    "contacts_show_df = full_mobile_df.query('event_name == \"contacts_show\"') \n",
    "users_contacts_show = contacts_show_df['user_id'].unique()\n",
    "full_contacts_show = full_mobile_df[full_mobile_df['user_id'].isin(users_contacts_show)]\n",
    "\n",
    "full_contacts_show['active_session'] = full_contacts_show['active_session'].astype('int')\n",
    "    \n",
    "full_contacts_show"
   ]
  },
  {
   "cell_type": "code",
   "execution_count": 94,
   "metadata": {},
   "outputs": [
    {
     "name": "stdout",
     "output_type": "stream",
     "text": [
      "<class 'pandas.core.frame.DataFrame'>\n",
      "Int64Index: 27197 entries, 121 to 74191\n",
      "Data columns (total 12 columns):\n",
      "event_time             27197 non-null datetime64[ns]\n",
      "event_name             27197 non-null object\n",
      "user_id                27197 non-null object\n",
      "event_time_sec         27197 non-null datetime64[ns]\n",
      "source                 27197 non-null object\n",
      "first_activity_date    27197 non-null datetime64[ns]\n",
      "activity_week          27197 non-null datetime64[ns]\n",
      "first_activity_week    27197 non-null datetime64[ns]\n",
      "cohort_lifetime        27197 non-null int64\n",
      "pre_action_time        26216 non-null datetime64[ns]\n",
      "active_session         27197 non-null int64\n",
      "session_num            27197 non-null float64\n",
      "dtypes: datetime64[ns](6), float64(1), int64(2), object(3)\n",
      "memory usage: 2.7+ MB\n"
     ]
    }
   ],
   "source": [
    "full_contacts_show.info()"
   ]
  },
  {
   "cell_type": "code",
   "execution_count": 95,
   "metadata": {},
   "outputs": [
    {
     "name": "stderr",
     "output_type": "stream",
     "text": [
      "/opt/conda/lib/python3.7/site-packages/ipykernel_launcher.py:2: SettingWithCopyWarning:\n",
      "\n",
      "\n",
      "A value is trying to be set on a copy of a slice from a DataFrame.\n",
      "Try using .loc[row_indexer,col_indexer] = value instead\n",
      "\n",
      "See the caveats in the documentation: http://pandas.pydata.org/pandas-docs/stable/user_guide/indexing.html#returning-a-view-versus-a-copy\n",
      "\n"
     ]
    },
    {
     "data": {
      "text/html": [
       "<div>\n",
       "<style scoped>\n",
       "    .dataframe tbody tr th:only-of-type {\n",
       "        vertical-align: middle;\n",
       "    }\n",
       "\n",
       "    .dataframe tbody tr th {\n",
       "        vertical-align: top;\n",
       "    }\n",
       "\n",
       "    .dataframe thead th {\n",
       "        text-align: right;\n",
       "    }\n",
       "</style>\n",
       "<table border=\"1\" class=\"dataframe\">\n",
       "  <thead>\n",
       "    <tr style=\"text-align: right;\">\n",
       "      <th></th>\n",
       "      <th>event_time</th>\n",
       "      <th>event_name</th>\n",
       "      <th>user_id</th>\n",
       "      <th>event_time_sec</th>\n",
       "      <th>source</th>\n",
       "      <th>first_activity_date</th>\n",
       "      <th>activity_week</th>\n",
       "      <th>first_activity_week</th>\n",
       "      <th>cohort_lifetime</th>\n",
       "      <th>pre_action_time</th>\n",
       "      <th>active_session</th>\n",
       "      <th>session_num</th>\n",
       "    </tr>\n",
       "  </thead>\n",
       "  <tbody>\n",
       "    <tr>\n",
       "      <td>0</td>\n",
       "      <td>2019-10-07 00:00:00.431357</td>\n",
       "      <td>advert_open</td>\n",
       "      <td>020292ab-89bc-4156-9acf-68bc2783f894</td>\n",
       "      <td>2019-10-07 00:00:00</td>\n",
       "      <td>other</td>\n",
       "      <td>2019-10-07 00:00:00</td>\n",
       "      <td>2019-10-03</td>\n",
       "      <td>2019-10-03</td>\n",
       "      <td>0</td>\n",
       "      <td>NaT</td>\n",
       "      <td>0</td>\n",
       "      <td>1.0</td>\n",
       "    </tr>\n",
       "    <tr>\n",
       "      <td>1</td>\n",
       "      <td>2019-10-07 00:00:01.236320</td>\n",
       "      <td>tips_show</td>\n",
       "      <td>020292ab-89bc-4156-9acf-68bc2783f894</td>\n",
       "      <td>2019-10-07 00:00:01</td>\n",
       "      <td>other</td>\n",
       "      <td>2019-10-07 00:00:00</td>\n",
       "      <td>2019-10-03</td>\n",
       "      <td>2019-10-03</td>\n",
       "      <td>0</td>\n",
       "      <td>2019-10-07 00:00:00</td>\n",
       "      <td>0</td>\n",
       "      <td>1.0</td>\n",
       "    </tr>\n",
       "    <tr>\n",
       "      <td>2</td>\n",
       "      <td>2019-10-07 00:00:07.039334</td>\n",
       "      <td>tips_show</td>\n",
       "      <td>020292ab-89bc-4156-9acf-68bc2783f894</td>\n",
       "      <td>2019-10-07 00:00:07</td>\n",
       "      <td>other</td>\n",
       "      <td>2019-10-07 00:00:00</td>\n",
       "      <td>2019-10-03</td>\n",
       "      <td>2019-10-03</td>\n",
       "      <td>0</td>\n",
       "      <td>2019-10-07 00:00:01</td>\n",
       "      <td>0</td>\n",
       "      <td>1.0</td>\n",
       "    </tr>\n",
       "    <tr>\n",
       "      <td>3</td>\n",
       "      <td>2019-10-07 00:01:27.770232</td>\n",
       "      <td>advert_open</td>\n",
       "      <td>020292ab-89bc-4156-9acf-68bc2783f894</td>\n",
       "      <td>2019-10-07 00:01:27</td>\n",
       "      <td>other</td>\n",
       "      <td>2019-10-07 00:00:00</td>\n",
       "      <td>2019-10-03</td>\n",
       "      <td>2019-10-03</td>\n",
       "      <td>0</td>\n",
       "      <td>2019-10-07 00:00:07</td>\n",
       "      <td>60000000000</td>\n",
       "      <td>1.0</td>\n",
       "    </tr>\n",
       "    <tr>\n",
       "      <td>4</td>\n",
       "      <td>2019-10-07 00:01:34.804591</td>\n",
       "      <td>tips_show</td>\n",
       "      <td>020292ab-89bc-4156-9acf-68bc2783f894</td>\n",
       "      <td>2019-10-07 00:01:34</td>\n",
       "      <td>other</td>\n",
       "      <td>2019-10-07 00:00:00</td>\n",
       "      <td>2019-10-03</td>\n",
       "      <td>2019-10-03</td>\n",
       "      <td>0</td>\n",
       "      <td>2019-10-07 00:01:27</td>\n",
       "      <td>0</td>\n",
       "      <td>1.0</td>\n",
       "    </tr>\n",
       "    <tr>\n",
       "      <td>...</td>\n",
       "      <td>...</td>\n",
       "      <td>...</td>\n",
       "      <td>...</td>\n",
       "      <td>...</td>\n",
       "      <td>...</td>\n",
       "      <td>...</td>\n",
       "      <td>...</td>\n",
       "      <td>...</td>\n",
       "      <td>...</td>\n",
       "      <td>...</td>\n",
       "      <td>...</td>\n",
       "      <td>...</td>\n",
       "    </tr>\n",
       "    <tr>\n",
       "      <td>74192</td>\n",
       "      <td>2019-11-03 23:46:47.068179</td>\n",
       "      <td>map</td>\n",
       "      <td>d157bffc-264d-4464-8220-1cc0c42f43a9</td>\n",
       "      <td>2019-11-03 23:46:47</td>\n",
       "      <td>google</td>\n",
       "      <td>2019-11-03 23:46:47</td>\n",
       "      <td>2019-10-31</td>\n",
       "      <td>2019-10-31</td>\n",
       "      <td>0</td>\n",
       "      <td>NaT</td>\n",
       "      <td>0</td>\n",
       "      <td>1.0</td>\n",
       "    </tr>\n",
       "    <tr>\n",
       "      <td>74193</td>\n",
       "      <td>2019-11-03 23:46:58.914787</td>\n",
       "      <td>advert_open</td>\n",
       "      <td>d157bffc-264d-4464-8220-1cc0c42f43a9</td>\n",
       "      <td>2019-11-03 23:46:58</td>\n",
       "      <td>google</td>\n",
       "      <td>2019-11-03 23:46:47</td>\n",
       "      <td>2019-10-31</td>\n",
       "      <td>2019-10-31</td>\n",
       "      <td>0</td>\n",
       "      <td>2019-11-03 23:46:47</td>\n",
       "      <td>0</td>\n",
       "      <td>1.0</td>\n",
       "    </tr>\n",
       "    <tr>\n",
       "      <td>74194</td>\n",
       "      <td>2019-11-03 23:47:01.232230</td>\n",
       "      <td>tips_show</td>\n",
       "      <td>d157bffc-264d-4464-8220-1cc0c42f43a9</td>\n",
       "      <td>2019-11-03 23:47:01</td>\n",
       "      <td>google</td>\n",
       "      <td>2019-11-03 23:46:47</td>\n",
       "      <td>2019-10-31</td>\n",
       "      <td>2019-10-31</td>\n",
       "      <td>0</td>\n",
       "      <td>2019-11-03 23:46:58</td>\n",
       "      <td>0</td>\n",
       "      <td>1.0</td>\n",
       "    </tr>\n",
       "    <tr>\n",
       "      <td>74195</td>\n",
       "      <td>2019-11-03 23:47:47.475102</td>\n",
       "      <td>advert_open</td>\n",
       "      <td>d157bffc-264d-4464-8220-1cc0c42f43a9</td>\n",
       "      <td>2019-11-03 23:47:47</td>\n",
       "      <td>google</td>\n",
       "      <td>2019-11-03 23:46:47</td>\n",
       "      <td>2019-10-31</td>\n",
       "      <td>2019-10-31</td>\n",
       "      <td>0</td>\n",
       "      <td>2019-11-03 23:47:01</td>\n",
       "      <td>0</td>\n",
       "      <td>1.0</td>\n",
       "    </tr>\n",
       "    <tr>\n",
       "      <td>74196</td>\n",
       "      <td>2019-11-03 23:47:50.087645</td>\n",
       "      <td>tips_show</td>\n",
       "      <td>d157bffc-264d-4464-8220-1cc0c42f43a9</td>\n",
       "      <td>2019-11-03 23:47:50</td>\n",
       "      <td>google</td>\n",
       "      <td>2019-11-03 23:46:47</td>\n",
       "      <td>2019-10-31</td>\n",
       "      <td>2019-10-31</td>\n",
       "      <td>0</td>\n",
       "      <td>2019-11-03 23:47:47</td>\n",
       "      <td>0</td>\n",
       "      <td>1.0</td>\n",
       "    </tr>\n",
       "  </tbody>\n",
       "</table>\n",
       "<p>47000 rows × 12 columns</p>\n",
       "</div>"
      ],
      "text/plain": [
       "                      event_time   event_name  \\\n",
       "0     2019-10-07 00:00:00.431357  advert_open   \n",
       "1     2019-10-07 00:00:01.236320    tips_show   \n",
       "2     2019-10-07 00:00:07.039334    tips_show   \n",
       "3     2019-10-07 00:01:27.770232  advert_open   \n",
       "4     2019-10-07 00:01:34.804591    tips_show   \n",
       "...                          ...          ...   \n",
       "74192 2019-11-03 23:46:47.068179          map   \n",
       "74193 2019-11-03 23:46:58.914787  advert_open   \n",
       "74194 2019-11-03 23:47:01.232230    tips_show   \n",
       "74195 2019-11-03 23:47:47.475102  advert_open   \n",
       "74196 2019-11-03 23:47:50.087645    tips_show   \n",
       "\n",
       "                                    user_id      event_time_sec  source  \\\n",
       "0      020292ab-89bc-4156-9acf-68bc2783f894 2019-10-07 00:00:00   other   \n",
       "1      020292ab-89bc-4156-9acf-68bc2783f894 2019-10-07 00:00:01   other   \n",
       "2      020292ab-89bc-4156-9acf-68bc2783f894 2019-10-07 00:00:07   other   \n",
       "3      020292ab-89bc-4156-9acf-68bc2783f894 2019-10-07 00:01:27   other   \n",
       "4      020292ab-89bc-4156-9acf-68bc2783f894 2019-10-07 00:01:34   other   \n",
       "...                                     ...                 ...     ...   \n",
       "74192  d157bffc-264d-4464-8220-1cc0c42f43a9 2019-11-03 23:46:47  google   \n",
       "74193  d157bffc-264d-4464-8220-1cc0c42f43a9 2019-11-03 23:46:58  google   \n",
       "74194  d157bffc-264d-4464-8220-1cc0c42f43a9 2019-11-03 23:47:01  google   \n",
       "74195  d157bffc-264d-4464-8220-1cc0c42f43a9 2019-11-03 23:47:47  google   \n",
       "74196  d157bffc-264d-4464-8220-1cc0c42f43a9 2019-11-03 23:47:50  google   \n",
       "\n",
       "      first_activity_date activity_week first_activity_week  cohort_lifetime  \\\n",
       "0     2019-10-07 00:00:00    2019-10-03          2019-10-03                0   \n",
       "1     2019-10-07 00:00:00    2019-10-03          2019-10-03                0   \n",
       "2     2019-10-07 00:00:00    2019-10-03          2019-10-03                0   \n",
       "3     2019-10-07 00:00:00    2019-10-03          2019-10-03                0   \n",
       "4     2019-10-07 00:00:00    2019-10-03          2019-10-03                0   \n",
       "...                   ...           ...                 ...              ...   \n",
       "74192 2019-11-03 23:46:47    2019-10-31          2019-10-31                0   \n",
       "74193 2019-11-03 23:46:47    2019-10-31          2019-10-31                0   \n",
       "74194 2019-11-03 23:46:47    2019-10-31          2019-10-31                0   \n",
       "74195 2019-11-03 23:46:47    2019-10-31          2019-10-31                0   \n",
       "74196 2019-11-03 23:46:47    2019-10-31          2019-10-31                0   \n",
       "\n",
       "          pre_action_time  active_session  session_num  \n",
       "0                     NaT               0          1.0  \n",
       "1     2019-10-07 00:00:00               0          1.0  \n",
       "2     2019-10-07 00:00:01               0          1.0  \n",
       "3     2019-10-07 00:00:07     60000000000          1.0  \n",
       "4     2019-10-07 00:01:27               0          1.0  \n",
       "...                   ...             ...          ...  \n",
       "74192                 NaT               0          1.0  \n",
       "74193 2019-11-03 23:46:47               0          1.0  \n",
       "74194 2019-11-03 23:46:58               0          1.0  \n",
       "74195 2019-11-03 23:47:01               0          1.0  \n",
       "74196 2019-11-03 23:47:47               0          1.0  \n",
       "\n",
       "[47000 rows x 12 columns]"
      ]
     },
     "execution_count": 95,
     "metadata": {},
     "output_type": "execute_result"
    }
   ],
   "source": [
    "not_contacts_show = full_mobile_df[~full_mobile_df['user_id'].isin(users_contacts_show)]\n",
    "not_contacts_show['active_session'] = not_contacts_show['active_session'].astype('int')    \n",
    "not_contacts_show"
   ]
  },
  {
   "cell_type": "markdown",
   "metadata": {},
   "source": [
    "Сформулируем гипотезы:"
   ]
  },
  {
   "cell_type": "markdown",
   "metadata": {},
   "source": [
    "**Н0**: \"Среднее время, проведенное в приложении, у групп пользователей ,совершивших целевое действие(просмотр контактов) и не совершивших его, равно\"."
   ]
  },
  {
   "cell_type": "markdown",
   "metadata": {},
   "source": [
    "**Н1**: \"Среднее время, проведенное в приложении, у групп пользователей ,совершивших целевое действие(просмотр контактов) и не совершивших его, различается\"."
   ]
  },
  {
   "cell_type": "markdown",
   "metadata": {},
   "source": [
    "Проведем **t-test**:"
   ]
  },
  {
   "cell_type": "code",
   "execution_count": 96,
   "metadata": {},
   "outputs": [
    {
     "name": "stdout",
     "output_type": "stream",
     "text": [
      "p-значение: 2.3708249887152037e-24\n",
      "Отвергаем нулевую гипотезу\n"
     ]
    }
   ],
   "source": [
    "alpha = .05\n",
    "\n",
    "results = st.ttest_ind(\n",
    "    full_contacts_show['active_session'], \n",
    "    not_contacts_show['active_session'])\n",
    "\n",
    "print('p-значение:', results.pvalue)\n",
    "\n",
    "if results.pvalue < alpha:\n",
    "    print(\"Отвергаем нулевую гипотезу\")\n",
    "else:\n",
    "    print(\"Не получилось отвергнуть нулевую гипотезу\") "
   ]
  },
  {
   "cell_type": "markdown",
   "metadata": {},
   "source": [
    "**Вывод**: по результатам проверки мы отвергаем нулевую гипотезу и делаем предположение, что среднее время, проведенное в приложении, у групп пользователей ,совершивших целевое действие(просмотр контактов) и не совершивших его, различается."
   ]
  },
  {
   "cell_type": "markdown",
   "metadata": {},
   "source": [
    "### 4.3. Вывод"
   ]
  },
  {
   "cell_type": "markdown",
   "metadata": {},
   "source": [
    "Гипотезу о различии конверсий у групп пользователей, пришедших с *Google* и *Яндекс*, мы проверяли с помощью **z-test-a**.  Из 14 проверок 10 выявили между долями значимую разницу. Мы отвергаем нулевую гипотезу и делаем вывод, что *конверсии групп Google и Яндекс в просмотр контактов различаются*"
   ]
  },
  {
   "cell_type": "markdown",
   "metadata": {},
   "source": [
    "Также мы сформулировали гипотезу о различии среднего времени, проведенном в приложении, у групп пользователей ,совершивших целевое действие(просмотр контактов) и не совершивших его. Эту гипотезу мы проверяли с помощью **t-test-a**. По результатам проверки мы отвергли нулевую гипотезу и сделали предположение, что среднее время, проведенное в приложении, у групп пользователей ,совершивших целевое действие(просмотр контактов) и не совершивших его, различается."
   ]
  },
  {
   "cell_type": "markdown",
   "metadata": {},
   "source": [
    "## Шаг 5. Общие выводы и рекомендации"
   ]
  },
  {
   "cell_type": "markdown",
   "metadata": {},
   "source": [
    "### 5.1. Выводы"
   ]
  },
  {
   "cell_type": "markdown",
   "metadata": {},
   "source": [
    "Мы выгрузили два датафрейма. Первый - **mobile_df** - содержит данные о идентификаторах пользователей, времени совершения событий и типе событий. Второй - **source_df** - также содержит данные об идентификаторах пользователей и об источниках, с которых пользователи устанавливают приложение."
   ]
  },
  {
   "cell_type": "markdown",
   "metadata": {},
   "source": [
    "Мы проверили таблицы на пропуски и дубликаты - данные оказались чистыми. Мы объединили две таблицы в одну - **full_mobile_df** - и также проверили ее на дубликаты (не обнаружили). С помощью гистограммы мы удостоверились, что обладаем данными за период с **7 октября** по **3 ноября 2019 года**."
   ]
  },
  {
   "cell_type": "markdown",
   "metadata": {},
   "source": [
    "Мы проверили данные на аномальные значения (с помощью сводной таблицы и метода ***describe***) и выяснили, что у нас есть данные о действиях *4293 пользователей* нашего приложения, и в среднем на пользователя приходится *17 событий*. Для наглядности мы построили диаграмму размаха и по ней увидели, что выбросов много и они доходят почти до 500 (если точнее, то до 478). Медиана даже меньше среднего - *~10 событий* приходится в основном на пользователя в месяц. Однако, мы решили,что выбросов очень много и их удаление приведет к большой потере данных. "
   ]
  },
  {
   "cell_type": "markdown",
   "metadata": {},
   "source": [
    "Мы расчитали ***Retention Rate*** для всех посетителей приложения, по тепловой карте видим, что за месяц показатель упал с *1 до 0.07*. С каждой новой когортой поведение пользователей меняется."
   ]
  },
  {
   "cell_type": "markdown",
   "metadata": {},
   "source": [
    "Мы расчитали количество сессий и время,проведенное в приложении для каждого пользователя, затем получили медиану и среднее количество сессий на пользотеля: резутаты примерно сходятся - в месяц пользователь проводит в приложении примерно *2 сессии* или *1 - 1,5 часа*. Для специфики нашего приложения это нормальный результат - примерно за это время пользователь может найти то,что его интресует, рассмотрть варианты и принять решение о покупке."
   ]
  },
  {
   "cell_type": "markdown",
   "metadata": {},
   "source": [
    "По столбчатой диаграмме мы увидели, что самым частоповторяющимся событием является *tips_show* (пользователь увидел рекомендованные объявления) - мы предположили, что рекомендации для пользователя находятся на главной странице, и, открыв приложение, пользователь автоматически попадает на них. "
   ]
  },
  {
   "cell_type": "markdown",
   "metadata": {},
   "source": [
    "Далее с огромным отрывом идет *photos_show* (просмотр фотографий в объявлении), хотя, следуя логике, на втором месте должен был бы идти поиск. Однако, видно, что *search* совсем не популярное событие. Мы сделали вывод, что кнопка поиска расположена в нашем приложении не совсем очевидно для пользователей (кроме *search_1*). Они гораздо охотнее просто просматривают фото. "
   ]
  },
  {
   "cell_type": "markdown",
   "metadata": {},
   "source": [
    "Далее с примерно одинаковыми показателями идут события *advert_open* (открытие карточки объявления), *contacts_show* (пользователь нажал на кнопку \"посмотреть номер телефона\" на карточке объявления), *map* (пользователь открыл карту размещенных объявлений) и *search_1*. Здесь мы отметили, что гораздо чаще пользователи просматривают контакты, а не совершают звонки через приложение(у события *contacts_call* совсем небольшие показатели - очевидно, пользователи либо звонят \"по-старинке\", либо (как больше принято в последнее время) используют мессенджеры)."
   ]
  },
  {
   "cell_type": "markdown",
   "metadata": {},
   "source": [
    "Мы расчитали конверсию в целевое действие(просмотр контактов): по нашим расчетам до этого события доходят *~23%* пользователей. *77%* -  достаточно большой отток от общего количества пришедших к нам пользователей. Этому может быть несколько причин:\n",
    "\n",
    "*  *пользователь \"теряется\" в большом количестве рекомендаций* - в длинной ленте объявлений пользователь может надолго \"зависнуть\" и отложить целенаправленный поиск и, соответственно, отклик на объявление;\n",
    "\n",
    "*  *управление приложением не достаточно интуитивно* - возможно, путь пользователя в приложении более \"тернист\", чем кажется, и стоит подумать над его упрощением."
   ]
  },
  {
   "cell_type": "markdown",
   "metadata": {},
   "source": [
    "Мы отсортировали пользователей по *7 признакам*:\n",
    "\n",
    "*  **по источнику, с которого пользователь установил приложение;**\n",
    "\n",
    "*  **по пользователям, позвонившим по номеру телефона на карточке объявления;**\n",
    "\n",
    "*  **по пользователям, которые пользовались поиском;**\n",
    "\n",
    "*  **по пользователям, кликнувшим по рекомендованным объявлениям;**\n",
    "\n",
    "*  **по пользователям, открывшим карточки объявления;**\n",
    "\n",
    "*  **по пользователям, просмотревшим рекомендации;**\n",
    "\n",
    "*  **по пользователям, открывшим карту размещенных объявлений.**"
   ]
  },
  {
   "cell_type": "markdown",
   "metadata": {},
   "source": [
    "По расчитанным выше метрикам рассмотрели их поведение."
   ]
  },
  {
   "cell_type": "markdown",
   "metadata": {},
   "source": [
    "**По источнику, с которого пользователь установил приложение:** по показателям отфильтрованных по источникам групп видим, что больше пользователей, установивших приложение через *Яндекс*. Конверсия в целевое действие у этой группы и у группы *Google* почти одинаковые - *~24%*, у группы пользователей, установивших приложение с других источников меньше - *18%*. Коэффициент удержания, во всех группах примерно одинаковый - к последней неделе он достаточно низкий у всех, однако в группе *Яндекса* на *2% меньше*, то есть меньше пользователей , установивших наше приложение через *Яндекс* остается с нами."
   ]
  },
  {
   "cell_type": "markdown",
   "metadata": {},
   "source": [
    "**По пользователям, позвонившим по номеру телефона на карточке объявления:** эта группа очень малочислена - всего *213 пользователей*, однако, они проводят достаточно много времени в приложении - в среднем *4 сессии*, т.е. 2 часа, а по медиане  показатель проведенного в приложении маленький - *около 2 минут*. В среднем пользователь совершает 19 действий в приложении. Конверсия в целевое действие, естественно, *100%* . Доля \"оставшихся\" с нашим приложением пользователей в этой группе составляет *9%* - в сравнении в другими группами это не самый низкий показатель. "
   ]
  },
  {
   "cell_type": "markdown",
   "metadata": {},
   "source": [
    "**По пользователям, которые пользовались поиском:** доля пользователей от общего числа составляет *38%* - не такая маленькая группа. В среднем пользователи проводят в приложении *~5,5 минут*. В среднем пользователи совершают 20 действий - небольшой результат по сравнению с другими группами. В этой группе стоит отметить, что показатель ***Retention Rate*** самый высокий среди групп - *12%*. Можно предположить, что эти пользователи более стабильны, чем в других группах. Это предположение подтверждает то, что конверсия в целевое действие в этой группе не так мала - почти *23%*, то есть люди, пользующиеся поиском, все же достигают цели и переходят в контакты. "
   ]
  },
  {
   "cell_type": "markdown",
   "metadata": {},
   "source": [
    "**По пользователям, кликнувшим по рекомендованным объявлениям:** эта группа несколько похожа на группу пользователей, совершивших звонки через приложение -  небольшая - всего *7,5%* от общего числа пользователей. Однако, здесь пользователи тоже провели довольно много времени в приложении - на пользователя приходится примерно *4 сессии*, количество проведенного времени в приложении - *~8,5 минут*, что довольно много. Также показатель количества действий, совершенных пользователем, в этой группе высок - *в среднем 39 действий*. В этой группе доля пользователей, просмотревших контакты не так мала - *31%* от числа пользователей в группе."
   ]
  },
  {
   "cell_type": "markdown",
   "metadata": {},
   "source": [
    "**По пользователям, открывшим карточки объявления**: небольшая группа - *17%* от общего количества пользователей. Здесь конверсия в целевое действие показывает неплохой результат -  *18%*. Показатель времени, проведенного в приложении, в этой группе достаточно велик - *почти 7,5 минут*, *3 сессии на пользователя* в среднем. В этой группе также совершают много действий - в среднем *32 действия на пользователя*. Зато ***Retention Rate*** в сравнении с другими группами показывает самый высокий результат - *14%*."
   ]
  },
  {
   "cell_type": "markdown",
   "metadata": {},
   "source": [
    "**По пользователям, просмотревшим рекомендации:** самая большая по численности группа *65%* от общего числа пользователей. Среднее время, проведенное в приложении - *~7,5 минут*. В этой группе, несмотря на ее большую численность, небольшой показатель среднего количества действий на пользователя - *20*, это может подтвердить нашу догатдку о том, что пользователи \"зависают\" на этом шаге. Конверсия в просмотр контактов также *18%*. Однако. коэффициент удержания совсем низкий - всего *7%*, что говорит о нестабильности этой группы."
   ]
  },
  {
   "cell_type": "markdown",
   "metadata": {},
   "source": [
    "**По пользователям, открывшим карту размещенных объявлений:** эта группа тоже достаточно большая по размеру - *33%* от общего количества пользователей. В среднем пользователи проводят в приложении примерно *8,5 минут* - один из самых высоких показателей среди групп. Конверсия в целевое действие *20%* от числа пользователей в группе. Здесь, по сравнению с другими группами, достаточно неплохой результат по метрике ***Ratention Rate*** - *10%* пользователей из первой когорты (то есть начавших использовать приложение в начале изучаемого нами периода) продолжают использование и по окончании предложенного нам для исследования временного отрезка."
   ]
  },
  {
   "cell_type": "markdown",
   "metadata": {},
   "source": [
    "Анализируя результаты расчетов групп, можно отметить следующее:\n",
    "\n",
    "*  *нужно привлекать больше пользователей с таких источников, как **Яндекс** и **Google** - эти группы показывают неплохую(по сравнению с другими группами) конверсию в просмотр контактов;*\n",
    "\n",
    "*  *группа, используящая поиск по приложению, довольно стабильна, однако следует поработать над   упрощением этой функции - сама по себе группа не очень многочислена*;\n",
    "\n",
    "*  *больше пользователей размещают объявления, нежели просматривают чужие*."
   ]
  },
  {
   "cell_type": "markdown",
   "metadata": {},
   "source": [
    "Также мы проверили гипотезы следующие гипотезы:\n",
    "\n",
    "**Н0: \"Конверсии групп Google и Яндекс в просмотр контактов равны с точки зрения равенства долей\".**\n",
    "\n",
    "**Н0: \"Среднее время, проведенное в приложении, у групп пользователей ,совершивших целевое действие(просмотр контактов) и не совершивших его, равно\".**"
   ]
  },
  {
   "cell_type": "markdown",
   "metadata": {},
   "source": [
    "Гипотезу о различии конверсий у групп пользователей, пришедших с *Google* и *Яндекс*, мы проверяли с помощью **z-test-a**. Мы приняли нулевую гипотезу и сделали вывод, что *конверсии групп Google и Яндекс в просмотр контактов не различаются*."
   ]
  },
  {
   "cell_type": "markdown",
   "metadata": {},
   "source": [
    "Также мы сформулировали гипотезу о различии среднего времени, проведенном в приложении, у групп пользователей ,совершивших целевое действие(просмотр контактов) и не совершивших его. Эту гипотезу мы проверяли с помощью **t-test-a**. По результатам проверки мы отвергли нулевую гипотезу и сделали предположение, что среднее время, проведенное в приложении, у групп пользователей ,совершивших целевое действие(просмотр контактов) и не совершивших его, различается."
   ]
  },
  {
   "cell_type": "markdown",
   "metadata": {},
   "source": [
    "### 5.2. Рекомендации"
   ]
  },
  {
   "cell_type": "markdown",
   "metadata": {},
   "source": [
    "1. *Следует обратить внимание на кнопку поиска, возможно, сделать ее рядом с рекомендациями, более заметной для пользователя* - оказывась на главной странице приложения, автоматически попадает в рекомендации. Однако, среди тех, кто использует поиск, довольная большая (по сравнению с другими группами) конверсия в просмотр контактов - то есть, используя поиск, людям важно достичь цели - найти нужную им вещь и связаться с продавцом. У пользователей, просто листающих рекомендации, может не быть цели что-то купить."
   ]
  },
  {
   "cell_type": "markdown",
   "metadata": {},
   "source": [
    "2. *Поработать над привлечением большего количества пользователей* - по специфике нашего приложения можно сделать предположение, что чем быстрее пользователь нашел то,что ему нужно - тем лучше, значит мы смогли сделать его максимально удобным для поиска. Поэтому следует работать не над увеличением времени, проведенного пользователем в приложении, а над увеличением количества пользователей."
   ]
  },
  {
   "cell_type": "markdown",
   "metadata": {},
   "source": [
    "3. *Поработать над привлечением большего количества пользователей с источника \"Google\"* - эта группа пользователей показала лучший показатель ***Retention Rate*** (коэффициент удержания), чем группа, установивших приложение через *Яндекс*. "
   ]
  },
  {
   "cell_type": "markdown",
   "metadata": {},
   "source": [
    "4. *Подумать над способами удержания старых пользователей* - например, разработать премиум - подписку, которое будет повышать в рейтинге размещенные пользователями объявления (пробный бесплатный период - 7 дней). "
   ]
  }
 ],
 "metadata": {
  "kernelspec": {
   "display_name": "Python 3",
   "language": "python",
   "name": "python3"
  },
  "language_info": {
   "codemirror_mode": {
    "name": "ipython",
    "version": 3
   },
   "file_extension": ".py",
   "mimetype": "text/x-python",
   "name": "python",
   "nbconvert_exporter": "python",
   "pygments_lexer": "ipython3",
   "version": "3.7.8"
  },
  "toc": {
   "base_numbering": 1,
   "nav_menu": {},
   "number_sections": false,
   "sideBar": true,
   "skip_h1_title": false,
   "title_cell": "План исследования",
   "title_sidebar": "Contents",
   "toc_cell": true,
   "toc_position": {
    "height": "calc(100% - 180px)",
    "left": "10px",
    "top": "150px",
    "width": "179.183px"
   },
   "toc_section_display": true,
   "toc_window_display": true
  }
 },
 "nbformat": 4,
 "nbformat_minor": 2
}
