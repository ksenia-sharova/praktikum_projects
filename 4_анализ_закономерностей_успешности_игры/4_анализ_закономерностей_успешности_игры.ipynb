{
 "cells": [
  {
   "cell_type": "markdown",
   "metadata": {
    "toc": true
   },
   "source": [
    "<h1>План исследования<span class=\"tocSkip\"></span></h1>\n",
    "<div class=\"toc\"><ul class=\"toc-item\"><li><span><a href=\"#Шаг-1.Изучим-общую-информацию-и-обработаем-данные\" data-toc-modified-id=\"Шаг-1.Изучим-общую-информацию-и-обработаем-данные-1\">Шаг 1.Изучим общую информацию и обработаем данные</a></span><ul class=\"toc-item\"><li><span><a href=\"#1.1.-Общая-информация-о-таблице\" data-toc-modified-id=\"1.1.-Общая-информация-о-таблице-1.1\">1.1. Общая информация о таблице</a></span></li><li><span><a href=\"#1.2.-Названия-столбцов\" data-toc-modified-id=\"1.2.-Названия-столбцов-1.2\">1.2. Названия столбцов</a></span></li><li><span><a href=\"#1.3.-Типы-данных\" data-toc-modified-id=\"1.3.-Типы-данных-1.3\">1.3. Типы данных</a></span></li><li><span><a href=\"#1.4.-Обрабатываем-пропуски\" data-toc-modified-id=\"1.4.-Обрабатываем-пропуски-1.4\">1.4. Обрабатываем пропуски</a></span></li><li><span><a href=\"#1.5.Вывод\" data-toc-modified-id=\"1.5.Вывод-1.5\">1.5.Вывод</a></span></li></ul></li><li><span><a href=\"#Шаг-2.-Исследовательский-анализ-данных\" data-toc-modified-id=\"Шаг-2.-Исследовательский-анализ-данных-2\">Шаг 2. Исследовательский анализ данных</a></span><ul class=\"toc-item\"><li><span><a href=\"#2.1.-Посчитаем,-сколько-игр-выпускалось-за-разные-годы\" data-toc-modified-id=\"2.1.-Посчитаем,-сколько-игр-выпускалось-за-разные-годы-2.1\">2.1. Посчитаем, сколько игр выпускалось за разные годы</a></span></li><li><span><a href=\"#2.2.-Выберем-актуальный-период\" data-toc-modified-id=\"2.2.-Выберем-актуальный-период-2.2\">2.2. Выберем актуальный период</a></span></li><li><span><a href=\"#2.3.-Выберем-потенциально-прибыльные-платформы\" data-toc-modified-id=\"2.3.-Выберем-потенциально-прибыльные-платформы-2.3\">2.3. Выберем потенциально прибыльные платформы</a></span></li><li><span><a href=\"#2.4.-Глобальные-продажи-игр-в-разбивке-по-платформам\" data-toc-modified-id=\"2.4.-Глобальные-продажи-игр-в-разбивке-по-платформам-2.4\">2.4. Глобальные продажи игр в разбивке по платформам</a></span></li><li><span><a href=\"#2.5.-Корреляция-между-отзывами-и-продажами\" data-toc-modified-id=\"2.5.-Корреляция-между-отзывами-и-продажами-2.5\">2.5. Корреляция между отзывами и продажами</a></span></li><li><span><a href=\"#2.6.-Соотнесем-выводы-с-продажами-игр-на-других-платформах\" data-toc-modified-id=\"2.6.-Соотнесем-выводы-с-продажами-игр-на-других-платформах-2.6\">2.6. Соотнесем выводы с продажами игр на других платформах</a></span></li><li><span><a href=\"#2.7.-Распределение-игр-по-жанрам\" data-toc-modified-id=\"2.7.-Распределение-игр-по-жанрам-2.7\">2.7. Распределение игр по жанрам</a></span></li><li><span><a href=\"#2.8.-Вывод\" data-toc-modified-id=\"2.8.-Вывод-2.8\">2.8. Вывод</a></span></li></ul></li><li><span><a href=\"#Шаг-3.-Портрет-пользователя-каждого-региона\" data-toc-modified-id=\"Шаг-3.-Портрет-пользователя-каждого-региона-3\">Шаг 3. Портрет пользователя каждого региона</a></span><ul class=\"toc-item\"><li><span><a href=\"#3.1.-Определим-5-самых-популярных-игровых-платформ-в-Северной-Америке,-Европе-и-Японии.\" data-toc-modified-id=\"3.1.-Определим-5-самых-популярных-игровых-платформ-в-Северной-Америке,-Европе-и-Японии.-3.1\">3.1. Определим 5 самых популярных игровых платформ в Северной Америке, Европе и Японии.</a></span></li><li><span><a href=\"#3.2.--Определить-5-самых-популярных-игровых-жанров-в-каждом-из-регионов\" data-toc-modified-id=\"3.2.--Определить-5-самых-популярных-игровых-жанров-в-каждом-из-регионов-3.2\">3.2.  Определить 5 самых популярных игровых жанров в каждом из регионов</a></span></li><li><span><a href=\"#3.3.--Влияние-ли-рейтинга-ESRB-на-продажи-в-отдельном-регионе\" data-toc-modified-id=\"3.3.--Влияние-ли-рейтинга-ESRB-на-продажи-в-отдельном-регионе-3.3\">3.3.  Влияние ли рейтинга ESRB на продажи в отдельном регионе</a></span></li><li><span><a href=\"#3.4.-Вывод\" data-toc-modified-id=\"3.4.-Вывод-3.4\">3.4. Вывод</a></span></li></ul></li><li><span><a href=\"#Шаг-4.-Статистический-анализ-данных\" data-toc-modified-id=\"Шаг-4.-Статистический-анализ-данных-4\">Шаг 4. Статистический анализ данных</a></span><ul class=\"toc-item\"><li><span><a href=\"#4.1.-Средние-пользовательские-рейтинги-платформ-Xbox-One-и-PC-равны\" data-toc-modified-id=\"4.1.-Средние-пользовательские-рейтинги-платформ-Xbox-One-и-PC-равны-4.1\">4.1. Средние пользовательские рейтинги платформ Xbox One и PC равны</a></span></li><li><span><a href=\"#4.2.-Средние-пользовательские-рейтинги-жанров-Action-и-Sports-равны\" data-toc-modified-id=\"4.2.-Средние-пользовательские-рейтинги-жанров-Action-и-Sports-равны-4.2\">4.2. Средние пользовательские рейтинги жанров Action и Sports равны</a></span></li></ul></li><li><span><a href=\"#Шаг-5.-Общий-вывод\" data-toc-modified-id=\"Шаг-5.-Общий-вывод-5\">Шаг 5. Общий вывод</a></span></li></ul></div>"
   ]
  },
  {
   "cell_type": "markdown",
   "metadata": {},
   "source": [
    "# Анализ закономерностей успешности игры"
   ]
  },
  {
   "cell_type": "markdown",
   "metadata": {},
   "source": [
    "Нам нужно выявить определяющие успешность игры закономерности. Это позволит сделать ставку на потенциально популярный продукт и спланировать рекламные кампании."
   ]
  },
  {
   "cell_type": "markdown",
   "metadata": {},
   "source": [
    "## Шаг 1.Изучим общую информацию и обработаем данные"
   ]
  },
  {
   "cell_type": "markdown",
   "metadata": {},
   "source": [
    "Создадим таблицу **games** и посмотрим общую информацию о ней:"
   ]
  },
  {
   "cell_type": "code",
   "execution_count": 1,
   "metadata": {},
   "outputs": [],
   "source": [
    "from scipy import stats as st\n",
    "import pandas as pd\n",
    "import numpy as np\n",
    "import matplotlib.pyplot as plt\n",
    "import seaborn as sns"
   ]
  },
  {
   "cell_type": "markdown",
   "metadata": {},
   "source": [
    "### 1.1. Общая информация о таблице"
   ]
  },
  {
   "cell_type": "code",
   "execution_count": 2,
   "metadata": {},
   "outputs": [
    {
     "data": {
      "text/html": [
       "<div>\n",
       "<style scoped>\n",
       "    .dataframe tbody tr th:only-of-type {\n",
       "        vertical-align: middle;\n",
       "    }\n",
       "\n",
       "    .dataframe tbody tr th {\n",
       "        vertical-align: top;\n",
       "    }\n",
       "\n",
       "    .dataframe thead th {\n",
       "        text-align: right;\n",
       "    }\n",
       "</style>\n",
       "<table border=\"1\" class=\"dataframe\">\n",
       "  <thead>\n",
       "    <tr style=\"text-align: right;\">\n",
       "      <th></th>\n",
       "      <th>Name</th>\n",
       "      <th>Platform</th>\n",
       "      <th>Year_of_Release</th>\n",
       "      <th>Genre</th>\n",
       "      <th>NA_sales</th>\n",
       "      <th>EU_sales</th>\n",
       "      <th>JP_sales</th>\n",
       "      <th>Other_sales</th>\n",
       "      <th>Critic_Score</th>\n",
       "      <th>User_Score</th>\n",
       "      <th>Rating</th>\n",
       "    </tr>\n",
       "  </thead>\n",
       "  <tbody>\n",
       "    <tr>\n",
       "      <th>0</th>\n",
       "      <td>Wii Sports</td>\n",
       "      <td>Wii</td>\n",
       "      <td>2006.0</td>\n",
       "      <td>Sports</td>\n",
       "      <td>41.36</td>\n",
       "      <td>28.96</td>\n",
       "      <td>3.77</td>\n",
       "      <td>8.45</td>\n",
       "      <td>76.0</td>\n",
       "      <td>8</td>\n",
       "      <td>E</td>\n",
       "    </tr>\n",
       "    <tr>\n",
       "      <th>1</th>\n",
       "      <td>Super Mario Bros.</td>\n",
       "      <td>NES</td>\n",
       "      <td>1985.0</td>\n",
       "      <td>Platform</td>\n",
       "      <td>29.08</td>\n",
       "      <td>3.58</td>\n",
       "      <td>6.81</td>\n",
       "      <td>0.77</td>\n",
       "      <td>NaN</td>\n",
       "      <td>NaN</td>\n",
       "      <td>NaN</td>\n",
       "    </tr>\n",
       "    <tr>\n",
       "      <th>2</th>\n",
       "      <td>Mario Kart Wii</td>\n",
       "      <td>Wii</td>\n",
       "      <td>2008.0</td>\n",
       "      <td>Racing</td>\n",
       "      <td>15.68</td>\n",
       "      <td>12.76</td>\n",
       "      <td>3.79</td>\n",
       "      <td>3.29</td>\n",
       "      <td>82.0</td>\n",
       "      <td>8.3</td>\n",
       "      <td>E</td>\n",
       "    </tr>\n",
       "    <tr>\n",
       "      <th>3</th>\n",
       "      <td>Wii Sports Resort</td>\n",
       "      <td>Wii</td>\n",
       "      <td>2009.0</td>\n",
       "      <td>Sports</td>\n",
       "      <td>15.61</td>\n",
       "      <td>10.93</td>\n",
       "      <td>3.28</td>\n",
       "      <td>2.95</td>\n",
       "      <td>80.0</td>\n",
       "      <td>8</td>\n",
       "      <td>E</td>\n",
       "    </tr>\n",
       "    <tr>\n",
       "      <th>4</th>\n",
       "      <td>Pokemon Red/Pokemon Blue</td>\n",
       "      <td>GB</td>\n",
       "      <td>1996.0</td>\n",
       "      <td>Role-Playing</td>\n",
       "      <td>11.27</td>\n",
       "      <td>8.89</td>\n",
       "      <td>10.22</td>\n",
       "      <td>1.00</td>\n",
       "      <td>NaN</td>\n",
       "      <td>NaN</td>\n",
       "      <td>NaN</td>\n",
       "    </tr>\n",
       "    <tr>\n",
       "      <th>5</th>\n",
       "      <td>Tetris</td>\n",
       "      <td>GB</td>\n",
       "      <td>1989.0</td>\n",
       "      <td>Puzzle</td>\n",
       "      <td>23.20</td>\n",
       "      <td>2.26</td>\n",
       "      <td>4.22</td>\n",
       "      <td>0.58</td>\n",
       "      <td>NaN</td>\n",
       "      <td>NaN</td>\n",
       "      <td>NaN</td>\n",
       "    </tr>\n",
       "    <tr>\n",
       "      <th>6</th>\n",
       "      <td>New Super Mario Bros.</td>\n",
       "      <td>DS</td>\n",
       "      <td>2006.0</td>\n",
       "      <td>Platform</td>\n",
       "      <td>11.28</td>\n",
       "      <td>9.14</td>\n",
       "      <td>6.50</td>\n",
       "      <td>2.88</td>\n",
       "      <td>89.0</td>\n",
       "      <td>8.5</td>\n",
       "      <td>E</td>\n",
       "    </tr>\n",
       "    <tr>\n",
       "      <th>7</th>\n",
       "      <td>Wii Play</td>\n",
       "      <td>Wii</td>\n",
       "      <td>2006.0</td>\n",
       "      <td>Misc</td>\n",
       "      <td>13.96</td>\n",
       "      <td>9.18</td>\n",
       "      <td>2.93</td>\n",
       "      <td>2.84</td>\n",
       "      <td>58.0</td>\n",
       "      <td>6.6</td>\n",
       "      <td>E</td>\n",
       "    </tr>\n",
       "    <tr>\n",
       "      <th>8</th>\n",
       "      <td>New Super Mario Bros. Wii</td>\n",
       "      <td>Wii</td>\n",
       "      <td>2009.0</td>\n",
       "      <td>Platform</td>\n",
       "      <td>14.44</td>\n",
       "      <td>6.94</td>\n",
       "      <td>4.70</td>\n",
       "      <td>2.24</td>\n",
       "      <td>87.0</td>\n",
       "      <td>8.4</td>\n",
       "      <td>E</td>\n",
       "    </tr>\n",
       "    <tr>\n",
       "      <th>9</th>\n",
       "      <td>Duck Hunt</td>\n",
       "      <td>NES</td>\n",
       "      <td>1984.0</td>\n",
       "      <td>Shooter</td>\n",
       "      <td>26.93</td>\n",
       "      <td>0.63</td>\n",
       "      <td>0.28</td>\n",
       "      <td>0.47</td>\n",
       "      <td>NaN</td>\n",
       "      <td>NaN</td>\n",
       "      <td>NaN</td>\n",
       "    </tr>\n",
       "  </tbody>\n",
       "</table>\n",
       "</div>"
      ],
      "text/plain": [
       "                        Name Platform  Year_of_Release         Genre  \\\n",
       "0                 Wii Sports      Wii           2006.0        Sports   \n",
       "1          Super Mario Bros.      NES           1985.0      Platform   \n",
       "2             Mario Kart Wii      Wii           2008.0        Racing   \n",
       "3          Wii Sports Resort      Wii           2009.0        Sports   \n",
       "4   Pokemon Red/Pokemon Blue       GB           1996.0  Role-Playing   \n",
       "5                     Tetris       GB           1989.0        Puzzle   \n",
       "6      New Super Mario Bros.       DS           2006.0      Platform   \n",
       "7                   Wii Play      Wii           2006.0          Misc   \n",
       "8  New Super Mario Bros. Wii      Wii           2009.0      Platform   \n",
       "9                  Duck Hunt      NES           1984.0       Shooter   \n",
       "\n",
       "   NA_sales  EU_sales  JP_sales  Other_sales  Critic_Score User_Score Rating  \n",
       "0     41.36     28.96      3.77         8.45          76.0          8      E  \n",
       "1     29.08      3.58      6.81         0.77           NaN        NaN    NaN  \n",
       "2     15.68     12.76      3.79         3.29          82.0        8.3      E  \n",
       "3     15.61     10.93      3.28         2.95          80.0          8      E  \n",
       "4     11.27      8.89     10.22         1.00           NaN        NaN    NaN  \n",
       "5     23.20      2.26      4.22         0.58           NaN        NaN    NaN  \n",
       "6     11.28      9.14      6.50         2.88          89.0        8.5      E  \n",
       "7     13.96      9.18      2.93         2.84          58.0        6.6      E  \n",
       "8     14.44      6.94      4.70         2.24          87.0        8.4      E  \n",
       "9     26.93      0.63      0.28         0.47           NaN        NaN    NaN  "
      ]
     },
     "execution_count": 2,
     "metadata": {},
     "output_type": "execute_result"
    }
   ],
   "source": [
    "\n",
    "\n",
    "games = pd.read_csv('/home/kseniya/Downloads/games.csv')\n",
    "games.head(10)"
   ]
  },
  {
   "cell_type": "code",
   "execution_count": 3,
   "metadata": {},
   "outputs": [
    {
     "name": "stdout",
     "output_type": "stream",
     "text": [
      "<class 'pandas.core.frame.DataFrame'>\n",
      "RangeIndex: 16715 entries, 0 to 16714\n",
      "Data columns (total 11 columns):\n",
      " #   Column           Non-Null Count  Dtype  \n",
      "---  ------           --------------  -----  \n",
      " 0   Name             16713 non-null  object \n",
      " 1   Platform         16715 non-null  object \n",
      " 2   Year_of_Release  16446 non-null  float64\n",
      " 3   Genre            16713 non-null  object \n",
      " 4   NA_sales         16715 non-null  float64\n",
      " 5   EU_sales         16715 non-null  float64\n",
      " 6   JP_sales         16715 non-null  float64\n",
      " 7   Other_sales      16715 non-null  float64\n",
      " 8   Critic_Score     8137 non-null   float64\n",
      " 9   User_Score       10014 non-null  object \n",
      " 10  Rating           9949 non-null   object \n",
      "dtypes: float64(6), object(5)\n",
      "memory usage: 1.4+ MB\n"
     ]
    }
   ],
   "source": [
    "games.info()"
   ]
  },
  {
   "cell_type": "markdown",
   "metadata": {},
   "source": [
    "Таблица **games** состоит из *16715 строк*. Столбцы *Year_of_Release, Critic_Score, User_Score, Rating* имеют пропущенные значения. Столбцы содержат следующую информацию:\n",
    "\n",
    "*    *Name* — название игры;\n",
    "\n",
    "*    *Platform* — платформа;\n",
    "\n",
    "*    *Year_of_Release* — год выпуска;\n",
    "\n",
    "*    *Genre* — жанр игры;\n",
    "\n",
    "*    *NA_sales* — продажи в Северной Америке (миллионы проданных копий);\n",
    "\n",
    "*    *EU_sales* — продажи в Европе (миллионы проданных копий);\n",
    "\n",
    "*    *JP_sales* — продажи в Японии (миллионы проданных копий);\n",
    "\n",
    "*    *Other_sales* — продажи в других странах (миллионы проданных копий);\n",
    "\n",
    "*    *Critic_Score* — оценка критиков (максимум 100);\n",
    "\n",
    "*    *User_Score* — оценка пользователей (максимум 10);\n",
    "\n",
    "*    *Rating* — рейтинг от организации ESRB (англ. Entertainment Software Rating Board). Эта ассоциация определяет рейтинг компьютерных игр и присваивает им подходящую возрастную категорию."
   ]
  },
  {
   "cell_type": "markdown",
   "metadata": {},
   "source": [
    "### 1.2. Названия столбцов"
   ]
  },
  {
   "cell_type": "markdown",
   "metadata": {},
   "source": [
    "Первое, что бросается в глаза - это названия столбцов, все они начинаются с заглавных букв. Приведем их к одному регистру: "
   ]
  },
  {
   "cell_type": "code",
   "execution_count": 4,
   "metadata": {},
   "outputs": [
    {
     "data": {
      "text/html": [
       "<div>\n",
       "<style scoped>\n",
       "    .dataframe tbody tr th:only-of-type {\n",
       "        vertical-align: middle;\n",
       "    }\n",
       "\n",
       "    .dataframe tbody tr th {\n",
       "        vertical-align: top;\n",
       "    }\n",
       "\n",
       "    .dataframe thead th {\n",
       "        text-align: right;\n",
       "    }\n",
       "</style>\n",
       "<table border=\"1\" class=\"dataframe\">\n",
       "  <thead>\n",
       "    <tr style=\"text-align: right;\">\n",
       "      <th></th>\n",
       "      <th>name</th>\n",
       "      <th>platform</th>\n",
       "      <th>year_of_release</th>\n",
       "      <th>genre</th>\n",
       "      <th>na_sales</th>\n",
       "      <th>eu_sales</th>\n",
       "      <th>jp_sales</th>\n",
       "      <th>other_sales</th>\n",
       "      <th>critic_score</th>\n",
       "      <th>user_score</th>\n",
       "      <th>rating</th>\n",
       "    </tr>\n",
       "  </thead>\n",
       "  <tbody>\n",
       "    <tr>\n",
       "      <th>0</th>\n",
       "      <td>Wii Sports</td>\n",
       "      <td>Wii</td>\n",
       "      <td>2006.0</td>\n",
       "      <td>Sports</td>\n",
       "      <td>41.36</td>\n",
       "      <td>28.96</td>\n",
       "      <td>3.77</td>\n",
       "      <td>8.45</td>\n",
       "      <td>76.0</td>\n",
       "      <td>8</td>\n",
       "      <td>E</td>\n",
       "    </tr>\n",
       "    <tr>\n",
       "      <th>1</th>\n",
       "      <td>Super Mario Bros.</td>\n",
       "      <td>NES</td>\n",
       "      <td>1985.0</td>\n",
       "      <td>Platform</td>\n",
       "      <td>29.08</td>\n",
       "      <td>3.58</td>\n",
       "      <td>6.81</td>\n",
       "      <td>0.77</td>\n",
       "      <td>NaN</td>\n",
       "      <td>NaN</td>\n",
       "      <td>NaN</td>\n",
       "    </tr>\n",
       "    <tr>\n",
       "      <th>2</th>\n",
       "      <td>Mario Kart Wii</td>\n",
       "      <td>Wii</td>\n",
       "      <td>2008.0</td>\n",
       "      <td>Racing</td>\n",
       "      <td>15.68</td>\n",
       "      <td>12.76</td>\n",
       "      <td>3.79</td>\n",
       "      <td>3.29</td>\n",
       "      <td>82.0</td>\n",
       "      <td>8.3</td>\n",
       "      <td>E</td>\n",
       "    </tr>\n",
       "    <tr>\n",
       "      <th>3</th>\n",
       "      <td>Wii Sports Resort</td>\n",
       "      <td>Wii</td>\n",
       "      <td>2009.0</td>\n",
       "      <td>Sports</td>\n",
       "      <td>15.61</td>\n",
       "      <td>10.93</td>\n",
       "      <td>3.28</td>\n",
       "      <td>2.95</td>\n",
       "      <td>80.0</td>\n",
       "      <td>8</td>\n",
       "      <td>E</td>\n",
       "    </tr>\n",
       "    <tr>\n",
       "      <th>4</th>\n",
       "      <td>Pokemon Red/Pokemon Blue</td>\n",
       "      <td>GB</td>\n",
       "      <td>1996.0</td>\n",
       "      <td>Role-Playing</td>\n",
       "      <td>11.27</td>\n",
       "      <td>8.89</td>\n",
       "      <td>10.22</td>\n",
       "      <td>1.00</td>\n",
       "      <td>NaN</td>\n",
       "      <td>NaN</td>\n",
       "      <td>NaN</td>\n",
       "    </tr>\n",
       "  </tbody>\n",
       "</table>\n",
       "</div>"
      ],
      "text/plain": [
       "                       name platform  year_of_release         genre  na_sales  \\\n",
       "0                Wii Sports      Wii           2006.0        Sports     41.36   \n",
       "1         Super Mario Bros.      NES           1985.0      Platform     29.08   \n",
       "2            Mario Kart Wii      Wii           2008.0        Racing     15.68   \n",
       "3         Wii Sports Resort      Wii           2009.0        Sports     15.61   \n",
       "4  Pokemon Red/Pokemon Blue       GB           1996.0  Role-Playing     11.27   \n",
       "\n",
       "   eu_sales  jp_sales  other_sales  critic_score user_score rating  \n",
       "0     28.96      3.77         8.45          76.0          8      E  \n",
       "1      3.58      6.81         0.77           NaN        NaN    NaN  \n",
       "2     12.76      3.79         3.29          82.0        8.3      E  \n",
       "3     10.93      3.28         2.95          80.0          8      E  \n",
       "4      8.89     10.22         1.00           NaN        NaN    NaN  "
      ]
     },
     "execution_count": 4,
     "metadata": {},
     "output_type": "execute_result"
    }
   ],
   "source": [
    "games.columns = map(str.lower, games.columns)\n",
    "games.head()"
   ]
  },
  {
   "cell_type": "markdown",
   "metadata": {},
   "source": [
    "Для того,чтобы приступить к исследованию нам необходимо провести предобработку данных:"
   ]
  },
  {
   "cell_type": "markdown",
   "metadata": {},
   "source": [
    "* поменяем типы данных в колонках на нужные нам\n",
    "\n",
    "* обработаем пропуски"
   ]
  },
  {
   "cell_type": "markdown",
   "metadata": {},
   "source": [
    "### 1.3. Типы данных"
   ]
  },
  {
   "cell_type": "markdown",
   "metadata": {},
   "source": [
    "С помощью метода **info** мы вывели полную информацию о таблице, где можно увидеть, что столбец *'year_of_release'* имеет тип данных **float64**. Приведем его к типу данных **datetime64**, который соответствует датам:"
   ]
  },
  {
   "cell_type": "code",
   "execution_count": 5,
   "metadata": {},
   "outputs": [
    {
     "data": {
      "text/plain": [
       "0       2006-01-01\n",
       "1       1985-01-01\n",
       "2       2008-01-01\n",
       "3       2009-01-01\n",
       "4       1996-01-01\n",
       "           ...    \n",
       "16710   2016-01-01\n",
       "16711   2006-01-01\n",
       "16712   2016-01-01\n",
       "16713   2003-01-01\n",
       "16714   2016-01-01\n",
       "Name: year_of_release, Length: 16715, dtype: datetime64[ns]"
      ]
     },
     "execution_count": 5,
     "metadata": {},
     "output_type": "execute_result"
    }
   ],
   "source": [
    "games['year_of_release'] = pd.to_datetime(games['year_of_release'], format='%Y').astype('datetime64[Y]')\n",
    "games['year_of_release'] "
   ]
  },
  {
   "cell_type": "markdown",
   "metadata": {},
   "source": [
    "Теперь выведем из получившейся общей даты год:"
   ]
  },
  {
   "cell_type": "code",
   "execution_count": 6,
   "metadata": {},
   "outputs": [
    {
     "data": {
      "text/plain": [
       "0    2006.0\n",
       "1    1985.0\n",
       "2    2008.0\n",
       "3    2009.0\n",
       "4    1996.0\n",
       "Name: year_of_release, dtype: float64"
      ]
     },
     "execution_count": 6,
     "metadata": {},
     "output_type": "execute_result"
    }
   ],
   "source": [
    "games['year_of_release'] = games['year_of_release'].dt.year\n",
    "games['year_of_release'].head()"
   ]
  },
  {
   "cell_type": "markdown",
   "metadata": {},
   "source": [
    "Мы видим,что получили тот же вид, с которого мы начинали. Оставим столбец в таком виде, так как чтобы привести тип данных к целочисленному, нам необходимо будет избавиться от пропущенных значений. Значит их надо будет чем-то заменять, а это может привести к некорректным результатам исследования."
   ]
  },
  {
   "cell_type": "markdown",
   "metadata": {},
   "source": [
    "С помощью метода **to_numeric** изменим тип данных столбца *'user_score'*:"
   ]
  },
  {
   "cell_type": "code",
   "execution_count": 7,
   "metadata": {},
   "outputs": [
    {
     "data": {
      "text/plain": [
       "0        8.0\n",
       "1        NaN\n",
       "2        8.3\n",
       "3        8.0\n",
       "4        NaN\n",
       "        ... \n",
       "16710    NaN\n",
       "16711    NaN\n",
       "16712    NaN\n",
       "16713    NaN\n",
       "16714    NaN\n",
       "Name: user_score, Length: 16715, dtype: float64"
      ]
     },
     "execution_count": 7,
     "metadata": {},
     "output_type": "execute_result"
    }
   ],
   "source": [
    "games['user_score']=pd.to_numeric(games['user_score'], errors='coerce') \n",
    "games['user_score']"
   ]
  },
  {
   "cell_type": "markdown",
   "metadata": {},
   "source": [
    "### 1.4. Обрабатываем пропуски"
   ]
  },
  {
   "cell_type": "markdown",
   "metadata": {},
   "source": [
    "Посчитаем количество проспусков в столбце *year_of_release*:"
   ]
  },
  {
   "cell_type": "code",
   "execution_count": 8,
   "metadata": {},
   "outputs": [
    {
     "data": {
      "text/plain": [
       "269"
      ]
     },
     "execution_count": 8,
     "metadata": {},
     "output_type": "execute_result"
    }
   ],
   "source": [
    "games['year_of_release'].isna().sum()"
   ]
  },
  {
   "cell_type": "markdown",
   "metadata": {},
   "source": [
    "Пропусков не так много, мы можем оставить их, скорее всего это только анонсированные игры, у них нет точной даты выпуска."
   ]
  },
  {
   "cell_type": "markdown",
   "metadata": {},
   "source": [
    "Из общей информации о таблице мы видим, что столбцы *'critic_score'*, *'user_score'* и *'rating'* имеют большое количество пропусков. Приступим к их обработке."
   ]
  },
  {
   "cell_type": "markdown",
   "metadata": {},
   "source": [
    "Посчитаем количество пропусков в столбце *'critic_score'*:"
   ]
  },
  {
   "cell_type": "code",
   "execution_count": 9,
   "metadata": {},
   "outputs": [
    {
     "data": {
      "text/plain": [
       "8578"
      ]
     },
     "execution_count": 9,
     "metadata": {},
     "output_type": "execute_result"
    }
   ],
   "source": [
    "games['critic_score'].isna().sum()"
   ]
  },
  {
   "cell_type": "markdown",
   "metadata": {},
   "source": [
    "Проспусков довольно много - примерно половина значений. Заполним пропуски с помощью столбца *'genre'*. Создадим список игровых жанров и пропуски в столбце *'critic_score'* заполним соответствующей жанру медианой:"
   ]
  },
  {
   "cell_type": "code",
   "execution_count": 10,
   "metadata": {},
   "outputs": [],
   "source": [
    "genre_list = games['genre'].unique()"
   ]
  },
  {
   "cell_type": "code",
   "execution_count": 11,
   "metadata": {},
   "outputs": [],
   "source": [
    "for genre_name in genre_list:\n",
    "    games.loc[(games['genre'] == genre_name) & (games['critic_score'].isna()), 'critic_score'] \\\n",
    "                     = games.loc [(games['genre'] == genre_name), 'critic_score']. median()"
   ]
  },
  {
   "cell_type": "markdown",
   "metadata": {},
   "source": [
    "Количество пропусков после обработки:"
   ]
  },
  {
   "cell_type": "code",
   "execution_count": 12,
   "metadata": {},
   "outputs": [
    {
     "data": {
      "text/plain": [
       "2"
      ]
     },
     "execution_count": 12,
     "metadata": {},
     "output_type": "execute_result"
    }
   ],
   "source": [
    "games['critic_score'].isna().sum()"
   ]
  },
  {
   "cell_type": "markdown",
   "metadata": {},
   "source": [
    "Приступим к обработке пропусков в столбце *'user_score'*. "
   ]
  },
  {
   "cell_type": "markdown",
   "metadata": {},
   "source": [
    "Тип данных этого столбца - **object**, то есть среди его значений есть и строковые. С помощью метода **unique** выведем все уникальные значения этого столбца:"
   ]
  },
  {
   "cell_type": "code",
   "execution_count": 13,
   "metadata": {},
   "outputs": [
    {
     "data": {
      "text/plain": [
       "array([8. , nan, 8.3, 8.5, 6.6, 8.4, 8.6, 7.7, 6.3, 7.4, 8.2, 9. , 7.9,\n",
       "       8.1, 8.7, 7.1, 3.4, 5.3, 4.8, 3.2, 8.9, 6.4, 7.8, 7.5, 2.6, 7.2,\n",
       "       9.2, 7. , 7.3, 4.3, 7.6, 5.7, 5. , 9.1, 6.5, 8.8, 6.9, 9.4, 6.8,\n",
       "       6.1, 6.7, 5.4, 4. , 4.9, 4.5, 9.3, 6.2, 4.2, 6. , 3.7, 4.1, 5.8,\n",
       "       5.6, 5.5, 4.4, 4.6, 5.9, 3.9, 3.1, 2.9, 5.2, 3.3, 4.7, 5.1, 3.5,\n",
       "       2.5, 1.9, 3. , 2.7, 2.2, 2. , 9.5, 2.1, 3.6, 2.8, 1.8, 3.8, 0. ,\n",
       "       1.6, 9.6, 2.4, 1.7, 1.1, 0.3, 1.5, 0.7, 1.2, 2.3, 0.5, 1.3, 0.2,\n",
       "       0.6, 1.4, 0.9, 1. , 9.7])"
      ]
     },
     "execution_count": 13,
     "metadata": {},
     "output_type": "execute_result"
    }
   ],
   "source": [
    "games['user_score'].unique()"
   ]
  },
  {
   "cell_type": "markdown",
   "metadata": {},
   "source": [
    "Видим, что действительно есть строковое значение **'tbd'** ."
   ]
  },
  {
   "cell_type": "markdown",
   "metadata": {},
   "source": [
    "Эта аббревиатура расшифровывается как ***To Be Determined***, то есть \"Будет определено\". Очень часто подобное сокращение можно встретить в анонсах компьютерных игр в графе \"Дата выхода\". Когда разработчик той или иной игры уже сообщил о том, что она готовится к выходу, но пока еще не может назвать точную дату, именно это сокращение и используется (информация взята с сайта: https://fb.ru/article/171345/tbd---chto-znachit-eto-sokraschenie )"
   ]
  },
  {
   "cell_type": "markdown",
   "metadata": {},
   "source": [
    "Посчитаем пропуски:"
   ]
  },
  {
   "cell_type": "code",
   "execution_count": 14,
   "metadata": {},
   "outputs": [
    {
     "data": {
      "text/plain": [
       "9125"
      ]
     },
     "execution_count": 14,
     "metadata": {},
     "output_type": "execute_result"
    }
   ],
   "source": [
    "games['user_score'].isna().sum()"
   ]
  },
  {
   "cell_type": "code",
   "execution_count": 15,
   "metadata": {},
   "outputs": [
    {
     "data": {
      "text/plain": [
       "0.5459168411606342"
      ]
     },
     "execution_count": 15,
     "metadata": {},
     "output_type": "execute_result"
    }
   ],
   "source": [
    "games['user_score'].isna().mean()"
   ]
  },
  {
   "cell_type": "markdown",
   "metadata": {},
   "source": [
    "Видим, что здесь тоже довольно большая доля пропусков - около 40%. Мы обработаем их по тому же принципу, что и столбец *'critic_score'*, с одним различием: мы заменим **'tbd'** на числовой маркер **'0000'**. В процессе нашего исследования нам понадобиться строить диаграммы с помощью столбца *'user_score'*,  а для этого он должен содержать только численные значения."
   ]
  },
  {
   "cell_type": "markdown",
   "metadata": {},
   "source": [
    "Можно было бы заменить на *nan*, но, как мы уже написали выше, их около 40%. Значит их нужно заменить медианами. А если на *nan* поменяются еще и **'tbd'**, это может очень повлиять на общую картину. "
   ]
  },
  {
   "cell_type": "code",
   "execution_count": 16,
   "metadata": {},
   "outputs": [],
   "source": [
    "games['user_score'] = games['user_score'].replace('tbd', '0000')"
   ]
  },
  {
   "cell_type": "code",
   "execution_count": 17,
   "metadata": {},
   "outputs": [],
   "source": [
    "for genre_name in genre_list:\n",
    "    games.loc[(games['genre'] == genre_name) & (games['user_score'].isna()), 'user_score'] \\\n",
    "                     = games.loc [(games['genre'] == genre_name) & (games['user_score'] != '0000'), 'user_score']. median()"
   ]
  },
  {
   "cell_type": "markdown",
   "metadata": {},
   "source": [
    "Проверяем, успешно ли прошла замена значений **'tbd'**, и количество пропусков после обработки:"
   ]
  },
  {
   "cell_type": "code",
   "execution_count": 18,
   "metadata": {},
   "outputs": [
    {
     "data": {
      "text/plain": [
       "array([8. , 7.7, 8.3, 7.8, 7.5, 8.5, 6.6, 8.4, 7.4, 8.6, 6.3, 8.2, 9. ,\n",
       "       7.9, 8.1, 8.7, 7.1, 3.4, 5.3, 4.8, 3.2, 8.9, 6.4, 7.6, 2.6, 7.2,\n",
       "       9.2, 7. , 7.3, 4.3, 5.7, 5. , 9.1, 6.5, 8.8, 6.9, 9.4, 6.8, 6.1,\n",
       "       6.7, 5.4, 4. , 4.9, 4.5, 9.3, 6.2, 4.2, 6. , 3.7, 4.1, 5.8, 5.6,\n",
       "       5.5, 4.4, 4.6, 5.9, 3.9, 3.1, nan, 2.9, 5.2, 3.3, 4.7, 5.1, 3.5,\n",
       "       2.5, 1.9, 3. , 2.7, 2.2, 2. , 9.5, 2.1, 3.6, 2.8, 1.8, 3.8, 0. ,\n",
       "       1.6, 9.6, 2.4, 1.7, 1.1, 0.3, 1.5, 0.7, 1.2, 2.3, 0.5, 1.3, 0.2,\n",
       "       0.6, 1.4, 0.9, 1. , 9.7])"
      ]
     },
     "execution_count": 18,
     "metadata": {},
     "output_type": "execute_result"
    }
   ],
   "source": [
    "games['user_score'].unique()"
   ]
  },
  {
   "cell_type": "code",
   "execution_count": 19,
   "metadata": {},
   "outputs": [
    {
     "data": {
      "text/plain": [
       "2"
      ]
     },
     "execution_count": 19,
     "metadata": {},
     "output_type": "execute_result"
    }
   ],
   "source": [
    "games['user_score'].isna().sum()"
   ]
  },
  {
   "cell_type": "markdown",
   "metadata": {},
   "source": [
    "Приступим к столбцу *'rating'*. В нем представлены данные рейтинга ESRB по каждой игре."
   ]
  },
  {
   "cell_type": "markdown",
   "metadata": {},
   "source": [
    "**Entertainment Software Rating Board (ESRB)** — негосударственная организация, основное направление деятельности — принятие и определение рейтингов для компьютерных видеоигр и другого развлекательного программного обеспечения в США и Канаде. ESRB была основана в 1994 году ассоциацией Interactive Digital Software Association (современное название — «Entertainment Software Association») (информация взята с сайта: https://ru.wikipedia.org/wiki/Entertainment_Software_Rating_Board)."
   ]
  },
  {
   "cell_type": "markdown",
   "metadata": {},
   "source": [
    "Эта информация дает нам возможные причины пропусков:"
   ]
  },
  {
   "cell_type": "markdown",
   "metadata": {},
   "source": [
    "1. Организация основана только в 1994 году, а в нашей выборке представлены даные об играх, выпущенных с 1980 года. "
   ]
  },
  {
   "cell_type": "markdown",
   "metadata": {},
   "source": [
    "2. Организация предназначена для определения рейтингов игр в Северной Америке. Поскольку органиция негоударственная, значит получение рейтинга от нее не обязательно. Например, игры, выпущенные, в Японии могут и не получать этот рейтинг. "
   ]
  },
  {
   "cell_type": "markdown",
   "metadata": {},
   "source": [
    "Избавляться от NaNов  в этом столбце, по моему мнению, не стоит, т.к. рейтинг дается для конкретной игры, замена пропущенных значений может быть некорректной."
   ]
  },
  {
   "cell_type": "markdown",
   "metadata": {},
   "source": [
    "Нам необходимо посчитать суммарные продажи во всех регионах. Для этого суммируем значения столбцов *'na_sales'*, *'eu_sales'*, *'jp_sales'* и *'other_sales* с помощью метода **sum**. Для полученного результата создадим столбец *'all_sales'*:"
   ]
  },
  {
   "cell_type": "code",
   "execution_count": 20,
   "metadata": {},
   "outputs": [
    {
     "data": {
      "text/plain": [
       "0        82.54\n",
       "1        40.24\n",
       "2        35.52\n",
       "3        32.77\n",
       "4        31.38\n",
       "         ...  \n",
       "16710     0.01\n",
       "16711     0.01\n",
       "16712     0.01\n",
       "16713     0.01\n",
       "16714     0.01\n",
       "Name: all_sales, Length: 16715, dtype: float64"
      ]
     },
     "execution_count": 20,
     "metadata": {},
     "output_type": "execute_result"
    }
   ],
   "source": [
    "games['all_sales'] = games[['na_sales', 'eu_sales','jp_sales','other_sales']].sum(axis=1)\n",
    "games['all_sales']"
   ]
  },
  {
   "cell_type": "markdown",
   "metadata": {},
   "source": [
    "### 1.5.Вывод"
   ]
  },
  {
   "cell_type": "markdown",
   "metadata": {},
   "source": [
    "Мы изучили данную нам таблицу, которой мы дали название **games**. В ней было 11 столбцов, но теперь 12 - мы прибавили столбец *'all_sales'*, в котором находятся данные о суммарных продажах во всех регионах - и 16715 строк."
   ]
  },
  {
   "cell_type": "markdown",
   "metadata": {},
   "source": [
    "Мы обработали пропуски, исходя из групп в данных, в тех столбцах, где доля пропусков была велика - это столбцы *'critic_score'* и *'user_score'*. В столбце *'rating'* мы решили оставить пропущенные значения, так как их замена может быть некорректной."
   ]
  },
  {
   "cell_type": "markdown",
   "metadata": {},
   "source": [
    "Можно приступить к исследовательскому анализу данных."
   ]
  },
  {
   "cell_type": "markdown",
   "metadata": {},
   "source": [
    "## Шаг 2. Исследовательский анализ данных"
   ]
  },
  {
   "cell_type": "markdown",
   "metadata": {},
   "source": [
    "Нам потребуется провести достаточно объемный исследовательский анализ данных, поэтому напишем небольшой план предстоящей работы:\n",
    "\n",
    "1. *Посчитаем, сколько игр выпускалось за разные годы*\n",
    "\n",
    "2. *Выберем актуальный период*\n",
    "\n",
    "3. *Выберем потенциально прибыльные платформы*\n",
    "\n",
    "4. *Глобальные продажи игр в разбивке по платформам*\n",
    "\n",
    "5. *Определим корреляцию между отзывами и продажами*\n",
    "\n",
    "6. *Соотнесем выводы с продажами игр на других платформах*\n",
    "\n",
    "7. *Выявим лучше и хуже всего продающиеся по жанрам игры*"
   ]
  },
  {
   "cell_type": "markdown",
   "metadata": {},
   "source": [
    "### 2.1. Посчитаем, сколько игр выпускалось за разные годы"
   ]
  },
  {
   "cell_type": "markdown",
   "metadata": {},
   "source": [
    "Нам нужно узнать, сколько игр выпускалось за разные годы. Для этого создадим таблицу **df_year**, где сгруппируем выпущенные игры по годам и с помощью **count** подсчитаем их."
   ]
  },
  {
   "cell_type": "code",
   "execution_count": 21,
   "metadata": {},
   "outputs": [
    {
     "data": {
      "text/html": [
       "<div>\n",
       "<style scoped>\n",
       "    .dataframe tbody tr th:only-of-type {\n",
       "        vertical-align: middle;\n",
       "    }\n",
       "\n",
       "    .dataframe tbody tr th {\n",
       "        vertical-align: top;\n",
       "    }\n",
       "\n",
       "    .dataframe thead th {\n",
       "        text-align: right;\n",
       "    }\n",
       "</style>\n",
       "<table border=\"1\" class=\"dataframe\">\n",
       "  <thead>\n",
       "    <tr style=\"text-align: right;\">\n",
       "      <th></th>\n",
       "      <th>name</th>\n",
       "    </tr>\n",
       "    <tr>\n",
       "      <th>year_of_release</th>\n",
       "      <th></th>\n",
       "    </tr>\n",
       "  </thead>\n",
       "  <tbody>\n",
       "    <tr>\n",
       "      <th>1980.0</th>\n",
       "      <td>9</td>\n",
       "    </tr>\n",
       "    <tr>\n",
       "      <th>1981.0</th>\n",
       "      <td>46</td>\n",
       "    </tr>\n",
       "    <tr>\n",
       "      <th>1982.0</th>\n",
       "      <td>36</td>\n",
       "    </tr>\n",
       "    <tr>\n",
       "      <th>1983.0</th>\n",
       "      <td>17</td>\n",
       "    </tr>\n",
       "    <tr>\n",
       "      <th>1984.0</th>\n",
       "      <td>14</td>\n",
       "    </tr>\n",
       "    <tr>\n",
       "      <th>1985.0</th>\n",
       "      <td>14</td>\n",
       "    </tr>\n",
       "    <tr>\n",
       "      <th>1986.0</th>\n",
       "      <td>21</td>\n",
       "    </tr>\n",
       "    <tr>\n",
       "      <th>1987.0</th>\n",
       "      <td>16</td>\n",
       "    </tr>\n",
       "    <tr>\n",
       "      <th>1988.0</th>\n",
       "      <td>15</td>\n",
       "    </tr>\n",
       "    <tr>\n",
       "      <th>1989.0</th>\n",
       "      <td>17</td>\n",
       "    </tr>\n",
       "    <tr>\n",
       "      <th>1990.0</th>\n",
       "      <td>16</td>\n",
       "    </tr>\n",
       "    <tr>\n",
       "      <th>1991.0</th>\n",
       "      <td>41</td>\n",
       "    </tr>\n",
       "    <tr>\n",
       "      <th>1992.0</th>\n",
       "      <td>43</td>\n",
       "    </tr>\n",
       "    <tr>\n",
       "      <th>1993.0</th>\n",
       "      <td>60</td>\n",
       "    </tr>\n",
       "    <tr>\n",
       "      <th>1994.0</th>\n",
       "      <td>121</td>\n",
       "    </tr>\n",
       "    <tr>\n",
       "      <th>1995.0</th>\n",
       "      <td>219</td>\n",
       "    </tr>\n",
       "    <tr>\n",
       "      <th>1996.0</th>\n",
       "      <td>263</td>\n",
       "    </tr>\n",
       "    <tr>\n",
       "      <th>1997.0</th>\n",
       "      <td>289</td>\n",
       "    </tr>\n",
       "    <tr>\n",
       "      <th>1998.0</th>\n",
       "      <td>379</td>\n",
       "    </tr>\n",
       "    <tr>\n",
       "      <th>1999.0</th>\n",
       "      <td>338</td>\n",
       "    </tr>\n",
       "    <tr>\n",
       "      <th>2000.0</th>\n",
       "      <td>350</td>\n",
       "    </tr>\n",
       "    <tr>\n",
       "      <th>2001.0</th>\n",
       "      <td>482</td>\n",
       "    </tr>\n",
       "    <tr>\n",
       "      <th>2002.0</th>\n",
       "      <td>829</td>\n",
       "    </tr>\n",
       "    <tr>\n",
       "      <th>2003.0</th>\n",
       "      <td>775</td>\n",
       "    </tr>\n",
       "    <tr>\n",
       "      <th>2004.0</th>\n",
       "      <td>762</td>\n",
       "    </tr>\n",
       "    <tr>\n",
       "      <th>2005.0</th>\n",
       "      <td>939</td>\n",
       "    </tr>\n",
       "    <tr>\n",
       "      <th>2006.0</th>\n",
       "      <td>1006</td>\n",
       "    </tr>\n",
       "    <tr>\n",
       "      <th>2007.0</th>\n",
       "      <td>1197</td>\n",
       "    </tr>\n",
       "    <tr>\n",
       "      <th>2008.0</th>\n",
       "      <td>1427</td>\n",
       "    </tr>\n",
       "    <tr>\n",
       "      <th>2009.0</th>\n",
       "      <td>1426</td>\n",
       "    </tr>\n",
       "    <tr>\n",
       "      <th>2010.0</th>\n",
       "      <td>1255</td>\n",
       "    </tr>\n",
       "    <tr>\n",
       "      <th>2011.0</th>\n",
       "      <td>1136</td>\n",
       "    </tr>\n",
       "    <tr>\n",
       "      <th>2012.0</th>\n",
       "      <td>653</td>\n",
       "    </tr>\n",
       "    <tr>\n",
       "      <th>2013.0</th>\n",
       "      <td>544</td>\n",
       "    </tr>\n",
       "    <tr>\n",
       "      <th>2014.0</th>\n",
       "      <td>581</td>\n",
       "    </tr>\n",
       "    <tr>\n",
       "      <th>2015.0</th>\n",
       "      <td>606</td>\n",
       "    </tr>\n",
       "    <tr>\n",
       "      <th>2016.0</th>\n",
       "      <td>502</td>\n",
       "    </tr>\n",
       "  </tbody>\n",
       "</table>\n",
       "</div>"
      ],
      "text/plain": [
       "                 name\n",
       "year_of_release      \n",
       "1980.0              9\n",
       "1981.0             46\n",
       "1982.0             36\n",
       "1983.0             17\n",
       "1984.0             14\n",
       "1985.0             14\n",
       "1986.0             21\n",
       "1987.0             16\n",
       "1988.0             15\n",
       "1989.0             17\n",
       "1990.0             16\n",
       "1991.0             41\n",
       "1992.0             43\n",
       "1993.0             60\n",
       "1994.0            121\n",
       "1995.0            219\n",
       "1996.0            263\n",
       "1997.0            289\n",
       "1998.0            379\n",
       "1999.0            338\n",
       "2000.0            350\n",
       "2001.0            482\n",
       "2002.0            829\n",
       "2003.0            775\n",
       "2004.0            762\n",
       "2005.0            939\n",
       "2006.0           1006\n",
       "2007.0           1197\n",
       "2008.0           1427\n",
       "2009.0           1426\n",
       "2010.0           1255\n",
       "2011.0           1136\n",
       "2012.0            653\n",
       "2013.0            544\n",
       "2014.0            581\n",
       "2015.0            606\n",
       "2016.0            502"
      ]
     },
     "execution_count": 21,
     "metadata": {},
     "output_type": "execute_result"
    }
   ],
   "source": [
    "df_year = games.pivot_table(index='year_of_release', values='name', aggfunc='count')\n",
    "df_year"
   ]
  },
  {
   "cell_type": "markdown",
   "metadata": {},
   "source": [
    "Однако цель нашего исслдования в том, чтобы запланировать компанию на 2017 год. Соответственно, нам не понадобятся данные за все годы. Посмотрим, как график выпущенных игр за последние 10 лет."
   ]
  },
  {
   "cell_type": "code",
   "execution_count": 22,
   "metadata": {},
   "outputs": [
    {
     "data": {
      "text/plain": [
       "[Text(0.5, 0, 'год выпуска'), Text(0, 0.5, 'количество игр')]"
      ]
     },
     "execution_count": 22,
     "metadata": {},
     "output_type": "execute_result"
    },
    {
     "data": {
      "image/png": "[encoded data removed]",
      "text/plain": [
       "<Figure size 864x360 with 1 Axes>"
      ]
     },
     "metadata": {
      "needs_background": "light"
     },
     "output_type": "display_data"
    }
   ],
   "source": [
    "df_year.query('year_of_release >= 2007') \\\n",
    "       .plot(grid=True, title='Количество выпущенных игр по годам', figsize=(12, 5))\n",
    "plt.gca().set(xlabel='год выпуска', ylabel='количество игр')\n",
    "\n"
   ]
  },
  {
   "cell_type": "markdown",
   "metadata": {},
   "source": [
    "Как по таблице, так и по графику мы видим, что самое большое количество игр выпуслось в 2008 и 2009 годах (чуть больше 1400), а дальше идет спад, причем с 2011 года - очень резкий (за год количество выпускаемых игр уменьшилось почти вполовину). К 2015 году было небольшое увеличение, но к 2016 количество опять уменьшилось (с 606 до 502). "
   ]
  },
  {
   "cell_type": "markdown",
   "metadata": {},
   "source": [
    "### 2.2. Выберем актуальный период"
   ]
  },
  {
   "cell_type": "markdown",
   "metadata": {},
   "source": [
    "Создадим таблицу **games_10**, где будут данные только за последние 10 лет. "
   ]
  },
  {
   "cell_type": "code",
   "execution_count": 23,
   "metadata": {},
   "outputs": [
    {
     "data": {
      "text/html": [
       "<div>\n",
       "<style scoped>\n",
       "    .dataframe tbody tr th:only-of-type {\n",
       "        vertical-align: middle;\n",
       "    }\n",
       "\n",
       "    .dataframe tbody tr th {\n",
       "        vertical-align: top;\n",
       "    }\n",
       "\n",
       "    .dataframe thead th {\n",
       "        text-align: right;\n",
       "    }\n",
       "</style>\n",
       "<table border=\"1\" class=\"dataframe\">\n",
       "  <thead>\n",
       "    <tr style=\"text-align: right;\">\n",
       "      <th></th>\n",
       "      <th>index</th>\n",
       "      <th>name</th>\n",
       "      <th>platform</th>\n",
       "      <th>year_of_release</th>\n",
       "      <th>genre</th>\n",
       "      <th>na_sales</th>\n",
       "      <th>eu_sales</th>\n",
       "      <th>jp_sales</th>\n",
       "      <th>other_sales</th>\n",
       "      <th>critic_score</th>\n",
       "      <th>user_score</th>\n",
       "      <th>rating</th>\n",
       "      <th>all_sales</th>\n",
       "    </tr>\n",
       "  </thead>\n",
       "  <tbody>\n",
       "    <tr>\n",
       "      <th>0</th>\n",
       "      <td>2</td>\n",
       "      <td>Mario Kart Wii</td>\n",
       "      <td>Wii</td>\n",
       "      <td>2008.0</td>\n",
       "      <td>Racing</td>\n",
       "      <td>15.68</td>\n",
       "      <td>12.76</td>\n",
       "      <td>3.79</td>\n",
       "      <td>3.29</td>\n",
       "      <td>82.0</td>\n",
       "      <td>8.3</td>\n",
       "      <td>E</td>\n",
       "      <td>35.52</td>\n",
       "    </tr>\n",
       "    <tr>\n",
       "      <th>1</th>\n",
       "      <td>3</td>\n",
       "      <td>Wii Sports Resort</td>\n",
       "      <td>Wii</td>\n",
       "      <td>2009.0</td>\n",
       "      <td>Sports</td>\n",
       "      <td>15.61</td>\n",
       "      <td>10.93</td>\n",
       "      <td>3.28</td>\n",
       "      <td>2.95</td>\n",
       "      <td>80.0</td>\n",
       "      <td>8.0</td>\n",
       "      <td>E</td>\n",
       "      <td>32.77</td>\n",
       "    </tr>\n",
       "    <tr>\n",
       "      <th>2</th>\n",
       "      <td>8</td>\n",
       "      <td>New Super Mario Bros. Wii</td>\n",
       "      <td>Wii</td>\n",
       "      <td>2009.0</td>\n",
       "      <td>Platform</td>\n",
       "      <td>14.44</td>\n",
       "      <td>6.94</td>\n",
       "      <td>4.70</td>\n",
       "      <td>2.24</td>\n",
       "      <td>87.0</td>\n",
       "      <td>8.4</td>\n",
       "      <td>E</td>\n",
       "      <td>28.32</td>\n",
       "    </tr>\n",
       "    <tr>\n",
       "      <th>3</th>\n",
       "      <td>13</td>\n",
       "      <td>Wii Fit</td>\n",
       "      <td>Wii</td>\n",
       "      <td>2007.0</td>\n",
       "      <td>Sports</td>\n",
       "      <td>8.92</td>\n",
       "      <td>8.03</td>\n",
       "      <td>3.60</td>\n",
       "      <td>2.15</td>\n",
       "      <td>80.0</td>\n",
       "      <td>7.7</td>\n",
       "      <td>E</td>\n",
       "      <td>22.70</td>\n",
       "    </tr>\n",
       "    <tr>\n",
       "      <th>4</th>\n",
       "      <td>14</td>\n",
       "      <td>Kinect Adventures!</td>\n",
       "      <td>X360</td>\n",
       "      <td>2010.0</td>\n",
       "      <td>Misc</td>\n",
       "      <td>15.00</td>\n",
       "      <td>4.89</td>\n",
       "      <td>0.24</td>\n",
       "      <td>1.69</td>\n",
       "      <td>61.0</td>\n",
       "      <td>6.3</td>\n",
       "      <td>E</td>\n",
       "      <td>21.82</td>\n",
       "    </tr>\n",
       "  </tbody>\n",
       "</table>\n",
       "</div>"
      ],
      "text/plain": [
       "   index                       name platform  year_of_release     genre  \\\n",
       "0      2             Mario Kart Wii      Wii           2008.0    Racing   \n",
       "1      3          Wii Sports Resort      Wii           2009.0    Sports   \n",
       "2      8  New Super Mario Bros. Wii      Wii           2009.0  Platform   \n",
       "3     13                    Wii Fit      Wii           2007.0    Sports   \n",
       "4     14         Kinect Adventures!     X360           2010.0      Misc   \n",
       "\n",
       "   na_sales  eu_sales  jp_sales  other_sales  critic_score  user_score rating  \\\n",
       "0     15.68     12.76      3.79         3.29          82.0         8.3      E   \n",
       "1     15.61     10.93      3.28         2.95          80.0         8.0      E   \n",
       "2     14.44      6.94      4.70         2.24          87.0         8.4      E   \n",
       "3      8.92      8.03      3.60         2.15          80.0         7.7      E   \n",
       "4     15.00      4.89      0.24         1.69          61.0         6.3      E   \n",
       "\n",
       "   all_sales  \n",
       "0      35.52  \n",
       "1      32.77  \n",
       "2      28.32  \n",
       "3      22.70  \n",
       "4      21.82  "
      ]
     },
     "execution_count": 23,
     "metadata": {},
     "output_type": "execute_result"
    }
   ],
   "source": [
    "games_10 = games.query('year_of_release >= 2007').reset_index()\n",
    "games_10.head()"
   ]
  },
  {
   "cell_type": "markdown",
   "metadata": {},
   "source": [
    "### 2.3. Выберем потенциально прибыльные платформы"
   ]
  },
  {
   "cell_type": "markdown",
   "metadata": {},
   "source": [
    "На следующем этапе нашего исследования нам надо выбрать несколько потенциально прибыльных платформ.\n"
   ]
  },
  {
   "cell_type": "code",
   "execution_count": 24,
   "metadata": {},
   "outputs": [
    {
     "data": {
      "text/plain": [
       "[Text(0.5, 0, 'год выпуска'), Text(0, 0.5, 'количество игр')]"
      ]
     },
     "execution_count": 24,
     "metadata": {},
     "output_type": "execute_result"
    },
    {
     "data": {
      "image/png": "[encoded data removed]",
      "text/plain": [
       "<Figure size 1008x432 with 1 Axes>"
      ]
     },
     "metadata": {
      "needs_background": "light"
     },
     "output_type": "display_data"
    }
   ],
   "source": [
    "games_10.pivot_table(index='year_of_release', columns='platform', values='all_sales', aggfunc='sum').plot(grid=True, title='Динамика продаж игр (по платформам)', figsize=(14,6))\n",
    "plt.gca().set(xlabel='год выпуска', ylabel='количество игр')"
   ]
  },
  {
   "cell_type": "markdown",
   "metadata": {},
   "source": [
    "По графику мы видим, что показатели продаж падают у всех платформ, поскольку, как мы выяснили из предыдущего этапа исследования, игр тоже стало выпускаться меньше. Однако, по графику мы можем выделить 3 платформы, чьи продажи хоть и упали, но не так низко, как у других (в ближайшем к нам временном промежутке 2015-2016 гг.):\n",
    "\n",
    "* **PS4**\n",
    "* **XOne**\n",
    "* **3DS**"
   ]
  },
  {
   "cell_type": "markdown",
   "metadata": {},
   "source": [
    "### 2.4. Глобальные продажи игр в разбивке по платформам"
   ]
  },
  {
   "cell_type": "markdown",
   "metadata": {},
   "source": [
    "Теперь подробнее рассмотрим глобальные продажи игр в разбивке по платформам. Для этого построим диаграммы размаха. Возьмем данные с 2015 года."
   ]
  },
  {
   "cell_type": "code",
   "execution_count": 25,
   "metadata": {},
   "outputs": [
    {
     "data": {
      "text/plain": [
       "[Text(0.5, 0, 'суммарные продажи'), Text(0, 0.5, 'платформы')]"
      ]
     },
     "execution_count": 25,
     "metadata": {},
     "output_type": "execute_result"
    },
    {
     "data": {
      "image/png": "[encoded data removed]",
      "text/plain": [
       "<Figure size 1080x504 with 1 Axes>"
      ]
     },
     "metadata": {
      "needs_background": "light"
     },
     "output_type": "display_data"
    }
   ],
   "source": [
    "fig, ax = plt.subplots(figsize = (15,7))\n",
    "sns.boxplot(data = games_10.query('year_of_release >= 2015'), x= 'all_sales', y = 'platform', orient = 'h')\n",
    "\n",
    "plt.xlim(0,2)\n",
    "plt.title('Глобальные продажи игр в разбивке по платформам')\n",
    "plt.gca().set(xlabel='суммарные продажи', ylabel='платформы')"
   ]
  },
  {
   "cell_type": "markdown",
   "metadata": {},
   "source": [
    "По всей видимости, мы правильно определили среди платформ \"тройку лидеров\": **PS4**, **XOne** и **3DS**. Медиана у всех платформ находится в одной границе. "
   ]
  },
  {
   "cell_type": "markdown",
   "metadata": {},
   "source": [
    "Также видим, что у нас много выбросов - на это указывает большое количество отдельных точек, а также тот факт, что медиана не стремится к длинному хвосту высоких значений. Но избавляться от этих выбросов мы не будем, так как их слишком много и это может отразиться на результатах исследования."
   ]
  },
  {
   "cell_type": "markdown",
   "metadata": {},
   "source": [
    "### 2.5. Корреляция между отзывами и продажами"
   ]
  },
  {
   "cell_type": "markdown",
   "metadata": {},
   "source": [
    "Нам надо узнать, влияют ли отзывы критиков и пользователей на продажи на примере одной платформы. Мы возьмем для исследования этого вопроса самую популярную платформу 2015-2016 гг. (как видно из графиков) - **PS4**."
   ]
  },
  {
   "cell_type": "markdown",
   "metadata": {},
   "source": [
    "Посмотрим диаграммы рассеяния и посчитаем корреляцию между отзывами и продажами."
   ]
  },
  {
   "cell_type": "code",
   "execution_count": 26,
   "metadata": {},
   "outputs": [
    {
     "data": {
      "text/plain": [
       "[Text(0.5, 0, 'оценка критиков'), Text(0, 0.5, 'суммарные продажи')]"
      ]
     },
     "execution_count": 26,
     "metadata": {},
     "output_type": "execute_result"
    },
    {
     "data": {
      "image/png": "[encoded data removed]",
      "text/plain": [
       "<Figure size 432x288 with 1 Axes>"
      ]
     },
     "metadata": {
      "needs_background": "light"
     },
     "output_type": "display_data"
    }
   ],
   "source": [
    "games_10.query('platform == \"PS4\"') \\\n",
    "        .plot(x='critic_score', y='all_sales', title='Влияние отзывов критиков на продажи (PS4)', kind='scatter', grid=True)\n",
    "plt.gca().set(xlabel='оценка критиков', ylabel='суммарные продажи')"
   ]
  },
  {
   "cell_type": "code",
   "execution_count": 27,
   "metadata": {},
   "outputs": [
    {
     "data": {
      "text/plain": [
       "[Text(0.5, 0, 'оценка пользователей'), Text(0, 0.5, 'суммарные продажи')]"
      ]
     },
     "execution_count": 27,
     "metadata": {},
     "output_type": "execute_result"
    },
    {
     "data": {
      "image/png": "[encoded data removed]",
      "text/plain": [
       "<Figure size 432x288 with 1 Axes>"
      ]
     },
     "metadata": {
      "needs_background": "light"
     },
     "output_type": "display_data"
    }
   ],
   "source": [
    "games_10.query('platform == \"PS4\"') \\\n",
    "        .plot(x='user_score', y='all_sales', title='Влияние отзывов пользователей на продажи (PS4)', kind='scatter', grid=True)\n",
    "plt.gca().set(xlabel='оценка пользователей', ylabel='суммарные продажи')"
   ]
  },
  {
   "cell_type": "code",
   "execution_count": 28,
   "metadata": {},
   "outputs": [
    {
     "data": {
      "text/html": [
       "<div>\n",
       "<style scoped>\n",
       "    .dataframe tbody tr th:only-of-type {\n",
       "        vertical-align: middle;\n",
       "    }\n",
       "\n",
       "    .dataframe tbody tr th {\n",
       "        vertical-align: top;\n",
       "    }\n",
       "\n",
       "    .dataframe thead th {\n",
       "        text-align: right;\n",
       "    }\n",
       "</style>\n",
       "<table border=\"1\" class=\"dataframe\">\n",
       "  <thead>\n",
       "    <tr style=\"text-align: right;\">\n",
       "      <th></th>\n",
       "      <th>all_sales</th>\n",
       "      <th>critic_score</th>\n",
       "      <th>user_score</th>\n",
       "    </tr>\n",
       "  </thead>\n",
       "  <tbody>\n",
       "    <tr>\n",
       "      <th>all_sales</th>\n",
       "      <td>1.000000</td>\n",
       "      <td>0.251229</td>\n",
       "      <td>0.016439</td>\n",
       "    </tr>\n",
       "    <tr>\n",
       "      <th>critic_score</th>\n",
       "      <td>0.251229</td>\n",
       "      <td>1.000000</td>\n",
       "      <td>0.432961</td>\n",
       "    </tr>\n",
       "    <tr>\n",
       "      <th>user_score</th>\n",
       "      <td>0.016439</td>\n",
       "      <td>0.432961</td>\n",
       "      <td>1.000000</td>\n",
       "    </tr>\n",
       "  </tbody>\n",
       "</table>\n",
       "</div>"
      ],
      "text/plain": [
       "              all_sales  critic_score  user_score\n",
       "all_sales      1.000000      0.251229    0.016439\n",
       "critic_score   0.251229      1.000000    0.432961\n",
       "user_score     0.016439      0.432961    1.000000"
      ]
     },
     "execution_count": 28,
     "metadata": {},
     "output_type": "execute_result"
    }
   ],
   "source": [
    "corr_df = games_10[['all_sales', 'critic_score', 'user_score']]\n",
    "corr_df.corr()"
   ]
  },
  {
   "cell_type": "markdown",
   "metadata": {},
   "source": [
    "Диаграммы похожи: в обоих случаях чем выше оценка критиков и пользователей,тем больше продажи. И из подсчетов видно, что оба коэффициента больше нуля, корреляция положительная (причем показатель критиков все же больше - их коэффициент ближе к 1, чем у пользователей). "
   ]
  },
  {
   "cell_type": "markdown",
   "metadata": {},
   "source": [
    "### 2.6. Соотнесем выводы с продажами игр на других платформах"
   ]
  },
  {
   "cell_type": "markdown",
   "metadata": {},
   "source": [
    "Для того,чтобы сранить влияние мнений критиков и пользователей на продажи игр для остальных платформ, создадим в таблице **games_10** столбец *'PS4_make'*, где будет разделение на PS4 и другие платформы (not PS4)."
   ]
  },
  {
   "cell_type": "code",
   "execution_count": 29,
   "metadata": {},
   "outputs": [
    {
     "data": {
      "text/html": [
       "<div>\n",
       "<style scoped>\n",
       "    .dataframe tbody tr th:only-of-type {\n",
       "        vertical-align: middle;\n",
       "    }\n",
       "\n",
       "    .dataframe tbody tr th {\n",
       "        vertical-align: top;\n",
       "    }\n",
       "\n",
       "    .dataframe thead th {\n",
       "        text-align: right;\n",
       "    }\n",
       "</style>\n",
       "<table border=\"1\" class=\"dataframe\">\n",
       "  <thead>\n",
       "    <tr style=\"text-align: right;\">\n",
       "      <th></th>\n",
       "      <th>index</th>\n",
       "      <th>name</th>\n",
       "      <th>platform</th>\n",
       "      <th>year_of_release</th>\n",
       "      <th>genre</th>\n",
       "      <th>na_sales</th>\n",
       "      <th>eu_sales</th>\n",
       "      <th>jp_sales</th>\n",
       "      <th>other_sales</th>\n",
       "      <th>critic_score</th>\n",
       "      <th>user_score</th>\n",
       "      <th>rating</th>\n",
       "      <th>all_sales</th>\n",
       "      <th>PS4_make</th>\n",
       "    </tr>\n",
       "  </thead>\n",
       "  <tbody>\n",
       "    <tr>\n",
       "      <th>0</th>\n",
       "      <td>2</td>\n",
       "      <td>Mario Kart Wii</td>\n",
       "      <td>Wii</td>\n",
       "      <td>2008.0</td>\n",
       "      <td>Racing</td>\n",
       "      <td>15.68</td>\n",
       "      <td>12.76</td>\n",
       "      <td>3.79</td>\n",
       "      <td>3.29</td>\n",
       "      <td>82.0</td>\n",
       "      <td>8.3</td>\n",
       "      <td>E</td>\n",
       "      <td>35.52</td>\n",
       "      <td>not PS4</td>\n",
       "    </tr>\n",
       "    <tr>\n",
       "      <th>1</th>\n",
       "      <td>3</td>\n",
       "      <td>Wii Sports Resort</td>\n",
       "      <td>Wii</td>\n",
       "      <td>2009.0</td>\n",
       "      <td>Sports</td>\n",
       "      <td>15.61</td>\n",
       "      <td>10.93</td>\n",
       "      <td>3.28</td>\n",
       "      <td>2.95</td>\n",
       "      <td>80.0</td>\n",
       "      <td>8.0</td>\n",
       "      <td>E</td>\n",
       "      <td>32.77</td>\n",
       "      <td>not PS4</td>\n",
       "    </tr>\n",
       "    <tr>\n",
       "      <th>2</th>\n",
       "      <td>8</td>\n",
       "      <td>New Super Mario Bros. Wii</td>\n",
       "      <td>Wii</td>\n",
       "      <td>2009.0</td>\n",
       "      <td>Platform</td>\n",
       "      <td>14.44</td>\n",
       "      <td>6.94</td>\n",
       "      <td>4.70</td>\n",
       "      <td>2.24</td>\n",
       "      <td>87.0</td>\n",
       "      <td>8.4</td>\n",
       "      <td>E</td>\n",
       "      <td>28.32</td>\n",
       "      <td>not PS4</td>\n",
       "    </tr>\n",
       "    <tr>\n",
       "      <th>3</th>\n",
       "      <td>13</td>\n",
       "      <td>Wii Fit</td>\n",
       "      <td>Wii</td>\n",
       "      <td>2007.0</td>\n",
       "      <td>Sports</td>\n",
       "      <td>8.92</td>\n",
       "      <td>8.03</td>\n",
       "      <td>3.60</td>\n",
       "      <td>2.15</td>\n",
       "      <td>80.0</td>\n",
       "      <td>7.7</td>\n",
       "      <td>E</td>\n",
       "      <td>22.70</td>\n",
       "      <td>not PS4</td>\n",
       "    </tr>\n",
       "    <tr>\n",
       "      <th>4</th>\n",
       "      <td>14</td>\n",
       "      <td>Kinect Adventures!</td>\n",
       "      <td>X360</td>\n",
       "      <td>2010.0</td>\n",
       "      <td>Misc</td>\n",
       "      <td>15.00</td>\n",
       "      <td>4.89</td>\n",
       "      <td>0.24</td>\n",
       "      <td>1.69</td>\n",
       "      <td>61.0</td>\n",
       "      <td>6.3</td>\n",
       "      <td>E</td>\n",
       "      <td>21.82</td>\n",
       "      <td>not PS4</td>\n",
       "    </tr>\n",
       "  </tbody>\n",
       "</table>\n",
       "</div>"
      ],
      "text/plain": [
       "   index                       name platform  year_of_release     genre  \\\n",
       "0      2             Mario Kart Wii      Wii           2008.0    Racing   \n",
       "1      3          Wii Sports Resort      Wii           2009.0    Sports   \n",
       "2      8  New Super Mario Bros. Wii      Wii           2009.0  Platform   \n",
       "3     13                    Wii Fit      Wii           2007.0    Sports   \n",
       "4     14         Kinect Adventures!     X360           2010.0      Misc   \n",
       "\n",
       "   na_sales  eu_sales  jp_sales  other_sales  critic_score  user_score rating  \\\n",
       "0     15.68     12.76      3.79         3.29          82.0         8.3      E   \n",
       "1     15.61     10.93      3.28         2.95          80.0         8.0      E   \n",
       "2     14.44      6.94      4.70         2.24          87.0         8.4      E   \n",
       "3      8.92      8.03      3.60         2.15          80.0         7.7      E   \n",
       "4     15.00      4.89      0.24         1.69          61.0         6.3      E   \n",
       "\n",
       "   all_sales PS4_make  \n",
       "0      35.52  not PS4  \n",
       "1      32.77  not PS4  \n",
       "2      28.32  not PS4  \n",
       "3      22.70  not PS4  \n",
       "4      21.82  not PS4  "
      ]
     },
     "execution_count": 29,
     "metadata": {},
     "output_type": "execute_result"
    }
   ],
   "source": [
    "games_10['PS4_make'] = 'not PS4'\n",
    "games_10.loc[games_10.platform=='PS4','PS4_make'] = 'PS4'\n",
    "games_10.head()"
   ]
  },
  {
   "cell_type": "markdown",
   "metadata": {},
   "source": [
    "Построим графики:"
   ]
  },
  {
   "cell_type": "code",
   "execution_count": 30,
   "metadata": {},
   "outputs": [
    {
     "data": {
      "image/png": "[encoded data removed]",
      "text/plain": [
       "<Figure size 1008x576 with 1 Axes>"
      ]
     },
     "metadata": {
      "needs_background": "light"
     },
     "output_type": "display_data"
    }
   ],
   "source": [
    "games_10.query('year_of_release >= 2015') \\\n",
    "        .pivot_table(index=\"critic_score\", columns=\"PS4_make\", values=\"platform\", aggfunc='count')\\\n",
    "                                                                    .sort_index().plot(kind=\"bar\", figsize=(14,8), grid=True)\n",
    "plt.title('Влияние отзывов критиков на продажи (PS4/другие платформы)')\n",
    "plt.gca().set(xlabel='оценка критиков')\n",
    "plt.show()"
   ]
  },
  {
   "cell_type": "code",
   "execution_count": 31,
   "metadata": {},
   "outputs": [
    {
     "data": {
      "image/png": "[encoded data removed]",
      "text/plain": [
       "<Figure size 1008x576 with 1 Axes>"
      ]
     },
     "metadata": {
      "needs_background": "light"
     },
     "output_type": "display_data"
    }
   ],
   "source": [
    "games_10.query('year_of_release >= 2015') \\\n",
    "        .pivot_table(index=\"user_score\", columns=\"PS4_make\", values=\"platform\", aggfunc='count')\\\n",
    "                                                .sort_index().plot(kind=\"bar\", figsize=(14,8), grid=True)                \n",
    "plt.title('Влияние отзывов пользователей на продажи (PS4/другие платформы)')\n",
    "plt.gca().set(xlabel='оценка пользователей')\n",
    "plt.show()"
   ]
  },
  {
   "cell_type": "markdown",
   "metadata": {},
   "source": [
    "На этих сравнительных графиках мы видим, что хорошие отзывы об играх и критиков,и пользователей (в отличии от результатов PS4) влияют на увеличение продаж. Также хорошо продаются на всех остальных платформах еще не выпущенные,а только анонсированные игры (об этом свидетельвует резкий подъем показателей на числовом маркере *'0000'*, а вот у PS4 его нет)."
   ]
  },
  {
   "cell_type": "markdown",
   "metadata": {},
   "source": [
    "### 2.7. Распределение игр по жанрам"
   ]
  },
  {
   "cell_type": "markdown",
   "metadata": {},
   "source": [
    "Нам нужно выяснить какие жанры продаются лучше, а какие хуже. Построим круговую диаграмму:"
   ]
  },
  {
   "cell_type": "code",
   "execution_count": 32,
   "metadata": {},
   "outputs": [
    {
     "data": {
      "text/plain": [
       "array([<AxesSubplot:ylabel='all_sales'>], dtype=object)"
      ]
     },
     "execution_count": 32,
     "metadata": {},
     "output_type": "execute_result"
    },
    {
     "data": {
      "image/png": "[encoded data removed]",
      "text/plain": [
       "<Figure size 720x720 with 1 Axes>"
      ]
     },
     "metadata": {},
     "output_type": "display_data"
    }
   ],
   "source": [
    "games_10.pivot_table(index='genre', values='all_sales', aggfunc='sum') \\\n",
    "        .plot(kind='pie', title='Распределение игр по жанрам', figsize=(10,10), subplots=True )"
   ]
  },
  {
   "cell_type": "markdown",
   "metadata": {},
   "source": [
    "По диаграмме мы видим, что лидируют по продажам жанры:\n",
    "    \n",
    "1. **Action** (самое большое количество)\n",
    "2. **Shooter** \n",
    "3. **Sports**\n",
    "\n",
    "**Sports** и **Shooter** примерно одинаковы по количеству. "
   ]
  },
  {
   "cell_type": "markdown",
   "metadata": {},
   "source": [
    "А меньше всего продаж у таких жанров, как **'Puzzle'** и **'Strategy'** - их количество примерно одинаково."
   ]
  },
  {
   "cell_type": "markdown",
   "metadata": {},
   "source": [
    "Такое распределение, как мне кажется, связано с тем, что играют в основном мужчины(молодые люди, мальчики), процент играющих женщин(девушек) не очень велик, поэтому популярны именно те жанры, которые мы выявили. А вот стратегий самих по себе не так много, тем более хороших."
   ]
  },
  {
   "cell_type": "markdown",
   "metadata": {},
   "source": [
    "### 2.8. Вывод"
   ]
  },
  {
   "cell_type": "markdown",
   "metadata": {},
   "source": [
    "Мы сгруппировали выпущенные игры по годам (за последние 10 лет). Самое большое количество игр выпуслось в 2008 и 2009 годах (чуть больше 1400), а дальше идет спад, причем с 2011 года - очень резкий (за год количество выпускаемых игр уменьшилось почти вполовину). К 2015 году было небольшое увеличение, но к 2016 количество опять уменьшилось (с 606 до 502). "
   ]
  },
  {
   "cell_type": "markdown",
   "metadata": {},
   "source": [
    "Мы выделили 3 платформы, чьи продажи хоть и упали, но не так низко, как у других (в ближайшем к нам временном промежутке 2015-2016 гг.):\n",
    "\n",
    "* **PS4**\n",
    "* **XOne**\n",
    "* **3DS**"
   ]
  },
  {
   "cell_type": "markdown",
   "metadata": {},
   "source": [
    "С помощью диаграмм размаха мы рассмотрели глобальные продажи по платформам (с 2015 года).  Мы правильно определили среди платформ \"тройку лидеров\": **PS4**, **XOne** и **3DS**, однако, диаграмма показала,что имеется большое количество выбросов. Мы не стали от них избавляться, так как это может повлиять на результаты исследования."
   ]
  },
  {
   "cell_type": "markdown",
   "metadata": {},
   "source": [
    "На примере одной платформы (**PS4**) мы построили диаграммы рассеяния и выявили зависимость продаж от отзывов критиков и пользователей. А из подсчетов видно, что оба коэффициента больше нуля, корреляция положительная (причем показатель критиков все же больше - их коэффициент ближе к 1, чем у пользователей). "
   ]
  },
  {
   "cell_type": "markdown",
   "metadata": {},
   "source": [
    "Для других платформ мы построили сравнительные графики (с **PS4**). На них видно, что хорошие отзывы об играх и критиков,и пользователей (в отличии от результатов PS4) влияют на увеличение продаж. Также хорошо продаются на всех остальных платформах еще не выпущенные,а только анонсированные игры (об этом свидетельвует резкий подъем показателей на числовом маркере *'0000'*, а вот у PS4 его нет)."
   ]
  },
  {
   "cell_type": "markdown",
   "metadata": {},
   "source": [
    "Также нам надо было узнать, какие жанры продаются лучше, а какие - хуже. Для наглядности мы построили круговую диаграмму. Лидируют по продажам жанры:\n",
    "    \n",
    "1. **Action** (самое большое количество)\n",
    "2. **Shooter** \n",
    "3. **Sports**\n"
   ]
  },
  {
   "cell_type": "markdown",
   "metadata": {},
   "source": [
    "А меньше всего продаж у таких жанров, как **'Puzzle'** и **'Strategy'**. Такое распределение, возможно, связано с тем, что играют в основном мужчины(молодые люди, мальчики), поэтому популярны именно те жанры, которые мы выявили. А вот стратегий самих по себе не так много."
   ]
  },
  {
   "cell_type": "markdown",
   "metadata": {},
   "source": [
    "Мы провели исследовательский анализ данных. Приступаем к анализу портретов пользователей."
   ]
  },
  {
   "cell_type": "markdown",
   "metadata": {},
   "source": [
    "##  Шаг 3. Портрет пользователя каждого региона\n"
   ]
  },
  {
   "cell_type": "markdown",
   "metadata": {},
   "source": [
    "### 3.1. Определим 5 самых популярных игровых платформ в Северной Америке, Европе и Японии."
   ]
  },
  {
   "cell_type": "markdown",
   "metadata": {},
   "source": [
    "Построим сравнительный график, а также с помощью сводных таблиц и метода **sort_values** выявим 5 самых подаваемых платформ в каждом регионе:  "
   ]
  },
  {
   "cell_type": "code",
   "execution_count": 33,
   "metadata": {},
   "outputs": [
    {
     "data": {
      "text/plain": [
       "Text(0.5, 1.0, 'Самые популярные платформы (по регионам)')"
      ]
     },
     "execution_count": 33,
     "metadata": {},
     "output_type": "execute_result"
    },
    {
     "data": {
      "image/png": "[encoded data removed]",
      "text/plain": [
       "<Figure size 1008x576 with 1 Axes>"
      ]
     },
     "metadata": {
      "needs_background": "light"
     },
     "output_type": "display_data"
    }
   ],
   "source": [
    "regions=['na_sales', 'eu_sales', 'jp_sales']\n",
    "\n",
    "best_platforms=games_10.pivot_table(index='platform', values=regions, aggfunc='sum') \\\n",
    "            .sort_index().plot(kind=\"bar\", figsize=(14,8), grid=True)\n",
    "plt.gca().set(xlabel='платформы')\n",
    "plt.title('Самые популярные платформы (по регионам)')"
   ]
  },
  {
   "cell_type": "code",
   "execution_count": 34,
   "metadata": {},
   "outputs": [
    {
     "data": {
      "text/html": [
       "<div>\n",
       "<style scoped>\n",
       "    .dataframe tbody tr th:only-of-type {\n",
       "        vertical-align: middle;\n",
       "    }\n",
       "\n",
       "    .dataframe tbody tr th {\n",
       "        vertical-align: top;\n",
       "    }\n",
       "\n",
       "    .dataframe thead th {\n",
       "        text-align: right;\n",
       "    }\n",
       "</style>\n",
       "<table border=\"1\" class=\"dataframe\">\n",
       "  <thead>\n",
       "    <tr style=\"text-align: right;\">\n",
       "      <th></th>\n",
       "      <th>na_sales</th>\n",
       "    </tr>\n",
       "    <tr>\n",
       "      <th>platform</th>\n",
       "      <th></th>\n",
       "    </tr>\n",
       "  </thead>\n",
       "  <tbody>\n",
       "    <tr>\n",
       "      <th>X360</th>\n",
       "      <td>553.68</td>\n",
       "    </tr>\n",
       "    <tr>\n",
       "      <th>Wii</th>\n",
       "      <td>416.01</td>\n",
       "    </tr>\n",
       "    <tr>\n",
       "      <th>PS3</th>\n",
       "      <td>381.29</td>\n",
       "    </tr>\n",
       "    <tr>\n",
       "      <th>DS</th>\n",
       "      <td>273.98</td>\n",
       "    </tr>\n",
       "    <tr>\n",
       "      <th>PS4</th>\n",
       "      <td>108.74</td>\n",
       "    </tr>\n",
       "  </tbody>\n",
       "</table>\n",
       "</div>"
      ],
      "text/plain": [
       "          na_sales\n",
       "platform          \n",
       "X360        553.68\n",
       "Wii         416.01\n",
       "PS3         381.29\n",
       "DS          273.98\n",
       "PS4         108.74"
      ]
     },
     "execution_count": 34,
     "metadata": {},
     "output_type": "execute_result"
    }
   ],
   "source": [
    "games_10.pivot_table(index='platform', values='na_sales', aggfunc='sum') \\\n",
    "        .sort_values(by='na_sales', ascending=False) \\\n",
    "        .head()\n",
    "\n"
   ]
  },
  {
   "cell_type": "code",
   "execution_count": 35,
   "metadata": {},
   "outputs": [
    {
     "data": {
      "text/html": [
       "<div>\n",
       "<style scoped>\n",
       "    .dataframe tbody tr th:only-of-type {\n",
       "        vertical-align: middle;\n",
       "    }\n",
       "\n",
       "    .dataframe tbody tr th {\n",
       "        vertical-align: top;\n",
       "    }\n",
       "\n",
       "    .dataframe thead th {\n",
       "        text-align: right;\n",
       "    }\n",
       "</style>\n",
       "<table border=\"1\" class=\"dataframe\">\n",
       "  <thead>\n",
       "    <tr style=\"text-align: right;\">\n",
       "      <th></th>\n",
       "      <th>eu_sales</th>\n",
       "    </tr>\n",
       "    <tr>\n",
       "      <th>platform</th>\n",
       "      <th></th>\n",
       "    </tr>\n",
       "  </thead>\n",
       "  <tbody>\n",
       "    <tr>\n",
       "      <th>PS3</th>\n",
       "      <td>319.83</td>\n",
       "    </tr>\n",
       "    <tr>\n",
       "      <th>X360</th>\n",
       "      <td>257.05</td>\n",
       "    </tr>\n",
       "    <tr>\n",
       "      <th>Wii</th>\n",
       "      <td>214.70</td>\n",
       "    </tr>\n",
       "    <tr>\n",
       "      <th>PS4</th>\n",
       "      <td>141.09</td>\n",
       "    </tr>\n",
       "    <tr>\n",
       "      <th>DS</th>\n",
       "      <td>119.92</td>\n",
       "    </tr>\n",
       "  </tbody>\n",
       "</table>\n",
       "</div>"
      ],
      "text/plain": [
       "          eu_sales\n",
       "platform          \n",
       "PS3         319.83\n",
       "X360        257.05\n",
       "Wii         214.70\n",
       "PS4         141.09\n",
       "DS          119.92"
      ]
     },
     "execution_count": 35,
     "metadata": {},
     "output_type": "execute_result"
    }
   ],
   "source": [
    "games_10.pivot_table(index='platform', values='eu_sales', aggfunc='sum') \\\n",
    "        .sort_values(by='eu_sales', ascending=False) \\\n",
    "        .head()"
   ]
  },
  {
   "cell_type": "markdown",
   "metadata": {},
   "source": [
    "Видим, что показатели в Северной Америке и Европе примерно похожи. Топ-5 платформ у них одинаковые: **X360**, **PS3**,  **Wii**, **DS** и **PS4**, только немного по-разному распределяются по местам . Продажи в Северной Америке самые большие."
   ]
  },
  {
   "cell_type": "code",
   "execution_count": 36,
   "metadata": {},
   "outputs": [
    {
     "data": {
      "text/html": [
       "<div>\n",
       "<style scoped>\n",
       "    .dataframe tbody tr th:only-of-type {\n",
       "        vertical-align: middle;\n",
       "    }\n",
       "\n",
       "    .dataframe tbody tr th {\n",
       "        vertical-align: top;\n",
       "    }\n",
       "\n",
       "    .dataframe thead th {\n",
       "        text-align: right;\n",
       "    }\n",
       "</style>\n",
       "<table border=\"1\" class=\"dataframe\">\n",
       "  <thead>\n",
       "    <tr style=\"text-align: right;\">\n",
       "      <th></th>\n",
       "      <th>jp_sales</th>\n",
       "    </tr>\n",
       "    <tr>\n",
       "      <th>platform</th>\n",
       "      <th></th>\n",
       "    </tr>\n",
       "  </thead>\n",
       "  <tbody>\n",
       "    <tr>\n",
       "      <th>DS</th>\n",
       "      <td>102.93</td>\n",
       "    </tr>\n",
       "    <tr>\n",
       "      <th>3DS</th>\n",
       "      <td>100.62</td>\n",
       "    </tr>\n",
       "    <tr>\n",
       "      <th>PS3</th>\n",
       "      <td>78.33</td>\n",
       "    </tr>\n",
       "    <tr>\n",
       "      <th>PSP</th>\n",
       "      <td>66.24</td>\n",
       "    </tr>\n",
       "    <tr>\n",
       "      <th>Wii</th>\n",
       "      <td>59.13</td>\n",
       "    </tr>\n",
       "  </tbody>\n",
       "</table>\n",
       "</div>"
      ],
      "text/plain": [
       "          jp_sales\n",
       "platform          \n",
       "DS          102.93\n",
       "3DS         100.62\n",
       "PS3          78.33\n",
       "PSP          66.24\n",
       "Wii          59.13"
      ]
     },
     "execution_count": 36,
     "metadata": {},
     "output_type": "execute_result"
    }
   ],
   "source": [
    "games_10.pivot_table(index='platform', values='jp_sales', aggfunc='sum') \\\n",
    "        .sort_values(by='jp_sales', ascending=False) \\\n",
    "        .head()"
   ]
  },
  {
   "cell_type": "markdown",
   "metadata": {},
   "source": [
    "В Японии продажи вообще значительно меньше. Но три популярные платформы из списков Европы и Северной Америки все же пересекаются - это **DS**, **PS3**(входит в топ-3 в Японии) и **Wii**(только на 5 месте). Этому может быть несколько объяснений:"
   ]
  },
  {
   "cell_type": "markdown",
   "metadata": {},
   "source": [
    "1. на этих платформах выпускается больше всего игр\n",
    "2. они доступны\n",
    "3. проводятся хорошие рекламные компании"
   ]
  },
  {
   "cell_type": "markdown",
   "metadata": {},
   "source": [
    "### 3.2.  Определить 5 самых популярных игровых жанров в каждом из регионов "
   ]
  },
  {
   "cell_type": "markdown",
   "metadata": {},
   "source": [
    "Мы так же, как  в первом случае, построим сравнительный график и сводные таблицы."
   ]
  },
  {
   "cell_type": "code",
   "execution_count": 37,
   "metadata": {},
   "outputs": [
    {
     "data": {
      "text/plain": [
       "Text(0.5, 1.0, 'Самые популярные жанры (по регионам)')"
      ]
     },
     "execution_count": 37,
     "metadata": {},
     "output_type": "execute_result"
    },
    {
     "data": {
      "image/png": "[encoded data removed]",
      "text/plain": [
       "<Figure size 1008x576 with 1 Axes>"
      ]
     },
     "metadata": {
      "needs_background": "light"
     },
     "output_type": "display_data"
    }
   ],
   "source": [
    "\n",
    "\n",
    "best_genres=games_10.pivot_table(index='genre', values=regions, aggfunc='sum') \\\n",
    "            .sort_index().plot(kind=\"bar\", figsize=(14,8), grid=True)\n",
    "plt.gca().set(xlabel='платформы')\n",
    "plt.title('Самые популярные жанры (по регионам)')"
   ]
  },
  {
   "cell_type": "code",
   "execution_count": 38,
   "metadata": {},
   "outputs": [
    {
     "data": {
      "text/html": [
       "<div>\n",
       "<style scoped>\n",
       "    .dataframe tbody tr th:only-of-type {\n",
       "        vertical-align: middle;\n",
       "    }\n",
       "\n",
       "    .dataframe tbody tr th {\n",
       "        vertical-align: top;\n",
       "    }\n",
       "\n",
       "    .dataframe thead th {\n",
       "        text-align: right;\n",
       "    }\n",
       "</style>\n",
       "<table border=\"1\" class=\"dataframe\">\n",
       "  <thead>\n",
       "    <tr style=\"text-align: right;\">\n",
       "      <th></th>\n",
       "      <th>na_sales</th>\n",
       "    </tr>\n",
       "    <tr>\n",
       "      <th>genre</th>\n",
       "      <th></th>\n",
       "    </tr>\n",
       "  </thead>\n",
       "  <tbody>\n",
       "    <tr>\n",
       "      <th>Action</th>\n",
       "      <td>492.17</td>\n",
       "    </tr>\n",
       "    <tr>\n",
       "      <th>Shooter</th>\n",
       "      <td>350.11</td>\n",
       "    </tr>\n",
       "    <tr>\n",
       "      <th>Sports</th>\n",
       "      <td>323.86</td>\n",
       "    </tr>\n",
       "    <tr>\n",
       "      <th>Misc</th>\n",
       "      <td>259.16</td>\n",
       "    </tr>\n",
       "    <tr>\n",
       "      <th>Role-Playing</th>\n",
       "      <td>175.41</td>\n",
       "    </tr>\n",
       "  </tbody>\n",
       "</table>\n",
       "</div>"
      ],
      "text/plain": [
       "              na_sales\n",
       "genre                 \n",
       "Action          492.17\n",
       "Shooter         350.11\n",
       "Sports          323.86\n",
       "Misc            259.16\n",
       "Role-Playing    175.41"
      ]
     },
     "execution_count": 38,
     "metadata": {},
     "output_type": "execute_result"
    }
   ],
   "source": [
    "games_10.pivot_table(index='genre', values='na_sales', aggfunc='sum') \\\n",
    "        .sort_values(by='na_sales', ascending=False) \\\n",
    "        .head()"
   ]
  },
  {
   "cell_type": "code",
   "execution_count": 39,
   "metadata": {},
   "outputs": [
    {
     "data": {
      "text/html": [
       "<div>\n",
       "<style scoped>\n",
       "    .dataframe tbody tr th:only-of-type {\n",
       "        vertical-align: middle;\n",
       "    }\n",
       "\n",
       "    .dataframe tbody tr th {\n",
       "        vertical-align: top;\n",
       "    }\n",
       "\n",
       "    .dataframe thead th {\n",
       "        text-align: right;\n",
       "    }\n",
       "</style>\n",
       "<table border=\"1\" class=\"dataframe\">\n",
       "  <thead>\n",
       "    <tr style=\"text-align: right;\">\n",
       "      <th></th>\n",
       "      <th>eu_sales</th>\n",
       "    </tr>\n",
       "    <tr>\n",
       "      <th>genre</th>\n",
       "      <th></th>\n",
       "    </tr>\n",
       "  </thead>\n",
       "  <tbody>\n",
       "    <tr>\n",
       "      <th>Action</th>\n",
       "      <td>335.67</td>\n",
       "    </tr>\n",
       "    <tr>\n",
       "      <th>Shooter</th>\n",
       "      <td>230.16</td>\n",
       "    </tr>\n",
       "    <tr>\n",
       "      <th>Sports</th>\n",
       "      <td>211.49</td>\n",
       "    </tr>\n",
       "    <tr>\n",
       "      <th>Misc</th>\n",
       "      <td>127.62</td>\n",
       "    </tr>\n",
       "    <tr>\n",
       "      <th>Racing</th>\n",
       "      <td>104.63</td>\n",
       "    </tr>\n",
       "  </tbody>\n",
       "</table>\n",
       "</div>"
      ],
      "text/plain": [
       "         eu_sales\n",
       "genre            \n",
       "Action     335.67\n",
       "Shooter    230.16\n",
       "Sports     211.49\n",
       "Misc       127.62\n",
       "Racing     104.63"
      ]
     },
     "execution_count": 39,
     "metadata": {},
     "output_type": "execute_result"
    }
   ],
   "source": [
    "games_10.pivot_table(index='genre', values='eu_sales', aggfunc='sum') \\\n",
    "        .sort_values(by='eu_sales', ascending=False) \\\n",
    "        .head()"
   ]
  },
  {
   "cell_type": "markdown",
   "metadata": {},
   "source": [
    "Ситуция схожа с первым случаем: в Северной Америке и Европе популярные жанры одни и те же - **Action**, **Shooter**, **Sports** и **Misc**."
   ]
  },
  {
   "cell_type": "code",
   "execution_count": 40,
   "metadata": {},
   "outputs": [
    {
     "data": {
      "text/html": [
       "<div>\n",
       "<style scoped>\n",
       "    .dataframe tbody tr th:only-of-type {\n",
       "        vertical-align: middle;\n",
       "    }\n",
       "\n",
       "    .dataframe tbody tr th {\n",
       "        vertical-align: top;\n",
       "    }\n",
       "\n",
       "    .dataframe thead th {\n",
       "        text-align: right;\n",
       "    }\n",
       "</style>\n",
       "<table border=\"1\" class=\"dataframe\">\n",
       "  <thead>\n",
       "    <tr style=\"text-align: right;\">\n",
       "      <th></th>\n",
       "      <th>jp_sales</th>\n",
       "    </tr>\n",
       "    <tr>\n",
       "      <th>genre</th>\n",
       "      <th></th>\n",
       "    </tr>\n",
       "  </thead>\n",
       "  <tbody>\n",
       "    <tr>\n",
       "      <th>Role-Playing</th>\n",
       "      <td>150.55</td>\n",
       "    </tr>\n",
       "    <tr>\n",
       "      <th>Action</th>\n",
       "      <td>96.29</td>\n",
       "    </tr>\n",
       "    <tr>\n",
       "      <th>Misc</th>\n",
       "      <td>48.79</td>\n",
       "    </tr>\n",
       "    <tr>\n",
       "      <th>Sports</th>\n",
       "      <td>40.28</td>\n",
       "    </tr>\n",
       "    <tr>\n",
       "      <th>Adventure</th>\n",
       "      <td>26.91</td>\n",
       "    </tr>\n",
       "  </tbody>\n",
       "</table>\n",
       "</div>"
      ],
      "text/plain": [
       "              jp_sales\n",
       "genre                 \n",
       "Role-Playing    150.55\n",
       "Action           96.29\n",
       "Misc             48.79\n",
       "Sports           40.28\n",
       "Adventure        26.91"
      ]
     },
     "execution_count": 40,
     "metadata": {},
     "output_type": "execute_result"
    }
   ],
   "source": [
    "games_10.pivot_table(index='genre', values='jp_sales', aggfunc='sum') \\\n",
    "        .sort_values(by='jp_sales', ascending=False) \\\n",
    "        .head()"
   ]
  },
  {
   "cell_type": "markdown",
   "metadata": {},
   "source": [
    "А вот в Японии с большим отрывом лидирует **Role-Playing**, также популярны **Action**, **Sports** и **Misc** - очевидно, игр именно этих жанров выпускается самое большое количество."
   ]
  },
  {
   "cell_type": "markdown",
   "metadata": {},
   "source": [
    "### 3.3.  Влияние ли рейтинга ESRB на продажи в отдельном регионе"
   ]
  },
  {
   "cell_type": "markdown",
   "metadata": {},
   "source": [
    "Чтобы подробнее рассмотреть этот вопрос, выведем список уникальных значений столбца *'rating'* и выясним поподробнее про каждое обозначение:"
   ]
  },
  {
   "cell_type": "code",
   "execution_count": 41,
   "metadata": {},
   "outputs": [
    {
     "data": {
      "text/plain": [
       "array(['E', nan, 'M', 'T', 'E10+', 'K-A', 'AO', 'EC', 'RP'], dtype=object)"
      ]
     },
     "execution_count": 41,
     "metadata": {},
     "output_type": "execute_result"
    }
   ],
   "source": [
    "games['rating'].unique()"
   ]
  },
  {
   "cell_type": "markdown",
   "metadata": {},
   "source": [
    "* **'E'** - «Для всех»: Содержание вполне подходит для возрастной категории от 6 лет и старше; такие игры могут понравиться и взрослым.\n",
    "\n",
    "* **'M'** - «Для взрослых»: Материалы игры не подходят для подростков младше 17 лет.\n",
    "\n",
    "* **'T'** - «Подросткам»: Игра подходит для лиц от 13 лет и старше.\n",
    "\n",
    "* **'E10+'** - «Для всех от 10 лет и старше»\n",
    "\n",
    "* **'AO'** - «Только для взрослых»: Содержание игры только для взрослых старше 18 лет.\n",
    "\n",
    "* **'EC'** -  «Для детей младшего возраста»: Игра подходит для детей от 3 лет и старше и не содержит материалов, которые родители могли бы счесть неподходящими.\n",
    "\n",
    "* **'RP'** - «Рейтинг ожидается»: Продукт был отправлен в ESRB и ожидает присвоения рейтинга."
   ]
  },
  {
   "cell_type": "markdown",
   "metadata": {},
   "source": [
    "Для наглядности построим 3 круговые диграммы:"
   ]
  },
  {
   "cell_type": "code",
   "execution_count": 42,
   "metadata": {},
   "outputs": [
    {
     "data": {
      "image/png": "[encoded data removed]",
      "text/plain": [
       "<Figure size 1080x360 with 3 Axes>"
      ]
     },
     "metadata": {},
     "output_type": "display_data"
    }
   ],
   "source": [
    "plt.subplots(figsize=(15,5))\n",
    "regions = ['na', 'eu', 'jp']\n",
    "for i, region in enumerate(regions):\n",
    "    column_name = '{}_sales'.format(region)\n",
    "    current = games_10.groupby('rating').agg({column_name:'sum'})\n",
    "    current.plot(y=column_name, kind='pie', ax = plt.subplot(1, len(regions), i + 1))\n",
    "    plt.title('Влияние рейтинга ESRB в регионе {}'.format(region))"
   ]
  },
  {
   "cell_type": "markdown",
   "metadata": {},
   "source": [
    "Опять картина в Северной Америке и Европе примерно одинаковая: больше всего продается игр с категорией **'E'**, то есть игры, которые могут понравится и детям, и взрослым. На втором месте игры с категорией **'M'** - только для взрослых. "
   ]
  },
  {
   "cell_type": "markdown",
   "metadata": {},
   "source": [
    "В Японии немного другое распределение - также на первом месте игры с категорией **'E'**, однако их продано больше ,чем в Америке и Европе. И примерно такое же количество игр с категорией **'T'** - для лиц старше 13 лет."
   ]
  },
  {
   "cell_type": "markdown",
   "metadata": {},
   "source": [
    "По этим диаграммам мы можем сделать вывод, что во всех регионах играют все-таки в основном взрослые и дети старше 10 лет."
   ]
  },
  {
   "cell_type": "markdown",
   "metadata": {},
   "source": [
    "### 3.4. Вывод"
   ]
  },
  {
   "cell_type": "markdown",
   "metadata": {},
   "source": [
    "По построенным нами графикам видно,что по количеству продаж лидирует Северная Америка, а вот в Японии они намного меньше. Результаты в Северной Америке и Европе, как правило схожи, а вот результаты Японии несколько отличаются, но пересечения,однако, есть."
   ]
  },
  {
   "cell_type": "markdown",
   "metadata": {},
   "source": [
    "3 самых популярных игровых платформы в трех исследуемых нами регионах: **DS**, **PS3** и **Wii**. Возможные причины:"
   ]
  },
  {
   "cell_type": "markdown",
   "metadata": {},
   "source": [
    "1. на этих платформах выпускается больше всего игр\n",
    "2. они доступны\n",
    "3. проводятся хорошие рекламные компании"
   ]
  },
  {
   "cell_type": "markdown",
   "metadata": {},
   "source": [
    "Самые популярные игровые жанры во всех трех регионах - **Action**, **Sports** и **Misc**. Очевидно, игр именно этих жанров выпускается самое большое количество и в них могут играть люди разных возрастов."
   ]
  },
  {
   "cell_type": "markdown",
   "metadata": {},
   "source": [
    "Влияние рейтинга ESRB в Северной Америке и Европе также примерно одинаково:  больше всего продается игр с категорией **'E'**, то есть игры, которые могут понравится и детям, и взрослым. На втором месте игры с категорией **'M'** - только для взрослых. В Японии немного другое распределение - также на первом месте игры с категорией **'E'**, однако их продано больше ,чем в Америке и Европе. И примерно такое же количество игр с категорией **'T'** - для лиц старше 13 лет."
   ]
  },
  {
   "cell_type": "markdown",
   "metadata": {},
   "source": [
    "По этим диаграммам мы можем сделать вывод, что во всех регионах играют все-таки в основном взрослые и дети старше 10 лет."
   ]
  },
  {
   "cell_type": "markdown",
   "metadata": {},
   "source": [
    "## Шаг 4. Статистический анализ данных"
   ]
  },
  {
   "cell_type": "markdown",
   "metadata": {},
   "source": [
    "### 4.1. Средние пользовательские рейтинги платформ Xbox One и PC равны"
   ]
  },
  {
   "cell_type": "markdown",
   "metadata": {},
   "source": [
    "Перед нами стоит задача проверить гипотезы. Для начала сформулируем их:"
   ]
  },
  {
   "cell_type": "markdown",
   "metadata": {},
   "source": [
    "* нулевая гипотеза: **Средние пользовательские рейтинги платформ Xbox One и PC равны**"
   ]
  },
  {
   "cell_type": "markdown",
   "metadata": {},
   "source": [
    "* альтернативная гипотеза:  **Средние пользовательские рейтинги платформ Xbox One и PC не равны**"
   ]
  },
  {
   "cell_type": "markdown",
   "metadata": {},
   "source": [
    "Перед тем, как провести t-test, отфильтруем таблицу **games_10** по нужным нам параметрам(нам интересуют две платформы *\"XOne\"* и *\"PC\"*) и создадим две сгруппированных таблицы(**grouped_xone** и **grouped_pc**), а также расчитаем дисперсии столбцов *'user_score'* и построим диаграммы размаха:"
   ]
  },
  {
   "cell_type": "code",
   "execution_count": 43,
   "metadata": {},
   "outputs": [
    {
     "name": "stdout",
     "output_type": "stream",
     "text": [
      "Дисперсия: 1.5727829893683545\n"
     ]
    }
   ],
   "source": [
    "grouped_xone = games_10.query('platform == \"XOne\"')\n",
    "print('Дисперсия:', grouped_xone['user_score'].var())"
   ]
  },
  {
   "cell_type": "code",
   "execution_count": 44,
   "metadata": {},
   "outputs": [
    {
     "name": "stdout",
     "output_type": "stream",
     "text": [
      "Дисперсия: 1.9516715190695626\n"
     ]
    }
   ],
   "source": [
    "grouped_pc = games_10.query('platform == \"PC\"')\n",
    "print('Дисперсия:', grouped_pc['user_score'].var())"
   ]
  },
  {
   "cell_type": "code",
   "execution_count": 45,
   "metadata": {},
   "outputs": [
    {
     "name": "stdout",
     "output_type": "stream",
     "text": [
      "Разница дисперсий  19.628791%\n"
     ]
    }
   ],
   "source": [
    "print('Разница дисперсий  {:%}'.format((np.var(grouped_pc['user_score']) - np.var(grouped_xone['user_score'])) / np.var(grouped_pc['user_score'])))"
   ]
  },
  {
   "cell_type": "code",
   "execution_count": 46,
   "metadata": {},
   "outputs": [
    {
     "data": {
      "image/png": "[encoded data removed]",
      "text/plain": [
       "<Figure size 648x432 with 1 Axes>"
      ]
     },
     "metadata": {
      "needs_background": "light"
     },
     "output_type": "display_data"
    }
   ],
   "source": [
    "array1 = grouped_xone['user_score']\n",
    "array2 = grouped_pc['user_score']\n",
    "df_to_plot = [array1, array2]\n",
    "fig = plt.figure(1, figsize=(9, 6))\n",
    "\n",
    "ax = fig.add_subplot(111)\n",
    "\n",
    "bp = ax.boxplot(df_to_plot)\n",
    "\n",
    "fig.savefig('fig1.png', bbox_inches='tight')"
   ]
  },
  {
   "cell_type": "markdown",
   "metadata": {},
   "source": [
    "По расчетам и графику видим,что средние примерно равны. А вот разница дисперсий довольно велика - почти 25%."
   ]
  },
  {
   "cell_type": "markdown",
   "metadata": {},
   "source": [
    "Проведем t-test:"
   ]
  },
  {
   "cell_type": "code",
   "execution_count": 47,
   "metadata": {},
   "outputs": [
    {
     "name": "stdout",
     "output_type": "stream",
     "text": [
      "p-значение: 0.08221904272118305\n",
      "Не получилось отвергнуть нулевую гипотезу\n"
     ]
    }
   ],
   "source": [
    "alpha = .05\n",
    "\n",
    "results = st.ttest_ind(\n",
    "    grouped_xone['user_score'], \n",
    "    grouped_pc['user_score'],\n",
    "    equal_var=False)\n",
    "\n",
    "print('p-значение:', results.pvalue)\n",
    "\n",
    "if results.pvalue < alpha:\n",
    "    print(\"Отвергаем нулевую гипотезу\")\n",
    "else:\n",
    "    print(\"Не получилось отвергнуть нулевую гипотезу\") "
   ]
  },
  {
   "cell_type": "markdown",
   "metadata": {},
   "source": [
    "По результатам мы не можем отвергнуть нулевую гипотезу, следовательно делаем предположение, что средние пользовательские рейтинги платформ *Xbox One* и *PC* могут быть равны."
   ]
  },
  {
   "cell_type": "markdown",
   "metadata": {},
   "source": [
    "### 4.2. Средние пользовательские рейтинги жанров Action и Sports равны"
   ]
  },
  {
   "cell_type": "markdown",
   "metadata": {},
   "source": [
    "Следующие гипотезы звучат так:"
   ]
  },
  {
   "cell_type": "markdown",
   "metadata": {},
   "source": [
    "* нулевая гипотеза: **Средние пользовательские рейтинги жанров Action и Sports равны**"
   ]
  },
  {
   "cell_type": "markdown",
   "metadata": {},
   "source": [
    "* альтернативная гипотеза: **Средние пользовательские рейтинги жанров Action и Sports не равны**"
   ]
  },
  {
   "cell_type": "markdown",
   "metadata": {},
   "source": [
    "Действуем по тому же принципу,что и с предыдущими гипотезами, только фильтровать таблицу мы будем по значениям столбца *'genre'* и получим две таблицы:**grouped_action** и **grouped_sports**."
   ]
  },
  {
   "cell_type": "code",
   "execution_count": 48,
   "metadata": {},
   "outputs": [
    {
     "name": "stdout",
     "output_type": "stream",
     "text": [
      "Дисперсия: 1.0891447805200392\n"
     ]
    }
   ],
   "source": [
    "grouped_action = games_10.query('genre == \"Action\"')\n",
    "print('Дисперсия:', grouped_action['user_score'].var())"
   ]
  },
  {
   "cell_type": "code",
   "execution_count": 49,
   "metadata": {},
   "outputs": [
    {
     "name": "stdout",
     "output_type": "stream",
     "text": [
      "Дисперсия: 1.7711255121798406\n"
     ]
    }
   ],
   "source": [
    "grouped_sports = games_10.query('genre == \"Sports\"')\n",
    "print('Дисперсия:', grouped_sports['user_score'].var())"
   ]
  },
  {
   "cell_type": "code",
   "execution_count": 50,
   "metadata": {},
   "outputs": [
    {
     "name": "stdout",
     "output_type": "stream",
     "text": [
      "Разница дисперсий  38.478743%\n"
     ]
    }
   ],
   "source": [
    "print('Разница дисперсий  {:%}'.format((np.var(grouped_sports['user_score']) - np.var(grouped_action['user_score'])) / np.var(grouped_sports['user_score'])))"
   ]
  },
  {
   "cell_type": "code",
   "execution_count": 51,
   "metadata": {},
   "outputs": [
    {
     "data": {
      "image/png": "[encoded data removed]",
      "text/plain": [
       "<Figure size 648x432 with 1 Axes>"
      ]
     },
     "metadata": {
      "needs_background": "light"
     },
     "output_type": "display_data"
    }
   ],
   "source": [
    "array1 = grouped_action['user_score']\n",
    "array2 = grouped_sports['user_score']\n",
    "df_to_plot = [array1, array2]\n",
    "fig = plt.figure(1, figsize=(9, 6))\n",
    "\n",
    "ax = fig.add_subplot(111)\n",
    "\n",
    "bp = ax.boxplot(df_to_plot)\n",
    "\n",
    "fig.savefig('fig1.png', bbox_inches='tight')"
   ]
  },
  {
   "cell_type": "markdown",
   "metadata": {},
   "source": [
    "По графикам и расчетам видим, что средние близки друг к другу, но на первом \"ящике с усами\" (**grouped_action**) оно все же меньше и даже совпадает с верхней границей. Разница дисперсий даже больше, чем в предыдущем случае - 35%."
   ]
  },
  {
   "cell_type": "markdown",
   "metadata": {},
   "source": [
    "Проведем t-test:"
   ]
  },
  {
   "cell_type": "code",
   "execution_count": 52,
   "metadata": {},
   "outputs": [
    {
     "name": "stdout",
     "output_type": "stream",
     "text": [
      "p-значение: 1.1703820747859928e-08\n",
      "Отвергаем нулевую гипотезу\n"
     ]
    }
   ],
   "source": [
    "alpha = .05\n",
    "\n",
    "results = st.ttest_ind(\n",
    "    grouped_action['user_score'], \n",
    "    grouped_sports['user_score'],\n",
    "    equal_var = False)\n",
    "\n",
    "print('p-значение:', results.pvalue)\n",
    "\n",
    "if results.pvalue < alpha:\n",
    "    print(\"Отвергаем нулевую гипотезу\")\n",
    "else:\n",
    "    print(\"Не получилось отвергнуть нулевую гипотезу\") "
   ]
  },
  {
   "cell_type": "markdown",
   "metadata": {},
   "source": [
    "Тест показал, что мы не можем принять нулевую гипотезу, следовательно делаем вывод,что средние пользовательские рейтинги жанров Action и Sports могут быть не равны."
   ]
  },
  {
   "cell_type": "markdown",
   "metadata": {},
   "source": [
    "## Шаг 5. Общий вывод"
   ]
  },
  {
   "cell_type": "markdown",
   "metadata": {},
   "source": [
    "Мы изучили данную нам таблицу, которой мы дали название **games**. В ней 12 столбцов (мы прибавили столбец *'all_sales'*, в котором находятся данные о суммарных продажах во всех регионах) и 16715 строк. Мы обработали пропуски, исходя из групп в данных, в тех столбцах, где доля пропусков была велика - это столбцы *'critic_score'* и *'user_score'*. В столбце *'rating'* мы решили оставить пропущенные значения, так как их замена может быть некорректной."
   ]
  },
  {
   "cell_type": "markdown",
   "metadata": {},
   "source": [
    "Мы сгруппировали выпущенные игры по годам (за последние 10 лет). Самое большое количество игр выпуслось в 2008 и 2009 годах (чуть больше 1400), а дальше идет спад, причем с 2011 года - очень резкий (за год количество выпускаемых игр уменьшилось почти вполовину). К 2015 году было небольшое увеличение, но к 2016 количество опять уменьшилось (с 606 до 502). "
   ]
  },
  {
   "cell_type": "markdown",
   "metadata": {},
   "source": [
    "Мы выделили 3 платформы, чьи продажи хоть и упали, но не так низко, как у других (в ближайшем к нам временном промежутке 2015-2016 гг.):\n",
    "\n",
    "* **PS4**\n",
    "* **XOne**\n",
    "* **3DS**"
   ]
  },
  {
   "cell_type": "markdown",
   "metadata": {},
   "source": [
    "На примере одной платформы (**PS4**) мы построили диаграммы рассеяния и выявили зависимость продаж от отзывов критиков и пользователей. Для других платформ мы построили сравнительные графики (с **PS4**). На них видно, что хорошие отзывы об играх и критиков,и пользователей (в отличии от результатов PS4) влияют на увеличение продаж. Также хорошо продаются на всех остальных платформах еще не выпущенные,а только анонсированные игры"
   ]
  },
  {
   "cell_type": "markdown",
   "metadata": {},
   "source": [
    "Также нам надо было узнать, какие жанры продаются лучше, а какие - хуже. Для наглядности мы построили круговую диаграмму. Лидируют по продажам жанры:\n",
    "    \n",
    "1. **Action** (самое большое количество)\n",
    "2. **Shooter** \n",
    "3. **Sports**"
   ]
  },
  {
   "cell_type": "markdown",
   "metadata": {},
   "source": [
    "3 самых популярных игровых платформы в трех исследуемых нами регионах (Северная Америка, Европа, Япония): **DS**, **PS3** и **Wii**. Возможные причины:"
   ]
  },
  {
   "cell_type": "markdown",
   "metadata": {},
   "source": [
    "1. на этих платформах выпускается больше всего игр\n",
    "2. они доступны\n",
    "3. проводятся хорошие рекламные компании"
   ]
  },
  {
   "cell_type": "markdown",
   "metadata": {},
   "source": [
    "Самые популярные игровые жанры во всех трех регионах - **Action**, **Sports** и **Misc**. Очевидно, игр именно этих жанров выпускается самое большое количество и в них могут играть люди разных возрастов."
   ]
  },
  {
   "cell_type": "markdown",
   "metadata": {},
   "source": [
    "Влияние рейтинга ESRB в Северной Америке и Европе также примерно одинаково:  больше всего продается игр с категорией **'E'**, то есть игры, которые могут понравится и детям, и взрослым. На втором месте игры с категорией **'M'** - только для взрослых. В Японии немного другое распределение - также на первом месте игры с категорией **'E'**, однако их продано больше ,чем в Америке и Европе. И примерно такое же количество игр с категорией **'T'** - для лиц старше 13 лет. По этим диаграммам мы можем сделать вывод, что во всех регионах играют все-таки в основном взрослые и дети старше 10 лет."
   ]
  },
  {
   "cell_type": "markdown",
   "metadata": {},
   "source": [
    "С помощью **t-test** мы проверили гипотезы и сделали предположения:\n",
    "\n",
    "* средние пользовательские рейтинги платформ *Xbox One* и *PC* могут быть равны\n",
    "\n",
    "* средние пользовательские рейтинги жанров Action и Sports могут быть не равны"
   ]
  },
  {
   "cell_type": "markdown",
   "metadata": {},
   "source": [
    "По результатам проведенного исследования мы можем предположить, что успешность игры заключается:"
   ]
  },
  {
   "cell_type": "markdown",
   "metadata": {},
   "source": [
    "* высокий пользовательский рейтинг\n",
    "\n",
    "* игра должна принадлежать к одному из жанров: Action, Sports или Shooter\n",
    "\n",
    "* в игру могут играть и дети с 10 лет, и взрослые"
   ]
  }
 ],
 "metadata": {
  "kernelspec": {
   "display_name": "Python 3",
   "language": "python",
   "name": "python3"
  },
  "language_info": {
   "codemirror_mode": {
    "name": "ipython",
    "version": 3
   },
   "file_extension": ".py",
   "mimetype": "text/x-python",
   "name": "python",
   "nbconvert_exporter": "python",
   "pygments_lexer": "ipython3",
   "version": "3.8.5"
  },
  "toc": {
   "base_numbering": 1,
   "nav_menu": {},
   "number_sections": false,
   "sideBar": true,
   "skip_h1_title": true,
   "title_cell": "План исследования",
   "title_sidebar": "Contents",
   "toc_cell": true,
   "toc_position": {
    "height": "calc(100% - 180px)",
    "left": "10px",
    "top": "150px",
    "width": "258.8px"
   },
   "toc_section_display": true,
   "toc_window_display": true
  }
 },
 "nbformat": 4,
 "nbformat_minor": 2
}
