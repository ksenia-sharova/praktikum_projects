{
 "cells": [
  {
   "cell_type": "markdown",
   "metadata": {
    "toc": true
   },
   "source": [
    "<h1>План исследования<span class=\"tocSkip\"></span></h1>\n",
    "<div class=\"toc\"><ul class=\"toc-item\"><li><span><a href=\"#Выделение-групп-пользователей-на-основе-поведения\" data-toc-modified-id=\"Выделение-групп-пользователей-на-основе-поведения-1\">Выделение групп пользователей на основе поведения</a></span><ul class=\"toc-item\"><li><span><a href=\"#Материалы\" data-toc-modified-id=\"Материалы-1.1\">Материалы</a></span></li><li><span><a href=\"#Шаг-1.-Предобработка-данных\" data-toc-modified-id=\"Шаг-1.-Предобработка-данных-1.2\">Шаг 1. Предобработка данных</a></span><ul class=\"toc-item\"><li><span><a href=\"#1.1.-Выгружаем-данные\" data-toc-modified-id=\"1.1.-Выгружаем-данные-1.2.1\">1.1. Выгружаем данные</a></span></li><li><span><a href=\"#1.2.-Исследуем-общую-информацию-о-таблицах\" data-toc-modified-id=\"1.2.-Исследуем-общую-информацию-о-таблицах-1.2.2\">1.2. Исследуем общую информацию о таблицах</a></span></li><li><span><a href=\"#1.3.-Замена-названий-столбцов\" data-toc-modified-id=\"1.3.-Замена-названий-столбцов-1.2.3\">1.3. Замена названий столбцов</a></span></li><li><span><a href=\"#1.4.-Замена-названий-одинаковых-по-смыслу-значений\" data-toc-modified-id=\"1.4.-Замена-названий-одинаковых-по-смыслу-значений-1.2.4\">1.4. Замена названий одинаковых по смыслу значений</a></span></li><li><span><a href=\"#1.5.-Замена-типа-данных\" data-toc-modified-id=\"1.5.-Замена-типа-данных-1.2.5\">1.5. Замена типа данных</a></span></li><li><span><a href=\"#1.6.-Проверка-таблиц-на-дубликаты\" data-toc-modified-id=\"1.6.-Проверка-таблиц-на-дубликаты-1.2.6\">1.6. Проверка таблиц на дубликаты</a></span></li><li><span><a href=\"#1.7.-Объединение-таблиц\" data-toc-modified-id=\"1.7.-Объединение-таблиц-1.2.7\">1.7. Объединение таблиц</a></span></li><li><span><a href=\"#1.8.-Определим-за-какой-период-мы-обладаем-данными-на-самом-деле\" data-toc-modified-id=\"1.8.-Определим-за-какой-период-мы-обладаем-данными-на-самом-деле-1.2.8\">1.8. Определим за какой период мы обладаем данными на самом деле</a></span></li><li><span><a href=\"#1.9.-Проверим-данные-на-аномальные-значения\" data-toc-modified-id=\"1.9.-Проверим-данные-на-аномальные-значения-1.2.9\">1.9. Проверим данные на аномальные значения</a></span></li><li><span><a href=\"#1.10-Вывод\" data-toc-modified-id=\"1.10-Вывод-1.2.10\">1.10 Вывод</a></span></li></ul></li><li><span><a href=\"#Шаг-2.-Расчет-метрик\" data-toc-modified-id=\"Шаг-2.-Расчет-метрик-1.3\">Шаг 2. Расчет метрик</a></span><ul class=\"toc-item\"><li><span><a href=\"#2.1.-Retantion-Rate-(«коэффициент-удержания»)\" data-toc-modified-id=\"2.1.-Retantion-Rate-(«коэффициент-удержания»)-1.3.1\">2.1. Retantion Rate («коэффициент удержания»)</a></span></li><li><span><a href=\"#2.2.-Время,-проведенное-в-приложении\" data-toc-modified-id=\"2.2.-Время,-проведенное-в-приложении-1.3.2\">2.2. Время, проведенное в приложении</a></span></li><li><span><a href=\"#2.3.-Частота-действий\" data-toc-modified-id=\"2.3.-Частота-действий-1.3.3\">2.3. Частота действий</a></span></li><li><span><a href=\"#2.4.-Конверсия-в-целевое-действие-—-просмотр-контактов\" data-toc-modified-id=\"2.4.-Конверсия-в-целевое-действие-—-просмотр-контактов-1.3.4\">2.4. Конверсия в целевое действие — просмотр контактов</a></span></li><li><span><a href=\"#2.5.-Вывод\" data-toc-modified-id=\"2.5.-Вывод-1.3.5\">2.5. Вывод</a></span></li></ul></li><li><span><a href=\"#Шаг-3.-Сегментация-пользователей-по-действиям\" data-toc-modified-id=\"Шаг-3.-Сегментация-пользователей-по-действиям-1.4\">Шаг 3. Сегментация пользователей по действиям</a></span><ul class=\"toc-item\"><li><span><a href=\"#3.1.-По-источнику,-с-которого-пользователь-установил-приложение\" data-toc-modified-id=\"3.1.-По-источнику,-с-которого-пользователь-установил-приложение-1.4.1\">3.1. По источнику, с которого пользователь установил приложение</a></span></li><li><span><a href=\"#3.2.-По-пользователям,-позвонившим-по-номеру-телефона-на-карточке-объявления\" data-toc-modified-id=\"3.2.-По-пользователям,-позвонившим-по-номеру-телефона-на-карточке-объявления-1.4.2\">3.2. По пользователям, позвонившим по номеру телефона на карточке объявления</a></span></li><li><span><a href=\"#3.3.-По-пользователям,-которые-пользовались-поиском\" data-toc-modified-id=\"3.3.-По-пользователям,-которые-пользовались-поиском-1.4.3\">3.3. По пользователям, которые пользовались поиском</a></span></li><li><span><a href=\"#3.4.-По-пользователям,-кликнувшим-по-рекомендованным-объявлениям\" data-toc-modified-id=\"3.4.-По-пользователям,-кликнувшим-по-рекомендованным-объявлениям-1.4.4\">3.4. По пользователям, кликнувшим по рекомендованным объявлениям</a></span></li><li><span><a href=\"#3.5.--По-пользователям,-открывшим-карточки-объявления\" data-toc-modified-id=\"3.5.--По-пользователям,-открывшим-карточки-объявления-1.4.5\">3.5.  По пользователям, открывшим карточки объявления</a></span></li><li><span><a href=\"#3.6.-По-пользователям,-просмотревшим-рекомендации\" data-toc-modified-id=\"3.6.-По-пользователям,-просмотревшим-рекомендации-1.4.6\">3.6. По пользователям, просмотревшим рекомендации</a></span></li><li><span><a href=\"#3.7.-По-пользователям,-открывшим-карту-размещенных-объявлений\" data-toc-modified-id=\"3.7.-По-пользователям,-открывшим-карту-размещенных-объявлений-1.4.7\">3.7. По пользователям, открывшим карту размещенных объявлений</a></span></li><li><span><a href=\"#3.8.-Вывод\" data-toc-modified-id=\"3.8.-Вывод-1.4.8\">3.8. Вывод</a></span></li></ul></li><li><span><a href=\"#Шаг-4.-Проверка-статистических-гипотез\" data-toc-modified-id=\"Шаг-4.-Проверка-статистических-гипотез-1.5\">Шаг 4. Проверка статистических гипотез</a></span><ul class=\"toc-item\"><li><span><a href=\"#4.1.--Группы-yandex_df--и-google_df--демонстрируют-разную-конверсию-в-просмотры-контактов\" data-toc-modified-id=\"4.1.--Группы-yandex_df--и-google_df--демонстрируют-разную-конверсию-в-просмотры-контактов-1.5.1\">4.1.  Группы <em>yandex_df</em>  и <em>google_df</em>  демонстрируют разную конверсию в просмотры контактов</a></span></li><li><span><a href=\"#4.2.-Среднее-время,--проведенное-в-приложении,-у-групп-пользователей-,совершивших-целевое-действие(просмотр-контактов)-и-не-совершивших-его,-различается\" data-toc-modified-id=\"4.2.-Среднее-время,--проведенное-в-приложении,-у-групп-пользователей-,совершивших-целевое-действие(просмотр-контактов)-и-не-совершивших-его,-различается-1.5.2\">4.2. Среднее время,  проведенное в приложении, у групп пользователей ,совершивших целевое действие(просмотр контактов) и не совершивших его, различается</a></span></li><li><span><a href=\"#4.3.-Вывод\" data-toc-modified-id=\"4.3.-Вывод-1.5.3\">4.3. Вывод</a></span></li></ul></li><li><span><a href=\"#Шаг-5.-Общие-выводы-и-рекомендации\" data-toc-modified-id=\"Шаг-5.-Общие-выводы-и-рекомендации-1.6\">Шаг 5. Общие выводы и рекомендации</a></span><ul class=\"toc-item\"><li><span><a href=\"#5.1.-Выводы\" data-toc-modified-id=\"5.1.-Выводы-1.6.1\">5.1. Выводы</a></span></li><li><span><a href=\"#5.2.-Рекомендации\" data-toc-modified-id=\"5.2.-Рекомендации-1.6.2\">5.2. Рекомендации</a></span></li></ul></li></ul></li></ul></div>"
   ]
  },
  {
   "cell_type": "markdown",
   "metadata": {},
   "source": [
    "# Выделение групп пользователей на основе поведения"
   ]
  },
  {
   "cell_type": "markdown",
   "metadata": {},
   "source": [
    "Наша задача - выявить сильные и слабые стороны нашего мобильного приложения (*\"Ненужные вещи\"*) с помощью выделения групп пользователей на основе их дейтсвий в приложении."
   ]
  },
  {
   "cell_type": "markdown",
   "metadata": {},
   "source": [
    "## Материалы"
   ]
  },
  {
   "cell_type": "markdown",
   "metadata": {},
   "source": [
    "* [Презентация](https://drive.google.com/file/d/1sUicg31iJn9JpvfTN1V7zqezYKKeZRxn/view?usp=sharing)\n",
    "\n",
    "* [Дашборд](https://public.tableau.com/profile/ksenia.sharova#!/vizhome/Book3_16139308610790/sheet2_1?publish=yes)"
   ]
  },
  {
   "cell_type": "markdown",
   "metadata": {},
   "source": [
    "## Шаг 1. Предобработка данных"
   ]
  },
  {
   "cell_type": "markdown",
   "metadata": {},
   "source": [
    "### 1.1. Выгружаем данные"
   ]
  },
  {
   "cell_type": "markdown",
   "metadata": {},
   "source": [
    "Импортируем необходимые нам библиотеки:"
   ]
  },
  {
   "cell_type": "code",
   "execution_count": 1,
   "metadata": {},
   "outputs": [],
   "source": [
    "import numpy as np\n",
    "import pandas as pd\n",
    "from datetime import datetime\n",
    "import datetime as dt\n",
    "import matplotlib.pyplot as plt\n",
    "import seaborn as sns\n",
    "import plotly.express as px\n",
    "from plotly import graph_objects as go\n",
    "import scipy.stats as stats\n",
    "from scipy import stats as st\n",
    "import math as mth"
   ]
  },
  {
   "cell_type": "markdown",
   "metadata": {},
   "source": [
    "Выгружаем первый датасет, дадим ему название **mobile_df**:"
   ]
  },
  {
   "cell_type": "code",
   "execution_count": 2,
   "metadata": {},
   "outputs": [
    {
     "data": {
      "text/html": [
       "<div>\n",
       "<style scoped>\n",
       "    .dataframe tbody tr th:only-of-type {\n",
       "        vertical-align: middle;\n",
       "    }\n",
       "\n",
       "    .dataframe tbody tr th {\n",
       "        vertical-align: top;\n",
       "    }\n",
       "\n",
       "    .dataframe thead th {\n",
       "        text-align: right;\n",
       "    }\n",
       "</style>\n",
       "<table border=\"1\" class=\"dataframe\">\n",
       "  <thead>\n",
       "    <tr style=\"text-align: right;\">\n",
       "      <th></th>\n",
       "      <th>event.time</th>\n",
       "      <th>event.name</th>\n",
       "      <th>user.id</th>\n",
       "    </tr>\n",
       "  </thead>\n",
       "  <tbody>\n",
       "    <tr>\n",
       "      <th>0</th>\n",
       "      <td>2019-10-07 00:00:00.431357</td>\n",
       "      <td>advert_open</td>\n",
       "      <td>020292ab-89bc-4156-9acf-68bc2783f894</td>\n",
       "    </tr>\n",
       "    <tr>\n",
       "      <th>1</th>\n",
       "      <td>2019-10-07 00:00:01.236320</td>\n",
       "      <td>tips_show</td>\n",
       "      <td>020292ab-89bc-4156-9acf-68bc2783f894</td>\n",
       "    </tr>\n",
       "    <tr>\n",
       "      <th>2</th>\n",
       "      <td>2019-10-07 00:00:02.245341</td>\n",
       "      <td>tips_show</td>\n",
       "      <td>cf7eda61-9349-469f-ac27-e5b6f5ec475c</td>\n",
       "    </tr>\n",
       "    <tr>\n",
       "      <th>3</th>\n",
       "      <td>2019-10-07 00:00:07.039334</td>\n",
       "      <td>tips_show</td>\n",
       "      <td>020292ab-89bc-4156-9acf-68bc2783f894</td>\n",
       "    </tr>\n",
       "    <tr>\n",
       "      <th>4</th>\n",
       "      <td>2019-10-07 00:00:56.319813</td>\n",
       "      <td>advert_open</td>\n",
       "      <td>cf7eda61-9349-469f-ac27-e5b6f5ec475c</td>\n",
       "    </tr>\n",
       "    <tr>\n",
       "      <th>...</th>\n",
       "      <td>...</td>\n",
       "      <td>...</td>\n",
       "      <td>...</td>\n",
       "    </tr>\n",
       "    <tr>\n",
       "      <th>74192</th>\n",
       "      <td>2019-11-03 23:53:29.534986</td>\n",
       "      <td>tips_show</td>\n",
       "      <td>28fccdf4-7b9e-42f5-bc73-439a265f20e9</td>\n",
       "    </tr>\n",
       "    <tr>\n",
       "      <th>74193</th>\n",
       "      <td>2019-11-03 23:54:00.407086</td>\n",
       "      <td>tips_show</td>\n",
       "      <td>28fccdf4-7b9e-42f5-bc73-439a265f20e9</td>\n",
       "    </tr>\n",
       "    <tr>\n",
       "      <th>74194</th>\n",
       "      <td>2019-11-03 23:56:57.041825</td>\n",
       "      <td>search_1</td>\n",
       "      <td>20850c8f-4135-4059-b13b-198d3ac59902</td>\n",
       "    </tr>\n",
       "    <tr>\n",
       "      <th>74195</th>\n",
       "      <td>2019-11-03 23:57:06.232189</td>\n",
       "      <td>tips_show</td>\n",
       "      <td>28fccdf4-7b9e-42f5-bc73-439a265f20e9</td>\n",
       "    </tr>\n",
       "    <tr>\n",
       "      <th>74196</th>\n",
       "      <td>2019-11-03 23:58:12.532487</td>\n",
       "      <td>tips_show</td>\n",
       "      <td>28fccdf4-7b9e-42f5-bc73-439a265f20e9</td>\n",
       "    </tr>\n",
       "  </tbody>\n",
       "</table>\n",
       "<p>74197 rows × 3 columns</p>\n",
       "</div>"
      ],
      "text/plain": [
       "                       event.time   event.name  \\\n",
       "0      2019-10-07 00:00:00.431357  advert_open   \n",
       "1      2019-10-07 00:00:01.236320    tips_show   \n",
       "2      2019-10-07 00:00:02.245341    tips_show   \n",
       "3      2019-10-07 00:00:07.039334    tips_show   \n",
       "4      2019-10-07 00:00:56.319813  advert_open   \n",
       "...                           ...          ...   \n",
       "74192  2019-11-03 23:53:29.534986    tips_show   \n",
       "74193  2019-11-03 23:54:00.407086    tips_show   \n",
       "74194  2019-11-03 23:56:57.041825     search_1   \n",
       "74195  2019-11-03 23:57:06.232189    tips_show   \n",
       "74196  2019-11-03 23:58:12.532487    tips_show   \n",
       "\n",
       "                                    user.id  \n",
       "0      020292ab-89bc-4156-9acf-68bc2783f894  \n",
       "1      020292ab-89bc-4156-9acf-68bc2783f894  \n",
       "2      cf7eda61-9349-469f-ac27-e5b6f5ec475c  \n",
       "3      020292ab-89bc-4156-9acf-68bc2783f894  \n",
       "4      cf7eda61-9349-469f-ac27-e5b6f5ec475c  \n",
       "...                                     ...  \n",
       "74192  28fccdf4-7b9e-42f5-bc73-439a265f20e9  \n",
       "74193  28fccdf4-7b9e-42f5-bc73-439a265f20e9  \n",
       "74194  20850c8f-4135-4059-b13b-198d3ac59902  \n",
       "74195  28fccdf4-7b9e-42f5-bc73-439a265f20e9  \n",
       "74196  28fccdf4-7b9e-42f5-bc73-439a265f20e9  \n",
       "\n",
       "[74197 rows x 3 columns]"
      ]
     },
     "execution_count": 2,
     "metadata": {},
     "output_type": "execute_result"
    }
   ],
   "source": [
    "mobile_df = pd.read_csv('/home/kseniya/Downloads/mobile_dataset.csv')\n",
    "mobile_df"
   ]
  },
  {
   "cell_type": "markdown",
   "metadata": {},
   "source": [
    "Выгрузим второй датасет, дадим ему название **source_df**:"
   ]
  },
  {
   "cell_type": "code",
   "execution_count": 3,
   "metadata": {},
   "outputs": [
    {
     "data": {
      "text/html": [
       "<div>\n",
       "<style scoped>\n",
       "    .dataframe tbody tr th:only-of-type {\n",
       "        vertical-align: middle;\n",
       "    }\n",
       "\n",
       "    .dataframe tbody tr th {\n",
       "        vertical-align: top;\n",
       "    }\n",
       "\n",
       "    .dataframe thead th {\n",
       "        text-align: right;\n",
       "    }\n",
       "</style>\n",
       "<table border=\"1\" class=\"dataframe\">\n",
       "  <thead>\n",
       "    <tr style=\"text-align: right;\">\n",
       "      <th></th>\n",
       "      <th>userId</th>\n",
       "      <th>source</th>\n",
       "    </tr>\n",
       "  </thead>\n",
       "  <tbody>\n",
       "    <tr>\n",
       "      <th>0</th>\n",
       "      <td>020292ab-89bc-4156-9acf-68bc2783f894</td>\n",
       "      <td>other</td>\n",
       "    </tr>\n",
       "    <tr>\n",
       "      <th>1</th>\n",
       "      <td>cf7eda61-9349-469f-ac27-e5b6f5ec475c</td>\n",
       "      <td>yandex</td>\n",
       "    </tr>\n",
       "    <tr>\n",
       "      <th>2</th>\n",
       "      <td>8c356c42-3ba9-4cb6-80b8-3f868d0192c3</td>\n",
       "      <td>yandex</td>\n",
       "    </tr>\n",
       "    <tr>\n",
       "      <th>3</th>\n",
       "      <td>d9b06b47-0f36-419b-bbb0-3533e582a6cb</td>\n",
       "      <td>other</td>\n",
       "    </tr>\n",
       "    <tr>\n",
       "      <th>4</th>\n",
       "      <td>f32e1e2a-3027-4693-b793-b7b3ff274439</td>\n",
       "      <td>google</td>\n",
       "    </tr>\n",
       "    <tr>\n",
       "      <th>...</th>\n",
       "      <td>...</td>\n",
       "      <td>...</td>\n",
       "    </tr>\n",
       "    <tr>\n",
       "      <th>4288</th>\n",
       "      <td>b86fe56e-f2de-4f8a-b192-cd89a37ecd41</td>\n",
       "      <td>yandex</td>\n",
       "    </tr>\n",
       "    <tr>\n",
       "      <th>4289</th>\n",
       "      <td>424c0ae1-3ea3-4f1e-a814-6bac73e48ab1</td>\n",
       "      <td>yandex</td>\n",
       "    </tr>\n",
       "    <tr>\n",
       "      <th>4290</th>\n",
       "      <td>437a4cd4-9ba9-457f-8614-d142bc48fbeb</td>\n",
       "      <td>yandex</td>\n",
       "    </tr>\n",
       "    <tr>\n",
       "      <th>4291</th>\n",
       "      <td>c10055f0-0b47-477a-869e-d391b31fdf8f</td>\n",
       "      <td>yandex</td>\n",
       "    </tr>\n",
       "    <tr>\n",
       "      <th>4292</th>\n",
       "      <td>d157bffc-264d-4464-8220-1cc0c42f43a9</td>\n",
       "      <td>google</td>\n",
       "    </tr>\n",
       "  </tbody>\n",
       "</table>\n",
       "<p>4293 rows × 2 columns</p>\n",
       "</div>"
      ],
      "text/plain": [
       "                                    userId  source\n",
       "0     020292ab-89bc-4156-9acf-68bc2783f894   other\n",
       "1     cf7eda61-9349-469f-ac27-e5b6f5ec475c  yandex\n",
       "2     8c356c42-3ba9-4cb6-80b8-3f868d0192c3  yandex\n",
       "3     d9b06b47-0f36-419b-bbb0-3533e582a6cb   other\n",
       "4     f32e1e2a-3027-4693-b793-b7b3ff274439  google\n",
       "...                                    ...     ...\n",
       "4288  b86fe56e-f2de-4f8a-b192-cd89a37ecd41  yandex\n",
       "4289  424c0ae1-3ea3-4f1e-a814-6bac73e48ab1  yandex\n",
       "4290  437a4cd4-9ba9-457f-8614-d142bc48fbeb  yandex\n",
       "4291  c10055f0-0b47-477a-869e-d391b31fdf8f  yandex\n",
       "4292  d157bffc-264d-4464-8220-1cc0c42f43a9  google\n",
       "\n",
       "[4293 rows x 2 columns]"
      ]
     },
     "execution_count": 3,
     "metadata": {},
     "output_type": "execute_result"
    }
   ],
   "source": [
    "source_df = pd.read_csv('/home/kseniya/Downloads/mobile_soures.csv')\n",
    "source_df"
   ]
  },
  {
   "cell_type": "markdown",
   "metadata": {},
   "source": [
    "### 1.2. Исследуем общую информацию о таблицах"
   ]
  },
  {
   "cell_type": "code",
   "execution_count": 4,
   "metadata": {},
   "outputs": [
    {
     "name": "stdout",
     "output_type": "stream",
     "text": [
      "<class 'pandas.core.frame.DataFrame'>\n",
      "RangeIndex: 74197 entries, 0 to 74196\n",
      "Data columns (total 3 columns):\n",
      " #   Column      Non-Null Count  Dtype \n",
      "---  ------      --------------  ----- \n",
      " 0   event.time  74197 non-null  object\n",
      " 1   event.name  74197 non-null  object\n",
      " 2   user.id     74197 non-null  object\n",
      "dtypes: object(3)\n",
      "memory usage: 1.7+ MB\n"
     ]
    }
   ],
   "source": [
    "mobile_df.info()"
   ]
  },
  {
   "cell_type": "markdown",
   "metadata": {},
   "source": [
    "Таблица **mobile_df** состоит из 74197 строк. Пропуски отсутствуют. Таблица содержит столбцы со следующей информацией:\n",
    "\n",
    "*  **event.time** - время совершения события;\n",
    "\n",
    "*  **event.name** - название события;\n",
    "\n",
    "   1) *advert_open* - открытие карточки объявления;\n",
    "   \n",
    "   2) *photos_show* - просмотр фотографий в объявлении;\n",
    "   \n",
    "   3) *tips_show* — пользователь увидел рекомендованные объявления;\n",
    "   \n",
    "   4) *tips_click* — пользователь кликнул по рекомендованному объявлению;\n",
    "   \n",
    "   5) *contacts_show* и *show_contacts* — пользователь нажал на кнопку \"посмотреть номер телефона\" на карточке объявления;\n",
    "   \n",
    "   6) *contacts_call* — пользователь позвонил по номеру телефона на карточке объявления;\n",
    "   \n",
    "   7) *map* — пользователь открыл карту размещенных объявлений;\n",
    "   \n",
    "   8) *search_1 — search_7* — разные события, связанные с поиском по сайту;\n",
    "   \n",
    "   9) *favorites_add* — добавление объявления в избранное;\n",
    "   \n",
    "\n",
    "*  **user.id** - идентификатор пользователя."
   ]
  },
  {
   "cell_type": "markdown",
   "metadata": {},
   "source": [
    "Все столбцы имеют тип данных **object**. Нам необходимо привести столбец *event.time* к нужному нам типу **datetime**. "
   ]
  },
  {
   "cell_type": "markdown",
   "metadata": {},
   "source": [
    "Также мы переименуем столбцы(для лучшего вида и будущего объединения таблиц) и в столбце *event.name* заменим значение \"*show_contacts*\" на \"*contacts_show*\" - это объединит одинаковые по смыслу значения, мы будем видеть более четкую картину распределения событий."
   ]
  },
  {
   "cell_type": "markdown",
   "metadata": {},
   "source": [
    "Посмотрим общую информацию о таблице **source_df**:"
   ]
  },
  {
   "cell_type": "code",
   "execution_count": 5,
   "metadata": {},
   "outputs": [
    {
     "name": "stdout",
     "output_type": "stream",
     "text": [
      "<class 'pandas.core.frame.DataFrame'>\n",
      "RangeIndex: 4293 entries, 0 to 4292\n",
      "Data columns (total 2 columns):\n",
      " #   Column  Non-Null Count  Dtype \n",
      "---  ------  --------------  ----- \n",
      " 0   userId  4293 non-null   object\n",
      " 1   source  4293 non-null   object\n",
      "dtypes: object(2)\n",
      "memory usage: 67.2+ KB\n"
     ]
    }
   ],
   "source": [
    "source_df.info()"
   ]
  },
  {
   "cell_type": "markdown",
   "metadata": {},
   "source": [
    "Таблица состоит из 4293 строк. Пропуски также отсутствуют. Таблица содержит информацию о:\n",
    "\n",
    "*  **userId** - идентификатор пользователя;\n",
    "\n",
    "*  **source** - источник, с которого пользователь установил приложение."
   ]
  },
  {
   "cell_type": "markdown",
   "metadata": {},
   "source": [
    "Все столбцы имеют тип данных **object** - в этой таблице мы ничего менять не будем, такой тип данных нам подходит. Здесь также нужно поменять названия столбца *userId*."
   ]
  },
  {
   "cell_type": "markdown",
   "metadata": {},
   "source": [
    "### 1.3. Замена названий столбцов"
   ]
  },
  {
   "cell_type": "markdown",
   "metadata": {},
   "source": [
    "Заменим названия столбцов в датафрейме **mobile_df** на *event_time*, *event_name* и *user_id*:"
   ]
  },
  {
   "cell_type": "code",
   "execution_count": 6,
   "metadata": {},
   "outputs": [
    {
     "data": {
      "text/html": [
       "<div>\n",
       "<style scoped>\n",
       "    .dataframe tbody tr th:only-of-type {\n",
       "        vertical-align: middle;\n",
       "    }\n",
       "\n",
       "    .dataframe tbody tr th {\n",
       "        vertical-align: top;\n",
       "    }\n",
       "\n",
       "    .dataframe thead th {\n",
       "        text-align: right;\n",
       "    }\n",
       "</style>\n",
       "<table border=\"1\" class=\"dataframe\">\n",
       "  <thead>\n",
       "    <tr style=\"text-align: right;\">\n",
       "      <th></th>\n",
       "      <th>event_time</th>\n",
       "      <th>event_name</th>\n",
       "      <th>user_id</th>\n",
       "    </tr>\n",
       "  </thead>\n",
       "  <tbody>\n",
       "    <tr>\n",
       "      <th>0</th>\n",
       "      <td>2019-10-07 00:00:00.431357</td>\n",
       "      <td>advert_open</td>\n",
       "      <td>020292ab-89bc-4156-9acf-68bc2783f894</td>\n",
       "    </tr>\n",
       "    <tr>\n",
       "      <th>1</th>\n",
       "      <td>2019-10-07 00:00:01.236320</td>\n",
       "      <td>tips_show</td>\n",
       "      <td>020292ab-89bc-4156-9acf-68bc2783f894</td>\n",
       "    </tr>\n",
       "    <tr>\n",
       "      <th>2</th>\n",
       "      <td>2019-10-07 00:00:02.245341</td>\n",
       "      <td>tips_show</td>\n",
       "      <td>cf7eda61-9349-469f-ac27-e5b6f5ec475c</td>\n",
       "    </tr>\n",
       "    <tr>\n",
       "      <th>3</th>\n",
       "      <td>2019-10-07 00:00:07.039334</td>\n",
       "      <td>tips_show</td>\n",
       "      <td>020292ab-89bc-4156-9acf-68bc2783f894</td>\n",
       "    </tr>\n",
       "    <tr>\n",
       "      <th>4</th>\n",
       "      <td>2019-10-07 00:00:56.319813</td>\n",
       "      <td>advert_open</td>\n",
       "      <td>cf7eda61-9349-469f-ac27-e5b6f5ec475c</td>\n",
       "    </tr>\n",
       "    <tr>\n",
       "      <th>...</th>\n",
       "      <td>...</td>\n",
       "      <td>...</td>\n",
       "      <td>...</td>\n",
       "    </tr>\n",
       "    <tr>\n",
       "      <th>74192</th>\n",
       "      <td>2019-11-03 23:53:29.534986</td>\n",
       "      <td>tips_show</td>\n",
       "      <td>28fccdf4-7b9e-42f5-bc73-439a265f20e9</td>\n",
       "    </tr>\n",
       "    <tr>\n",
       "      <th>74193</th>\n",
       "      <td>2019-11-03 23:54:00.407086</td>\n",
       "      <td>tips_show</td>\n",
       "      <td>28fccdf4-7b9e-42f5-bc73-439a265f20e9</td>\n",
       "    </tr>\n",
       "    <tr>\n",
       "      <th>74194</th>\n",
       "      <td>2019-11-03 23:56:57.041825</td>\n",
       "      <td>search_1</td>\n",
       "      <td>20850c8f-4135-4059-b13b-198d3ac59902</td>\n",
       "    </tr>\n",
       "    <tr>\n",
       "      <th>74195</th>\n",
       "      <td>2019-11-03 23:57:06.232189</td>\n",
       "      <td>tips_show</td>\n",
       "      <td>28fccdf4-7b9e-42f5-bc73-439a265f20e9</td>\n",
       "    </tr>\n",
       "    <tr>\n",
       "      <th>74196</th>\n",
       "      <td>2019-11-03 23:58:12.532487</td>\n",
       "      <td>tips_show</td>\n",
       "      <td>28fccdf4-7b9e-42f5-bc73-439a265f20e9</td>\n",
       "    </tr>\n",
       "  </tbody>\n",
       "</table>\n",
       "<p>74197 rows × 3 columns</p>\n",
       "</div>"
      ],
      "text/plain": [
       "                       event_time   event_name  \\\n",
       "0      2019-10-07 00:00:00.431357  advert_open   \n",
       "1      2019-10-07 00:00:01.236320    tips_show   \n",
       "2      2019-10-07 00:00:02.245341    tips_show   \n",
       "3      2019-10-07 00:00:07.039334    tips_show   \n",
       "4      2019-10-07 00:00:56.319813  advert_open   \n",
       "...                           ...          ...   \n",
       "74192  2019-11-03 23:53:29.534986    tips_show   \n",
       "74193  2019-11-03 23:54:00.407086    tips_show   \n",
       "74194  2019-11-03 23:56:57.041825     search_1   \n",
       "74195  2019-11-03 23:57:06.232189    tips_show   \n",
       "74196  2019-11-03 23:58:12.532487    tips_show   \n",
       "\n",
       "                                    user_id  \n",
       "0      020292ab-89bc-4156-9acf-68bc2783f894  \n",
       "1      020292ab-89bc-4156-9acf-68bc2783f894  \n",
       "2      cf7eda61-9349-469f-ac27-e5b6f5ec475c  \n",
       "3      020292ab-89bc-4156-9acf-68bc2783f894  \n",
       "4      cf7eda61-9349-469f-ac27-e5b6f5ec475c  \n",
       "...                                     ...  \n",
       "74192  28fccdf4-7b9e-42f5-bc73-439a265f20e9  \n",
       "74193  28fccdf4-7b9e-42f5-bc73-439a265f20e9  \n",
       "74194  20850c8f-4135-4059-b13b-198d3ac59902  \n",
       "74195  28fccdf4-7b9e-42f5-bc73-439a265f20e9  \n",
       "74196  28fccdf4-7b9e-42f5-bc73-439a265f20e9  \n",
       "\n",
       "[74197 rows x 3 columns]"
      ]
     },
     "execution_count": 6,
     "metadata": {},
     "output_type": "execute_result"
    }
   ],
   "source": [
    "mobile_df.columns = ['event_time', 'event_name', 'user_id']\n",
    "mobile_df"
   ]
  },
  {
   "cell_type": "markdown",
   "metadata": {},
   "source": [
    "В таблице **source_df** нам нужно заменить название только одного столбца, меняем его на *user_id*:"
   ]
  },
  {
   "cell_type": "code",
   "execution_count": 7,
   "metadata": {},
   "outputs": [
    {
     "data": {
      "text/html": [
       "<div>\n",
       "<style scoped>\n",
       "    .dataframe tbody tr th:only-of-type {\n",
       "        vertical-align: middle;\n",
       "    }\n",
       "\n",
       "    .dataframe tbody tr th {\n",
       "        vertical-align: top;\n",
       "    }\n",
       "\n",
       "    .dataframe thead th {\n",
       "        text-align: right;\n",
       "    }\n",
       "</style>\n",
       "<table border=\"1\" class=\"dataframe\">\n",
       "  <thead>\n",
       "    <tr style=\"text-align: right;\">\n",
       "      <th></th>\n",
       "      <th>user_id</th>\n",
       "      <th>source</th>\n",
       "    </tr>\n",
       "  </thead>\n",
       "  <tbody>\n",
       "    <tr>\n",
       "      <th>0</th>\n",
       "      <td>020292ab-89bc-4156-9acf-68bc2783f894</td>\n",
       "      <td>other</td>\n",
       "    </tr>\n",
       "    <tr>\n",
       "      <th>1</th>\n",
       "      <td>cf7eda61-9349-469f-ac27-e5b6f5ec475c</td>\n",
       "      <td>yandex</td>\n",
       "    </tr>\n",
       "    <tr>\n",
       "      <th>2</th>\n",
       "      <td>8c356c42-3ba9-4cb6-80b8-3f868d0192c3</td>\n",
       "      <td>yandex</td>\n",
       "    </tr>\n",
       "    <tr>\n",
       "      <th>3</th>\n",
       "      <td>d9b06b47-0f36-419b-bbb0-3533e582a6cb</td>\n",
       "      <td>other</td>\n",
       "    </tr>\n",
       "    <tr>\n",
       "      <th>4</th>\n",
       "      <td>f32e1e2a-3027-4693-b793-b7b3ff274439</td>\n",
       "      <td>google</td>\n",
       "    </tr>\n",
       "    <tr>\n",
       "      <th>...</th>\n",
       "      <td>...</td>\n",
       "      <td>...</td>\n",
       "    </tr>\n",
       "    <tr>\n",
       "      <th>4288</th>\n",
       "      <td>b86fe56e-f2de-4f8a-b192-cd89a37ecd41</td>\n",
       "      <td>yandex</td>\n",
       "    </tr>\n",
       "    <tr>\n",
       "      <th>4289</th>\n",
       "      <td>424c0ae1-3ea3-4f1e-a814-6bac73e48ab1</td>\n",
       "      <td>yandex</td>\n",
       "    </tr>\n",
       "    <tr>\n",
       "      <th>4290</th>\n",
       "      <td>437a4cd4-9ba9-457f-8614-d142bc48fbeb</td>\n",
       "      <td>yandex</td>\n",
       "    </tr>\n",
       "    <tr>\n",
       "      <th>4291</th>\n",
       "      <td>c10055f0-0b47-477a-869e-d391b31fdf8f</td>\n",
       "      <td>yandex</td>\n",
       "    </tr>\n",
       "    <tr>\n",
       "      <th>4292</th>\n",
       "      <td>d157bffc-264d-4464-8220-1cc0c42f43a9</td>\n",
       "      <td>google</td>\n",
       "    </tr>\n",
       "  </tbody>\n",
       "</table>\n",
       "<p>4293 rows × 2 columns</p>\n",
       "</div>"
      ],
      "text/plain": [
       "                                   user_id  source\n",
       "0     020292ab-89bc-4156-9acf-68bc2783f894   other\n",
       "1     cf7eda61-9349-469f-ac27-e5b6f5ec475c  yandex\n",
       "2     8c356c42-3ba9-4cb6-80b8-3f868d0192c3  yandex\n",
       "3     d9b06b47-0f36-419b-bbb0-3533e582a6cb   other\n",
       "4     f32e1e2a-3027-4693-b793-b7b3ff274439  google\n",
       "...                                    ...     ...\n",
       "4288  b86fe56e-f2de-4f8a-b192-cd89a37ecd41  yandex\n",
       "4289  424c0ae1-3ea3-4f1e-a814-6bac73e48ab1  yandex\n",
       "4290  437a4cd4-9ba9-457f-8614-d142bc48fbeb  yandex\n",
       "4291  c10055f0-0b47-477a-869e-d391b31fdf8f  yandex\n",
       "4292  d157bffc-264d-4464-8220-1cc0c42f43a9  google\n",
       "\n",
       "[4293 rows x 2 columns]"
      ]
     },
     "execution_count": 7,
     "metadata": {},
     "output_type": "execute_result"
    }
   ],
   "source": [
    "source_df.rename(columns={'userId':'user_id'}, inplace=True)\n",
    "source_df"
   ]
  },
  {
   "cell_type": "markdown",
   "metadata": {},
   "source": [
    "### 1.4. Замена названий одинаковых по смыслу значений"
   ]
  },
  {
   "cell_type": "markdown",
   "metadata": {},
   "source": [
    "Как мы описывали выше - нам необходимо поменять значение \"*show_contacts*\" на \"*contacts_show*\" в столбце *event_name*. Воспользуемся для этого меодом ***replace***:"
   ]
  },
  {
   "cell_type": "code",
   "execution_count": 8,
   "metadata": {},
   "outputs": [],
   "source": [
    "mobile_df['event_name'] = mobile_df['event_name'].replace('show_contacts','contacts_show')"
   ]
  },
  {
   "cell_type": "markdown",
   "metadata": {},
   "source": [
    "Проверим список уникальных значений столбца *event_name*:"
   ]
  },
  {
   "cell_type": "code",
   "execution_count": 9,
   "metadata": {},
   "outputs": [
    {
     "data": {
      "text/plain": [
       "array(['advert_open', 'tips_show', 'map', 'contacts_show', 'search_4',\n",
       "       'search_5', 'tips_click', 'photos_show', 'search_1', 'search_2',\n",
       "       'search_3', 'favorites_add', 'contacts_call', 'search_6',\n",
       "       'search_7'], dtype=object)"
      ]
     },
     "execution_count": 9,
     "metadata": {},
     "output_type": "execute_result"
    }
   ],
   "source": [
    "mobile_df['event_name'].unique()"
   ]
  },
  {
   "cell_type": "markdown",
   "metadata": {},
   "source": [
    "Видим, что значение \"*show_contacts*\" в списке отсутствует - значит, замена прошла успешна."
   ]
  },
  {
   "cell_type": "markdown",
   "metadata": {},
   "source": [
    "### 1.5. Замена типа данных"
   ]
  },
  {
   "cell_type": "code",
   "execution_count": 10,
   "metadata": {},
   "outputs": [
    {
     "data": {
      "text/html": [
       "<div>\n",
       "<style scoped>\n",
       "    .dataframe tbody tr th:only-of-type {\n",
       "        vertical-align: middle;\n",
       "    }\n",
       "\n",
       "    .dataframe tbody tr th {\n",
       "        vertical-align: top;\n",
       "    }\n",
       "\n",
       "    .dataframe thead th {\n",
       "        text-align: right;\n",
       "    }\n",
       "</style>\n",
       "<table border=\"1\" class=\"dataframe\">\n",
       "  <thead>\n",
       "    <tr style=\"text-align: right;\">\n",
       "      <th></th>\n",
       "      <th>event_time</th>\n",
       "      <th>event_name</th>\n",
       "      <th>user_id</th>\n",
       "    </tr>\n",
       "  </thead>\n",
       "  <tbody>\n",
       "    <tr>\n",
       "      <th>0</th>\n",
       "      <td>2019-10-07 00:00:00.431357</td>\n",
       "      <td>advert_open</td>\n",
       "      <td>020292ab-89bc-4156-9acf-68bc2783f894</td>\n",
       "    </tr>\n",
       "    <tr>\n",
       "      <th>1</th>\n",
       "      <td>2019-10-07 00:00:01.236320</td>\n",
       "      <td>tips_show</td>\n",
       "      <td>020292ab-89bc-4156-9acf-68bc2783f894</td>\n",
       "    </tr>\n",
       "    <tr>\n",
       "      <th>2</th>\n",
       "      <td>2019-10-07 00:00:02.245341</td>\n",
       "      <td>tips_show</td>\n",
       "      <td>cf7eda61-9349-469f-ac27-e5b6f5ec475c</td>\n",
       "    </tr>\n",
       "    <tr>\n",
       "      <th>3</th>\n",
       "      <td>2019-10-07 00:00:07.039334</td>\n",
       "      <td>tips_show</td>\n",
       "      <td>020292ab-89bc-4156-9acf-68bc2783f894</td>\n",
       "    </tr>\n",
       "    <tr>\n",
       "      <th>4</th>\n",
       "      <td>2019-10-07 00:00:56.319813</td>\n",
       "      <td>advert_open</td>\n",
       "      <td>cf7eda61-9349-469f-ac27-e5b6f5ec475c</td>\n",
       "    </tr>\n",
       "    <tr>\n",
       "      <th>...</th>\n",
       "      <td>...</td>\n",
       "      <td>...</td>\n",
       "      <td>...</td>\n",
       "    </tr>\n",
       "    <tr>\n",
       "      <th>74192</th>\n",
       "      <td>2019-11-03 23:53:29.534986</td>\n",
       "      <td>tips_show</td>\n",
       "      <td>28fccdf4-7b9e-42f5-bc73-439a265f20e9</td>\n",
       "    </tr>\n",
       "    <tr>\n",
       "      <th>74193</th>\n",
       "      <td>2019-11-03 23:54:00.407086</td>\n",
       "      <td>tips_show</td>\n",
       "      <td>28fccdf4-7b9e-42f5-bc73-439a265f20e9</td>\n",
       "    </tr>\n",
       "    <tr>\n",
       "      <th>74194</th>\n",
       "      <td>2019-11-03 23:56:57.041825</td>\n",
       "      <td>search_1</td>\n",
       "      <td>20850c8f-4135-4059-b13b-198d3ac59902</td>\n",
       "    </tr>\n",
       "    <tr>\n",
       "      <th>74195</th>\n",
       "      <td>2019-11-03 23:57:06.232189</td>\n",
       "      <td>tips_show</td>\n",
       "      <td>28fccdf4-7b9e-42f5-bc73-439a265f20e9</td>\n",
       "    </tr>\n",
       "    <tr>\n",
       "      <th>74196</th>\n",
       "      <td>2019-11-03 23:58:12.532487</td>\n",
       "      <td>tips_show</td>\n",
       "      <td>28fccdf4-7b9e-42f5-bc73-439a265f20e9</td>\n",
       "    </tr>\n",
       "  </tbody>\n",
       "</table>\n",
       "<p>74197 rows × 3 columns</p>\n",
       "</div>"
      ],
      "text/plain": [
       "                      event_time   event_name  \\\n",
       "0     2019-10-07 00:00:00.431357  advert_open   \n",
       "1     2019-10-07 00:00:01.236320    tips_show   \n",
       "2     2019-10-07 00:00:02.245341    tips_show   \n",
       "3     2019-10-07 00:00:07.039334    tips_show   \n",
       "4     2019-10-07 00:00:56.319813  advert_open   \n",
       "...                          ...          ...   \n",
       "74192 2019-11-03 23:53:29.534986    tips_show   \n",
       "74193 2019-11-03 23:54:00.407086    tips_show   \n",
       "74194 2019-11-03 23:56:57.041825     search_1   \n",
       "74195 2019-11-03 23:57:06.232189    tips_show   \n",
       "74196 2019-11-03 23:58:12.532487    tips_show   \n",
       "\n",
       "                                    user_id  \n",
       "0      020292ab-89bc-4156-9acf-68bc2783f894  \n",
       "1      020292ab-89bc-4156-9acf-68bc2783f894  \n",
       "2      cf7eda61-9349-469f-ac27-e5b6f5ec475c  \n",
       "3      020292ab-89bc-4156-9acf-68bc2783f894  \n",
       "4      cf7eda61-9349-469f-ac27-e5b6f5ec475c  \n",
       "...                                     ...  \n",
       "74192  28fccdf4-7b9e-42f5-bc73-439a265f20e9  \n",
       "74193  28fccdf4-7b9e-42f5-bc73-439a265f20e9  \n",
       "74194  20850c8f-4135-4059-b13b-198d3ac59902  \n",
       "74195  28fccdf4-7b9e-42f5-bc73-439a265f20e9  \n",
       "74196  28fccdf4-7b9e-42f5-bc73-439a265f20e9  \n",
       "\n",
       "[74197 rows x 3 columns]"
      ]
     },
     "execution_count": 10,
     "metadata": {},
     "output_type": "execute_result"
    }
   ],
   "source": [
    "mobile_df['event_time'] = pd.to_datetime(mobile_df['event_time'])\n",
    "mobile_df"
   ]
  },
  {
   "cell_type": "code",
   "execution_count": 11,
   "metadata": {},
   "outputs": [
    {
     "name": "stdout",
     "output_type": "stream",
     "text": [
      "<class 'pandas.core.frame.DataFrame'>\n",
      "RangeIndex: 74197 entries, 0 to 74196\n",
      "Data columns (total 3 columns):\n",
      " #   Column      Non-Null Count  Dtype         \n",
      "---  ------      --------------  -----         \n",
      " 0   event_time  74197 non-null  datetime64[ns]\n",
      " 1   event_name  74197 non-null  object        \n",
      " 2   user_id     74197 non-null  object        \n",
      "dtypes: datetime64[ns](1), object(2)\n",
      "memory usage: 1.7+ MB\n"
     ]
    }
   ],
   "source": [
    "mobile_df.info()"
   ]
  },
  {
   "cell_type": "markdown",
   "metadata": {},
   "source": [
    "Видим, что тип данных изменился, однако нам нужно сократить вид даты - обрезать наносекунды. Для этого воспользуемся методом ***astype*** и добавим еще один столбец - *event_time_sec*:"
   ]
  },
  {
   "cell_type": "code",
   "execution_count": 12,
   "metadata": {},
   "outputs": [
    {
     "data": {
      "text/html": [
       "<div>\n",
       "<style scoped>\n",
       "    .dataframe tbody tr th:only-of-type {\n",
       "        vertical-align: middle;\n",
       "    }\n",
       "\n",
       "    .dataframe tbody tr th {\n",
       "        vertical-align: top;\n",
       "    }\n",
       "\n",
       "    .dataframe thead th {\n",
       "        text-align: right;\n",
       "    }\n",
       "</style>\n",
       "<table border=\"1\" class=\"dataframe\">\n",
       "  <thead>\n",
       "    <tr style=\"text-align: right;\">\n",
       "      <th></th>\n",
       "      <th>event_time</th>\n",
       "      <th>event_name</th>\n",
       "      <th>user_id</th>\n",
       "      <th>event_time_sec</th>\n",
       "    </tr>\n",
       "  </thead>\n",
       "  <tbody>\n",
       "    <tr>\n",
       "      <th>0</th>\n",
       "      <td>2019-10-07 00:00:00.431357</td>\n",
       "      <td>advert_open</td>\n",
       "      <td>020292ab-89bc-4156-9acf-68bc2783f894</td>\n",
       "      <td>2019-10-07 00:00:00</td>\n",
       "    </tr>\n",
       "    <tr>\n",
       "      <th>1</th>\n",
       "      <td>2019-10-07 00:00:01.236320</td>\n",
       "      <td>tips_show</td>\n",
       "      <td>020292ab-89bc-4156-9acf-68bc2783f894</td>\n",
       "      <td>2019-10-07 00:00:01</td>\n",
       "    </tr>\n",
       "    <tr>\n",
       "      <th>2</th>\n",
       "      <td>2019-10-07 00:00:02.245341</td>\n",
       "      <td>tips_show</td>\n",
       "      <td>cf7eda61-9349-469f-ac27-e5b6f5ec475c</td>\n",
       "      <td>2019-10-07 00:00:02</td>\n",
       "    </tr>\n",
       "    <tr>\n",
       "      <th>3</th>\n",
       "      <td>2019-10-07 00:00:07.039334</td>\n",
       "      <td>tips_show</td>\n",
       "      <td>020292ab-89bc-4156-9acf-68bc2783f894</td>\n",
       "      <td>2019-10-07 00:00:07</td>\n",
       "    </tr>\n",
       "    <tr>\n",
       "      <th>4</th>\n",
       "      <td>2019-10-07 00:00:56.319813</td>\n",
       "      <td>advert_open</td>\n",
       "      <td>cf7eda61-9349-469f-ac27-e5b6f5ec475c</td>\n",
       "      <td>2019-10-07 00:00:56</td>\n",
       "    </tr>\n",
       "    <tr>\n",
       "      <th>...</th>\n",
       "      <td>...</td>\n",
       "      <td>...</td>\n",
       "      <td>...</td>\n",
       "      <td>...</td>\n",
       "    </tr>\n",
       "    <tr>\n",
       "      <th>74192</th>\n",
       "      <td>2019-11-03 23:53:29.534986</td>\n",
       "      <td>tips_show</td>\n",
       "      <td>28fccdf4-7b9e-42f5-bc73-439a265f20e9</td>\n",
       "      <td>2019-11-03 23:53:29</td>\n",
       "    </tr>\n",
       "    <tr>\n",
       "      <th>74193</th>\n",
       "      <td>2019-11-03 23:54:00.407086</td>\n",
       "      <td>tips_show</td>\n",
       "      <td>28fccdf4-7b9e-42f5-bc73-439a265f20e9</td>\n",
       "      <td>2019-11-03 23:54:00</td>\n",
       "    </tr>\n",
       "    <tr>\n",
       "      <th>74194</th>\n",
       "      <td>2019-11-03 23:56:57.041825</td>\n",
       "      <td>search_1</td>\n",
       "      <td>20850c8f-4135-4059-b13b-198d3ac59902</td>\n",
       "      <td>2019-11-03 23:56:57</td>\n",
       "    </tr>\n",
       "    <tr>\n",
       "      <th>74195</th>\n",
       "      <td>2019-11-03 23:57:06.232189</td>\n",
       "      <td>tips_show</td>\n",
       "      <td>28fccdf4-7b9e-42f5-bc73-439a265f20e9</td>\n",
       "      <td>2019-11-03 23:57:06</td>\n",
       "    </tr>\n",
       "    <tr>\n",
       "      <th>74196</th>\n",
       "      <td>2019-11-03 23:58:12.532487</td>\n",
       "      <td>tips_show</td>\n",
       "      <td>28fccdf4-7b9e-42f5-bc73-439a265f20e9</td>\n",
       "      <td>2019-11-03 23:58:12</td>\n",
       "    </tr>\n",
       "  </tbody>\n",
       "</table>\n",
       "<p>74197 rows × 4 columns</p>\n",
       "</div>"
      ],
      "text/plain": [
       "                      event_time   event_name  \\\n",
       "0     2019-10-07 00:00:00.431357  advert_open   \n",
       "1     2019-10-07 00:00:01.236320    tips_show   \n",
       "2     2019-10-07 00:00:02.245341    tips_show   \n",
       "3     2019-10-07 00:00:07.039334    tips_show   \n",
       "4     2019-10-07 00:00:56.319813  advert_open   \n",
       "...                          ...          ...   \n",
       "74192 2019-11-03 23:53:29.534986    tips_show   \n",
       "74193 2019-11-03 23:54:00.407086    tips_show   \n",
       "74194 2019-11-03 23:56:57.041825     search_1   \n",
       "74195 2019-11-03 23:57:06.232189    tips_show   \n",
       "74196 2019-11-03 23:58:12.532487    tips_show   \n",
       "\n",
       "                                    user_id      event_time_sec  \n",
       "0      020292ab-89bc-4156-9acf-68bc2783f894 2019-10-07 00:00:00  \n",
       "1      020292ab-89bc-4156-9acf-68bc2783f894 2019-10-07 00:00:01  \n",
       "2      cf7eda61-9349-469f-ac27-e5b6f5ec475c 2019-10-07 00:00:02  \n",
       "3      020292ab-89bc-4156-9acf-68bc2783f894 2019-10-07 00:00:07  \n",
       "4      cf7eda61-9349-469f-ac27-e5b6f5ec475c 2019-10-07 00:00:56  \n",
       "...                                     ...                 ...  \n",
       "74192  28fccdf4-7b9e-42f5-bc73-439a265f20e9 2019-11-03 23:53:29  \n",
       "74193  28fccdf4-7b9e-42f5-bc73-439a265f20e9 2019-11-03 23:54:00  \n",
       "74194  20850c8f-4135-4059-b13b-198d3ac59902 2019-11-03 23:56:57  \n",
       "74195  28fccdf4-7b9e-42f5-bc73-439a265f20e9 2019-11-03 23:57:06  \n",
       "74196  28fccdf4-7b9e-42f5-bc73-439a265f20e9 2019-11-03 23:58:12  \n",
       "\n",
       "[74197 rows x 4 columns]"
      ]
     },
     "execution_count": 12,
     "metadata": {},
     "output_type": "execute_result"
    }
   ],
   "source": [
    "mobile_df['event_time_sec'] = mobile_df['event_time'].astype('datetime64[s]')\n",
    "mobile_df"
   ]
  },
  {
   "cell_type": "markdown",
   "metadata": {},
   "source": [
    "### 1.6. Проверка таблиц на дубликаты"
   ]
  },
  {
   "cell_type": "markdown",
   "metadata": {},
   "source": [
    "К двум датафреймам применим методы ***duplicated()*** и ***sum()***:"
   ]
  },
  {
   "cell_type": "code",
   "execution_count": 13,
   "metadata": {},
   "outputs": [
    {
     "data": {
      "text/plain": [
       "0"
      ]
     },
     "execution_count": 13,
     "metadata": {},
     "output_type": "execute_result"
    }
   ],
   "source": [
    "mobile_df.duplicated().sum()"
   ]
  },
  {
   "cell_type": "code",
   "execution_count": 14,
   "metadata": {},
   "outputs": [
    {
     "data": {
      "text/plain": [
       "0"
      ]
     },
     "execution_count": 14,
     "metadata": {},
     "output_type": "execute_result"
    }
   ],
   "source": [
    "source_df.duplicated().sum()"
   ]
  },
  {
   "cell_type": "markdown",
   "metadata": {},
   "source": [
    "Дубликаты отсутствуют."
   ]
  },
  {
   "cell_type": "markdown",
   "metadata": {},
   "source": [
    "### 1.7. Объединение таблиц"
   ]
  },
  {
   "cell_type": "markdown",
   "metadata": {},
   "source": [
    "Для дальнейшего исследования нам следует объединить две таблицы в одну - дадим ей название **full_mobile_df**. Воспользуемся методом ***merge***:"
   ]
  },
  {
   "cell_type": "code",
   "execution_count": 15,
   "metadata": {},
   "outputs": [
    {
     "data": {
      "text/html": [
       "<div>\n",
       "<style scoped>\n",
       "    .dataframe tbody tr th:only-of-type {\n",
       "        vertical-align: middle;\n",
       "    }\n",
       "\n",
       "    .dataframe tbody tr th {\n",
       "        vertical-align: top;\n",
       "    }\n",
       "\n",
       "    .dataframe thead th {\n",
       "        text-align: right;\n",
       "    }\n",
       "</style>\n",
       "<table border=\"1\" class=\"dataframe\">\n",
       "  <thead>\n",
       "    <tr style=\"text-align: right;\">\n",
       "      <th></th>\n",
       "      <th>event_time</th>\n",
       "      <th>event_name</th>\n",
       "      <th>user_id</th>\n",
       "      <th>event_time_sec</th>\n",
       "      <th>source</th>\n",
       "    </tr>\n",
       "  </thead>\n",
       "  <tbody>\n",
       "    <tr>\n",
       "      <th>0</th>\n",
       "      <td>2019-10-07 00:00:00.431357</td>\n",
       "      <td>advert_open</td>\n",
       "      <td>020292ab-89bc-4156-9acf-68bc2783f894</td>\n",
       "      <td>2019-10-07 00:00:00</td>\n",
       "      <td>other</td>\n",
       "    </tr>\n",
       "    <tr>\n",
       "      <th>1</th>\n",
       "      <td>2019-10-07 00:00:01.236320</td>\n",
       "      <td>tips_show</td>\n",
       "      <td>020292ab-89bc-4156-9acf-68bc2783f894</td>\n",
       "      <td>2019-10-07 00:00:01</td>\n",
       "      <td>other</td>\n",
       "    </tr>\n",
       "    <tr>\n",
       "      <th>2</th>\n",
       "      <td>2019-10-07 00:00:07.039334</td>\n",
       "      <td>tips_show</td>\n",
       "      <td>020292ab-89bc-4156-9acf-68bc2783f894</td>\n",
       "      <td>2019-10-07 00:00:07</td>\n",
       "      <td>other</td>\n",
       "    </tr>\n",
       "    <tr>\n",
       "      <th>3</th>\n",
       "      <td>2019-10-07 00:01:27.770232</td>\n",
       "      <td>advert_open</td>\n",
       "      <td>020292ab-89bc-4156-9acf-68bc2783f894</td>\n",
       "      <td>2019-10-07 00:01:27</td>\n",
       "      <td>other</td>\n",
       "    </tr>\n",
       "    <tr>\n",
       "      <th>4</th>\n",
       "      <td>2019-10-07 00:01:34.804591</td>\n",
       "      <td>tips_show</td>\n",
       "      <td>020292ab-89bc-4156-9acf-68bc2783f894</td>\n",
       "      <td>2019-10-07 00:01:34</td>\n",
       "      <td>other</td>\n",
       "    </tr>\n",
       "    <tr>\n",
       "      <th>...</th>\n",
       "      <td>...</td>\n",
       "      <td>...</td>\n",
       "      <td>...</td>\n",
       "      <td>...</td>\n",
       "      <td>...</td>\n",
       "    </tr>\n",
       "    <tr>\n",
       "      <th>74192</th>\n",
       "      <td>2019-11-03 23:46:47.068179</td>\n",
       "      <td>map</td>\n",
       "      <td>d157bffc-264d-4464-8220-1cc0c42f43a9</td>\n",
       "      <td>2019-11-03 23:46:47</td>\n",
       "      <td>google</td>\n",
       "    </tr>\n",
       "    <tr>\n",
       "      <th>74193</th>\n",
       "      <td>2019-11-03 23:46:58.914787</td>\n",
       "      <td>advert_open</td>\n",
       "      <td>d157bffc-264d-4464-8220-1cc0c42f43a9</td>\n",
       "      <td>2019-11-03 23:46:58</td>\n",
       "      <td>google</td>\n",
       "    </tr>\n",
       "    <tr>\n",
       "      <th>74194</th>\n",
       "      <td>2019-11-03 23:47:01.232230</td>\n",
       "      <td>tips_show</td>\n",
       "      <td>d157bffc-264d-4464-8220-1cc0c42f43a9</td>\n",
       "      <td>2019-11-03 23:47:01</td>\n",
       "      <td>google</td>\n",
       "    </tr>\n",
       "    <tr>\n",
       "      <th>74195</th>\n",
       "      <td>2019-11-03 23:47:47.475102</td>\n",
       "      <td>advert_open</td>\n",
       "      <td>d157bffc-264d-4464-8220-1cc0c42f43a9</td>\n",
       "      <td>2019-11-03 23:47:47</td>\n",
       "      <td>google</td>\n",
       "    </tr>\n",
       "    <tr>\n",
       "      <th>74196</th>\n",
       "      <td>2019-11-03 23:47:50.087645</td>\n",
       "      <td>tips_show</td>\n",
       "      <td>d157bffc-264d-4464-8220-1cc0c42f43a9</td>\n",
       "      <td>2019-11-03 23:47:50</td>\n",
       "      <td>google</td>\n",
       "    </tr>\n",
       "  </tbody>\n",
       "</table>\n",
       "<p>74197 rows × 5 columns</p>\n",
       "</div>"
      ],
      "text/plain": [
       "                      event_time   event_name  \\\n",
       "0     2019-10-07 00:00:00.431357  advert_open   \n",
       "1     2019-10-07 00:00:01.236320    tips_show   \n",
       "2     2019-10-07 00:00:07.039334    tips_show   \n",
       "3     2019-10-07 00:01:27.770232  advert_open   \n",
       "4     2019-10-07 00:01:34.804591    tips_show   \n",
       "...                          ...          ...   \n",
       "74192 2019-11-03 23:46:47.068179          map   \n",
       "74193 2019-11-03 23:46:58.914787  advert_open   \n",
       "74194 2019-11-03 23:47:01.232230    tips_show   \n",
       "74195 2019-11-03 23:47:47.475102  advert_open   \n",
       "74196 2019-11-03 23:47:50.087645    tips_show   \n",
       "\n",
       "                                    user_id      event_time_sec  source  \n",
       "0      020292ab-89bc-4156-9acf-68bc2783f894 2019-10-07 00:00:00   other  \n",
       "1      020292ab-89bc-4156-9acf-68bc2783f894 2019-10-07 00:00:01   other  \n",
       "2      020292ab-89bc-4156-9acf-68bc2783f894 2019-10-07 00:00:07   other  \n",
       "3      020292ab-89bc-4156-9acf-68bc2783f894 2019-10-07 00:01:27   other  \n",
       "4      020292ab-89bc-4156-9acf-68bc2783f894 2019-10-07 00:01:34   other  \n",
       "...                                     ...                 ...     ...  \n",
       "74192  d157bffc-264d-4464-8220-1cc0c42f43a9 2019-11-03 23:46:47  google  \n",
       "74193  d157bffc-264d-4464-8220-1cc0c42f43a9 2019-11-03 23:46:58  google  \n",
       "74194  d157bffc-264d-4464-8220-1cc0c42f43a9 2019-11-03 23:47:01  google  \n",
       "74195  d157bffc-264d-4464-8220-1cc0c42f43a9 2019-11-03 23:47:47  google  \n",
       "74196  d157bffc-264d-4464-8220-1cc0c42f43a9 2019-11-03 23:47:50  google  \n",
       "\n",
       "[74197 rows x 5 columns]"
      ]
     },
     "execution_count": 15,
     "metadata": {},
     "output_type": "execute_result"
    }
   ],
   "source": [
    "full_mobile_df = mobile_df.merge(source_df, on='user_id')\n",
    "full_mobile_df"
   ]
  },
  {
   "cell_type": "markdown",
   "metadata": {},
   "source": [
    "Проверим объединенный датафрейм на дубликаты:"
   ]
  },
  {
   "cell_type": "code",
   "execution_count": 16,
   "metadata": {},
   "outputs": [
    {
     "data": {
      "text/plain": [
       "0"
      ]
     },
     "execution_count": 16,
     "metadata": {},
     "output_type": "execute_result"
    }
   ],
   "source": [
    "full_mobile_df.duplicated().sum()"
   ]
  },
  {
   "cell_type": "markdown",
   "metadata": {},
   "source": [
    "Дубликаты отсутствуют - объединение таблиц прошло успешно."
   ]
  },
  {
   "cell_type": "markdown",
   "metadata": {},
   "source": [
    "### 1.8. Определим за какой период мы обладаем данными на самом деле"
   ]
  },
  {
   "cell_type": "markdown",
   "metadata": {},
   "source": [
    "Найдем минимальное и максимальное значения стобца *event_time_sec*:"
   ]
  },
  {
   "cell_type": "code",
   "execution_count": 17,
   "metadata": {},
   "outputs": [
    {
     "data": {
      "text/plain": [
       "Timestamp('2019-10-07 00:00:00')"
      ]
     },
     "execution_count": 17,
     "metadata": {},
     "output_type": "execute_result"
    }
   ],
   "source": [
    "full_mobile_df['event_time_sec'].min()"
   ]
  },
  {
   "cell_type": "code",
   "execution_count": 18,
   "metadata": {},
   "outputs": [
    {
     "data": {
      "text/plain": [
       "Timestamp('2019-11-03 23:58:12')"
      ]
     },
     "execution_count": 18,
     "metadata": {},
     "output_type": "execute_result"
    }
   ],
   "source": [
    "full_mobile_df['event_time_sec'].max()"
   ]
  },
  {
   "cell_type": "markdown",
   "metadata": {},
   "source": [
    "По этим расчетам мы имеем данные с **7 октября** по **3 ноября 2019 года**, то есть чуть меньше месяца."
   ]
  },
  {
   "cell_type": "markdown",
   "metadata": {},
   "source": [
    "Посмотрим на распределение пользовательской активности на гистограмме:"
   ]
  },
  {
   "cell_type": "code",
   "execution_count": 19,
   "metadata": {},
   "outputs": [
    {
     "data": {
      "image/png": "[encoded data removed]",
      "text/plain": [
       "<Figure size 1008x576 with 1 Axes>"
      ]
     },
     "metadata": {
      "needs_background": "light"
     },
     "output_type": "display_data"
    }
   ],
   "source": [
    "full_mobile_df['event_time'].hist(grid=False, bins=170, figsize=(14,8))\n",
    "plt.title('Активность пользователей по датам', fontsize=20)\n",
    "plt.gca().set(xlabel='дата', ylabel='активность')\n",
    "plt.xticks(rotation=45)\n",
    "plt.show()"
   ]
  },
  {
   "cell_type": "markdown",
   "metadata": {},
   "source": [
    "Активность распределена равномерно, нет причин избавляться от каких-либо данных."
   ]
  },
  {
   "cell_type": "markdown",
   "metadata": {},
   "source": [
    "### 1.9. Проверим данные на аномальные значения"
   ]
  },
  {
   "cell_type": "markdown",
   "metadata": {},
   "source": [
    "Чтобы проверить данные на выбросы, посмотрим, как распределились события по пользователям. Для этого сгруппируем таблицу по уникальным пользователям и посмотрим, сколько на каждого из них приходится событий:"
   ]
  },
  {
   "cell_type": "code",
   "execution_count": 20,
   "metadata": {},
   "outputs": [
    {
     "data": {
      "text/html": [
       "<div>\n",
       "<style scoped>\n",
       "    .dataframe tbody tr th:only-of-type {\n",
       "        vertical-align: middle;\n",
       "    }\n",
       "\n",
       "    .dataframe tbody tr th {\n",
       "        vertical-align: top;\n",
       "    }\n",
       "\n",
       "    .dataframe thead th {\n",
       "        text-align: right;\n",
       "    }\n",
       "</style>\n",
       "<table border=\"1\" class=\"dataframe\">\n",
       "  <thead>\n",
       "    <tr style=\"text-align: right;\">\n",
       "      <th></th>\n",
       "      <th>event_name</th>\n",
       "    </tr>\n",
       "    <tr>\n",
       "      <th>user_id</th>\n",
       "      <th></th>\n",
       "    </tr>\n",
       "  </thead>\n",
       "  <tbody>\n",
       "    <tr>\n",
       "      <th>0001b1d5-b74a-4cbf-aeb0-7df5947bf349</th>\n",
       "      <td>35</td>\n",
       "    </tr>\n",
       "    <tr>\n",
       "      <th>00157779-810c-4498-9e05-a1e9e3cedf93</th>\n",
       "      <td>71</td>\n",
       "    </tr>\n",
       "    <tr>\n",
       "      <th>00463033-5717-4bf1-91b4-09183923b9df</th>\n",
       "      <td>10</td>\n",
       "    </tr>\n",
       "    <tr>\n",
       "      <th>004690c3-5a84-4bb7-a8af-e0c8f8fca64e</th>\n",
       "      <td>32</td>\n",
       "    </tr>\n",
       "    <tr>\n",
       "      <th>00551e79-152e-4441-9cf7-565d7eb04090</th>\n",
       "      <td>8</td>\n",
       "    </tr>\n",
       "    <tr>\n",
       "      <th>...</th>\n",
       "      <td>...</td>\n",
       "    </tr>\n",
       "    <tr>\n",
       "      <th>ffab8d8a-30bb-424a-a3ab-0b63ebbf7b07</th>\n",
       "      <td>17</td>\n",
       "    </tr>\n",
       "    <tr>\n",
       "      <th>ffc01466-fdb1-4460-ae94-e800f52eb136</th>\n",
       "      <td>7</td>\n",
       "    </tr>\n",
       "    <tr>\n",
       "      <th>ffcf50d9-293c-4254-8243-4890b030b238</th>\n",
       "      <td>2</td>\n",
       "    </tr>\n",
       "    <tr>\n",
       "      <th>ffe68f10-e48e-470e-be9b-eeb93128ff1a</th>\n",
       "      <td>13</td>\n",
       "    </tr>\n",
       "    <tr>\n",
       "      <th>fffb9e79-b927-4dbb-9b48-7fd09b23a62b</th>\n",
       "      <td>303</td>\n",
       "    </tr>\n",
       "  </tbody>\n",
       "</table>\n",
       "<p>4293 rows × 1 columns</p>\n",
       "</div>"
      ],
      "text/plain": [
       "                                      event_name\n",
       "user_id                                         \n",
       "0001b1d5-b74a-4cbf-aeb0-7df5947bf349          35\n",
       "00157779-810c-4498-9e05-a1e9e3cedf93          71\n",
       "00463033-5717-4bf1-91b4-09183923b9df          10\n",
       "004690c3-5a84-4bb7-a8af-e0c8f8fca64e          32\n",
       "00551e79-152e-4441-9cf7-565d7eb04090           8\n",
       "...                                          ...\n",
       "ffab8d8a-30bb-424a-a3ab-0b63ebbf7b07          17\n",
       "ffc01466-fdb1-4460-ae94-e800f52eb136           7\n",
       "ffcf50d9-293c-4254-8243-4890b030b238           2\n",
       "ffe68f10-e48e-470e-be9b-eeb93128ff1a          13\n",
       "fffb9e79-b927-4dbb-9b48-7fd09b23a62b         303\n",
       "\n",
       "[4293 rows x 1 columns]"
      ]
     },
     "execution_count": 20,
     "metadata": {},
     "output_type": "execute_result"
    }
   ],
   "source": [
    "user_event_df = full_mobile_df.pivot_table(index='user_id', values='event_name',aggfunc='count')\n",
    "user_event_df"
   ]
  },
  {
   "cell_type": "markdown",
   "metadata": {},
   "source": [
    "Применим метод ***describe*** (чтобы узнать, сколько в среднем событий приходится на пользователя), а затем построим диаграмму размаха:"
   ]
  },
  {
   "cell_type": "code",
   "execution_count": 21,
   "metadata": {},
   "outputs": [
    {
     "data": {
      "text/html": [
       "<div>\n",
       "<style scoped>\n",
       "    .dataframe tbody tr th:only-of-type {\n",
       "        vertical-align: middle;\n",
       "    }\n",
       "\n",
       "    .dataframe tbody tr th {\n",
       "        vertical-align: top;\n",
       "    }\n",
       "\n",
       "    .dataframe thead th {\n",
       "        text-align: right;\n",
       "    }\n",
       "</style>\n",
       "<table border=\"1\" class=\"dataframe\">\n",
       "  <thead>\n",
       "    <tr style=\"text-align: right;\">\n",
       "      <th></th>\n",
       "      <th>event_name</th>\n",
       "    </tr>\n",
       "  </thead>\n",
       "  <tbody>\n",
       "    <tr>\n",
       "      <th>count</th>\n",
       "      <td>4293.000000</td>\n",
       "    </tr>\n",
       "    <tr>\n",
       "      <th>mean</th>\n",
       "      <td>17.283252</td>\n",
       "    </tr>\n",
       "    <tr>\n",
       "      <th>std</th>\n",
       "      <td>29.130677</td>\n",
       "    </tr>\n",
       "    <tr>\n",
       "      <th>min</th>\n",
       "      <td>1.000000</td>\n",
       "    </tr>\n",
       "    <tr>\n",
       "      <th>25%</th>\n",
       "      <td>5.000000</td>\n",
       "    </tr>\n",
       "    <tr>\n",
       "      <th>50%</th>\n",
       "      <td>9.000000</td>\n",
       "    </tr>\n",
       "    <tr>\n",
       "      <th>75%</th>\n",
       "      <td>17.000000</td>\n",
       "    </tr>\n",
       "    <tr>\n",
       "      <th>max</th>\n",
       "      <td>478.000000</td>\n",
       "    </tr>\n",
       "  </tbody>\n",
       "</table>\n",
       "</div>"
      ],
      "text/plain": [
       "        event_name\n",
       "count  4293.000000\n",
       "mean     17.283252\n",
       "std      29.130677\n",
       "min       1.000000\n",
       "25%       5.000000\n",
       "50%       9.000000\n",
       "75%      17.000000\n",
       "max     478.000000"
      ]
     },
     "execution_count": 21,
     "metadata": {},
     "output_type": "execute_result"
    }
   ],
   "source": [
    "user_event_df.describe()"
   ]
  },
  {
   "cell_type": "markdown",
   "metadata": {},
   "source": [
    "С помощью метода ***describe*** мы выяснили, что у нас есть данные о действиях *4293 пользователей* нашего приложения, и в среднем на пользователя приходится *17 событий*. Однако, мы видим, что максимальное значение составляет *478(!) событий*.  "
   ]
  },
  {
   "cell_type": "markdown",
   "metadata": {},
   "source": [
    "Посмотрим на диаграмму размаха:"
   ]
  },
  {
   "cell_type": "code",
   "execution_count": 22,
   "metadata": {},
   "outputs": [
    {
     "data": {
      "text/plain": [
       "[Text(0, 0.5, 'количество событий')]"
      ]
     },
     "execution_count": 22,
     "metadata": {},
     "output_type": "execute_result"
    },
    {
     "data": {
      "image/png": "[encoded data removed]",
      "text/plain": [
       "<Figure size 720x504 with 1 Axes>"
      ]
     },
     "metadata": {
      "needs_background": "light"
     },
     "output_type": "display_data"
    }
   ],
   "source": [
    "plt.subplots(figsize = (10,7))\n",
    "sns.boxplot(data=user_event_df)\n",
    "plt.title('Количество событий на пользователя(диаграмма размаха)')\n",
    "plt.gca().set(ylabel='количество событий')"
   ]
  },
  {
   "cell_type": "markdown",
   "metadata": {},
   "source": [
    "Данная диаграмма не очень наглядна, однако по ней мы можем точно сказать, что выбросов много и они доходят почти до 500 (если точнее, то до 478, как мы выяснили ранее). Изменим масштаб графика, чтобы лучше разглядеть сам \"ящик\":"
   ]
  },
  {
   "cell_type": "code",
   "execution_count": 23,
   "metadata": {},
   "outputs": [
    {
     "data": {
      "text/plain": [
       "[Text(0, 0.5, 'количество событий')]"
      ]
     },
     "execution_count": 23,
     "metadata": {},
     "output_type": "execute_result"
    },
    {
     "data": {
      "image/png": "[encoded data removed]",
      "text/plain": [
       "<Figure size 720x504 with 1 Axes>"
      ]
     },
     "metadata": {
      "needs_background": "light"
     },
     "output_type": "display_data"
    }
   ],
   "source": [
    "plt.subplots(figsize = (10,7))\n",
    "sns.boxplot(data=user_event_df)\n",
    "plt.ylim(0, 50)\n",
    "plt.title('Количество событий на пользователя(диаграмма размаха)')\n",
    "plt.gca().set(ylabel='количество событий')\n"
   ]
  },
  {
   "cell_type": "markdown",
   "metadata": {},
   "source": [
    "Видим, что медиана даже меньше среднего - *~10 событий* приходится в основном на пользователя в месяц. Однако, выбросов очень много, их удаление приведет к большой потере данных. "
   ]
  },
  {
   "cell_type": "markdown",
   "metadata": {},
   "source": [
    "К тому же показатели нельзя назвать нереалистичными, можно только радоваться такой пользовательской активности - значит, наше приложение удобно для использования."
   ]
  },
  {
   "cell_type": "markdown",
   "metadata": {},
   "source": [
    "### 1.10 Вывод"
   ]
  },
  {
   "cell_type": "markdown",
   "metadata": {},
   "source": [
    "Мы выгрузили два датафрейма. Первый - **mobile_df** - содержит данные о идентификаторах пользователей, времени совершения событий и типе событий. Второй - **source_df** - также содержит данные об идентификаторах пользователей и об источниках, с которых пользователи устанавливают приложение."
   ]
  },
  {
   "cell_type": "markdown",
   "metadata": {},
   "source": [
    "Обе таблицы не содержат пропусков. Нам подошли все типы данных столбцов, кроме *event_time* - мы привели его к нужному нам ***datetime***."
   ]
  },
  {
   "cell_type": "markdown",
   "metadata": {},
   "source": [
    "Мы заменили названия столбцов для лучшего вида и будущего объединения таблиц и в столбце *event.name* заменили значение \"*show_contacts*\" на \"*contacts_show*\" - для более четкой картины распределения событий."
   ]
  },
  {
   "cell_type": "markdown",
   "metadata": {},
   "source": [
    "Мы проверили оба датафрейма на дубликаты и не обинаружили их."
   ]
  },
  {
   "cell_type": "markdown",
   "metadata": {},
   "source": [
    "Мы объединили две таблицы в одну - **full_mobile_df** - и также проверили ее на дубликаты (не обнаружили)."
   ]
  },
  {
   "cell_type": "markdown",
   "metadata": {},
   "source": [
    "С помощью гистограммы мы удостоверились, что обладаем данными за период с **7 октября** по **3 ноября 2019 года**."
   ]
  },
  {
   "cell_type": "markdown",
   "metadata": {},
   "source": [
    "Мы проверили данные на аномальные значения (с помощью сводной таблицы и метода ***describe***) и выяснили, что у нас есть данные о действиях *4293 пользователей* нашего приложения, и в среднем на пользователя приходится *17 событий*. Для наглядности мы построили диаграмму размаха и по ней увидели, что выбросов много и они доходят почти до 500 (если точнее, то до 478). Медиана даже меньше среднего - *~10 событий* приходится в основном на пользователя в месяц. Однако, повторимся, что выбросов очень много, их удаление приведет к большой потере данных. "
   ]
  },
  {
   "cell_type": "markdown",
   "metadata": {},
   "source": [
    "Мы не посчитали показатели нереалистичными, такой пользовательской активности можно только порадоваться - значит, наше приложение удобно для использования."
   ]
  },
  {
   "cell_type": "markdown",
   "metadata": {},
   "source": [
    "Присутпаем к расчету метрик."
   ]
  },
  {
   "cell_type": "markdown",
   "metadata": {},
   "source": [
    "## Шаг 2. Расчет метрик"
   ]
  },
  {
   "cell_type": "markdown",
   "metadata": {},
   "source": [
    "### 2.1. Retantion Rate («коэффициент удержания»)"
   ]
  },
  {
   "cell_type": "markdown",
   "metadata": {},
   "source": [
    "Определим событие и период — на их основе сформируем когорту. Возьмём дату, когда пользователь впервые проявил активность в мобильном приложении.Эти данные запишем в объект Series **first_activity_date**. Объединим его с исходным датафреймом **full_mobile_df**:"
   ]
  },
  {
   "cell_type": "code",
   "execution_count": 24,
   "metadata": {},
   "outputs": [
    {
     "data": {
      "text/html": [
       "<div>\n",
       "<style scoped>\n",
       "    .dataframe tbody tr th:only-of-type {\n",
       "        vertical-align: middle;\n",
       "    }\n",
       "\n",
       "    .dataframe tbody tr th {\n",
       "        vertical-align: top;\n",
       "    }\n",
       "\n",
       "    .dataframe thead th {\n",
       "        text-align: right;\n",
       "    }\n",
       "</style>\n",
       "<table border=\"1\" class=\"dataframe\">\n",
       "  <thead>\n",
       "    <tr style=\"text-align: right;\">\n",
       "      <th></th>\n",
       "      <th>event_time</th>\n",
       "      <th>event_name</th>\n",
       "      <th>user_id</th>\n",
       "      <th>event_time_sec</th>\n",
       "      <th>source</th>\n",
       "      <th>first_activity_date</th>\n",
       "    </tr>\n",
       "  </thead>\n",
       "  <tbody>\n",
       "    <tr>\n",
       "      <th>0</th>\n",
       "      <td>2019-10-07 00:00:00.431357</td>\n",
       "      <td>advert_open</td>\n",
       "      <td>020292ab-89bc-4156-9acf-68bc2783f894</td>\n",
       "      <td>2019-10-07 00:00:00</td>\n",
       "      <td>other</td>\n",
       "      <td>2019-10-07 00:00:00</td>\n",
       "    </tr>\n",
       "    <tr>\n",
       "      <th>1</th>\n",
       "      <td>2019-10-07 00:00:01.236320</td>\n",
       "      <td>tips_show</td>\n",
       "      <td>020292ab-89bc-4156-9acf-68bc2783f894</td>\n",
       "      <td>2019-10-07 00:00:01</td>\n",
       "      <td>other</td>\n",
       "      <td>2019-10-07 00:00:00</td>\n",
       "    </tr>\n",
       "    <tr>\n",
       "      <th>2</th>\n",
       "      <td>2019-10-07 00:00:07.039334</td>\n",
       "      <td>tips_show</td>\n",
       "      <td>020292ab-89bc-4156-9acf-68bc2783f894</td>\n",
       "      <td>2019-10-07 00:00:07</td>\n",
       "      <td>other</td>\n",
       "      <td>2019-10-07 00:00:00</td>\n",
       "    </tr>\n",
       "    <tr>\n",
       "      <th>3</th>\n",
       "      <td>2019-10-07 00:01:27.770232</td>\n",
       "      <td>advert_open</td>\n",
       "      <td>020292ab-89bc-4156-9acf-68bc2783f894</td>\n",
       "      <td>2019-10-07 00:01:27</td>\n",
       "      <td>other</td>\n",
       "      <td>2019-10-07 00:00:00</td>\n",
       "    </tr>\n",
       "    <tr>\n",
       "      <th>4</th>\n",
       "      <td>2019-10-07 00:01:34.804591</td>\n",
       "      <td>tips_show</td>\n",
       "      <td>020292ab-89bc-4156-9acf-68bc2783f894</td>\n",
       "      <td>2019-10-07 00:01:34</td>\n",
       "      <td>other</td>\n",
       "      <td>2019-10-07 00:00:00</td>\n",
       "    </tr>\n",
       "    <tr>\n",
       "      <th>...</th>\n",
       "      <td>...</td>\n",
       "      <td>...</td>\n",
       "      <td>...</td>\n",
       "      <td>...</td>\n",
       "      <td>...</td>\n",
       "      <td>...</td>\n",
       "    </tr>\n",
       "    <tr>\n",
       "      <th>74192</th>\n",
       "      <td>2019-11-03 23:46:47.068179</td>\n",
       "      <td>map</td>\n",
       "      <td>d157bffc-264d-4464-8220-1cc0c42f43a9</td>\n",
       "      <td>2019-11-03 23:46:47</td>\n",
       "      <td>google</td>\n",
       "      <td>2019-11-03 23:46:47</td>\n",
       "    </tr>\n",
       "    <tr>\n",
       "      <th>74193</th>\n",
       "      <td>2019-11-03 23:46:58.914787</td>\n",
       "      <td>advert_open</td>\n",
       "      <td>d157bffc-264d-4464-8220-1cc0c42f43a9</td>\n",
       "      <td>2019-11-03 23:46:58</td>\n",
       "      <td>google</td>\n",
       "      <td>2019-11-03 23:46:47</td>\n",
       "    </tr>\n",
       "    <tr>\n",
       "      <th>74194</th>\n",
       "      <td>2019-11-03 23:47:01.232230</td>\n",
       "      <td>tips_show</td>\n",
       "      <td>d157bffc-264d-4464-8220-1cc0c42f43a9</td>\n",
       "      <td>2019-11-03 23:47:01</td>\n",
       "      <td>google</td>\n",
       "      <td>2019-11-03 23:46:47</td>\n",
       "    </tr>\n",
       "    <tr>\n",
       "      <th>74195</th>\n",
       "      <td>2019-11-03 23:47:47.475102</td>\n",
       "      <td>advert_open</td>\n",
       "      <td>d157bffc-264d-4464-8220-1cc0c42f43a9</td>\n",
       "      <td>2019-11-03 23:47:47</td>\n",
       "      <td>google</td>\n",
       "      <td>2019-11-03 23:46:47</td>\n",
       "    </tr>\n",
       "    <tr>\n",
       "      <th>74196</th>\n",
       "      <td>2019-11-03 23:47:50.087645</td>\n",
       "      <td>tips_show</td>\n",
       "      <td>d157bffc-264d-4464-8220-1cc0c42f43a9</td>\n",
       "      <td>2019-11-03 23:47:50</td>\n",
       "      <td>google</td>\n",
       "      <td>2019-11-03 23:46:47</td>\n",
       "    </tr>\n",
       "  </tbody>\n",
       "</table>\n",
       "<p>74197 rows × 6 columns</p>\n",
       "</div>"
      ],
      "text/plain": [
       "                      event_time   event_name  \\\n",
       "0     2019-10-07 00:00:00.431357  advert_open   \n",
       "1     2019-10-07 00:00:01.236320    tips_show   \n",
       "2     2019-10-07 00:00:07.039334    tips_show   \n",
       "3     2019-10-07 00:01:27.770232  advert_open   \n",
       "4     2019-10-07 00:01:34.804591    tips_show   \n",
       "...                          ...          ...   \n",
       "74192 2019-11-03 23:46:47.068179          map   \n",
       "74193 2019-11-03 23:46:58.914787  advert_open   \n",
       "74194 2019-11-03 23:47:01.232230    tips_show   \n",
       "74195 2019-11-03 23:47:47.475102  advert_open   \n",
       "74196 2019-11-03 23:47:50.087645    tips_show   \n",
       "\n",
       "                                    user_id      event_time_sec  source  \\\n",
       "0      020292ab-89bc-4156-9acf-68bc2783f894 2019-10-07 00:00:00   other   \n",
       "1      020292ab-89bc-4156-9acf-68bc2783f894 2019-10-07 00:00:01   other   \n",
       "2      020292ab-89bc-4156-9acf-68bc2783f894 2019-10-07 00:00:07   other   \n",
       "3      020292ab-89bc-4156-9acf-68bc2783f894 2019-10-07 00:01:27   other   \n",
       "4      020292ab-89bc-4156-9acf-68bc2783f894 2019-10-07 00:01:34   other   \n",
       "...                                     ...                 ...     ...   \n",
       "74192  d157bffc-264d-4464-8220-1cc0c42f43a9 2019-11-03 23:46:47  google   \n",
       "74193  d157bffc-264d-4464-8220-1cc0c42f43a9 2019-11-03 23:46:58  google   \n",
       "74194  d157bffc-264d-4464-8220-1cc0c42f43a9 2019-11-03 23:47:01  google   \n",
       "74195  d157bffc-264d-4464-8220-1cc0c42f43a9 2019-11-03 23:47:47  google   \n",
       "74196  d157bffc-264d-4464-8220-1cc0c42f43a9 2019-11-03 23:47:50  google   \n",
       "\n",
       "      first_activity_date  \n",
       "0     2019-10-07 00:00:00  \n",
       "1     2019-10-07 00:00:00  \n",
       "2     2019-10-07 00:00:00  \n",
       "3     2019-10-07 00:00:00  \n",
       "4     2019-10-07 00:00:00  \n",
       "...                   ...  \n",
       "74192 2019-11-03 23:46:47  \n",
       "74193 2019-11-03 23:46:47  \n",
       "74194 2019-11-03 23:46:47  \n",
       "74195 2019-11-03 23:46:47  \n",
       "74196 2019-11-03 23:46:47  \n",
       "\n",
       "[74197 rows x 6 columns]"
      ]
     },
     "execution_count": 24,
     "metadata": {},
     "output_type": "execute_result"
    }
   ],
   "source": [
    "first_activity_date = full_mobile_df.groupby(['user_id'])['event_time_sec'].min()\n",
    "first_activity_date.name = 'first_activity_date'\n",
    "full_mobile_df = full_mobile_df.join(first_activity_date, on='user_id', how='outer') \n",
    "full_mobile_df"
   ]
  },
  {
   "cell_type": "markdown",
   "metadata": {},
   "source": [
    "Формировать когорты будем по данным за неделю:"
   ]
  },
  {
   "cell_type": "code",
   "execution_count": 25,
   "metadata": {},
   "outputs": [
    {
     "data": {
      "text/html": [
       "<div>\n",
       "<style scoped>\n",
       "    .dataframe tbody tr th:only-of-type {\n",
       "        vertical-align: middle;\n",
       "    }\n",
       "\n",
       "    .dataframe tbody tr th {\n",
       "        vertical-align: top;\n",
       "    }\n",
       "\n",
       "    .dataframe thead th {\n",
       "        text-align: right;\n",
       "    }\n",
       "</style>\n",
       "<table border=\"1\" class=\"dataframe\">\n",
       "  <thead>\n",
       "    <tr style=\"text-align: right;\">\n",
       "      <th></th>\n",
       "      <th>event_time</th>\n",
       "      <th>event_name</th>\n",
       "      <th>user_id</th>\n",
       "      <th>event_time_sec</th>\n",
       "      <th>source</th>\n",
       "      <th>first_activity_date</th>\n",
       "      <th>activity_week</th>\n",
       "      <th>first_activity_week</th>\n",
       "    </tr>\n",
       "  </thead>\n",
       "  <tbody>\n",
       "    <tr>\n",
       "      <th>0</th>\n",
       "      <td>2019-10-07 00:00:00.431357</td>\n",
       "      <td>advert_open</td>\n",
       "      <td>020292ab-89bc-4156-9acf-68bc2783f894</td>\n",
       "      <td>2019-10-07 00:00:00</td>\n",
       "      <td>other</td>\n",
       "      <td>2019-10-07</td>\n",
       "      <td>2019-10-03</td>\n",
       "      <td>2019-10-03</td>\n",
       "    </tr>\n",
       "    <tr>\n",
       "      <th>1</th>\n",
       "      <td>2019-10-07 00:00:01.236320</td>\n",
       "      <td>tips_show</td>\n",
       "      <td>020292ab-89bc-4156-9acf-68bc2783f894</td>\n",
       "      <td>2019-10-07 00:00:01</td>\n",
       "      <td>other</td>\n",
       "      <td>2019-10-07</td>\n",
       "      <td>2019-10-03</td>\n",
       "      <td>2019-10-03</td>\n",
       "    </tr>\n",
       "    <tr>\n",
       "      <th>2</th>\n",
       "      <td>2019-10-07 00:00:07.039334</td>\n",
       "      <td>tips_show</td>\n",
       "      <td>020292ab-89bc-4156-9acf-68bc2783f894</td>\n",
       "      <td>2019-10-07 00:00:07</td>\n",
       "      <td>other</td>\n",
       "      <td>2019-10-07</td>\n",
       "      <td>2019-10-03</td>\n",
       "      <td>2019-10-03</td>\n",
       "    </tr>\n",
       "    <tr>\n",
       "      <th>3</th>\n",
       "      <td>2019-10-07 00:01:27.770232</td>\n",
       "      <td>advert_open</td>\n",
       "      <td>020292ab-89bc-4156-9acf-68bc2783f894</td>\n",
       "      <td>2019-10-07 00:01:27</td>\n",
       "      <td>other</td>\n",
       "      <td>2019-10-07</td>\n",
       "      <td>2019-10-03</td>\n",
       "      <td>2019-10-03</td>\n",
       "    </tr>\n",
       "    <tr>\n",
       "      <th>4</th>\n",
       "      <td>2019-10-07 00:01:34.804591</td>\n",
       "      <td>tips_show</td>\n",
       "      <td>020292ab-89bc-4156-9acf-68bc2783f894</td>\n",
       "      <td>2019-10-07 00:01:34</td>\n",
       "      <td>other</td>\n",
       "      <td>2019-10-07</td>\n",
       "      <td>2019-10-03</td>\n",
       "      <td>2019-10-03</td>\n",
       "    </tr>\n",
       "  </tbody>\n",
       "</table>\n",
       "</div>"
      ],
      "text/plain": [
       "                  event_time   event_name  \\\n",
       "0 2019-10-07 00:00:00.431357  advert_open   \n",
       "1 2019-10-07 00:00:01.236320    tips_show   \n",
       "2 2019-10-07 00:00:07.039334    tips_show   \n",
       "3 2019-10-07 00:01:27.770232  advert_open   \n",
       "4 2019-10-07 00:01:34.804591    tips_show   \n",
       "\n",
       "                                user_id      event_time_sec source  \\\n",
       "0  020292ab-89bc-4156-9acf-68bc2783f894 2019-10-07 00:00:00  other   \n",
       "1  020292ab-89bc-4156-9acf-68bc2783f894 2019-10-07 00:00:01  other   \n",
       "2  020292ab-89bc-4156-9acf-68bc2783f894 2019-10-07 00:00:07  other   \n",
       "3  020292ab-89bc-4156-9acf-68bc2783f894 2019-10-07 00:01:27  other   \n",
       "4  020292ab-89bc-4156-9acf-68bc2783f894 2019-10-07 00:01:34  other   \n",
       "\n",
       "  first_activity_date activity_week first_activity_week  \n",
       "0          2019-10-07    2019-10-03          2019-10-03  \n",
       "1          2019-10-07    2019-10-03          2019-10-03  \n",
       "2          2019-10-07    2019-10-03          2019-10-03  \n",
       "3          2019-10-07    2019-10-03          2019-10-03  \n",
       "4          2019-10-07    2019-10-03          2019-10-03  "
      ]
     },
     "execution_count": 25,
     "metadata": {},
     "output_type": "execute_result"
    }
   ],
   "source": [
    "full_mobile_df['activity_week'] = full_mobile_df['event_time_sec'].astype('datetime64[W]')\n",
    "full_mobile_df['first_activity_week'] = full_mobile_df['first_activity_date'].astype('datetime64[W]')\n",
    "full_mobile_df.head()"
   ]
  },
  {
   "cell_type": "markdown",
   "metadata": {},
   "source": [
    "Теперь для каждой строки датафрейма можно рассчитать **lifetime** пользователя в рамках когорты. В качестве делителя обратимся к константе **np.timedelta64(1,'W')**:"
   ]
  },
  {
   "cell_type": "code",
   "execution_count": 26,
   "metadata": {},
   "outputs": [],
   "source": [
    "full_mobile_df['cohort_lifetime'] = full_mobile_df['activity_week'] - full_mobile_df['first_activity_week']\n",
    "full_mobile_df['cohort_lifetime'] = full_mobile_df['cohort_lifetime'] / np.timedelta64(1,'W')\n",
    "full_mobile_df['cohort_lifetime'] = full_mobile_df['cohort_lifetime'].astype('int') "
   ]
  },
  {
   "cell_type": "markdown",
   "metadata": {},
   "source": [
    "Сгруппируем данные по **когорте** и **lifetime**. Посчитаем для каждой когорты количество активных пользователей на определённую «неделю жизни»:"
   ]
  },
  {
   "cell_type": "code",
   "execution_count": 27,
   "metadata": {},
   "outputs": [
    {
     "data": {
      "text/html": [
       "<div>\n",
       "<style scoped>\n",
       "    .dataframe tbody tr th:only-of-type {\n",
       "        vertical-align: middle;\n",
       "    }\n",
       "\n",
       "    .dataframe tbody tr th {\n",
       "        vertical-align: top;\n",
       "    }\n",
       "\n",
       "    .dataframe thead th {\n",
       "        text-align: right;\n",
       "    }\n",
       "</style>\n",
       "<table border=\"1\" class=\"dataframe\">\n",
       "  <thead>\n",
       "    <tr style=\"text-align: right;\">\n",
       "      <th></th>\n",
       "      <th>first_activity_week</th>\n",
       "      <th>cohort_lifetime</th>\n",
       "      <th>user_id</th>\n",
       "    </tr>\n",
       "  </thead>\n",
       "  <tbody>\n",
       "    <tr>\n",
       "      <th>0</th>\n",
       "      <td>2019-10-03</td>\n",
       "      <td>0</td>\n",
       "      <td>547</td>\n",
       "    </tr>\n",
       "    <tr>\n",
       "      <th>1</th>\n",
       "      <td>2019-10-03</td>\n",
       "      <td>1</td>\n",
       "      <td>148</td>\n",
       "    </tr>\n",
       "    <tr>\n",
       "      <th>2</th>\n",
       "      <td>2019-10-03</td>\n",
       "      <td>2</td>\n",
       "      <td>92</td>\n",
       "    </tr>\n",
       "    <tr>\n",
       "      <th>3</th>\n",
       "      <td>2019-10-03</td>\n",
       "      <td>3</td>\n",
       "      <td>60</td>\n",
       "    </tr>\n",
       "    <tr>\n",
       "      <th>4</th>\n",
       "      <td>2019-10-03</td>\n",
       "      <td>4</td>\n",
       "      <td>39</td>\n",
       "    </tr>\n",
       "    <tr>\n",
       "      <th>5</th>\n",
       "      <td>2019-10-10</td>\n",
       "      <td>0</td>\n",
       "      <td>1120</td>\n",
       "    </tr>\n",
       "    <tr>\n",
       "      <th>6</th>\n",
       "      <td>2019-10-10</td>\n",
       "      <td>1</td>\n",
       "      <td>262</td>\n",
       "    </tr>\n",
       "    <tr>\n",
       "      <th>7</th>\n",
       "      <td>2019-10-10</td>\n",
       "      <td>2</td>\n",
       "      <td>173</td>\n",
       "    </tr>\n",
       "    <tr>\n",
       "      <th>8</th>\n",
       "      <td>2019-10-10</td>\n",
       "      <td>3</td>\n",
       "      <td>79</td>\n",
       "    </tr>\n",
       "    <tr>\n",
       "      <th>9</th>\n",
       "      <td>2019-10-17</td>\n",
       "      <td>0</td>\n",
       "      <td>1136</td>\n",
       "    </tr>\n",
       "    <tr>\n",
       "      <th>10</th>\n",
       "      <td>2019-10-17</td>\n",
       "      <td>1</td>\n",
       "      <td>273</td>\n",
       "    </tr>\n",
       "    <tr>\n",
       "      <th>11</th>\n",
       "      <td>2019-10-17</td>\n",
       "      <td>2</td>\n",
       "      <td>101</td>\n",
       "    </tr>\n",
       "    <tr>\n",
       "      <th>12</th>\n",
       "      <td>2019-10-24</td>\n",
       "      <td>0</td>\n",
       "      <td>1014</td>\n",
       "    </tr>\n",
       "    <tr>\n",
       "      <th>13</th>\n",
       "      <td>2019-10-24</td>\n",
       "      <td>1</td>\n",
       "      <td>176</td>\n",
       "    </tr>\n",
       "    <tr>\n",
       "      <th>14</th>\n",
       "      <td>2019-10-31</td>\n",
       "      <td>0</td>\n",
       "      <td>476</td>\n",
       "    </tr>\n",
       "  </tbody>\n",
       "</table>\n",
       "</div>"
      ],
      "text/plain": [
       "   first_activity_week  cohort_lifetime  user_id\n",
       "0           2019-10-03                0      547\n",
       "1           2019-10-03                1      148\n",
       "2           2019-10-03                2       92\n",
       "3           2019-10-03                3       60\n",
       "4           2019-10-03                4       39\n",
       "5           2019-10-10                0     1120\n",
       "6           2019-10-10                1      262\n",
       "7           2019-10-10                2      173\n",
       "8           2019-10-10                3       79\n",
       "9           2019-10-17                0     1136\n",
       "10          2019-10-17                1      273\n",
       "11          2019-10-17                2      101\n",
       "12          2019-10-24                0     1014\n",
       "13          2019-10-24                1      176\n",
       "14          2019-10-31                0      476"
      ]
     },
     "execution_count": 27,
     "metadata": {},
     "output_type": "execute_result"
    }
   ],
   "source": [
    "cohorts = full_mobile_df.groupby(['first_activity_week','cohort_lifetime']).agg({'user_id':'nunique'}).reset_index() \n",
    "cohorts"
   ]
  },
  {
   "cell_type": "markdown",
   "metadata": {},
   "source": [
    "Чтобы найти ***Retention Rate***, нужно сперва получить число пользователей, изначально бывших в когорте, и на него разделить число пользователей в каждую следующую неделю.Найдём исходное количество пользователей в когорте. Возьмём их число на нулевую неделю:"
   ]
  },
  {
   "cell_type": "code",
   "execution_count": 28,
   "metadata": {},
   "outputs": [
    {
     "data": {
      "text/html": [
       "<div>\n",
       "<style scoped>\n",
       "    .dataframe tbody tr th:only-of-type {\n",
       "        vertical-align: middle;\n",
       "    }\n",
       "\n",
       "    .dataframe tbody tr th {\n",
       "        vertical-align: top;\n",
       "    }\n",
       "\n",
       "    .dataframe thead th {\n",
       "        text-align: right;\n",
       "    }\n",
       "</style>\n",
       "<table border=\"1\" class=\"dataframe\">\n",
       "  <thead>\n",
       "    <tr style=\"text-align: right;\">\n",
       "      <th></th>\n",
       "      <th>first_activity_week</th>\n",
       "      <th>user_id</th>\n",
       "    </tr>\n",
       "  </thead>\n",
       "  <tbody>\n",
       "    <tr>\n",
       "      <th>0</th>\n",
       "      <td>2019-10-03</td>\n",
       "      <td>547</td>\n",
       "    </tr>\n",
       "    <tr>\n",
       "      <th>5</th>\n",
       "      <td>2019-10-10</td>\n",
       "      <td>1120</td>\n",
       "    </tr>\n",
       "    <tr>\n",
       "      <th>9</th>\n",
       "      <td>2019-10-17</td>\n",
       "      <td>1136</td>\n",
       "    </tr>\n",
       "    <tr>\n",
       "      <th>12</th>\n",
       "      <td>2019-10-24</td>\n",
       "      <td>1014</td>\n",
       "    </tr>\n",
       "    <tr>\n",
       "      <th>14</th>\n",
       "      <td>2019-10-31</td>\n",
       "      <td>476</td>\n",
       "    </tr>\n",
       "  </tbody>\n",
       "</table>\n",
       "</div>"
      ],
      "text/plain": [
       "   first_activity_week  user_id\n",
       "0           2019-10-03      547\n",
       "5           2019-10-10     1120\n",
       "9           2019-10-17     1136\n",
       "12          2019-10-24     1014\n",
       "14          2019-10-31      476"
      ]
     },
     "execution_count": 28,
     "metadata": {},
     "output_type": "execute_result"
    }
   ],
   "source": [
    "initial_users_count = cohorts[cohorts['cohort_lifetime'] == 0][['first_activity_week','user_id']]\n",
    "initial_users_count"
   ]
  },
  {
   "cell_type": "markdown",
   "metadata": {},
   "source": [
    "Переименуем столбец *user_id* в *cohort_users*:"
   ]
  },
  {
   "cell_type": "code",
   "execution_count": 29,
   "metadata": {},
   "outputs": [
    {
     "data": {
      "text/html": [
       "<div>\n",
       "<style scoped>\n",
       "    .dataframe tbody tr th:only-of-type {\n",
       "        vertical-align: middle;\n",
       "    }\n",
       "\n",
       "    .dataframe tbody tr th {\n",
       "        vertical-align: top;\n",
       "    }\n",
       "\n",
       "    .dataframe thead th {\n",
       "        text-align: right;\n",
       "    }\n",
       "</style>\n",
       "<table border=\"1\" class=\"dataframe\">\n",
       "  <thead>\n",
       "    <tr style=\"text-align: right;\">\n",
       "      <th></th>\n",
       "      <th>first_activity_week</th>\n",
       "      <th>cohort_users</th>\n",
       "    </tr>\n",
       "  </thead>\n",
       "  <tbody>\n",
       "    <tr>\n",
       "      <th>0</th>\n",
       "      <td>2019-10-03</td>\n",
       "      <td>547</td>\n",
       "    </tr>\n",
       "    <tr>\n",
       "      <th>5</th>\n",
       "      <td>2019-10-10</td>\n",
       "      <td>1120</td>\n",
       "    </tr>\n",
       "    <tr>\n",
       "      <th>9</th>\n",
       "      <td>2019-10-17</td>\n",
       "      <td>1136</td>\n",
       "    </tr>\n",
       "    <tr>\n",
       "      <th>12</th>\n",
       "      <td>2019-10-24</td>\n",
       "      <td>1014</td>\n",
       "    </tr>\n",
       "    <tr>\n",
       "      <th>14</th>\n",
       "      <td>2019-10-31</td>\n",
       "      <td>476</td>\n",
       "    </tr>\n",
       "  </tbody>\n",
       "</table>\n",
       "</div>"
      ],
      "text/plain": [
       "   first_activity_week  cohort_users\n",
       "0           2019-10-03           547\n",
       "5           2019-10-10          1120\n",
       "9           2019-10-17          1136\n",
       "12          2019-10-24          1014\n",
       "14          2019-10-31           476"
      ]
     },
     "execution_count": 29,
     "metadata": {},
     "output_type": "execute_result"
    }
   ],
   "source": [
    "initial_users_count = initial_users_count.rename(columns={'user_id':'cohort_users'}) \n",
    "initial_users_count"
   ]
  },
  {
   "cell_type": "markdown",
   "metadata": {},
   "source": [
    "Объединим данные по когортам с исходным количеством пользователей в когорте:"
   ]
  },
  {
   "cell_type": "code",
   "execution_count": 30,
   "metadata": {},
   "outputs": [
    {
     "data": {
      "text/html": [
       "<div>\n",
       "<style scoped>\n",
       "    .dataframe tbody tr th:only-of-type {\n",
       "        vertical-align: middle;\n",
       "    }\n",
       "\n",
       "    .dataframe tbody tr th {\n",
       "        vertical-align: top;\n",
       "    }\n",
       "\n",
       "    .dataframe thead th {\n",
       "        text-align: right;\n",
       "    }\n",
       "</style>\n",
       "<table border=\"1\" class=\"dataframe\">\n",
       "  <thead>\n",
       "    <tr style=\"text-align: right;\">\n",
       "      <th></th>\n",
       "      <th>first_activity_week</th>\n",
       "      <th>cohort_lifetime</th>\n",
       "      <th>user_id</th>\n",
       "      <th>cohort_users</th>\n",
       "    </tr>\n",
       "  </thead>\n",
       "  <tbody>\n",
       "    <tr>\n",
       "      <th>0</th>\n",
       "      <td>2019-10-03</td>\n",
       "      <td>0</td>\n",
       "      <td>547</td>\n",
       "      <td>547</td>\n",
       "    </tr>\n",
       "    <tr>\n",
       "      <th>1</th>\n",
       "      <td>2019-10-03</td>\n",
       "      <td>1</td>\n",
       "      <td>148</td>\n",
       "      <td>547</td>\n",
       "    </tr>\n",
       "    <tr>\n",
       "      <th>2</th>\n",
       "      <td>2019-10-03</td>\n",
       "      <td>2</td>\n",
       "      <td>92</td>\n",
       "      <td>547</td>\n",
       "    </tr>\n",
       "    <tr>\n",
       "      <th>3</th>\n",
       "      <td>2019-10-03</td>\n",
       "      <td>3</td>\n",
       "      <td>60</td>\n",
       "      <td>547</td>\n",
       "    </tr>\n",
       "    <tr>\n",
       "      <th>4</th>\n",
       "      <td>2019-10-03</td>\n",
       "      <td>4</td>\n",
       "      <td>39</td>\n",
       "      <td>547</td>\n",
       "    </tr>\n",
       "    <tr>\n",
       "      <th>5</th>\n",
       "      <td>2019-10-10</td>\n",
       "      <td>0</td>\n",
       "      <td>1120</td>\n",
       "      <td>1120</td>\n",
       "    </tr>\n",
       "    <tr>\n",
       "      <th>6</th>\n",
       "      <td>2019-10-10</td>\n",
       "      <td>1</td>\n",
       "      <td>262</td>\n",
       "      <td>1120</td>\n",
       "    </tr>\n",
       "    <tr>\n",
       "      <th>7</th>\n",
       "      <td>2019-10-10</td>\n",
       "      <td>2</td>\n",
       "      <td>173</td>\n",
       "      <td>1120</td>\n",
       "    </tr>\n",
       "    <tr>\n",
       "      <th>8</th>\n",
       "      <td>2019-10-10</td>\n",
       "      <td>3</td>\n",
       "      <td>79</td>\n",
       "      <td>1120</td>\n",
       "    </tr>\n",
       "    <tr>\n",
       "      <th>9</th>\n",
       "      <td>2019-10-17</td>\n",
       "      <td>0</td>\n",
       "      <td>1136</td>\n",
       "      <td>1136</td>\n",
       "    </tr>\n",
       "    <tr>\n",
       "      <th>10</th>\n",
       "      <td>2019-10-17</td>\n",
       "      <td>1</td>\n",
       "      <td>273</td>\n",
       "      <td>1136</td>\n",
       "    </tr>\n",
       "    <tr>\n",
       "      <th>11</th>\n",
       "      <td>2019-10-17</td>\n",
       "      <td>2</td>\n",
       "      <td>101</td>\n",
       "      <td>1136</td>\n",
       "    </tr>\n",
       "    <tr>\n",
       "      <th>12</th>\n",
       "      <td>2019-10-24</td>\n",
       "      <td>0</td>\n",
       "      <td>1014</td>\n",
       "      <td>1014</td>\n",
       "    </tr>\n",
       "    <tr>\n",
       "      <th>13</th>\n",
       "      <td>2019-10-24</td>\n",
       "      <td>1</td>\n",
       "      <td>176</td>\n",
       "      <td>1014</td>\n",
       "    </tr>\n",
       "    <tr>\n",
       "      <th>14</th>\n",
       "      <td>2019-10-31</td>\n",
       "      <td>0</td>\n",
       "      <td>476</td>\n",
       "      <td>476</td>\n",
       "    </tr>\n",
       "  </tbody>\n",
       "</table>\n",
       "</div>"
      ],
      "text/plain": [
       "   first_activity_week  cohort_lifetime  user_id  cohort_users\n",
       "0           2019-10-03                0      547           547\n",
       "1           2019-10-03                1      148           547\n",
       "2           2019-10-03                2       92           547\n",
       "3           2019-10-03                3       60           547\n",
       "4           2019-10-03                4       39           547\n",
       "5           2019-10-10                0     1120          1120\n",
       "6           2019-10-10                1      262          1120\n",
       "7           2019-10-10                2      173          1120\n",
       "8           2019-10-10                3       79          1120\n",
       "9           2019-10-17                0     1136          1136\n",
       "10          2019-10-17                1      273          1136\n",
       "11          2019-10-17                2      101          1136\n",
       "12          2019-10-24                0     1014          1014\n",
       "13          2019-10-24                1      176          1014\n",
       "14          2019-10-31                0      476           476"
      ]
     },
     "execution_count": 30,
     "metadata": {},
     "output_type": "execute_result"
    }
   ],
   "source": [
    "cohorts = cohorts.merge(initial_users_count,on='first_activity_week') \n",
    "cohorts"
   ]
  },
  {
   "cell_type": "markdown",
   "metadata": {},
   "source": [
    "Рассчитаем ***Retention Rate***. Разделим количество активных пользователей в каждую из недель на исходное число пользователей в когорте:"
   ]
  },
  {
   "cell_type": "code",
   "execution_count": 31,
   "metadata": {},
   "outputs": [
    {
     "data": {
      "text/html": [
       "<div>\n",
       "<style scoped>\n",
       "    .dataframe tbody tr th:only-of-type {\n",
       "        vertical-align: middle;\n",
       "    }\n",
       "\n",
       "    .dataframe tbody tr th {\n",
       "        vertical-align: top;\n",
       "    }\n",
       "\n",
       "    .dataframe thead th {\n",
       "        text-align: right;\n",
       "    }\n",
       "</style>\n",
       "<table border=\"1\" class=\"dataframe\">\n",
       "  <thead>\n",
       "    <tr style=\"text-align: right;\">\n",
       "      <th></th>\n",
       "      <th>first_activity_week</th>\n",
       "      <th>cohort_lifetime</th>\n",
       "      <th>user_id</th>\n",
       "      <th>cohort_users</th>\n",
       "      <th>retention</th>\n",
       "    </tr>\n",
       "  </thead>\n",
       "  <tbody>\n",
       "    <tr>\n",
       "      <th>0</th>\n",
       "      <td>2019-10-03</td>\n",
       "      <td>0</td>\n",
       "      <td>547</td>\n",
       "      <td>547</td>\n",
       "      <td>1.000000</td>\n",
       "    </tr>\n",
       "    <tr>\n",
       "      <th>1</th>\n",
       "      <td>2019-10-03</td>\n",
       "      <td>1</td>\n",
       "      <td>148</td>\n",
       "      <td>547</td>\n",
       "      <td>0.270567</td>\n",
       "    </tr>\n",
       "    <tr>\n",
       "      <th>2</th>\n",
       "      <td>2019-10-03</td>\n",
       "      <td>2</td>\n",
       "      <td>92</td>\n",
       "      <td>547</td>\n",
       "      <td>0.168190</td>\n",
       "    </tr>\n",
       "    <tr>\n",
       "      <th>3</th>\n",
       "      <td>2019-10-03</td>\n",
       "      <td>3</td>\n",
       "      <td>60</td>\n",
       "      <td>547</td>\n",
       "      <td>0.109689</td>\n",
       "    </tr>\n",
       "    <tr>\n",
       "      <th>4</th>\n",
       "      <td>2019-10-03</td>\n",
       "      <td>4</td>\n",
       "      <td>39</td>\n",
       "      <td>547</td>\n",
       "      <td>0.071298</td>\n",
       "    </tr>\n",
       "    <tr>\n",
       "      <th>5</th>\n",
       "      <td>2019-10-10</td>\n",
       "      <td>0</td>\n",
       "      <td>1120</td>\n",
       "      <td>1120</td>\n",
       "      <td>1.000000</td>\n",
       "    </tr>\n",
       "    <tr>\n",
       "      <th>6</th>\n",
       "      <td>2019-10-10</td>\n",
       "      <td>1</td>\n",
       "      <td>262</td>\n",
       "      <td>1120</td>\n",
       "      <td>0.233929</td>\n",
       "    </tr>\n",
       "    <tr>\n",
       "      <th>7</th>\n",
       "      <td>2019-10-10</td>\n",
       "      <td>2</td>\n",
       "      <td>173</td>\n",
       "      <td>1120</td>\n",
       "      <td>0.154464</td>\n",
       "    </tr>\n",
       "    <tr>\n",
       "      <th>8</th>\n",
       "      <td>2019-10-10</td>\n",
       "      <td>3</td>\n",
       "      <td>79</td>\n",
       "      <td>1120</td>\n",
       "      <td>0.070536</td>\n",
       "    </tr>\n",
       "    <tr>\n",
       "      <th>9</th>\n",
       "      <td>2019-10-17</td>\n",
       "      <td>0</td>\n",
       "      <td>1136</td>\n",
       "      <td>1136</td>\n",
       "      <td>1.000000</td>\n",
       "    </tr>\n",
       "    <tr>\n",
       "      <th>10</th>\n",
       "      <td>2019-10-17</td>\n",
       "      <td>1</td>\n",
       "      <td>273</td>\n",
       "      <td>1136</td>\n",
       "      <td>0.240317</td>\n",
       "    </tr>\n",
       "    <tr>\n",
       "      <th>11</th>\n",
       "      <td>2019-10-17</td>\n",
       "      <td>2</td>\n",
       "      <td>101</td>\n",
       "      <td>1136</td>\n",
       "      <td>0.088908</td>\n",
       "    </tr>\n",
       "    <tr>\n",
       "      <th>12</th>\n",
       "      <td>2019-10-24</td>\n",
       "      <td>0</td>\n",
       "      <td>1014</td>\n",
       "      <td>1014</td>\n",
       "      <td>1.000000</td>\n",
       "    </tr>\n",
       "    <tr>\n",
       "      <th>13</th>\n",
       "      <td>2019-10-24</td>\n",
       "      <td>1</td>\n",
       "      <td>176</td>\n",
       "      <td>1014</td>\n",
       "      <td>0.173570</td>\n",
       "    </tr>\n",
       "    <tr>\n",
       "      <th>14</th>\n",
       "      <td>2019-10-31</td>\n",
       "      <td>0</td>\n",
       "      <td>476</td>\n",
       "      <td>476</td>\n",
       "      <td>1.000000</td>\n",
       "    </tr>\n",
       "  </tbody>\n",
       "</table>\n",
       "</div>"
      ],
      "text/plain": [
       "   first_activity_week  cohort_lifetime  user_id  cohort_users  retention\n",
       "0           2019-10-03                0      547           547   1.000000\n",
       "1           2019-10-03                1      148           547   0.270567\n",
       "2           2019-10-03                2       92           547   0.168190\n",
       "3           2019-10-03                3       60           547   0.109689\n",
       "4           2019-10-03                4       39           547   0.071298\n",
       "5           2019-10-10                0     1120          1120   1.000000\n",
       "6           2019-10-10                1      262          1120   0.233929\n",
       "7           2019-10-10                2      173          1120   0.154464\n",
       "8           2019-10-10                3       79          1120   0.070536\n",
       "9           2019-10-17                0     1136          1136   1.000000\n",
       "10          2019-10-17                1      273          1136   0.240317\n",
       "11          2019-10-17                2      101          1136   0.088908\n",
       "12          2019-10-24                0     1014          1014   1.000000\n",
       "13          2019-10-24                1      176          1014   0.173570\n",
       "14          2019-10-31                0      476           476   1.000000"
      ]
     },
     "execution_count": 31,
     "metadata": {},
     "output_type": "execute_result"
    }
   ],
   "source": [
    "cohorts['retention'] = cohorts['user_id']/cohorts['cohort_users'] \n",
    "cohorts"
   ]
  },
  {
   "cell_type": "markdown",
   "metadata": {},
   "source": [
    "Построим сводную таблицу и создадим тепловую карту:"
   ]
  },
  {
   "cell_type": "code",
   "execution_count": 32,
   "metadata": {},
   "outputs": [],
   "source": [
    "retention_pivot = cohorts.pivot_table(index='first_activity_week',columns='cohort_lifetime',values='retention',aggfunc='sum') "
   ]
  },
  {
   "cell_type": "code",
   "execution_count": 33,
   "metadata": {},
   "outputs": [
    {
     "data": {
      "image/png": "[encoded data removed]",
      "text/plain": [
       "<Figure size 1080x720 with 2 Axes>"
      ]
     },
     "metadata": {},
     "output_type": "display_data"
    }
   ],
   "source": [
    "retention_pivot.index = retention_pivot.index.strftime(\"%w\")\n",
    "sns.set(style='white')\n",
    "plt.figure(figsize=(15, 10))\n",
    "plt.title('Retention Rate(по когортам)')\n",
    "sns.heatmap(retention_pivot, annot=True, fmt='.2f', linewidths=1, linecolor='grey')\n",
    "plt.gca().set(xlabel='lifetime', ylabel='первая неделя активности')\n",
    "plt.show()\n"
   ]
  },
  {
   "cell_type": "markdown",
   "metadata": {},
   "source": [
    "Мы расчитали ***Retention Rate*** для посетителей приложения, по тепловой карте видим, что за месяц показатель упал с *1 до 0.07*. С каждой новой когортой поведение пользователей меняется. Нам нужно впоследствии выяснить, какие именно факторы влияют на отток пользователей.  "
   ]
  },
  {
   "cell_type": "markdown",
   "metadata": {},
   "source": [
    "### 2.2. Время, проведенное в приложении"
   ]
  },
  {
   "cell_type": "markdown",
   "metadata": {},
   "source": [
    "Что определить эту метрику, нам нужно выделить для каждого пользователя *сессии*. Для этого нам нужно для каждого пользователя расчитать время между действиями. Сначала создадим столбец с отметкой времени предыдущего действия для каждого пользователя (*pre_action_time*):"
   ]
  },
  {
   "cell_type": "code",
   "execution_count": 34,
   "metadata": {},
   "outputs": [
    {
     "data": {
      "text/html": [
       "<div>\n",
       "<style scoped>\n",
       "    .dataframe tbody tr th:only-of-type {\n",
       "        vertical-align: middle;\n",
       "    }\n",
       "\n",
       "    .dataframe tbody tr th {\n",
       "        vertical-align: top;\n",
       "    }\n",
       "\n",
       "    .dataframe thead th {\n",
       "        text-align: right;\n",
       "    }\n",
       "</style>\n",
       "<table border=\"1\" class=\"dataframe\">\n",
       "  <thead>\n",
       "    <tr style=\"text-align: right;\">\n",
       "      <th></th>\n",
       "      <th>event_time</th>\n",
       "      <th>event_name</th>\n",
       "      <th>user_id</th>\n",
       "      <th>event_time_sec</th>\n",
       "      <th>source</th>\n",
       "      <th>first_activity_date</th>\n",
       "      <th>activity_week</th>\n",
       "      <th>first_activity_week</th>\n",
       "      <th>cohort_lifetime</th>\n",
       "      <th>pre_action_time</th>\n",
       "    </tr>\n",
       "  </thead>\n",
       "  <tbody>\n",
       "    <tr>\n",
       "      <th>0</th>\n",
       "      <td>2019-10-07 00:00:00.431357</td>\n",
       "      <td>advert_open</td>\n",
       "      <td>020292ab-89bc-4156-9acf-68bc2783f894</td>\n",
       "      <td>2019-10-07 00:00:00</td>\n",
       "      <td>other</td>\n",
       "      <td>2019-10-07 00:00:00</td>\n",
       "      <td>2019-10-03</td>\n",
       "      <td>2019-10-03</td>\n",
       "      <td>0</td>\n",
       "      <td>NaT</td>\n",
       "    </tr>\n",
       "    <tr>\n",
       "      <th>1</th>\n",
       "      <td>2019-10-07 00:00:01.236320</td>\n",
       "      <td>tips_show</td>\n",
       "      <td>020292ab-89bc-4156-9acf-68bc2783f894</td>\n",
       "      <td>2019-10-07 00:00:01</td>\n",
       "      <td>other</td>\n",
       "      <td>2019-10-07 00:00:00</td>\n",
       "      <td>2019-10-03</td>\n",
       "      <td>2019-10-03</td>\n",
       "      <td>0</td>\n",
       "      <td>2019-10-07 00:00:00</td>\n",
       "    </tr>\n",
       "    <tr>\n",
       "      <th>2</th>\n",
       "      <td>2019-10-07 00:00:07.039334</td>\n",
       "      <td>tips_show</td>\n",
       "      <td>020292ab-89bc-4156-9acf-68bc2783f894</td>\n",
       "      <td>2019-10-07 00:00:07</td>\n",
       "      <td>other</td>\n",
       "      <td>2019-10-07 00:00:00</td>\n",
       "      <td>2019-10-03</td>\n",
       "      <td>2019-10-03</td>\n",
       "      <td>0</td>\n",
       "      <td>2019-10-07 00:00:01</td>\n",
       "    </tr>\n",
       "    <tr>\n",
       "      <th>3</th>\n",
       "      <td>2019-10-07 00:01:27.770232</td>\n",
       "      <td>advert_open</td>\n",
       "      <td>020292ab-89bc-4156-9acf-68bc2783f894</td>\n",
       "      <td>2019-10-07 00:01:27</td>\n",
       "      <td>other</td>\n",
       "      <td>2019-10-07 00:00:00</td>\n",
       "      <td>2019-10-03</td>\n",
       "      <td>2019-10-03</td>\n",
       "      <td>0</td>\n",
       "      <td>2019-10-07 00:00:07</td>\n",
       "    </tr>\n",
       "    <tr>\n",
       "      <th>4</th>\n",
       "      <td>2019-10-07 00:01:34.804591</td>\n",
       "      <td>tips_show</td>\n",
       "      <td>020292ab-89bc-4156-9acf-68bc2783f894</td>\n",
       "      <td>2019-10-07 00:01:34</td>\n",
       "      <td>other</td>\n",
       "      <td>2019-10-07 00:00:00</td>\n",
       "      <td>2019-10-03</td>\n",
       "      <td>2019-10-03</td>\n",
       "      <td>0</td>\n",
       "      <td>2019-10-07 00:01:27</td>\n",
       "    </tr>\n",
       "    <tr>\n",
       "      <th>...</th>\n",
       "      <td>...</td>\n",
       "      <td>...</td>\n",
       "      <td>...</td>\n",
       "      <td>...</td>\n",
       "      <td>...</td>\n",
       "      <td>...</td>\n",
       "      <td>...</td>\n",
       "      <td>...</td>\n",
       "      <td>...</td>\n",
       "      <td>...</td>\n",
       "    </tr>\n",
       "    <tr>\n",
       "      <th>74192</th>\n",
       "      <td>2019-11-03 23:46:47.068179</td>\n",
       "      <td>map</td>\n",
       "      <td>d157bffc-264d-4464-8220-1cc0c42f43a9</td>\n",
       "      <td>2019-11-03 23:46:47</td>\n",
       "      <td>google</td>\n",
       "      <td>2019-11-03 23:46:47</td>\n",
       "      <td>2019-10-31</td>\n",
       "      <td>2019-10-31</td>\n",
       "      <td>0</td>\n",
       "      <td>NaT</td>\n",
       "    </tr>\n",
       "    <tr>\n",
       "      <th>74193</th>\n",
       "      <td>2019-11-03 23:46:58.914787</td>\n",
       "      <td>advert_open</td>\n",
       "      <td>d157bffc-264d-4464-8220-1cc0c42f43a9</td>\n",
       "      <td>2019-11-03 23:46:58</td>\n",
       "      <td>google</td>\n",
       "      <td>2019-11-03 23:46:47</td>\n",
       "      <td>2019-10-31</td>\n",
       "      <td>2019-10-31</td>\n",
       "      <td>0</td>\n",
       "      <td>2019-11-03 23:46:47</td>\n",
       "    </tr>\n",
       "    <tr>\n",
       "      <th>74194</th>\n",
       "      <td>2019-11-03 23:47:01.232230</td>\n",
       "      <td>tips_show</td>\n",
       "      <td>d157bffc-264d-4464-8220-1cc0c42f43a9</td>\n",
       "      <td>2019-11-03 23:47:01</td>\n",
       "      <td>google</td>\n",
       "      <td>2019-11-03 23:46:47</td>\n",
       "      <td>2019-10-31</td>\n",
       "      <td>2019-10-31</td>\n",
       "      <td>0</td>\n",
       "      <td>2019-11-03 23:46:58</td>\n",
       "    </tr>\n",
       "    <tr>\n",
       "      <th>74195</th>\n",
       "      <td>2019-11-03 23:47:47.475102</td>\n",
       "      <td>advert_open</td>\n",
       "      <td>d157bffc-264d-4464-8220-1cc0c42f43a9</td>\n",
       "      <td>2019-11-03 23:47:47</td>\n",
       "      <td>google</td>\n",
       "      <td>2019-11-03 23:46:47</td>\n",
       "      <td>2019-10-31</td>\n",
       "      <td>2019-10-31</td>\n",
       "      <td>0</td>\n",
       "      <td>2019-11-03 23:47:01</td>\n",
       "    </tr>\n",
       "    <tr>\n",
       "      <th>74196</th>\n",
       "      <td>2019-11-03 23:47:50.087645</td>\n",
       "      <td>tips_show</td>\n",
       "      <td>d157bffc-264d-4464-8220-1cc0c42f43a9</td>\n",
       "      <td>2019-11-03 23:47:50</td>\n",
       "      <td>google</td>\n",
       "      <td>2019-11-03 23:46:47</td>\n",
       "      <td>2019-10-31</td>\n",
       "      <td>2019-10-31</td>\n",
       "      <td>0</td>\n",
       "      <td>2019-11-03 23:47:47</td>\n",
       "    </tr>\n",
       "  </tbody>\n",
       "</table>\n",
       "<p>74197 rows × 10 columns</p>\n",
       "</div>"
      ],
      "text/plain": [
       "                      event_time   event_name  \\\n",
       "0     2019-10-07 00:00:00.431357  advert_open   \n",
       "1     2019-10-07 00:00:01.236320    tips_show   \n",
       "2     2019-10-07 00:00:07.039334    tips_show   \n",
       "3     2019-10-07 00:01:27.770232  advert_open   \n",
       "4     2019-10-07 00:01:34.804591    tips_show   \n",
       "...                          ...          ...   \n",
       "74192 2019-11-03 23:46:47.068179          map   \n",
       "74193 2019-11-03 23:46:58.914787  advert_open   \n",
       "74194 2019-11-03 23:47:01.232230    tips_show   \n",
       "74195 2019-11-03 23:47:47.475102  advert_open   \n",
       "74196 2019-11-03 23:47:50.087645    tips_show   \n",
       "\n",
       "                                    user_id      event_time_sec  source  \\\n",
       "0      020292ab-89bc-4156-9acf-68bc2783f894 2019-10-07 00:00:00   other   \n",
       "1      020292ab-89bc-4156-9acf-68bc2783f894 2019-10-07 00:00:01   other   \n",
       "2      020292ab-89bc-4156-9acf-68bc2783f894 2019-10-07 00:00:07   other   \n",
       "3      020292ab-89bc-4156-9acf-68bc2783f894 2019-10-07 00:01:27   other   \n",
       "4      020292ab-89bc-4156-9acf-68bc2783f894 2019-10-07 00:01:34   other   \n",
       "...                                     ...                 ...     ...   \n",
       "74192  d157bffc-264d-4464-8220-1cc0c42f43a9 2019-11-03 23:46:47  google   \n",
       "74193  d157bffc-264d-4464-8220-1cc0c42f43a9 2019-11-03 23:46:58  google   \n",
       "74194  d157bffc-264d-4464-8220-1cc0c42f43a9 2019-11-03 23:47:01  google   \n",
       "74195  d157bffc-264d-4464-8220-1cc0c42f43a9 2019-11-03 23:47:47  google   \n",
       "74196  d157bffc-264d-4464-8220-1cc0c42f43a9 2019-11-03 23:47:50  google   \n",
       "\n",
       "      first_activity_date activity_week first_activity_week  cohort_lifetime  \\\n",
       "0     2019-10-07 00:00:00    2019-10-03          2019-10-03                0   \n",
       "1     2019-10-07 00:00:00    2019-10-03          2019-10-03                0   \n",
       "2     2019-10-07 00:00:00    2019-10-03          2019-10-03                0   \n",
       "3     2019-10-07 00:00:00    2019-10-03          2019-10-03                0   \n",
       "4     2019-10-07 00:00:00    2019-10-03          2019-10-03                0   \n",
       "...                   ...           ...                 ...              ...   \n",
       "74192 2019-11-03 23:46:47    2019-10-31          2019-10-31                0   \n",
       "74193 2019-11-03 23:46:47    2019-10-31          2019-10-31                0   \n",
       "74194 2019-11-03 23:46:47    2019-10-31          2019-10-31                0   \n",
       "74195 2019-11-03 23:46:47    2019-10-31          2019-10-31                0   \n",
       "74196 2019-11-03 23:46:47    2019-10-31          2019-10-31                0   \n",
       "\n",
       "          pre_action_time  \n",
       "0                     NaT  \n",
       "1     2019-10-07 00:00:00  \n",
       "2     2019-10-07 00:00:01  \n",
       "3     2019-10-07 00:00:07  \n",
       "4     2019-10-07 00:01:27  \n",
       "...                   ...  \n",
       "74192                 NaT  \n",
       "74193 2019-11-03 23:46:47  \n",
       "74194 2019-11-03 23:46:58  \n",
       "74195 2019-11-03 23:47:01  \n",
       "74196 2019-11-03 23:47:47  \n",
       "\n",
       "[74197 rows x 10 columns]"
      ]
     },
     "execution_count": 34,
     "metadata": {},
     "output_type": "execute_result"
    }
   ],
   "source": [
    "full_mobile_df['pre_action_time'] = full_mobile_df.groupby('user_id')['event_time_sec'].shift()\n",
    "full_mobile_df"
   ]
  },
  {
   "cell_type": "markdown",
   "metadata": {},
   "source": [
    "Теперь создадим столбец *active_session*, в котором будет содержаться количество времени, проведенное в приложении между действиями:"
   ]
  },
  {
   "cell_type": "code",
   "execution_count": 35,
   "metadata": {},
   "outputs": [
    {
     "data": {
      "text/html": [
       "<div>\n",
       "<style scoped>\n",
       "    .dataframe tbody tr th:only-of-type {\n",
       "        vertical-align: middle;\n",
       "    }\n",
       "\n",
       "    .dataframe tbody tr th {\n",
       "        vertical-align: top;\n",
       "    }\n",
       "\n",
       "    .dataframe thead th {\n",
       "        text-align: right;\n",
       "    }\n",
       "</style>\n",
       "<table border=\"1\" class=\"dataframe\">\n",
       "  <thead>\n",
       "    <tr style=\"text-align: right;\">\n",
       "      <th></th>\n",
       "      <th>event_time</th>\n",
       "      <th>event_name</th>\n",
       "      <th>user_id</th>\n",
       "      <th>event_time_sec</th>\n",
       "      <th>source</th>\n",
       "      <th>first_activity_date</th>\n",
       "      <th>activity_week</th>\n",
       "      <th>first_activity_week</th>\n",
       "      <th>cohort_lifetime</th>\n",
       "      <th>pre_action_time</th>\n",
       "      <th>active_session</th>\n",
       "    </tr>\n",
       "  </thead>\n",
       "  <tbody>\n",
       "    <tr>\n",
       "      <th>0</th>\n",
       "      <td>2019-10-07 00:00:00.431357</td>\n",
       "      <td>advert_open</td>\n",
       "      <td>020292ab-89bc-4156-9acf-68bc2783f894</td>\n",
       "      <td>2019-10-07 00:00:00</td>\n",
       "      <td>other</td>\n",
       "      <td>2019-10-07 00:00:00</td>\n",
       "      <td>2019-10-03</td>\n",
       "      <td>2019-10-03</td>\n",
       "      <td>0</td>\n",
       "      <td>NaT</td>\n",
       "      <td>NaT</td>\n",
       "    </tr>\n",
       "    <tr>\n",
       "      <th>1</th>\n",
       "      <td>2019-10-07 00:00:01.236320</td>\n",
       "      <td>tips_show</td>\n",
       "      <td>020292ab-89bc-4156-9acf-68bc2783f894</td>\n",
       "      <td>2019-10-07 00:00:01</td>\n",
       "      <td>other</td>\n",
       "      <td>2019-10-07 00:00:00</td>\n",
       "      <td>2019-10-03</td>\n",
       "      <td>2019-10-03</td>\n",
       "      <td>0</td>\n",
       "      <td>2019-10-07 00:00:00</td>\n",
       "      <td>0 days 00:00:01</td>\n",
       "    </tr>\n",
       "    <tr>\n",
       "      <th>2</th>\n",
       "      <td>2019-10-07 00:00:07.039334</td>\n",
       "      <td>tips_show</td>\n",
       "      <td>020292ab-89bc-4156-9acf-68bc2783f894</td>\n",
       "      <td>2019-10-07 00:00:07</td>\n",
       "      <td>other</td>\n",
       "      <td>2019-10-07 00:00:00</td>\n",
       "      <td>2019-10-03</td>\n",
       "      <td>2019-10-03</td>\n",
       "      <td>0</td>\n",
       "      <td>2019-10-07 00:00:01</td>\n",
       "      <td>0 days 00:00:06</td>\n",
       "    </tr>\n",
       "    <tr>\n",
       "      <th>3</th>\n",
       "      <td>2019-10-07 00:01:27.770232</td>\n",
       "      <td>advert_open</td>\n",
       "      <td>020292ab-89bc-4156-9acf-68bc2783f894</td>\n",
       "      <td>2019-10-07 00:01:27</td>\n",
       "      <td>other</td>\n",
       "      <td>2019-10-07 00:00:00</td>\n",
       "      <td>2019-10-03</td>\n",
       "      <td>2019-10-03</td>\n",
       "      <td>0</td>\n",
       "      <td>2019-10-07 00:00:07</td>\n",
       "      <td>0 days 00:01:20</td>\n",
       "    </tr>\n",
       "    <tr>\n",
       "      <th>4</th>\n",
       "      <td>2019-10-07 00:01:34.804591</td>\n",
       "      <td>tips_show</td>\n",
       "      <td>020292ab-89bc-4156-9acf-68bc2783f894</td>\n",
       "      <td>2019-10-07 00:01:34</td>\n",
       "      <td>other</td>\n",
       "      <td>2019-10-07 00:00:00</td>\n",
       "      <td>2019-10-03</td>\n",
       "      <td>2019-10-03</td>\n",
       "      <td>0</td>\n",
       "      <td>2019-10-07 00:01:27</td>\n",
       "      <td>0 days 00:00:07</td>\n",
       "    </tr>\n",
       "    <tr>\n",
       "      <th>...</th>\n",
       "      <td>...</td>\n",
       "      <td>...</td>\n",
       "      <td>...</td>\n",
       "      <td>...</td>\n",
       "      <td>...</td>\n",
       "      <td>...</td>\n",
       "      <td>...</td>\n",
       "      <td>...</td>\n",
       "      <td>...</td>\n",
       "      <td>...</td>\n",
       "      <td>...</td>\n",
       "    </tr>\n",
       "    <tr>\n",
       "      <th>74192</th>\n",
       "      <td>2019-11-03 23:46:47.068179</td>\n",
       "      <td>map</td>\n",
       "      <td>d157bffc-264d-4464-8220-1cc0c42f43a9</td>\n",
       "      <td>2019-11-03 23:46:47</td>\n",
       "      <td>google</td>\n",
       "      <td>2019-11-03 23:46:47</td>\n",
       "      <td>2019-10-31</td>\n",
       "      <td>2019-10-31</td>\n",
       "      <td>0</td>\n",
       "      <td>NaT</td>\n",
       "      <td>NaT</td>\n",
       "    </tr>\n",
       "    <tr>\n",
       "      <th>74193</th>\n",
       "      <td>2019-11-03 23:46:58.914787</td>\n",
       "      <td>advert_open</td>\n",
       "      <td>d157bffc-264d-4464-8220-1cc0c42f43a9</td>\n",
       "      <td>2019-11-03 23:46:58</td>\n",
       "      <td>google</td>\n",
       "      <td>2019-11-03 23:46:47</td>\n",
       "      <td>2019-10-31</td>\n",
       "      <td>2019-10-31</td>\n",
       "      <td>0</td>\n",
       "      <td>2019-11-03 23:46:47</td>\n",
       "      <td>0 days 00:00:11</td>\n",
       "    </tr>\n",
       "    <tr>\n",
       "      <th>74194</th>\n",
       "      <td>2019-11-03 23:47:01.232230</td>\n",
       "      <td>tips_show</td>\n",
       "      <td>d157bffc-264d-4464-8220-1cc0c42f43a9</td>\n",
       "      <td>2019-11-03 23:47:01</td>\n",
       "      <td>google</td>\n",
       "      <td>2019-11-03 23:46:47</td>\n",
       "      <td>2019-10-31</td>\n",
       "      <td>2019-10-31</td>\n",
       "      <td>0</td>\n",
       "      <td>2019-11-03 23:46:58</td>\n",
       "      <td>0 days 00:00:03</td>\n",
       "    </tr>\n",
       "    <tr>\n",
       "      <th>74195</th>\n",
       "      <td>2019-11-03 23:47:47.475102</td>\n",
       "      <td>advert_open</td>\n",
       "      <td>d157bffc-264d-4464-8220-1cc0c42f43a9</td>\n",
       "      <td>2019-11-03 23:47:47</td>\n",
       "      <td>google</td>\n",
       "      <td>2019-11-03 23:46:47</td>\n",
       "      <td>2019-10-31</td>\n",
       "      <td>2019-10-31</td>\n",
       "      <td>0</td>\n",
       "      <td>2019-11-03 23:47:01</td>\n",
       "      <td>0 days 00:00:46</td>\n",
       "    </tr>\n",
       "    <tr>\n",
       "      <th>74196</th>\n",
       "      <td>2019-11-03 23:47:50.087645</td>\n",
       "      <td>tips_show</td>\n",
       "      <td>d157bffc-264d-4464-8220-1cc0c42f43a9</td>\n",
       "      <td>2019-11-03 23:47:50</td>\n",
       "      <td>google</td>\n",
       "      <td>2019-11-03 23:46:47</td>\n",
       "      <td>2019-10-31</td>\n",
       "      <td>2019-10-31</td>\n",
       "      <td>0</td>\n",
       "      <td>2019-11-03 23:47:47</td>\n",
       "      <td>0 days 00:00:03</td>\n",
       "    </tr>\n",
       "  </tbody>\n",
       "</table>\n",
       "<p>74197 rows × 11 columns</p>\n",
       "</div>"
      ],
      "text/plain": [
       "                      event_time   event_name  \\\n",
       "0     2019-10-07 00:00:00.431357  advert_open   \n",
       "1     2019-10-07 00:00:01.236320    tips_show   \n",
       "2     2019-10-07 00:00:07.039334    tips_show   \n",
       "3     2019-10-07 00:01:27.770232  advert_open   \n",
       "4     2019-10-07 00:01:34.804591    tips_show   \n",
       "...                          ...          ...   \n",
       "74192 2019-11-03 23:46:47.068179          map   \n",
       "74193 2019-11-03 23:46:58.914787  advert_open   \n",
       "74194 2019-11-03 23:47:01.232230    tips_show   \n",
       "74195 2019-11-03 23:47:47.475102  advert_open   \n",
       "74196 2019-11-03 23:47:50.087645    tips_show   \n",
       "\n",
       "                                    user_id      event_time_sec  source  \\\n",
       "0      020292ab-89bc-4156-9acf-68bc2783f894 2019-10-07 00:00:00   other   \n",
       "1      020292ab-89bc-4156-9acf-68bc2783f894 2019-10-07 00:00:01   other   \n",
       "2      020292ab-89bc-4156-9acf-68bc2783f894 2019-10-07 00:00:07   other   \n",
       "3      020292ab-89bc-4156-9acf-68bc2783f894 2019-10-07 00:01:27   other   \n",
       "4      020292ab-89bc-4156-9acf-68bc2783f894 2019-10-07 00:01:34   other   \n",
       "...                                     ...                 ...     ...   \n",
       "74192  d157bffc-264d-4464-8220-1cc0c42f43a9 2019-11-03 23:46:47  google   \n",
       "74193  d157bffc-264d-4464-8220-1cc0c42f43a9 2019-11-03 23:46:58  google   \n",
       "74194  d157bffc-264d-4464-8220-1cc0c42f43a9 2019-11-03 23:47:01  google   \n",
       "74195  d157bffc-264d-4464-8220-1cc0c42f43a9 2019-11-03 23:47:47  google   \n",
       "74196  d157bffc-264d-4464-8220-1cc0c42f43a9 2019-11-03 23:47:50  google   \n",
       "\n",
       "      first_activity_date activity_week first_activity_week  cohort_lifetime  \\\n",
       "0     2019-10-07 00:00:00    2019-10-03          2019-10-03                0   \n",
       "1     2019-10-07 00:00:00    2019-10-03          2019-10-03                0   \n",
       "2     2019-10-07 00:00:00    2019-10-03          2019-10-03                0   \n",
       "3     2019-10-07 00:00:00    2019-10-03          2019-10-03                0   \n",
       "4     2019-10-07 00:00:00    2019-10-03          2019-10-03                0   \n",
       "...                   ...           ...                 ...              ...   \n",
       "74192 2019-11-03 23:46:47    2019-10-31          2019-10-31                0   \n",
       "74193 2019-11-03 23:46:47    2019-10-31          2019-10-31                0   \n",
       "74194 2019-11-03 23:46:47    2019-10-31          2019-10-31                0   \n",
       "74195 2019-11-03 23:46:47    2019-10-31          2019-10-31                0   \n",
       "74196 2019-11-03 23:46:47    2019-10-31          2019-10-31                0   \n",
       "\n",
       "          pre_action_time  active_session  \n",
       "0                     NaT             NaT  \n",
       "1     2019-10-07 00:00:00 0 days 00:00:01  \n",
       "2     2019-10-07 00:00:01 0 days 00:00:06  \n",
       "3     2019-10-07 00:00:07 0 days 00:01:20  \n",
       "4     2019-10-07 00:01:27 0 days 00:00:07  \n",
       "...                   ...             ...  \n",
       "74192                 NaT             NaT  \n",
       "74193 2019-11-03 23:46:47 0 days 00:00:11  \n",
       "74194 2019-11-03 23:46:58 0 days 00:00:03  \n",
       "74195 2019-11-03 23:47:01 0 days 00:00:46  \n",
       "74196 2019-11-03 23:47:47 0 days 00:00:03  \n",
       "\n",
       "[74197 rows x 11 columns]"
      ]
     },
     "execution_count": 35,
     "metadata": {},
     "output_type": "execute_result"
    }
   ],
   "source": [
    "full_mobile_df['active_session'] = full_mobile_df['event_time_sec'] - full_mobile_df['pre_action_time']\n",
    "full_mobile_df"
   ]
  },
  {
   "cell_type": "markdown",
   "metadata": {},
   "source": [
    "С помощью цикла пронумеруем сессии: сравним временной интервал между двумя действиями (*active_session*) с *30 минутами* (именно это число мы возьмем за максимальную продолжительность единоразовой сессии). Если интервал будет превышать 30 минут, то сессии будет присваиваться следующий номер: "
   ]
  },
  {
   "cell_type": "code",
   "execution_count": 36,
   "metadata": {},
   "outputs": [],
   "source": [
    "for user in full_mobile_df['user_id'].unique():\n",
    "    session_num = 0\n",
    "    for index, row in full_mobile_df[full_mobile_df['user_id'] == user].iterrows():\n",
    "        if row['active_session'] <= pd.Timedelta(30, 'm'):\n",
    "            full_mobile_df.loc[index,'session_num'] = session_num\n",
    "        else:\n",
    "            session_num += 1\n",
    "            full_mobile_df.loc[index,'session_num'] = session_num"
   ]
  },
  {
   "cell_type": "code",
   "execution_count": 37,
   "metadata": {},
   "outputs": [
    {
     "data": {
      "text/html": [
       "<div>\n",
       "<style scoped>\n",
       "    .dataframe tbody tr th:only-of-type {\n",
       "        vertical-align: middle;\n",
       "    }\n",
       "\n",
       "    .dataframe tbody tr th {\n",
       "        vertical-align: top;\n",
       "    }\n",
       "\n",
       "    .dataframe thead th {\n",
       "        text-align: right;\n",
       "    }\n",
       "</style>\n",
       "<table border=\"1\" class=\"dataframe\">\n",
       "  <thead>\n",
       "    <tr style=\"text-align: right;\">\n",
       "      <th></th>\n",
       "      <th>event_time</th>\n",
       "      <th>event_name</th>\n",
       "      <th>user_id</th>\n",
       "      <th>event_time_sec</th>\n",
       "      <th>source</th>\n",
       "      <th>first_activity_date</th>\n",
       "      <th>activity_week</th>\n",
       "      <th>first_activity_week</th>\n",
       "      <th>cohort_lifetime</th>\n",
       "      <th>pre_action_time</th>\n",
       "      <th>active_session</th>\n",
       "      <th>session_num</th>\n",
       "    </tr>\n",
       "  </thead>\n",
       "  <tbody>\n",
       "    <tr>\n",
       "      <th>0</th>\n",
       "      <td>2019-10-07 00:00:00.431357</td>\n",
       "      <td>advert_open</td>\n",
       "      <td>020292ab-89bc-4156-9acf-68bc2783f894</td>\n",
       "      <td>2019-10-07 00:00:00</td>\n",
       "      <td>other</td>\n",
       "      <td>2019-10-07 00:00:00</td>\n",
       "      <td>2019-10-03</td>\n",
       "      <td>2019-10-03</td>\n",
       "      <td>0</td>\n",
       "      <td>NaT</td>\n",
       "      <td>NaT</td>\n",
       "      <td>1.0</td>\n",
       "    </tr>\n",
       "    <tr>\n",
       "      <th>1</th>\n",
       "      <td>2019-10-07 00:00:01.236320</td>\n",
       "      <td>tips_show</td>\n",
       "      <td>020292ab-89bc-4156-9acf-68bc2783f894</td>\n",
       "      <td>2019-10-07 00:00:01</td>\n",
       "      <td>other</td>\n",
       "      <td>2019-10-07 00:00:00</td>\n",
       "      <td>2019-10-03</td>\n",
       "      <td>2019-10-03</td>\n",
       "      <td>0</td>\n",
       "      <td>2019-10-07 00:00:00</td>\n",
       "      <td>0 days 00:00:01</td>\n",
       "      <td>1.0</td>\n",
       "    </tr>\n",
       "    <tr>\n",
       "      <th>2</th>\n",
       "      <td>2019-10-07 00:00:07.039334</td>\n",
       "      <td>tips_show</td>\n",
       "      <td>020292ab-89bc-4156-9acf-68bc2783f894</td>\n",
       "      <td>2019-10-07 00:00:07</td>\n",
       "      <td>other</td>\n",
       "      <td>2019-10-07 00:00:00</td>\n",
       "      <td>2019-10-03</td>\n",
       "      <td>2019-10-03</td>\n",
       "      <td>0</td>\n",
       "      <td>2019-10-07 00:00:01</td>\n",
       "      <td>0 days 00:00:06</td>\n",
       "      <td>1.0</td>\n",
       "    </tr>\n",
       "    <tr>\n",
       "      <th>3</th>\n",
       "      <td>2019-10-07 00:01:27.770232</td>\n",
       "      <td>advert_open</td>\n",
       "      <td>020292ab-89bc-4156-9acf-68bc2783f894</td>\n",
       "      <td>2019-10-07 00:01:27</td>\n",
       "      <td>other</td>\n",
       "      <td>2019-10-07 00:00:00</td>\n",
       "      <td>2019-10-03</td>\n",
       "      <td>2019-10-03</td>\n",
       "      <td>0</td>\n",
       "      <td>2019-10-07 00:00:07</td>\n",
       "      <td>0 days 00:01:20</td>\n",
       "      <td>1.0</td>\n",
       "    </tr>\n",
       "    <tr>\n",
       "      <th>4</th>\n",
       "      <td>2019-10-07 00:01:34.804591</td>\n",
       "      <td>tips_show</td>\n",
       "      <td>020292ab-89bc-4156-9acf-68bc2783f894</td>\n",
       "      <td>2019-10-07 00:01:34</td>\n",
       "      <td>other</td>\n",
       "      <td>2019-10-07 00:00:00</td>\n",
       "      <td>2019-10-03</td>\n",
       "      <td>2019-10-03</td>\n",
       "      <td>0</td>\n",
       "      <td>2019-10-07 00:01:27</td>\n",
       "      <td>0 days 00:00:07</td>\n",
       "      <td>1.0</td>\n",
       "    </tr>\n",
       "    <tr>\n",
       "      <th>...</th>\n",
       "      <td>...</td>\n",
       "      <td>...</td>\n",
       "      <td>...</td>\n",
       "      <td>...</td>\n",
       "      <td>...</td>\n",
       "      <td>...</td>\n",
       "      <td>...</td>\n",
       "      <td>...</td>\n",
       "      <td>...</td>\n",
       "      <td>...</td>\n",
       "      <td>...</td>\n",
       "      <td>...</td>\n",
       "    </tr>\n",
       "    <tr>\n",
       "      <th>74192</th>\n",
       "      <td>2019-11-03 23:46:47.068179</td>\n",
       "      <td>map</td>\n",
       "      <td>d157bffc-264d-4464-8220-1cc0c42f43a9</td>\n",
       "      <td>2019-11-03 23:46:47</td>\n",
       "      <td>google</td>\n",
       "      <td>2019-11-03 23:46:47</td>\n",
       "      <td>2019-10-31</td>\n",
       "      <td>2019-10-31</td>\n",
       "      <td>0</td>\n",
       "      <td>NaT</td>\n",
       "      <td>NaT</td>\n",
       "      <td>1.0</td>\n",
       "    </tr>\n",
       "    <tr>\n",
       "      <th>74193</th>\n",
       "      <td>2019-11-03 23:46:58.914787</td>\n",
       "      <td>advert_open</td>\n",
       "      <td>d157bffc-264d-4464-8220-1cc0c42f43a9</td>\n",
       "      <td>2019-11-03 23:46:58</td>\n",
       "      <td>google</td>\n",
       "      <td>2019-11-03 23:46:47</td>\n",
       "      <td>2019-10-31</td>\n",
       "      <td>2019-10-31</td>\n",
       "      <td>0</td>\n",
       "      <td>2019-11-03 23:46:47</td>\n",
       "      <td>0 days 00:00:11</td>\n",
       "      <td>1.0</td>\n",
       "    </tr>\n",
       "    <tr>\n",
       "      <th>74194</th>\n",
       "      <td>2019-11-03 23:47:01.232230</td>\n",
       "      <td>tips_show</td>\n",
       "      <td>d157bffc-264d-4464-8220-1cc0c42f43a9</td>\n",
       "      <td>2019-11-03 23:47:01</td>\n",
       "      <td>google</td>\n",
       "      <td>2019-11-03 23:46:47</td>\n",
       "      <td>2019-10-31</td>\n",
       "      <td>2019-10-31</td>\n",
       "      <td>0</td>\n",
       "      <td>2019-11-03 23:46:58</td>\n",
       "      <td>0 days 00:00:03</td>\n",
       "      <td>1.0</td>\n",
       "    </tr>\n",
       "    <tr>\n",
       "      <th>74195</th>\n",
       "      <td>2019-11-03 23:47:47.475102</td>\n",
       "      <td>advert_open</td>\n",
       "      <td>d157bffc-264d-4464-8220-1cc0c42f43a9</td>\n",
       "      <td>2019-11-03 23:47:47</td>\n",
       "      <td>google</td>\n",
       "      <td>2019-11-03 23:46:47</td>\n",
       "      <td>2019-10-31</td>\n",
       "      <td>2019-10-31</td>\n",
       "      <td>0</td>\n",
       "      <td>2019-11-03 23:47:01</td>\n",
       "      <td>0 days 00:00:46</td>\n",
       "      <td>1.0</td>\n",
       "    </tr>\n",
       "    <tr>\n",
       "      <th>74196</th>\n",
       "      <td>2019-11-03 23:47:50.087645</td>\n",
       "      <td>tips_show</td>\n",
       "      <td>d157bffc-264d-4464-8220-1cc0c42f43a9</td>\n",
       "      <td>2019-11-03 23:47:50</td>\n",
       "      <td>google</td>\n",
       "      <td>2019-11-03 23:46:47</td>\n",
       "      <td>2019-10-31</td>\n",
       "      <td>2019-10-31</td>\n",
       "      <td>0</td>\n",
       "      <td>2019-11-03 23:47:47</td>\n",
       "      <td>0 days 00:00:03</td>\n",
       "      <td>1.0</td>\n",
       "    </tr>\n",
       "  </tbody>\n",
       "</table>\n",
       "<p>74197 rows × 12 columns</p>\n",
       "</div>"
      ],
      "text/plain": [
       "                      event_time   event_name  \\\n",
       "0     2019-10-07 00:00:00.431357  advert_open   \n",
       "1     2019-10-07 00:00:01.236320    tips_show   \n",
       "2     2019-10-07 00:00:07.039334    tips_show   \n",
       "3     2019-10-07 00:01:27.770232  advert_open   \n",
       "4     2019-10-07 00:01:34.804591    tips_show   \n",
       "...                          ...          ...   \n",
       "74192 2019-11-03 23:46:47.068179          map   \n",
       "74193 2019-11-03 23:46:58.914787  advert_open   \n",
       "74194 2019-11-03 23:47:01.232230    tips_show   \n",
       "74195 2019-11-03 23:47:47.475102  advert_open   \n",
       "74196 2019-11-03 23:47:50.087645    tips_show   \n",
       "\n",
       "                                    user_id      event_time_sec  source  \\\n",
       "0      020292ab-89bc-4156-9acf-68bc2783f894 2019-10-07 00:00:00   other   \n",
       "1      020292ab-89bc-4156-9acf-68bc2783f894 2019-10-07 00:00:01   other   \n",
       "2      020292ab-89bc-4156-9acf-68bc2783f894 2019-10-07 00:00:07   other   \n",
       "3      020292ab-89bc-4156-9acf-68bc2783f894 2019-10-07 00:01:27   other   \n",
       "4      020292ab-89bc-4156-9acf-68bc2783f894 2019-10-07 00:01:34   other   \n",
       "...                                     ...                 ...     ...   \n",
       "74192  d157bffc-264d-4464-8220-1cc0c42f43a9 2019-11-03 23:46:47  google   \n",
       "74193  d157bffc-264d-4464-8220-1cc0c42f43a9 2019-11-03 23:46:58  google   \n",
       "74194  d157bffc-264d-4464-8220-1cc0c42f43a9 2019-11-03 23:47:01  google   \n",
       "74195  d157bffc-264d-4464-8220-1cc0c42f43a9 2019-11-03 23:47:47  google   \n",
       "74196  d157bffc-264d-4464-8220-1cc0c42f43a9 2019-11-03 23:47:50  google   \n",
       "\n",
       "      first_activity_date activity_week first_activity_week  cohort_lifetime  \\\n",
       "0     2019-10-07 00:00:00    2019-10-03          2019-10-03                0   \n",
       "1     2019-10-07 00:00:00    2019-10-03          2019-10-03                0   \n",
       "2     2019-10-07 00:00:00    2019-10-03          2019-10-03                0   \n",
       "3     2019-10-07 00:00:00    2019-10-03          2019-10-03                0   \n",
       "4     2019-10-07 00:00:00    2019-10-03          2019-10-03                0   \n",
       "...                   ...           ...                 ...              ...   \n",
       "74192 2019-11-03 23:46:47    2019-10-31          2019-10-31                0   \n",
       "74193 2019-11-03 23:46:47    2019-10-31          2019-10-31                0   \n",
       "74194 2019-11-03 23:46:47    2019-10-31          2019-10-31                0   \n",
       "74195 2019-11-03 23:46:47    2019-10-31          2019-10-31                0   \n",
       "74196 2019-11-03 23:46:47    2019-10-31          2019-10-31                0   \n",
       "\n",
       "          pre_action_time  active_session  session_num  \n",
       "0                     NaT             NaT          1.0  \n",
       "1     2019-10-07 00:00:00 0 days 00:00:01          1.0  \n",
       "2     2019-10-07 00:00:01 0 days 00:00:06          1.0  \n",
       "3     2019-10-07 00:00:07 0 days 00:01:20          1.0  \n",
       "4     2019-10-07 00:01:27 0 days 00:00:07          1.0  \n",
       "...                   ...             ...          ...  \n",
       "74192                 NaT             NaT          1.0  \n",
       "74193 2019-11-03 23:46:47 0 days 00:00:11          1.0  \n",
       "74194 2019-11-03 23:46:58 0 days 00:00:03          1.0  \n",
       "74195 2019-11-03 23:47:01 0 days 00:00:46          1.0  \n",
       "74196 2019-11-03 23:47:47 0 days 00:00:03          1.0  \n",
       "\n",
       "[74197 rows x 12 columns]"
      ]
     },
     "execution_count": 37,
     "metadata": {},
     "output_type": "execute_result"
    }
   ],
   "source": [
    "full_mobile_df"
   ]
  },
  {
   "cell_type": "code",
   "execution_count": 38,
   "metadata": {},
   "outputs": [
    {
     "name": "stderr",
     "output_type": "stream",
     "text": [
      "/home/kseniya/anaconda3/lib/python3.8/site-packages/pandas/core/indexing.py:670: SettingWithCopyWarning: \n",
      "A value is trying to be set on a copy of a slice from a DataFrame\n",
      "\n",
      "See the caveats in the documentation: https://pandas.pydata.org/pandas-docs/stable/user_guide/indexing.html#returning-a-view-versus-a-copy\n",
      "  iloc._setitem_with_indexer(indexer, value)\n"
     ]
    },
    {
     "data": {
      "text/html": [
       "<div>\n",
       "<style scoped>\n",
       "    .dataframe tbody tr th:only-of-type {\n",
       "        vertical-align: middle;\n",
       "    }\n",
       "\n",
       "    .dataframe tbody tr th {\n",
       "        vertical-align: top;\n",
       "    }\n",
       "\n",
       "    .dataframe thead th {\n",
       "        text-align: right;\n",
       "    }\n",
       "</style>\n",
       "<table border=\"1\" class=\"dataframe\">\n",
       "  <thead>\n",
       "    <tr style=\"text-align: right;\">\n",
       "      <th></th>\n",
       "      <th>event_time</th>\n",
       "      <th>event_name</th>\n",
       "      <th>user_id</th>\n",
       "      <th>event_time_sec</th>\n",
       "      <th>source</th>\n",
       "      <th>first_activity_date</th>\n",
       "      <th>activity_week</th>\n",
       "      <th>first_activity_week</th>\n",
       "      <th>cohort_lifetime</th>\n",
       "      <th>pre_action_time</th>\n",
       "      <th>active_session</th>\n",
       "      <th>session_num</th>\n",
       "    </tr>\n",
       "  </thead>\n",
       "  <tbody>\n",
       "    <tr>\n",
       "      <th>0</th>\n",
       "      <td>2019-10-07 00:00:00.431357</td>\n",
       "      <td>advert_open</td>\n",
       "      <td>020292ab-89bc-4156-9acf-68bc2783f894</td>\n",
       "      <td>2019-10-07 00:00:00</td>\n",
       "      <td>other</td>\n",
       "      <td>2019-10-07 00:00:00</td>\n",
       "      <td>2019-10-03</td>\n",
       "      <td>2019-10-03</td>\n",
       "      <td>0</td>\n",
       "      <td>NaT</td>\n",
       "      <td>NaT</td>\n",
       "      <td>1.0</td>\n",
       "    </tr>\n",
       "    <tr>\n",
       "      <th>1</th>\n",
       "      <td>2019-10-07 00:00:01.236320</td>\n",
       "      <td>tips_show</td>\n",
       "      <td>020292ab-89bc-4156-9acf-68bc2783f894</td>\n",
       "      <td>2019-10-07 00:00:01</td>\n",
       "      <td>other</td>\n",
       "      <td>2019-10-07 00:00:00</td>\n",
       "      <td>2019-10-03</td>\n",
       "      <td>2019-10-03</td>\n",
       "      <td>0</td>\n",
       "      <td>2019-10-07 00:00:00</td>\n",
       "      <td>0 days 00:00:01</td>\n",
       "      <td>1.0</td>\n",
       "    </tr>\n",
       "    <tr>\n",
       "      <th>2</th>\n",
       "      <td>2019-10-07 00:00:07.039334</td>\n",
       "      <td>tips_show</td>\n",
       "      <td>020292ab-89bc-4156-9acf-68bc2783f894</td>\n",
       "      <td>2019-10-07 00:00:07</td>\n",
       "      <td>other</td>\n",
       "      <td>2019-10-07 00:00:00</td>\n",
       "      <td>2019-10-03</td>\n",
       "      <td>2019-10-03</td>\n",
       "      <td>0</td>\n",
       "      <td>2019-10-07 00:00:01</td>\n",
       "      <td>0 days 00:00:06</td>\n",
       "      <td>1.0</td>\n",
       "    </tr>\n",
       "    <tr>\n",
       "      <th>3</th>\n",
       "      <td>2019-10-07 00:01:27.770232</td>\n",
       "      <td>advert_open</td>\n",
       "      <td>020292ab-89bc-4156-9acf-68bc2783f894</td>\n",
       "      <td>2019-10-07 00:01:27</td>\n",
       "      <td>other</td>\n",
       "      <td>2019-10-07 00:00:00</td>\n",
       "      <td>2019-10-03</td>\n",
       "      <td>2019-10-03</td>\n",
       "      <td>0</td>\n",
       "      <td>2019-10-07 00:00:07</td>\n",
       "      <td>0 days 00:01:20</td>\n",
       "      <td>1.0</td>\n",
       "    </tr>\n",
       "    <tr>\n",
       "      <th>4</th>\n",
       "      <td>2019-10-07 00:01:34.804591</td>\n",
       "      <td>tips_show</td>\n",
       "      <td>020292ab-89bc-4156-9acf-68bc2783f894</td>\n",
       "      <td>2019-10-07 00:01:34</td>\n",
       "      <td>other</td>\n",
       "      <td>2019-10-07 00:00:00</td>\n",
       "      <td>2019-10-03</td>\n",
       "      <td>2019-10-03</td>\n",
       "      <td>0</td>\n",
       "      <td>2019-10-07 00:01:27</td>\n",
       "      <td>0 days 00:00:07</td>\n",
       "      <td>1.0</td>\n",
       "    </tr>\n",
       "    <tr>\n",
       "      <th>...</th>\n",
       "      <td>...</td>\n",
       "      <td>...</td>\n",
       "      <td>...</td>\n",
       "      <td>...</td>\n",
       "      <td>...</td>\n",
       "      <td>...</td>\n",
       "      <td>...</td>\n",
       "      <td>...</td>\n",
       "      <td>...</td>\n",
       "      <td>...</td>\n",
       "      <td>...</td>\n",
       "      <td>...</td>\n",
       "    </tr>\n",
       "    <tr>\n",
       "      <th>74192</th>\n",
       "      <td>2019-11-03 23:46:47.068179</td>\n",
       "      <td>map</td>\n",
       "      <td>d157bffc-264d-4464-8220-1cc0c42f43a9</td>\n",
       "      <td>2019-11-03 23:46:47</td>\n",
       "      <td>google</td>\n",
       "      <td>2019-11-03 23:46:47</td>\n",
       "      <td>2019-10-31</td>\n",
       "      <td>2019-10-31</td>\n",
       "      <td>0</td>\n",
       "      <td>NaT</td>\n",
       "      <td>NaT</td>\n",
       "      <td>1.0</td>\n",
       "    </tr>\n",
       "    <tr>\n",
       "      <th>74193</th>\n",
       "      <td>2019-11-03 23:46:58.914787</td>\n",
       "      <td>advert_open</td>\n",
       "      <td>d157bffc-264d-4464-8220-1cc0c42f43a9</td>\n",
       "      <td>2019-11-03 23:46:58</td>\n",
       "      <td>google</td>\n",
       "      <td>2019-11-03 23:46:47</td>\n",
       "      <td>2019-10-31</td>\n",
       "      <td>2019-10-31</td>\n",
       "      <td>0</td>\n",
       "      <td>2019-11-03 23:46:47</td>\n",
       "      <td>0 days 00:00:11</td>\n",
       "      <td>1.0</td>\n",
       "    </tr>\n",
       "    <tr>\n",
       "      <th>74194</th>\n",
       "      <td>2019-11-03 23:47:01.232230</td>\n",
       "      <td>tips_show</td>\n",
       "      <td>d157bffc-264d-4464-8220-1cc0c42f43a9</td>\n",
       "      <td>2019-11-03 23:47:01</td>\n",
       "      <td>google</td>\n",
       "      <td>2019-11-03 23:46:47</td>\n",
       "      <td>2019-10-31</td>\n",
       "      <td>2019-10-31</td>\n",
       "      <td>0</td>\n",
       "      <td>2019-11-03 23:46:58</td>\n",
       "      <td>0 days 00:00:03</td>\n",
       "      <td>1.0</td>\n",
       "    </tr>\n",
       "    <tr>\n",
       "      <th>74195</th>\n",
       "      <td>2019-11-03 23:47:47.475102</td>\n",
       "      <td>advert_open</td>\n",
       "      <td>d157bffc-264d-4464-8220-1cc0c42f43a9</td>\n",
       "      <td>2019-11-03 23:47:47</td>\n",
       "      <td>google</td>\n",
       "      <td>2019-11-03 23:46:47</td>\n",
       "      <td>2019-10-31</td>\n",
       "      <td>2019-10-31</td>\n",
       "      <td>0</td>\n",
       "      <td>2019-11-03 23:47:01</td>\n",
       "      <td>0 days 00:00:46</td>\n",
       "      <td>1.0</td>\n",
       "    </tr>\n",
       "    <tr>\n",
       "      <th>74196</th>\n",
       "      <td>2019-11-03 23:47:50.087645</td>\n",
       "      <td>tips_show</td>\n",
       "      <td>d157bffc-264d-4464-8220-1cc0c42f43a9</td>\n",
       "      <td>2019-11-03 23:47:50</td>\n",
       "      <td>google</td>\n",
       "      <td>2019-11-03 23:46:47</td>\n",
       "      <td>2019-10-31</td>\n",
       "      <td>2019-10-31</td>\n",
       "      <td>0</td>\n",
       "      <td>2019-11-03 23:47:47</td>\n",
       "      <td>0 days 00:00:03</td>\n",
       "      <td>1.0</td>\n",
       "    </tr>\n",
       "  </tbody>\n",
       "</table>\n",
       "<p>74197 rows × 12 columns</p>\n",
       "</div>"
      ],
      "text/plain": [
       "                      event_time   event_name  \\\n",
       "0     2019-10-07 00:00:00.431357  advert_open   \n",
       "1     2019-10-07 00:00:01.236320    tips_show   \n",
       "2     2019-10-07 00:00:07.039334    tips_show   \n",
       "3     2019-10-07 00:01:27.770232  advert_open   \n",
       "4     2019-10-07 00:01:34.804591    tips_show   \n",
       "...                          ...          ...   \n",
       "74192 2019-11-03 23:46:47.068179          map   \n",
       "74193 2019-11-03 23:46:58.914787  advert_open   \n",
       "74194 2019-11-03 23:47:01.232230    tips_show   \n",
       "74195 2019-11-03 23:47:47.475102  advert_open   \n",
       "74196 2019-11-03 23:47:50.087645    tips_show   \n",
       "\n",
       "                                    user_id      event_time_sec  source  \\\n",
       "0      020292ab-89bc-4156-9acf-68bc2783f894 2019-10-07 00:00:00   other   \n",
       "1      020292ab-89bc-4156-9acf-68bc2783f894 2019-10-07 00:00:01   other   \n",
       "2      020292ab-89bc-4156-9acf-68bc2783f894 2019-10-07 00:00:07   other   \n",
       "3      020292ab-89bc-4156-9acf-68bc2783f894 2019-10-07 00:01:27   other   \n",
       "4      020292ab-89bc-4156-9acf-68bc2783f894 2019-10-07 00:01:34   other   \n",
       "...                                     ...                 ...     ...   \n",
       "74192  d157bffc-264d-4464-8220-1cc0c42f43a9 2019-11-03 23:46:47  google   \n",
       "74193  d157bffc-264d-4464-8220-1cc0c42f43a9 2019-11-03 23:46:58  google   \n",
       "74194  d157bffc-264d-4464-8220-1cc0c42f43a9 2019-11-03 23:47:01  google   \n",
       "74195  d157bffc-264d-4464-8220-1cc0c42f43a9 2019-11-03 23:47:47  google   \n",
       "74196  d157bffc-264d-4464-8220-1cc0c42f43a9 2019-11-03 23:47:50  google   \n",
       "\n",
       "      first_activity_date activity_week first_activity_week  cohort_lifetime  \\\n",
       "0     2019-10-07 00:00:00    2019-10-03          2019-10-03                0   \n",
       "1     2019-10-07 00:00:00    2019-10-03          2019-10-03                0   \n",
       "2     2019-10-07 00:00:00    2019-10-03          2019-10-03                0   \n",
       "3     2019-10-07 00:00:00    2019-10-03          2019-10-03                0   \n",
       "4     2019-10-07 00:00:00    2019-10-03          2019-10-03                0   \n",
       "...                   ...           ...                 ...              ...   \n",
       "74192 2019-11-03 23:46:47    2019-10-31          2019-10-31                0   \n",
       "74193 2019-11-03 23:46:47    2019-10-31          2019-10-31                0   \n",
       "74194 2019-11-03 23:46:47    2019-10-31          2019-10-31                0   \n",
       "74195 2019-11-03 23:46:47    2019-10-31          2019-10-31                0   \n",
       "74196 2019-11-03 23:46:47    2019-10-31          2019-10-31                0   \n",
       "\n",
       "          pre_action_time  active_session  session_num  \n",
       "0                     NaT             NaT          1.0  \n",
       "1     2019-10-07 00:00:00 0 days 00:00:01          1.0  \n",
       "2     2019-10-07 00:00:01 0 days 00:00:06          1.0  \n",
       "3     2019-10-07 00:00:07 0 days 00:01:20          1.0  \n",
       "4     2019-10-07 00:01:27 0 days 00:00:07          1.0  \n",
       "...                   ...             ...          ...  \n",
       "74192                 NaT             NaT          1.0  \n",
       "74193 2019-11-03 23:46:47 0 days 00:00:11          1.0  \n",
       "74194 2019-11-03 23:46:58 0 days 00:00:03          1.0  \n",
       "74195 2019-11-03 23:47:01 0 days 00:00:46          1.0  \n",
       "74196 2019-11-03 23:47:47 0 days 00:00:03          1.0  \n",
       "\n",
       "[74197 rows x 12 columns]"
      ]
     },
     "execution_count": 38,
     "metadata": {},
     "output_type": "execute_result"
    }
   ],
   "source": [
    "#фильтруем столбец \"active_session\" следующим образом - если промежуток между действиями больше 30 минут - заменяем его на NaN\n",
    "full_mobile_df['active_session'].loc[(full_mobile_df['active_session'] > pd.Timedelta(30,'m'))] = np.nan\n",
    "full_mobile_df"
   ]
  },
  {
   "cell_type": "code",
   "execution_count": 39,
   "metadata": {},
   "outputs": [],
   "source": [
    "#NaNы заменим на 0,чтобы при суммировании не возникло проблем\n",
    "full_mobile_df['active_session'].fillna('0',inplace=True)"
   ]
  },
  {
   "cell_type": "markdown",
   "metadata": {},
   "source": [
    "Построим сводную таблицу **num_session_grouped**, где сгруппируем данные по пользователям и номеру сессии и просуммируем время, проведенное в приложении:"
   ]
  },
  {
   "cell_type": "code",
   "execution_count": 40,
   "metadata": {},
   "outputs": [
    {
     "ename": "AssertionError",
     "evalue": "",
     "output_type": "error",
     "traceback": [
      "\u001b[0;31m---------------------------------------------------------------------------\u001b[0m",
      "\u001b[0;31mAssertionError\u001b[0m                            Traceback (most recent call last)",
      "\u001b[0;32m<ipython-input-40-15aaed142638>\u001b[0m in \u001b[0;36m<module>\u001b[0;34m\u001b[0m\n\u001b[0;32m----> 1\u001b[0;31m \u001b[0mnum_session_grouped\u001b[0m \u001b[0;34m=\u001b[0m \u001b[0mfull_mobile_df\u001b[0m\u001b[0;34m.\u001b[0m\u001b[0mpivot_table\u001b[0m\u001b[0;34m(\u001b[0m\u001b[0mindex\u001b[0m \u001b[0;34m=\u001b[0m \u001b[0;34m[\u001b[0m\u001b[0;34m'user_id'\u001b[0m\u001b[0;34m,\u001b[0m\u001b[0;34m'session_num'\u001b[0m\u001b[0;34m]\u001b[0m\u001b[0;34m,\u001b[0m \u001b[0mvalues\u001b[0m \u001b[0;34m=\u001b[0m\u001b[0;34m'active_session'\u001b[0m\u001b[0;34m,\u001b[0m \u001b[0maggfunc\u001b[0m \u001b[0;34m=\u001b[0m\u001b[0;34m'sum'\u001b[0m\u001b[0;34m)\u001b[0m\u001b[0;34m.\u001b[0m\u001b[0mreset_index\u001b[0m\u001b[0;34m(\u001b[0m\u001b[0;34m)\u001b[0m\u001b[0;34m\u001b[0m\u001b[0;34m\u001b[0m\u001b[0m\n\u001b[0m\u001b[1;32m      2\u001b[0m \u001b[0mnum_session_grouped\u001b[0m\u001b[0;34m\u001b[0m\u001b[0;34m\u001b[0m\u001b[0m\n",
      "\u001b[0;32m~/anaconda3/lib/python3.8/site-packages/pandas/core/frame.py\u001b[0m in \u001b[0;36mpivot_table\u001b[0;34m(self, values, index, columns, aggfunc, fill_value, margins, dropna, margins_name, observed)\u001b[0m\n\u001b[1;32m   6820\u001b[0m         \u001b[0;32mfrom\u001b[0m \u001b[0mpandas\u001b[0m\u001b[0;34m.\u001b[0m\u001b[0mcore\u001b[0m\u001b[0;34m.\u001b[0m\u001b[0mreshape\u001b[0m\u001b[0;34m.\u001b[0m\u001b[0mpivot\u001b[0m \u001b[0;32mimport\u001b[0m \u001b[0mpivot_table\u001b[0m\u001b[0;34m\u001b[0m\u001b[0;34m\u001b[0m\u001b[0m\n\u001b[1;32m   6821\u001b[0m \u001b[0;34m\u001b[0m\u001b[0m\n\u001b[0;32m-> 6822\u001b[0;31m         return pivot_table(\n\u001b[0m\u001b[1;32m   6823\u001b[0m             \u001b[0mself\u001b[0m\u001b[0;34m,\u001b[0m\u001b[0;34m\u001b[0m\u001b[0;34m\u001b[0m\u001b[0m\n\u001b[1;32m   6824\u001b[0m             \u001b[0mvalues\u001b[0m\u001b[0;34m=\u001b[0m\u001b[0mvalues\u001b[0m\u001b[0;34m,\u001b[0m\u001b[0;34m\u001b[0m\u001b[0;34m\u001b[0m\u001b[0m\n",
      "\u001b[0;32m~/anaconda3/lib/python3.8/site-packages/pandas/core/reshape/pivot.py\u001b[0m in \u001b[0;36mpivot_table\u001b[0;34m(data, values, index, columns, aggfunc, fill_value, margins, dropna, margins_name, observed)\u001b[0m\n\u001b[1;32m    110\u001b[0m \u001b[0;34m\u001b[0m\u001b[0m\n\u001b[1;32m    111\u001b[0m     \u001b[0mgrouped\u001b[0m \u001b[0;34m=\u001b[0m \u001b[0mdata\u001b[0m\u001b[0;34m.\u001b[0m\u001b[0mgroupby\u001b[0m\u001b[0;34m(\u001b[0m\u001b[0mkeys\u001b[0m\u001b[0;34m,\u001b[0m \u001b[0mobserved\u001b[0m\u001b[0;34m=\u001b[0m\u001b[0mobserved\u001b[0m\u001b[0;34m)\u001b[0m\u001b[0;34m\u001b[0m\u001b[0;34m\u001b[0m\u001b[0m\n\u001b[0;32m--> 112\u001b[0;31m     \u001b[0magged\u001b[0m \u001b[0;34m=\u001b[0m \u001b[0mgrouped\u001b[0m\u001b[0;34m.\u001b[0m\u001b[0magg\u001b[0m\u001b[0;34m(\u001b[0m\u001b[0maggfunc\u001b[0m\u001b[0;34m)\u001b[0m\u001b[0;34m\u001b[0m\u001b[0;34m\u001b[0m\u001b[0m\n\u001b[0m\u001b[1;32m    113\u001b[0m     \u001b[0;32mif\u001b[0m \u001b[0mdropna\u001b[0m \u001b[0;32mand\u001b[0m \u001b[0misinstance\u001b[0m\u001b[0;34m(\u001b[0m\u001b[0magged\u001b[0m\u001b[0;34m,\u001b[0m \u001b[0mABCDataFrame\u001b[0m\u001b[0;34m)\u001b[0m \u001b[0;32mand\u001b[0m \u001b[0mlen\u001b[0m\u001b[0;34m(\u001b[0m\u001b[0magged\u001b[0m\u001b[0;34m.\u001b[0m\u001b[0mcolumns\u001b[0m\u001b[0;34m)\u001b[0m\u001b[0;34m:\u001b[0m\u001b[0;34m\u001b[0m\u001b[0;34m\u001b[0m\u001b[0m\n\u001b[1;32m    114\u001b[0m         \u001b[0magged\u001b[0m \u001b[0;34m=\u001b[0m \u001b[0magged\u001b[0m\u001b[0;34m.\u001b[0m\u001b[0mdropna\u001b[0m\u001b[0;34m(\u001b[0m\u001b[0mhow\u001b[0m\u001b[0;34m=\u001b[0m\u001b[0;34m\"all\"\u001b[0m\u001b[0;34m)\u001b[0m\u001b[0;34m\u001b[0m\u001b[0;34m\u001b[0m\u001b[0m\n",
      "\u001b[0;32m~/anaconda3/lib/python3.8/site-packages/pandas/core/groupby/generic.py\u001b[0m in \u001b[0;36maggregate\u001b[0;34m(self, func, engine, engine_kwargs, *args, **kwargs)\u001b[0m\n\u001b[1;32m    949\u001b[0m         \u001b[0mfunc\u001b[0m \u001b[0;34m=\u001b[0m \u001b[0mmaybe_mangle_lambdas\u001b[0m\u001b[0;34m(\u001b[0m\u001b[0mfunc\u001b[0m\u001b[0;34m)\u001b[0m\u001b[0;34m\u001b[0m\u001b[0;34m\u001b[0m\u001b[0m\n\u001b[1;32m    950\u001b[0m \u001b[0;34m\u001b[0m\u001b[0m\n\u001b[0;32m--> 951\u001b[0;31m         \u001b[0mresult\u001b[0m\u001b[0;34m,\u001b[0m \u001b[0mhow\u001b[0m \u001b[0;34m=\u001b[0m \u001b[0mself\u001b[0m\u001b[0;34m.\u001b[0m\u001b[0m_aggregate\u001b[0m\u001b[0;34m(\u001b[0m\u001b[0mfunc\u001b[0m\u001b[0;34m,\u001b[0m \u001b[0;34m*\u001b[0m\u001b[0margs\u001b[0m\u001b[0;34m,\u001b[0m \u001b[0;34m**\u001b[0m\u001b[0mkwargs\u001b[0m\u001b[0;34m)\u001b[0m\u001b[0;34m\u001b[0m\u001b[0;34m\u001b[0m\u001b[0m\n\u001b[0m\u001b[1;32m    952\u001b[0m         \u001b[0;32mif\u001b[0m \u001b[0mhow\u001b[0m \u001b[0;32mis\u001b[0m \u001b[0;32mNone\u001b[0m\u001b[0;34m:\u001b[0m\u001b[0;34m\u001b[0m\u001b[0;34m\u001b[0m\u001b[0m\n\u001b[1;32m    953\u001b[0m             \u001b[0;32mreturn\u001b[0m \u001b[0mresult\u001b[0m\u001b[0;34m\u001b[0m\u001b[0;34m\u001b[0m\u001b[0m\n",
      "\u001b[0;32m~/anaconda3/lib/python3.8/site-packages/pandas/core/base.py\u001b[0m in \u001b[0;36m_aggregate\u001b[0;34m(self, arg, *args, **kwargs)\u001b[0m\n\u001b[1;32m    305\u001b[0m \u001b[0;34m\u001b[0m\u001b[0m\n\u001b[1;32m    306\u001b[0m         \u001b[0;32mif\u001b[0m \u001b[0misinstance\u001b[0m\u001b[0;34m(\u001b[0m\u001b[0marg\u001b[0m\u001b[0;34m,\u001b[0m \u001b[0mstr\u001b[0m\u001b[0;34m)\u001b[0m\u001b[0;34m:\u001b[0m\u001b[0;34m\u001b[0m\u001b[0;34m\u001b[0m\u001b[0m\n\u001b[0;32m--> 307\u001b[0;31m             \u001b[0;32mreturn\u001b[0m \u001b[0mself\u001b[0m\u001b[0;34m.\u001b[0m\u001b[0m_try_aggregate_string_function\u001b[0m\u001b[0;34m(\u001b[0m\u001b[0marg\u001b[0m\u001b[0;34m,\u001b[0m \u001b[0;34m*\u001b[0m\u001b[0margs\u001b[0m\u001b[0;34m,\u001b[0m \u001b[0;34m**\u001b[0m\u001b[0mkwargs\u001b[0m\u001b[0;34m)\u001b[0m\u001b[0;34m,\u001b[0m \u001b[0;32mNone\u001b[0m\u001b[0;34m\u001b[0m\u001b[0;34m\u001b[0m\u001b[0m\n\u001b[0m\u001b[1;32m    308\u001b[0m \u001b[0;34m\u001b[0m\u001b[0m\n\u001b[1;32m    309\u001b[0m         \u001b[0;32mif\u001b[0m \u001b[0misinstance\u001b[0m\u001b[0;34m(\u001b[0m\u001b[0marg\u001b[0m\u001b[0;34m,\u001b[0m \u001b[0mdict\u001b[0m\u001b[0;34m)\u001b[0m\u001b[0;34m:\u001b[0m\u001b[0;34m\u001b[0m\u001b[0;34m\u001b[0m\u001b[0m\n",
      "\u001b[0;32m~/anaconda3/lib/python3.8/site-packages/pandas/core/base.py\u001b[0m in \u001b[0;36m_try_aggregate_string_function\u001b[0;34m(self, arg, *args, **kwargs)\u001b[0m\n\u001b[1;32m    261\u001b[0m         \u001b[0;32mif\u001b[0m \u001b[0mf\u001b[0m \u001b[0;32mis\u001b[0m \u001b[0;32mnot\u001b[0m \u001b[0;32mNone\u001b[0m\u001b[0;34m:\u001b[0m\u001b[0;34m\u001b[0m\u001b[0;34m\u001b[0m\u001b[0m\n\u001b[1;32m    262\u001b[0m             \u001b[0;32mif\u001b[0m \u001b[0mcallable\u001b[0m\u001b[0;34m(\u001b[0m\u001b[0mf\u001b[0m\u001b[0;34m)\u001b[0m\u001b[0;34m:\u001b[0m\u001b[0;34m\u001b[0m\u001b[0;34m\u001b[0m\u001b[0m\n\u001b[0;32m--> 263\u001b[0;31m                 \u001b[0;32mreturn\u001b[0m \u001b[0mf\u001b[0m\u001b[0;34m(\u001b[0m\u001b[0;34m*\u001b[0m\u001b[0margs\u001b[0m\u001b[0;34m,\u001b[0m \u001b[0;34m**\u001b[0m\u001b[0mkwargs\u001b[0m\u001b[0;34m)\u001b[0m\u001b[0;34m\u001b[0m\u001b[0;34m\u001b[0m\u001b[0m\n\u001b[0m\u001b[1;32m    264\u001b[0m \u001b[0;34m\u001b[0m\u001b[0m\n\u001b[1;32m    265\u001b[0m             \u001b[0;31m# people may try to aggregate on a non-callable attribute\u001b[0m\u001b[0;34m\u001b[0m\u001b[0;34m\u001b[0m\u001b[0;34m\u001b[0m\u001b[0m\n",
      "\u001b[0;32m~/anaconda3/lib/python3.8/site-packages/pandas/core/groupby/groupby.py\u001b[0m in \u001b[0;36msum\u001b[0;34m(self, numeric_only, min_count)\u001b[0m\n\u001b[1;32m   1537\u001b[0m     \u001b[0;34m@\u001b[0m\u001b[0mdoc\u001b[0m\u001b[0;34m(\u001b[0m\u001b[0m_groupby_agg_method_template\u001b[0m\u001b[0;34m,\u001b[0m \u001b[0mfname\u001b[0m\u001b[0;34m=\u001b[0m\u001b[0;34m\"sum\"\u001b[0m\u001b[0;34m,\u001b[0m \u001b[0mno\u001b[0m\u001b[0;34m=\u001b[0m\u001b[0;32mTrue\u001b[0m\u001b[0;34m,\u001b[0m \u001b[0mmc\u001b[0m\u001b[0;34m=\u001b[0m\u001b[0;36m0\u001b[0m\u001b[0;34m)\u001b[0m\u001b[0;34m\u001b[0m\u001b[0;34m\u001b[0m\u001b[0m\n\u001b[1;32m   1538\u001b[0m     \u001b[0;32mdef\u001b[0m \u001b[0msum\u001b[0m\u001b[0;34m(\u001b[0m\u001b[0mself\u001b[0m\u001b[0;34m,\u001b[0m \u001b[0mnumeric_only\u001b[0m\u001b[0;34m:\u001b[0m \u001b[0mbool\u001b[0m \u001b[0;34m=\u001b[0m \u001b[0;32mTrue\u001b[0m\u001b[0;34m,\u001b[0m \u001b[0mmin_count\u001b[0m\u001b[0;34m:\u001b[0m \u001b[0mint\u001b[0m \u001b[0;34m=\u001b[0m \u001b[0;36m0\u001b[0m\u001b[0;34m)\u001b[0m\u001b[0;34m:\u001b[0m\u001b[0;34m\u001b[0m\u001b[0;34m\u001b[0m\u001b[0m\n\u001b[0;32m-> 1539\u001b[0;31m         return self._agg_general(\n\u001b[0m\u001b[1;32m   1540\u001b[0m             \u001b[0mnumeric_only\u001b[0m\u001b[0;34m=\u001b[0m\u001b[0mnumeric_only\u001b[0m\u001b[0;34m,\u001b[0m \u001b[0mmin_count\u001b[0m\u001b[0;34m=\u001b[0m\u001b[0mmin_count\u001b[0m\u001b[0;34m,\u001b[0m \u001b[0malias\u001b[0m\u001b[0;34m=\u001b[0m\u001b[0;34m\"add\"\u001b[0m\u001b[0;34m,\u001b[0m \u001b[0mnpfunc\u001b[0m\u001b[0;34m=\u001b[0m\u001b[0mnp\u001b[0m\u001b[0;34m.\u001b[0m\u001b[0msum\u001b[0m\u001b[0;34m\u001b[0m\u001b[0;34m\u001b[0m\u001b[0m\n\u001b[1;32m   1541\u001b[0m         )\n",
      "\u001b[0;32m~/anaconda3/lib/python3.8/site-packages/pandas/core/groupby/groupby.py\u001b[0m in \u001b[0;36m_agg_general\u001b[0;34m(self, numeric_only, min_count, alias, npfunc)\u001b[0m\n\u001b[1;32m   1013\u001b[0m \u001b[0;34m\u001b[0m\u001b[0m\n\u001b[1;32m   1014\u001b[0m         \u001b[0;31m# apply a non-cython aggregation\u001b[0m\u001b[0;34m\u001b[0m\u001b[0;34m\u001b[0m\u001b[0;34m\u001b[0m\u001b[0m\n\u001b[0;32m-> 1015\u001b[0;31m         \u001b[0mresult\u001b[0m \u001b[0;34m=\u001b[0m \u001b[0mself\u001b[0m\u001b[0;34m.\u001b[0m\u001b[0maggregate\u001b[0m\u001b[0;34m(\u001b[0m\u001b[0;32mlambda\u001b[0m \u001b[0mx\u001b[0m\u001b[0;34m:\u001b[0m \u001b[0mnpfunc\u001b[0m\u001b[0;34m(\u001b[0m\u001b[0mx\u001b[0m\u001b[0;34m,\u001b[0m \u001b[0maxis\u001b[0m\u001b[0;34m=\u001b[0m\u001b[0mself\u001b[0m\u001b[0;34m.\u001b[0m\u001b[0maxis\u001b[0m\u001b[0;34m)\u001b[0m\u001b[0;34m)\u001b[0m\u001b[0;34m\u001b[0m\u001b[0;34m\u001b[0m\u001b[0m\n\u001b[0m\u001b[1;32m   1016\u001b[0m         \u001b[0;32mreturn\u001b[0m \u001b[0mresult\u001b[0m\u001b[0;34m\u001b[0m\u001b[0;34m\u001b[0m\u001b[0m\n\u001b[1;32m   1017\u001b[0m \u001b[0;34m\u001b[0m\u001b[0m\n",
      "\u001b[0;32m~/anaconda3/lib/python3.8/site-packages/pandas/core/groupby/generic.py\u001b[0m in \u001b[0;36maggregate\u001b[0;34m(self, func, engine, engine_kwargs, *args, **kwargs)\u001b[0m\n\u001b[1;32m    957\u001b[0m             \u001b[0;31m# grouper specific aggregations\u001b[0m\u001b[0;34m\u001b[0m\u001b[0;34m\u001b[0m\u001b[0;34m\u001b[0m\u001b[0m\n\u001b[1;32m    958\u001b[0m             \u001b[0;32mif\u001b[0m \u001b[0mself\u001b[0m\u001b[0;34m.\u001b[0m\u001b[0mgrouper\u001b[0m\u001b[0;34m.\u001b[0m\u001b[0mnkeys\u001b[0m \u001b[0;34m>\u001b[0m \u001b[0;36m1\u001b[0m\u001b[0;34m:\u001b[0m\u001b[0;34m\u001b[0m\u001b[0;34m\u001b[0m\u001b[0m\n\u001b[0;32m--> 959\u001b[0;31m                 \u001b[0;32mreturn\u001b[0m \u001b[0mself\u001b[0m\u001b[0;34m.\u001b[0m\u001b[0m_python_agg_general\u001b[0m\u001b[0;34m(\u001b[0m\u001b[0mfunc\u001b[0m\u001b[0;34m,\u001b[0m \u001b[0;34m*\u001b[0m\u001b[0margs\u001b[0m\u001b[0;34m,\u001b[0m \u001b[0;34m**\u001b[0m\u001b[0mkwargs\u001b[0m\u001b[0;34m)\u001b[0m\u001b[0;34m\u001b[0m\u001b[0;34m\u001b[0m\u001b[0m\n\u001b[0m\u001b[1;32m    960\u001b[0m             \u001b[0;32melif\u001b[0m \u001b[0margs\u001b[0m \u001b[0;32mor\u001b[0m \u001b[0mkwargs\u001b[0m\u001b[0;34m:\u001b[0m\u001b[0;34m\u001b[0m\u001b[0;34m\u001b[0m\u001b[0m\n\u001b[1;32m    961\u001b[0m                 \u001b[0mresult\u001b[0m \u001b[0;34m=\u001b[0m \u001b[0mself\u001b[0m\u001b[0;34m.\u001b[0m\u001b[0m_aggregate_frame\u001b[0m\u001b[0;34m(\u001b[0m\u001b[0mfunc\u001b[0m\u001b[0;34m,\u001b[0m \u001b[0;34m*\u001b[0m\u001b[0margs\u001b[0m\u001b[0;34m,\u001b[0m \u001b[0;34m**\u001b[0m\u001b[0mkwargs\u001b[0m\u001b[0;34m)\u001b[0m\u001b[0;34m\u001b[0m\u001b[0;34m\u001b[0m\u001b[0m\n",
      "\u001b[0;32m~/anaconda3/lib/python3.8/site-packages/pandas/core/groupby/groupby.py\u001b[0m in \u001b[0;36m_python_agg_general\u001b[0;34m(self, func, engine, engine_kwargs, *args, **kwargs)\u001b[0m\n\u001b[1;32m   1081\u001b[0m                 \u001b[0;32mtry\u001b[0m\u001b[0;34m:\u001b[0m\u001b[0;34m\u001b[0m\u001b[0;34m\u001b[0m\u001b[0m\n\u001b[1;32m   1082\u001b[0m                     \u001b[0;31m# if this function is invalid for this dtype, we will ignore it.\u001b[0m\u001b[0;34m\u001b[0m\u001b[0;34m\u001b[0m\u001b[0;34m\u001b[0m\u001b[0m\n\u001b[0;32m-> 1083\u001b[0;31m                     \u001b[0mresult\u001b[0m\u001b[0;34m,\u001b[0m \u001b[0mcounts\u001b[0m \u001b[0;34m=\u001b[0m \u001b[0mself\u001b[0m\u001b[0;34m.\u001b[0m\u001b[0mgrouper\u001b[0m\u001b[0;34m.\u001b[0m\u001b[0magg_series\u001b[0m\u001b[0;34m(\u001b[0m\u001b[0mobj\u001b[0m\u001b[0;34m,\u001b[0m \u001b[0mf\u001b[0m\u001b[0;34m)\u001b[0m\u001b[0;34m\u001b[0m\u001b[0;34m\u001b[0m\u001b[0m\n\u001b[0m\u001b[1;32m   1084\u001b[0m                 \u001b[0;32mexcept\u001b[0m \u001b[0mTypeError\u001b[0m\u001b[0;34m:\u001b[0m\u001b[0;34m\u001b[0m\u001b[0;34m\u001b[0m\u001b[0m\n\u001b[1;32m   1085\u001b[0m                     \u001b[0;32mcontinue\u001b[0m\u001b[0;34m\u001b[0m\u001b[0;34m\u001b[0m\u001b[0m\n",
      "\u001b[0;32m~/anaconda3/lib/python3.8/site-packages/pandas/core/groupby/ops.py\u001b[0m in \u001b[0;36magg_series\u001b[0;34m(self, obj, func, engine, engine_kwargs, *args, **kwargs)\u001b[0m\n\u001b[1;32m    642\u001b[0m \u001b[0;34m\u001b[0m\u001b[0m\n\u001b[1;32m    643\u001b[0m         \u001b[0;32mtry\u001b[0m\u001b[0;34m:\u001b[0m\u001b[0;34m\u001b[0m\u001b[0;34m\u001b[0m\u001b[0m\n\u001b[0;32m--> 644\u001b[0;31m             \u001b[0;32mreturn\u001b[0m \u001b[0mself\u001b[0m\u001b[0;34m.\u001b[0m\u001b[0m_aggregate_series_fast\u001b[0m\u001b[0;34m(\u001b[0m\u001b[0mobj\u001b[0m\u001b[0;34m,\u001b[0m \u001b[0mfunc\u001b[0m\u001b[0;34m)\u001b[0m\u001b[0;34m\u001b[0m\u001b[0;34m\u001b[0m\u001b[0m\n\u001b[0m\u001b[1;32m    645\u001b[0m         \u001b[0;32mexcept\u001b[0m \u001b[0mValueError\u001b[0m \u001b[0;32mas\u001b[0m \u001b[0merr\u001b[0m\u001b[0;34m:\u001b[0m\u001b[0;34m\u001b[0m\u001b[0;34m\u001b[0m\u001b[0m\n\u001b[1;32m    646\u001b[0m             \u001b[0;32mif\u001b[0m \u001b[0;34m\"Function does not reduce\"\u001b[0m \u001b[0;32min\u001b[0m \u001b[0mstr\u001b[0m\u001b[0;34m(\u001b[0m\u001b[0merr\u001b[0m\u001b[0;34m)\u001b[0m\u001b[0;34m:\u001b[0m\u001b[0;34m\u001b[0m\u001b[0;34m\u001b[0m\u001b[0m\n",
      "\u001b[0;32m~/anaconda3/lib/python3.8/site-packages/pandas/core/groupby/ops.py\u001b[0m in \u001b[0;36m_aggregate_series_fast\u001b[0;34m(self, obj, func)\u001b[0m\n\u001b[1;32m    667\u001b[0m         \u001b[0mgroup_index\u001b[0m \u001b[0;34m=\u001b[0m \u001b[0malgorithms\u001b[0m\u001b[0;34m.\u001b[0m\u001b[0mtake_nd\u001b[0m\u001b[0;34m(\u001b[0m\u001b[0mgroup_index\u001b[0m\u001b[0;34m,\u001b[0m \u001b[0mindexer\u001b[0m\u001b[0;34m,\u001b[0m \u001b[0mallow_fill\u001b[0m\u001b[0;34m=\u001b[0m\u001b[0;32mFalse\u001b[0m\u001b[0;34m)\u001b[0m\u001b[0;34m\u001b[0m\u001b[0;34m\u001b[0m\u001b[0m\n\u001b[1;32m    668\u001b[0m         \u001b[0mgrouper\u001b[0m \u001b[0;34m=\u001b[0m \u001b[0mlibreduction\u001b[0m\u001b[0;34m.\u001b[0m\u001b[0mSeriesGrouper\u001b[0m\u001b[0;34m(\u001b[0m\u001b[0mobj\u001b[0m\u001b[0;34m,\u001b[0m \u001b[0mfunc\u001b[0m\u001b[0;34m,\u001b[0m \u001b[0mgroup_index\u001b[0m\u001b[0;34m,\u001b[0m \u001b[0mngroups\u001b[0m\u001b[0;34m,\u001b[0m \u001b[0mdummy\u001b[0m\u001b[0;34m)\u001b[0m\u001b[0;34m\u001b[0m\u001b[0;34m\u001b[0m\u001b[0m\n\u001b[0;32m--> 669\u001b[0;31m         \u001b[0mresult\u001b[0m\u001b[0;34m,\u001b[0m \u001b[0mcounts\u001b[0m \u001b[0;34m=\u001b[0m \u001b[0mgrouper\u001b[0m\u001b[0;34m.\u001b[0m\u001b[0mget_result\u001b[0m\u001b[0;34m(\u001b[0m\u001b[0;34m)\u001b[0m\u001b[0;34m\u001b[0m\u001b[0;34m\u001b[0m\u001b[0m\n\u001b[0m\u001b[1;32m    670\u001b[0m         \u001b[0;32mreturn\u001b[0m \u001b[0mresult\u001b[0m\u001b[0;34m,\u001b[0m \u001b[0mcounts\u001b[0m\u001b[0;34m\u001b[0m\u001b[0;34m\u001b[0m\u001b[0m\n\u001b[1;32m    671\u001b[0m \u001b[0;34m\u001b[0m\u001b[0m\n",
      "\u001b[0;32mpandas/_libs/reduction.pyx\u001b[0m in \u001b[0;36mpandas._libs.reduction.SeriesGrouper.get_result\u001b[0;34m()\u001b[0m\n",
      "\u001b[0;32mpandas/_libs/reduction.pyx\u001b[0m in \u001b[0;36mpandas._libs.reduction._BaseGrouper._apply_to_group\u001b[0;34m()\u001b[0m\n",
      "\u001b[0;32m~/anaconda3/lib/python3.8/site-packages/pandas/core/groupby/groupby.py\u001b[0m in \u001b[0;36m<lambda>\u001b[0;34m(x)\u001b[0m\n\u001b[1;32m   1058\u001b[0m         \u001b[0mfunc\u001b[0m \u001b[0;34m=\u001b[0m \u001b[0mself\u001b[0m\u001b[0;34m.\u001b[0m\u001b[0m_is_builtin_func\u001b[0m\u001b[0;34m(\u001b[0m\u001b[0mfunc\u001b[0m\u001b[0;34m)\u001b[0m\u001b[0;34m\u001b[0m\u001b[0;34m\u001b[0m\u001b[0m\n\u001b[1;32m   1059\u001b[0m         \u001b[0;32mif\u001b[0m \u001b[0mengine\u001b[0m \u001b[0;34m!=\u001b[0m \u001b[0;34m\"numba\"\u001b[0m\u001b[0;34m:\u001b[0m\u001b[0;34m\u001b[0m\u001b[0;34m\u001b[0m\u001b[0m\n\u001b[0;32m-> 1060\u001b[0;31m             \u001b[0mf\u001b[0m \u001b[0;34m=\u001b[0m \u001b[0;32mlambda\u001b[0m \u001b[0mx\u001b[0m\u001b[0;34m:\u001b[0m \u001b[0mfunc\u001b[0m\u001b[0;34m(\u001b[0m\u001b[0mx\u001b[0m\u001b[0;34m,\u001b[0m \u001b[0;34m*\u001b[0m\u001b[0margs\u001b[0m\u001b[0;34m,\u001b[0m \u001b[0;34m**\u001b[0m\u001b[0mkwargs\u001b[0m\u001b[0;34m)\u001b[0m\u001b[0;34m\u001b[0m\u001b[0;34m\u001b[0m\u001b[0m\n\u001b[0m\u001b[1;32m   1061\u001b[0m \u001b[0;34m\u001b[0m\u001b[0m\n\u001b[1;32m   1062\u001b[0m         \u001b[0;31m# iterate through \"columns\" ex exclusions to populate output dict\u001b[0m\u001b[0;34m\u001b[0m\u001b[0;34m\u001b[0m\u001b[0;34m\u001b[0m\u001b[0m\n",
      "\u001b[0;32m~/anaconda3/lib/python3.8/site-packages/pandas/core/groupby/groupby.py\u001b[0m in \u001b[0;36m<lambda>\u001b[0;34m(x)\u001b[0m\n\u001b[1;32m   1013\u001b[0m \u001b[0;34m\u001b[0m\u001b[0m\n\u001b[1;32m   1014\u001b[0m         \u001b[0;31m# apply a non-cython aggregation\u001b[0m\u001b[0;34m\u001b[0m\u001b[0;34m\u001b[0m\u001b[0;34m\u001b[0m\u001b[0m\n\u001b[0;32m-> 1015\u001b[0;31m         \u001b[0mresult\u001b[0m \u001b[0;34m=\u001b[0m \u001b[0mself\u001b[0m\u001b[0;34m.\u001b[0m\u001b[0maggregate\u001b[0m\u001b[0;34m(\u001b[0m\u001b[0;32mlambda\u001b[0m \u001b[0mx\u001b[0m\u001b[0;34m:\u001b[0m \u001b[0mnpfunc\u001b[0m\u001b[0;34m(\u001b[0m\u001b[0mx\u001b[0m\u001b[0;34m,\u001b[0m \u001b[0maxis\u001b[0m\u001b[0;34m=\u001b[0m\u001b[0mself\u001b[0m\u001b[0;34m.\u001b[0m\u001b[0maxis\u001b[0m\u001b[0;34m)\u001b[0m\u001b[0;34m)\u001b[0m\u001b[0;34m\u001b[0m\u001b[0;34m\u001b[0m\u001b[0m\n\u001b[0m\u001b[1;32m   1016\u001b[0m         \u001b[0;32mreturn\u001b[0m \u001b[0mresult\u001b[0m\u001b[0;34m\u001b[0m\u001b[0;34m\u001b[0m\u001b[0m\n\u001b[1;32m   1017\u001b[0m \u001b[0;34m\u001b[0m\u001b[0m\n",
      "\u001b[0;32m<__array_function__ internals>\u001b[0m in \u001b[0;36msum\u001b[0;34m(*args, **kwargs)\u001b[0m\n",
      "\u001b[0;32m~/anaconda3/lib/python3.8/site-packages/numpy/core/fromnumeric.py\u001b[0m in \u001b[0;36msum\u001b[0;34m(a, axis, dtype, out, keepdims, initial, where)\u001b[0m\n\u001b[1;32m   2239\u001b[0m         \u001b[0;32mreturn\u001b[0m \u001b[0mres\u001b[0m\u001b[0;34m\u001b[0m\u001b[0;34m\u001b[0m\u001b[0m\n\u001b[1;32m   2240\u001b[0m \u001b[0;34m\u001b[0m\u001b[0m\n\u001b[0;32m-> 2241\u001b[0;31m     return _wrapreduction(a, np.add, 'sum', axis, dtype, out, keepdims=keepdims,\n\u001b[0m\u001b[1;32m   2242\u001b[0m                           initial=initial, where=where)\n\u001b[1;32m   2243\u001b[0m \u001b[0;34m\u001b[0m\u001b[0m\n",
      "\u001b[0;32m~/anaconda3/lib/python3.8/site-packages/numpy/core/fromnumeric.py\u001b[0m in \u001b[0;36m_wrapreduction\u001b[0;34m(obj, ufunc, method, axis, dtype, out, **kwargs)\u001b[0m\n\u001b[1;32m     83\u001b[0m                 \u001b[0;32mreturn\u001b[0m \u001b[0mreduction\u001b[0m\u001b[0;34m(\u001b[0m\u001b[0maxis\u001b[0m\u001b[0;34m=\u001b[0m\u001b[0maxis\u001b[0m\u001b[0;34m,\u001b[0m \u001b[0mdtype\u001b[0m\u001b[0;34m=\u001b[0m\u001b[0mdtype\u001b[0m\u001b[0;34m,\u001b[0m \u001b[0mout\u001b[0m\u001b[0;34m=\u001b[0m\u001b[0mout\u001b[0m\u001b[0;34m,\u001b[0m \u001b[0;34m**\u001b[0m\u001b[0mpasskwargs\u001b[0m\u001b[0;34m)\u001b[0m\u001b[0;34m\u001b[0m\u001b[0;34m\u001b[0m\u001b[0m\n\u001b[1;32m     84\u001b[0m             \u001b[0;32melse\u001b[0m\u001b[0;34m:\u001b[0m\u001b[0;34m\u001b[0m\u001b[0;34m\u001b[0m\u001b[0m\n\u001b[0;32m---> 85\u001b[0;31m                 \u001b[0;32mreturn\u001b[0m \u001b[0mreduction\u001b[0m\u001b[0;34m(\u001b[0m\u001b[0maxis\u001b[0m\u001b[0;34m=\u001b[0m\u001b[0maxis\u001b[0m\u001b[0;34m,\u001b[0m \u001b[0mout\u001b[0m\u001b[0;34m=\u001b[0m\u001b[0mout\u001b[0m\u001b[0;34m,\u001b[0m \u001b[0;34m**\u001b[0m\u001b[0mpasskwargs\u001b[0m\u001b[0;34m)\u001b[0m\u001b[0;34m\u001b[0m\u001b[0;34m\u001b[0m\u001b[0m\n\u001b[0m\u001b[1;32m     86\u001b[0m \u001b[0;34m\u001b[0m\u001b[0m\n\u001b[1;32m     87\u001b[0m     \u001b[0;32mreturn\u001b[0m \u001b[0mufunc\u001b[0m\u001b[0;34m.\u001b[0m\u001b[0mreduce\u001b[0m\u001b[0;34m(\u001b[0m\u001b[0mobj\u001b[0m\u001b[0;34m,\u001b[0m \u001b[0maxis\u001b[0m\u001b[0;34m,\u001b[0m \u001b[0mdtype\u001b[0m\u001b[0;34m,\u001b[0m \u001b[0mout\u001b[0m\u001b[0;34m,\u001b[0m \u001b[0;34m**\u001b[0m\u001b[0mpasskwargs\u001b[0m\u001b[0;34m)\u001b[0m\u001b[0;34m\u001b[0m\u001b[0;34m\u001b[0m\u001b[0m\n",
      "\u001b[0;32m~/anaconda3/lib/python3.8/site-packages/pandas/core/generic.py\u001b[0m in \u001b[0;36mstat_func\u001b[0;34m(self, axis, skipna, level, numeric_only, min_count, **kwargs)\u001b[0m\n\u001b[1;32m  11420\u001b[0m                 \u001b[0mname\u001b[0m\u001b[0;34m,\u001b[0m \u001b[0maxis\u001b[0m\u001b[0;34m=\u001b[0m\u001b[0maxis\u001b[0m\u001b[0;34m,\u001b[0m \u001b[0mlevel\u001b[0m\u001b[0;34m=\u001b[0m\u001b[0mlevel\u001b[0m\u001b[0;34m,\u001b[0m \u001b[0mskipna\u001b[0m\u001b[0;34m=\u001b[0m\u001b[0mskipna\u001b[0m\u001b[0;34m,\u001b[0m \u001b[0mmin_count\u001b[0m\u001b[0;34m=\u001b[0m\u001b[0mmin_count\u001b[0m\u001b[0;34m\u001b[0m\u001b[0;34m\u001b[0m\u001b[0m\n\u001b[1;32m  11421\u001b[0m             )\n\u001b[0;32m> 11422\u001b[0;31m         return self._reduce(\n\u001b[0m\u001b[1;32m  11423\u001b[0m             \u001b[0mfunc\u001b[0m\u001b[0;34m,\u001b[0m\u001b[0;34m\u001b[0m\u001b[0;34m\u001b[0m\u001b[0m\n\u001b[1;32m  11424\u001b[0m             \u001b[0mname\u001b[0m\u001b[0;34m=\u001b[0m\u001b[0mname\u001b[0m\u001b[0;34m,\u001b[0m\u001b[0;34m\u001b[0m\u001b[0;34m\u001b[0m\u001b[0m\n",
      "\u001b[0;32m~/anaconda3/lib/python3.8/site-packages/pandas/core/series.py\u001b[0m in \u001b[0;36m_reduce\u001b[0;34m(self, op, name, axis, skipna, numeric_only, filter_type, **kwds)\u001b[0m\n\u001b[1;32m   4218\u001b[0m         \u001b[0motherwise\u001b[0m \u001b[0mdelegate\u001b[0m \u001b[0mto\u001b[0m \u001b[0mthe\u001b[0m \u001b[0mobject\u001b[0m\u001b[0;34m.\u001b[0m\u001b[0;34m\u001b[0m\u001b[0;34m\u001b[0m\u001b[0m\n\u001b[1;32m   4219\u001b[0m         \"\"\"\n\u001b[0;32m-> 4220\u001b[0;31m         \u001b[0mdelegate\u001b[0m \u001b[0;34m=\u001b[0m \u001b[0mself\u001b[0m\u001b[0;34m.\u001b[0m\u001b[0m_values\u001b[0m\u001b[0;34m\u001b[0m\u001b[0;34m\u001b[0m\u001b[0m\n\u001b[0m\u001b[1;32m   4221\u001b[0m \u001b[0;34m\u001b[0m\u001b[0m\n\u001b[1;32m   4222\u001b[0m         \u001b[0;32mif\u001b[0m \u001b[0maxis\u001b[0m \u001b[0;32mis\u001b[0m \u001b[0;32mnot\u001b[0m \u001b[0;32mNone\u001b[0m\u001b[0;34m:\u001b[0m\u001b[0;34m\u001b[0m\u001b[0;34m\u001b[0m\u001b[0m\n",
      "\u001b[0;32m~/anaconda3/lib/python3.8/site-packages/pandas/core/series.py\u001b[0m in \u001b[0;36m_values\u001b[0;34m(self)\u001b[0m\n\u001b[1;32m    570\u001b[0m \u001b[0;34m\u001b[0m\u001b[0m\n\u001b[1;32m    571\u001b[0m         \"\"\"\n\u001b[0;32m--> 572\u001b[0;31m         \u001b[0;32mreturn\u001b[0m \u001b[0mself\u001b[0m\u001b[0;34m.\u001b[0m\u001b[0m_mgr\u001b[0m\u001b[0;34m.\u001b[0m\u001b[0minternal_values\u001b[0m\u001b[0;34m(\u001b[0m\u001b[0;34m)\u001b[0m\u001b[0;34m\u001b[0m\u001b[0;34m\u001b[0m\u001b[0m\n\u001b[0m\u001b[1;32m    573\u001b[0m \u001b[0;34m\u001b[0m\u001b[0m\n\u001b[1;32m    574\u001b[0m     \u001b[0;34m@\u001b[0m\u001b[0mAppender\u001b[0m\u001b[0;34m(\u001b[0m\u001b[0mbase\u001b[0m\u001b[0;34m.\u001b[0m\u001b[0mIndexOpsMixin\u001b[0m\u001b[0;34m.\u001b[0m\u001b[0marray\u001b[0m\u001b[0;34m.\u001b[0m\u001b[0m__doc__\u001b[0m\u001b[0;34m)\u001b[0m  \u001b[0;31m# type: ignore\u001b[0m\u001b[0;34m\u001b[0m\u001b[0;34m\u001b[0m\u001b[0m\n",
      "\u001b[0;32m~/anaconda3/lib/python3.8/site-packages/pandas/core/internals/managers.py\u001b[0m in \u001b[0;36minternal_values\u001b[0;34m(self)\u001b[0m\n\u001b[1;32m   1613\u001b[0m     \u001b[0;32mdef\u001b[0m \u001b[0minternal_values\u001b[0m\u001b[0;34m(\u001b[0m\u001b[0mself\u001b[0m\u001b[0;34m)\u001b[0m\u001b[0;34m:\u001b[0m\u001b[0;34m\u001b[0m\u001b[0;34m\u001b[0m\u001b[0m\n\u001b[1;32m   1614\u001b[0m         \u001b[0;34m\"\"\"The array that Series._values returns\"\"\"\u001b[0m\u001b[0;34m\u001b[0m\u001b[0;34m\u001b[0m\u001b[0m\n\u001b[0;32m-> 1615\u001b[0;31m         \u001b[0;32mreturn\u001b[0m \u001b[0mself\u001b[0m\u001b[0;34m.\u001b[0m\u001b[0m_block\u001b[0m\u001b[0;34m.\u001b[0m\u001b[0minternal_values\u001b[0m\u001b[0;34m(\u001b[0m\u001b[0;34m)\u001b[0m\u001b[0;34m\u001b[0m\u001b[0;34m\u001b[0m\u001b[0m\n\u001b[0m\u001b[1;32m   1616\u001b[0m \u001b[0;34m\u001b[0m\u001b[0m\n\u001b[1;32m   1617\u001b[0m     \u001b[0;34m@\u001b[0m\u001b[0mproperty\u001b[0m\u001b[0;34m\u001b[0m\u001b[0;34m\u001b[0m\u001b[0m\n",
      "\u001b[0;32m~/anaconda3/lib/python3.8/site-packages/pandas/core/internals/blocks.py\u001b[0m in \u001b[0;36minternal_values\u001b[0;34m(self)\u001b[0m\n\u001b[1;32m   2025\u001b[0m     \u001b[0;32mdef\u001b[0m \u001b[0minternal_values\u001b[0m\u001b[0;34m(\u001b[0m\u001b[0mself\u001b[0m\u001b[0;34m)\u001b[0m\u001b[0;34m:\u001b[0m\u001b[0;34m\u001b[0m\u001b[0;34m\u001b[0m\u001b[0m\n\u001b[1;32m   2026\u001b[0m         \u001b[0;31m# Override to return DatetimeArray and TimedeltaArray\u001b[0m\u001b[0;34m\u001b[0m\u001b[0;34m\u001b[0m\u001b[0;34m\u001b[0m\u001b[0m\n\u001b[0;32m-> 2027\u001b[0;31m         \u001b[0;32mreturn\u001b[0m \u001b[0mself\u001b[0m\u001b[0;34m.\u001b[0m\u001b[0marray_values\u001b[0m\u001b[0;34m(\u001b[0m\u001b[0;34m)\u001b[0m\u001b[0;34m\u001b[0m\u001b[0;34m\u001b[0m\u001b[0m\n\u001b[0m\u001b[1;32m   2028\u001b[0m \u001b[0;34m\u001b[0m\u001b[0m\n\u001b[1;32m   2029\u001b[0m     \u001b[0;32mdef\u001b[0m \u001b[0marray_values\u001b[0m\u001b[0;34m(\u001b[0m\u001b[0mself\u001b[0m\u001b[0;34m)\u001b[0m\u001b[0;34m:\u001b[0m\u001b[0;34m\u001b[0m\u001b[0;34m\u001b[0m\u001b[0m\n",
      "\u001b[0;32m~/anaconda3/lib/python3.8/site-packages/pandas/core/internals/blocks.py\u001b[0m in \u001b[0;36marray_values\u001b[0;34m(self)\u001b[0m\n\u001b[1;32m   2028\u001b[0m \u001b[0;34m\u001b[0m\u001b[0m\n\u001b[1;32m   2029\u001b[0m     \u001b[0;32mdef\u001b[0m \u001b[0marray_values\u001b[0m\u001b[0;34m(\u001b[0m\u001b[0mself\u001b[0m\u001b[0;34m)\u001b[0m\u001b[0;34m:\u001b[0m\u001b[0;34m\u001b[0m\u001b[0;34m\u001b[0m\u001b[0m\n\u001b[0;32m-> 2030\u001b[0;31m         \u001b[0;32mreturn\u001b[0m \u001b[0mself\u001b[0m\u001b[0;34m.\u001b[0m\u001b[0m_holder\u001b[0m\u001b[0;34m.\u001b[0m\u001b[0m_simple_new\u001b[0m\u001b[0;34m(\u001b[0m\u001b[0mself\u001b[0m\u001b[0;34m.\u001b[0m\u001b[0mvalues\u001b[0m\u001b[0;34m)\u001b[0m\u001b[0;34m\u001b[0m\u001b[0;34m\u001b[0m\u001b[0m\n\u001b[0m\u001b[1;32m   2031\u001b[0m \u001b[0;34m\u001b[0m\u001b[0m\n\u001b[1;32m   2032\u001b[0m     \u001b[0;32mdef\u001b[0m \u001b[0miget\u001b[0m\u001b[0;34m(\u001b[0m\u001b[0mself\u001b[0m\u001b[0;34m,\u001b[0m \u001b[0mkey\u001b[0m\u001b[0;34m)\u001b[0m\u001b[0;34m:\u001b[0m\u001b[0;34m\u001b[0m\u001b[0;34m\u001b[0m\u001b[0m\n",
      "\u001b[0;32m~/anaconda3/lib/python3.8/site-packages/pandas/core/arrays/timedeltas.py\u001b[0m in \u001b[0;36m_simple_new\u001b[0;34m(cls, values, freq, dtype)\u001b[0m\n\u001b[1;32m    193\u001b[0m         \u001b[0;32massert\u001b[0m \u001b[0misinstance\u001b[0m\u001b[0;34m(\u001b[0m\u001b[0mvalues\u001b[0m\u001b[0;34m,\u001b[0m \u001b[0mnp\u001b[0m\u001b[0;34m.\u001b[0m\u001b[0mndarray\u001b[0m\u001b[0;34m)\u001b[0m\u001b[0;34m,\u001b[0m \u001b[0mtype\u001b[0m\u001b[0;34m(\u001b[0m\u001b[0mvalues\u001b[0m\u001b[0;34m)\u001b[0m\u001b[0;34m\u001b[0m\u001b[0;34m\u001b[0m\u001b[0m\n\u001b[1;32m    194\u001b[0m         \u001b[0;32mif\u001b[0m \u001b[0mvalues\u001b[0m\u001b[0;34m.\u001b[0m\u001b[0mdtype\u001b[0m \u001b[0;34m!=\u001b[0m \u001b[0mTD64NS_DTYPE\u001b[0m\u001b[0;34m:\u001b[0m\u001b[0;34m\u001b[0m\u001b[0;34m\u001b[0m\u001b[0m\n\u001b[0;32m--> 195\u001b[0;31m             \u001b[0;32massert\u001b[0m \u001b[0mvalues\u001b[0m\u001b[0;34m.\u001b[0m\u001b[0mdtype\u001b[0m \u001b[0;34m==\u001b[0m \u001b[0;34m\"i8\"\u001b[0m\u001b[0;34m\u001b[0m\u001b[0;34m\u001b[0m\u001b[0m\n\u001b[0m\u001b[1;32m    196\u001b[0m             \u001b[0mvalues\u001b[0m \u001b[0;34m=\u001b[0m \u001b[0mvalues\u001b[0m\u001b[0;34m.\u001b[0m\u001b[0mview\u001b[0m\u001b[0;34m(\u001b[0m\u001b[0mTD64NS_DTYPE\u001b[0m\u001b[0;34m)\u001b[0m\u001b[0;34m\u001b[0m\u001b[0;34m\u001b[0m\u001b[0m\n\u001b[1;32m    197\u001b[0m \u001b[0;34m\u001b[0m\u001b[0m\n",
      "\u001b[0;31mAssertionError\u001b[0m: "
     ]
    }
   ],
   "source": [
    "num_session_grouped = full_mobile_df.pivot_table(index = ['user_id','session_num'], values ='active_session', aggfunc ='sum').reset_index()\n",
    "num_session_grouped\n"
   ]
  },
  {
   "cell_type": "code",
   "execution_count": null,
   "metadata": {},
   "outputs": [],
   "source": [
    "num_session_grouped['active_session'].median()"
   ]
  },
  {
   "cell_type": "code",
   "execution_count": null,
   "metadata": {},
   "outputs": [],
   "source": [
    "num_session_grouped.groupby('user_id')['session_num'].count().mean()"
   ]
  },
  {
   "cell_type": "markdown",
   "metadata": {},
   "source": [
    "Мы не будем расчитывать среднее для столбца *active_session*, так как , даже бросив первый взгляд на сводную таблицу, мы видим, что есть пользователь, у которого сессия длилась *12 дней* (вероятно, пользователь мог скрыть приложение, но не выйти из него). Поэтому среднее значение точно будет завышено. Лучший вариант для нас в этом случае - посчитать медиану.  "
   ]
  },
  {
   "cell_type": "markdown",
   "metadata": {},
   "source": [
    "Расчитаем медиану столбца *active_session*, а также посмотрим на среднее количество сессий на пользователя:"
   ]
  },
  {
   "cell_type": "code",
   "execution_count": null,
   "metadata": {},
   "outputs": [],
   "source": [
    "num_session_grouped['active_session'].median()"
   ]
  },
  {
   "cell_type": "code",
   "execution_count": null,
   "metadata": {},
   "outputs": [],
   "source": [
    "num_session_grouped.groupby('user_id')['session_num'].count().mean()"
   ]
  },
  {
   "cell_type": "markdown",
   "metadata": {},
   "source": [
    "**Вывод**: по нашим расчетам видим, что медиана и среднее количество сессий на пользователя примерно сходятся - в месяц пользователь проводит в приложении примерно *2 сессии* или *1 - 1,5 часа*. Для специфики нашего приложения это нормальный результат - примерно за это время пользователь может найти то,что его интресует, рассмотрть варианты и принять решение о покупке. "
   ]
  },
  {
   "cell_type": "markdown",
   "metadata": {},
   "source": [
    "Возможно, в нашем случае следует работать не над увеличением времени, проведенном в приложении (скорее наоборот - чем быстрее пользователь будет находить то, что ему нужно, тем лучше; простотой использования мы можем увеличить вероятность того, что пользователь вернется к нам), а над количеством привлеченных пользователей."
   ]
  },
  {
   "cell_type": "markdown",
   "metadata": {},
   "source": [
    "### 2.3. Частота действий"
   ]
  },
  {
   "cell_type": "markdown",
   "metadata": {},
   "source": [
    "Чтобы посчитать эту метрику, обратимся к методу ***value_counts***, а затем для наглядности построим столбиковую диаграмму:"
   ]
  },
  {
   "cell_type": "code",
   "execution_count": null,
   "metadata": {},
   "outputs": [],
   "source": [
    "full_events = full_mobile_df['event_name'].value_counts()\n",
    "full_events"
   ]
  },
  {
   "cell_type": "code",
   "execution_count": null,
   "metadata": {},
   "outputs": [],
   "source": [
    "full_events.plot(kind='bar', figsize=(14,8))\n",
    "plt.title('Часто совершаемые события в приложении', fontsize=20)\n",
    "plt.gca().set(xlabel='типы событий', ylabel='количество повторений событий')\n",
    "plt.xticks(rotation=45)\n",
    "plt.show()"
   ]
  },
  {
   "cell_type": "code",
   "execution_count": null,
   "metadata": {},
   "outputs": [],
   "source": [
    "users_events = full_mobile_df.groupby('user_id').agg({'event_name':'count'})"
   ]
  },
  {
   "cell_type": "code",
   "execution_count": null,
   "metadata": {},
   "outputs": [],
   "source": [
    "users_events['event_name'].mean()"
   ]
  },
  {
   "cell_type": "markdown",
   "metadata": {},
   "source": [
    "По диаграмме мы видим, что самым частоповторяющимся событием является *tips_show* (пользователь увидел рекомендованные объявления) - мы можем сделать предположение, что рекомендации для пользователя находятся на главной странице, и, открыв приложение, пользователь автоматически попадает на них. "
   ]
  },
  {
   "cell_type": "markdown",
   "metadata": {},
   "source": [
    "Далее с огромным отрывом идет *photos_show* (просмотр фотографий в объявлении), хотя, следуя логике, на втором месте должен был бы идти поиск. Однако, мы видим, что *search* совсем не популярное событие. Можем сделать вывод, что кнопка поиска расположена в нашем приложении не совсем очевидно для пользователей (кроме *search_1*). Они гораздо охотнее просто просматривают фото. "
   ]
  },
  {
   "cell_type": "markdown",
   "metadata": {},
   "source": [
    "Затем с примерно одинаковыми показателями идут события *advert_open* (открытие карточки объявления), *contacts_show* (пользователь нажал на кнопку \"посмотреть номер телефона\" на карточке объявления), *map* (пользователь открыл карту размещенных объявлений) и *search_1*. Здесь мы можем отметить, что гораздо чаще пользователи просматривают контакты, а не совершают звонки через приложение(у события *contacts_call* совсем небольшие показатели - очевидно, пользователи либо звонят \"по-старинке\", либо (как больше принято в последнее время) используют мессенджеры).   "
   ]
  },
  {
   "cell_type": "markdown",
   "metadata": {},
   "source": [
    "### 2.4. Конверсия в целевое действие — просмотр контактов"
   ]
  },
  {
   "cell_type": "markdown",
   "metadata": {},
   "source": [
    "Чтобы вычислить конверсию в действие *contacts_show*, отфильтруем основной датафрейм (с помощью метода ***query***) по интересующему нас действию. Затем найдем количество уникальных пользователей в отфильтрованной таблице:"
   ]
  },
  {
   "cell_type": "code",
   "execution_count": null,
   "metadata": {},
   "outputs": [],
   "source": [
    "contacts_show_df = full_mobile_df.query('event_name == \"contacts_show\"')\n",
    "contacts_show_df"
   ]
  },
  {
   "cell_type": "code",
   "execution_count": null,
   "metadata": {},
   "outputs": [],
   "source": [
    "contacts_show_df['user_id'].nunique()"
   ]
  },
  {
   "cell_type": "markdown",
   "metadata": {},
   "source": [
    "Теперь разделим количество уникальных пользователей из отфильтрованной таблицы **contacts_show_df** на количество уникальных пользователей из основной таблицы и умножим на 100:"
   ]
  },
  {
   "cell_type": "code",
   "execution_count": null,
   "metadata": {},
   "outputs": [],
   "source": [
    "(contacts_show_df['user_id'].nunique() / full_mobile_df['user_id'].nunique()) * 100"
   ]
  },
  {
   "cell_type": "markdown",
   "metadata": {},
   "source": [
    "**Вывод**: по приблизительной логике действий (зашел в приложение - открыл объявление - посмотрел фото - посмотрел контакты - совершил звонок) событие *contacts_show* можно посчитать одним из финальных шагов пользователя в приложении. По нашим расчетам до этого события доходят *~23%* пользователей."
   ]
  },
  {
   "cell_type": "markdown",
   "metadata": {},
   "source": [
    "77% -  достаточно большой отток от общего количества пришедших к нам пользователей. Этому может быть несколько причин:\n",
    "\n",
    "*  *пользователь \"теряется\" в большом количестве рекомендаций* - в длинной ленте объявлений пользователь может надолго \"зависнуть\" и отложить целенаправленный поиск и, соответственно, отклик на объявление;\n",
    "\n",
    "*  *управление приложением не достаточно интуитивно* - возможно, путь пользователя в приложении более \"тернист\", чем кажется, и стоит подумать над его упрощением."
   ]
  },
  {
   "cell_type": "markdown",
   "metadata": {},
   "source": [
    "### 2.5. Вывод"
   ]
  },
  {
   "cell_type": "markdown",
   "metadata": {},
   "source": [
    "Мы расчитали ***Retention Rate*** для посетителей приложения, по тепловой карте видим, что за месяц показатель упал с *1 до 0.07*. С каждой новой когортой поведение пользователей меняется. Нам нужно впоследствии выяснить, какие именно факторы влияют на отток пользователей. "
   ]
  },
  {
   "cell_type": "markdown",
   "metadata": {},
   "source": [
    "Мы расчитали количество сессий и время,проведенное в приложении для каждого пользователя, затем получили медиану и среднее количество сессий на пользотеля: резутаты примерно сходятся - в месяц пользователь проводит в приложении примерно *2 сессии* или *1 - 1,5 часа*. Для специфики нашего приложения это нормальный результат - примерно за это время пользователь может найти то,что его интресует, рассмотрть варианты и принять решение о покупке. Возможно, в нашем случае следует работать не над увеличением времени, проведенном в приложении (скорее наоборот - чем быстрее пользователь будет находить то, что ему нужно, тем лучше; простотой использования мы можем увеличить вероятность того, что пользователь вернется к нам), а над количеством привлеченных пользователей."
   ]
  },
  {
   "cell_type": "markdown",
   "metadata": {},
   "source": [
    "По столбчатой диаграмме мы увидели, что самым частоповторяющимся событием является *tips_show* (пользователь увидел рекомендованные объявления) - мы предположили, что рекомендации для пользователя находятся на главной странице, и, открыв приложение, пользователь автоматически попадает на них. "
   ]
  },
  {
   "cell_type": "markdown",
   "metadata": {},
   "source": [
    "Далее с огромным отрывом идет *photos_show* (просмотр фотографий в объявлении), хотя, следуя логике, на втором месте должен был бы идти поиск. Однако, видно, что *search* совсем не популярное событие. Мы сделали вывод, что кнопка поиска расположена в нашем приложении не совсем очевидно для пользователей (кроме *search_1*). Они гораздо охотнее просто просматривают фото. "
   ]
  },
  {
   "cell_type": "markdown",
   "metadata": {},
   "source": [
    "Далее с примерно одинаковыми показателями идут события *advert_open* (открытие карточки объявления), *contacts_show* (пользователь нажал на кнопку \"посмотреть номер телефона\" на карточке объявления), *map* (пользователь открыл карту размещенных объявлений) и *search_1*. Здесь мы отметили, что гораздо чаще пользователи просматривают контакты, а не совершают звонки через приложение(у события *contacts_call* совсем небольшие показатели - очевидно, пользователи либо звонят \"по-старинке\", либо (как больше принято в последнее время) используют мессенджеры).  "
   ]
  },
  {
   "cell_type": "markdown",
   "metadata": {},
   "source": [
    "Мы расчитали конверсию в целевое действие(просмотр контактов): по нашим расчетам до этого события доходят *~23%* пользователей. *77%* -  достаточно большой отток от общего количества пришедших к нам пользователей. Этому может быть несколько причин:\n",
    "\n",
    "*  *пользователь \"теряется\" в большом количестве рекомендаций* - в длинной ленте объявлений пользователь может надолго \"зависнуть\" и отложить целенаправленный поиск и, соответственно, отклик на объявление;\n",
    "\n",
    "*  *управление приложением не достаточно интуитивно* - возможно, путь пользователя в приложении более \"тернист\", чем кажется, и стоит подумать над его упрощением."
   ]
  },
  {
   "cell_type": "markdown",
   "metadata": {},
   "source": [
    "## Шаг 3. Сегментация пользователей по действиям"
   ]
  },
  {
   "cell_type": "markdown",
   "metadata": {},
   "source": [
    "Мы предварительно сегментировали пользователей по действиям, совершенным ими в приложении, на *7 групп*:\n",
    "\n",
    "*  **по источнику, с которого пользователь установил приложение;**\n",
    "\n",
    "*  **по пользователям, позвонившим по номеру телефона на карточке объявления;**\n",
    "\n",
    "*  **по пользователям, которые пользовались поиском;**\n",
    "\n",
    "*  **по пользователям, кликнувшим по рекомендованным объявлениям;**\n",
    "\n",
    "*  **по пользователям, открывшим карточки объявления;**\n",
    "\n",
    "*  **по пользователям, просмотревшим рекомендации;**\n",
    "\n",
    "*  **по пользователям, открывшим карту размещенных объявлений.**"
   ]
  },
  {
   "cell_type": "markdown",
   "metadata": {},
   "source": [
    "Мы отфильтруем таблицу по действиям, найдем уникальных пользователей, совершивших эти действия, а затем отфильтруем основную таблицу по этим пользователям и посмотрим, как вели себя пользователи в этих группах, какие еще совершали действия и какая доля пользователей дошла до целевого действия (*просмотр контактов*). "
   ]
  },
  {
   "cell_type": "markdown",
   "metadata": {},
   "source": [
    "Чтобы расчитать необходимые нам метрики, мы создадим две функции: ***segment_func*** и ***retention_func***. "
   ]
  },
  {
   "cell_type": "markdown",
   "metadata": {},
   "source": [
    "***segment_func*** будет расчитывать:\n",
    "\n",
    "*  *количество уникальных пользователей;*\n",
    "\n",
    "*  *доля от общего числа пользователей;*\n",
    "\n",
    "*  *часто совершаемые события в приложении(для группы пользователей,совершивших рассматриваемое действие);*\n",
    "\n",
    "*  *медиана по времени проведенного пользователями в приложении и среднее количество сессий пользователей;*\n",
    "\n",
    "*  *конверсия в целевое действие(просмотр контактов).*"
   ]
  },
  {
   "cell_type": "markdown",
   "metadata": {},
   "source": [
    "***retention_func*** будет расчитывать коэффициент удержания для каждой группы и строить тепловую карту."
   ]
  },
  {
   "cell_type": "code",
   "execution_count": null,
   "metadata": {},
   "outputs": [],
   "source": [
    "def segment_func(table):\n",
    "    unique_users = table['user_id'].nunique()\n",
    "    print(\"Количество уникальных пользователей:\")\n",
    "    print(unique_users)\n",
    "    print(\"\")\n",
    "    share_users = (table['user_id'].nunique() / full_mobile_df['user_id'].nunique()) * 100\n",
    "    print(\"Доля от общего числа пользователей\")\n",
    "    print('{:.2f}'.format(share_users))\n",
    "    print(\"\")\n",
    "    print(\"Среднее количество действий на пользователя в группе\")\n",
    "    users_events = table.groupby('user_id').agg({'event_name':'count'})\n",
    "    mean_events = users_events['event_name'].mean()\n",
    "    print('{:.2f}'.format(mean_events))\n",
    "    session_grouped = table.pivot_table(index = ['user_id','session_num'], values ='active_session', aggfunc ='sum').reset_index()\n",
    "    m1 = session_grouped['active_session'].median()\n",
    "    print(\"Медиана по времени проведенного пользователями в приложении: \")\n",
    "    print(m1)\n",
    "    print(\"\")\n",
    "    m2 = session_grouped.groupby('user_id')['session_num'].count().mean()\n",
    "    print(\"Среднее количество сессий на пользователя:\")\n",
    "    print('{:.2f}'.format(m2))\n",
    "    \n",
    "    print(\"\")\n",
    "    print(\"Конверсия в целевое действие(просмотр контактов):\")\n",
    "    contacts_show_df = table.query('event_name == \"contacts_show\"')\n",
    "    m3 = (contacts_show_df['user_id'].nunique() / table['user_id'].nunique()) * 100\n",
    "    print('{:.2f}'.format(m3))\n",
    "    \n",
    "    #return unique_users"
   ]
  },
  {
   "cell_type": "code",
   "execution_count": null,
   "metadata": {},
   "outputs": [],
   "source": [
    "def retention_func(table):\n",
    "    \n",
    "    cohorts = table.groupby(['first_activity_week','cohort_lifetime']).agg({'user_id':'nunique'}).reset_index() \n",
    "\n",
    "    initial_users_count = cohorts[cohorts['cohort_lifetime'] == 0][['first_activity_week','user_id']]\n",
    "\n",
    "    initial_users_count = initial_users_count.rename(columns={'user_id':'cohort_users'}) \n",
    "\n",
    "    cohorts = cohorts.merge(initial_users_count,on='first_activity_week')\n",
    "\n",
    "    cohorts['retention'] = cohorts['user_id']/cohorts['cohort_users'] \n",
    "\n",
    "    retention_pivot = cohorts.pivot_table(index='first_activity_week',columns='cohort_lifetime',values='retention',aggfunc='sum') \n",
    "\n",
    "    retention_pivot.index = retention_pivot.index.strftime(\"%w\")\n",
    "    sns.set(style='white')\n",
    "    plt.figure(figsize=(10, 5))\n",
    "    plt.title('Retention Rate(по когортам)')\n",
    "    sns.heatmap(retention_pivot, annot=True, fmt='.2f', linewidths=1, linecolor='grey')\n",
    "    plt.gca().set(xlabel='lifetime', ylabel='первая неделя активности')\n",
    "    plt.show()"
   ]
  },
  {
   "cell_type": "markdown",
   "metadata": {},
   "source": [
    "### 3.1. По источнику, с которого пользователь установил приложение"
   ]
  },
  {
   "cell_type": "markdown",
   "metadata": {},
   "source": [
    "С помощью метода ***unique*** выясним, какие есть источники в данных:"
   ]
  },
  {
   "cell_type": "code",
   "execution_count": null,
   "metadata": {},
   "outputs": [],
   "source": [
    "full_mobile_df['source'].unique()"
   ]
  },
  {
   "cell_type": "markdown",
   "metadata": {},
   "source": [
    "Фильтруем таблицы по каждому источнику:"
   ]
  },
  {
   "cell_type": "code",
   "execution_count": null,
   "metadata": {},
   "outputs": [],
   "source": [
    "yandex_df = full_mobile_df.query('source == \"yandex\"')"
   ]
  },
  {
   "cell_type": "code",
   "execution_count": null,
   "metadata": {},
   "outputs": [],
   "source": [
    "google_df = full_mobile_df.query('source == \"google\"')"
   ]
  },
  {
   "cell_type": "code",
   "execution_count": null,
   "metadata": {},
   "outputs": [],
   "source": [
    "other_df = full_mobile_df.query('source == \"other\"')"
   ]
  },
  {
   "cell_type": "markdown",
   "metadata": {},
   "source": [
    "Применяем функции к отфильтрованным таблицам:"
   ]
  },
  {
   "cell_type": "code",
   "execution_count": null,
   "metadata": {
    "scrolled": false
   },
   "outputs": [],
   "source": [
    "segment_func(yandex_df)\n",
    "retention_func(yandex_df)"
   ]
  },
  {
   "cell_type": "code",
   "execution_count": null,
   "metadata": {
    "scrolled": false
   },
   "outputs": [],
   "source": [
    "segment_func(google_df)\n",
    "retention_func(google_df)"
   ]
  },
  {
   "cell_type": "code",
   "execution_count": null,
   "metadata": {},
   "outputs": [],
   "source": [
    "other_df = full_mobile_df.query('source == \"other\"')"
   ]
  },
  {
   "cell_type": "code",
   "execution_count": null,
   "metadata": {
    "scrolled": false
   },
   "outputs": [],
   "source": [
    "segment_func(other_df)\n",
    "retention_func(other_df)"
   ]
  },
  {
   "cell_type": "markdown",
   "metadata": {},
   "source": [
    "**Вывод**: по показателям отфильтрованных по источникам групп видим, что больше пользователей, установивших приложение через *Яндекс*. Конверсия в целевое действие у этой группы и у группы *Google* почти одинаковые - *~24%*, у группы пользователей, установивших приложение с других источников меньше - *18%*. Коэффициент удержания во всех группах примерно одинаковый - к последней неделе он достаточно низкий у всех, однако в группе *Яндекса* на *2% меньше*, то есть меньше пользователей , установивших наше приложение через *Яндекс* остается с нами."
   ]
  },
  {
   "cell_type": "markdown",
   "metadata": {},
   "source": [
    "### 3.2. По пользователям, позвонившим по номеру телефона на карточке объявления"
   ]
  },
  {
   "cell_type": "markdown",
   "metadata": {},
   "source": [
    "Теперь рассмотрим группы пользователей по совершенным действиям в приложении."
   ]
  },
  {
   "cell_type": "markdown",
   "metadata": {},
   "source": [
    "Отфильтруем общую таблицу **full_mobile_df** по действию *contacts_call*(пользователь позвонил по номеру телефона на карточке объявления через приложение):"
   ]
  },
  {
   "cell_type": "code",
   "execution_count": null,
   "metadata": {},
   "outputs": [],
   "source": [
    "contacts_call_df = full_mobile_df.query('event_name == \"contacts_call\"')"
   ]
  },
  {
   "cell_type": "markdown",
   "metadata": {},
   "source": [
    "Найдем уникальных пользователей в отфильтрованной таблице и поместим их в переменную **users_contacts_call**:"
   ]
  },
  {
   "cell_type": "code",
   "execution_count": null,
   "metadata": {},
   "outputs": [],
   "source": [
    "users_contacts_call = contacts_call_df['user_id'].unique()"
   ]
  },
  {
   "cell_type": "markdown",
   "metadata": {},
   "source": [
    "Отфильтруем основую таблицу по установленным нами пользователям и посмотрим их поведение в приложении:"
   ]
  },
  {
   "cell_type": "code",
   "execution_count": null,
   "metadata": {},
   "outputs": [],
   "source": [
    "full_contacts_call = full_mobile_df[full_mobile_df['user_id'].isin(users_contacts_call)]"
   ]
  },
  {
   "cell_type": "code",
   "execution_count": null,
   "metadata": {},
   "outputs": [],
   "source": [
    "segment_func(full_contacts_call)\n",
    "retention_func(full_contacts_call)"
   ]
  },
  {
   "cell_type": "markdown",
   "metadata": {},
   "source": [
    "**Вывод:** эта группа очень малочислена - всего *213 пользователей*, однако, они проводят достаточно много времени в приложении - в среднем *4 сессии*, т.е. 2 часа, а по медиане  показатель проведенного в приложении маленький - *около 2 минут*. В среднем пользователь совершает 19 действий в приложении. Конверсия в целевое действие, естественно, *100%* . Доля \"оставшихся\" с нашим приложением пользователей в этой группе составляет *9%* - в сравнении в другими группами это не самый низкий показатель. "
   ]
  },
  {
   "cell_type": "markdown",
   "metadata": {},
   "source": [
    "### 3.3. По пользователям, которые пользовались поиском"
   ]
  },
  {
   "cell_type": "code",
   "execution_count": null,
   "metadata": {},
   "outputs": [],
   "source": [
    "search_df = full_mobile_df.query('event_name == (\"search_1\",\"search_2\", \"search_3\", \"search_4\",\"search_5\",\"search_6\", \"search_7\")')"
   ]
  },
  {
   "cell_type": "code",
   "execution_count": null,
   "metadata": {},
   "outputs": [],
   "source": [
    "users_search = search_df['user_id'].unique()"
   ]
  },
  {
   "cell_type": "code",
   "execution_count": null,
   "metadata": {},
   "outputs": [],
   "source": [
    "full_search = full_mobile_df[full_mobile_df['user_id'].isin(users_search)]\n"
   ]
  },
  {
   "cell_type": "code",
   "execution_count": null,
   "metadata": {},
   "outputs": [],
   "source": [
    "segment_func(full_search)\n",
    "retention_func(full_search)"
   ]
  },
  {
   "cell_type": "markdown",
   "metadata": {},
   "source": [
    "**Вывод:** доля пользователей от общего числа составляет *38%* - не такая маленькая группа. В среднем пользователи проводят в приложении *~5,5 минут*. В среднем пользователи совершают 20 действий - небольшой результат по сравнению с другими группами. В этой группе стоит отметить, что показатель ***Retention Rate*** самый высокий среди групп - *12%*. Можно предположить, что эти пользователи более стабильны, чем в других группах. Это предположение подтверждает то, что конверсия в целевое действие в этой группе не так мала - почти *23%*, то есть люди, пользующиеся поиском, все же достигают цели и переходят в контакты. "
   ]
  },
  {
   "cell_type": "markdown",
   "metadata": {},
   "source": [
    "### 3.4. По пользователям, кликнувшим по рекомендованным объявлениям"
   ]
  },
  {
   "cell_type": "code",
   "execution_count": null,
   "metadata": {},
   "outputs": [],
   "source": [
    "tips_click_df = full_mobile_df.query('event_name == \"tips_click\"')"
   ]
  },
  {
   "cell_type": "code",
   "execution_count": null,
   "metadata": {},
   "outputs": [],
   "source": [
    "users_tips_click = tips_click_df['user_id'].unique()"
   ]
  },
  {
   "cell_type": "code",
   "execution_count": null,
   "metadata": {},
   "outputs": [],
   "source": [
    "full_tips_click = full_mobile_df[full_mobile_df['user_id'].isin(users_tips_click)]\n"
   ]
  },
  {
   "cell_type": "code",
   "execution_count": null,
   "metadata": {},
   "outputs": [],
   "source": [
    "segment_func(full_tips_click)\n",
    "retention_func(full_tips_click)"
   ]
  },
  {
   "cell_type": "markdown",
   "metadata": {},
   "source": [
    "**Вывод:** эта группа несколько похожа на группу пользователей, совершивших звонки через приложение -  небольшая - всего *7,5%* от общего числа пользователей. Однако, здесь пользователи тоже провели довольно много времени в приложении - на пользователя приходится примерно *4 сессии*, количество проведенного времени в приложении - *~8,5 минут*, что довольно много. Также показатель количества действий, совершенных пользователем, в этой группе высок - *в среднем 39 действий*. В этой группе доля пользователей, просмотревших контакты не так мала - *31%* от числа пользователей в группе."
   ]
  },
  {
   "cell_type": "markdown",
   "metadata": {},
   "source": [
    "### 3.5.  По пользователям, открывшим карточки объявления"
   ]
  },
  {
   "cell_type": "code",
   "execution_count": null,
   "metadata": {},
   "outputs": [],
   "source": [
    "advert_open_df = full_mobile_df.query('event_name == \"advert_open\"')"
   ]
  },
  {
   "cell_type": "code",
   "execution_count": null,
   "metadata": {},
   "outputs": [],
   "source": [
    "users_advert_open = advert_open_df['user_id'].unique()"
   ]
  },
  {
   "cell_type": "code",
   "execution_count": null,
   "metadata": {},
   "outputs": [],
   "source": [
    "full_advert_open = full_mobile_df[full_mobile_df['user_id'].isin(users_advert_open)]"
   ]
  },
  {
   "cell_type": "code",
   "execution_count": null,
   "metadata": {},
   "outputs": [],
   "source": [
    "segment_func(full_advert_open)\n",
    "retention_func(full_advert_open)"
   ]
  },
  {
   "cell_type": "markdown",
   "metadata": {},
   "source": [
    "**Вывод:** небольшая группа - *17%* от общего количества пользователей. Здесь конверсия в целевое действие показывает неплохой результат -  *18%*. Показатель времени, проведенного в приложении, в этой группе достаточно велик - *почти 7,5 минут*, *3 сессии на пользователя* в среднем. В этой группе также совершают много действий - в среднем *32 действия на пользователя*. Зато ***Retention Rate*** в сравнении с другими группами показывает самый высокий результат - *14%*."
   ]
  },
  {
   "cell_type": "markdown",
   "metadata": {},
   "source": [
    "### 3.6. По пользователям, просмотревшим рекомендации"
   ]
  },
  {
   "cell_type": "code",
   "execution_count": null,
   "metadata": {},
   "outputs": [],
   "source": [
    "tips_show_df = full_mobile_df.query('event_name ==\"tips_show\"')"
   ]
  },
  {
   "cell_type": "code",
   "execution_count": null,
   "metadata": {},
   "outputs": [],
   "source": [
    "users_tips_show = tips_show_df['user_id'].unique()"
   ]
  },
  {
   "cell_type": "code",
   "execution_count": null,
   "metadata": {},
   "outputs": [],
   "source": [
    "full_tips_show = full_mobile_df[full_mobile_df['user_id'].isin(users_tips_show)]"
   ]
  },
  {
   "cell_type": "code",
   "execution_count": null,
   "metadata": {},
   "outputs": [],
   "source": [
    "segment_func(full_tips_show)\n",
    "retention_func(full_tips_show)"
   ]
  },
  {
   "cell_type": "markdown",
   "metadata": {},
   "source": [
    "**Вывод**:самая большая по численности группа *65%* от общего числа пользователей. Среднее время, проведенное в приложении - *~7,5 минут*. В этой группе, несмотря на ее большую численность, небольшой показатель среднего количества действий на пользователя - *20*, это может подтвердить нашу догатдку о том, что пользователи \"зависают\" на этом шаге. Конверсия в просмотр контактов также *18%*. Однако. коэффициент удержания совсем низкий - всего *7%*, что говорит о нестабильности этой группы."
   ]
  },
  {
   "cell_type": "markdown",
   "metadata": {},
   "source": [
    "### 3.7. По пользователям, открывшим карту размещенных объявлений"
   ]
  },
  {
   "cell_type": "code",
   "execution_count": null,
   "metadata": {},
   "outputs": [],
   "source": [
    "maps_df = full_mobile_df.query('event_name ==\"map\"')"
   ]
  },
  {
   "cell_type": "code",
   "execution_count": null,
   "metadata": {},
   "outputs": [],
   "source": [
    "users_map = maps_df['user_id'].unique()"
   ]
  },
  {
   "cell_type": "code",
   "execution_count": null,
   "metadata": {},
   "outputs": [],
   "source": [
    "full_maps = full_mobile_df[full_mobile_df['user_id'].isin(users_map)]"
   ]
  },
  {
   "cell_type": "code",
   "execution_count": null,
   "metadata": {
    "scrolled": false
   },
   "outputs": [],
   "source": [
    "segment_func(full_maps)\n",
    "retention_func(full_maps)"
   ]
  },
  {
   "cell_type": "markdown",
   "metadata": {},
   "source": [
    "**Вывод:** эта группа тоже достаточно большая по размеру - *33%* от общего количества пользователей. В среднем пользователи проводят в приложении примерно *8,5 минут* - один из самых высоких показателей среди групп. Конверсия в целевое действие *20%* от числа пользователей в группе. Здесь, по сравнению с другими группами, достаточно неплохой результат по метрике ***Ratention Rate*** - *10%* пользователей из первой когорты (то есть начавших использовать приложение в начале изучаемого нами периода) продолжают использование и по окончании предложенного нам для исследования временного отрезка."
   ]
  },
  {
   "cell_type": "markdown",
   "metadata": {},
   "source": [
    "### 3.8. Вывод"
   ]
  },
  {
   "cell_type": "markdown",
   "metadata": {},
   "source": [
    "Мы отсортировали пользователей по *7 признакам* и по расчитанным выше метрикам рассмотрели их поведение."
   ]
  },
  {
   "cell_type": "markdown",
   "metadata": {},
   "source": [
    "Анализируя результаты расчетов групп, можно отметить следующее:\n",
    "\n",
    "*  *нужно привлекать больше пользователей с таких источников, как **Яндекс** и **Google** - эти группы показывают неплохую(по сравнению с другими группами) конверсию в просмотр контактов;*\n",
    "\n",
    "*  *группа, используящая поиск по приложению, довольно стабильна, однако следует поработать над   упрощением этой функции - сама по себе группа не очень многочислена*;\n",
    "\n",
    "*  *больше пользователей размещают объявления, нежели просматривают чужие*."
   ]
  },
  {
   "cell_type": "markdown",
   "metadata": {},
   "source": [
    "## Шаг 4. Проверка статистических гипотез"
   ]
  },
  {
   "cell_type": "markdown",
   "metadata": {},
   "source": [
    "### 4.1.  Группы *yandex_df*  и *google_df*  демонстрируют разную конверсию в просмотры контактов"
   ]
  },
  {
   "cell_type": "markdown",
   "metadata": {},
   "source": [
    "Для проверки гипотезы мы проведем **z-test**. С помощью метода ***pivot_table*** создадим таблицу **users_events_per_group**, в которой по действиям и источникам посчитаем уникальных пользователей:"
   ]
  },
  {
   "cell_type": "code",
   "execution_count": null,
   "metadata": {},
   "outputs": [],
   "source": [
    "users_events_per_group = full_mobile_df.pivot_table(index='event_name', \n",
    "                                                      values='user_id', \n",
    "                                                      columns='source', \n",
    "                                                      aggfunc=lambda x: x.nunique())\n",
    "users_events_per_group"
   ]
  },
  {
   "cell_type": "markdown",
   "metadata": {},
   "source": [
    "Для проверки нам нужны только группы *Google*  и *Яндекс*, поэтому удалим столбец *other* из таблицы:"
   ]
  },
  {
   "cell_type": "code",
   "execution_count": null,
   "metadata": {},
   "outputs": [],
   "source": [
    "users_events_per_group_fin = users_events_per_group.drop('other',1)\n",
    "users_events_per_group_fin"
   ]
  },
  {
   "cell_type": "markdown",
   "metadata": {},
   "source": [
    "Переименуем колонки и отсортируем значения по убыванию:"
   ]
  },
  {
   "cell_type": "code",
   "execution_count": null,
   "metadata": {},
   "outputs": [],
   "source": [
    "users_events_per_group_fin.set_axis(['google', 'yandex'], axis='columns', inplace=True)\n",
    "users_events_per_group_fin.sort_values(by = 'google', ascending = False, inplace=True)\n",
    "users_events_per_group_fin"
   ]
  },
  {
   "cell_type": "markdown",
   "metadata": {},
   "source": [
    "Для проведения **z-test-а** сделаем массивы из столбцов *'users'* для каждой группы:"
   ]
  },
  {
   "cell_type": "markdown",
   "metadata": {},
   "source": [
    "**Нулевую гипотезу** сформулируем так:**\"Конверсии групп Google и Яндекс в просмотр контактов равны с точки зрения равенства долей\".**"
   ]
  },
  {
   "cell_type": "markdown",
   "metadata": {},
   "source": [
    "**Альтернативная гипотеза**: **\"Конверсии групп Google и Яндекс в просмотр контактов  различаются с точки зрения равенства долей\"**."
   ]
  },
  {
   "cell_type": "code",
   "execution_count": null,
   "metadata": {
    "scrolled": true
   },
   "outputs": [],
   "source": [
    "# все пользователи aka trials\n",
    "full_mobile_df.groupby('source').user_id.nunique()"
   ]
  },
  {
   "cell_type": "code",
   "execution_count": null,
   "metadata": {},
   "outputs": [],
   "source": [
    "# конверсионные aka success\n",
    "full_mobile_df[full_mobile_df.event_name=='contacts_show'].groupby('source').user_id.nunique()"
   ]
  },
  {
   "cell_type": "code",
   "execution_count": null,
   "metadata": {
    "scrolled": false
   },
   "outputs": [],
   "source": [
    "alpha = .05 # критический уровень статистической значимости\n",
    "\n",
    "\n",
    "        \n",
    "successes = np.array([275, 478])\n",
    "trials = np.array([1129, 1934]) \n",
    "        \n",
    "print(\"successes: \")\n",
    "print(successes)\n",
    "\n",
    "print(\"trials:\")\n",
    "print(trials)\n",
    "\n",
    "# пропорция успехов в первой группе:\n",
    "p1 = successes[0]/trials[0]\n",
    "\n",
    "# пропорция успехов во второй группе:\n",
    "p2 = successes[1]/trials[1]\n",
    "\n",
    "# пропорция успехов в комбинированном датасете:\n",
    "p_combined = (successes[0] + successes[1]) / (trials[0] + trials[1])\n",
    "\n",
    "# разница пропорций в датасетах\n",
    "difference = p1 - p2 \n",
    "\n",
    "# считаем статистику в ст.отклонениях стандартного нормального распределения\n",
    "z_value = difference / mth.sqrt(p_combined * (1 - p_combined) * (1/trials[0] + 1/trials[1]))\n",
    "\n",
    "# задаем стандартное нормальное распределение (среднее 0, ст.отклонение 1)\n",
    "distr = st.norm(0, 1)  \n",
    "\n",
    "# считаем статистику в ст.отклонениях стандартного нормального распределения\n",
    "z_value = difference / mth.sqrt(p_combined * (1 - p_combined) * (1/trials[0] + 1/trials[1]))\n",
    "\n",
    "# задаем стандартное нормальное распределение (среднее 0, ст.отклонение 1)\n",
    "distr = st.norm(0, 1) \n",
    "\n",
    "p_value = (1 - distr.cdf(abs(z_value))) * 2\n",
    "\n",
    "if (p_value < alpha):\n",
    "    print(\"Отвергаем нулевую гипотезу: между долями есть значимая разница\")\n",
    "else:\n",
    "    print(\"Не получилось отвергнуть нулевую гипотезу, нет оснований считать доли разными\") \n",
    "        \n"
   ]
  },
  {
   "cell_type": "markdown",
   "metadata": {},
   "source": [
    "**Вывод**: с помощью **z-test-a** мы смогли отвергнуть нулевую гипотезу и сделать вывод, что *конверсии групп Google и Яндекс в просмотр контактов различаются*."
   ]
  },
  {
   "cell_type": "markdown",
   "metadata": {},
   "source": [
    "### 4.2. Среднее время,  проведенное в приложении, у групп пользователей ,совершивших целевое действие(просмотр контактов) и не совершивших его, различается"
   ]
  },
  {
   "cell_type": "markdown",
   "metadata": {},
   "source": [
    "Подготовим данные для проверки гипотезы."
   ]
  },
  {
   "cell_type": "markdown",
   "metadata": {},
   "source": [
    "Отфильтруем таблицы по поьзователям, которые совершали целевое действие (**full_contacts_show**) и не совершали (**not_contacts_show**). Преобразуем тип данных столбца *active_session* в *integer* - этот тип данных нужен нам для применения **t-test-a**:"
   ]
  },
  {
   "cell_type": "code",
   "execution_count": null,
   "metadata": {},
   "outputs": [],
   "source": [
    "full_mobile_df['active_session'] = full_mobile_df['active_session'].astype('timedelta64[m]')"
   ]
  },
  {
   "cell_type": "code",
   "execution_count": null,
   "metadata": {},
   "outputs": [],
   "source": [
    "contacts_show_df = full_mobile_df.query('event_name == \"contacts_show\"') \n",
    "users_contacts_show = contacts_show_df['user_id'].unique()\n",
    "full_contacts_show = full_mobile_df[full_mobile_df['user_id'].isin(users_contacts_show)]\n",
    "\n",
    "full_contacts_show['active_session'] = full_contacts_show['active_session'].astype('int')\n",
    "    \n",
    "full_contacts_show"
   ]
  },
  {
   "cell_type": "code",
   "execution_count": null,
   "metadata": {},
   "outputs": [],
   "source": [
    "full_contacts_show.info()"
   ]
  },
  {
   "cell_type": "code",
   "execution_count": null,
   "metadata": {},
   "outputs": [],
   "source": [
    "not_contacts_show = full_mobile_df[~full_mobile_df['user_id'].isin(users_contacts_show)]\n",
    "not_contacts_show['active_session'] = not_contacts_show['active_session'].astype('int')    \n",
    "not_contacts_show"
   ]
  },
  {
   "cell_type": "markdown",
   "metadata": {},
   "source": [
    "Сформулируем гипотезы:"
   ]
  },
  {
   "cell_type": "markdown",
   "metadata": {},
   "source": [
    "**Н0**: \"Среднее время, проведенное в приложении, у групп пользователей ,совершивших целевое действие(просмотр контактов) и не совершивших его, равно\"."
   ]
  },
  {
   "cell_type": "markdown",
   "metadata": {},
   "source": [
    "**Н1**: \"Среднее время, проведенное в приложении, у групп пользователей ,совершивших целевое действие(просмотр контактов) и не совершивших его, различается\"."
   ]
  },
  {
   "cell_type": "markdown",
   "metadata": {},
   "source": [
    "Проведем **t-test**:"
   ]
  },
  {
   "cell_type": "code",
   "execution_count": null,
   "metadata": {},
   "outputs": [],
   "source": [
    "alpha = .05\n",
    "\n",
    "results = st.ttest_ind(\n",
    "    full_contacts_show['active_session'], \n",
    "    not_contacts_show['active_session'])\n",
    "\n",
    "print('p-значение:', results.pvalue)\n",
    "\n",
    "if results.pvalue < alpha:\n",
    "    print(\"Отвергаем нулевую гипотезу\")\n",
    "else:\n",
    "    print(\"Не получилось отвергнуть нулевую гипотезу\") "
   ]
  },
  {
   "cell_type": "markdown",
   "metadata": {},
   "source": [
    "**Вывод**: по результатам проверки мы отвергаем нулевую гипотезу и делаем предположение, что среднее время, проведенное в приложении, у групп пользователей ,совершивших целевое действие(просмотр контактов) и не совершивших его, различается."
   ]
  },
  {
   "cell_type": "markdown",
   "metadata": {},
   "source": [
    "### 4.3. Вывод"
   ]
  },
  {
   "cell_type": "markdown",
   "metadata": {},
   "source": [
    "Гипотезу о различии конверсий у групп пользователей, пришедших с *Google* и *Яндекс*, мы проверяли с помощью **z-test-a**.  Из 14 проверок 10 выявили между долями значимую разницу. Мы отвергаем нулевую гипотезу и делаем вывод, что *конверсии групп Google и Яндекс в просмотр контактов различаются*"
   ]
  },
  {
   "cell_type": "markdown",
   "metadata": {},
   "source": [
    "Также мы сформулировали гипотезу о различии среднего времени, проведенном в приложении, у групп пользователей ,совершивших целевое действие(просмотр контактов) и не совершивших его. Эту гипотезу мы проверяли с помощью **t-test-a**. По результатам проверки мы отвергли нулевую гипотезу и сделали предположение, что среднее время, проведенное в приложении, у групп пользователей ,совершивших целевое действие(просмотр контактов) и не совершивших его, различается."
   ]
  },
  {
   "cell_type": "markdown",
   "metadata": {},
   "source": [
    "## Шаг 5. Общие выводы и рекомендации"
   ]
  },
  {
   "cell_type": "markdown",
   "metadata": {},
   "source": [
    "### 5.1. Выводы"
   ]
  },
  {
   "cell_type": "markdown",
   "metadata": {},
   "source": [
    "Мы выгрузили два датафрейма. Первый - **mobile_df** - содержит данные о идентификаторах пользователей, времени совершения событий и типе событий. Второй - **source_df** - также содержит данные об идентификаторах пользователей и об источниках, с которых пользователи устанавливают приложение."
   ]
  },
  {
   "cell_type": "markdown",
   "metadata": {},
   "source": [
    "Мы проверили таблицы на пропуски и дубликаты - данные оказались чистыми. Мы объединили две таблицы в одну - **full_mobile_df** - и также проверили ее на дубликаты (не обнаружили). С помощью гистограммы мы удостоверились, что обладаем данными за период с **7 октября** по **3 ноября 2019 года**."
   ]
  },
  {
   "cell_type": "markdown",
   "metadata": {},
   "source": [
    "Мы проверили данные на аномальные значения (с помощью сводной таблицы и метода ***describe***) и выяснили, что у нас есть данные о действиях *4293 пользователей* нашего приложения, и в среднем на пользователя приходится *17 событий*. Для наглядности мы построили диаграмму размаха и по ней увидели, что выбросов много и они доходят почти до 500 (если точнее, то до 478). Медиана даже меньше среднего - *~10 событий* приходится в основном на пользователя в месяц. Однако, мы решили,что выбросов очень много и их удаление приведет к большой потере данных. "
   ]
  },
  {
   "cell_type": "markdown",
   "metadata": {},
   "source": [
    "Мы расчитали ***Retention Rate*** для всех посетителей приложения, по тепловой карте видим, что за месяц показатель упал с *1 до 0.07*. С каждой новой когортой поведение пользователей меняется."
   ]
  },
  {
   "cell_type": "markdown",
   "metadata": {},
   "source": [
    "Мы расчитали количество сессий и время,проведенное в приложении для каждого пользователя, затем получили медиану и среднее количество сессий на пользотеля: резутаты примерно сходятся - в месяц пользователь проводит в приложении примерно *2 сессии* или *1 - 1,5 часа*. Для специфики нашего приложения это нормальный результат - примерно за это время пользователь может найти то,что его интресует, рассмотрть варианты и принять решение о покупке."
   ]
  },
  {
   "cell_type": "markdown",
   "metadata": {},
   "source": [
    "По столбчатой диаграмме мы увидели, что самым частоповторяющимся событием является *tips_show* (пользователь увидел рекомендованные объявления) - мы предположили, что рекомендации для пользователя находятся на главной странице, и, открыв приложение, пользователь автоматически попадает на них. "
   ]
  },
  {
   "cell_type": "markdown",
   "metadata": {},
   "source": [
    "Далее с огромным отрывом идет *photos_show* (просмотр фотографий в объявлении), хотя, следуя логике, на втором месте должен был бы идти поиск. Однако, видно, что *search* совсем не популярное событие. Мы сделали вывод, что кнопка поиска расположена в нашем приложении не совсем очевидно для пользователей (кроме *search_1*). Они гораздо охотнее просто просматривают фото. "
   ]
  },
  {
   "cell_type": "markdown",
   "metadata": {},
   "source": [
    "Далее с примерно одинаковыми показателями идут события *advert_open* (открытие карточки объявления), *contacts_show* (пользователь нажал на кнопку \"посмотреть номер телефона\" на карточке объявления), *map* (пользователь открыл карту размещенных объявлений) и *search_1*. Здесь мы отметили, что гораздо чаще пользователи просматривают контакты, а не совершают звонки через приложение(у события *contacts_call* совсем небольшие показатели - очевидно, пользователи либо звонят \"по-старинке\", либо (как больше принято в последнее время) используют мессенджеры)."
   ]
  },
  {
   "cell_type": "markdown",
   "metadata": {},
   "source": [
    "Мы расчитали конверсию в целевое действие(просмотр контактов): по нашим расчетам до этого события доходят *~23%* пользователей. *77%* -  достаточно большой отток от общего количества пришедших к нам пользователей. Этому может быть несколько причин:\n",
    "\n",
    "*  *пользователь \"теряется\" в большом количестве рекомендаций* - в длинной ленте объявлений пользователь может надолго \"зависнуть\" и отложить целенаправленный поиск и, соответственно, отклик на объявление;\n",
    "\n",
    "*  *управление приложением не достаточно интуитивно* - возможно, путь пользователя в приложении более \"тернист\", чем кажется, и стоит подумать над его упрощением."
   ]
  },
  {
   "cell_type": "markdown",
   "metadata": {},
   "source": [
    "Мы отсортировали пользователей по *7 признакам*:\n",
    "\n",
    "*  **по источнику, с которого пользователь установил приложение;**\n",
    "\n",
    "*  **по пользователям, позвонившим по номеру телефона на карточке объявления;**\n",
    "\n",
    "*  **по пользователям, которые пользовались поиском;**\n",
    "\n",
    "*  **по пользователям, кликнувшим по рекомендованным объявлениям;**\n",
    "\n",
    "*  **по пользователям, открывшим карточки объявления;**\n",
    "\n",
    "*  **по пользователям, просмотревшим рекомендации;**\n",
    "\n",
    "*  **по пользователям, открывшим карту размещенных объявлений.**"
   ]
  },
  {
   "cell_type": "markdown",
   "metadata": {},
   "source": [
    "По расчитанным выше метрикам рассмотрели их поведение."
   ]
  },
  {
   "cell_type": "markdown",
   "metadata": {},
   "source": [
    "**По источнику, с которого пользователь установил приложение:** по показателям отфильтрованных по источникам групп видим, что больше пользователей, установивших приложение через *Яндекс*. Конверсия в целевое действие у этой группы и у группы *Google* почти одинаковые - *~24%*, у группы пользователей, установивших приложение с других источников меньше - *18%*. Коэффициент удержания, во всех группах примерно одинаковый - к последней неделе он достаточно низкий у всех, однако в группе *Яндекса* на *2% меньше*, то есть меньше пользователей , установивших наше приложение через *Яндекс* остается с нами."
   ]
  },
  {
   "cell_type": "markdown",
   "metadata": {},
   "source": [
    "**По пользователям, позвонившим по номеру телефона на карточке объявления:** эта группа очень малочислена - всего *213 пользователей*, однако, они проводят достаточно много времени в приложении - в среднем *4 сессии*, т.е. 2 часа, а по медиане  показатель проведенного в приложении маленький - *около 2 минут*. В среднем пользователь совершает 19 действий в приложении. Конверсия в целевое действие, естественно, *100%* . Доля \"оставшихся\" с нашим приложением пользователей в этой группе составляет *9%* - в сравнении в другими группами это не самый низкий показатель. "
   ]
  },
  {
   "cell_type": "markdown",
   "metadata": {},
   "source": [
    "**По пользователям, которые пользовались поиском:** доля пользователей от общего числа составляет *38%* - не такая маленькая группа. В среднем пользователи проводят в приложении *~5,5 минут*. В среднем пользователи совершают 20 действий - небольшой результат по сравнению с другими группами. В этой группе стоит отметить, что показатель ***Retention Rate*** самый высокий среди групп - *12%*. Можно предположить, что эти пользователи более стабильны, чем в других группах. Это предположение подтверждает то, что конверсия в целевое действие в этой группе не так мала - почти *23%*, то есть люди, пользующиеся поиском, все же достигают цели и переходят в контакты. "
   ]
  },
  {
   "cell_type": "markdown",
   "metadata": {},
   "source": [
    "**По пользователям, кликнувшим по рекомендованным объявлениям:** эта группа несколько похожа на группу пользователей, совершивших звонки через приложение -  небольшая - всего *7,5%* от общего числа пользователей. Однако, здесь пользователи тоже провели довольно много времени в приложении - на пользователя приходится примерно *4 сессии*, количество проведенного времени в приложении - *~8,5 минут*, что довольно много. Также показатель количества действий, совершенных пользователем, в этой группе высок - *в среднем 39 действий*. В этой группе доля пользователей, просмотревших контакты не так мала - *31%* от числа пользователей в группе."
   ]
  },
  {
   "cell_type": "markdown",
   "metadata": {},
   "source": [
    "**По пользователям, открывшим карточки объявления**: небольшая группа - *17%* от общего количества пользователей. Здесь конверсия в целевое действие показывает неплохой результат -  *18%*. Показатель времени, проведенного в приложении, в этой группе достаточно велик - *почти 7,5 минут*, *3 сессии на пользователя* в среднем. В этой группе также совершают много действий - в среднем *32 действия на пользователя*. Зато ***Retention Rate*** в сравнении с другими группами показывает самый высокий результат - *14%*."
   ]
  },
  {
   "cell_type": "markdown",
   "metadata": {},
   "source": [
    "**По пользователям, просмотревшим рекомендации:** самая большая по численности группа *65%* от общего числа пользователей. Среднее время, проведенное в приложении - *~7,5 минут*. В этой группе, несмотря на ее большую численность, небольшой показатель среднего количества действий на пользователя - *20*, это может подтвердить нашу догатдку о том, что пользователи \"зависают\" на этом шаге. Конверсия в просмотр контактов также *18%*. Однако. коэффициент удержания совсем низкий - всего *7%*, что говорит о нестабильности этой группы."
   ]
  },
  {
   "cell_type": "markdown",
   "metadata": {},
   "source": [
    "**По пользователям, открывшим карту размещенных объявлений:** эта группа тоже достаточно большая по размеру - *33%* от общего количества пользователей. В среднем пользователи проводят в приложении примерно *8,5 минут* - один из самых высоких показателей среди групп. Конверсия в целевое действие *20%* от числа пользователей в группе. Здесь, по сравнению с другими группами, достаточно неплохой результат по метрике ***Ratention Rate*** - *10%* пользователей из первой когорты (то есть начавших использовать приложение в начале изучаемого нами периода) продолжают использование и по окончании предложенного нам для исследования временного отрезка."
   ]
  },
  {
   "cell_type": "markdown",
   "metadata": {},
   "source": [
    "Анализируя результаты расчетов групп, можно отметить следующее:\n",
    "\n",
    "*  *нужно привлекать больше пользователей с таких источников, как **Яндекс** и **Google** - эти группы показывают неплохую(по сравнению с другими группами) конверсию в просмотр контактов;*\n",
    "\n",
    "*  *группа, используящая поиск по приложению, довольно стабильна, однако следует поработать над   упрощением этой функции - сама по себе группа не очень многочислена*;\n",
    "\n",
    "*  *больше пользователей размещают объявления, нежели просматривают чужие*."
   ]
  },
  {
   "cell_type": "markdown",
   "metadata": {},
   "source": [
    "Также мы проверили гипотезы следующие гипотезы:\n",
    "\n",
    "**Н0: \"Конверсии групп Google и Яндекс в просмотр контактов равны с точки зрения равенства долей\".**\n",
    "\n",
    "**Н0: \"Среднее время, проведенное в приложении, у групп пользователей ,совершивших целевое действие(просмотр контактов) и не совершивших его, равно\".**"
   ]
  },
  {
   "cell_type": "markdown",
   "metadata": {},
   "source": [
    "Гипотезу о различии конверсий у групп пользователей, пришедших с *Google* и *Яндекс*, мы проверяли с помощью **z-test-a**.  Из 14 проверок 10 выявили между долями значимую разницу. Мы отвергаем нулевую гипотезу и делаем вывод, что *конверсии групп Google и Яндекс в просмотр контактов различаются*"
   ]
  },
  {
   "cell_type": "markdown",
   "metadata": {},
   "source": [
    "Также мы сформулировали гипотезу о различии среднего времени, проведенном в приложении, у групп пользователей ,совершивших целевое действие(просмотр контактов) и не совершивших его. Эту гипотезу мы проверяли с помощью **t-test-a**. По результатам проверки мы отвергли нулевую гипотезу и сделали предположение, что среднее время, проведенное в приложении, у групп пользователей ,совершивших целевое действие(просмотр контактов) и не совершивших его, различается."
   ]
  },
  {
   "cell_type": "markdown",
   "metadata": {},
   "source": [
    "### 5.2. Рекомендации"
   ]
  },
  {
   "cell_type": "markdown",
   "metadata": {},
   "source": [
    "1. *Следует обратить внимание на кнопку поиска, возможно, сделать ее рядом с рекомендациями, более заметной для пользователя* - оказывась на главной странице приложения, автоматически попадает в рекомендации. Однако, среди тех, кто использует поиск, довольная большая (по сравнению с другими группами) конверсия в просмотр контактов - то есть, используя поиск, людям важно достичь цели - найти нужную им вещь и связаться с продавцом. У пользователей, просто листающих рекомендации, может не быть цели что-то купить."
   ]
  },
  {
   "cell_type": "markdown",
   "metadata": {},
   "source": [
    "2. *Поработать над привлечением большего количества пользователей* - по специфике нашего приложения можно сделать предположение, что чем быстрее пользователь нашел то,что ему нужно - тем лучше, значит мы смогли сделать его максимально удобным для поиска. Поэтому следует работать не над увеличением времени, проведенного пользователем в приложении, а над увеличением количества пользователей."
   ]
  },
  {
   "cell_type": "markdown",
   "metadata": {},
   "source": [
    "3. *Поработать над привлечением большего количества пользователей с источника \"Google\"* - эта группа пользователей показала лучший показатель ***Retention Rate*** (коэффициент удержания), чем группа, установивших приложение через *Яндекс*. "
   ]
  },
  {
   "cell_type": "markdown",
   "metadata": {},
   "source": [
    "4. *Подумать над способами удержания старых пользователей* - например, разработать премиум - подписку, которое будет повышать в рейтинге размещенные пользователями объявления (пробный бесплатный период - 7 дней). "
   ]
  }
 ],
 "metadata": {
  "kernelspec": {
   "display_name": "Python 3",
   "language": "python",
   "name": "python3"
  },
  "language_info": {
   "codemirror_mode": {
    "name": "ipython",
    "version": 3
   },
   "file_extension": ".py",
   "mimetype": "text/x-python",
   "name": "python",
   "nbconvert_exporter": "python",
   "pygments_lexer": "ipython3",
   "version": "3.8.5"
  },
  "toc": {
   "base_numbering": 1,
   "nav_menu": {},
   "number_sections": false,
   "sideBar": true,
   "skip_h1_title": false,
   "title_cell": "План исследования",
   "title_sidebar": "Contents",
   "toc_cell": true,
   "toc_position": {
    "height": "calc(100% - 180px)",
    "left": "10px",
    "top": "150px",
    "width": "179.183px"
   },
   "toc_section_display": true,
   "toc_window_display": true
  }
 },
 "nbformat": 4,
 "nbformat_minor": 2
}
